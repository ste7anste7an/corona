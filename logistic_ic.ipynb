{
 "cells": [
  {
   "cell_type": "code",
   "execution_count": 18,
   "metadata": {},
   "outputs": [
    {
     "name": "stdout",
     "output_type": "stream",
     "text": [
      "········\n"
     ]
    }
   ],
   "source": [
    "import getpass\n",
    "import os\n",
    "import pandas as pd\n",
    "import numpy as np\n",
    "import urllib.request\n",
    "import chart_studio\n",
    "import chart_studio.plotly as py\n",
    "import plotly.graph_objects as go\n",
    "from lmfit import Model\n",
    "import matplotlib.pyplot as plt\n",
    "\n",
    "from datetime import datetime\n",
    "from datetime import timedelta  \n",
    "import requests\n",
    "import json\n",
    "from io import StringIO\n",
    "\n",
    "user=\"u410d\"\n",
    "#user=\"decimapc\"\n",
    "os.environ[\"GOOGLE_APPLICATION_CREDENTIALS\"]=\"C:/Users/%s/Google Drive/stefan/corona/max-elv-b92a39d5f6f2.json\"%user\n",
    "\n",
    "\n",
    "password = getpass.getpass()\n",
    "def xor(s,t):\n",
    "    return \"\".join(chr(ord(a)^ord(b)) for a,b in zip(s,t))\n",
    "\n",
    "api_key=xor('z=6U%Az:W1*]\\x1aYG\\x08v&2J',password*3)\n",
    "\n",
    "chart_studio.tools.set_credentials_file(username='spammie', api_key=api_key)\n",
    "\n",
    "\n",
    "def expand_date(lastdate,n=7):\n",
    "    lastdate_object = lastdate\n",
    "    d=[]\n",
    "    for i in range(n):\n",
    "        nd=lastdate_object+timedelta(days=i+1)\n",
    "        #d.append(nd.strftime(\"%m/%d/%y\"))\n",
    "        d.append(nd)\n",
    "    return d\n",
    "\n",
    "def expand_pd_date(lastdate,n=7):\n",
    "    lastdate_object = lastdate\n",
    "    d=[]\n",
    "    for i in range(n):\n",
    "        nd=lastdate_object+timedelta(days=i+1)\n",
    "        #d.append(nd.strftime(\"%m/%d/%y\"))\n",
    "        d.append(pd.Timestamp(nd))\n",
    "    return d\n"
   ]
  },
  {
   "cell_type": "code",
   "execution_count": 22,
   "metadata": {},
   "outputs": [
    {
     "data": {
      "text/plain": [
       "b'in-ziekenhuis-opgenomen-pati\\xc3\\xabnten-2020-04-12.csv'"
      ]
     },
     "execution_count": 22,
     "metadata": {},
     "output_type": "execute_result"
    }
   ],
   "source": [
    "filen_ziek.encode('utf-8')"
   ]
  },
  {
   "cell_type": "code",
   "execution_count": 25,
   "metadata": {
    "scrolled": true
   },
   "outputs": [
    {
     "data": {
      "text/html": [
       "<div>\n",
       "<style scoped>\n",
       "    .dataframe tbody tr th:only-of-type {\n",
       "        vertical-align: middle;\n",
       "    }\n",
       "\n",
       "    .dataframe tbody tr th {\n",
       "        vertical-align: top;\n",
       "    }\n",
       "\n",
       "    .dataframe thead th {\n",
       "        text-align: right;\n",
       "    }\n",
       "</style>\n",
       "<table border=\"1\" class=\"dataframe\">\n",
       "  <thead>\n",
       "    <tr style=\"text-align: right;\">\n",
       "      <th></th>\n",
       "      <th>datum</th>\n",
       "      <th>nieuw</th>\n",
       "      <th>oud</th>\n",
       "      <th>toename</th>\n",
       "      <th>totaal</th>\n",
       "      <th>date</th>\n",
       "    </tr>\n",
       "  </thead>\n",
       "  <tbody>\n",
       "    <tr>\n",
       "      <th>0</th>\n",
       "      <td>27/02/2020</td>\n",
       "      <td>0</td>\n",
       "      <td>0</td>\n",
       "      <td>0</td>\n",
       "      <td>0</td>\n",
       "      <td>2020-02-27</td>\n",
       "    </tr>\n",
       "    <tr>\n",
       "      <th>1</th>\n",
       "      <td>28/02/2020</td>\n",
       "      <td>0</td>\n",
       "      <td>0</td>\n",
       "      <td>0</td>\n",
       "      <td>0</td>\n",
       "      <td>2020-02-28</td>\n",
       "    </tr>\n",
       "    <tr>\n",
       "      <th>2</th>\n",
       "      <td>29/02/2020</td>\n",
       "      <td>0</td>\n",
       "      <td>0</td>\n",
       "      <td>0</td>\n",
       "      <td>0</td>\n",
       "      <td>2020-02-29</td>\n",
       "    </tr>\n",
       "    <tr>\n",
       "      <th>3</th>\n",
       "      <td>1/03/2020</td>\n",
       "      <td>0</td>\n",
       "      <td>0</td>\n",
       "      <td>0</td>\n",
       "      <td>0</td>\n",
       "      <td>2020-03-01</td>\n",
       "    </tr>\n",
       "    <tr>\n",
       "      <th>4</th>\n",
       "      <td>2/03/2020</td>\n",
       "      <td>0</td>\n",
       "      <td>0</td>\n",
       "      <td>0</td>\n",
       "      <td>0</td>\n",
       "      <td>2020-03-02</td>\n",
       "    </tr>\n",
       "    <tr>\n",
       "      <th>5</th>\n",
       "      <td>3/03/2020</td>\n",
       "      <td>0</td>\n",
       "      <td>0</td>\n",
       "      <td>0</td>\n",
       "      <td>0</td>\n",
       "      <td>2020-03-03</td>\n",
       "    </tr>\n",
       "    <tr>\n",
       "      <th>6</th>\n",
       "      <td>4/03/2020</td>\n",
       "      <td>0</td>\n",
       "      <td>0</td>\n",
       "      <td>0</td>\n",
       "      <td>0</td>\n",
       "      <td>2020-03-04</td>\n",
       "    </tr>\n",
       "    <tr>\n",
       "      <th>7</th>\n",
       "      <td>5/03/2020</td>\n",
       "      <td>0</td>\n",
       "      <td>0</td>\n",
       "      <td>0</td>\n",
       "      <td>0</td>\n",
       "      <td>2020-03-05</td>\n",
       "    </tr>\n",
       "    <tr>\n",
       "      <th>8</th>\n",
       "      <td>6/03/2020</td>\n",
       "      <td>0</td>\n",
       "      <td>1</td>\n",
       "      <td>1</td>\n",
       "      <td>1</td>\n",
       "      <td>2020-03-06</td>\n",
       "    </tr>\n",
       "    <tr>\n",
       "      <th>9</th>\n",
       "      <td>7/03/2020</td>\n",
       "      <td>0</td>\n",
       "      <td>1</td>\n",
       "      <td>1</td>\n",
       "      <td>2</td>\n",
       "      <td>2020-03-07</td>\n",
       "    </tr>\n",
       "    <tr>\n",
       "      <th>10</th>\n",
       "      <td>8/03/2020</td>\n",
       "      <td>0</td>\n",
       "      <td>2</td>\n",
       "      <td>2</td>\n",
       "      <td>4</td>\n",
       "      <td>2020-03-08</td>\n",
       "    </tr>\n",
       "    <tr>\n",
       "      <th>11</th>\n",
       "      <td>9/03/2020</td>\n",
       "      <td>0</td>\n",
       "      <td>1</td>\n",
       "      <td>1</td>\n",
       "      <td>5</td>\n",
       "      <td>2020-03-09</td>\n",
       "    </tr>\n",
       "    <tr>\n",
       "      <th>12</th>\n",
       "      <td>10/03/2020</td>\n",
       "      <td>0</td>\n",
       "      <td>1</td>\n",
       "      <td>1</td>\n",
       "      <td>6</td>\n",
       "      <td>2020-03-10</td>\n",
       "    </tr>\n",
       "    <tr>\n",
       "      <th>13</th>\n",
       "      <td>11/03/2020</td>\n",
       "      <td>0</td>\n",
       "      <td>2</td>\n",
       "      <td>2</td>\n",
       "      <td>8</td>\n",
       "      <td>2020-03-11</td>\n",
       "    </tr>\n",
       "    <tr>\n",
       "      <th>14</th>\n",
       "      <td>12/03/2020</td>\n",
       "      <td>0</td>\n",
       "      <td>3</td>\n",
       "      <td>3</td>\n",
       "      <td>11</td>\n",
       "      <td>2020-03-12</td>\n",
       "    </tr>\n",
       "    <tr>\n",
       "      <th>15</th>\n",
       "      <td>13/03/2020</td>\n",
       "      <td>0</td>\n",
       "      <td>6</td>\n",
       "      <td>6</td>\n",
       "      <td>17</td>\n",
       "      <td>2020-03-13</td>\n",
       "    </tr>\n",
       "    <tr>\n",
       "      <th>16</th>\n",
       "      <td>14/03/2020</td>\n",
       "      <td>0</td>\n",
       "      <td>10</td>\n",
       "      <td>10</td>\n",
       "      <td>27</td>\n",
       "      <td>2020-03-14</td>\n",
       "    </tr>\n",
       "    <tr>\n",
       "      <th>17</th>\n",
       "      <td>15/03/2020</td>\n",
       "      <td>0</td>\n",
       "      <td>14</td>\n",
       "      <td>14</td>\n",
       "      <td>41</td>\n",
       "      <td>2020-03-15</td>\n",
       "    </tr>\n",
       "    <tr>\n",
       "      <th>18</th>\n",
       "      <td>16/03/2020</td>\n",
       "      <td>0</td>\n",
       "      <td>23</td>\n",
       "      <td>23</td>\n",
       "      <td>64</td>\n",
       "      <td>2020-03-16</td>\n",
       "    </tr>\n",
       "    <tr>\n",
       "      <th>19</th>\n",
       "      <td>17/03/2020</td>\n",
       "      <td>0</td>\n",
       "      <td>22</td>\n",
       "      <td>22</td>\n",
       "      <td>86</td>\n",
       "      <td>2020-03-17</td>\n",
       "    </tr>\n",
       "    <tr>\n",
       "      <th>20</th>\n",
       "      <td>18/03/2020</td>\n",
       "      <td>0</td>\n",
       "      <td>20</td>\n",
       "      <td>20</td>\n",
       "      <td>106</td>\n",
       "      <td>2020-03-18</td>\n",
       "    </tr>\n",
       "    <tr>\n",
       "      <th>21</th>\n",
       "      <td>19/03/2020</td>\n",
       "      <td>0</td>\n",
       "      <td>43</td>\n",
       "      <td>43</td>\n",
       "      <td>149</td>\n",
       "      <td>2020-03-19</td>\n",
       "    </tr>\n",
       "    <tr>\n",
       "      <th>22</th>\n",
       "      <td>20/03/2020</td>\n",
       "      <td>0</td>\n",
       "      <td>55</td>\n",
       "      <td>55</td>\n",
       "      <td>204</td>\n",
       "      <td>2020-03-20</td>\n",
       "    </tr>\n",
       "    <tr>\n",
       "      <th>23</th>\n",
       "      <td>21/03/2020</td>\n",
       "      <td>0</td>\n",
       "      <td>61</td>\n",
       "      <td>61</td>\n",
       "      <td>265</td>\n",
       "      <td>2020-03-21</td>\n",
       "    </tr>\n",
       "    <tr>\n",
       "      <th>24</th>\n",
       "      <td>22/03/2020</td>\n",
       "      <td>1</td>\n",
       "      <td>59</td>\n",
       "      <td>60</td>\n",
       "      <td>325</td>\n",
       "      <td>2020-03-22</td>\n",
       "    </tr>\n",
       "    <tr>\n",
       "      <th>25</th>\n",
       "      <td>23/03/2020</td>\n",
       "      <td>0</td>\n",
       "      <td>85</td>\n",
       "      <td>85</td>\n",
       "      <td>410</td>\n",
       "      <td>2020-03-23</td>\n",
       "    </tr>\n",
       "    <tr>\n",
       "      <th>26</th>\n",
       "      <td>24/03/2020</td>\n",
       "      <td>0</td>\n",
       "      <td>74</td>\n",
       "      <td>74</td>\n",
       "      <td>484</td>\n",
       "      <td>2020-03-24</td>\n",
       "    </tr>\n",
       "    <tr>\n",
       "      <th>27</th>\n",
       "      <td>25/03/2020</td>\n",
       "      <td>1</td>\n",
       "      <td>106</td>\n",
       "      <td>107</td>\n",
       "      <td>591</td>\n",
       "      <td>2020-03-25</td>\n",
       "    </tr>\n",
       "    <tr>\n",
       "      <th>28</th>\n",
       "      <td>26/03/2020</td>\n",
       "      <td>0</td>\n",
       "      <td>122</td>\n",
       "      <td>122</td>\n",
       "      <td>713</td>\n",
       "      <td>2020-03-26</td>\n",
       "    </tr>\n",
       "    <tr>\n",
       "      <th>29</th>\n",
       "      <td>27/03/2020</td>\n",
       "      <td>0</td>\n",
       "      <td>105</td>\n",
       "      <td>105</td>\n",
       "      <td>818</td>\n",
       "      <td>2020-03-27</td>\n",
       "    </tr>\n",
       "    <tr>\n",
       "      <th>30</th>\n",
       "      <td>28/03/2020</td>\n",
       "      <td>0</td>\n",
       "      <td>146</td>\n",
       "      <td>146</td>\n",
       "      <td>964</td>\n",
       "      <td>2020-03-28</td>\n",
       "    </tr>\n",
       "    <tr>\n",
       "      <th>31</th>\n",
       "      <td>29/03/2020</td>\n",
       "      <td>0</td>\n",
       "      <td>115</td>\n",
       "      <td>115</td>\n",
       "      <td>1079</td>\n",
       "      <td>2020-03-29</td>\n",
       "    </tr>\n",
       "    <tr>\n",
       "      <th>32</th>\n",
       "      <td>30/03/2020</td>\n",
       "      <td>0</td>\n",
       "      <td>147</td>\n",
       "      <td>147</td>\n",
       "      <td>1226</td>\n",
       "      <td>2020-03-30</td>\n",
       "    </tr>\n",
       "    <tr>\n",
       "      <th>33</th>\n",
       "      <td>31/03/2020</td>\n",
       "      <td>3</td>\n",
       "      <td>155</td>\n",
       "      <td>158</td>\n",
       "      <td>1384</td>\n",
       "      <td>2020-03-31</td>\n",
       "    </tr>\n",
       "    <tr>\n",
       "      <th>34</th>\n",
       "      <td>1/04/2020</td>\n",
       "      <td>0</td>\n",
       "      <td>152</td>\n",
       "      <td>152</td>\n",
       "      <td>1536</td>\n",
       "      <td>2020-04-01</td>\n",
       "    </tr>\n",
       "    <tr>\n",
       "      <th>35</th>\n",
       "      <td>2/04/2020</td>\n",
       "      <td>0</td>\n",
       "      <td>158</td>\n",
       "      <td>158</td>\n",
       "      <td>1694</td>\n",
       "      <td>2020-04-02</td>\n",
       "    </tr>\n",
       "    <tr>\n",
       "      <th>36</th>\n",
       "      <td>3/04/2020</td>\n",
       "      <td>0</td>\n",
       "      <td>150</td>\n",
       "      <td>150</td>\n",
       "      <td>1844</td>\n",
       "      <td>2020-04-03</td>\n",
       "    </tr>\n",
       "    <tr>\n",
       "      <th>37</th>\n",
       "      <td>4/04/2020</td>\n",
       "      <td>6</td>\n",
       "      <td>143</td>\n",
       "      <td>149</td>\n",
       "      <td>1993</td>\n",
       "      <td>2020-04-04</td>\n",
       "    </tr>\n",
       "    <tr>\n",
       "      <th>38</th>\n",
       "      <td>5/04/2020</td>\n",
       "      <td>3</td>\n",
       "      <td>139</td>\n",
       "      <td>142</td>\n",
       "      <td>2135</td>\n",
       "      <td>2020-04-05</td>\n",
       "    </tr>\n",
       "    <tr>\n",
       "      <th>39</th>\n",
       "      <td>6/04/2020</td>\n",
       "      <td>2</td>\n",
       "      <td>142</td>\n",
       "      <td>144</td>\n",
       "      <td>2279</td>\n",
       "      <td>2020-04-06</td>\n",
       "    </tr>\n",
       "    <tr>\n",
       "      <th>40</th>\n",
       "      <td>7/04/2020</td>\n",
       "      <td>2</td>\n",
       "      <td>131</td>\n",
       "      <td>133</td>\n",
       "      <td>2412</td>\n",
       "      <td>2020-04-07</td>\n",
       "    </tr>\n",
       "    <tr>\n",
       "      <th>41</th>\n",
       "      <td>8/04/2020</td>\n",
       "      <td>4</td>\n",
       "      <td>117</td>\n",
       "      <td>121</td>\n",
       "      <td>2533</td>\n",
       "      <td>2020-04-08</td>\n",
       "    </tr>\n",
       "    <tr>\n",
       "      <th>42</th>\n",
       "      <td>9/04/2020</td>\n",
       "      <td>7</td>\n",
       "      <td>78</td>\n",
       "      <td>85</td>\n",
       "      <td>2618</td>\n",
       "      <td>2020-04-09</td>\n",
       "    </tr>\n",
       "    <tr>\n",
       "      <th>43</th>\n",
       "      <td>10/04/2020</td>\n",
       "      <td>41</td>\n",
       "      <td>44</td>\n",
       "      <td>85</td>\n",
       "      <td>2703</td>\n",
       "      <td>2020-04-10</td>\n",
       "    </tr>\n",
       "    <tr>\n",
       "      <th>44</th>\n",
       "      <td>11/04/2020</td>\n",
       "      <td>23</td>\n",
       "      <td>1</td>\n",
       "      <td>24</td>\n",
       "      <td>2727</td>\n",
       "      <td>2020-04-11</td>\n",
       "    </tr>\n",
       "    <tr>\n",
       "      <th>45</th>\n",
       "      <td>12/04/2020</td>\n",
       "      <td>0</td>\n",
       "      <td>0</td>\n",
       "      <td>0</td>\n",
       "      <td>2727</td>\n",
       "      <td>2020-04-12</td>\n",
       "    </tr>\n",
       "  </tbody>\n",
       "</table>\n",
       "</div>"
      ],
      "text/plain": [
       "         datum  nieuw  oud  toename  totaal       date\n",
       "0   27/02/2020      0    0        0       0 2020-02-27\n",
       "1   28/02/2020      0    0        0       0 2020-02-28\n",
       "2   29/02/2020      0    0        0       0 2020-02-29\n",
       "3    1/03/2020      0    0        0       0 2020-03-01\n",
       "4    2/03/2020      0    0        0       0 2020-03-02\n",
       "5    3/03/2020      0    0        0       0 2020-03-03\n",
       "6    4/03/2020      0    0        0       0 2020-03-04\n",
       "7    5/03/2020      0    0        0       0 2020-03-05\n",
       "8    6/03/2020      0    1        1       1 2020-03-06\n",
       "9    7/03/2020      0    1        1       2 2020-03-07\n",
       "10   8/03/2020      0    2        2       4 2020-03-08\n",
       "11   9/03/2020      0    1        1       5 2020-03-09\n",
       "12  10/03/2020      0    1        1       6 2020-03-10\n",
       "13  11/03/2020      0    2        2       8 2020-03-11\n",
       "14  12/03/2020      0    3        3      11 2020-03-12\n",
       "15  13/03/2020      0    6        6      17 2020-03-13\n",
       "16  14/03/2020      0   10       10      27 2020-03-14\n",
       "17  15/03/2020      0   14       14      41 2020-03-15\n",
       "18  16/03/2020      0   23       23      64 2020-03-16\n",
       "19  17/03/2020      0   22       22      86 2020-03-17\n",
       "20  18/03/2020      0   20       20     106 2020-03-18\n",
       "21  19/03/2020      0   43       43     149 2020-03-19\n",
       "22  20/03/2020      0   55       55     204 2020-03-20\n",
       "23  21/03/2020      0   61       61     265 2020-03-21\n",
       "24  22/03/2020      1   59       60     325 2020-03-22\n",
       "25  23/03/2020      0   85       85     410 2020-03-23\n",
       "26  24/03/2020      0   74       74     484 2020-03-24\n",
       "27  25/03/2020      1  106      107     591 2020-03-25\n",
       "28  26/03/2020      0  122      122     713 2020-03-26\n",
       "29  27/03/2020      0  105      105     818 2020-03-27\n",
       "30  28/03/2020      0  146      146     964 2020-03-28\n",
       "31  29/03/2020      0  115      115    1079 2020-03-29\n",
       "32  30/03/2020      0  147      147    1226 2020-03-30\n",
       "33  31/03/2020      3  155      158    1384 2020-03-31\n",
       "34   1/04/2020      0  152      152    1536 2020-04-01\n",
       "35   2/04/2020      0  158      158    1694 2020-04-02\n",
       "36   3/04/2020      0  150      150    1844 2020-04-03\n",
       "37   4/04/2020      6  143      149    1993 2020-04-04\n",
       "38   5/04/2020      3  139      142    2135 2020-04-05\n",
       "39   6/04/2020      2  142      144    2279 2020-04-06\n",
       "40   7/04/2020      2  131      133    2412 2020-04-07\n",
       "41   8/04/2020      4  117      121    2533 2020-04-08\n",
       "42   9/04/2020      7   78       85    2618 2020-04-09\n",
       "43  10/04/2020     41   44       85    2703 2020-04-10\n",
       "44  11/04/2020     23    1       24    2727 2020-04-11\n",
       "45  12/04/2020      0    0        0    2727 2020-04-12"
      ]
     },
     "execution_count": 25,
     "metadata": {},
     "output_type": "execute_result"
    }
   ],
   "source": [
    "import datetime\n",
    "import urllib\n",
    "dateparse = lambda x: (x.replace(' ','').replace(\"feb\",\"/02/2020\").replace('mrt','/03/2020').replace('apr','/04/2020'))\n",
    "\n",
    "\n",
    "today=datetime.datetime.now()\n",
    "datestr=today.strftime(\"%Y-%m-%d\")\n",
    "github=\"https://raw.githubusercontent.com/J535D165/CoronaWatchNL/master/raw_data/website_charts/\"\n",
    "#https://raw.githubusercontent.com/J535D165/CoronaWatchNL/master/raw_data/website_charts/overledenen-per-dag-2020-04-12.csv\n",
    "filen_overl=\"overledenen-per-dag-%s.csv\"%datestr\n",
    "\n",
    "\n",
    "#https://raw.githubusercontent.com/J535D165/CoronaWatchNL/master/raw_data/website_charts/in-ziekenhuis-opgenomen-pati%C3%ABnten-2020-04-12.csv\n",
    "filen_ziek=\"in-ziekenhuis-opgenomen-patiënten-%s.csv\"%datestr\n",
    "filen_ziek=urllib.parse.quote(filen_ziek)\n",
    "df_ziek=pd.read_csv(github+filen_ziek, sep=\";\")\n",
    "df_ziek=df_ziek.rename(columns={'GGD-meldingsdatum':'datum','tot en met gisteren':'oud'})\n",
    "df_ziek['datum']=df_ziek['datum'].apply(dateparse)\n",
    "df_ziek['toename']=df_ziek['nieuw']+df_ziek['oud']\n",
    "#df_ziek['totaal']=df['toename'].cumsum()\n",
    "df_ziek['totaal']=df_ziek['toename'].cumsum()\n",
    "#df_ziek.plot(x='datum',y='totaal')\n",
    "df_ziek['date']= pd.to_datetime(df_ziek.datum, format='%d/%m/%Y')\n",
    "df_ziek\n",
    "\n",
    "df_deaths=pd.read_csv(github+filen_overl, sep=\";\")\n",
    "df_deaths=df_deaths.rename(columns={'Datum van overlijden':'datum','tot en met gisteren':'oud'})\n",
    "df_deaths['datum']=df_deaths['datum'].apply(dateparse)\n",
    "df_deaths['toename']=df_deaths['nieuw']+df_deaths['oud']\n",
    "#df_ziek['totaal']=df['toename'].cumsum()\n",
    "df_deaths['totaal']=df_deaths['toename'].cumsum()\n",
    "#df_ziek.plot(x='datum',y='totaal')\n",
    "df_deaths['date']= pd.to_datetime(df_deaths.datum, format='%d/%m/%Y')\n",
    "df_deaths\n"
   ]
  },
  {
   "cell_type": "code",
   "execution_count": 26,
   "metadata": {},
   "outputs": [
    {
     "data": {
      "text/html": [
       "<div>\n",
       "<style scoped>\n",
       "    .dataframe tbody tr th:only-of-type {\n",
       "        vertical-align: middle;\n",
       "    }\n",
       "\n",
       "    .dataframe tbody tr th {\n",
       "        vertical-align: top;\n",
       "    }\n",
       "\n",
       "    .dataframe thead th {\n",
       "        text-align: right;\n",
       "    }\n",
       "</style>\n",
       "<table border=\"1\" class=\"dataframe\">\n",
       "  <thead>\n",
       "    <tr style=\"text-align: right;\">\n",
       "      <th></th>\n",
       "      <th>datum</th>\n",
       "      <th>nieuw</th>\n",
       "      <th>oud</th>\n",
       "      <th>toename</th>\n",
       "      <th>totaal</th>\n",
       "      <th>date</th>\n",
       "    </tr>\n",
       "  </thead>\n",
       "  <tbody>\n",
       "    <tr>\n",
       "      <th>0</th>\n",
       "      <td>27/02/2020</td>\n",
       "      <td>0</td>\n",
       "      <td>1</td>\n",
       "      <td>1</td>\n",
       "      <td>1</td>\n",
       "      <td>2020-02-27</td>\n",
       "    </tr>\n",
       "    <tr>\n",
       "      <th>1</th>\n",
       "      <td>28/02/2020</td>\n",
       "      <td>0</td>\n",
       "      <td>0</td>\n",
       "      <td>0</td>\n",
       "      <td>1</td>\n",
       "      <td>2020-02-28</td>\n",
       "    </tr>\n",
       "    <tr>\n",
       "      <th>2</th>\n",
       "      <td>29/02/2020</td>\n",
       "      <td>0</td>\n",
       "      <td>2</td>\n",
       "      <td>2</td>\n",
       "      <td>3</td>\n",
       "      <td>2020-02-29</td>\n",
       "    </tr>\n",
       "    <tr>\n",
       "      <th>3</th>\n",
       "      <td>1/03/2020</td>\n",
       "      <td>0</td>\n",
       "      <td>1</td>\n",
       "      <td>1</td>\n",
       "      <td>4</td>\n",
       "      <td>2020-03-01</td>\n",
       "    </tr>\n",
       "    <tr>\n",
       "      <th>4</th>\n",
       "      <td>2/03/2020</td>\n",
       "      <td>0</td>\n",
       "      <td>3</td>\n",
       "      <td>3</td>\n",
       "      <td>7</td>\n",
       "      <td>2020-03-02</td>\n",
       "    </tr>\n",
       "    <tr>\n",
       "      <th>5</th>\n",
       "      <td>3/03/2020</td>\n",
       "      <td>0</td>\n",
       "      <td>6</td>\n",
       "      <td>6</td>\n",
       "      <td>13</td>\n",
       "      <td>2020-03-03</td>\n",
       "    </tr>\n",
       "    <tr>\n",
       "      <th>6</th>\n",
       "      <td>4/03/2020</td>\n",
       "      <td>0</td>\n",
       "      <td>4</td>\n",
       "      <td>4</td>\n",
       "      <td>17</td>\n",
       "      <td>2020-03-04</td>\n",
       "    </tr>\n",
       "    <tr>\n",
       "      <th>7</th>\n",
       "      <td>5/03/2020</td>\n",
       "      <td>0</td>\n",
       "      <td>6</td>\n",
       "      <td>6</td>\n",
       "      <td>23</td>\n",
       "      <td>2020-03-05</td>\n",
       "    </tr>\n",
       "    <tr>\n",
       "      <th>8</th>\n",
       "      <td>6/03/2020</td>\n",
       "      <td>0</td>\n",
       "      <td>6</td>\n",
       "      <td>6</td>\n",
       "      <td>29</td>\n",
       "      <td>2020-03-06</td>\n",
       "    </tr>\n",
       "    <tr>\n",
       "      <th>9</th>\n",
       "      <td>7/03/2020</td>\n",
       "      <td>0</td>\n",
       "      <td>13</td>\n",
       "      <td>13</td>\n",
       "      <td>42</td>\n",
       "      <td>2020-03-07</td>\n",
       "    </tr>\n",
       "    <tr>\n",
       "      <th>10</th>\n",
       "      <td>8/03/2020</td>\n",
       "      <td>0</td>\n",
       "      <td>14</td>\n",
       "      <td>14</td>\n",
       "      <td>56</td>\n",
       "      <td>2020-03-08</td>\n",
       "    </tr>\n",
       "    <tr>\n",
       "      <th>11</th>\n",
       "      <td>9/03/2020</td>\n",
       "      <td>0</td>\n",
       "      <td>17</td>\n",
       "      <td>17</td>\n",
       "      <td>73</td>\n",
       "      <td>2020-03-09</td>\n",
       "    </tr>\n",
       "    <tr>\n",
       "      <th>12</th>\n",
       "      <td>10/03/2020</td>\n",
       "      <td>0</td>\n",
       "      <td>19</td>\n",
       "      <td>19</td>\n",
       "      <td>92</td>\n",
       "      <td>2020-03-10</td>\n",
       "    </tr>\n",
       "    <tr>\n",
       "      <th>13</th>\n",
       "      <td>11/03/2020</td>\n",
       "      <td>0</td>\n",
       "      <td>43</td>\n",
       "      <td>43</td>\n",
       "      <td>135</td>\n",
       "      <td>2020-03-11</td>\n",
       "    </tr>\n",
       "    <tr>\n",
       "      <th>14</th>\n",
       "      <td>12/03/2020</td>\n",
       "      <td>1</td>\n",
       "      <td>42</td>\n",
       "      <td>43</td>\n",
       "      <td>178</td>\n",
       "      <td>2020-03-12</td>\n",
       "    </tr>\n",
       "    <tr>\n",
       "      <th>15</th>\n",
       "      <td>13/03/2020</td>\n",
       "      <td>0</td>\n",
       "      <td>64</td>\n",
       "      <td>64</td>\n",
       "      <td>242</td>\n",
       "      <td>2020-03-13</td>\n",
       "    </tr>\n",
       "    <tr>\n",
       "      <th>16</th>\n",
       "      <td>14/03/2020</td>\n",
       "      <td>0</td>\n",
       "      <td>64</td>\n",
       "      <td>64</td>\n",
       "      <td>306</td>\n",
       "      <td>2020-03-14</td>\n",
       "    </tr>\n",
       "    <tr>\n",
       "      <th>17</th>\n",
       "      <td>15/03/2020</td>\n",
       "      <td>0</td>\n",
       "      <td>78</td>\n",
       "      <td>78</td>\n",
       "      <td>384</td>\n",
       "      <td>2020-03-15</td>\n",
       "    </tr>\n",
       "    <tr>\n",
       "      <th>18</th>\n",
       "      <td>16/03/2020</td>\n",
       "      <td>0</td>\n",
       "      <td>122</td>\n",
       "      <td>122</td>\n",
       "      <td>506</td>\n",
       "      <td>2020-03-16</td>\n",
       "    </tr>\n",
       "    <tr>\n",
       "      <th>19</th>\n",
       "      <td>17/03/2020</td>\n",
       "      <td>0</td>\n",
       "      <td>144</td>\n",
       "      <td>144</td>\n",
       "      <td>650</td>\n",
       "      <td>2020-03-17</td>\n",
       "    </tr>\n",
       "    <tr>\n",
       "      <th>20</th>\n",
       "      <td>18/03/2020</td>\n",
       "      <td>0</td>\n",
       "      <td>174</td>\n",
       "      <td>174</td>\n",
       "      <td>824</td>\n",
       "      <td>2020-03-18</td>\n",
       "    </tr>\n",
       "    <tr>\n",
       "      <th>21</th>\n",
       "      <td>19/03/2020</td>\n",
       "      <td>0</td>\n",
       "      <td>240</td>\n",
       "      <td>240</td>\n",
       "      <td>1064</td>\n",
       "      <td>2020-03-19</td>\n",
       "    </tr>\n",
       "    <tr>\n",
       "      <th>22</th>\n",
       "      <td>20/03/2020</td>\n",
       "      <td>0</td>\n",
       "      <td>306</td>\n",
       "      <td>306</td>\n",
       "      <td>1370</td>\n",
       "      <td>2020-03-20</td>\n",
       "    </tr>\n",
       "    <tr>\n",
       "      <th>23</th>\n",
       "      <td>21/03/2020</td>\n",
       "      <td>0</td>\n",
       "      <td>327</td>\n",
       "      <td>327</td>\n",
       "      <td>1697</td>\n",
       "      <td>2020-03-21</td>\n",
       "    </tr>\n",
       "    <tr>\n",
       "      <th>24</th>\n",
       "      <td>22/03/2020</td>\n",
       "      <td>1</td>\n",
       "      <td>288</td>\n",
       "      <td>289</td>\n",
       "      <td>1986</td>\n",
       "      <td>2020-03-22</td>\n",
       "    </tr>\n",
       "    <tr>\n",
       "      <th>25</th>\n",
       "      <td>23/03/2020</td>\n",
       "      <td>0</td>\n",
       "      <td>320</td>\n",
       "      <td>320</td>\n",
       "      <td>2306</td>\n",
       "      <td>2020-03-23</td>\n",
       "    </tr>\n",
       "    <tr>\n",
       "      <th>26</th>\n",
       "      <td>24/03/2020</td>\n",
       "      <td>0</td>\n",
       "      <td>558</td>\n",
       "      <td>558</td>\n",
       "      <td>2864</td>\n",
       "      <td>2020-03-24</td>\n",
       "    </tr>\n",
       "    <tr>\n",
       "      <th>27</th>\n",
       "      <td>25/03/2020</td>\n",
       "      <td>2</td>\n",
       "      <td>495</td>\n",
       "      <td>497</td>\n",
       "      <td>3361</td>\n",
       "      <td>2020-03-25</td>\n",
       "    </tr>\n",
       "    <tr>\n",
       "      <th>28</th>\n",
       "      <td>26/03/2020</td>\n",
       "      <td>1</td>\n",
       "      <td>488</td>\n",
       "      <td>489</td>\n",
       "      <td>3850</td>\n",
       "      <td>2020-03-26</td>\n",
       "    </tr>\n",
       "    <tr>\n",
       "      <th>29</th>\n",
       "      <td>27/03/2020</td>\n",
       "      <td>1</td>\n",
       "      <td>534</td>\n",
       "      <td>535</td>\n",
       "      <td>4385</td>\n",
       "      <td>2020-03-27</td>\n",
       "    </tr>\n",
       "    <tr>\n",
       "      <th>30</th>\n",
       "      <td>28/03/2020</td>\n",
       "      <td>0</td>\n",
       "      <td>484</td>\n",
       "      <td>484</td>\n",
       "      <td>4869</td>\n",
       "      <td>2020-03-28</td>\n",
       "    </tr>\n",
       "    <tr>\n",
       "      <th>31</th>\n",
       "      <td>29/03/2020</td>\n",
       "      <td>0</td>\n",
       "      <td>393</td>\n",
       "      <td>393</td>\n",
       "      <td>5262</td>\n",
       "      <td>2020-03-29</td>\n",
       "    </tr>\n",
       "    <tr>\n",
       "      <th>32</th>\n",
       "      <td>30/03/2020</td>\n",
       "      <td>2</td>\n",
       "      <td>343</td>\n",
       "      <td>345</td>\n",
       "      <td>5607</td>\n",
       "      <td>2020-03-30</td>\n",
       "    </tr>\n",
       "    <tr>\n",
       "      <th>33</th>\n",
       "      <td>31/03/2020</td>\n",
       "      <td>1</td>\n",
       "      <td>494</td>\n",
       "      <td>495</td>\n",
       "      <td>6102</td>\n",
       "      <td>2020-03-31</td>\n",
       "    </tr>\n",
       "    <tr>\n",
       "      <th>34</th>\n",
       "      <td>1/04/2020</td>\n",
       "      <td>1</td>\n",
       "      <td>341</td>\n",
       "      <td>342</td>\n",
       "      <td>6444</td>\n",
       "      <td>2020-04-01</td>\n",
       "    </tr>\n",
       "    <tr>\n",
       "      <th>35</th>\n",
       "      <td>2/04/2020</td>\n",
       "      <td>6</td>\n",
       "      <td>334</td>\n",
       "      <td>340</td>\n",
       "      <td>6784</td>\n",
       "      <td>2020-04-02</td>\n",
       "    </tr>\n",
       "    <tr>\n",
       "      <th>36</th>\n",
       "      <td>3/04/2020</td>\n",
       "      <td>3</td>\n",
       "      <td>330</td>\n",
       "      <td>333</td>\n",
       "      <td>7117</td>\n",
       "      <td>2020-04-03</td>\n",
       "    </tr>\n",
       "    <tr>\n",
       "      <th>37</th>\n",
       "      <td>4/04/2020</td>\n",
       "      <td>4</td>\n",
       "      <td>276</td>\n",
       "      <td>280</td>\n",
       "      <td>7397</td>\n",
       "      <td>2020-04-04</td>\n",
       "    </tr>\n",
       "    <tr>\n",
       "      <th>38</th>\n",
       "      <td>5/04/2020</td>\n",
       "      <td>8</td>\n",
       "      <td>237</td>\n",
       "      <td>245</td>\n",
       "      <td>7642</td>\n",
       "      <td>2020-04-05</td>\n",
       "    </tr>\n",
       "    <tr>\n",
       "      <th>39</th>\n",
       "      <td>6/04/2020</td>\n",
       "      <td>9</td>\n",
       "      <td>209</td>\n",
       "      <td>218</td>\n",
       "      <td>7860</td>\n",
       "      <td>2020-04-06</td>\n",
       "    </tr>\n",
       "    <tr>\n",
       "      <th>40</th>\n",
       "      <td>7/04/2020</td>\n",
       "      <td>13</td>\n",
       "      <td>205</td>\n",
       "      <td>218</td>\n",
       "      <td>8078</td>\n",
       "      <td>2020-04-07</td>\n",
       "    </tr>\n",
       "    <tr>\n",
       "      <th>41</th>\n",
       "      <td>8/04/2020</td>\n",
       "      <td>16</td>\n",
       "      <td>172</td>\n",
       "      <td>188</td>\n",
       "      <td>8266</td>\n",
       "      <td>2020-04-08</td>\n",
       "    </tr>\n",
       "    <tr>\n",
       "      <th>42</th>\n",
       "      <td>9/04/2020</td>\n",
       "      <td>23</td>\n",
       "      <td>116</td>\n",
       "      <td>139</td>\n",
       "      <td>8405</td>\n",
       "      <td>2020-04-09</td>\n",
       "    </tr>\n",
       "    <tr>\n",
       "      <th>43</th>\n",
       "      <td>10/04/2020</td>\n",
       "      <td>43</td>\n",
       "      <td>66</td>\n",
       "      <td>109</td>\n",
       "      <td>8514</td>\n",
       "      <td>2020-04-10</td>\n",
       "    </tr>\n",
       "    <tr>\n",
       "      <th>44</th>\n",
       "      <td>11/04/2020</td>\n",
       "      <td>63</td>\n",
       "      <td>0</td>\n",
       "      <td>63</td>\n",
       "      <td>8577</td>\n",
       "      <td>2020-04-11</td>\n",
       "    </tr>\n",
       "    <tr>\n",
       "      <th>45</th>\n",
       "      <td>12/04/2020</td>\n",
       "      <td>5</td>\n",
       "      <td>0</td>\n",
       "      <td>5</td>\n",
       "      <td>8582</td>\n",
       "      <td>2020-04-12</td>\n",
       "    </tr>\n",
       "  </tbody>\n",
       "</table>\n",
       "</div>"
      ],
      "text/plain": [
       "         datum  nieuw  oud  toename  totaal       date\n",
       "0   27/02/2020      0    1        1       1 2020-02-27\n",
       "1   28/02/2020      0    0        0       1 2020-02-28\n",
       "2   29/02/2020      0    2        2       3 2020-02-29\n",
       "3    1/03/2020      0    1        1       4 2020-03-01\n",
       "4    2/03/2020      0    3        3       7 2020-03-02\n",
       "5    3/03/2020      0    6        6      13 2020-03-03\n",
       "6    4/03/2020      0    4        4      17 2020-03-04\n",
       "7    5/03/2020      0    6        6      23 2020-03-05\n",
       "8    6/03/2020      0    6        6      29 2020-03-06\n",
       "9    7/03/2020      0   13       13      42 2020-03-07\n",
       "10   8/03/2020      0   14       14      56 2020-03-08\n",
       "11   9/03/2020      0   17       17      73 2020-03-09\n",
       "12  10/03/2020      0   19       19      92 2020-03-10\n",
       "13  11/03/2020      0   43       43     135 2020-03-11\n",
       "14  12/03/2020      1   42       43     178 2020-03-12\n",
       "15  13/03/2020      0   64       64     242 2020-03-13\n",
       "16  14/03/2020      0   64       64     306 2020-03-14\n",
       "17  15/03/2020      0   78       78     384 2020-03-15\n",
       "18  16/03/2020      0  122      122     506 2020-03-16\n",
       "19  17/03/2020      0  144      144     650 2020-03-17\n",
       "20  18/03/2020      0  174      174     824 2020-03-18\n",
       "21  19/03/2020      0  240      240    1064 2020-03-19\n",
       "22  20/03/2020      0  306      306    1370 2020-03-20\n",
       "23  21/03/2020      0  327      327    1697 2020-03-21\n",
       "24  22/03/2020      1  288      289    1986 2020-03-22\n",
       "25  23/03/2020      0  320      320    2306 2020-03-23\n",
       "26  24/03/2020      0  558      558    2864 2020-03-24\n",
       "27  25/03/2020      2  495      497    3361 2020-03-25\n",
       "28  26/03/2020      1  488      489    3850 2020-03-26\n",
       "29  27/03/2020      1  534      535    4385 2020-03-27\n",
       "30  28/03/2020      0  484      484    4869 2020-03-28\n",
       "31  29/03/2020      0  393      393    5262 2020-03-29\n",
       "32  30/03/2020      2  343      345    5607 2020-03-30\n",
       "33  31/03/2020      1  494      495    6102 2020-03-31\n",
       "34   1/04/2020      1  341      342    6444 2020-04-01\n",
       "35   2/04/2020      6  334      340    6784 2020-04-02\n",
       "36   3/04/2020      3  330      333    7117 2020-04-03\n",
       "37   4/04/2020      4  276      280    7397 2020-04-04\n",
       "38   5/04/2020      8  237      245    7642 2020-04-05\n",
       "39   6/04/2020      9  209      218    7860 2020-04-06\n",
       "40   7/04/2020     13  205      218    8078 2020-04-07\n",
       "41   8/04/2020     16  172      188    8266 2020-04-08\n",
       "42   9/04/2020     23  116      139    8405 2020-04-09\n",
       "43  10/04/2020     43   66      109    8514 2020-04-10\n",
       "44  11/04/2020     63    0       63    8577 2020-04-11\n",
       "45  12/04/2020      5    0        5    8582 2020-04-12"
      ]
     },
     "execution_count": 26,
     "metadata": {},
     "output_type": "execute_result"
    }
   ],
   "source": [
    "df_ziek"
   ]
  },
  {
   "cell_type": "code",
   "execution_count": 33,
   "metadata": {
    "scrolled": false
   },
   "outputs": [
    {
     "name": "stdout",
     "output_type": "stream",
     "text": [
      "[Timestamp('2020-03-04 00:00:00'), Timestamp('2020-03-05 00:00:00'), Timestamp('2020-03-06 00:00:00'), Timestamp('2020-03-07 00:00:00'), Timestamp('2020-03-08 00:00:00'), Timestamp('2020-03-09 00:00:00'), Timestamp('2020-03-10 00:00:00'), Timestamp('2020-03-11 00:00:00'), Timestamp('2020-03-12 00:00:00'), Timestamp('2020-03-13 00:00:00'), Timestamp('2020-03-14 00:00:00'), Timestamp('2020-03-15 00:00:00'), Timestamp('2020-03-16 00:00:00'), Timestamp('2020-03-17 00:00:00'), Timestamp('2020-03-18 00:00:00'), Timestamp('2020-03-19 00:00:00'), Timestamp('2020-03-20 00:00:00'), Timestamp('2020-03-21 00:00:00'), Timestamp('2020-03-22 00:00:00'), Timestamp('2020-03-23 00:00:00'), Timestamp('2020-03-24 00:00:00'), Timestamp('2020-03-25 00:00:00'), Timestamp('2020-03-26 00:00:00'), Timestamp('2020-03-27 00:00:00'), Timestamp('2020-03-28 00:00:00'), Timestamp('2020-03-29 00:00:00'), Timestamp('2020-03-30 00:00:00')]\n",
      "[  14.   20.   26.   35.   43.   66.   80.   99.  126.  159.  194.  245.\n",
      "  305.  391.  461.  532.  635.  742.  859.  962. 1080. 1183. 1277. 1413.\n",
      " 1524. 1606. 1703. 1789. 1852. 1928. 1989. 2053. 2113. 2171. 2223. 2250.\n",
      " 2271.]\n",
      "parameter names: ['L', 'tau']\n",
      "independent variables: ['x']\n",
      "Parameters([('L', <Parameter 'L', value=1721.8280192979125 +/- 34.5, bounds=[-inf:inf]>), ('tau', <Parameter 'tau', value=31.162869330676866 +/- 2.7, bounds=[-inf:inf]>)])\n",
      "Parameters([('L', <Parameter 'L', value=1445.3561815158105 +/- 15.2, bounds=[-inf:inf]>), ('tau', <Parameter 'tau', value=13.849196534810458 +/- 0.74, bounds=[-inf:inf]>)])\n"
     ]
    },
    {
     "data": {
      "application/vnd.plotly.v1+json": {
       "config": {
        "plotlyServerURL": "https://plotly.com"
       },
       "data": [
        {
         "marker": {
          "size": 10,
          "symbol": "circle"
         },
         "mode": "markers",
         "name": "counts NVIC",
         "type": "scatter",
         "x": [
          "2020-03-07T00:00:00",
          "2020-03-08T00:00:00",
          "2020-03-09T00:00:00",
          "2020-03-10T00:00:00",
          "2020-03-11T00:00:00",
          "2020-03-12T00:00:00",
          "2020-03-13T00:00:00",
          "2020-03-14T00:00:00",
          "2020-03-15T00:00:00",
          "2020-03-16T00:00:00",
          "2020-03-17T00:00:00",
          "2020-03-18T00:00:00",
          "2020-03-19T00:00:00",
          "2020-03-20T00:00:00",
          "2020-03-21T00:00:00",
          "2020-03-22T00:00:00",
          "2020-03-23T00:00:00",
          "2020-03-24T00:00:00",
          "2020-03-25T00:00:00",
          "2020-03-26T00:00:00",
          "2020-03-27T00:00:00",
          "2020-03-28T00:00:00",
          "2020-03-29T00:00:00",
          "2020-03-30T00:00:00",
          "2020-03-31T00:00:00",
          "2020-04-01T00:00:00",
          "2020-04-02T00:00:00",
          "2020-04-03T00:00:00",
          "2020-04-04T00:00:00",
          "2020-04-05T00:00:00",
          "2020-04-06T00:00:00",
          "2020-04-07T00:00:00",
          "2020-04-08T00:00:00",
          "2020-04-09T00:00:00",
          "2020-04-10T00:00:00",
          "2020-04-11T00:00:00",
          "2020-04-12T00:00:00"
         ],
         "y": [
          14,
          20,
          26,
          35,
          43,
          66,
          80,
          99,
          126,
          159,
          194,
          245,
          305,
          391,
          461,
          532,
          635,
          742,
          859,
          962,
          1080,
          1183,
          1277,
          1413,
          1524,
          1606,
          1703,
          1789,
          1852,
          1928,
          1989,
          2053,
          2113,
          2171,
          2223,
          2250,
          2271
         ]
        },
        {
         "mode": "lines",
         "name": "last week: double every 31.2 days",
         "type": "scatter",
         "x": [
          "2020-03-30T00:00:00",
          "2020-03-31T00:00:00",
          "2020-04-01T00:00:00",
          "2020-04-02T00:00:00",
          "2020-04-03T00:00:00",
          "2020-04-04T00:00:00",
          "2020-04-05T00:00:00",
          "2020-04-06T00:00:00",
          "2020-04-07T00:00:00",
          "2020-04-08T00:00:00",
          "2020-04-09T00:00:00",
          "2020-04-10T00:00:00",
          "2020-04-11T00:00:00",
          "2020-04-12T00:00:00"
         ],
         "y": [
          1721.8280192979125,
          1760.5552722763957,
          1800.1535763159889,
          1840.6425230451384,
          1882.042144746026,
          1924.3729242657287,
          1967.6558051502957,
          2011.9122020067648,
          2057.1640110982344,
          2103.4336211772466,
          2150.7439245628275,
          2199.1183284666754,
          2248.580766574097,
          2299.1557108854195
         ]
        },
        {
         "mode": "lines",
         "name": "week before: double every 13.8 days",
         "type": "scatter",
         "x": [
          "2020-03-30T00:00:00",
          "2020-03-31T00:00:00",
          "2020-04-01T00:00:00",
          "2020-04-02T00:00:00",
          "2020-04-03T00:00:00",
          "2020-04-04T00:00:00",
          "2020-04-05T00:00:00",
          "2020-04-06T00:00:00",
          "2020-04-07T00:00:00",
          "2020-04-08T00:00:00",
          "2020-04-09T00:00:00",
          "2020-04-10T00:00:00",
          "2020-04-11T00:00:00",
          "2020-04-12T00:00:00"
         ],
         "y": [
          1445.3561815158105,
          1519.536592321988,
          1597.524184650441,
          1679.5143555202208,
          1765.7125303650553,
          1856.3346777244205,
          1951.6078503502397,
          2051.7707540849538,
          2157.0743459362734,
          2267.7824628470867,
          2384.172482735899,
          2506.5360194640243,
          2635.1796534707805,
          2770.425699907262
         ]
        },
        {
         "marker": {
          "size": 10,
          "symbol": "square"
         },
         "mode": "markers",
         "name": "prediction",
         "type": "scatter",
         "x": [
          "2020-04-13T00:00:00",
          "2020-04-14T00:00:00",
          "2020-04-15T00:00:00",
          "2020-04-16T00:00:00",
          "2020-04-17T00:00:00",
          "2020-04-18T00:00:00",
          "2020-04-19T00:00:00"
         ],
         "y": [
          2350,
          2403,
          2457,
          2513,
          2569,
          2627
         ]
        }
       ],
       "layout": {
        "font": {
         "size": 12
        },
        "legend": {
         "x": 0.05,
         "y": 0.95
        },
        "template": {
         "data": {
          "bar": [
           {
            "error_x": {
             "color": "#2a3f5f"
            },
            "error_y": {
             "color": "#2a3f5f"
            },
            "marker": {
             "line": {
              "color": "#E5ECF6",
              "width": 0.5
             }
            },
            "type": "bar"
           }
          ],
          "barpolar": [
           {
            "marker": {
             "line": {
              "color": "#E5ECF6",
              "width": 0.5
             }
            },
            "type": "barpolar"
           }
          ],
          "carpet": [
           {
            "aaxis": {
             "endlinecolor": "#2a3f5f",
             "gridcolor": "white",
             "linecolor": "white",
             "minorgridcolor": "white",
             "startlinecolor": "#2a3f5f"
            },
            "baxis": {
             "endlinecolor": "#2a3f5f",
             "gridcolor": "white",
             "linecolor": "white",
             "minorgridcolor": "white",
             "startlinecolor": "#2a3f5f"
            },
            "type": "carpet"
           }
          ],
          "choropleth": [
           {
            "colorbar": {
             "outlinewidth": 0,
             "ticks": ""
            },
            "type": "choropleth"
           }
          ],
          "contour": [
           {
            "colorbar": {
             "outlinewidth": 0,
             "ticks": ""
            },
            "colorscale": [
             [
              0,
              "#0d0887"
             ],
             [
              0.1111111111111111,
              "#46039f"
             ],
             [
              0.2222222222222222,
              "#7201a8"
             ],
             [
              0.3333333333333333,
              "#9c179e"
             ],
             [
              0.4444444444444444,
              "#bd3786"
             ],
             [
              0.5555555555555556,
              "#d8576b"
             ],
             [
              0.6666666666666666,
              "#ed7953"
             ],
             [
              0.7777777777777778,
              "#fb9f3a"
             ],
             [
              0.8888888888888888,
              "#fdca26"
             ],
             [
              1,
              "#f0f921"
             ]
            ],
            "type": "contour"
           }
          ],
          "contourcarpet": [
           {
            "colorbar": {
             "outlinewidth": 0,
             "ticks": ""
            },
            "type": "contourcarpet"
           }
          ],
          "heatmap": [
           {
            "colorbar": {
             "outlinewidth": 0,
             "ticks": ""
            },
            "colorscale": [
             [
              0,
              "#0d0887"
             ],
             [
              0.1111111111111111,
              "#46039f"
             ],
             [
              0.2222222222222222,
              "#7201a8"
             ],
             [
              0.3333333333333333,
              "#9c179e"
             ],
             [
              0.4444444444444444,
              "#bd3786"
             ],
             [
              0.5555555555555556,
              "#d8576b"
             ],
             [
              0.6666666666666666,
              "#ed7953"
             ],
             [
              0.7777777777777778,
              "#fb9f3a"
             ],
             [
              0.8888888888888888,
              "#fdca26"
             ],
             [
              1,
              "#f0f921"
             ]
            ],
            "type": "heatmap"
           }
          ],
          "heatmapgl": [
           {
            "colorbar": {
             "outlinewidth": 0,
             "ticks": ""
            },
            "colorscale": [
             [
              0,
              "#0d0887"
             ],
             [
              0.1111111111111111,
              "#46039f"
             ],
             [
              0.2222222222222222,
              "#7201a8"
             ],
             [
              0.3333333333333333,
              "#9c179e"
             ],
             [
              0.4444444444444444,
              "#bd3786"
             ],
             [
              0.5555555555555556,
              "#d8576b"
             ],
             [
              0.6666666666666666,
              "#ed7953"
             ],
             [
              0.7777777777777778,
              "#fb9f3a"
             ],
             [
              0.8888888888888888,
              "#fdca26"
             ],
             [
              1,
              "#f0f921"
             ]
            ],
            "type": "heatmapgl"
           }
          ],
          "histogram": [
           {
            "marker": {
             "colorbar": {
              "outlinewidth": 0,
              "ticks": ""
             }
            },
            "type": "histogram"
           }
          ],
          "histogram2d": [
           {
            "colorbar": {
             "outlinewidth": 0,
             "ticks": ""
            },
            "colorscale": [
             [
              0,
              "#0d0887"
             ],
             [
              0.1111111111111111,
              "#46039f"
             ],
             [
              0.2222222222222222,
              "#7201a8"
             ],
             [
              0.3333333333333333,
              "#9c179e"
             ],
             [
              0.4444444444444444,
              "#bd3786"
             ],
             [
              0.5555555555555556,
              "#d8576b"
             ],
             [
              0.6666666666666666,
              "#ed7953"
             ],
             [
              0.7777777777777778,
              "#fb9f3a"
             ],
             [
              0.8888888888888888,
              "#fdca26"
             ],
             [
              1,
              "#f0f921"
             ]
            ],
            "type": "histogram2d"
           }
          ],
          "histogram2dcontour": [
           {
            "colorbar": {
             "outlinewidth": 0,
             "ticks": ""
            },
            "colorscale": [
             [
              0,
              "#0d0887"
             ],
             [
              0.1111111111111111,
              "#46039f"
             ],
             [
              0.2222222222222222,
              "#7201a8"
             ],
             [
              0.3333333333333333,
              "#9c179e"
             ],
             [
              0.4444444444444444,
              "#bd3786"
             ],
             [
              0.5555555555555556,
              "#d8576b"
             ],
             [
              0.6666666666666666,
              "#ed7953"
             ],
             [
              0.7777777777777778,
              "#fb9f3a"
             ],
             [
              0.8888888888888888,
              "#fdca26"
             ],
             [
              1,
              "#f0f921"
             ]
            ],
            "type": "histogram2dcontour"
           }
          ],
          "mesh3d": [
           {
            "colorbar": {
             "outlinewidth": 0,
             "ticks": ""
            },
            "type": "mesh3d"
           }
          ],
          "parcoords": [
           {
            "line": {
             "colorbar": {
              "outlinewidth": 0,
              "ticks": ""
             }
            },
            "type": "parcoords"
           }
          ],
          "pie": [
           {
            "automargin": true,
            "type": "pie"
           }
          ],
          "scatter": [
           {
            "marker": {
             "colorbar": {
              "outlinewidth": 0,
              "ticks": ""
             }
            },
            "type": "scatter"
           }
          ],
          "scatter3d": [
           {
            "line": {
             "colorbar": {
              "outlinewidth": 0,
              "ticks": ""
             }
            },
            "marker": {
             "colorbar": {
              "outlinewidth": 0,
              "ticks": ""
             }
            },
            "type": "scatter3d"
           }
          ],
          "scattercarpet": [
           {
            "marker": {
             "colorbar": {
              "outlinewidth": 0,
              "ticks": ""
             }
            },
            "type": "scattercarpet"
           }
          ],
          "scattergeo": [
           {
            "marker": {
             "colorbar": {
              "outlinewidth": 0,
              "ticks": ""
             }
            },
            "type": "scattergeo"
           }
          ],
          "scattergl": [
           {
            "marker": {
             "colorbar": {
              "outlinewidth": 0,
              "ticks": ""
             }
            },
            "type": "scattergl"
           }
          ],
          "scattermapbox": [
           {
            "marker": {
             "colorbar": {
              "outlinewidth": 0,
              "ticks": ""
             }
            },
            "type": "scattermapbox"
           }
          ],
          "scatterpolar": [
           {
            "marker": {
             "colorbar": {
              "outlinewidth": 0,
              "ticks": ""
             }
            },
            "type": "scatterpolar"
           }
          ],
          "scatterpolargl": [
           {
            "marker": {
             "colorbar": {
              "outlinewidth": 0,
              "ticks": ""
             }
            },
            "type": "scatterpolargl"
           }
          ],
          "scatterternary": [
           {
            "marker": {
             "colorbar": {
              "outlinewidth": 0,
              "ticks": ""
             }
            },
            "type": "scatterternary"
           }
          ],
          "surface": [
           {
            "colorbar": {
             "outlinewidth": 0,
             "ticks": ""
            },
            "colorscale": [
             [
              0,
              "#0d0887"
             ],
             [
              0.1111111111111111,
              "#46039f"
             ],
             [
              0.2222222222222222,
              "#7201a8"
             ],
             [
              0.3333333333333333,
              "#9c179e"
             ],
             [
              0.4444444444444444,
              "#bd3786"
             ],
             [
              0.5555555555555556,
              "#d8576b"
             ],
             [
              0.6666666666666666,
              "#ed7953"
             ],
             [
              0.7777777777777778,
              "#fb9f3a"
             ],
             [
              0.8888888888888888,
              "#fdca26"
             ],
             [
              1,
              "#f0f921"
             ]
            ],
            "type": "surface"
           }
          ],
          "table": [
           {
            "cells": {
             "fill": {
              "color": "#EBF0F8"
             },
             "line": {
              "color": "white"
             }
            },
            "header": {
             "fill": {
              "color": "#C8D4E3"
             },
             "line": {
              "color": "white"
             }
            },
            "type": "table"
           }
          ]
         },
         "layout": {
          "annotationdefaults": {
           "arrowcolor": "#2a3f5f",
           "arrowhead": 0,
           "arrowwidth": 1
          },
          "coloraxis": {
           "colorbar": {
            "outlinewidth": 0,
            "ticks": ""
           }
          },
          "colorscale": {
           "diverging": [
            [
             0,
             "#8e0152"
            ],
            [
             0.1,
             "#c51b7d"
            ],
            [
             0.2,
             "#de77ae"
            ],
            [
             0.3,
             "#f1b6da"
            ],
            [
             0.4,
             "#fde0ef"
            ],
            [
             0.5,
             "#f7f7f7"
            ],
            [
             0.6,
             "#e6f5d0"
            ],
            [
             0.7,
             "#b8e186"
            ],
            [
             0.8,
             "#7fbc41"
            ],
            [
             0.9,
             "#4d9221"
            ],
            [
             1,
             "#276419"
            ]
           ],
           "sequential": [
            [
             0,
             "#0d0887"
            ],
            [
             0.1111111111111111,
             "#46039f"
            ],
            [
             0.2222222222222222,
             "#7201a8"
            ],
            [
             0.3333333333333333,
             "#9c179e"
            ],
            [
             0.4444444444444444,
             "#bd3786"
            ],
            [
             0.5555555555555556,
             "#d8576b"
            ],
            [
             0.6666666666666666,
             "#ed7953"
            ],
            [
             0.7777777777777778,
             "#fb9f3a"
            ],
            [
             0.8888888888888888,
             "#fdca26"
            ],
            [
             1,
             "#f0f921"
            ]
           ],
           "sequentialminus": [
            [
             0,
             "#0d0887"
            ],
            [
             0.1111111111111111,
             "#46039f"
            ],
            [
             0.2222222222222222,
             "#7201a8"
            ],
            [
             0.3333333333333333,
             "#9c179e"
            ],
            [
             0.4444444444444444,
             "#bd3786"
            ],
            [
             0.5555555555555556,
             "#d8576b"
            ],
            [
             0.6666666666666666,
             "#ed7953"
            ],
            [
             0.7777777777777778,
             "#fb9f3a"
            ],
            [
             0.8888888888888888,
             "#fdca26"
            ],
            [
             1,
             "#f0f921"
            ]
           ]
          },
          "colorway": [
           "#636efa",
           "#EF553B",
           "#00cc96",
           "#ab63fa",
           "#FFA15A",
           "#19d3f3",
           "#FF6692",
           "#B6E880",
           "#FF97FF",
           "#FECB52"
          ],
          "font": {
           "color": "#2a3f5f"
          },
          "geo": {
           "bgcolor": "white",
           "lakecolor": "white",
           "landcolor": "#E5ECF6",
           "showlakes": true,
           "showland": true,
           "subunitcolor": "white"
          },
          "hoverlabel": {
           "align": "left"
          },
          "hovermode": "closest",
          "mapbox": {
           "style": "light"
          },
          "paper_bgcolor": "white",
          "plot_bgcolor": "#E5ECF6",
          "polar": {
           "angularaxis": {
            "gridcolor": "white",
            "linecolor": "white",
            "ticks": ""
           },
           "bgcolor": "#E5ECF6",
           "radialaxis": {
            "gridcolor": "white",
            "linecolor": "white",
            "ticks": ""
           }
          },
          "scene": {
           "xaxis": {
            "backgroundcolor": "#E5ECF6",
            "gridcolor": "white",
            "gridwidth": 2,
            "linecolor": "white",
            "showbackground": true,
            "ticks": "",
            "zerolinecolor": "white"
           },
           "yaxis": {
            "backgroundcolor": "#E5ECF6",
            "gridcolor": "white",
            "gridwidth": 2,
            "linecolor": "white",
            "showbackground": true,
            "ticks": "",
            "zerolinecolor": "white"
           },
           "zaxis": {
            "backgroundcolor": "#E5ECF6",
            "gridcolor": "white",
            "gridwidth": 2,
            "linecolor": "white",
            "showbackground": true,
            "ticks": "",
            "zerolinecolor": "white"
           }
          },
          "shapedefaults": {
           "line": {
            "color": "#2a3f5f"
           }
          },
          "ternary": {
           "aaxis": {
            "gridcolor": "white",
            "linecolor": "white",
            "ticks": ""
           },
           "baxis": {
            "gridcolor": "white",
            "linecolor": "white",
            "ticks": ""
           },
           "bgcolor": "#E5ECF6",
           "caxis": {
            "gridcolor": "white",
            "linecolor": "white",
            "ticks": ""
           }
          },
          "title": {
           "x": 0.05
          },
          "xaxis": {
           "automargin": true,
           "gridcolor": "white",
           "linecolor": "white",
           "ticks": "",
           "title": {
            "standoff": 15
           },
           "zerolinecolor": "white",
           "zerolinewidth": 2
          },
          "yaxis": {
           "automargin": true,
           "gridcolor": "white",
           "linecolor": "white",
           "ticks": "",
           "title": {
            "standoff": 15
           },
           "zerolinecolor": "white",
           "zerolinewidth": 2
          }
         }
        },
        "title": {
         "text": "Corona patients on IC Netherlands",
         "x": 0.5,
         "xanchor": "center"
        },
        "xaxis": {
         "title": {
          "text": "Date"
         }
        },
        "yaxis": {
         "title": {
          "text": "# patients"
         },
         "type": "log"
        }
       }
      },
      "text/html": [
       "<div>\n",
       "        \n",
       "        \n",
       "            <div id=\"9cb21f9a-74d1-4667-8ba8-cc3907933d10\" class=\"plotly-graph-div\" style=\"height:525px; width:100%;\"></div>\n",
       "            <script type=\"text/javascript\">\n",
       "                require([\"plotly\"], function(Plotly) {\n",
       "                    window.PLOTLYENV=window.PLOTLYENV || {};\n",
       "                    \n",
       "                if (document.getElementById(\"9cb21f9a-74d1-4667-8ba8-cc3907933d10\")) {\n",
       "                    Plotly.newPlot(\n",
       "                        '9cb21f9a-74d1-4667-8ba8-cc3907933d10',\n",
       "                        [{\"marker\": {\"size\": 10, \"symbol\": \"circle\"}, \"mode\": \"markers\", \"name\": \"counts NVIC\", \"type\": \"scatter\", \"x\": [\"2020-03-07T00:00:00\", \"2020-03-08T00:00:00\", \"2020-03-09T00:00:00\", \"2020-03-10T00:00:00\", \"2020-03-11T00:00:00\", \"2020-03-12T00:00:00\", \"2020-03-13T00:00:00\", \"2020-03-14T00:00:00\", \"2020-03-15T00:00:00\", \"2020-03-16T00:00:00\", \"2020-03-17T00:00:00\", \"2020-03-18T00:00:00\", \"2020-03-19T00:00:00\", \"2020-03-20T00:00:00\", \"2020-03-21T00:00:00\", \"2020-03-22T00:00:00\", \"2020-03-23T00:00:00\", \"2020-03-24T00:00:00\", \"2020-03-25T00:00:00\", \"2020-03-26T00:00:00\", \"2020-03-27T00:00:00\", \"2020-03-28T00:00:00\", \"2020-03-29T00:00:00\", \"2020-03-30T00:00:00\", \"2020-03-31T00:00:00\", \"2020-04-01T00:00:00\", \"2020-04-02T00:00:00\", \"2020-04-03T00:00:00\", \"2020-04-04T00:00:00\", \"2020-04-05T00:00:00\", \"2020-04-06T00:00:00\", \"2020-04-07T00:00:00\", \"2020-04-08T00:00:00\", \"2020-04-09T00:00:00\", \"2020-04-10T00:00:00\", \"2020-04-11T00:00:00\", \"2020-04-12T00:00:00\"], \"y\": [14.0, 20.0, 26.0, 35.0, 43.0, 66.0, 80.0, 99.0, 126.0, 159.0, 194.0, 245.0, 305.0, 391.0, 461.0, 532.0, 635.0, 742.0, 859.0, 962.0, 1080.0, 1183.0, 1277.0, 1413.0, 1524.0, 1606.0, 1703.0, 1789.0, 1852.0, 1928.0, 1989.0, 2053.0, 2113.0, 2171.0, 2223.0, 2250.0, 2271.0]}, {\"mode\": \"lines\", \"name\": \"last week: double every 31.2 days\", \"type\": \"scatter\", \"x\": [\"2020-03-30T00:00:00\", \"2020-03-31T00:00:00\", \"2020-04-01T00:00:00\", \"2020-04-02T00:00:00\", \"2020-04-03T00:00:00\", \"2020-04-04T00:00:00\", \"2020-04-05T00:00:00\", \"2020-04-06T00:00:00\", \"2020-04-07T00:00:00\", \"2020-04-08T00:00:00\", \"2020-04-09T00:00:00\", \"2020-04-10T00:00:00\", \"2020-04-11T00:00:00\", \"2020-04-12T00:00:00\"], \"y\": [1721.8280192979125, 1760.5552722763957, 1800.1535763159889, 1840.6425230451384, 1882.042144746026, 1924.3729242657287, 1967.6558051502957, 2011.9122020067648, 2057.1640110982344, 2103.4336211772466, 2150.7439245628275, 2199.1183284666754, 2248.580766574097, 2299.1557108854195]}, {\"mode\": \"lines\", \"name\": \"week before: double every 13.8 days\", \"type\": \"scatter\", \"x\": [\"2020-03-30T00:00:00\", \"2020-03-31T00:00:00\", \"2020-04-01T00:00:00\", \"2020-04-02T00:00:00\", \"2020-04-03T00:00:00\", \"2020-04-04T00:00:00\", \"2020-04-05T00:00:00\", \"2020-04-06T00:00:00\", \"2020-04-07T00:00:00\", \"2020-04-08T00:00:00\", \"2020-04-09T00:00:00\", \"2020-04-10T00:00:00\", \"2020-04-11T00:00:00\", \"2020-04-12T00:00:00\"], \"y\": [1445.3561815158105, 1519.536592321988, 1597.524184650441, 1679.5143555202208, 1765.7125303650553, 1856.3346777244205, 1951.6078503502397, 2051.7707540849538, 2157.0743459362734, 2267.7824628470867, 2384.172482735899, 2506.5360194640243, 2635.1796534707805, 2770.425699907262]}, {\"marker\": {\"size\": 10, \"symbol\": \"square\"}, \"mode\": \"markers\", \"name\": \"prediction\", \"type\": \"scatter\", \"x\": [\"2020-04-13T00:00:00\", \"2020-04-14T00:00:00\", \"2020-04-15T00:00:00\", \"2020-04-16T00:00:00\", \"2020-04-17T00:00:00\", \"2020-04-18T00:00:00\", \"2020-04-19T00:00:00\"], \"y\": [2350, 2403, 2457, 2513, 2569, 2627]}],\n",
       "                        {\"font\": {\"size\": 12}, \"legend\": {\"x\": 0.05, \"y\": 0.95}, \"template\": {\"data\": {\"bar\": [{\"error_x\": {\"color\": \"#2a3f5f\"}, \"error_y\": {\"color\": \"#2a3f5f\"}, \"marker\": {\"line\": {\"color\": \"#E5ECF6\", \"width\": 0.5}}, \"type\": \"bar\"}], \"barpolar\": [{\"marker\": {\"line\": {\"color\": \"#E5ECF6\", \"width\": 0.5}}, \"type\": \"barpolar\"}], \"carpet\": [{\"aaxis\": {\"endlinecolor\": \"#2a3f5f\", \"gridcolor\": \"white\", \"linecolor\": \"white\", \"minorgridcolor\": \"white\", \"startlinecolor\": \"#2a3f5f\"}, \"baxis\": {\"endlinecolor\": \"#2a3f5f\", \"gridcolor\": \"white\", \"linecolor\": \"white\", \"minorgridcolor\": \"white\", \"startlinecolor\": \"#2a3f5f\"}, \"type\": \"carpet\"}], \"choropleth\": [{\"colorbar\": {\"outlinewidth\": 0, \"ticks\": \"\"}, \"type\": \"choropleth\"}], \"contour\": [{\"colorbar\": {\"outlinewidth\": 0, \"ticks\": \"\"}, \"colorscale\": [[0.0, \"#0d0887\"], [0.1111111111111111, \"#46039f\"], [0.2222222222222222, \"#7201a8\"], [0.3333333333333333, \"#9c179e\"], [0.4444444444444444, \"#bd3786\"], [0.5555555555555556, \"#d8576b\"], [0.6666666666666666, \"#ed7953\"], [0.7777777777777778, \"#fb9f3a\"], [0.8888888888888888, \"#fdca26\"], [1.0, \"#f0f921\"]], \"type\": \"contour\"}], \"contourcarpet\": [{\"colorbar\": {\"outlinewidth\": 0, \"ticks\": \"\"}, \"type\": \"contourcarpet\"}], \"heatmap\": [{\"colorbar\": {\"outlinewidth\": 0, \"ticks\": \"\"}, \"colorscale\": [[0.0, \"#0d0887\"], [0.1111111111111111, \"#46039f\"], [0.2222222222222222, \"#7201a8\"], [0.3333333333333333, \"#9c179e\"], [0.4444444444444444, \"#bd3786\"], [0.5555555555555556, \"#d8576b\"], [0.6666666666666666, \"#ed7953\"], [0.7777777777777778, \"#fb9f3a\"], [0.8888888888888888, \"#fdca26\"], [1.0, \"#f0f921\"]], \"type\": \"heatmap\"}], \"heatmapgl\": [{\"colorbar\": {\"outlinewidth\": 0, \"ticks\": \"\"}, \"colorscale\": [[0.0, \"#0d0887\"], [0.1111111111111111, \"#46039f\"], [0.2222222222222222, \"#7201a8\"], [0.3333333333333333, \"#9c179e\"], [0.4444444444444444, \"#bd3786\"], [0.5555555555555556, \"#d8576b\"], [0.6666666666666666, \"#ed7953\"], [0.7777777777777778, \"#fb9f3a\"], [0.8888888888888888, \"#fdca26\"], [1.0, \"#f0f921\"]], \"type\": \"heatmapgl\"}], \"histogram\": [{\"marker\": {\"colorbar\": {\"outlinewidth\": 0, \"ticks\": \"\"}}, \"type\": \"histogram\"}], \"histogram2d\": [{\"colorbar\": {\"outlinewidth\": 0, \"ticks\": \"\"}, \"colorscale\": [[0.0, \"#0d0887\"], [0.1111111111111111, \"#46039f\"], [0.2222222222222222, \"#7201a8\"], [0.3333333333333333, \"#9c179e\"], [0.4444444444444444, \"#bd3786\"], [0.5555555555555556, \"#d8576b\"], [0.6666666666666666, \"#ed7953\"], [0.7777777777777778, \"#fb9f3a\"], [0.8888888888888888, \"#fdca26\"], [1.0, \"#f0f921\"]], \"type\": \"histogram2d\"}], \"histogram2dcontour\": [{\"colorbar\": {\"outlinewidth\": 0, \"ticks\": \"\"}, \"colorscale\": [[0.0, \"#0d0887\"], [0.1111111111111111, \"#46039f\"], [0.2222222222222222, \"#7201a8\"], [0.3333333333333333, \"#9c179e\"], [0.4444444444444444, \"#bd3786\"], [0.5555555555555556, \"#d8576b\"], [0.6666666666666666, \"#ed7953\"], [0.7777777777777778, \"#fb9f3a\"], [0.8888888888888888, \"#fdca26\"], [1.0, \"#f0f921\"]], \"type\": \"histogram2dcontour\"}], \"mesh3d\": [{\"colorbar\": {\"outlinewidth\": 0, \"ticks\": \"\"}, \"type\": \"mesh3d\"}], \"parcoords\": [{\"line\": {\"colorbar\": {\"outlinewidth\": 0, \"ticks\": \"\"}}, \"type\": \"parcoords\"}], \"pie\": [{\"automargin\": true, \"type\": \"pie\"}], \"scatter\": [{\"marker\": {\"colorbar\": {\"outlinewidth\": 0, \"ticks\": \"\"}}, \"type\": \"scatter\"}], \"scatter3d\": [{\"line\": {\"colorbar\": {\"outlinewidth\": 0, \"ticks\": \"\"}}, \"marker\": {\"colorbar\": {\"outlinewidth\": 0, \"ticks\": \"\"}}, \"type\": \"scatter3d\"}], \"scattercarpet\": [{\"marker\": {\"colorbar\": {\"outlinewidth\": 0, \"ticks\": \"\"}}, \"type\": \"scattercarpet\"}], \"scattergeo\": [{\"marker\": {\"colorbar\": {\"outlinewidth\": 0, \"ticks\": \"\"}}, \"type\": \"scattergeo\"}], \"scattergl\": [{\"marker\": {\"colorbar\": {\"outlinewidth\": 0, \"ticks\": \"\"}}, \"type\": \"scattergl\"}], \"scattermapbox\": [{\"marker\": {\"colorbar\": {\"outlinewidth\": 0, \"ticks\": \"\"}}, \"type\": \"scattermapbox\"}], \"scatterpolar\": [{\"marker\": {\"colorbar\": {\"outlinewidth\": 0, \"ticks\": \"\"}}, \"type\": \"scatterpolar\"}], \"scatterpolargl\": [{\"marker\": {\"colorbar\": {\"outlinewidth\": 0, \"ticks\": \"\"}}, \"type\": \"scatterpolargl\"}], \"scatterternary\": [{\"marker\": {\"colorbar\": {\"outlinewidth\": 0, \"ticks\": \"\"}}, \"type\": \"scatterternary\"}], \"surface\": [{\"colorbar\": {\"outlinewidth\": 0, \"ticks\": \"\"}, \"colorscale\": [[0.0, \"#0d0887\"], [0.1111111111111111, \"#46039f\"], [0.2222222222222222, \"#7201a8\"], [0.3333333333333333, \"#9c179e\"], [0.4444444444444444, \"#bd3786\"], [0.5555555555555556, \"#d8576b\"], [0.6666666666666666, \"#ed7953\"], [0.7777777777777778, \"#fb9f3a\"], [0.8888888888888888, \"#fdca26\"], [1.0, \"#f0f921\"]], \"type\": \"surface\"}], \"table\": [{\"cells\": {\"fill\": {\"color\": \"#EBF0F8\"}, \"line\": {\"color\": \"white\"}}, \"header\": {\"fill\": {\"color\": \"#C8D4E3\"}, \"line\": {\"color\": \"white\"}}, \"type\": \"table\"}]}, \"layout\": {\"annotationdefaults\": {\"arrowcolor\": \"#2a3f5f\", \"arrowhead\": 0, \"arrowwidth\": 1}, \"coloraxis\": {\"colorbar\": {\"outlinewidth\": 0, \"ticks\": \"\"}}, \"colorscale\": {\"diverging\": [[0, \"#8e0152\"], [0.1, \"#c51b7d\"], [0.2, \"#de77ae\"], [0.3, \"#f1b6da\"], [0.4, \"#fde0ef\"], [0.5, \"#f7f7f7\"], [0.6, \"#e6f5d0\"], [0.7, \"#b8e186\"], [0.8, \"#7fbc41\"], [0.9, \"#4d9221\"], [1, \"#276419\"]], \"sequential\": [[0.0, \"#0d0887\"], [0.1111111111111111, \"#46039f\"], [0.2222222222222222, \"#7201a8\"], [0.3333333333333333, \"#9c179e\"], [0.4444444444444444, \"#bd3786\"], [0.5555555555555556, \"#d8576b\"], [0.6666666666666666, \"#ed7953\"], [0.7777777777777778, \"#fb9f3a\"], [0.8888888888888888, \"#fdca26\"], [1.0, \"#f0f921\"]], \"sequentialminus\": [[0.0, \"#0d0887\"], [0.1111111111111111, \"#46039f\"], [0.2222222222222222, \"#7201a8\"], [0.3333333333333333, \"#9c179e\"], [0.4444444444444444, \"#bd3786\"], [0.5555555555555556, \"#d8576b\"], [0.6666666666666666, \"#ed7953\"], [0.7777777777777778, \"#fb9f3a\"], [0.8888888888888888, \"#fdca26\"], [1.0, \"#f0f921\"]]}, \"colorway\": [\"#636efa\", \"#EF553B\", \"#00cc96\", \"#ab63fa\", \"#FFA15A\", \"#19d3f3\", \"#FF6692\", \"#B6E880\", \"#FF97FF\", \"#FECB52\"], \"font\": {\"color\": \"#2a3f5f\"}, \"geo\": {\"bgcolor\": \"white\", \"lakecolor\": \"white\", \"landcolor\": \"#E5ECF6\", \"showlakes\": true, \"showland\": true, \"subunitcolor\": \"white\"}, \"hoverlabel\": {\"align\": \"left\"}, \"hovermode\": \"closest\", \"mapbox\": {\"style\": \"light\"}, \"paper_bgcolor\": \"white\", \"plot_bgcolor\": \"#E5ECF6\", \"polar\": {\"angularaxis\": {\"gridcolor\": \"white\", \"linecolor\": \"white\", \"ticks\": \"\"}, \"bgcolor\": \"#E5ECF6\", \"radialaxis\": {\"gridcolor\": \"white\", \"linecolor\": \"white\", \"ticks\": \"\"}}, \"scene\": {\"xaxis\": {\"backgroundcolor\": \"#E5ECF6\", \"gridcolor\": \"white\", \"gridwidth\": 2, \"linecolor\": \"white\", \"showbackground\": true, \"ticks\": \"\", \"zerolinecolor\": \"white\"}, \"yaxis\": {\"backgroundcolor\": \"#E5ECF6\", \"gridcolor\": \"white\", \"gridwidth\": 2, \"linecolor\": \"white\", \"showbackground\": true, \"ticks\": \"\", \"zerolinecolor\": \"white\"}, \"zaxis\": {\"backgroundcolor\": \"#E5ECF6\", \"gridcolor\": \"white\", \"gridwidth\": 2, \"linecolor\": \"white\", \"showbackground\": true, \"ticks\": \"\", \"zerolinecolor\": \"white\"}}, \"shapedefaults\": {\"line\": {\"color\": \"#2a3f5f\"}}, \"ternary\": {\"aaxis\": {\"gridcolor\": \"white\", \"linecolor\": \"white\", \"ticks\": \"\"}, \"baxis\": {\"gridcolor\": \"white\", \"linecolor\": \"white\", \"ticks\": \"\"}, \"bgcolor\": \"#E5ECF6\", \"caxis\": {\"gridcolor\": \"white\", \"linecolor\": \"white\", \"ticks\": \"\"}}, \"title\": {\"x\": 0.05}, \"xaxis\": {\"automargin\": true, \"gridcolor\": \"white\", \"linecolor\": \"white\", \"ticks\": \"\", \"title\": {\"standoff\": 15}, \"zerolinecolor\": \"white\", \"zerolinewidth\": 2}, \"yaxis\": {\"automargin\": true, \"gridcolor\": \"white\", \"linecolor\": \"white\", \"ticks\": \"\", \"title\": {\"standoff\": 15}, \"zerolinecolor\": \"white\", \"zerolinewidth\": 2}}}, \"title\": {\"text\": \"Corona patients on IC Netherlands\", \"x\": 0.5, \"xanchor\": \"center\"}, \"xaxis\": {\"title\": {\"text\": \"Date\"}}, \"yaxis\": {\"title\": {\"text\": \"# patients\"}, \"type\": \"log\"}},\n",
       "                        {\"responsive\": true}\n",
       "                    ).then(function(){\n",
       "                            \n",
       "var gd = document.getElementById('9cb21f9a-74d1-4667-8ba8-cc3907933d10');\n",
       "var x = new MutationObserver(function (mutations, observer) {{\n",
       "        var display = window.getComputedStyle(gd).display;\n",
       "        if (!display || display === 'none') {{\n",
       "            console.log([gd, 'removed!']);\n",
       "            Plotly.purge(gd);\n",
       "            observer.disconnect();\n",
       "        }}\n",
       "}});\n",
       "\n",
       "// Listen for the removal of the full notebook cells\n",
       "var notebookContainer = gd.closest('#notebook-container');\n",
       "if (notebookContainer) {{\n",
       "    x.observe(notebookContainer, {childList: true});\n",
       "}}\n",
       "\n",
       "// Listen for the clearing of the current output cell\n",
       "var outputEl = gd.closest('.output');\n",
       "if (outputEl) {{\n",
       "    x.observe(outputEl, {childList: true});\n",
       "}}\n",
       "\n",
       "                        })\n",
       "                };\n",
       "                });\n",
       "            </script>\n",
       "        </div>"
      ]
     },
     "metadata": {},
     "output_type": "display_data"
    },
    {
     "data": {
      "application/vnd.plotly.v1+json": {
       "config": {
        "plotlyServerURL": "https://plotly.com"
       },
       "data": [
        {
         "type": "bar",
         "x": [
          "2020-03-07T00:00:00",
          "2020-03-08T00:00:00",
          "2020-03-09T00:00:00",
          "2020-03-10T00:00:00",
          "2020-03-11T00:00:00",
          "2020-03-12T00:00:00",
          "2020-03-13T00:00:00",
          "2020-03-14T00:00:00",
          "2020-03-15T00:00:00",
          "2020-03-16T00:00:00",
          "2020-03-17T00:00:00",
          "2020-03-18T00:00:00",
          "2020-03-19T00:00:00",
          "2020-03-20T00:00:00",
          "2020-03-21T00:00:00",
          "2020-03-22T00:00:00",
          "2020-03-23T00:00:00",
          "2020-03-24T00:00:00",
          "2020-03-25T00:00:00",
          "2020-03-26T00:00:00",
          "2020-03-27T00:00:00",
          "2020-03-28T00:00:00",
          "2020-03-29T00:00:00",
          "2020-03-30T00:00:00",
          "2020-03-31T00:00:00",
          "2020-04-01T00:00:00",
          "2020-04-02T00:00:00",
          "2020-04-03T00:00:00",
          "2020-04-04T00:00:00",
          "2020-04-05T00:00:00",
          "2020-04-06T00:00:00",
          "2020-04-07T00:00:00",
          "2020-04-08T00:00:00",
          "2020-04-09T00:00:00",
          "2020-04-10T00:00:00",
          "2020-04-11T00:00:00",
          "2020-04-12T00:00:00"
         ],
         "y": [
          6,
          6,
          9,
          8,
          23,
          14,
          19,
          27,
          33,
          35,
          51,
          60,
          86,
          70,
          71,
          103,
          107,
          117,
          103,
          118,
          103,
          94,
          136,
          111,
          82,
          97,
          86,
          63,
          76,
          61,
          64,
          60,
          58,
          52,
          27,
          21
         ]
        }
       ],
       "layout": {
        "font": {
         "size": 12
        },
        "legend": {
         "x": 0.05,
         "y": 0.95
        },
        "template": {
         "data": {
          "bar": [
           {
            "error_x": {
             "color": "#2a3f5f"
            },
            "error_y": {
             "color": "#2a3f5f"
            },
            "marker": {
             "line": {
              "color": "#E5ECF6",
              "width": 0.5
             }
            },
            "type": "bar"
           }
          ],
          "barpolar": [
           {
            "marker": {
             "line": {
              "color": "#E5ECF6",
              "width": 0.5
             }
            },
            "type": "barpolar"
           }
          ],
          "carpet": [
           {
            "aaxis": {
             "endlinecolor": "#2a3f5f",
             "gridcolor": "white",
             "linecolor": "white",
             "minorgridcolor": "white",
             "startlinecolor": "#2a3f5f"
            },
            "baxis": {
             "endlinecolor": "#2a3f5f",
             "gridcolor": "white",
             "linecolor": "white",
             "minorgridcolor": "white",
             "startlinecolor": "#2a3f5f"
            },
            "type": "carpet"
           }
          ],
          "choropleth": [
           {
            "colorbar": {
             "outlinewidth": 0,
             "ticks": ""
            },
            "type": "choropleth"
           }
          ],
          "contour": [
           {
            "colorbar": {
             "outlinewidth": 0,
             "ticks": ""
            },
            "colorscale": [
             [
              0,
              "#0d0887"
             ],
             [
              0.1111111111111111,
              "#46039f"
             ],
             [
              0.2222222222222222,
              "#7201a8"
             ],
             [
              0.3333333333333333,
              "#9c179e"
             ],
             [
              0.4444444444444444,
              "#bd3786"
             ],
             [
              0.5555555555555556,
              "#d8576b"
             ],
             [
              0.6666666666666666,
              "#ed7953"
             ],
             [
              0.7777777777777778,
              "#fb9f3a"
             ],
             [
              0.8888888888888888,
              "#fdca26"
             ],
             [
              1,
              "#f0f921"
             ]
            ],
            "type": "contour"
           }
          ],
          "contourcarpet": [
           {
            "colorbar": {
             "outlinewidth": 0,
             "ticks": ""
            },
            "type": "contourcarpet"
           }
          ],
          "heatmap": [
           {
            "colorbar": {
             "outlinewidth": 0,
             "ticks": ""
            },
            "colorscale": [
             [
              0,
              "#0d0887"
             ],
             [
              0.1111111111111111,
              "#46039f"
             ],
             [
              0.2222222222222222,
              "#7201a8"
             ],
             [
              0.3333333333333333,
              "#9c179e"
             ],
             [
              0.4444444444444444,
              "#bd3786"
             ],
             [
              0.5555555555555556,
              "#d8576b"
             ],
             [
              0.6666666666666666,
              "#ed7953"
             ],
             [
              0.7777777777777778,
              "#fb9f3a"
             ],
             [
              0.8888888888888888,
              "#fdca26"
             ],
             [
              1,
              "#f0f921"
             ]
            ],
            "type": "heatmap"
           }
          ],
          "heatmapgl": [
           {
            "colorbar": {
             "outlinewidth": 0,
             "ticks": ""
            },
            "colorscale": [
             [
              0,
              "#0d0887"
             ],
             [
              0.1111111111111111,
              "#46039f"
             ],
             [
              0.2222222222222222,
              "#7201a8"
             ],
             [
              0.3333333333333333,
              "#9c179e"
             ],
             [
              0.4444444444444444,
              "#bd3786"
             ],
             [
              0.5555555555555556,
              "#d8576b"
             ],
             [
              0.6666666666666666,
              "#ed7953"
             ],
             [
              0.7777777777777778,
              "#fb9f3a"
             ],
             [
              0.8888888888888888,
              "#fdca26"
             ],
             [
              1,
              "#f0f921"
             ]
            ],
            "type": "heatmapgl"
           }
          ],
          "histogram": [
           {
            "marker": {
             "colorbar": {
              "outlinewidth": 0,
              "ticks": ""
             }
            },
            "type": "histogram"
           }
          ],
          "histogram2d": [
           {
            "colorbar": {
             "outlinewidth": 0,
             "ticks": ""
            },
            "colorscale": [
             [
              0,
              "#0d0887"
             ],
             [
              0.1111111111111111,
              "#46039f"
             ],
             [
              0.2222222222222222,
              "#7201a8"
             ],
             [
              0.3333333333333333,
              "#9c179e"
             ],
             [
              0.4444444444444444,
              "#bd3786"
             ],
             [
              0.5555555555555556,
              "#d8576b"
             ],
             [
              0.6666666666666666,
              "#ed7953"
             ],
             [
              0.7777777777777778,
              "#fb9f3a"
             ],
             [
              0.8888888888888888,
              "#fdca26"
             ],
             [
              1,
              "#f0f921"
             ]
            ],
            "type": "histogram2d"
           }
          ],
          "histogram2dcontour": [
           {
            "colorbar": {
             "outlinewidth": 0,
             "ticks": ""
            },
            "colorscale": [
             [
              0,
              "#0d0887"
             ],
             [
              0.1111111111111111,
              "#46039f"
             ],
             [
              0.2222222222222222,
              "#7201a8"
             ],
             [
              0.3333333333333333,
              "#9c179e"
             ],
             [
              0.4444444444444444,
              "#bd3786"
             ],
             [
              0.5555555555555556,
              "#d8576b"
             ],
             [
              0.6666666666666666,
              "#ed7953"
             ],
             [
              0.7777777777777778,
              "#fb9f3a"
             ],
             [
              0.8888888888888888,
              "#fdca26"
             ],
             [
              1,
              "#f0f921"
             ]
            ],
            "type": "histogram2dcontour"
           }
          ],
          "mesh3d": [
           {
            "colorbar": {
             "outlinewidth": 0,
             "ticks": ""
            },
            "type": "mesh3d"
           }
          ],
          "parcoords": [
           {
            "line": {
             "colorbar": {
              "outlinewidth": 0,
              "ticks": ""
             }
            },
            "type": "parcoords"
           }
          ],
          "pie": [
           {
            "automargin": true,
            "type": "pie"
           }
          ],
          "scatter": [
           {
            "marker": {
             "colorbar": {
              "outlinewidth": 0,
              "ticks": ""
             }
            },
            "type": "scatter"
           }
          ],
          "scatter3d": [
           {
            "line": {
             "colorbar": {
              "outlinewidth": 0,
              "ticks": ""
             }
            },
            "marker": {
             "colorbar": {
              "outlinewidth": 0,
              "ticks": ""
             }
            },
            "type": "scatter3d"
           }
          ],
          "scattercarpet": [
           {
            "marker": {
             "colorbar": {
              "outlinewidth": 0,
              "ticks": ""
             }
            },
            "type": "scattercarpet"
           }
          ],
          "scattergeo": [
           {
            "marker": {
             "colorbar": {
              "outlinewidth": 0,
              "ticks": ""
             }
            },
            "type": "scattergeo"
           }
          ],
          "scattergl": [
           {
            "marker": {
             "colorbar": {
              "outlinewidth": 0,
              "ticks": ""
             }
            },
            "type": "scattergl"
           }
          ],
          "scattermapbox": [
           {
            "marker": {
             "colorbar": {
              "outlinewidth": 0,
              "ticks": ""
             }
            },
            "type": "scattermapbox"
           }
          ],
          "scatterpolar": [
           {
            "marker": {
             "colorbar": {
              "outlinewidth": 0,
              "ticks": ""
             }
            },
            "type": "scatterpolar"
           }
          ],
          "scatterpolargl": [
           {
            "marker": {
             "colorbar": {
              "outlinewidth": 0,
              "ticks": ""
             }
            },
            "type": "scatterpolargl"
           }
          ],
          "scatterternary": [
           {
            "marker": {
             "colorbar": {
              "outlinewidth": 0,
              "ticks": ""
             }
            },
            "type": "scatterternary"
           }
          ],
          "surface": [
           {
            "colorbar": {
             "outlinewidth": 0,
             "ticks": ""
            },
            "colorscale": [
             [
              0,
              "#0d0887"
             ],
             [
              0.1111111111111111,
              "#46039f"
             ],
             [
              0.2222222222222222,
              "#7201a8"
             ],
             [
              0.3333333333333333,
              "#9c179e"
             ],
             [
              0.4444444444444444,
              "#bd3786"
             ],
             [
              0.5555555555555556,
              "#d8576b"
             ],
             [
              0.6666666666666666,
              "#ed7953"
             ],
             [
              0.7777777777777778,
              "#fb9f3a"
             ],
             [
              0.8888888888888888,
              "#fdca26"
             ],
             [
              1,
              "#f0f921"
             ]
            ],
            "type": "surface"
           }
          ],
          "table": [
           {
            "cells": {
             "fill": {
              "color": "#EBF0F8"
             },
             "line": {
              "color": "white"
             }
            },
            "header": {
             "fill": {
              "color": "#C8D4E3"
             },
             "line": {
              "color": "white"
             }
            },
            "type": "table"
           }
          ]
         },
         "layout": {
          "annotationdefaults": {
           "arrowcolor": "#2a3f5f",
           "arrowhead": 0,
           "arrowwidth": 1
          },
          "coloraxis": {
           "colorbar": {
            "outlinewidth": 0,
            "ticks": ""
           }
          },
          "colorscale": {
           "diverging": [
            [
             0,
             "#8e0152"
            ],
            [
             0.1,
             "#c51b7d"
            ],
            [
             0.2,
             "#de77ae"
            ],
            [
             0.3,
             "#f1b6da"
            ],
            [
             0.4,
             "#fde0ef"
            ],
            [
             0.5,
             "#f7f7f7"
            ],
            [
             0.6,
             "#e6f5d0"
            ],
            [
             0.7,
             "#b8e186"
            ],
            [
             0.8,
             "#7fbc41"
            ],
            [
             0.9,
             "#4d9221"
            ],
            [
             1,
             "#276419"
            ]
           ],
           "sequential": [
            [
             0,
             "#0d0887"
            ],
            [
             0.1111111111111111,
             "#46039f"
            ],
            [
             0.2222222222222222,
             "#7201a8"
            ],
            [
             0.3333333333333333,
             "#9c179e"
            ],
            [
             0.4444444444444444,
             "#bd3786"
            ],
            [
             0.5555555555555556,
             "#d8576b"
            ],
            [
             0.6666666666666666,
             "#ed7953"
            ],
            [
             0.7777777777777778,
             "#fb9f3a"
            ],
            [
             0.8888888888888888,
             "#fdca26"
            ],
            [
             1,
             "#f0f921"
            ]
           ],
           "sequentialminus": [
            [
             0,
             "#0d0887"
            ],
            [
             0.1111111111111111,
             "#46039f"
            ],
            [
             0.2222222222222222,
             "#7201a8"
            ],
            [
             0.3333333333333333,
             "#9c179e"
            ],
            [
             0.4444444444444444,
             "#bd3786"
            ],
            [
             0.5555555555555556,
             "#d8576b"
            ],
            [
             0.6666666666666666,
             "#ed7953"
            ],
            [
             0.7777777777777778,
             "#fb9f3a"
            ],
            [
             0.8888888888888888,
             "#fdca26"
            ],
            [
             1,
             "#f0f921"
            ]
           ]
          },
          "colorway": [
           "#636efa",
           "#EF553B",
           "#00cc96",
           "#ab63fa",
           "#FFA15A",
           "#19d3f3",
           "#FF6692",
           "#B6E880",
           "#FF97FF",
           "#FECB52"
          ],
          "font": {
           "color": "#2a3f5f"
          },
          "geo": {
           "bgcolor": "white",
           "lakecolor": "white",
           "landcolor": "#E5ECF6",
           "showlakes": true,
           "showland": true,
           "subunitcolor": "white"
          },
          "hoverlabel": {
           "align": "left"
          },
          "hovermode": "closest",
          "mapbox": {
           "style": "light"
          },
          "paper_bgcolor": "white",
          "plot_bgcolor": "#E5ECF6",
          "polar": {
           "angularaxis": {
            "gridcolor": "white",
            "linecolor": "white",
            "ticks": ""
           },
           "bgcolor": "#E5ECF6",
           "radialaxis": {
            "gridcolor": "white",
            "linecolor": "white",
            "ticks": ""
           }
          },
          "scene": {
           "xaxis": {
            "backgroundcolor": "#E5ECF6",
            "gridcolor": "white",
            "gridwidth": 2,
            "linecolor": "white",
            "showbackground": true,
            "ticks": "",
            "zerolinecolor": "white"
           },
           "yaxis": {
            "backgroundcolor": "#E5ECF6",
            "gridcolor": "white",
            "gridwidth": 2,
            "linecolor": "white",
            "showbackground": true,
            "ticks": "",
            "zerolinecolor": "white"
           },
           "zaxis": {
            "backgroundcolor": "#E5ECF6",
            "gridcolor": "white",
            "gridwidth": 2,
            "linecolor": "white",
            "showbackground": true,
            "ticks": "",
            "zerolinecolor": "white"
           }
          },
          "shapedefaults": {
           "line": {
            "color": "#2a3f5f"
           }
          },
          "ternary": {
           "aaxis": {
            "gridcolor": "white",
            "linecolor": "white",
            "ticks": ""
           },
           "baxis": {
            "gridcolor": "white",
            "linecolor": "white",
            "ticks": ""
           },
           "bgcolor": "#E5ECF6",
           "caxis": {
            "gridcolor": "white",
            "linecolor": "white",
            "ticks": ""
           }
          },
          "title": {
           "x": 0.05
          },
          "xaxis": {
           "automargin": true,
           "gridcolor": "white",
           "linecolor": "white",
           "ticks": "",
           "title": {
            "standoff": 15
           },
           "zerolinecolor": "white",
           "zerolinewidth": 2
          },
          "yaxis": {
           "automargin": true,
           "gridcolor": "white",
           "linecolor": "white",
           "ticks": "",
           "title": {
            "standoff": 15
           },
           "zerolinecolor": "white",
           "zerolinewidth": 2
          }
         }
        },
        "title": {
         "text": "Daily increase in Corona victims Netherlands",
         "x": 0.5,
         "xanchor": "center"
        },
        "xaxis": {
         "title": {
          "text": "Date"
         }
        },
        "yaxis": {
         "title": {
          "text": "# patients/day"
         }
        }
       }
      },
      "text/html": [
       "<div>\n",
       "        \n",
       "        \n",
       "            <div id=\"dac4c906-4d4d-4906-addd-bea96cccd0e1\" class=\"plotly-graph-div\" style=\"height:525px; width:100%;\"></div>\n",
       "            <script type=\"text/javascript\">\n",
       "                require([\"plotly\"], function(Plotly) {\n",
       "                    window.PLOTLYENV=window.PLOTLYENV || {};\n",
       "                    \n",
       "                if (document.getElementById(\"dac4c906-4d4d-4906-addd-bea96cccd0e1\")) {\n",
       "                    Plotly.newPlot(\n",
       "                        'dac4c906-4d4d-4906-addd-bea96cccd0e1',\n",
       "                        [{\"type\": \"bar\", \"x\": [\"2020-03-07T00:00:00\", \"2020-03-08T00:00:00\", \"2020-03-09T00:00:00\", \"2020-03-10T00:00:00\", \"2020-03-11T00:00:00\", \"2020-03-12T00:00:00\", \"2020-03-13T00:00:00\", \"2020-03-14T00:00:00\", \"2020-03-15T00:00:00\", \"2020-03-16T00:00:00\", \"2020-03-17T00:00:00\", \"2020-03-18T00:00:00\", \"2020-03-19T00:00:00\", \"2020-03-20T00:00:00\", \"2020-03-21T00:00:00\", \"2020-03-22T00:00:00\", \"2020-03-23T00:00:00\", \"2020-03-24T00:00:00\", \"2020-03-25T00:00:00\", \"2020-03-26T00:00:00\", \"2020-03-27T00:00:00\", \"2020-03-28T00:00:00\", \"2020-03-29T00:00:00\", \"2020-03-30T00:00:00\", \"2020-03-31T00:00:00\", \"2020-04-01T00:00:00\", \"2020-04-02T00:00:00\", \"2020-04-03T00:00:00\", \"2020-04-04T00:00:00\", \"2020-04-05T00:00:00\", \"2020-04-06T00:00:00\", \"2020-04-07T00:00:00\", \"2020-04-08T00:00:00\", \"2020-04-09T00:00:00\", \"2020-04-10T00:00:00\", \"2020-04-11T00:00:00\", \"2020-04-12T00:00:00\"], \"y\": [6.0, 6.0, 9.0, 8.0, 23.0, 14.0, 19.0, 27.0, 33.0, 35.0, 51.0, 60.0, 86.0, 70.0, 71.0, 103.0, 107.0, 117.0, 103.0, 118.0, 103.0, 94.0, 136.0, 111.0, 82.0, 97.0, 86.0, 63.0, 76.0, 61.0, 64.0, 60.0, 58.0, 52.0, 27.0, 21.0]}],\n",
       "                        {\"font\": {\"size\": 12}, \"legend\": {\"x\": 0.05, \"y\": 0.95}, \"template\": {\"data\": {\"bar\": [{\"error_x\": {\"color\": \"#2a3f5f\"}, \"error_y\": {\"color\": \"#2a3f5f\"}, \"marker\": {\"line\": {\"color\": \"#E5ECF6\", \"width\": 0.5}}, \"type\": \"bar\"}], \"barpolar\": [{\"marker\": {\"line\": {\"color\": \"#E5ECF6\", \"width\": 0.5}}, \"type\": \"barpolar\"}], \"carpet\": [{\"aaxis\": {\"endlinecolor\": \"#2a3f5f\", \"gridcolor\": \"white\", \"linecolor\": \"white\", \"minorgridcolor\": \"white\", \"startlinecolor\": \"#2a3f5f\"}, \"baxis\": {\"endlinecolor\": \"#2a3f5f\", \"gridcolor\": \"white\", \"linecolor\": \"white\", \"minorgridcolor\": \"white\", \"startlinecolor\": \"#2a3f5f\"}, \"type\": \"carpet\"}], \"choropleth\": [{\"colorbar\": {\"outlinewidth\": 0, \"ticks\": \"\"}, \"type\": \"choropleth\"}], \"contour\": [{\"colorbar\": {\"outlinewidth\": 0, \"ticks\": \"\"}, \"colorscale\": [[0.0, \"#0d0887\"], [0.1111111111111111, \"#46039f\"], [0.2222222222222222, \"#7201a8\"], [0.3333333333333333, \"#9c179e\"], [0.4444444444444444, \"#bd3786\"], [0.5555555555555556, \"#d8576b\"], [0.6666666666666666, \"#ed7953\"], [0.7777777777777778, \"#fb9f3a\"], [0.8888888888888888, \"#fdca26\"], [1.0, \"#f0f921\"]], \"type\": \"contour\"}], \"contourcarpet\": [{\"colorbar\": {\"outlinewidth\": 0, \"ticks\": \"\"}, \"type\": \"contourcarpet\"}], \"heatmap\": [{\"colorbar\": {\"outlinewidth\": 0, \"ticks\": \"\"}, \"colorscale\": [[0.0, \"#0d0887\"], [0.1111111111111111, \"#46039f\"], [0.2222222222222222, \"#7201a8\"], [0.3333333333333333, \"#9c179e\"], [0.4444444444444444, \"#bd3786\"], [0.5555555555555556, \"#d8576b\"], [0.6666666666666666, \"#ed7953\"], [0.7777777777777778, \"#fb9f3a\"], [0.8888888888888888, \"#fdca26\"], [1.0, \"#f0f921\"]], \"type\": \"heatmap\"}], \"heatmapgl\": [{\"colorbar\": {\"outlinewidth\": 0, \"ticks\": \"\"}, \"colorscale\": [[0.0, \"#0d0887\"], [0.1111111111111111, \"#46039f\"], [0.2222222222222222, \"#7201a8\"], [0.3333333333333333, \"#9c179e\"], [0.4444444444444444, \"#bd3786\"], [0.5555555555555556, \"#d8576b\"], [0.6666666666666666, \"#ed7953\"], [0.7777777777777778, \"#fb9f3a\"], [0.8888888888888888, \"#fdca26\"], [1.0, \"#f0f921\"]], \"type\": \"heatmapgl\"}], \"histogram\": [{\"marker\": {\"colorbar\": {\"outlinewidth\": 0, \"ticks\": \"\"}}, \"type\": \"histogram\"}], \"histogram2d\": [{\"colorbar\": {\"outlinewidth\": 0, \"ticks\": \"\"}, \"colorscale\": [[0.0, \"#0d0887\"], [0.1111111111111111, \"#46039f\"], [0.2222222222222222, \"#7201a8\"], [0.3333333333333333, \"#9c179e\"], [0.4444444444444444, \"#bd3786\"], [0.5555555555555556, \"#d8576b\"], [0.6666666666666666, \"#ed7953\"], [0.7777777777777778, \"#fb9f3a\"], [0.8888888888888888, \"#fdca26\"], [1.0, \"#f0f921\"]], \"type\": \"histogram2d\"}], \"histogram2dcontour\": [{\"colorbar\": {\"outlinewidth\": 0, \"ticks\": \"\"}, \"colorscale\": [[0.0, \"#0d0887\"], [0.1111111111111111, \"#46039f\"], [0.2222222222222222, \"#7201a8\"], [0.3333333333333333, \"#9c179e\"], [0.4444444444444444, \"#bd3786\"], [0.5555555555555556, \"#d8576b\"], [0.6666666666666666, \"#ed7953\"], [0.7777777777777778, \"#fb9f3a\"], [0.8888888888888888, \"#fdca26\"], [1.0, \"#f0f921\"]], \"type\": \"histogram2dcontour\"}], \"mesh3d\": [{\"colorbar\": {\"outlinewidth\": 0, \"ticks\": \"\"}, \"type\": \"mesh3d\"}], \"parcoords\": [{\"line\": {\"colorbar\": {\"outlinewidth\": 0, \"ticks\": \"\"}}, \"type\": \"parcoords\"}], \"pie\": [{\"automargin\": true, \"type\": \"pie\"}], \"scatter\": [{\"marker\": {\"colorbar\": {\"outlinewidth\": 0, \"ticks\": \"\"}}, \"type\": \"scatter\"}], \"scatter3d\": [{\"line\": {\"colorbar\": {\"outlinewidth\": 0, \"ticks\": \"\"}}, \"marker\": {\"colorbar\": {\"outlinewidth\": 0, \"ticks\": \"\"}}, \"type\": \"scatter3d\"}], \"scattercarpet\": [{\"marker\": {\"colorbar\": {\"outlinewidth\": 0, \"ticks\": \"\"}}, \"type\": \"scattercarpet\"}], \"scattergeo\": [{\"marker\": {\"colorbar\": {\"outlinewidth\": 0, \"ticks\": \"\"}}, \"type\": \"scattergeo\"}], \"scattergl\": [{\"marker\": {\"colorbar\": {\"outlinewidth\": 0, \"ticks\": \"\"}}, \"type\": \"scattergl\"}], \"scattermapbox\": [{\"marker\": {\"colorbar\": {\"outlinewidth\": 0, \"ticks\": \"\"}}, \"type\": \"scattermapbox\"}], \"scatterpolar\": [{\"marker\": {\"colorbar\": {\"outlinewidth\": 0, \"ticks\": \"\"}}, \"type\": \"scatterpolar\"}], \"scatterpolargl\": [{\"marker\": {\"colorbar\": {\"outlinewidth\": 0, \"ticks\": \"\"}}, \"type\": \"scatterpolargl\"}], \"scatterternary\": [{\"marker\": {\"colorbar\": {\"outlinewidth\": 0, \"ticks\": \"\"}}, \"type\": \"scatterternary\"}], \"surface\": [{\"colorbar\": {\"outlinewidth\": 0, \"ticks\": \"\"}, \"colorscale\": [[0.0, \"#0d0887\"], [0.1111111111111111, \"#46039f\"], [0.2222222222222222, \"#7201a8\"], [0.3333333333333333, \"#9c179e\"], [0.4444444444444444, \"#bd3786\"], [0.5555555555555556, \"#d8576b\"], [0.6666666666666666, \"#ed7953\"], [0.7777777777777778, \"#fb9f3a\"], [0.8888888888888888, \"#fdca26\"], [1.0, \"#f0f921\"]], \"type\": \"surface\"}], \"table\": [{\"cells\": {\"fill\": {\"color\": \"#EBF0F8\"}, \"line\": {\"color\": \"white\"}}, \"header\": {\"fill\": {\"color\": \"#C8D4E3\"}, \"line\": {\"color\": \"white\"}}, \"type\": \"table\"}]}, \"layout\": {\"annotationdefaults\": {\"arrowcolor\": \"#2a3f5f\", \"arrowhead\": 0, \"arrowwidth\": 1}, \"coloraxis\": {\"colorbar\": {\"outlinewidth\": 0, \"ticks\": \"\"}}, \"colorscale\": {\"diverging\": [[0, \"#8e0152\"], [0.1, \"#c51b7d\"], [0.2, \"#de77ae\"], [0.3, \"#f1b6da\"], [0.4, \"#fde0ef\"], [0.5, \"#f7f7f7\"], [0.6, \"#e6f5d0\"], [0.7, \"#b8e186\"], [0.8, \"#7fbc41\"], [0.9, \"#4d9221\"], [1, \"#276419\"]], \"sequential\": [[0.0, \"#0d0887\"], [0.1111111111111111, \"#46039f\"], [0.2222222222222222, \"#7201a8\"], [0.3333333333333333, \"#9c179e\"], [0.4444444444444444, \"#bd3786\"], [0.5555555555555556, \"#d8576b\"], [0.6666666666666666, \"#ed7953\"], [0.7777777777777778, \"#fb9f3a\"], [0.8888888888888888, \"#fdca26\"], [1.0, \"#f0f921\"]], \"sequentialminus\": [[0.0, \"#0d0887\"], [0.1111111111111111, \"#46039f\"], [0.2222222222222222, \"#7201a8\"], [0.3333333333333333, \"#9c179e\"], [0.4444444444444444, \"#bd3786\"], [0.5555555555555556, \"#d8576b\"], [0.6666666666666666, \"#ed7953\"], [0.7777777777777778, \"#fb9f3a\"], [0.8888888888888888, \"#fdca26\"], [1.0, \"#f0f921\"]]}, \"colorway\": [\"#636efa\", \"#EF553B\", \"#00cc96\", \"#ab63fa\", \"#FFA15A\", \"#19d3f3\", \"#FF6692\", \"#B6E880\", \"#FF97FF\", \"#FECB52\"], \"font\": {\"color\": \"#2a3f5f\"}, \"geo\": {\"bgcolor\": \"white\", \"lakecolor\": \"white\", \"landcolor\": \"#E5ECF6\", \"showlakes\": true, \"showland\": true, \"subunitcolor\": \"white\"}, \"hoverlabel\": {\"align\": \"left\"}, \"hovermode\": \"closest\", \"mapbox\": {\"style\": \"light\"}, \"paper_bgcolor\": \"white\", \"plot_bgcolor\": \"#E5ECF6\", \"polar\": {\"angularaxis\": {\"gridcolor\": \"white\", \"linecolor\": \"white\", \"ticks\": \"\"}, \"bgcolor\": \"#E5ECF6\", \"radialaxis\": {\"gridcolor\": \"white\", \"linecolor\": \"white\", \"ticks\": \"\"}}, \"scene\": {\"xaxis\": {\"backgroundcolor\": \"#E5ECF6\", \"gridcolor\": \"white\", \"gridwidth\": 2, \"linecolor\": \"white\", \"showbackground\": true, \"ticks\": \"\", \"zerolinecolor\": \"white\"}, \"yaxis\": {\"backgroundcolor\": \"#E5ECF6\", \"gridcolor\": \"white\", \"gridwidth\": 2, \"linecolor\": \"white\", \"showbackground\": true, \"ticks\": \"\", \"zerolinecolor\": \"white\"}, \"zaxis\": {\"backgroundcolor\": \"#E5ECF6\", \"gridcolor\": \"white\", \"gridwidth\": 2, \"linecolor\": \"white\", \"showbackground\": true, \"ticks\": \"\", \"zerolinecolor\": \"white\"}}, \"shapedefaults\": {\"line\": {\"color\": \"#2a3f5f\"}}, \"ternary\": {\"aaxis\": {\"gridcolor\": \"white\", \"linecolor\": \"white\", \"ticks\": \"\"}, \"baxis\": {\"gridcolor\": \"white\", \"linecolor\": \"white\", \"ticks\": \"\"}, \"bgcolor\": \"#E5ECF6\", \"caxis\": {\"gridcolor\": \"white\", \"linecolor\": \"white\", \"ticks\": \"\"}}, \"title\": {\"x\": 0.05}, \"xaxis\": {\"automargin\": true, \"gridcolor\": \"white\", \"linecolor\": \"white\", \"ticks\": \"\", \"title\": {\"standoff\": 15}, \"zerolinecolor\": \"white\", \"zerolinewidth\": 2}, \"yaxis\": {\"automargin\": true, \"gridcolor\": \"white\", \"linecolor\": \"white\", \"ticks\": \"\", \"title\": {\"standoff\": 15}, \"zerolinecolor\": \"white\", \"zerolinewidth\": 2}}}, \"title\": {\"text\": \"Daily increase in Corona victims Netherlands\", \"x\": 0.5, \"xanchor\": \"center\"}, \"xaxis\": {\"title\": {\"text\": \"Date\"}}, \"yaxis\": {\"title\": {\"text\": \"# patients/day\"}}},\n",
       "                        {\"responsive\": true}\n",
       "                    ).then(function(){\n",
       "                            \n",
       "var gd = document.getElementById('dac4c906-4d4d-4906-addd-bea96cccd0e1');\n",
       "var x = new MutationObserver(function (mutations, observer) {{\n",
       "        var display = window.getComputedStyle(gd).display;\n",
       "        if (!display || display === 'none') {{\n",
       "            console.log([gd, 'removed!']);\n",
       "            Plotly.purge(gd);\n",
       "            observer.disconnect();\n",
       "        }}\n",
       "}});\n",
       "\n",
       "// Listen for the removal of the full notebook cells\n",
       "var notebookContainer = gd.closest('#notebook-container');\n",
       "if (notebookContainer) {{\n",
       "    x.observe(notebookContainer, {childList: true});\n",
       "}}\n",
       "\n",
       "// Listen for the clearing of the current output cell\n",
       "var outputEl = gd.closest('.output');\n",
       "if (outputEl) {{\n",
       "    x.observe(outputEl, {childList: true});\n",
       "}}\n",
       "\n",
       "                        })\n",
       "                };\n",
       "                });\n",
       "            </script>\n",
       "        </div>"
      ]
     },
     "metadata": {},
     "output_type": "display_data"
    }
   ],
   "source": [
    "# fit ic opnames\n",
    "cases=\"cases\"\n",
    "\n",
    "upload_plots=False\n",
    "#upload_plots=True\n",
    "\n",
    "startdatum=pd.Timestamp(2020, 3, 3, 0).to_pydatetime()\n",
    "ictot=[5,6,8,11,16,20,28,34,55,69,86,114,147,182,235,290,\\\n",
    "       375,449,519,621,728,843,942,1056,1153,1237,1315]\n",
    "\n",
    "\n",
    "l=len(ictot)\n",
    "dates=expand_pd_date(startdatum,n=l)\n",
    "print(dates)\n",
    "\n",
    "domain=\"https://stichting-nice.nl/\"\n",
    "cum_died_survive=\"/covid-19/public/died-and-survivors-cumulative/\"\n",
    "glob=\"/covid-19/public/global\"\n",
    "new_intake=\"/covid-19/public/new-intake/\"\n",
    "intake_count=\"/covid-19/public/intake-count/\" \n",
    "intake_cum=\"/covid-19/public/intake-cumulative/\"\n",
    "ic_count=\"/covid-19/public/ic-count/\"\n",
    "age_distrib=\"/covid-19/public/age-distribution/\"\n",
    "age_died='/covid-19/public/age-distribution-died/'\n",
    "\n",
    "def get_url(url):\n",
    "    uri=domain+url\n",
    "    #url=\"https://corona.lmao.ninja/v2/historical\"\n",
    "    headers = {'User-Agent': 'Mozilla/5.0 (Macintosh; Intel Mac OS X 10_11_5) AppleWebKit/537.36 (KHTML, like Gecko) Chrome/50.0.2661.102 Safari/537.36'}\n",
    "    result = requests.get(uri, headers=headers)\n",
    "    return result.content\n",
    "\n",
    "q=get_url(intake_cum)\n",
    "\n",
    "dd=pd.read_json(q,convert_dates=True)\n",
    "a=json.loads(q)\n",
    "intake=dd[['date','intakeCumulative']]\n",
    "\n",
    "y=intake['intakeCumulative'][7:]\n",
    "dates=intake['date'][7:]\n",
    "#print(y)\n",
    "#print(dates)\n",
    "from lmfit import Model\n",
    "def ef(x,L,tau):\n",
    "    return L*np.power(2,x/tau)\n",
    "\n",
    "y=np.array(y).astype(float)\n",
    "print(y)\n",
    "l=len(y)\n",
    "x=np.arange(0, l,1, float)\n",
    "gmodel = Model(ef)\n",
    "params = gmodel.make_params(L=2000,tau=2)\n",
    "print('parameter names: {}'.format(gmodel.param_names))\n",
    "print('independent variables: {}'.format(gmodel.independent_vars))\n",
    "\n",
    "\n",
    "#==============================\n",
    "y1=np.array(y[-7:]).astype(float)\n",
    "l1=len(y1)\n",
    "\n",
    "y2=np.array(y[-14:-7]).astype(float)\n",
    "l2=len(y2)\n",
    "x1=np.arange(0, l1+l2,1, float)\n",
    "\n",
    "result1 = gmodel.fit(y1, params,x=x1[-7:])\n",
    "result2 = gmodel.fit(y2, params,x=x1[-14:-7])\n",
    "\n",
    "print(result1.params)\n",
    "print(result2.params)\n",
    "\n",
    "#dates=qq['date']\n",
    "# Create traces\n",
    "#     l=len(x)\n",
    "xdate1=dates[-7:]\n",
    "xdate1=dates[-14:]\n",
    "xdate2=dates[-14:-7]\n",
    "yf1= gmodel.eval(result1.params, x=x1)\n",
    "yf2= gmodel.eval(result2.params, x=x1)\n",
    "#x=qq['date']\n",
    "dt=xdate1.iloc[-1].to_pydatetime()\n",
    "xdate_extra=expand_date(dt)\n",
    "l=len(xdate_extra)\n",
    "x_extra=np.arange(x1[-1]+1, x1[-1]+l,1, float)\n",
    "y_extra=gmodel.eval(result1.params, x=x_extra).astype(int)\n",
    "\n",
    "fig = go.Figure()\n",
    "fig.add_trace(go.Scatter(x=dates, y=y,\n",
    "                         mode='markers',\n",
    "                         name='counts NVIC',\n",
    "                         marker_size=10,\n",
    "                         marker_symbol='circle'))\n",
    "fig.add_trace(go.Scatter(x=xdate1, y=yf1,\n",
    "                         mode='lines',\n",
    "                         name='last week: double every %.1f days'%result1.params['tau'].value))\n",
    "fig.add_trace(go.Scatter(x=xdate1, y=yf2,\n",
    "                         mode='lines',\n",
    "                         name='week before: double every %.1f days'%result2.params['tau'].value))\n",
    "\n",
    "fig.add_trace(go.Scatter(x=xdate_extra, y=y_extra,\n",
    "                         mode='markers',\n",
    "                         name='prediction',\n",
    "                        marker_size=10,\n",
    "                         marker_symbol='square'))\n",
    "title=\"Corona patients on IC Netherlands\"\n",
    "yaxis_title=\"# patients\"\n",
    "\n",
    "fig.update_layout(yaxis_type=\"log\",\n",
    "                  title=title,\n",
    "                  title_xanchor=\"center\",\n",
    "                  title_x=0.5,\n",
    "                  xaxis_title=\"Date\",\n",
    "                  yaxis_title=yaxis_title,\n",
    "                  legend_x=0.05,\n",
    "                  legend_y=0.95,\n",
    "                  font_size=12)\n",
    "\n",
    "filename=\"corona_ic\"\n",
    "if upload_plots:\n",
    "    py.plot(fig, filename = filename, auto_open=True)\n",
    "fig.show()\n",
    "\n",
    "l=len(y)\n",
    "toename=y[1:]-y[:l-1]\n",
    "ll=len(toename)\n",
    "xx=np.arange(0, ll,1, float)\n",
    "fig = go.Figure()\n",
    "fig.add_trace(go.Bar(x=dates,y=toename))\n",
    "title=\"Daily increase in Corona victims Netherlands\" if cases == \"cases\" else \"Daily increase in IC patients Netherlands\"\n",
    "yaxis_title=\"# patients/day\"\n",
    "\n",
    "fig.update_layout(title=title,\n",
    "                  title_xanchor=\"center\",\n",
    "                  title_x=0.5,\n",
    "                  xaxis_title=\"Date\",\n",
    "                  yaxis_title=yaxis_title,\n",
    "                  legend_x=0.05,\n",
    "                  legend_y=0.95,\n",
    "                  font_size=12)\n",
    "filename=\"corona_ic_increase\"\n",
    "if upload_plots:\n",
    "    py.plot(fig, filename = filename, auto_open=True)\n",
    "fig.show()"
   ]
  },
  {
   "cell_type": "code",
   "execution_count": 21,
   "metadata": {},
   "outputs": [
    {
     "data": {
      "text/plain": [
       "[<matplotlib.lines.Line2D at 0x26c82bb2d60>]"
      ]
     },
     "execution_count": 21,
     "metadata": {},
     "output_type": "execute_result"
    },
    {
     "data": {
      "image/png": "[encoded data removed]",
      "text/plain": [
       "<Figure size 432x288 with 1 Axes>"
      ]
     },
     "metadata": {
      "needs_background": "light"
     },
     "output_type": "display_data"
    }
   ],
   "source": [
    "%matplotlib inline\n",
    "plt.plot(dates,y)"
   ]
  },
  {
   "cell_type": "code",
   "execution_count": 34,
   "metadata": {},
   "outputs": [
    {
     "name": "stdout",
     "output_type": "stream",
     "text": [
      "1\n",
      "parameter names: ['M', 'alpha', 'beta']\n",
      "independent variables: ['x']\n"
     ]
    },
    {
     "data": {
      "application/vnd.plotly.v1+json": {
       "config": {
        "plotlyServerURL": "https://plotly.com"
       },
       "data": [
        {
         "marker": {
          "size": 10,
          "symbol": "circle"
         },
         "mode": "markers",
         "name": "counts RIVM",
         "type": "scatter",
         "x": [
          "2020-03-08T00:00:00",
          "2020-03-09T00:00:00",
          "2020-03-10T00:00:00",
          "2020-03-11T00:00:00",
          "2020-03-12T00:00:00",
          "2020-03-13T00:00:00",
          "2020-03-14T00:00:00",
          "2020-03-15T00:00:00",
          "2020-03-16T00:00:00",
          "2020-03-17T00:00:00",
          "2020-03-18T00:00:00",
          "2020-03-19T00:00:00",
          "2020-03-20T00:00:00",
          "2020-03-21T00:00:00",
          "2020-03-22T00:00:00",
          "2020-03-23T00:00:00",
          "2020-03-24T00:00:00",
          "2020-03-25T00:00:00",
          "2020-03-26T00:00:00",
          "2020-03-27T00:00:00",
          "2020-03-28T00:00:00",
          "2020-03-29T00:00:00",
          "2020-03-30T00:00:00",
          "2020-03-31T00:00:00",
          "2020-04-01T00:00:00",
          "2020-04-02T00:00:00",
          "2020-04-03T00:00:00",
          "2020-04-04T00:00:00",
          "2020-04-05T00:00:00",
          "2020-04-06T00:00:00",
          "2020-04-07T00:00:00",
          "2020-04-08T00:00:00",
          "2020-04-09T00:00:00",
          "2020-04-10T00:00:00",
          "2020-04-11T00:00:00",
          "2020-04-12T00:00:00"
         ],
         "y": [
          20,
          26,
          35,
          43,
          66,
          80,
          99,
          126,
          159,
          194,
          245,
          305,
          391,
          461,
          532,
          635,
          742,
          859,
          962,
          1080,
          1183,
          1277,
          1413,
          1524,
          1606,
          1703,
          1789,
          1852,
          1928,
          1989,
          2053,
          2113,
          2171,
          2223,
          2250,
          2271
         ]
        },
        {
         "mode": "lines",
         "name": "K=2346.06,\\beta=0.20, t_0=21.03",
         "type": "scatter",
         "x": [
          "2020-03-08T00:00:00",
          "2020-03-09T00:00:00",
          "2020-03-10T00:00:00",
          "2020-03-11T00:00:00",
          "2020-03-12T00:00:00",
          "2020-03-13T00:00:00",
          "2020-03-14T00:00:00",
          "2020-03-15T00:00:00",
          "2020-03-16T00:00:00",
          "2020-03-17T00:00:00",
          "2020-03-18T00:00:00",
          "2020-03-19T00:00:00",
          "2020-03-20T00:00:00",
          "2020-03-21T00:00:00",
          "2020-03-22T00:00:00",
          "2020-03-23T00:00:00",
          "2020-03-24T00:00:00",
          "2020-03-25T00:00:00",
          "2020-03-26T00:00:00",
          "2020-03-27T00:00:00",
          "2020-03-28T00:00:00",
          "2020-03-29T00:00:00",
          "2020-03-30T00:00:00",
          "2020-03-31T00:00:00",
          "2020-04-01T00:00:00",
          "2020-04-02T00:00:00",
          "2020-04-03T00:00:00",
          "2020-04-04T00:00:00",
          "2020-04-05T00:00:00",
          "2020-04-06T00:00:00",
          "2020-04-07T00:00:00",
          "2020-04-08T00:00:00",
          "2020-04-09T00:00:00",
          "2020-04-10T00:00:00",
          "2020-04-11T00:00:00",
          "2020-04-12T00:00:00"
         ],
         "y": [
          39.01695832656763,
          47.651788337213674,
          58.14942328927477,
          70.8883486834084,
          86.31273667521866,
          104.93847525133761,
          127.35700490077494,
          154.23530843514757,
          186.3098542326531,
          224.37176483177814,
          269.24012710236656,
          321.7204290390903,
          382.5459468922771,
          452.3018967698616,
          531.335580166545,
          619.6605111728672,
          716.8678836071646,
          822.0631606362956,
          933.8468525463416,
          1050.3546213231775,
          1169.3619955345603,
          1288.4449080327877,
          1405.1731625851046,
          1517.3049331961818,
          1622.9501101994751,
          1720.6788498078947,
          1809.5656223037556,
          1889.1732679937845,
          1959.49176138185,
          2020.8506749508192,
          2073.8233183075577,
          2119.1362300026485,
          2157.5923335648827,
          2190.0112443216562,
          2217.186708257181,
          2239.8590819156793
         ]
        },
        {
         "marker": {
          "size": 10,
          "symbol": "square"
         },
         "mode": "markers",
         "name": "prediction",
         "type": "scatter",
         "x": [
          "2020-04-13T00:00:00",
          "2020-04-14T00:00:00",
          "2020-04-15T00:00:00",
          "2020-04-16T00:00:00",
          "2020-04-17T00:00:00",
          "2020-04-18T00:00:00",
          "2020-04-19T00:00:00"
         ],
         "y": [
          2258,
          2274,
          2287,
          2297,
          2306,
          2313
         ]
        }
       ],
       "layout": {
        "font": {
         "size": 12
        },
        "legend": {
         "x": 0.05,
         "y": 0.95
        },
        "template": {
         "data": {
          "bar": [
           {
            "error_x": {
             "color": "#2a3f5f"
            },
            "error_y": {
             "color": "#2a3f5f"
            },
            "marker": {
             "line": {
              "color": "#E5ECF6",
              "width": 0.5
             }
            },
            "type": "bar"
           }
          ],
          "barpolar": [
           {
            "marker": {
             "line": {
              "color": "#E5ECF6",
              "width": 0.5
             }
            },
            "type": "barpolar"
           }
          ],
          "carpet": [
           {
            "aaxis": {
             "endlinecolor": "#2a3f5f",
             "gridcolor": "white",
             "linecolor": "white",
             "minorgridcolor": "white",
             "startlinecolor": "#2a3f5f"
            },
            "baxis": {
             "endlinecolor": "#2a3f5f",
             "gridcolor": "white",
             "linecolor": "white",
             "minorgridcolor": "white",
             "startlinecolor": "#2a3f5f"
            },
            "type": "carpet"
           }
          ],
          "choropleth": [
           {
            "colorbar": {
             "outlinewidth": 0,
             "ticks": ""
            },
            "type": "choropleth"
           }
          ],
          "contour": [
           {
            "colorbar": {
             "outlinewidth": 0,
             "ticks": ""
            },
            "colorscale": [
             [
              0,
              "#0d0887"
             ],
             [
              0.1111111111111111,
              "#46039f"
             ],
             [
              0.2222222222222222,
              "#7201a8"
             ],
             [
              0.3333333333333333,
              "#9c179e"
             ],
             [
              0.4444444444444444,
              "#bd3786"
             ],
             [
              0.5555555555555556,
              "#d8576b"
             ],
             [
              0.6666666666666666,
              "#ed7953"
             ],
             [
              0.7777777777777778,
              "#fb9f3a"
             ],
             [
              0.8888888888888888,
              "#fdca26"
             ],
             [
              1,
              "#f0f921"
             ]
            ],
            "type": "contour"
           }
          ],
          "contourcarpet": [
           {
            "colorbar": {
             "outlinewidth": 0,
             "ticks": ""
            },
            "type": "contourcarpet"
           }
          ],
          "heatmap": [
           {
            "colorbar": {
             "outlinewidth": 0,
             "ticks": ""
            },
            "colorscale": [
             [
              0,
              "#0d0887"
             ],
             [
              0.1111111111111111,
              "#46039f"
             ],
             [
              0.2222222222222222,
              "#7201a8"
             ],
             [
              0.3333333333333333,
              "#9c179e"
             ],
             [
              0.4444444444444444,
              "#bd3786"
             ],
             [
              0.5555555555555556,
              "#d8576b"
             ],
             [
              0.6666666666666666,
              "#ed7953"
             ],
             [
              0.7777777777777778,
              "#fb9f3a"
             ],
             [
              0.8888888888888888,
              "#fdca26"
             ],
             [
              1,
              "#f0f921"
             ]
            ],
            "type": "heatmap"
           }
          ],
          "heatmapgl": [
           {
            "colorbar": {
             "outlinewidth": 0,
             "ticks": ""
            },
            "colorscale": [
             [
              0,
              "#0d0887"
             ],
             [
              0.1111111111111111,
              "#46039f"
             ],
             [
              0.2222222222222222,
              "#7201a8"
             ],
             [
              0.3333333333333333,
              "#9c179e"
             ],
             [
              0.4444444444444444,
              "#bd3786"
             ],
             [
              0.5555555555555556,
              "#d8576b"
             ],
             [
              0.6666666666666666,
              "#ed7953"
             ],
             [
              0.7777777777777778,
              "#fb9f3a"
             ],
             [
              0.8888888888888888,
              "#fdca26"
             ],
             [
              1,
              "#f0f921"
             ]
            ],
            "type": "heatmapgl"
           }
          ],
          "histogram": [
           {
            "marker": {
             "colorbar": {
              "outlinewidth": 0,
              "ticks": ""
             }
            },
            "type": "histogram"
           }
          ],
          "histogram2d": [
           {
            "colorbar": {
             "outlinewidth": 0,
             "ticks": ""
            },
            "colorscale": [
             [
              0,
              "#0d0887"
             ],
             [
              0.1111111111111111,
              "#46039f"
             ],
             [
              0.2222222222222222,
              "#7201a8"
             ],
             [
              0.3333333333333333,
              "#9c179e"
             ],
             [
              0.4444444444444444,
              "#bd3786"
             ],
             [
              0.5555555555555556,
              "#d8576b"
             ],
             [
              0.6666666666666666,
              "#ed7953"
             ],
             [
              0.7777777777777778,
              "#fb9f3a"
             ],
             [
              0.8888888888888888,
              "#fdca26"
             ],
             [
              1,
              "#f0f921"
             ]
            ],
            "type": "histogram2d"
           }
          ],
          "histogram2dcontour": [
           {
            "colorbar": {
             "outlinewidth": 0,
             "ticks": ""
            },
            "colorscale": [
             [
              0,
              "#0d0887"
             ],
             [
              0.1111111111111111,
              "#46039f"
             ],
             [
              0.2222222222222222,
              "#7201a8"
             ],
             [
              0.3333333333333333,
              "#9c179e"
             ],
             [
              0.4444444444444444,
              "#bd3786"
             ],
             [
              0.5555555555555556,
              "#d8576b"
             ],
             [
              0.6666666666666666,
              "#ed7953"
             ],
             [
              0.7777777777777778,
              "#fb9f3a"
             ],
             [
              0.8888888888888888,
              "#fdca26"
             ],
             [
              1,
              "#f0f921"
             ]
            ],
            "type": "histogram2dcontour"
           }
          ],
          "mesh3d": [
           {
            "colorbar": {
             "outlinewidth": 0,
             "ticks": ""
            },
            "type": "mesh3d"
           }
          ],
          "parcoords": [
           {
            "line": {
             "colorbar": {
              "outlinewidth": 0,
              "ticks": ""
             }
            },
            "type": "parcoords"
           }
          ],
          "pie": [
           {
            "automargin": true,
            "type": "pie"
           }
          ],
          "scatter": [
           {
            "marker": {
             "colorbar": {
              "outlinewidth": 0,
              "ticks": ""
             }
            },
            "type": "scatter"
           }
          ],
          "scatter3d": [
           {
            "line": {
             "colorbar": {
              "outlinewidth": 0,
              "ticks": ""
             }
            },
            "marker": {
             "colorbar": {
              "outlinewidth": 0,
              "ticks": ""
             }
            },
            "type": "scatter3d"
           }
          ],
          "scattercarpet": [
           {
            "marker": {
             "colorbar": {
              "outlinewidth": 0,
              "ticks": ""
             }
            },
            "type": "scattercarpet"
           }
          ],
          "scattergeo": [
           {
            "marker": {
             "colorbar": {
              "outlinewidth": 0,
              "ticks": ""
             }
            },
            "type": "scattergeo"
           }
          ],
          "scattergl": [
           {
            "marker": {
             "colorbar": {
              "outlinewidth": 0,
              "ticks": ""
             }
            },
            "type": "scattergl"
           }
          ],
          "scattermapbox": [
           {
            "marker": {
             "colorbar": {
              "outlinewidth": 0,
              "ticks": ""
             }
            },
            "type": "scattermapbox"
           }
          ],
          "scatterpolar": [
           {
            "marker": {
             "colorbar": {
              "outlinewidth": 0,
              "ticks": ""
             }
            },
            "type": "scatterpolar"
           }
          ],
          "scatterpolargl": [
           {
            "marker": {
             "colorbar": {
              "outlinewidth": 0,
              "ticks": ""
             }
            },
            "type": "scatterpolargl"
           }
          ],
          "scatterternary": [
           {
            "marker": {
             "colorbar": {
              "outlinewidth": 0,
              "ticks": ""
             }
            },
            "type": "scatterternary"
           }
          ],
          "surface": [
           {
            "colorbar": {
             "outlinewidth": 0,
             "ticks": ""
            },
            "colorscale": [
             [
              0,
              "#0d0887"
             ],
             [
              0.1111111111111111,
              "#46039f"
             ],
             [
              0.2222222222222222,
              "#7201a8"
             ],
             [
              0.3333333333333333,
              "#9c179e"
             ],
             [
              0.4444444444444444,
              "#bd3786"
             ],
             [
              0.5555555555555556,
              "#d8576b"
             ],
             [
              0.6666666666666666,
              "#ed7953"
             ],
             [
              0.7777777777777778,
              "#fb9f3a"
             ],
             [
              0.8888888888888888,
              "#fdca26"
             ],
             [
              1,
              "#f0f921"
             ]
            ],
            "type": "surface"
           }
          ],
          "table": [
           {
            "cells": {
             "fill": {
              "color": "#EBF0F8"
             },
             "line": {
              "color": "white"
             }
            },
            "header": {
             "fill": {
              "color": "#C8D4E3"
             },
             "line": {
              "color": "white"
             }
            },
            "type": "table"
           }
          ]
         },
         "layout": {
          "annotationdefaults": {
           "arrowcolor": "#2a3f5f",
           "arrowhead": 0,
           "arrowwidth": 1
          },
          "coloraxis": {
           "colorbar": {
            "outlinewidth": 0,
            "ticks": ""
           }
          },
          "colorscale": {
           "diverging": [
            [
             0,
             "#8e0152"
            ],
            [
             0.1,
             "#c51b7d"
            ],
            [
             0.2,
             "#de77ae"
            ],
            [
             0.3,
             "#f1b6da"
            ],
            [
             0.4,
             "#fde0ef"
            ],
            [
             0.5,
             "#f7f7f7"
            ],
            [
             0.6,
             "#e6f5d0"
            ],
            [
             0.7,
             "#b8e186"
            ],
            [
             0.8,
             "#7fbc41"
            ],
            [
             0.9,
             "#4d9221"
            ],
            [
             1,
             "#276419"
            ]
           ],
           "sequential": [
            [
             0,
             "#0d0887"
            ],
            [
             0.1111111111111111,
             "#46039f"
            ],
            [
             0.2222222222222222,
             "#7201a8"
            ],
            [
             0.3333333333333333,
             "#9c179e"
            ],
            [
             0.4444444444444444,
             "#bd3786"
            ],
            [
             0.5555555555555556,
             "#d8576b"
            ],
            [
             0.6666666666666666,
             "#ed7953"
            ],
            [
             0.7777777777777778,
             "#fb9f3a"
            ],
            [
             0.8888888888888888,
             "#fdca26"
            ],
            [
             1,
             "#f0f921"
            ]
           ],
           "sequentialminus": [
            [
             0,
             "#0d0887"
            ],
            [
             0.1111111111111111,
             "#46039f"
            ],
            [
             0.2222222222222222,
             "#7201a8"
            ],
            [
             0.3333333333333333,
             "#9c179e"
            ],
            [
             0.4444444444444444,
             "#bd3786"
            ],
            [
             0.5555555555555556,
             "#d8576b"
            ],
            [
             0.6666666666666666,
             "#ed7953"
            ],
            [
             0.7777777777777778,
             "#fb9f3a"
            ],
            [
             0.8888888888888888,
             "#fdca26"
            ],
            [
             1,
             "#f0f921"
            ]
           ]
          },
          "colorway": [
           "#636efa",
           "#EF553B",
           "#00cc96",
           "#ab63fa",
           "#FFA15A",
           "#19d3f3",
           "#FF6692",
           "#B6E880",
           "#FF97FF",
           "#FECB52"
          ],
          "font": {
           "color": "#2a3f5f"
          },
          "geo": {
           "bgcolor": "white",
           "lakecolor": "white",
           "landcolor": "#E5ECF6",
           "showlakes": true,
           "showland": true,
           "subunitcolor": "white"
          },
          "hoverlabel": {
           "align": "left"
          },
          "hovermode": "closest",
          "mapbox": {
           "style": "light"
          },
          "paper_bgcolor": "white",
          "plot_bgcolor": "#E5ECF6",
          "polar": {
           "angularaxis": {
            "gridcolor": "white",
            "linecolor": "white",
            "ticks": ""
           },
           "bgcolor": "#E5ECF6",
           "radialaxis": {
            "gridcolor": "white",
            "linecolor": "white",
            "ticks": ""
           }
          },
          "scene": {
           "xaxis": {
            "backgroundcolor": "#E5ECF6",
            "gridcolor": "white",
            "gridwidth": 2,
            "linecolor": "white",
            "showbackground": true,
            "ticks": "",
            "zerolinecolor": "white"
           },
           "yaxis": {
            "backgroundcolor": "#E5ECF6",
            "gridcolor": "white",
            "gridwidth": 2,
            "linecolor": "white",
            "showbackground": true,
            "ticks": "",
            "zerolinecolor": "white"
           },
           "zaxis": {
            "backgroundcolor": "#E5ECF6",
            "gridcolor": "white",
            "gridwidth": 2,
            "linecolor": "white",
            "showbackground": true,
            "ticks": "",
            "zerolinecolor": "white"
           }
          },
          "shapedefaults": {
           "line": {
            "color": "#2a3f5f"
           }
          },
          "ternary": {
           "aaxis": {
            "gridcolor": "white",
            "linecolor": "white",
            "ticks": ""
           },
           "baxis": {
            "gridcolor": "white",
            "linecolor": "white",
            "ticks": ""
           },
           "bgcolor": "#E5ECF6",
           "caxis": {
            "gridcolor": "white",
            "linecolor": "white",
            "ticks": ""
           }
          },
          "title": {
           "x": 0.05
          },
          "xaxis": {
           "automargin": true,
           "gridcolor": "white",
           "linecolor": "white",
           "ticks": "",
           "title": {
            "standoff": 15
           },
           "zerolinecolor": "white",
           "zerolinewidth": 2
          },
          "yaxis": {
           "automargin": true,
           "gridcolor": "white",
           "linecolor": "white",
           "ticks": "",
           "title": {
            "standoff": 15
           },
           "zerolinecolor": "white",
           "zerolinewidth": 2
          }
         }
        },
        "title": {
         "text": "Cummulative intake of patient on IC",
         "x": 0.5,
         "xanchor": "center"
        },
        "xaxis": {
         "title": {
          "text": "Date"
         }
        },
        "yaxis": {
         "title": {
          "text": "# patients"
         }
        }
       }
      },
      "text/html": [
       "<div>\n",
       "        \n",
       "        \n",
       "            <div id=\"a78f8889-c675-4697-b14f-5730156ec3c6\" class=\"plotly-graph-div\" style=\"height:525px; width:100%;\"></div>\n",
       "            <script type=\"text/javascript\">\n",
       "                require([\"plotly\"], function(Plotly) {\n",
       "                    window.PLOTLYENV=window.PLOTLYENV || {};\n",
       "                    \n",
       "                if (document.getElementById(\"a78f8889-c675-4697-b14f-5730156ec3c6\")) {\n",
       "                    Plotly.newPlot(\n",
       "                        'a78f8889-c675-4697-b14f-5730156ec3c6',\n",
       "                        [{\"marker\": {\"size\": 10, \"symbol\": \"circle\"}, \"mode\": \"markers\", \"name\": \"counts RIVM\", \"type\": \"scatter\", \"x\": [\"2020-03-08T00:00:00\", \"2020-03-09T00:00:00\", \"2020-03-10T00:00:00\", \"2020-03-11T00:00:00\", \"2020-03-12T00:00:00\", \"2020-03-13T00:00:00\", \"2020-03-14T00:00:00\", \"2020-03-15T00:00:00\", \"2020-03-16T00:00:00\", \"2020-03-17T00:00:00\", \"2020-03-18T00:00:00\", \"2020-03-19T00:00:00\", \"2020-03-20T00:00:00\", \"2020-03-21T00:00:00\", \"2020-03-22T00:00:00\", \"2020-03-23T00:00:00\", \"2020-03-24T00:00:00\", \"2020-03-25T00:00:00\", \"2020-03-26T00:00:00\", \"2020-03-27T00:00:00\", \"2020-03-28T00:00:00\", \"2020-03-29T00:00:00\", \"2020-03-30T00:00:00\", \"2020-03-31T00:00:00\", \"2020-04-01T00:00:00\", \"2020-04-02T00:00:00\", \"2020-04-03T00:00:00\", \"2020-04-04T00:00:00\", \"2020-04-05T00:00:00\", \"2020-04-06T00:00:00\", \"2020-04-07T00:00:00\", \"2020-04-08T00:00:00\", \"2020-04-09T00:00:00\", \"2020-04-10T00:00:00\", \"2020-04-11T00:00:00\", \"2020-04-12T00:00:00\"], \"y\": [20.0, 26.0, 35.0, 43.0, 66.0, 80.0, 99.0, 126.0, 159.0, 194.0, 245.0, 305.0, 391.0, 461.0, 532.0, 635.0, 742.0, 859.0, 962.0, 1080.0, 1183.0, 1277.0, 1413.0, 1524.0, 1606.0, 1703.0, 1789.0, 1852.0, 1928.0, 1989.0, 2053.0, 2113.0, 2171.0, 2223.0, 2250.0, 2271.0]}, {\"mode\": \"lines\", \"name\": \"K=2346.06,\\\\beta=0.20, t_0=21.03\", \"type\": \"scatter\", \"x\": [\"2020-03-08T00:00:00\", \"2020-03-09T00:00:00\", \"2020-03-10T00:00:00\", \"2020-03-11T00:00:00\", \"2020-03-12T00:00:00\", \"2020-03-13T00:00:00\", \"2020-03-14T00:00:00\", \"2020-03-15T00:00:00\", \"2020-03-16T00:00:00\", \"2020-03-17T00:00:00\", \"2020-03-18T00:00:00\", \"2020-03-19T00:00:00\", \"2020-03-20T00:00:00\", \"2020-03-21T00:00:00\", \"2020-03-22T00:00:00\", \"2020-03-23T00:00:00\", \"2020-03-24T00:00:00\", \"2020-03-25T00:00:00\", \"2020-03-26T00:00:00\", \"2020-03-27T00:00:00\", \"2020-03-28T00:00:00\", \"2020-03-29T00:00:00\", \"2020-03-30T00:00:00\", \"2020-03-31T00:00:00\", \"2020-04-01T00:00:00\", \"2020-04-02T00:00:00\", \"2020-04-03T00:00:00\", \"2020-04-04T00:00:00\", \"2020-04-05T00:00:00\", \"2020-04-06T00:00:00\", \"2020-04-07T00:00:00\", \"2020-04-08T00:00:00\", \"2020-04-09T00:00:00\", \"2020-04-10T00:00:00\", \"2020-04-11T00:00:00\", \"2020-04-12T00:00:00\"], \"y\": [39.01695832656763, 47.651788337213674, 58.14942328927477, 70.8883486834084, 86.31273667521866, 104.93847525133761, 127.35700490077494, 154.23530843514757, 186.3098542326531, 224.37176483177814, 269.24012710236656, 321.7204290390903, 382.5459468922771, 452.3018967698616, 531.335580166545, 619.6605111728672, 716.8678836071646, 822.0631606362956, 933.8468525463416, 1050.3546213231775, 1169.3619955345603, 1288.4449080327877, 1405.1731625851046, 1517.3049331961818, 1622.9501101994751, 1720.6788498078947, 1809.5656223037556, 1889.1732679937845, 1959.49176138185, 2020.8506749508192, 2073.8233183075577, 2119.1362300026485, 2157.5923335648827, 2190.0112443216562, 2217.186708257181, 2239.8590819156793]}, {\"marker\": {\"size\": 10, \"symbol\": \"square\"}, \"mode\": \"markers\", \"name\": \"prediction\", \"type\": \"scatter\", \"x\": [\"2020-04-13T00:00:00\", \"2020-04-14T00:00:00\", \"2020-04-15T00:00:00\", \"2020-04-16T00:00:00\", \"2020-04-17T00:00:00\", \"2020-04-18T00:00:00\", \"2020-04-19T00:00:00\"], \"y\": [2258, 2274, 2287, 2297, 2306, 2313]}],\n",
       "                        {\"font\": {\"size\": 12}, \"legend\": {\"x\": 0.05, \"y\": 0.95}, \"template\": {\"data\": {\"bar\": [{\"error_x\": {\"color\": \"#2a3f5f\"}, \"error_y\": {\"color\": \"#2a3f5f\"}, \"marker\": {\"line\": {\"color\": \"#E5ECF6\", \"width\": 0.5}}, \"type\": \"bar\"}], \"barpolar\": [{\"marker\": {\"line\": {\"color\": \"#E5ECF6\", \"width\": 0.5}}, \"type\": \"barpolar\"}], \"carpet\": [{\"aaxis\": {\"endlinecolor\": \"#2a3f5f\", \"gridcolor\": \"white\", \"linecolor\": \"white\", \"minorgridcolor\": \"white\", \"startlinecolor\": \"#2a3f5f\"}, \"baxis\": {\"endlinecolor\": \"#2a3f5f\", \"gridcolor\": \"white\", \"linecolor\": \"white\", \"minorgridcolor\": \"white\", \"startlinecolor\": \"#2a3f5f\"}, \"type\": \"carpet\"}], \"choropleth\": [{\"colorbar\": {\"outlinewidth\": 0, \"ticks\": \"\"}, \"type\": \"choropleth\"}], \"contour\": [{\"colorbar\": {\"outlinewidth\": 0, \"ticks\": \"\"}, \"colorscale\": [[0.0, \"#0d0887\"], [0.1111111111111111, \"#46039f\"], [0.2222222222222222, \"#7201a8\"], [0.3333333333333333, \"#9c179e\"], [0.4444444444444444, \"#bd3786\"], [0.5555555555555556, \"#d8576b\"], [0.6666666666666666, \"#ed7953\"], [0.7777777777777778, \"#fb9f3a\"], [0.8888888888888888, \"#fdca26\"], [1.0, \"#f0f921\"]], \"type\": \"contour\"}], \"contourcarpet\": [{\"colorbar\": {\"outlinewidth\": 0, \"ticks\": \"\"}, \"type\": \"contourcarpet\"}], \"heatmap\": [{\"colorbar\": {\"outlinewidth\": 0, \"ticks\": \"\"}, \"colorscale\": [[0.0, \"#0d0887\"], [0.1111111111111111, \"#46039f\"], [0.2222222222222222, \"#7201a8\"], [0.3333333333333333, \"#9c179e\"], [0.4444444444444444, \"#bd3786\"], [0.5555555555555556, \"#d8576b\"], [0.6666666666666666, \"#ed7953\"], [0.7777777777777778, \"#fb9f3a\"], [0.8888888888888888, \"#fdca26\"], [1.0, \"#f0f921\"]], \"type\": \"heatmap\"}], \"heatmapgl\": [{\"colorbar\": {\"outlinewidth\": 0, \"ticks\": \"\"}, \"colorscale\": [[0.0, \"#0d0887\"], [0.1111111111111111, \"#46039f\"], [0.2222222222222222, \"#7201a8\"], [0.3333333333333333, \"#9c179e\"], [0.4444444444444444, \"#bd3786\"], [0.5555555555555556, \"#d8576b\"], [0.6666666666666666, \"#ed7953\"], [0.7777777777777778, \"#fb9f3a\"], [0.8888888888888888, \"#fdca26\"], [1.0, \"#f0f921\"]], \"type\": \"heatmapgl\"}], \"histogram\": [{\"marker\": {\"colorbar\": {\"outlinewidth\": 0, \"ticks\": \"\"}}, \"type\": \"histogram\"}], \"histogram2d\": [{\"colorbar\": {\"outlinewidth\": 0, \"ticks\": \"\"}, \"colorscale\": [[0.0, \"#0d0887\"], [0.1111111111111111, \"#46039f\"], [0.2222222222222222, \"#7201a8\"], [0.3333333333333333, \"#9c179e\"], [0.4444444444444444, \"#bd3786\"], [0.5555555555555556, \"#d8576b\"], [0.6666666666666666, \"#ed7953\"], [0.7777777777777778, \"#fb9f3a\"], [0.8888888888888888, \"#fdca26\"], [1.0, \"#f0f921\"]], \"type\": \"histogram2d\"}], \"histogram2dcontour\": [{\"colorbar\": {\"outlinewidth\": 0, \"ticks\": \"\"}, \"colorscale\": [[0.0, \"#0d0887\"], [0.1111111111111111, \"#46039f\"], [0.2222222222222222, \"#7201a8\"], [0.3333333333333333, \"#9c179e\"], [0.4444444444444444, \"#bd3786\"], [0.5555555555555556, \"#d8576b\"], [0.6666666666666666, \"#ed7953\"], [0.7777777777777778, \"#fb9f3a\"], [0.8888888888888888, \"#fdca26\"], [1.0, \"#f0f921\"]], \"type\": \"histogram2dcontour\"}], \"mesh3d\": [{\"colorbar\": {\"outlinewidth\": 0, \"ticks\": \"\"}, \"type\": \"mesh3d\"}], \"parcoords\": [{\"line\": {\"colorbar\": {\"outlinewidth\": 0, \"ticks\": \"\"}}, \"type\": \"parcoords\"}], \"pie\": [{\"automargin\": true, \"type\": \"pie\"}], \"scatter\": [{\"marker\": {\"colorbar\": {\"outlinewidth\": 0, \"ticks\": \"\"}}, \"type\": \"scatter\"}], \"scatter3d\": [{\"line\": {\"colorbar\": {\"outlinewidth\": 0, \"ticks\": \"\"}}, \"marker\": {\"colorbar\": {\"outlinewidth\": 0, \"ticks\": \"\"}}, \"type\": \"scatter3d\"}], \"scattercarpet\": [{\"marker\": {\"colorbar\": {\"outlinewidth\": 0, \"ticks\": \"\"}}, \"type\": \"scattercarpet\"}], \"scattergeo\": [{\"marker\": {\"colorbar\": {\"outlinewidth\": 0, \"ticks\": \"\"}}, \"type\": \"scattergeo\"}], \"scattergl\": [{\"marker\": {\"colorbar\": {\"outlinewidth\": 0, \"ticks\": \"\"}}, \"type\": \"scattergl\"}], \"scattermapbox\": [{\"marker\": {\"colorbar\": {\"outlinewidth\": 0, \"ticks\": \"\"}}, \"type\": \"scattermapbox\"}], \"scatterpolar\": [{\"marker\": {\"colorbar\": {\"outlinewidth\": 0, \"ticks\": \"\"}}, \"type\": \"scatterpolar\"}], \"scatterpolargl\": [{\"marker\": {\"colorbar\": {\"outlinewidth\": 0, \"ticks\": \"\"}}, \"type\": \"scatterpolargl\"}], \"scatterternary\": [{\"marker\": {\"colorbar\": {\"outlinewidth\": 0, \"ticks\": \"\"}}, \"type\": \"scatterternary\"}], \"surface\": [{\"colorbar\": {\"outlinewidth\": 0, \"ticks\": \"\"}, \"colorscale\": [[0.0, \"#0d0887\"], [0.1111111111111111, \"#46039f\"], [0.2222222222222222, \"#7201a8\"], [0.3333333333333333, \"#9c179e\"], [0.4444444444444444, \"#bd3786\"], [0.5555555555555556, \"#d8576b\"], [0.6666666666666666, \"#ed7953\"], [0.7777777777777778, \"#fb9f3a\"], [0.8888888888888888, \"#fdca26\"], [1.0, \"#f0f921\"]], \"type\": \"surface\"}], \"table\": [{\"cells\": {\"fill\": {\"color\": \"#EBF0F8\"}, \"line\": {\"color\": \"white\"}}, \"header\": {\"fill\": {\"color\": \"#C8D4E3\"}, \"line\": {\"color\": \"white\"}}, \"type\": \"table\"}]}, \"layout\": {\"annotationdefaults\": {\"arrowcolor\": \"#2a3f5f\", \"arrowhead\": 0, \"arrowwidth\": 1}, \"coloraxis\": {\"colorbar\": {\"outlinewidth\": 0, \"ticks\": \"\"}}, \"colorscale\": {\"diverging\": [[0, \"#8e0152\"], [0.1, \"#c51b7d\"], [0.2, \"#de77ae\"], [0.3, \"#f1b6da\"], [0.4, \"#fde0ef\"], [0.5, \"#f7f7f7\"], [0.6, \"#e6f5d0\"], [0.7, \"#b8e186\"], [0.8, \"#7fbc41\"], [0.9, \"#4d9221\"], [1, \"#276419\"]], \"sequential\": [[0.0, \"#0d0887\"], [0.1111111111111111, \"#46039f\"], [0.2222222222222222, \"#7201a8\"], [0.3333333333333333, \"#9c179e\"], [0.4444444444444444, \"#bd3786\"], [0.5555555555555556, \"#d8576b\"], [0.6666666666666666, \"#ed7953\"], [0.7777777777777778, \"#fb9f3a\"], [0.8888888888888888, \"#fdca26\"], [1.0, \"#f0f921\"]], \"sequentialminus\": [[0.0, \"#0d0887\"], [0.1111111111111111, \"#46039f\"], [0.2222222222222222, \"#7201a8\"], [0.3333333333333333, \"#9c179e\"], [0.4444444444444444, \"#bd3786\"], [0.5555555555555556, \"#d8576b\"], [0.6666666666666666, \"#ed7953\"], [0.7777777777777778, \"#fb9f3a\"], [0.8888888888888888, \"#fdca26\"], [1.0, \"#f0f921\"]]}, \"colorway\": [\"#636efa\", \"#EF553B\", \"#00cc96\", \"#ab63fa\", \"#FFA15A\", \"#19d3f3\", \"#FF6692\", \"#B6E880\", \"#FF97FF\", \"#FECB52\"], \"font\": {\"color\": \"#2a3f5f\"}, \"geo\": {\"bgcolor\": \"white\", \"lakecolor\": \"white\", \"landcolor\": \"#E5ECF6\", \"showlakes\": true, \"showland\": true, \"subunitcolor\": \"white\"}, \"hoverlabel\": {\"align\": \"left\"}, \"hovermode\": \"closest\", \"mapbox\": {\"style\": \"light\"}, \"paper_bgcolor\": \"white\", \"plot_bgcolor\": \"#E5ECF6\", \"polar\": {\"angularaxis\": {\"gridcolor\": \"white\", \"linecolor\": \"white\", \"ticks\": \"\"}, \"bgcolor\": \"#E5ECF6\", \"radialaxis\": {\"gridcolor\": \"white\", \"linecolor\": \"white\", \"ticks\": \"\"}}, \"scene\": {\"xaxis\": {\"backgroundcolor\": \"#E5ECF6\", \"gridcolor\": \"white\", \"gridwidth\": 2, \"linecolor\": \"white\", \"showbackground\": true, \"ticks\": \"\", \"zerolinecolor\": \"white\"}, \"yaxis\": {\"backgroundcolor\": \"#E5ECF6\", \"gridcolor\": \"white\", \"gridwidth\": 2, \"linecolor\": \"white\", \"showbackground\": true, \"ticks\": \"\", \"zerolinecolor\": \"white\"}, \"zaxis\": {\"backgroundcolor\": \"#E5ECF6\", \"gridcolor\": \"white\", \"gridwidth\": 2, \"linecolor\": \"white\", \"showbackground\": true, \"ticks\": \"\", \"zerolinecolor\": \"white\"}}, \"shapedefaults\": {\"line\": {\"color\": \"#2a3f5f\"}}, \"ternary\": {\"aaxis\": {\"gridcolor\": \"white\", \"linecolor\": \"white\", \"ticks\": \"\"}, \"baxis\": {\"gridcolor\": \"white\", \"linecolor\": \"white\", \"ticks\": \"\"}, \"bgcolor\": \"#E5ECF6\", \"caxis\": {\"gridcolor\": \"white\", \"linecolor\": \"white\", \"ticks\": \"\"}}, \"title\": {\"x\": 0.05}, \"xaxis\": {\"automargin\": true, \"gridcolor\": \"white\", \"linecolor\": \"white\", \"ticks\": \"\", \"title\": {\"standoff\": 15}, \"zerolinecolor\": \"white\", \"zerolinewidth\": 2}, \"yaxis\": {\"automargin\": true, \"gridcolor\": \"white\", \"linecolor\": \"white\", \"ticks\": \"\", \"title\": {\"standoff\": 15}, \"zerolinecolor\": \"white\", \"zerolinewidth\": 2}}}, \"title\": {\"text\": \"Cummulative intake of patient on IC\", \"x\": 0.5, \"xanchor\": \"center\"}, \"xaxis\": {\"title\": {\"text\": \"Date\"}}, \"yaxis\": {\"title\": {\"text\": \"# patients\"}}},\n",
       "                        {\"responsive\": true}\n",
       "                    ).then(function(){\n",
       "                            \n",
       "var gd = document.getElementById('a78f8889-c675-4697-b14f-5730156ec3c6');\n",
       "var x = new MutationObserver(function (mutations, observer) {{\n",
       "        var display = window.getComputedStyle(gd).display;\n",
       "        if (!display || display === 'none') {{\n",
       "            console.log([gd, 'removed!']);\n",
       "            Plotly.purge(gd);\n",
       "            observer.disconnect();\n",
       "        }}\n",
       "}});\n",
       "\n",
       "// Listen for the removal of the full notebook cells\n",
       "var notebookContainer = gd.closest('#notebook-container');\n",
       "if (notebookContainer) {{\n",
       "    x.observe(notebookContainer, {childList: true});\n",
       "}}\n",
       "\n",
       "// Listen for the clearing of the current output cell\n",
       "var outputEl = gd.closest('.output');\n",
       "if (outputEl) {{\n",
       "    x.observe(outputEl, {childList: true});\n",
       "}}\n",
       "\n",
       "                        })\n",
       "                };\n",
       "                });\n",
       "            </script>\n",
       "        </div>"
      ]
     },
     "metadata": {},
     "output_type": "display_data"
    },
    {
     "data": {
      "application/vnd.plotly.v1+json": {
       "config": {
        "plotlyServerURL": "https://plotly.com"
       },
       "data": [
        {
         "type": "bar",
         "x": [
          "2020-03-08T00:00:00",
          "2020-03-09T00:00:00",
          "2020-03-10T00:00:00",
          "2020-03-11T00:00:00",
          "2020-03-12T00:00:00",
          "2020-03-13T00:00:00",
          "2020-03-14T00:00:00",
          "2020-03-15T00:00:00",
          "2020-03-16T00:00:00",
          "2020-03-17T00:00:00",
          "2020-03-18T00:00:00",
          "2020-03-19T00:00:00",
          "2020-03-20T00:00:00",
          "2020-03-21T00:00:00",
          "2020-03-22T00:00:00",
          "2020-03-23T00:00:00",
          "2020-03-24T00:00:00",
          "2020-03-25T00:00:00",
          "2020-03-26T00:00:00",
          "2020-03-27T00:00:00",
          "2020-03-28T00:00:00",
          "2020-03-29T00:00:00",
          "2020-03-30T00:00:00",
          "2020-03-31T00:00:00",
          "2020-04-01T00:00:00",
          "2020-04-02T00:00:00",
          "2020-04-03T00:00:00",
          "2020-04-04T00:00:00",
          "2020-04-05T00:00:00",
          "2020-04-06T00:00:00",
          "2020-04-07T00:00:00",
          "2020-04-08T00:00:00",
          "2020-04-09T00:00:00",
          "2020-04-10T00:00:00",
          "2020-04-11T00:00:00",
          "2020-04-12T00:00:00"
         ],
         "y": [
          6,
          6,
          9,
          8,
          23,
          14,
          19,
          27,
          33,
          35,
          51,
          60,
          86,
          70,
          71,
          103,
          107,
          117,
          103,
          118,
          103,
          94,
          136,
          111,
          82,
          97,
          86,
          63,
          76,
          61,
          64,
          60,
          58,
          52,
          27,
          21
         ]
        },
        {
         "mode": "lines",
         "name": "K=2346.06,beta=0.20, t_0=21.03",
         "type": "scatter",
         "x": [
          "2020-03-08T00:00:00",
          "2020-03-09T00:00:00",
          "2020-03-10T00:00:00",
          "2020-03-11T00:00:00",
          "2020-03-12T00:00:00",
          "2020-03-13T00:00:00",
          "2020-03-14T00:00:00",
          "2020-03-15T00:00:00",
          "2020-03-16T00:00:00",
          "2020-03-17T00:00:00",
          "2020-03-18T00:00:00",
          "2020-03-19T00:00:00",
          "2020-03-20T00:00:00",
          "2020-03-21T00:00:00",
          "2020-03-22T00:00:00",
          "2020-03-23T00:00:00",
          "2020-03-24T00:00:00",
          "2020-03-25T00:00:00",
          "2020-03-26T00:00:00",
          "2020-03-27T00:00:00",
          "2020-03-28T00:00:00",
          "2020-03-29T00:00:00",
          "2020-03-30T00:00:00",
          "2020-03-31T00:00:00",
          "2020-04-01T00:00:00",
          "2020-04-02T00:00:00",
          "2020-04-03T00:00:00",
          "2020-04-04T00:00:00",
          "2020-04-05T00:00:00",
          "2020-04-06T00:00:00",
          "2020-04-07T00:00:00",
          "2020-04-08T00:00:00",
          "2020-04-09T00:00:00",
          "2020-04-10T00:00:00",
          "2020-04-11T00:00:00",
          "2020-04-12T00:00:00"
         ],
         "y": [
          7.814564181630071,
          9.508281327921141,
          11.549950174223142,
          14.001826068589432,
          16.93286339129637,
          20.41718210671596,
          24.531135383337055,
          29.34845610191317,
          34.932926599943634,
          41.32809615178439,
          48.54385223705192,
          56.54023559293169,
          65.20985241657914,
          74.3615609269309,
          83.7095773496959,
          92.87325469922855,
          101.39275965538411,
          108.76389216325954,
          114.49100258412437,
          118.15105744958414,
          119.45637565481695,
          118.30109455468506,
          114.77899588345024,
          109.16769476092067,
          101.88363034329737,
          93.41989719186837,
          84.28185587630003,
          74.93326763291543,
          65.76027850707551,
          57.05462821117687,
          49.01303672170804,
          41.74760150362148,
          35.301912076318004,
          29.668651673627668,
          24.805919227581942,
          20.650846409021945,
          17.130071980872902
         ]
        }
       ],
       "layout": {
        "font": {
         "size": 12
        },
        "legend": {
         "x": 0.05,
         "y": 0.95
        },
        "template": {
         "data": {
          "bar": [
           {
            "error_x": {
             "color": "#2a3f5f"
            },
            "error_y": {
             "color": "#2a3f5f"
            },
            "marker": {
             "line": {
              "color": "#E5ECF6",
              "width": 0.5
             }
            },
            "type": "bar"
           }
          ],
          "barpolar": [
           {
            "marker": {
             "line": {
              "color": "#E5ECF6",
              "width": 0.5
             }
            },
            "type": "barpolar"
           }
          ],
          "carpet": [
           {
            "aaxis": {
             "endlinecolor": "#2a3f5f",
             "gridcolor": "white",
             "linecolor": "white",
             "minorgridcolor": "white",
             "startlinecolor": "#2a3f5f"
            },
            "baxis": {
             "endlinecolor": "#2a3f5f",
             "gridcolor": "white",
             "linecolor": "white",
             "minorgridcolor": "white",
             "startlinecolor": "#2a3f5f"
            },
            "type": "carpet"
           }
          ],
          "choropleth": [
           {
            "colorbar": {
             "outlinewidth": 0,
             "ticks": ""
            },
            "type": "choropleth"
           }
          ],
          "contour": [
           {
            "colorbar": {
             "outlinewidth": 0,
             "ticks": ""
            },
            "colorscale": [
             [
              0,
              "#0d0887"
             ],
             [
              0.1111111111111111,
              "#46039f"
             ],
             [
              0.2222222222222222,
              "#7201a8"
             ],
             [
              0.3333333333333333,
              "#9c179e"
             ],
             [
              0.4444444444444444,
              "#bd3786"
             ],
             [
              0.5555555555555556,
              "#d8576b"
             ],
             [
              0.6666666666666666,
              "#ed7953"
             ],
             [
              0.7777777777777778,
              "#fb9f3a"
             ],
             [
              0.8888888888888888,
              "#fdca26"
             ],
             [
              1,
              "#f0f921"
             ]
            ],
            "type": "contour"
           }
          ],
          "contourcarpet": [
           {
            "colorbar": {
             "outlinewidth": 0,
             "ticks": ""
            },
            "type": "contourcarpet"
           }
          ],
          "heatmap": [
           {
            "colorbar": {
             "outlinewidth": 0,
             "ticks": ""
            },
            "colorscale": [
             [
              0,
              "#0d0887"
             ],
             [
              0.1111111111111111,
              "#46039f"
             ],
             [
              0.2222222222222222,
              "#7201a8"
             ],
             [
              0.3333333333333333,
              "#9c179e"
             ],
             [
              0.4444444444444444,
              "#bd3786"
             ],
             [
              0.5555555555555556,
              "#d8576b"
             ],
             [
              0.6666666666666666,
              "#ed7953"
             ],
             [
              0.7777777777777778,
              "#fb9f3a"
             ],
             [
              0.8888888888888888,
              "#fdca26"
             ],
             [
              1,
              "#f0f921"
             ]
            ],
            "type": "heatmap"
           }
          ],
          "heatmapgl": [
           {
            "colorbar": {
             "outlinewidth": 0,
             "ticks": ""
            },
            "colorscale": [
             [
              0,
              "#0d0887"
             ],
             [
              0.1111111111111111,
              "#46039f"
             ],
             [
              0.2222222222222222,
              "#7201a8"
             ],
             [
              0.3333333333333333,
              "#9c179e"
             ],
             [
              0.4444444444444444,
              "#bd3786"
             ],
             [
              0.5555555555555556,
              "#d8576b"
             ],
             [
              0.6666666666666666,
              "#ed7953"
             ],
             [
              0.7777777777777778,
              "#fb9f3a"
             ],
             [
              0.8888888888888888,
              "#fdca26"
             ],
             [
              1,
              "#f0f921"
             ]
            ],
            "type": "heatmapgl"
           }
          ],
          "histogram": [
           {
            "marker": {
             "colorbar": {
              "outlinewidth": 0,
              "ticks": ""
             }
            },
            "type": "histogram"
           }
          ],
          "histogram2d": [
           {
            "colorbar": {
             "outlinewidth": 0,
             "ticks": ""
            },
            "colorscale": [
             [
              0,
              "#0d0887"
             ],
             [
              0.1111111111111111,
              "#46039f"
             ],
             [
              0.2222222222222222,
              "#7201a8"
             ],
             [
              0.3333333333333333,
              "#9c179e"
             ],
             [
              0.4444444444444444,
              "#bd3786"
             ],
             [
              0.5555555555555556,
              "#d8576b"
             ],
             [
              0.6666666666666666,
              "#ed7953"
             ],
             [
              0.7777777777777778,
              "#fb9f3a"
             ],
             [
              0.8888888888888888,
              "#fdca26"
             ],
             [
              1,
              "#f0f921"
             ]
            ],
            "type": "histogram2d"
           }
          ],
          "histogram2dcontour": [
           {
            "colorbar": {
             "outlinewidth": 0,
             "ticks": ""
            },
            "colorscale": [
             [
              0,
              "#0d0887"
             ],
             [
              0.1111111111111111,
              "#46039f"
             ],
             [
              0.2222222222222222,
              "#7201a8"
             ],
             [
              0.3333333333333333,
              "#9c179e"
             ],
             [
              0.4444444444444444,
              "#bd3786"
             ],
             [
              0.5555555555555556,
              "#d8576b"
             ],
             [
              0.6666666666666666,
              "#ed7953"
             ],
             [
              0.7777777777777778,
              "#fb9f3a"
             ],
             [
              0.8888888888888888,
              "#fdca26"
             ],
             [
              1,
              "#f0f921"
             ]
            ],
            "type": "histogram2dcontour"
           }
          ],
          "mesh3d": [
           {
            "colorbar": {
             "outlinewidth": 0,
             "ticks": ""
            },
            "type": "mesh3d"
           }
          ],
          "parcoords": [
           {
            "line": {
             "colorbar": {
              "outlinewidth": 0,
              "ticks": ""
             }
            },
            "type": "parcoords"
           }
          ],
          "pie": [
           {
            "automargin": true,
            "type": "pie"
           }
          ],
          "scatter": [
           {
            "marker": {
             "colorbar": {
              "outlinewidth": 0,
              "ticks": ""
             }
            },
            "type": "scatter"
           }
          ],
          "scatter3d": [
           {
            "line": {
             "colorbar": {
              "outlinewidth": 0,
              "ticks": ""
             }
            },
            "marker": {
             "colorbar": {
              "outlinewidth": 0,
              "ticks": ""
             }
            },
            "type": "scatter3d"
           }
          ],
          "scattercarpet": [
           {
            "marker": {
             "colorbar": {
              "outlinewidth": 0,
              "ticks": ""
             }
            },
            "type": "scattercarpet"
           }
          ],
          "scattergeo": [
           {
            "marker": {
             "colorbar": {
              "outlinewidth": 0,
              "ticks": ""
             }
            },
            "type": "scattergeo"
           }
          ],
          "scattergl": [
           {
            "marker": {
             "colorbar": {
              "outlinewidth": 0,
              "ticks": ""
             }
            },
            "type": "scattergl"
           }
          ],
          "scattermapbox": [
           {
            "marker": {
             "colorbar": {
              "outlinewidth": 0,
              "ticks": ""
             }
            },
            "type": "scattermapbox"
           }
          ],
          "scatterpolar": [
           {
            "marker": {
             "colorbar": {
              "outlinewidth": 0,
              "ticks": ""
             }
            },
            "type": "scatterpolar"
           }
          ],
          "scatterpolargl": [
           {
            "marker": {
             "colorbar": {
              "outlinewidth": 0,
              "ticks": ""
             }
            },
            "type": "scatterpolargl"
           }
          ],
          "scatterternary": [
           {
            "marker": {
             "colorbar": {
              "outlinewidth": 0,
              "ticks": ""
             }
            },
            "type": "scatterternary"
           }
          ],
          "surface": [
           {
            "colorbar": {
             "outlinewidth": 0,
             "ticks": ""
            },
            "colorscale": [
             [
              0,
              "#0d0887"
             ],
             [
              0.1111111111111111,
              "#46039f"
             ],
             [
              0.2222222222222222,
              "#7201a8"
             ],
             [
              0.3333333333333333,
              "#9c179e"
             ],
             [
              0.4444444444444444,
              "#bd3786"
             ],
             [
              0.5555555555555556,
              "#d8576b"
             ],
             [
              0.6666666666666666,
              "#ed7953"
             ],
             [
              0.7777777777777778,
              "#fb9f3a"
             ],
             [
              0.8888888888888888,
              "#fdca26"
             ],
             [
              1,
              "#f0f921"
             ]
            ],
            "type": "surface"
           }
          ],
          "table": [
           {
            "cells": {
             "fill": {
              "color": "#EBF0F8"
             },
             "line": {
              "color": "white"
             }
            },
            "header": {
             "fill": {
              "color": "#C8D4E3"
             },
             "line": {
              "color": "white"
             }
            },
            "type": "table"
           }
          ]
         },
         "layout": {
          "annotationdefaults": {
           "arrowcolor": "#2a3f5f",
           "arrowhead": 0,
           "arrowwidth": 1
          },
          "coloraxis": {
           "colorbar": {
            "outlinewidth": 0,
            "ticks": ""
           }
          },
          "colorscale": {
           "diverging": [
            [
             0,
             "#8e0152"
            ],
            [
             0.1,
             "#c51b7d"
            ],
            [
             0.2,
             "#de77ae"
            ],
            [
             0.3,
             "#f1b6da"
            ],
            [
             0.4,
             "#fde0ef"
            ],
            [
             0.5,
             "#f7f7f7"
            ],
            [
             0.6,
             "#e6f5d0"
            ],
            [
             0.7,
             "#b8e186"
            ],
            [
             0.8,
             "#7fbc41"
            ],
            [
             0.9,
             "#4d9221"
            ],
            [
             1,
             "#276419"
            ]
           ],
           "sequential": [
            [
             0,
             "#0d0887"
            ],
            [
             0.1111111111111111,
             "#46039f"
            ],
            [
             0.2222222222222222,
             "#7201a8"
            ],
            [
             0.3333333333333333,
             "#9c179e"
            ],
            [
             0.4444444444444444,
             "#bd3786"
            ],
            [
             0.5555555555555556,
             "#d8576b"
            ],
            [
             0.6666666666666666,
             "#ed7953"
            ],
            [
             0.7777777777777778,
             "#fb9f3a"
            ],
            [
             0.8888888888888888,
             "#fdca26"
            ],
            [
             1,
             "#f0f921"
            ]
           ],
           "sequentialminus": [
            [
             0,
             "#0d0887"
            ],
            [
             0.1111111111111111,
             "#46039f"
            ],
            [
             0.2222222222222222,
             "#7201a8"
            ],
            [
             0.3333333333333333,
             "#9c179e"
            ],
            [
             0.4444444444444444,
             "#bd3786"
            ],
            [
             0.5555555555555556,
             "#d8576b"
            ],
            [
             0.6666666666666666,
             "#ed7953"
            ],
            [
             0.7777777777777778,
             "#fb9f3a"
            ],
            [
             0.8888888888888888,
             "#fdca26"
            ],
            [
             1,
             "#f0f921"
            ]
           ]
          },
          "colorway": [
           "#636efa",
           "#EF553B",
           "#00cc96",
           "#ab63fa",
           "#FFA15A",
           "#19d3f3",
           "#FF6692",
           "#B6E880",
           "#FF97FF",
           "#FECB52"
          ],
          "font": {
           "color": "#2a3f5f"
          },
          "geo": {
           "bgcolor": "white",
           "lakecolor": "white",
           "landcolor": "#E5ECF6",
           "showlakes": true,
           "showland": true,
           "subunitcolor": "white"
          },
          "hoverlabel": {
           "align": "left"
          },
          "hovermode": "closest",
          "mapbox": {
           "style": "light"
          },
          "paper_bgcolor": "white",
          "plot_bgcolor": "#E5ECF6",
          "polar": {
           "angularaxis": {
            "gridcolor": "white",
            "linecolor": "white",
            "ticks": ""
           },
           "bgcolor": "#E5ECF6",
           "radialaxis": {
            "gridcolor": "white",
            "linecolor": "white",
            "ticks": ""
           }
          },
          "scene": {
           "xaxis": {
            "backgroundcolor": "#E5ECF6",
            "gridcolor": "white",
            "gridwidth": 2,
            "linecolor": "white",
            "showbackground": true,
            "ticks": "",
            "zerolinecolor": "white"
           },
           "yaxis": {
            "backgroundcolor": "#E5ECF6",
            "gridcolor": "white",
            "gridwidth": 2,
            "linecolor": "white",
            "showbackground": true,
            "ticks": "",
            "zerolinecolor": "white"
           },
           "zaxis": {
            "backgroundcolor": "#E5ECF6",
            "gridcolor": "white",
            "gridwidth": 2,
            "linecolor": "white",
            "showbackground": true,
            "ticks": "",
            "zerolinecolor": "white"
           }
          },
          "shapedefaults": {
           "line": {
            "color": "#2a3f5f"
           }
          },
          "ternary": {
           "aaxis": {
            "gridcolor": "white",
            "linecolor": "white",
            "ticks": ""
           },
           "baxis": {
            "gridcolor": "white",
            "linecolor": "white",
            "ticks": ""
           },
           "bgcolor": "#E5ECF6",
           "caxis": {
            "gridcolor": "white",
            "linecolor": "white",
            "ticks": ""
           }
          },
          "title": {
           "x": 0.05
          },
          "xaxis": {
           "automargin": true,
           "gridcolor": "white",
           "linecolor": "white",
           "ticks": "",
           "title": {
            "standoff": 15
           },
           "zerolinecolor": "white",
           "zerolinewidth": 2
          },
          "yaxis": {
           "automargin": true,
           "gridcolor": "white",
           "linecolor": "white",
           "ticks": "",
           "title": {
            "standoff": 15
           },
           "zerolinecolor": "white",
           "zerolinewidth": 2
          }
         }
        },
        "title": {
         "text": "Corona increase IC",
         "x": 0.5,
         "xanchor": "center"
        },
        "xaxis": {
         "title": {
          "text": "Date"
         }
        },
        "yaxis": {
         "title": {
          "text": "# patients/day"
         }
        }
       }
      },
      "text/html": [
       "<div>\n",
       "        \n",
       "        \n",
       "            <div id=\"65dec3c9-da92-4bb3-a945-27d32a7b1a5f\" class=\"plotly-graph-div\" style=\"height:525px; width:100%;\"></div>\n",
       "            <script type=\"text/javascript\">\n",
       "                require([\"plotly\"], function(Plotly) {\n",
       "                    window.PLOTLYENV=window.PLOTLYENV || {};\n",
       "                    \n",
       "                if (document.getElementById(\"65dec3c9-da92-4bb3-a945-27d32a7b1a5f\")) {\n",
       "                    Plotly.newPlot(\n",
       "                        '65dec3c9-da92-4bb3-a945-27d32a7b1a5f',\n",
       "                        [{\"type\": \"bar\", \"x\": [\"2020-03-08T00:00:00\", \"2020-03-09T00:00:00\", \"2020-03-10T00:00:00\", \"2020-03-11T00:00:00\", \"2020-03-12T00:00:00\", \"2020-03-13T00:00:00\", \"2020-03-14T00:00:00\", \"2020-03-15T00:00:00\", \"2020-03-16T00:00:00\", \"2020-03-17T00:00:00\", \"2020-03-18T00:00:00\", \"2020-03-19T00:00:00\", \"2020-03-20T00:00:00\", \"2020-03-21T00:00:00\", \"2020-03-22T00:00:00\", \"2020-03-23T00:00:00\", \"2020-03-24T00:00:00\", \"2020-03-25T00:00:00\", \"2020-03-26T00:00:00\", \"2020-03-27T00:00:00\", \"2020-03-28T00:00:00\", \"2020-03-29T00:00:00\", \"2020-03-30T00:00:00\", \"2020-03-31T00:00:00\", \"2020-04-01T00:00:00\", \"2020-04-02T00:00:00\", \"2020-04-03T00:00:00\", \"2020-04-04T00:00:00\", \"2020-04-05T00:00:00\", \"2020-04-06T00:00:00\", \"2020-04-07T00:00:00\", \"2020-04-08T00:00:00\", \"2020-04-09T00:00:00\", \"2020-04-10T00:00:00\", \"2020-04-11T00:00:00\", \"2020-04-12T00:00:00\"], \"y\": [6.0, 6.0, 9.0, 8.0, 23.0, 14.0, 19.0, 27.0, 33.0, 35.0, 51.0, 60.0, 86.0, 70.0, 71.0, 103.0, 107.0, 117.0, 103.0, 118.0, 103.0, 94.0, 136.0, 111.0, 82.0, 97.0, 86.0, 63.0, 76.0, 61.0, 64.0, 60.0, 58.0, 52.0, 27.0, 21.0]}, {\"mode\": \"lines\", \"name\": \"K=2346.06,beta=0.20, t_0=21.03\", \"type\": \"scatter\", \"x\": [\"2020-03-08T00:00:00\", \"2020-03-09T00:00:00\", \"2020-03-10T00:00:00\", \"2020-03-11T00:00:00\", \"2020-03-12T00:00:00\", \"2020-03-13T00:00:00\", \"2020-03-14T00:00:00\", \"2020-03-15T00:00:00\", \"2020-03-16T00:00:00\", \"2020-03-17T00:00:00\", \"2020-03-18T00:00:00\", \"2020-03-19T00:00:00\", \"2020-03-20T00:00:00\", \"2020-03-21T00:00:00\", \"2020-03-22T00:00:00\", \"2020-03-23T00:00:00\", \"2020-03-24T00:00:00\", \"2020-03-25T00:00:00\", \"2020-03-26T00:00:00\", \"2020-03-27T00:00:00\", \"2020-03-28T00:00:00\", \"2020-03-29T00:00:00\", \"2020-03-30T00:00:00\", \"2020-03-31T00:00:00\", \"2020-04-01T00:00:00\", \"2020-04-02T00:00:00\", \"2020-04-03T00:00:00\", \"2020-04-04T00:00:00\", \"2020-04-05T00:00:00\", \"2020-04-06T00:00:00\", \"2020-04-07T00:00:00\", \"2020-04-08T00:00:00\", \"2020-04-09T00:00:00\", \"2020-04-10T00:00:00\", \"2020-04-11T00:00:00\", \"2020-04-12T00:00:00\"], \"y\": [7.814564181630071, 9.508281327921141, 11.549950174223142, 14.001826068589432, 16.93286339129637, 20.41718210671596, 24.531135383337055, 29.34845610191317, 34.932926599943634, 41.32809615178439, 48.54385223705192, 56.54023559293169, 65.20985241657914, 74.3615609269309, 83.7095773496959, 92.87325469922855, 101.39275965538411, 108.76389216325954, 114.49100258412437, 118.15105744958414, 119.45637565481695, 118.30109455468506, 114.77899588345024, 109.16769476092067, 101.88363034329737, 93.41989719186837, 84.28185587630003, 74.93326763291543, 65.76027850707551, 57.05462821117687, 49.01303672170804, 41.74760150362148, 35.301912076318004, 29.668651673627668, 24.805919227581942, 20.650846409021945, 17.130071980872902]}],\n",
       "                        {\"font\": {\"size\": 12}, \"legend\": {\"x\": 0.05, \"y\": 0.95}, \"template\": {\"data\": {\"bar\": [{\"error_x\": {\"color\": \"#2a3f5f\"}, \"error_y\": {\"color\": \"#2a3f5f\"}, \"marker\": {\"line\": {\"color\": \"#E5ECF6\", \"width\": 0.5}}, \"type\": \"bar\"}], \"barpolar\": [{\"marker\": {\"line\": {\"color\": \"#E5ECF6\", \"width\": 0.5}}, \"type\": \"barpolar\"}], \"carpet\": [{\"aaxis\": {\"endlinecolor\": \"#2a3f5f\", \"gridcolor\": \"white\", \"linecolor\": \"white\", \"minorgridcolor\": \"white\", \"startlinecolor\": \"#2a3f5f\"}, \"baxis\": {\"endlinecolor\": \"#2a3f5f\", \"gridcolor\": \"white\", \"linecolor\": \"white\", \"minorgridcolor\": \"white\", \"startlinecolor\": \"#2a3f5f\"}, \"type\": \"carpet\"}], \"choropleth\": [{\"colorbar\": {\"outlinewidth\": 0, \"ticks\": \"\"}, \"type\": \"choropleth\"}], \"contour\": [{\"colorbar\": {\"outlinewidth\": 0, \"ticks\": \"\"}, \"colorscale\": [[0.0, \"#0d0887\"], [0.1111111111111111, \"#46039f\"], [0.2222222222222222, \"#7201a8\"], [0.3333333333333333, \"#9c179e\"], [0.4444444444444444, \"#bd3786\"], [0.5555555555555556, \"#d8576b\"], [0.6666666666666666, \"#ed7953\"], [0.7777777777777778, \"#fb9f3a\"], [0.8888888888888888, \"#fdca26\"], [1.0, \"#f0f921\"]], \"type\": \"contour\"}], \"contourcarpet\": [{\"colorbar\": {\"outlinewidth\": 0, \"ticks\": \"\"}, \"type\": \"contourcarpet\"}], \"heatmap\": [{\"colorbar\": {\"outlinewidth\": 0, \"ticks\": \"\"}, \"colorscale\": [[0.0, \"#0d0887\"], [0.1111111111111111, \"#46039f\"], [0.2222222222222222, \"#7201a8\"], [0.3333333333333333, \"#9c179e\"], [0.4444444444444444, \"#bd3786\"], [0.5555555555555556, \"#d8576b\"], [0.6666666666666666, \"#ed7953\"], [0.7777777777777778, \"#fb9f3a\"], [0.8888888888888888, \"#fdca26\"], [1.0, \"#f0f921\"]], \"type\": \"heatmap\"}], \"heatmapgl\": [{\"colorbar\": {\"outlinewidth\": 0, \"ticks\": \"\"}, \"colorscale\": [[0.0, \"#0d0887\"], [0.1111111111111111, \"#46039f\"], [0.2222222222222222, \"#7201a8\"], [0.3333333333333333, \"#9c179e\"], [0.4444444444444444, \"#bd3786\"], [0.5555555555555556, \"#d8576b\"], [0.6666666666666666, \"#ed7953\"], [0.7777777777777778, \"#fb9f3a\"], [0.8888888888888888, \"#fdca26\"], [1.0, \"#f0f921\"]], \"type\": \"heatmapgl\"}], \"histogram\": [{\"marker\": {\"colorbar\": {\"outlinewidth\": 0, \"ticks\": \"\"}}, \"type\": \"histogram\"}], \"histogram2d\": [{\"colorbar\": {\"outlinewidth\": 0, \"ticks\": \"\"}, \"colorscale\": [[0.0, \"#0d0887\"], [0.1111111111111111, \"#46039f\"], [0.2222222222222222, \"#7201a8\"], [0.3333333333333333, \"#9c179e\"], [0.4444444444444444, \"#bd3786\"], [0.5555555555555556, \"#d8576b\"], [0.6666666666666666, \"#ed7953\"], [0.7777777777777778, \"#fb9f3a\"], [0.8888888888888888, \"#fdca26\"], [1.0, \"#f0f921\"]], \"type\": \"histogram2d\"}], \"histogram2dcontour\": [{\"colorbar\": {\"outlinewidth\": 0, \"ticks\": \"\"}, \"colorscale\": [[0.0, \"#0d0887\"], [0.1111111111111111, \"#46039f\"], [0.2222222222222222, \"#7201a8\"], [0.3333333333333333, \"#9c179e\"], [0.4444444444444444, \"#bd3786\"], [0.5555555555555556, \"#d8576b\"], [0.6666666666666666, \"#ed7953\"], [0.7777777777777778, \"#fb9f3a\"], [0.8888888888888888, \"#fdca26\"], [1.0, \"#f0f921\"]], \"type\": \"histogram2dcontour\"}], \"mesh3d\": [{\"colorbar\": {\"outlinewidth\": 0, \"ticks\": \"\"}, \"type\": \"mesh3d\"}], \"parcoords\": [{\"line\": {\"colorbar\": {\"outlinewidth\": 0, \"ticks\": \"\"}}, \"type\": \"parcoords\"}], \"pie\": [{\"automargin\": true, \"type\": \"pie\"}], \"scatter\": [{\"marker\": {\"colorbar\": {\"outlinewidth\": 0, \"ticks\": \"\"}}, \"type\": \"scatter\"}], \"scatter3d\": [{\"line\": {\"colorbar\": {\"outlinewidth\": 0, \"ticks\": \"\"}}, \"marker\": {\"colorbar\": {\"outlinewidth\": 0, \"ticks\": \"\"}}, \"type\": \"scatter3d\"}], \"scattercarpet\": [{\"marker\": {\"colorbar\": {\"outlinewidth\": 0, \"ticks\": \"\"}}, \"type\": \"scattercarpet\"}], \"scattergeo\": [{\"marker\": {\"colorbar\": {\"outlinewidth\": 0, \"ticks\": \"\"}}, \"type\": \"scattergeo\"}], \"scattergl\": [{\"marker\": {\"colorbar\": {\"outlinewidth\": 0, \"ticks\": \"\"}}, \"type\": \"scattergl\"}], \"scattermapbox\": [{\"marker\": {\"colorbar\": {\"outlinewidth\": 0, \"ticks\": \"\"}}, \"type\": \"scattermapbox\"}], \"scatterpolar\": [{\"marker\": {\"colorbar\": {\"outlinewidth\": 0, \"ticks\": \"\"}}, \"type\": \"scatterpolar\"}], \"scatterpolargl\": [{\"marker\": {\"colorbar\": {\"outlinewidth\": 0, \"ticks\": \"\"}}, \"type\": \"scatterpolargl\"}], \"scatterternary\": [{\"marker\": {\"colorbar\": {\"outlinewidth\": 0, \"ticks\": \"\"}}, \"type\": \"scatterternary\"}], \"surface\": [{\"colorbar\": {\"outlinewidth\": 0, \"ticks\": \"\"}, \"colorscale\": [[0.0, \"#0d0887\"], [0.1111111111111111, \"#46039f\"], [0.2222222222222222, \"#7201a8\"], [0.3333333333333333, \"#9c179e\"], [0.4444444444444444, \"#bd3786\"], [0.5555555555555556, \"#d8576b\"], [0.6666666666666666, \"#ed7953\"], [0.7777777777777778, \"#fb9f3a\"], [0.8888888888888888, \"#fdca26\"], [1.0, \"#f0f921\"]], \"type\": \"surface\"}], \"table\": [{\"cells\": {\"fill\": {\"color\": \"#EBF0F8\"}, \"line\": {\"color\": \"white\"}}, \"header\": {\"fill\": {\"color\": \"#C8D4E3\"}, \"line\": {\"color\": \"white\"}}, \"type\": \"table\"}]}, \"layout\": {\"annotationdefaults\": {\"arrowcolor\": \"#2a3f5f\", \"arrowhead\": 0, \"arrowwidth\": 1}, \"coloraxis\": {\"colorbar\": {\"outlinewidth\": 0, \"ticks\": \"\"}}, \"colorscale\": {\"diverging\": [[0, \"#8e0152\"], [0.1, \"#c51b7d\"], [0.2, \"#de77ae\"], [0.3, \"#f1b6da\"], [0.4, \"#fde0ef\"], [0.5, \"#f7f7f7\"], [0.6, \"#e6f5d0\"], [0.7, \"#b8e186\"], [0.8, \"#7fbc41\"], [0.9, \"#4d9221\"], [1, \"#276419\"]], \"sequential\": [[0.0, \"#0d0887\"], [0.1111111111111111, \"#46039f\"], [0.2222222222222222, \"#7201a8\"], [0.3333333333333333, \"#9c179e\"], [0.4444444444444444, \"#bd3786\"], [0.5555555555555556, \"#d8576b\"], [0.6666666666666666, \"#ed7953\"], [0.7777777777777778, \"#fb9f3a\"], [0.8888888888888888, \"#fdca26\"], [1.0, \"#f0f921\"]], \"sequentialminus\": [[0.0, \"#0d0887\"], [0.1111111111111111, \"#46039f\"], [0.2222222222222222, \"#7201a8\"], [0.3333333333333333, \"#9c179e\"], [0.4444444444444444, \"#bd3786\"], [0.5555555555555556, \"#d8576b\"], [0.6666666666666666, \"#ed7953\"], [0.7777777777777778, \"#fb9f3a\"], [0.8888888888888888, \"#fdca26\"], [1.0, \"#f0f921\"]]}, \"colorway\": [\"#636efa\", \"#EF553B\", \"#00cc96\", \"#ab63fa\", \"#FFA15A\", \"#19d3f3\", \"#FF6692\", \"#B6E880\", \"#FF97FF\", \"#FECB52\"], \"font\": {\"color\": \"#2a3f5f\"}, \"geo\": {\"bgcolor\": \"white\", \"lakecolor\": \"white\", \"landcolor\": \"#E5ECF6\", \"showlakes\": true, \"showland\": true, \"subunitcolor\": \"white\"}, \"hoverlabel\": {\"align\": \"left\"}, \"hovermode\": \"closest\", \"mapbox\": {\"style\": \"light\"}, \"paper_bgcolor\": \"white\", \"plot_bgcolor\": \"#E5ECF6\", \"polar\": {\"angularaxis\": {\"gridcolor\": \"white\", \"linecolor\": \"white\", \"ticks\": \"\"}, \"bgcolor\": \"#E5ECF6\", \"radialaxis\": {\"gridcolor\": \"white\", \"linecolor\": \"white\", \"ticks\": \"\"}}, \"scene\": {\"xaxis\": {\"backgroundcolor\": \"#E5ECF6\", \"gridcolor\": \"white\", \"gridwidth\": 2, \"linecolor\": \"white\", \"showbackground\": true, \"ticks\": \"\", \"zerolinecolor\": \"white\"}, \"yaxis\": {\"backgroundcolor\": \"#E5ECF6\", \"gridcolor\": \"white\", \"gridwidth\": 2, \"linecolor\": \"white\", \"showbackground\": true, \"ticks\": \"\", \"zerolinecolor\": \"white\"}, \"zaxis\": {\"backgroundcolor\": \"#E5ECF6\", \"gridcolor\": \"white\", \"gridwidth\": 2, \"linecolor\": \"white\", \"showbackground\": true, \"ticks\": \"\", \"zerolinecolor\": \"white\"}}, \"shapedefaults\": {\"line\": {\"color\": \"#2a3f5f\"}}, \"ternary\": {\"aaxis\": {\"gridcolor\": \"white\", \"linecolor\": \"white\", \"ticks\": \"\"}, \"baxis\": {\"gridcolor\": \"white\", \"linecolor\": \"white\", \"ticks\": \"\"}, \"bgcolor\": \"#E5ECF6\", \"caxis\": {\"gridcolor\": \"white\", \"linecolor\": \"white\", \"ticks\": \"\"}}, \"title\": {\"x\": 0.05}, \"xaxis\": {\"automargin\": true, \"gridcolor\": \"white\", \"linecolor\": \"white\", \"ticks\": \"\", \"title\": {\"standoff\": 15}, \"zerolinecolor\": \"white\", \"zerolinewidth\": 2}, \"yaxis\": {\"automargin\": true, \"gridcolor\": \"white\", \"linecolor\": \"white\", \"ticks\": \"\", \"title\": {\"standoff\": 15}, \"zerolinecolor\": \"white\", \"zerolinewidth\": 2}}}, \"title\": {\"text\": \"Corona increase IC\", \"x\": 0.5, \"xanchor\": \"center\"}, \"xaxis\": {\"title\": {\"text\": \"Date\"}}, \"yaxis\": {\"title\": {\"text\": \"# patients/day\"}}},\n",
       "                        {\"responsive\": true}\n",
       "                    ).then(function(){\n",
       "                            \n",
       "var gd = document.getElementById('65dec3c9-da92-4bb3-a945-27d32a7b1a5f');\n",
       "var x = new MutationObserver(function (mutations, observer) {{\n",
       "        var display = window.getComputedStyle(gd).display;\n",
       "        if (!display || display === 'none') {{\n",
       "            console.log([gd, 'removed!']);\n",
       "            Plotly.purge(gd);\n",
       "            observer.disconnect();\n",
       "        }}\n",
       "}});\n",
       "\n",
       "// Listen for the removal of the full notebook cells\n",
       "var notebookContainer = gd.closest('#notebook-container');\n",
       "if (notebookContainer) {{\n",
       "    x.observe(notebookContainer, {childList: true});\n",
       "}}\n",
       "\n",
       "// Listen for the clearing of the current output cell\n",
       "var outputEl = gd.closest('.output');\n",
       "if (outputEl) {{\n",
       "    x.observe(outputEl, {childList: true});\n",
       "}}\n",
       "\n",
       "                        })\n",
       "                };\n",
       "                });\n",
       "            </script>\n",
       "        </div>"
      ]
     },
     "metadata": {},
     "output_type": "display_data"
    }
   ],
   "source": [
    "#fit met logistic curve\n",
    "\n",
    "from lmfit import Model\n",
    "from lmfit import Parameters\n",
    "\n",
    "upload_plots=False\n",
    "upload_plots=True\n",
    "\n",
    "\n",
    "\n",
    "def ef(x,L,tau):\n",
    "    return L*np.power(2,x/tau)\n",
    "\n",
    "def logistic(x,M,alpha,beta):\n",
    "    return M/(1+np.exp(-beta*(x-alpha)))\n",
    "\n",
    "def dif_log(x,M,alpha,beta):\n",
    "    return beta*M*np.exp(-beta*(x-alpha))/np.power((1+np.exp(-beta*(x-alpha))),2)\n",
    "\n",
    "#y=np.array(qq['number']).astype(float)\n",
    "l=len(y)\n",
    "x=np.arange(0, l,1, float)\n",
    "gmodel = Model(logistic)\n",
    "#params = gmodel.make_params(M=30000,alfa=65,beta=0.2)\n",
    "params = Parameters()\n",
    "params.add('M', value=1000, min=500,max=4000)\n",
    "params.add('alpha', value=20,min=10,max=80)\n",
    "params.add('beta', value=0.2, min=0.05,max=0.95)\n",
    "\n",
    "x_start_fit=1\n",
    "x_start_plot=1\n",
    "print(x_start_fit)\n",
    "print('parameter names: {}'.format(gmodel.param_names))\n",
    "print('independent variables: {}'.format(gmodel.independent_vars))\n",
    "result = gmodel.fit(y[x_start_fit:], params,x=x[x_start_fit:])\n",
    "\n",
    "# %matplotlib notebook\n",
    "\n",
    "# ax,_=result.plot()\n",
    "# plt.yscale('log')\n",
    "# result\n",
    "#dates=qq['date']\n",
    "xdate=dates[x_start_fit:]\n",
    "yf= gmodel.eval(result.params, x=x[x_start_fit:])\n",
    "#x=qq['date']\n",
    "dt=xdate.iloc[-1].to_pydatetime()\n",
    "xdate_extra=expand_date(dt)\n",
    "l=len(xdate_extra)\n",
    "x_extra=np.arange(x[-1]+1, x[-1]+l,1, float)\n",
    "y_extra=gmodel.eval(result.params, x=x_extra).astype(int)\n",
    "\n",
    "fig = go.Figure()\n",
    "fig.add_trace(go.Scatter(x=dates[x_start_plot:], y=y[x_start_plot:],\n",
    "                         mode='markers',\n",
    "                         name='counts RIVM',\n",
    "                         marker_size=10,\n",
    "                         marker_symbol='circle'))\n",
    "fig.add_trace(go.Scatter(x=xdate, y=yf,\n",
    "                         mode='lines',\n",
    "                         name=r'K=%.2f,\\beta=%.2f, t_0=%.2f'%\\\n",
    "                         (result.params['M'].value,result.params['beta'].value,result.params['alpha'].value)))\n",
    "\n",
    "fig.add_trace(go.Scatter(x=xdate_extra, y=y_extra,\n",
    "                         mode='markers',\n",
    "                         name='prediction',\n",
    "                        marker_size=10,\n",
    "                         marker_symbol='square'))\n",
    "title=\"Cummulative intake of patient on IC\"\n",
    "yaxis_title=\"# patients\"\n",
    "\n",
    "fig.update_layout(#yaxis_type=\"log\",\n",
    "                  title=title,\n",
    "                  title_xanchor=\"center\",\n",
    "                  title_x=0.5,\n",
    "                  xaxis_title=\"Date\",\n",
    "                  yaxis_title=yaxis_title,\n",
    "                  legend_x=0.05,\n",
    "                  legend_y=0.95,\n",
    "                  font_size=12)\n",
    "\n",
    "filename=\"corona_ic_logistic\"\n",
    "if upload_plots:\n",
    "    py.plot(fig, filename = filename, auto_open=True)\n",
    "fig.show()\n",
    "\n",
    "M=beta=result.params['M'].value\n",
    "alpha=result.params['alpha'].value\n",
    "beta=result.params['beta'].value\n",
    "\n",
    "\n",
    "fig = go.Figure()\n",
    "fig.add_trace(go.Bar(x=dates[1:], y=toename))\n",
    "#                          mode='markers',\n",
    "#                          name='counts RIVM',\n",
    "#                          marker_size=10,\n",
    "#                          marker_symbol='circle'))\n",
    "fig.add_trace(go.Scatter(x=xdate, y=dif_log(x+1,M,alpha,beta),\n",
    "                         mode='lines',\n",
    "                         name=r'K=%.2f,beta=%.2f, t_0=%.2f'%\\\n",
    "                         (result.params['M'].value,result.params['beta'].value,result.params['alpha'].value)))\n",
    "\n",
    "title=\"Corona increase IC\"\n",
    "yaxis_title=\"# patients/day\"\n",
    "\n",
    "fig.update_layout(#yaxis_type=\"log\",\n",
    "                  title=title,\n",
    "                  title_xanchor=\"center\",\n",
    "                  title_x=0.5,\n",
    "                  xaxis_title=\"Date\",\n",
    "                  yaxis_title=yaxis_title,\n",
    "                  legend_x=0.05,\n",
    "                  legend_y=0.95,\n",
    "                  font_size=12)\n",
    "\n",
    "filename=\"corona_ic_logistic_increase\"\n",
    "if upload_plots:\n",
    "    py.plot(fig, filename = filename, auto_open=True)\n",
    "fig.show()"
   ]
  },
  {
   "cell_type": "code",
   "execution_count": 22,
   "metadata": {},
   "outputs": [
    {
     "data": {
      "application/javascript": [
       "/* Put everything inside the global mpl namespace */\n",
       "window.mpl = {};\n",
       "\n",
       "\n",
       "mpl.get_websocket_type = function() {\n",
       "    if (typeof(WebSocket) !== 'undefined') {\n",
       "        return WebSocket;\n",
       "    } else if (typeof(MozWebSocket) !== 'undefined') {\n",
       "        return MozWebSocket;\n",
       "    } else {\n",
       "        alert('Your browser does not have WebSocket support. ' +\n",
       "              'Please try Chrome, Safari or Firefox ≥ 6. ' +\n",
       "              'Firefox 4 and 5 are also supported but you ' +\n",
       "              'have to enable WebSockets in about:config.');\n",
       "    };\n",
       "}\n",
       "\n",
       "mpl.figure = function(figure_id, websocket, ondownload, parent_element) {\n",
       "    this.id = figure_id;\n",
       "\n",
       "    this.ws = websocket;\n",
       "\n",
       "    this.supports_binary = (this.ws.binaryType != undefined);\n",
       "\n",
       "    if (!this.supports_binary) {\n",
       "        var warnings = document.getElementById(\"mpl-warnings\");\n",
       "        if (warnings) {\n",
       "            warnings.style.display = 'block';\n",
       "            warnings.textContent = (\n",
       "                \"This browser does not support binary websocket messages. \" +\n",
       "                    \"Performance may be slow.\");\n",
       "        }\n",
       "    }\n",
       "\n",
       "    this.imageObj = new Image();\n",
       "\n",
       "    this.context = undefined;\n",
       "    this.message = undefined;\n",
       "    this.canvas = undefined;\n",
       "    this.rubberband_canvas = undefined;\n",
       "    this.rubberband_context = undefined;\n",
       "    this.format_dropdown = undefined;\n",
       "\n",
       "    this.image_mode = 'full';\n",
       "\n",
       "    this.root = $('<div/>');\n",
       "    this._root_extra_style(this.root)\n",
       "    this.root.attr('style', 'display: inline-block');\n",
       "\n",
       "    $(parent_element).append(this.root);\n",
       "\n",
       "    this._init_header(this);\n",
       "    this._init_canvas(this);\n",
       "    this._init_toolbar(this);\n",
       "\n",
       "    var fig = this;\n",
       "\n",
       "    this.waiting = false;\n",
       "\n",
       "    this.ws.onopen =  function () {\n",
       "            fig.send_message(\"supports_binary\", {value: fig.supports_binary});\n",
       "            fig.send_message(\"send_image_mode\", {});\n",
       "            if (mpl.ratio != 1) {\n",
       "                fig.send_message(\"set_dpi_ratio\", {'dpi_ratio': mpl.ratio});\n",
       "            }\n",
       "            fig.send_message(\"refresh\", {});\n",
       "        }\n",
       "\n",
       "    this.imageObj.onload = function() {\n",
       "            if (fig.image_mode == 'full') {\n",
       "                // Full images could contain transparency (where diff images\n",
       "                // almost always do), so we need to clear the canvas so that\n",
       "                // there is no ghosting.\n",
       "                fig.context.clearRect(0, 0, fig.canvas.width, fig.canvas.height);\n",
       "            }\n",
       "            fig.context.drawImage(fig.imageObj, 0, 0);\n",
       "        };\n",
       "\n",
       "    this.imageObj.onunload = function() {\n",
       "        fig.ws.close();\n",
       "    }\n",
       "\n",
       "    this.ws.onmessage = this._make_on_message_function(this);\n",
       "\n",
       "    this.ondownload = ondownload;\n",
       "}\n",
       "\n",
       "mpl.figure.prototype._init_header = function() {\n",
       "    var titlebar = $(\n",
       "        '<div class=\"ui-dialog-titlebar ui-widget-header ui-corner-all ' +\n",
       "        'ui-helper-clearfix\"/>');\n",
       "    var titletext = $(\n",
       "        '<div class=\"ui-dialog-title\" style=\"width: 100%; ' +\n",
       "        'text-align: center; padding: 3px;\"/>');\n",
       "    titlebar.append(titletext)\n",
       "    this.root.append(titlebar);\n",
       "    this.header = titletext[0];\n",
       "}\n",
       "\n",
       "\n",
       "\n",
       "mpl.figure.prototype._canvas_extra_style = function(canvas_div) {\n",
       "\n",
       "}\n",
       "\n",
       "\n",
       "mpl.figure.prototype._root_extra_style = function(canvas_div) {\n",
       "\n",
       "}\n",
       "\n",
       "mpl.figure.prototype._init_canvas = function() {\n",
       "    var fig = this;\n",
       "\n",
       "    var canvas_div = $('<div/>');\n",
       "\n",
       "    canvas_div.attr('style', 'position: relative; clear: both; outline: 0');\n",
       "\n",
       "    function canvas_keyboard_event(event) {\n",
       "        return fig.key_event(event, event['data']);\n",
       "    }\n",
       "\n",
       "    canvas_div.keydown('key_press', canvas_keyboard_event);\n",
       "    canvas_div.keyup('key_release', canvas_keyboard_event);\n",
       "    this.canvas_div = canvas_div\n",
       "    this._canvas_extra_style(canvas_div)\n",
       "    this.root.append(canvas_div);\n",
       "\n",
       "    var canvas = $('<canvas/>');\n",
       "    canvas.addClass('mpl-canvas');\n",
       "    canvas.attr('style', \"left: 0; top: 0; z-index: 0; outline: 0\")\n",
       "\n",
       "    this.canvas = canvas[0];\n",
       "    this.context = canvas[0].getContext(\"2d\");\n",
       "\n",
       "    var backingStore = this.context.backingStorePixelRatio ||\n",
       "\tthis.context.webkitBackingStorePixelRatio ||\n",
       "\tthis.context.mozBackingStorePixelRatio ||\n",
       "\tthis.context.msBackingStorePixelRatio ||\n",
       "\tthis.context.oBackingStorePixelRatio ||\n",
       "\tthis.context.backingStorePixelRatio || 1;\n",
       "\n",
       "    mpl.ratio = (window.devicePixelRatio || 1) / backingStore;\n",
       "\n",
       "    var rubberband = $('<canvas/>');\n",
       "    rubberband.attr('style', \"position: absolute; left: 0; top: 0; z-index: 1;\")\n",
       "\n",
       "    var pass_mouse_events = true;\n",
       "\n",
       "    canvas_div.resizable({\n",
       "        start: function(event, ui) {\n",
       "            pass_mouse_events = false;\n",
       "        },\n",
       "        resize: function(event, ui) {\n",
       "            fig.request_resize(ui.size.width, ui.size.height);\n",
       "        },\n",
       "        stop: function(event, ui) {\n",
       "            pass_mouse_events = true;\n",
       "            fig.request_resize(ui.size.width, ui.size.height);\n",
       "        },\n",
       "    });\n",
       "\n",
       "    function mouse_event_fn(event) {\n",
       "        if (pass_mouse_events)\n",
       "            return fig.mouse_event(event, event['data']);\n",
       "    }\n",
       "\n",
       "    rubberband.mousedown('button_press', mouse_event_fn);\n",
       "    rubberband.mouseup('button_release', mouse_event_fn);\n",
       "    // Throttle sequential mouse events to 1 every 20ms.\n",
       "    rubberband.mousemove('motion_notify', mouse_event_fn);\n",
       "\n",
       "    rubberband.mouseenter('figure_enter', mouse_event_fn);\n",
       "    rubberband.mouseleave('figure_leave', mouse_event_fn);\n",
       "\n",
       "    canvas_div.on(\"wheel\", function (event) {\n",
       "        event = event.originalEvent;\n",
       "        event['data'] = 'scroll'\n",
       "        if (event.deltaY < 0) {\n",
       "            event.step = 1;\n",
       "        } else {\n",
       "            event.step = -1;\n",
       "        }\n",
       "        mouse_event_fn(event);\n",
       "    });\n",
       "\n",
       "    canvas_div.append(canvas);\n",
       "    canvas_div.append(rubberband);\n",
       "\n",
       "    this.rubberband = rubberband;\n",
       "    this.rubberband_canvas = rubberband[0];\n",
       "    this.rubberband_context = rubberband[0].getContext(\"2d\");\n",
       "    this.rubberband_context.strokeStyle = \"#000000\";\n",
       "\n",
       "    this._resize_canvas = function(width, height) {\n",
       "        // Keep the size of the canvas, canvas container, and rubber band\n",
       "        // canvas in synch.\n",
       "        canvas_div.css('width', width)\n",
       "        canvas_div.css('height', height)\n",
       "\n",
       "        canvas.attr('width', width * mpl.ratio);\n",
       "        canvas.attr('height', height * mpl.ratio);\n",
       "        canvas.attr('style', 'width: ' + width + 'px; height: ' + height + 'px;');\n",
       "\n",
       "        rubberband.attr('width', width);\n",
       "        rubberband.attr('height', height);\n",
       "    }\n",
       "\n",
       "    // Set the figure to an initial 600x600px, this will subsequently be updated\n",
       "    // upon first draw.\n",
       "    this._resize_canvas(600, 600);\n",
       "\n",
       "    // Disable right mouse context menu.\n",
       "    $(this.rubberband_canvas).bind(\"contextmenu\",function(e){\n",
       "        return false;\n",
       "    });\n",
       "\n",
       "    function set_focus () {\n",
       "        canvas.focus();\n",
       "        canvas_div.focus();\n",
       "    }\n",
       "\n",
       "    window.setTimeout(set_focus, 100);\n",
       "}\n",
       "\n",
       "mpl.figure.prototype._init_toolbar = function() {\n",
       "    var fig = this;\n",
       "\n",
       "    var nav_element = $('<div/>');\n",
       "    nav_element.attr('style', 'width: 100%');\n",
       "    this.root.append(nav_element);\n",
       "\n",
       "    // Define a callback function for later on.\n",
       "    function toolbar_event(event) {\n",
       "        return fig.toolbar_button_onclick(event['data']);\n",
       "    }\n",
       "    function toolbar_mouse_event(event) {\n",
       "        return fig.toolbar_button_onmouseover(event['data']);\n",
       "    }\n",
       "\n",
       "    for(var toolbar_ind in mpl.toolbar_items) {\n",
       "        var name = mpl.toolbar_items[toolbar_ind][0];\n",
       "        var tooltip = mpl.toolbar_items[toolbar_ind][1];\n",
       "        var image = mpl.toolbar_items[toolbar_ind][2];\n",
       "        var method_name = mpl.toolbar_items[toolbar_ind][3];\n",
       "\n",
       "        if (!name) {\n",
       "            // put a spacer in here.\n",
       "            continue;\n",
       "        }\n",
       "        var button = $('<button/>');\n",
       "        button.addClass('ui-button ui-widget ui-state-default ui-corner-all ' +\n",
       "                        'ui-button-icon-only');\n",
       "        button.attr('role', 'button');\n",
       "        button.attr('aria-disabled', 'false');\n",
       "        button.click(method_name, toolbar_event);\n",
       "        button.mouseover(tooltip, toolbar_mouse_event);\n",
       "\n",
       "        var icon_img = $('<span/>');\n",
       "        icon_img.addClass('ui-button-icon-primary ui-icon');\n",
       "        icon_img.addClass(image);\n",
       "        icon_img.addClass('ui-corner-all');\n",
       "\n",
       "        var tooltip_span = $('<span/>');\n",
       "        tooltip_span.addClass('ui-button-text');\n",
       "        tooltip_span.html(tooltip);\n",
       "\n",
       "        button.append(icon_img);\n",
       "        button.append(tooltip_span);\n",
       "\n",
       "        nav_element.append(button);\n",
       "    }\n",
       "\n",
       "    var fmt_picker_span = $('<span/>');\n",
       "\n",
       "    var fmt_picker = $('<select/>');\n",
       "    fmt_picker.addClass('mpl-toolbar-option ui-widget ui-widget-content');\n",
       "    fmt_picker_span.append(fmt_picker);\n",
       "    nav_element.append(fmt_picker_span);\n",
       "    this.format_dropdown = fmt_picker[0];\n",
       "\n",
       "    for (var ind in mpl.extensions) {\n",
       "        var fmt = mpl.extensions[ind];\n",
       "        var option = $(\n",
       "            '<option/>', {selected: fmt === mpl.default_extension}).html(fmt);\n",
       "        fmt_picker.append(option);\n",
       "    }\n",
       "\n",
       "    // Add hover states to the ui-buttons\n",
       "    $( \".ui-button\" ).hover(\n",
       "        function() { $(this).addClass(\"ui-state-hover\");},\n",
       "        function() { $(this).removeClass(\"ui-state-hover\");}\n",
       "    );\n",
       "\n",
       "    var status_bar = $('<span class=\"mpl-message\"/>');\n",
       "    nav_element.append(status_bar);\n",
       "    this.message = status_bar[0];\n",
       "}\n",
       "\n",
       "mpl.figure.prototype.request_resize = function(x_pixels, y_pixels) {\n",
       "    // Request matplotlib to resize the figure. Matplotlib will then trigger a resize in the client,\n",
       "    // which will in turn request a refresh of the image.\n",
       "    this.send_message('resize', {'width': x_pixels, 'height': y_pixels});\n",
       "}\n",
       "\n",
       "mpl.figure.prototype.send_message = function(type, properties) {\n",
       "    properties['type'] = type;\n",
       "    properties['figure_id'] = this.id;\n",
       "    this.ws.send(JSON.stringify(properties));\n",
       "}\n",
       "\n",
       "mpl.figure.prototype.send_draw_message = function() {\n",
       "    if (!this.waiting) {\n",
       "        this.waiting = true;\n",
       "        this.ws.send(JSON.stringify({type: \"draw\", figure_id: this.id}));\n",
       "    }\n",
       "}\n",
       "\n",
       "\n",
       "mpl.figure.prototype.handle_save = function(fig, msg) {\n",
       "    var format_dropdown = fig.format_dropdown;\n",
       "    var format = format_dropdown.options[format_dropdown.selectedIndex].value;\n",
       "    fig.ondownload(fig, format);\n",
       "}\n",
       "\n",
       "\n",
       "mpl.figure.prototype.handle_resize = function(fig, msg) {\n",
       "    var size = msg['size'];\n",
       "    if (size[0] != fig.canvas.width || size[1] != fig.canvas.height) {\n",
       "        fig._resize_canvas(size[0], size[1]);\n",
       "        fig.send_message(\"refresh\", {});\n",
       "    };\n",
       "}\n",
       "\n",
       "mpl.figure.prototype.handle_rubberband = function(fig, msg) {\n",
       "    var x0 = msg['x0'] / mpl.ratio;\n",
       "    var y0 = (fig.canvas.height - msg['y0']) / mpl.ratio;\n",
       "    var x1 = msg['x1'] / mpl.ratio;\n",
       "    var y1 = (fig.canvas.height - msg['y1']) / mpl.ratio;\n",
       "    x0 = Math.floor(x0) + 0.5;\n",
       "    y0 = Math.floor(y0) + 0.5;\n",
       "    x1 = Math.floor(x1) + 0.5;\n",
       "    y1 = Math.floor(y1) + 0.5;\n",
       "    var min_x = Math.min(x0, x1);\n",
       "    var min_y = Math.min(y0, y1);\n",
       "    var width = Math.abs(x1 - x0);\n",
       "    var height = Math.abs(y1 - y0);\n",
       "\n",
       "    fig.rubberband_context.clearRect(\n",
       "        0, 0, fig.canvas.width / mpl.ratio, fig.canvas.height / mpl.ratio);\n",
       "\n",
       "    fig.rubberband_context.strokeRect(min_x, min_y, width, height);\n",
       "}\n",
       "\n",
       "mpl.figure.prototype.handle_figure_label = function(fig, msg) {\n",
       "    // Updates the figure title.\n",
       "    fig.header.textContent = msg['label'];\n",
       "}\n",
       "\n",
       "mpl.figure.prototype.handle_cursor = function(fig, msg) {\n",
       "    var cursor = msg['cursor'];\n",
       "    switch(cursor)\n",
       "    {\n",
       "    case 0:\n",
       "        cursor = 'pointer';\n",
       "        break;\n",
       "    case 1:\n",
       "        cursor = 'default';\n",
       "        break;\n",
       "    case 2:\n",
       "        cursor = 'crosshair';\n",
       "        break;\n",
       "    case 3:\n",
       "        cursor = 'move';\n",
       "        break;\n",
       "    }\n",
       "    fig.rubberband_canvas.style.cursor = cursor;\n",
       "}\n",
       "\n",
       "mpl.figure.prototype.handle_message = function(fig, msg) {\n",
       "    fig.message.textContent = msg['message'];\n",
       "}\n",
       "\n",
       "mpl.figure.prototype.handle_draw = function(fig, msg) {\n",
       "    // Request the server to send over a new figure.\n",
       "    fig.send_draw_message();\n",
       "}\n",
       "\n",
       "mpl.figure.prototype.handle_image_mode = function(fig, msg) {\n",
       "    fig.image_mode = msg['mode'];\n",
       "}\n",
       "\n",
       "mpl.figure.prototype.updated_canvas_event = function() {\n",
       "    // Called whenever the canvas gets updated.\n",
       "    this.send_message(\"ack\", {});\n",
       "}\n",
       "\n",
       "// A function to construct a web socket function for onmessage handling.\n",
       "// Called in the figure constructor.\n",
       "mpl.figure.prototype._make_on_message_function = function(fig) {\n",
       "    return function socket_on_message(evt) {\n",
       "        if (evt.data instanceof Blob) {\n",
       "            /* FIXME: We get \"Resource interpreted as Image but\n",
       "             * transferred with MIME type text/plain:\" errors on\n",
       "             * Chrome.  But how to set the MIME type?  It doesn't seem\n",
       "             * to be part of the websocket stream */\n",
       "            evt.data.type = \"image/png\";\n",
       "\n",
       "            /* Free the memory for the previous frames */\n",
       "            if (fig.imageObj.src) {\n",
       "                (window.URL || window.webkitURL).revokeObjectURL(\n",
       "                    fig.imageObj.src);\n",
       "            }\n",
       "\n",
       "            fig.imageObj.src = (window.URL || window.webkitURL).createObjectURL(\n",
       "                evt.data);\n",
       "            fig.updated_canvas_event();\n",
       "            fig.waiting = false;\n",
       "            return;\n",
       "        }\n",
       "        else if (typeof evt.data === 'string' && evt.data.slice(0, 21) == \"data:image/png;base64\") {\n",
       "            fig.imageObj.src = evt.data;\n",
       "            fig.updated_canvas_event();\n",
       "            fig.waiting = false;\n",
       "            return;\n",
       "        }\n",
       "\n",
       "        var msg = JSON.parse(evt.data);\n",
       "        var msg_type = msg['type'];\n",
       "\n",
       "        // Call the  \"handle_{type}\" callback, which takes\n",
       "        // the figure and JSON message as its only arguments.\n",
       "        try {\n",
       "            var callback = fig[\"handle_\" + msg_type];\n",
       "        } catch (e) {\n",
       "            console.log(\"No handler for the '\" + msg_type + \"' message type: \", msg);\n",
       "            return;\n",
       "        }\n",
       "\n",
       "        if (callback) {\n",
       "            try {\n",
       "                // console.log(\"Handling '\" + msg_type + \"' message: \", msg);\n",
       "                callback(fig, msg);\n",
       "            } catch (e) {\n",
       "                console.log(\"Exception inside the 'handler_\" + msg_type + \"' callback:\", e, e.stack, msg);\n",
       "            }\n",
       "        }\n",
       "    };\n",
       "}\n",
       "\n",
       "// from http://stackoverflow.com/questions/1114465/getting-mouse-location-in-canvas\n",
       "mpl.findpos = function(e) {\n",
       "    //this section is from http://www.quirksmode.org/js/events_properties.html\n",
       "    var targ;\n",
       "    if (!e)\n",
       "        e = window.event;\n",
       "    if (e.target)\n",
       "        targ = e.target;\n",
       "    else if (e.srcElement)\n",
       "        targ = e.srcElement;\n",
       "    if (targ.nodeType == 3) // defeat Safari bug\n",
       "        targ = targ.parentNode;\n",
       "\n",
       "    // jQuery normalizes the pageX and pageY\n",
       "    // pageX,Y are the mouse positions relative to the document\n",
       "    // offset() returns the position of the element relative to the document\n",
       "    var x = e.pageX - $(targ).offset().left;\n",
       "    var y = e.pageY - $(targ).offset().top;\n",
       "\n",
       "    return {\"x\": x, \"y\": y};\n",
       "};\n",
       "\n",
       "/*\n",
       " * return a copy of an object with only non-object keys\n",
       " * we need this to avoid circular references\n",
       " * http://stackoverflow.com/a/24161582/3208463\n",
       " */\n",
       "function simpleKeys (original) {\n",
       "  return Object.keys(original).reduce(function (obj, key) {\n",
       "    if (typeof original[key] !== 'object')\n",
       "        obj[key] = original[key]\n",
       "    return obj;\n",
       "  }, {});\n",
       "}\n",
       "\n",
       "mpl.figure.prototype.mouse_event = function(event, name) {\n",
       "    var canvas_pos = mpl.findpos(event)\n",
       "\n",
       "    if (name === 'button_press')\n",
       "    {\n",
       "        this.canvas.focus();\n",
       "        this.canvas_div.focus();\n",
       "    }\n",
       "\n",
       "    var x = canvas_pos.x * mpl.ratio;\n",
       "    var y = canvas_pos.y * mpl.ratio;\n",
       "\n",
       "    this.send_message(name, {x: x, y: y, button: event.button,\n",
       "                             step: event.step,\n",
       "                             guiEvent: simpleKeys(event)});\n",
       "\n",
       "    /* This prevents the web browser from automatically changing to\n",
       "     * the text insertion cursor when the button is pressed.  We want\n",
       "     * to control all of the cursor setting manually through the\n",
       "     * 'cursor' event from matplotlib */\n",
       "    event.preventDefault();\n",
       "    return false;\n",
       "}\n",
       "\n",
       "mpl.figure.prototype._key_event_extra = function(event, name) {\n",
       "    // Handle any extra behaviour associated with a key event\n",
       "}\n",
       "\n",
       "mpl.figure.prototype.key_event = function(event, name) {\n",
       "\n",
       "    // Prevent repeat events\n",
       "    if (name == 'key_press')\n",
       "    {\n",
       "        if (event.which === this._key)\n",
       "            return;\n",
       "        else\n",
       "            this._key = event.which;\n",
       "    }\n",
       "    if (name == 'key_release')\n",
       "        this._key = null;\n",
       "\n",
       "    var value = '';\n",
       "    if (event.ctrlKey && event.which != 17)\n",
       "        value += \"ctrl+\";\n",
       "    if (event.altKey && event.which != 18)\n",
       "        value += \"alt+\";\n",
       "    if (event.shiftKey && event.which != 16)\n",
       "        value += \"shift+\";\n",
       "\n",
       "    value += 'k';\n",
       "    value += event.which.toString();\n",
       "\n",
       "    this._key_event_extra(event, name);\n",
       "\n",
       "    this.send_message(name, {key: value,\n",
       "                             guiEvent: simpleKeys(event)});\n",
       "    return false;\n",
       "}\n",
       "\n",
       "mpl.figure.prototype.toolbar_button_onclick = function(name) {\n",
       "    if (name == 'download') {\n",
       "        this.handle_save(this, null);\n",
       "    } else {\n",
       "        this.send_message(\"toolbar_button\", {name: name});\n",
       "    }\n",
       "};\n",
       "\n",
       "mpl.figure.prototype.toolbar_button_onmouseover = function(tooltip) {\n",
       "    this.message.textContent = tooltip;\n",
       "};\n",
       "mpl.toolbar_items = [[\"Home\", \"Reset original view\", \"fa fa-home icon-home\", \"home\"], [\"Back\", \"Back to previous view\", \"fa fa-arrow-left icon-arrow-left\", \"back\"], [\"Forward\", \"Forward to next view\", \"fa fa-arrow-right icon-arrow-right\", \"forward\"], [\"\", \"\", \"\", \"\"], [\"Pan\", \"Pan axes with left mouse, zoom with right\", \"fa fa-arrows icon-move\", \"pan\"], [\"Zoom\", \"Zoom to rectangle\", \"fa fa-square-o icon-check-empty\", \"zoom\"], [\"\", \"\", \"\", \"\"], [\"Download\", \"Download plot\", \"fa fa-floppy-o icon-save\", \"download\"]];\n",
       "\n",
       "mpl.extensions = [\"eps\", \"pdf\", \"png\", \"ps\", \"raw\", \"svg\"];\n",
       "\n",
       "mpl.default_extension = \"png\";var comm_websocket_adapter = function(comm) {\n",
       "    // Create a \"websocket\"-like object which calls the given IPython comm\n",
       "    // object with the appropriate methods. Currently this is a non binary\n",
       "    // socket, so there is still some room for performance tuning.\n",
       "    var ws = {};\n",
       "\n",
       "    ws.close = function() {\n",
       "        comm.close()\n",
       "    };\n",
       "    ws.send = function(m) {\n",
       "        //console.log('sending', m);\n",
       "        comm.send(m);\n",
       "    };\n",
       "    // Register the callback with on_msg.\n",
       "    comm.on_msg(function(msg) {\n",
       "        //console.log('receiving', msg['content']['data'], msg);\n",
       "        // Pass the mpl event to the overridden (by mpl) onmessage function.\n",
       "        ws.onmessage(msg['content']['data'])\n",
       "    });\n",
       "    return ws;\n",
       "}\n",
       "\n",
       "mpl.mpl_figure_comm = function(comm, msg) {\n",
       "    // This is the function which gets called when the mpl process\n",
       "    // starts-up an IPython Comm through the \"matplotlib\" channel.\n",
       "\n",
       "    var id = msg.content.data.id;\n",
       "    // Get hold of the div created by the display call when the Comm\n",
       "    // socket was opened in Python.\n",
       "    var element = $(\"#\" + id);\n",
       "    var ws_proxy = comm_websocket_adapter(comm)\n",
       "\n",
       "    function ondownload(figure, format) {\n",
       "        window.open(figure.imageObj.src);\n",
       "    }\n",
       "\n",
       "    var fig = new mpl.figure(id, ws_proxy,\n",
       "                           ondownload,\n",
       "                           element.get(0));\n",
       "\n",
       "    // Call onopen now - mpl needs it, as it is assuming we've passed it a real\n",
       "    // web socket which is closed, not our websocket->open comm proxy.\n",
       "    ws_proxy.onopen();\n",
       "\n",
       "    fig.parent_element = element.get(0);\n",
       "    fig.cell_info = mpl.find_output_cell(\"<div id='\" + id + \"'></div>\");\n",
       "    if (!fig.cell_info) {\n",
       "        console.error(\"Failed to find cell for figure\", id, fig);\n",
       "        return;\n",
       "    }\n",
       "\n",
       "    var output_index = fig.cell_info[2]\n",
       "    var cell = fig.cell_info[0];\n",
       "\n",
       "};\n",
       "\n",
       "mpl.figure.prototype.handle_close = function(fig, msg) {\n",
       "    var width = fig.canvas.width/mpl.ratio\n",
       "    fig.root.unbind('remove')\n",
       "\n",
       "    // Update the output cell to use the data from the current canvas.\n",
       "    fig.push_to_output();\n",
       "    var dataURL = fig.canvas.toDataURL();\n",
       "    // Re-enable the keyboard manager in IPython - without this line, in FF,\n",
       "    // the notebook keyboard shortcuts fail.\n",
       "    IPython.keyboard_manager.enable()\n",
       "    $(fig.parent_element).html('<img src=\"' + dataURL + '\" width=\"' + width + '\">');\n",
       "    fig.close_ws(fig, msg);\n",
       "}\n",
       "\n",
       "mpl.figure.prototype.close_ws = function(fig, msg){\n",
       "    fig.send_message('closing', msg);\n",
       "    // fig.ws.close()\n",
       "}\n",
       "\n",
       "mpl.figure.prototype.push_to_output = function(remove_interactive) {\n",
       "    // Turn the data on the canvas into data in the output cell.\n",
       "    var width = this.canvas.width/mpl.ratio\n",
       "    var dataURL = this.canvas.toDataURL();\n",
       "    this.cell_info[1]['text/html'] = '<img src=\"' + dataURL + '\" width=\"' + width + '\">';\n",
       "}\n",
       "\n",
       "mpl.figure.prototype.updated_canvas_event = function() {\n",
       "    // Tell IPython that the notebook contents must change.\n",
       "    IPython.notebook.set_dirty(true);\n",
       "    this.send_message(\"ack\", {});\n",
       "    var fig = this;\n",
       "    // Wait a second, then push the new image to the DOM so\n",
       "    // that it is saved nicely (might be nice to debounce this).\n",
       "    setTimeout(function () { fig.push_to_output() }, 1000);\n",
       "}\n",
       "\n",
       "mpl.figure.prototype._init_toolbar = function() {\n",
       "    var fig = this;\n",
       "\n",
       "    var nav_element = $('<div/>');\n",
       "    nav_element.attr('style', 'width: 100%');\n",
       "    this.root.append(nav_element);\n",
       "\n",
       "    // Define a callback function for later on.\n",
       "    function toolbar_event(event) {\n",
       "        return fig.toolbar_button_onclick(event['data']);\n",
       "    }\n",
       "    function toolbar_mouse_event(event) {\n",
       "        return fig.toolbar_button_onmouseover(event['data']);\n",
       "    }\n",
       "\n",
       "    for(var toolbar_ind in mpl.toolbar_items){\n",
       "        var name = mpl.toolbar_items[toolbar_ind][0];\n",
       "        var tooltip = mpl.toolbar_items[toolbar_ind][1];\n",
       "        var image = mpl.toolbar_items[toolbar_ind][2];\n",
       "        var method_name = mpl.toolbar_items[toolbar_ind][3];\n",
       "\n",
       "        if (!name) { continue; };\n",
       "\n",
       "        var button = $('<button class=\"btn btn-default\" href=\"#\" title=\"' + name + '\"><i class=\"fa ' + image + ' fa-lg\"></i></button>');\n",
       "        button.click(method_name, toolbar_event);\n",
       "        button.mouseover(tooltip, toolbar_mouse_event);\n",
       "        nav_element.append(button);\n",
       "    }\n",
       "\n",
       "    // Add the status bar.\n",
       "    var status_bar = $('<span class=\"mpl-message\" style=\"text-align:right; float: right;\"/>');\n",
       "    nav_element.append(status_bar);\n",
       "    this.message = status_bar[0];\n",
       "\n",
       "    // Add the close button to the window.\n",
       "    var buttongrp = $('<div class=\"btn-group inline pull-right\"></div>');\n",
       "    var button = $('<button class=\"btn btn-mini btn-primary\" href=\"#\" title=\"Stop Interaction\"><i class=\"fa fa-power-off icon-remove icon-large\"></i></button>');\n",
       "    button.click(function (evt) { fig.handle_close(fig, {}); } );\n",
       "    button.mouseover('Stop Interaction', toolbar_mouse_event);\n",
       "    buttongrp.append(button);\n",
       "    var titlebar = this.root.find($('.ui-dialog-titlebar'));\n",
       "    titlebar.prepend(buttongrp);\n",
       "}\n",
       "\n",
       "mpl.figure.prototype._root_extra_style = function(el){\n",
       "    var fig = this\n",
       "    el.on(\"remove\", function(){\n",
       "\tfig.close_ws(fig, {});\n",
       "    });\n",
       "}\n",
       "\n",
       "mpl.figure.prototype._canvas_extra_style = function(el){\n",
       "    // this is important to make the div 'focusable\n",
       "    el.attr('tabindex', 0)\n",
       "    // reach out to IPython and tell the keyboard manager to turn it's self\n",
       "    // off when our div gets focus\n",
       "\n",
       "    // location in version 3\n",
       "    if (IPython.notebook.keyboard_manager) {\n",
       "        IPython.notebook.keyboard_manager.register_events(el);\n",
       "    }\n",
       "    else {\n",
       "        // location in version 2\n",
       "        IPython.keyboard_manager.register_events(el);\n",
       "    }\n",
       "\n",
       "}\n",
       "\n",
       "mpl.figure.prototype._key_event_extra = function(event, name) {\n",
       "    var manager = IPython.notebook.keyboard_manager;\n",
       "    if (!manager)\n",
       "        manager = IPython.keyboard_manager;\n",
       "\n",
       "    // Check for shift+enter\n",
       "    if (event.shiftKey && event.which == 13) {\n",
       "        this.canvas_div.blur();\n",
       "        // select the cell after this one\n",
       "        var index = IPython.notebook.find_cell_index(this.cell_info[0]);\n",
       "        IPython.notebook.select(index + 1);\n",
       "    }\n",
       "}\n",
       "\n",
       "mpl.figure.prototype.handle_save = function(fig, msg) {\n",
       "    fig.ondownload(fig, null);\n",
       "}\n",
       "\n",
       "\n",
       "mpl.find_output_cell = function(html_output) {\n",
       "    // Return the cell and output element which can be found *uniquely* in the notebook.\n",
       "    // Note - this is a bit hacky, but it is done because the \"notebook_saving.Notebook\"\n",
       "    // IPython event is triggered only after the cells have been serialised, which for\n",
       "    // our purposes (turning an active figure into a static one), is too late.\n",
       "    var cells = IPython.notebook.get_cells();\n",
       "    var ncells = cells.length;\n",
       "    for (var i=0; i<ncells; i++) {\n",
       "        var cell = cells[i];\n",
       "        if (cell.cell_type === 'code'){\n",
       "            for (var j=0; j<cell.output_area.outputs.length; j++) {\n",
       "                var data = cell.output_area.outputs[j];\n",
       "                if (data.data) {\n",
       "                    // IPython >= 3 moved mimebundle to data attribute of output\n",
       "                    data = data.data;\n",
       "                }\n",
       "                if (data['text/html'] == html_output) {\n",
       "                    return [cell, data, j];\n",
       "                }\n",
       "            }\n",
       "        }\n",
       "    }\n",
       "}\n",
       "\n",
       "// Register the function which deals with the matplotlib target/channel.\n",
       "// The kernel may be null if the page has been refreshed.\n",
       "if (IPython.notebook.kernel != null) {\n",
       "    IPython.notebook.kernel.comm_manager.register_target('matplotlib', mpl.mpl_figure_comm);\n",
       "}\n"
      ],
      "text/plain": [
       "<IPython.core.display.Javascript object>"
      ]
     },
     "metadata": {},
     "output_type": "display_data"
    },
    {
     "data": {
      "text/html": [
       "<img src=\"data:image/png;base64,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\" width=\"640\">"
      ],
      "text/plain": [
       "<IPython.core.display.HTML object>"
      ]
     },
     "metadata": {},
     "output_type": "display_data"
    },
    {
     "data": {
      "text/plain": [
       "(<Figure size 640x640 with 2 Axes>, GridSpec(2, 1, height_ratios=[1, 4]))"
      ]
     },
     "execution_count": 22,
     "metadata": {},
     "output_type": "execute_result"
    }
   ],
   "source": [
    "result.plot()"
   ]
  },
  {
   "cell_type": "code",
   "execution_count": 35,
   "metadata": {},
   "outputs": [
    {
     "name": "stdout",
     "output_type": "stream",
     "text": [
      "1\n",
      "parameter names: ['M', 'alpha', 'beta']\n",
      "independent variables: ['x']\n"
     ]
    },
    {
     "data": {
      "application/vnd.plotly.v1+json": {
       "config": {
        "plotlyServerURL": "https://plotly.com"
       },
       "data": [
        {
         "name": "tot en met gisteren",
         "type": "bar",
         "x": [
          "2020-02-27T00:00:00",
          "2020-02-28T00:00:00",
          "2020-02-29T00:00:00",
          "2020-03-01T00:00:00",
          "2020-03-02T00:00:00",
          "2020-03-03T00:00:00",
          "2020-03-04T00:00:00",
          "2020-03-05T00:00:00",
          "2020-03-06T00:00:00",
          "2020-03-07T00:00:00",
          "2020-03-08T00:00:00",
          "2020-03-09T00:00:00",
          "2020-03-10T00:00:00",
          "2020-03-11T00:00:00",
          "2020-03-12T00:00:00",
          "2020-03-13T00:00:00",
          "2020-03-14T00:00:00",
          "2020-03-15T00:00:00",
          "2020-03-16T00:00:00",
          "2020-03-17T00:00:00",
          "2020-03-18T00:00:00",
          "2020-03-19T00:00:00",
          "2020-03-20T00:00:00",
          "2020-03-21T00:00:00",
          "2020-03-22T00:00:00",
          "2020-03-23T00:00:00",
          "2020-03-24T00:00:00",
          "2020-03-25T00:00:00",
          "2020-03-26T00:00:00",
          "2020-03-27T00:00:00",
          "2020-03-28T00:00:00",
          "2020-03-29T00:00:00",
          "2020-03-30T00:00:00",
          "2020-03-31T00:00:00",
          "2020-04-01T00:00:00",
          "2020-04-02T00:00:00",
          "2020-04-03T00:00:00",
          "2020-04-04T00:00:00",
          "2020-04-05T00:00:00",
          "2020-04-06T00:00:00",
          "2020-04-07T00:00:00",
          "2020-04-08T00:00:00",
          "2020-04-09T00:00:00",
          "2020-04-10T00:00:00",
          "2020-04-11T00:00:00",
          "2020-04-12T00:00:00"
         ],
         "y": [
          0,
          0,
          0,
          0,
          0,
          0,
          0,
          0,
          1,
          1,
          2,
          1,
          1,
          2,
          3,
          6,
          10,
          14,
          23,
          22,
          20,
          43,
          55,
          61,
          59,
          85,
          74,
          106,
          122,
          105,
          146,
          115,
          147,
          155,
          152,
          158,
          150,
          143,
          139,
          142,
          131,
          117,
          78,
          44,
          1,
          0
         ]
        },
        {
         "name": "nieuw",
         "type": "bar",
         "x": [
          "2020-02-27T00:00:00",
          "2020-02-28T00:00:00",
          "2020-02-29T00:00:00",
          "2020-03-01T00:00:00",
          "2020-03-02T00:00:00",
          "2020-03-03T00:00:00",
          "2020-03-04T00:00:00",
          "2020-03-05T00:00:00",
          "2020-03-06T00:00:00",
          "2020-03-07T00:00:00",
          "2020-03-08T00:00:00",
          "2020-03-09T00:00:00",
          "2020-03-10T00:00:00",
          "2020-03-11T00:00:00",
          "2020-03-12T00:00:00",
          "2020-03-13T00:00:00",
          "2020-03-14T00:00:00",
          "2020-03-15T00:00:00",
          "2020-03-16T00:00:00",
          "2020-03-17T00:00:00",
          "2020-03-18T00:00:00",
          "2020-03-19T00:00:00",
          "2020-03-20T00:00:00",
          "2020-03-21T00:00:00",
          "2020-03-22T00:00:00",
          "2020-03-23T00:00:00",
          "2020-03-24T00:00:00",
          "2020-03-25T00:00:00",
          "2020-03-26T00:00:00",
          "2020-03-27T00:00:00",
          "2020-03-28T00:00:00",
          "2020-03-29T00:00:00",
          "2020-03-30T00:00:00",
          "2020-03-31T00:00:00",
          "2020-04-01T00:00:00",
          "2020-04-02T00:00:00",
          "2020-04-03T00:00:00",
          "2020-04-04T00:00:00",
          "2020-04-05T00:00:00",
          "2020-04-06T00:00:00",
          "2020-04-07T00:00:00",
          "2020-04-08T00:00:00",
          "2020-04-09T00:00:00",
          "2020-04-10T00:00:00",
          "2020-04-11T00:00:00",
          "2020-04-12T00:00:00"
         ],
         "y": [
          0,
          0,
          0,
          0,
          0,
          0,
          0,
          0,
          0,
          0,
          0,
          0,
          0,
          0,
          0,
          0,
          0,
          0,
          0,
          0,
          0,
          0,
          0,
          0,
          1,
          0,
          0,
          1,
          0,
          0,
          0,
          0,
          0,
          3,
          0,
          0,
          0,
          6,
          3,
          2,
          2,
          4,
          7,
          41,
          23,
          0
         ]
        },
        {
         "mode": "lines",
         "name": "K=3262.51,beta=0.19, t_0=34.71",
         "type": "scatter",
         "x": [
          "2020-02-28T00:00:00",
          "2020-02-29T00:00:00",
          "2020-03-01T00:00:00",
          "2020-03-02T00:00:00",
          "2020-03-03T00:00:00",
          "2020-03-04T00:00:00",
          "2020-03-05T00:00:00",
          "2020-03-06T00:00:00",
          "2020-03-07T00:00:00",
          "2020-03-08T00:00:00",
          "2020-03-09T00:00:00",
          "2020-03-10T00:00:00",
          "2020-03-11T00:00:00",
          "2020-03-12T00:00:00",
          "2020-03-13T00:00:00",
          "2020-03-14T00:00:00",
          "2020-03-15T00:00:00",
          "2020-03-16T00:00:00",
          "2020-03-17T00:00:00",
          "2020-03-18T00:00:00",
          "2020-03-19T00:00:00",
          "2020-03-20T00:00:00",
          "2020-03-21T00:00:00",
          "2020-03-22T00:00:00",
          "2020-03-23T00:00:00",
          "2020-03-24T00:00:00",
          "2020-03-25T00:00:00",
          "2020-03-26T00:00:00",
          "2020-03-27T00:00:00",
          "2020-03-28T00:00:00",
          "2020-03-29T00:00:00",
          "2020-03-30T00:00:00",
          "2020-03-31T00:00:00",
          "2020-04-01T00:00:00",
          "2020-04-02T00:00:00",
          "2020-04-03T00:00:00",
          "2020-04-04T00:00:00",
          "2020-04-05T00:00:00",
          "2020-04-06T00:00:00",
          "2020-04-07T00:00:00",
          "2020-04-08T00:00:00",
          "2020-04-09T00:00:00",
          "2020-04-10T00:00:00",
          "2020-04-11T00:00:00",
          "2020-04-12T00:00:00"
         ],
         "y": [
          0.9088113675161441,
          1.1028509049032398,
          1.3381434712203435,
          1.623376217382198,
          1.9690262947956525,
          2.3877110559719283,
          2.8945978693077747,
          3.507879307729122,
          4.24931761046134,
          5.1448587671213275,
          6.22531049128461,
          7.527068581702772,
          9.092861182143858,
          10.97245830368171,
          13.223262358470874,
          15.910651907325791,
          19.10789323877194,
          22.8953620558236,
          27.358732932821624,
          32.58570589328927,
          38.66076621544577,
          45.65744930954783,
          53.62766068096905,
          62.5878550347962,
          72.50239246252224,
          83.26523030237982,
          94.68227375068152,
          106.45804808947473,
          118.1915024563027,
          129.38610796570768,
          139.47826510747177,
          147.8849005910305,
          154.06620590520612,
          157.59396366256058,
          158.21191559352818,
          155.874286513067,
          150.75284647952344,
          143.21069086906516,
          133.74940905206236,
          122.94230026448413,
          111.36786244797906,
          99.55508619112858,
          87.94692636444235,
          76.88294717344245,
          66.59817821462335,
          57.233276039167386
         ]
        }
       ],
       "layout": {
        "barmode": "stack",
        "font": {
         "size": 12
        },
        "legend": {
         "x": 0.05,
         "y": 0.95
        },
        "template": {
         "data": {
          "bar": [
           {
            "error_x": {
             "color": "#2a3f5f"
            },
            "error_y": {
             "color": "#2a3f5f"
            },
            "marker": {
             "line": {
              "color": "#E5ECF6",
              "width": 0.5
             }
            },
            "type": "bar"
           }
          ],
          "barpolar": [
           {
            "marker": {
             "line": {
              "color": "#E5ECF6",
              "width": 0.5
             }
            },
            "type": "barpolar"
           }
          ],
          "carpet": [
           {
            "aaxis": {
             "endlinecolor": "#2a3f5f",
             "gridcolor": "white",
             "linecolor": "white",
             "minorgridcolor": "white",
             "startlinecolor": "#2a3f5f"
            },
            "baxis": {
             "endlinecolor": "#2a3f5f",
             "gridcolor": "white",
             "linecolor": "white",
             "minorgridcolor": "white",
             "startlinecolor": "#2a3f5f"
            },
            "type": "carpet"
           }
          ],
          "choropleth": [
           {
            "colorbar": {
             "outlinewidth": 0,
             "ticks": ""
            },
            "type": "choropleth"
           }
          ],
          "contour": [
           {
            "colorbar": {
             "outlinewidth": 0,
             "ticks": ""
            },
            "colorscale": [
             [
              0,
              "#0d0887"
             ],
             [
              0.1111111111111111,
              "#46039f"
             ],
             [
              0.2222222222222222,
              "#7201a8"
             ],
             [
              0.3333333333333333,
              "#9c179e"
             ],
             [
              0.4444444444444444,
              "#bd3786"
             ],
             [
              0.5555555555555556,
              "#d8576b"
             ],
             [
              0.6666666666666666,
              "#ed7953"
             ],
             [
              0.7777777777777778,
              "#fb9f3a"
             ],
             [
              0.8888888888888888,
              "#fdca26"
             ],
             [
              1,
              "#f0f921"
             ]
            ],
            "type": "contour"
           }
          ],
          "contourcarpet": [
           {
            "colorbar": {
             "outlinewidth": 0,
             "ticks": ""
            },
            "type": "contourcarpet"
           }
          ],
          "heatmap": [
           {
            "colorbar": {
             "outlinewidth": 0,
             "ticks": ""
            },
            "colorscale": [
             [
              0,
              "#0d0887"
             ],
             [
              0.1111111111111111,
              "#46039f"
             ],
             [
              0.2222222222222222,
              "#7201a8"
             ],
             [
              0.3333333333333333,
              "#9c179e"
             ],
             [
              0.4444444444444444,
              "#bd3786"
             ],
             [
              0.5555555555555556,
              "#d8576b"
             ],
             [
              0.6666666666666666,
              "#ed7953"
             ],
             [
              0.7777777777777778,
              "#fb9f3a"
             ],
             [
              0.8888888888888888,
              "#fdca26"
             ],
             [
              1,
              "#f0f921"
             ]
            ],
            "type": "heatmap"
           }
          ],
          "heatmapgl": [
           {
            "colorbar": {
             "outlinewidth": 0,
             "ticks": ""
            },
            "colorscale": [
             [
              0,
              "#0d0887"
             ],
             [
              0.1111111111111111,
              "#46039f"
             ],
             [
              0.2222222222222222,
              "#7201a8"
             ],
             [
              0.3333333333333333,
              "#9c179e"
             ],
             [
              0.4444444444444444,
              "#bd3786"
             ],
             [
              0.5555555555555556,
              "#d8576b"
             ],
             [
              0.6666666666666666,
              "#ed7953"
             ],
             [
              0.7777777777777778,
              "#fb9f3a"
             ],
             [
              0.8888888888888888,
              "#fdca26"
             ],
             [
              1,
              "#f0f921"
             ]
            ],
            "type": "heatmapgl"
           }
          ],
          "histogram": [
           {
            "marker": {
             "colorbar": {
              "outlinewidth": 0,
              "ticks": ""
             }
            },
            "type": "histogram"
           }
          ],
          "histogram2d": [
           {
            "colorbar": {
             "outlinewidth": 0,
             "ticks": ""
            },
            "colorscale": [
             [
              0,
              "#0d0887"
             ],
             [
              0.1111111111111111,
              "#46039f"
             ],
             [
              0.2222222222222222,
              "#7201a8"
             ],
             [
              0.3333333333333333,
              "#9c179e"
             ],
             [
              0.4444444444444444,
              "#bd3786"
             ],
             [
              0.5555555555555556,
              "#d8576b"
             ],
             [
              0.6666666666666666,
              "#ed7953"
             ],
             [
              0.7777777777777778,
              "#fb9f3a"
             ],
             [
              0.8888888888888888,
              "#fdca26"
             ],
             [
              1,
              "#f0f921"
             ]
            ],
            "type": "histogram2d"
           }
          ],
          "histogram2dcontour": [
           {
            "colorbar": {
             "outlinewidth": 0,
             "ticks": ""
            },
            "colorscale": [
             [
              0,
              "#0d0887"
             ],
             [
              0.1111111111111111,
              "#46039f"
             ],
             [
              0.2222222222222222,
              "#7201a8"
             ],
             [
              0.3333333333333333,
              "#9c179e"
             ],
             [
              0.4444444444444444,
              "#bd3786"
             ],
             [
              0.5555555555555556,
              "#d8576b"
             ],
             [
              0.6666666666666666,
              "#ed7953"
             ],
             [
              0.7777777777777778,
              "#fb9f3a"
             ],
             [
              0.8888888888888888,
              "#fdca26"
             ],
             [
              1,
              "#f0f921"
             ]
            ],
            "type": "histogram2dcontour"
           }
          ],
          "mesh3d": [
           {
            "colorbar": {
             "outlinewidth": 0,
             "ticks": ""
            },
            "type": "mesh3d"
           }
          ],
          "parcoords": [
           {
            "line": {
             "colorbar": {
              "outlinewidth": 0,
              "ticks": ""
             }
            },
            "type": "parcoords"
           }
          ],
          "pie": [
           {
            "automargin": true,
            "type": "pie"
           }
          ],
          "scatter": [
           {
            "marker": {
             "colorbar": {
              "outlinewidth": 0,
              "ticks": ""
             }
            },
            "type": "scatter"
           }
          ],
          "scatter3d": [
           {
            "line": {
             "colorbar": {
              "outlinewidth": 0,
              "ticks": ""
             }
            },
            "marker": {
             "colorbar": {
              "outlinewidth": 0,
              "ticks": ""
             }
            },
            "type": "scatter3d"
           }
          ],
          "scattercarpet": [
           {
            "marker": {
             "colorbar": {
              "outlinewidth": 0,
              "ticks": ""
             }
            },
            "type": "scattercarpet"
           }
          ],
          "scattergeo": [
           {
            "marker": {
             "colorbar": {
              "outlinewidth": 0,
              "ticks": ""
             }
            },
            "type": "scattergeo"
           }
          ],
          "scattergl": [
           {
            "marker": {
             "colorbar": {
              "outlinewidth": 0,
              "ticks": ""
             }
            },
            "type": "scattergl"
           }
          ],
          "scattermapbox": [
           {
            "marker": {
             "colorbar": {
              "outlinewidth": 0,
              "ticks": ""
             }
            },
            "type": "scattermapbox"
           }
          ],
          "scatterpolar": [
           {
            "marker": {
             "colorbar": {
              "outlinewidth": 0,
              "ticks": ""
             }
            },
            "type": "scatterpolar"
           }
          ],
          "scatterpolargl": [
           {
            "marker": {
             "colorbar": {
              "outlinewidth": 0,
              "ticks": ""
             }
            },
            "type": "scatterpolargl"
           }
          ],
          "scatterternary": [
           {
            "marker": {
             "colorbar": {
              "outlinewidth": 0,
              "ticks": ""
             }
            },
            "type": "scatterternary"
           }
          ],
          "surface": [
           {
            "colorbar": {
             "outlinewidth": 0,
             "ticks": ""
            },
            "colorscale": [
             [
              0,
              "#0d0887"
             ],
             [
              0.1111111111111111,
              "#46039f"
             ],
             [
              0.2222222222222222,
              "#7201a8"
             ],
             [
              0.3333333333333333,
              "#9c179e"
             ],
             [
              0.4444444444444444,
              "#bd3786"
             ],
             [
              0.5555555555555556,
              "#d8576b"
             ],
             [
              0.6666666666666666,
              "#ed7953"
             ],
             [
              0.7777777777777778,
              "#fb9f3a"
             ],
             [
              0.8888888888888888,
              "#fdca26"
             ],
             [
              1,
              "#f0f921"
             ]
            ],
            "type": "surface"
           }
          ],
          "table": [
           {
            "cells": {
             "fill": {
              "color": "#EBF0F8"
             },
             "line": {
              "color": "white"
             }
            },
            "header": {
             "fill": {
              "color": "#C8D4E3"
             },
             "line": {
              "color": "white"
             }
            },
            "type": "table"
           }
          ]
         },
         "layout": {
          "annotationdefaults": {
           "arrowcolor": "#2a3f5f",
           "arrowhead": 0,
           "arrowwidth": 1
          },
          "coloraxis": {
           "colorbar": {
            "outlinewidth": 0,
            "ticks": ""
           }
          },
          "colorscale": {
           "diverging": [
            [
             0,
             "#8e0152"
            ],
            [
             0.1,
             "#c51b7d"
            ],
            [
             0.2,
             "#de77ae"
            ],
            [
             0.3,
             "#f1b6da"
            ],
            [
             0.4,
             "#fde0ef"
            ],
            [
             0.5,
             "#f7f7f7"
            ],
            [
             0.6,
             "#e6f5d0"
            ],
            [
             0.7,
             "#b8e186"
            ],
            [
             0.8,
             "#7fbc41"
            ],
            [
             0.9,
             "#4d9221"
            ],
            [
             1,
             "#276419"
            ]
           ],
           "sequential": [
            [
             0,
             "#0d0887"
            ],
            [
             0.1111111111111111,
             "#46039f"
            ],
            [
             0.2222222222222222,
             "#7201a8"
            ],
            [
             0.3333333333333333,
             "#9c179e"
            ],
            [
             0.4444444444444444,
             "#bd3786"
            ],
            [
             0.5555555555555556,
             "#d8576b"
            ],
            [
             0.6666666666666666,
             "#ed7953"
            ],
            [
             0.7777777777777778,
             "#fb9f3a"
            ],
            [
             0.8888888888888888,
             "#fdca26"
            ],
            [
             1,
             "#f0f921"
            ]
           ],
           "sequentialminus": [
            [
             0,
             "#0d0887"
            ],
            [
             0.1111111111111111,
             "#46039f"
            ],
            [
             0.2222222222222222,
             "#7201a8"
            ],
            [
             0.3333333333333333,
             "#9c179e"
            ],
            [
             0.4444444444444444,
             "#bd3786"
            ],
            [
             0.5555555555555556,
             "#d8576b"
            ],
            [
             0.6666666666666666,
             "#ed7953"
            ],
            [
             0.7777777777777778,
             "#fb9f3a"
            ],
            [
             0.8888888888888888,
             "#fdca26"
            ],
            [
             1,
             "#f0f921"
            ]
           ]
          },
          "colorway": [
           "#636efa",
           "#EF553B",
           "#00cc96",
           "#ab63fa",
           "#FFA15A",
           "#19d3f3",
           "#FF6692",
           "#B6E880",
           "#FF97FF",
           "#FECB52"
          ],
          "font": {
           "color": "#2a3f5f"
          },
          "geo": {
           "bgcolor": "white",
           "lakecolor": "white",
           "landcolor": "#E5ECF6",
           "showlakes": true,
           "showland": true,
           "subunitcolor": "white"
          },
          "hoverlabel": {
           "align": "left"
          },
          "hovermode": "closest",
          "mapbox": {
           "style": "light"
          },
          "paper_bgcolor": "white",
          "plot_bgcolor": "#E5ECF6",
          "polar": {
           "angularaxis": {
            "gridcolor": "white",
            "linecolor": "white",
            "ticks": ""
           },
           "bgcolor": "#E5ECF6",
           "radialaxis": {
            "gridcolor": "white",
            "linecolor": "white",
            "ticks": ""
           }
          },
          "scene": {
           "xaxis": {
            "backgroundcolor": "#E5ECF6",
            "gridcolor": "white",
            "gridwidth": 2,
            "linecolor": "white",
            "showbackground": true,
            "ticks": "",
            "zerolinecolor": "white"
           },
           "yaxis": {
            "backgroundcolor": "#E5ECF6",
            "gridcolor": "white",
            "gridwidth": 2,
            "linecolor": "white",
            "showbackground": true,
            "ticks": "",
            "zerolinecolor": "white"
           },
           "zaxis": {
            "backgroundcolor": "#E5ECF6",
            "gridcolor": "white",
            "gridwidth": 2,
            "linecolor": "white",
            "showbackground": true,
            "ticks": "",
            "zerolinecolor": "white"
           }
          },
          "shapedefaults": {
           "line": {
            "color": "#2a3f5f"
           }
          },
          "ternary": {
           "aaxis": {
            "gridcolor": "white",
            "linecolor": "white",
            "ticks": ""
           },
           "baxis": {
            "gridcolor": "white",
            "linecolor": "white",
            "ticks": ""
           },
           "bgcolor": "#E5ECF6",
           "caxis": {
            "gridcolor": "white",
            "linecolor": "white",
            "ticks": ""
           }
          },
          "title": {
           "x": 0.05
          },
          "xaxis": {
           "automargin": true,
           "gridcolor": "white",
           "linecolor": "white",
           "ticks": "",
           "title": {
            "standoff": 15
           },
           "zerolinecolor": "white",
           "zerolinewidth": 2
          },
          "yaxis": {
           "automargin": true,
           "gridcolor": "white",
           "linecolor": "white",
           "ticks": "",
           "title": {
            "standoff": 15
           },
           "zerolinecolor": "white",
           "zerolinewidth": 2
          }
         }
        },
        "title": {
         "text": "Deaths per day",
         "x": 0.5,
         "xanchor": "center"
        },
        "xaxis": {
         "title": {
          "text": "Date"
         }
        },
        "yaxis": {
         "title": {
          "text": "# deaths/day"
         }
        }
       }
      },
      "text/html": [
       "<div>\n",
       "        \n",
       "        \n",
       "            <div id=\"1319db9c-e5c6-4729-9af8-61bc975bc2f8\" class=\"plotly-graph-div\" style=\"height:525px; width:100%;\"></div>\n",
       "            <script type=\"text/javascript\">\n",
       "                require([\"plotly\"], function(Plotly) {\n",
       "                    window.PLOTLYENV=window.PLOTLYENV || {};\n",
       "                    \n",
       "                if (document.getElementById(\"1319db9c-e5c6-4729-9af8-61bc975bc2f8\")) {\n",
       "                    Plotly.newPlot(\n",
       "                        '1319db9c-e5c6-4729-9af8-61bc975bc2f8',\n",
       "                        [{\"name\": \"tot en met gisteren\", \"type\": \"bar\", \"x\": [\"2020-02-27T00:00:00\", \"2020-02-28T00:00:00\", \"2020-02-29T00:00:00\", \"2020-03-01T00:00:00\", \"2020-03-02T00:00:00\", \"2020-03-03T00:00:00\", \"2020-03-04T00:00:00\", \"2020-03-05T00:00:00\", \"2020-03-06T00:00:00\", \"2020-03-07T00:00:00\", \"2020-03-08T00:00:00\", \"2020-03-09T00:00:00\", \"2020-03-10T00:00:00\", \"2020-03-11T00:00:00\", \"2020-03-12T00:00:00\", \"2020-03-13T00:00:00\", \"2020-03-14T00:00:00\", \"2020-03-15T00:00:00\", \"2020-03-16T00:00:00\", \"2020-03-17T00:00:00\", \"2020-03-18T00:00:00\", \"2020-03-19T00:00:00\", \"2020-03-20T00:00:00\", \"2020-03-21T00:00:00\", \"2020-03-22T00:00:00\", \"2020-03-23T00:00:00\", \"2020-03-24T00:00:00\", \"2020-03-25T00:00:00\", \"2020-03-26T00:00:00\", \"2020-03-27T00:00:00\", \"2020-03-28T00:00:00\", \"2020-03-29T00:00:00\", \"2020-03-30T00:00:00\", \"2020-03-31T00:00:00\", \"2020-04-01T00:00:00\", \"2020-04-02T00:00:00\", \"2020-04-03T00:00:00\", \"2020-04-04T00:00:00\", \"2020-04-05T00:00:00\", \"2020-04-06T00:00:00\", \"2020-04-07T00:00:00\", \"2020-04-08T00:00:00\", \"2020-04-09T00:00:00\", \"2020-04-10T00:00:00\", \"2020-04-11T00:00:00\", \"2020-04-12T00:00:00\"], \"y\": [0, 0, 0, 0, 0, 0, 0, 0, 1, 1, 2, 1, 1, 2, 3, 6, 10, 14, 23, 22, 20, 43, 55, 61, 59, 85, 74, 106, 122, 105, 146, 115, 147, 155, 152, 158, 150, 143, 139, 142, 131, 117, 78, 44, 1, 0]}, {\"name\": \"nieuw\", \"type\": \"bar\", \"x\": [\"2020-02-27T00:00:00\", \"2020-02-28T00:00:00\", \"2020-02-29T00:00:00\", \"2020-03-01T00:00:00\", \"2020-03-02T00:00:00\", \"2020-03-03T00:00:00\", \"2020-03-04T00:00:00\", \"2020-03-05T00:00:00\", \"2020-03-06T00:00:00\", \"2020-03-07T00:00:00\", \"2020-03-08T00:00:00\", \"2020-03-09T00:00:00\", \"2020-03-10T00:00:00\", \"2020-03-11T00:00:00\", \"2020-03-12T00:00:00\", \"2020-03-13T00:00:00\", \"2020-03-14T00:00:00\", \"2020-03-15T00:00:00\", \"2020-03-16T00:00:00\", \"2020-03-17T00:00:00\", \"2020-03-18T00:00:00\", \"2020-03-19T00:00:00\", \"2020-03-20T00:00:00\", \"2020-03-21T00:00:00\", \"2020-03-22T00:00:00\", \"2020-03-23T00:00:00\", \"2020-03-24T00:00:00\", \"2020-03-25T00:00:00\", \"2020-03-26T00:00:00\", \"2020-03-27T00:00:00\", \"2020-03-28T00:00:00\", \"2020-03-29T00:00:00\", \"2020-03-30T00:00:00\", \"2020-03-31T00:00:00\", \"2020-04-01T00:00:00\", \"2020-04-02T00:00:00\", \"2020-04-03T00:00:00\", \"2020-04-04T00:00:00\", \"2020-04-05T00:00:00\", \"2020-04-06T00:00:00\", \"2020-04-07T00:00:00\", \"2020-04-08T00:00:00\", \"2020-04-09T00:00:00\", \"2020-04-10T00:00:00\", \"2020-04-11T00:00:00\", \"2020-04-12T00:00:00\"], \"y\": [0, 0, 0, 0, 0, 0, 0, 0, 0, 0, 0, 0, 0, 0, 0, 0, 0, 0, 0, 0, 0, 0, 0, 0, 1, 0, 0, 1, 0, 0, 0, 0, 0, 3, 0, 0, 0, 6, 3, 2, 2, 4, 7, 41, 23, 0]}, {\"mode\": \"lines\", \"name\": \"K=3262.51,beta=0.19, t_0=34.71\", \"type\": \"scatter\", \"x\": [\"2020-02-28T00:00:00\", \"2020-02-29T00:00:00\", \"2020-03-01T00:00:00\", \"2020-03-02T00:00:00\", \"2020-03-03T00:00:00\", \"2020-03-04T00:00:00\", \"2020-03-05T00:00:00\", \"2020-03-06T00:00:00\", \"2020-03-07T00:00:00\", \"2020-03-08T00:00:00\", \"2020-03-09T00:00:00\", \"2020-03-10T00:00:00\", \"2020-03-11T00:00:00\", \"2020-03-12T00:00:00\", \"2020-03-13T00:00:00\", \"2020-03-14T00:00:00\", \"2020-03-15T00:00:00\", \"2020-03-16T00:00:00\", \"2020-03-17T00:00:00\", \"2020-03-18T00:00:00\", \"2020-03-19T00:00:00\", \"2020-03-20T00:00:00\", \"2020-03-21T00:00:00\", \"2020-03-22T00:00:00\", \"2020-03-23T00:00:00\", \"2020-03-24T00:00:00\", \"2020-03-25T00:00:00\", \"2020-03-26T00:00:00\", \"2020-03-27T00:00:00\", \"2020-03-28T00:00:00\", \"2020-03-29T00:00:00\", \"2020-03-30T00:00:00\", \"2020-03-31T00:00:00\", \"2020-04-01T00:00:00\", \"2020-04-02T00:00:00\", \"2020-04-03T00:00:00\", \"2020-04-04T00:00:00\", \"2020-04-05T00:00:00\", \"2020-04-06T00:00:00\", \"2020-04-07T00:00:00\", \"2020-04-08T00:00:00\", \"2020-04-09T00:00:00\", \"2020-04-10T00:00:00\", \"2020-04-11T00:00:00\", \"2020-04-12T00:00:00\"], \"y\": [0.9088113675161441, 1.1028509049032398, 1.3381434712203435, 1.623376217382198, 1.9690262947956525, 2.3877110559719283, 2.8945978693077747, 3.507879307729122, 4.24931761046134, 5.1448587671213275, 6.22531049128461, 7.527068581702772, 9.092861182143858, 10.97245830368171, 13.223262358470874, 15.910651907325791, 19.10789323877194, 22.8953620558236, 27.358732932821624, 32.58570589328927, 38.66076621544577, 45.65744930954783, 53.62766068096905, 62.5878550347962, 72.50239246252224, 83.26523030237982, 94.68227375068152, 106.45804808947473, 118.1915024563027, 129.38610796570768, 139.47826510747177, 147.8849005910305, 154.06620590520612, 157.59396366256058, 158.21191559352818, 155.874286513067, 150.75284647952344, 143.21069086906516, 133.74940905206236, 122.94230026448413, 111.36786244797906, 99.55508619112858, 87.94692636444235, 76.88294717344245, 66.59817821462335, 57.233276039167386]}],\n",
       "                        {\"barmode\": \"stack\", \"font\": {\"size\": 12}, \"legend\": {\"x\": 0.05, \"y\": 0.95}, \"template\": {\"data\": {\"bar\": [{\"error_x\": {\"color\": \"#2a3f5f\"}, \"error_y\": {\"color\": \"#2a3f5f\"}, \"marker\": {\"line\": {\"color\": \"#E5ECF6\", \"width\": 0.5}}, \"type\": \"bar\"}], \"barpolar\": [{\"marker\": {\"line\": {\"color\": \"#E5ECF6\", \"width\": 0.5}}, \"type\": \"barpolar\"}], \"carpet\": [{\"aaxis\": {\"endlinecolor\": \"#2a3f5f\", \"gridcolor\": \"white\", \"linecolor\": \"white\", \"minorgridcolor\": \"white\", \"startlinecolor\": \"#2a3f5f\"}, \"baxis\": {\"endlinecolor\": \"#2a3f5f\", \"gridcolor\": \"white\", \"linecolor\": \"white\", \"minorgridcolor\": \"white\", \"startlinecolor\": \"#2a3f5f\"}, \"type\": \"carpet\"}], \"choropleth\": [{\"colorbar\": {\"outlinewidth\": 0, \"ticks\": \"\"}, \"type\": \"choropleth\"}], \"contour\": [{\"colorbar\": {\"outlinewidth\": 0, \"ticks\": \"\"}, \"colorscale\": [[0.0, \"#0d0887\"], [0.1111111111111111, \"#46039f\"], [0.2222222222222222, \"#7201a8\"], [0.3333333333333333, \"#9c179e\"], [0.4444444444444444, \"#bd3786\"], [0.5555555555555556, \"#d8576b\"], [0.6666666666666666, \"#ed7953\"], [0.7777777777777778, \"#fb9f3a\"], [0.8888888888888888, \"#fdca26\"], [1.0, \"#f0f921\"]], \"type\": \"contour\"}], \"contourcarpet\": [{\"colorbar\": {\"outlinewidth\": 0, \"ticks\": \"\"}, \"type\": \"contourcarpet\"}], \"heatmap\": [{\"colorbar\": {\"outlinewidth\": 0, \"ticks\": \"\"}, \"colorscale\": [[0.0, \"#0d0887\"], [0.1111111111111111, \"#46039f\"], [0.2222222222222222, \"#7201a8\"], [0.3333333333333333, \"#9c179e\"], [0.4444444444444444, \"#bd3786\"], [0.5555555555555556, \"#d8576b\"], [0.6666666666666666, \"#ed7953\"], [0.7777777777777778, \"#fb9f3a\"], [0.8888888888888888, \"#fdca26\"], [1.0, \"#f0f921\"]], \"type\": \"heatmap\"}], \"heatmapgl\": [{\"colorbar\": {\"outlinewidth\": 0, \"ticks\": \"\"}, \"colorscale\": [[0.0, \"#0d0887\"], [0.1111111111111111, \"#46039f\"], [0.2222222222222222, \"#7201a8\"], [0.3333333333333333, \"#9c179e\"], [0.4444444444444444, \"#bd3786\"], [0.5555555555555556, \"#d8576b\"], [0.6666666666666666, \"#ed7953\"], [0.7777777777777778, \"#fb9f3a\"], [0.8888888888888888, \"#fdca26\"], [1.0, \"#f0f921\"]], \"type\": \"heatmapgl\"}], \"histogram\": [{\"marker\": {\"colorbar\": {\"outlinewidth\": 0, \"ticks\": \"\"}}, \"type\": \"histogram\"}], \"histogram2d\": [{\"colorbar\": {\"outlinewidth\": 0, \"ticks\": \"\"}, \"colorscale\": [[0.0, \"#0d0887\"], [0.1111111111111111, \"#46039f\"], [0.2222222222222222, \"#7201a8\"], [0.3333333333333333, \"#9c179e\"], [0.4444444444444444, \"#bd3786\"], [0.5555555555555556, \"#d8576b\"], [0.6666666666666666, \"#ed7953\"], [0.7777777777777778, \"#fb9f3a\"], [0.8888888888888888, \"#fdca26\"], [1.0, \"#f0f921\"]], \"type\": \"histogram2d\"}], \"histogram2dcontour\": [{\"colorbar\": {\"outlinewidth\": 0, \"ticks\": \"\"}, \"colorscale\": [[0.0, \"#0d0887\"], [0.1111111111111111, \"#46039f\"], [0.2222222222222222, \"#7201a8\"], [0.3333333333333333, \"#9c179e\"], [0.4444444444444444, \"#bd3786\"], [0.5555555555555556, \"#d8576b\"], [0.6666666666666666, \"#ed7953\"], [0.7777777777777778, \"#fb9f3a\"], [0.8888888888888888, \"#fdca26\"], [1.0, \"#f0f921\"]], \"type\": \"histogram2dcontour\"}], \"mesh3d\": [{\"colorbar\": {\"outlinewidth\": 0, \"ticks\": \"\"}, \"type\": \"mesh3d\"}], \"parcoords\": [{\"line\": {\"colorbar\": {\"outlinewidth\": 0, \"ticks\": \"\"}}, \"type\": \"parcoords\"}], \"pie\": [{\"automargin\": true, \"type\": \"pie\"}], \"scatter\": [{\"marker\": {\"colorbar\": {\"outlinewidth\": 0, \"ticks\": \"\"}}, \"type\": \"scatter\"}], \"scatter3d\": [{\"line\": {\"colorbar\": {\"outlinewidth\": 0, \"ticks\": \"\"}}, \"marker\": {\"colorbar\": {\"outlinewidth\": 0, \"ticks\": \"\"}}, \"type\": \"scatter3d\"}], \"scattercarpet\": [{\"marker\": {\"colorbar\": {\"outlinewidth\": 0, \"ticks\": \"\"}}, \"type\": \"scattercarpet\"}], \"scattergeo\": [{\"marker\": {\"colorbar\": {\"outlinewidth\": 0, \"ticks\": \"\"}}, \"type\": \"scattergeo\"}], \"scattergl\": [{\"marker\": {\"colorbar\": {\"outlinewidth\": 0, \"ticks\": \"\"}}, \"type\": \"scattergl\"}], \"scattermapbox\": [{\"marker\": {\"colorbar\": {\"outlinewidth\": 0, \"ticks\": \"\"}}, \"type\": \"scattermapbox\"}], \"scatterpolar\": [{\"marker\": {\"colorbar\": {\"outlinewidth\": 0, \"ticks\": \"\"}}, \"type\": \"scatterpolar\"}], \"scatterpolargl\": [{\"marker\": {\"colorbar\": {\"outlinewidth\": 0, \"ticks\": \"\"}}, \"type\": \"scatterpolargl\"}], \"scatterternary\": [{\"marker\": {\"colorbar\": {\"outlinewidth\": 0, \"ticks\": \"\"}}, \"type\": \"scatterternary\"}], \"surface\": [{\"colorbar\": {\"outlinewidth\": 0, \"ticks\": \"\"}, \"colorscale\": [[0.0, \"#0d0887\"], [0.1111111111111111, \"#46039f\"], [0.2222222222222222, \"#7201a8\"], [0.3333333333333333, \"#9c179e\"], [0.4444444444444444, \"#bd3786\"], [0.5555555555555556, \"#d8576b\"], [0.6666666666666666, \"#ed7953\"], [0.7777777777777778, \"#fb9f3a\"], [0.8888888888888888, \"#fdca26\"], [1.0, \"#f0f921\"]], \"type\": \"surface\"}], \"table\": [{\"cells\": {\"fill\": {\"color\": \"#EBF0F8\"}, \"line\": {\"color\": \"white\"}}, \"header\": {\"fill\": {\"color\": \"#C8D4E3\"}, \"line\": {\"color\": \"white\"}}, \"type\": \"table\"}]}, \"layout\": {\"annotationdefaults\": {\"arrowcolor\": \"#2a3f5f\", \"arrowhead\": 0, \"arrowwidth\": 1}, \"coloraxis\": {\"colorbar\": {\"outlinewidth\": 0, \"ticks\": \"\"}}, \"colorscale\": {\"diverging\": [[0, \"#8e0152\"], [0.1, \"#c51b7d\"], [0.2, \"#de77ae\"], [0.3, \"#f1b6da\"], [0.4, \"#fde0ef\"], [0.5, \"#f7f7f7\"], [0.6, \"#e6f5d0\"], [0.7, \"#b8e186\"], [0.8, \"#7fbc41\"], [0.9, \"#4d9221\"], [1, \"#276419\"]], \"sequential\": [[0.0, \"#0d0887\"], [0.1111111111111111, \"#46039f\"], [0.2222222222222222, \"#7201a8\"], [0.3333333333333333, \"#9c179e\"], [0.4444444444444444, \"#bd3786\"], [0.5555555555555556, \"#d8576b\"], [0.6666666666666666, \"#ed7953\"], [0.7777777777777778, \"#fb9f3a\"], [0.8888888888888888, \"#fdca26\"], [1.0, \"#f0f921\"]], \"sequentialminus\": [[0.0, \"#0d0887\"], [0.1111111111111111, \"#46039f\"], [0.2222222222222222, \"#7201a8\"], [0.3333333333333333, \"#9c179e\"], [0.4444444444444444, \"#bd3786\"], [0.5555555555555556, \"#d8576b\"], [0.6666666666666666, \"#ed7953\"], [0.7777777777777778, \"#fb9f3a\"], [0.8888888888888888, \"#fdca26\"], [1.0, \"#f0f921\"]]}, \"colorway\": [\"#636efa\", \"#EF553B\", \"#00cc96\", \"#ab63fa\", \"#FFA15A\", \"#19d3f3\", \"#FF6692\", \"#B6E880\", \"#FF97FF\", \"#FECB52\"], \"font\": {\"color\": \"#2a3f5f\"}, \"geo\": {\"bgcolor\": \"white\", \"lakecolor\": \"white\", \"landcolor\": \"#E5ECF6\", \"showlakes\": true, \"showland\": true, \"subunitcolor\": \"white\"}, \"hoverlabel\": {\"align\": \"left\"}, \"hovermode\": \"closest\", \"mapbox\": {\"style\": \"light\"}, \"paper_bgcolor\": \"white\", \"plot_bgcolor\": \"#E5ECF6\", \"polar\": {\"angularaxis\": {\"gridcolor\": \"white\", \"linecolor\": \"white\", \"ticks\": \"\"}, \"bgcolor\": \"#E5ECF6\", \"radialaxis\": {\"gridcolor\": \"white\", \"linecolor\": \"white\", \"ticks\": \"\"}}, \"scene\": {\"xaxis\": {\"backgroundcolor\": \"#E5ECF6\", \"gridcolor\": \"white\", \"gridwidth\": 2, \"linecolor\": \"white\", \"showbackground\": true, \"ticks\": \"\", \"zerolinecolor\": \"white\"}, \"yaxis\": {\"backgroundcolor\": \"#E5ECF6\", \"gridcolor\": \"white\", \"gridwidth\": 2, \"linecolor\": \"white\", \"showbackground\": true, \"ticks\": \"\", \"zerolinecolor\": \"white\"}, \"zaxis\": {\"backgroundcolor\": \"#E5ECF6\", \"gridcolor\": \"white\", \"gridwidth\": 2, \"linecolor\": \"white\", \"showbackground\": true, \"ticks\": \"\", \"zerolinecolor\": \"white\"}}, \"shapedefaults\": {\"line\": {\"color\": \"#2a3f5f\"}}, \"ternary\": {\"aaxis\": {\"gridcolor\": \"white\", \"linecolor\": \"white\", \"ticks\": \"\"}, \"baxis\": {\"gridcolor\": \"white\", \"linecolor\": \"white\", \"ticks\": \"\"}, \"bgcolor\": \"#E5ECF6\", \"caxis\": {\"gridcolor\": \"white\", \"linecolor\": \"white\", \"ticks\": \"\"}}, \"title\": {\"x\": 0.05}, \"xaxis\": {\"automargin\": true, \"gridcolor\": \"white\", \"linecolor\": \"white\", \"ticks\": \"\", \"title\": {\"standoff\": 15}, \"zerolinecolor\": \"white\", \"zerolinewidth\": 2}, \"yaxis\": {\"automargin\": true, \"gridcolor\": \"white\", \"linecolor\": \"white\", \"ticks\": \"\", \"title\": {\"standoff\": 15}, \"zerolinecolor\": \"white\", \"zerolinewidth\": 2}}}, \"title\": {\"text\": \"Deaths per day\", \"x\": 0.5, \"xanchor\": \"center\"}, \"xaxis\": {\"title\": {\"text\": \"Date\"}}, \"yaxis\": {\"title\": {\"text\": \"# deaths/day\"}}},\n",
       "                        {\"responsive\": true}\n",
       "                    ).then(function(){\n",
       "                            \n",
       "var gd = document.getElementById('1319db9c-e5c6-4729-9af8-61bc975bc2f8');\n",
       "var x = new MutationObserver(function (mutations, observer) {{\n",
       "        var display = window.getComputedStyle(gd).display;\n",
       "        if (!display || display === 'none') {{\n",
       "            console.log([gd, 'removed!']);\n",
       "            Plotly.purge(gd);\n",
       "            observer.disconnect();\n",
       "        }}\n",
       "}});\n",
       "\n",
       "// Listen for the removal of the full notebook cells\n",
       "var notebookContainer = gd.closest('#notebook-container');\n",
       "if (notebookContainer) {{\n",
       "    x.observe(notebookContainer, {childList: true});\n",
       "}}\n",
       "\n",
       "// Listen for the clearing of the current output cell\n",
       "var outputEl = gd.closest('.output');\n",
       "if (outputEl) {{\n",
       "    x.observe(outputEl, {childList: true});\n",
       "}}\n",
       "\n",
       "                        })\n",
       "                };\n",
       "                });\n",
       "            </script>\n",
       "        </div>"
      ]
     },
     "metadata": {},
     "output_type": "display_data"
    },
    {
     "data": {
      "application/vnd.plotly.v1+json": {
       "config": {
        "plotlyServerURL": "https://plotly.com"
       },
       "data": [
        {
         "marker": {
          "size": 10,
          "symbol": "circle"
         },
         "mode": "markers",
         "name": "counts RIVM",
         "type": "scatter",
         "x": [
          "2020-02-28T00:00:00",
          "2020-02-29T00:00:00",
          "2020-03-01T00:00:00",
          "2020-03-02T00:00:00",
          "2020-03-03T00:00:00",
          "2020-03-04T00:00:00",
          "2020-03-05T00:00:00",
          "2020-03-06T00:00:00",
          "2020-03-07T00:00:00",
          "2020-03-08T00:00:00",
          "2020-03-09T00:00:00",
          "2020-03-10T00:00:00",
          "2020-03-11T00:00:00",
          "2020-03-12T00:00:00",
          "2020-03-13T00:00:00",
          "2020-03-14T00:00:00",
          "2020-03-15T00:00:00",
          "2020-03-16T00:00:00",
          "2020-03-17T00:00:00",
          "2020-03-18T00:00:00",
          "2020-03-19T00:00:00",
          "2020-03-20T00:00:00",
          "2020-03-21T00:00:00",
          "2020-03-22T00:00:00",
          "2020-03-23T00:00:00",
          "2020-03-24T00:00:00",
          "2020-03-25T00:00:00",
          "2020-03-26T00:00:00",
          "2020-03-27T00:00:00",
          "2020-03-28T00:00:00",
          "2020-03-29T00:00:00",
          "2020-03-30T00:00:00",
          "2020-03-31T00:00:00",
          "2020-04-01T00:00:00",
          "2020-04-02T00:00:00",
          "2020-04-03T00:00:00",
          "2020-04-04T00:00:00",
          "2020-04-05T00:00:00",
          "2020-04-06T00:00:00",
          "2020-04-07T00:00:00",
          "2020-04-08T00:00:00",
          "2020-04-09T00:00:00",
          "2020-04-10T00:00:00",
          "2020-04-11T00:00:00",
          "2020-04-12T00:00:00"
         ],
         "y": [
          0,
          0,
          0,
          0,
          0,
          0,
          0,
          1,
          2,
          4,
          5,
          6,
          8,
          11,
          17,
          27,
          41,
          64,
          86,
          106,
          149,
          204,
          265,
          325,
          410,
          484,
          591,
          713,
          818,
          964,
          1079,
          1226,
          1384,
          1536,
          1694,
          1844,
          1993,
          2135,
          2279,
          2412,
          2533,
          2618,
          2703,
          2727,
          2727
         ]
        },
        {
         "mode": "lines",
         "name": "K=3262.51,beta=0.19, t_0=34.71",
         "type": "scatter",
         "x": [
          "2020-02-28T00:00:00",
          "2020-02-29T00:00:00",
          "2020-03-01T00:00:00",
          "2020-03-02T00:00:00",
          "2020-03-03T00:00:00",
          "2020-03-04T00:00:00",
          "2020-03-05T00:00:00",
          "2020-03-06T00:00:00",
          "2020-03-07T00:00:00",
          "2020-03-08T00:00:00",
          "2020-03-09T00:00:00",
          "2020-03-10T00:00:00",
          "2020-03-11T00:00:00",
          "2020-03-12T00:00:00",
          "2020-03-13T00:00:00",
          "2020-03-14T00:00:00",
          "2020-03-15T00:00:00",
          "2020-03-16T00:00:00",
          "2020-03-17T00:00:00",
          "2020-03-18T00:00:00",
          "2020-03-19T00:00:00",
          "2020-03-20T00:00:00",
          "2020-03-21T00:00:00",
          "2020-03-22T00:00:00",
          "2020-03-23T00:00:00",
          "2020-03-24T00:00:00",
          "2020-03-25T00:00:00",
          "2020-03-26T00:00:00",
          "2020-03-27T00:00:00",
          "2020-03-28T00:00:00",
          "2020-03-29T00:00:00",
          "2020-03-30T00:00:00",
          "2020-03-31T00:00:00",
          "2020-04-01T00:00:00",
          "2020-04-02T00:00:00",
          "2020-04-03T00:00:00",
          "2020-04-04T00:00:00",
          "2020-04-05T00:00:00",
          "2020-04-06T00:00:00",
          "2020-04-07T00:00:00",
          "2020-04-08T00:00:00",
          "2020-04-09T00:00:00",
          "2020-04-10T00:00:00",
          "2020-04-11T00:00:00",
          "2020-04-12T00:00:00",
          "2020-04-13T00:00:00",
          "2020-04-14T00:00:00",
          "2020-04-15T00:00:00",
          "2020-04-16T00:00:00",
          "2020-04-17T00:00:00",
          "2020-04-18T00:00:00",
          "2020-04-19T00:00:00"
         ],
         "y": [
          4.688147348621355,
          5.690861250301699,
          6.907583641846599,
          8.383775100691247,
          10.174451486012297,
          12.34614433819042,
          14.9792407609477,
          18.17076538216204,
          22.0376719314985,
          26.720714268881686,
          32.388964259825364,
          39.245033641186794,
          47.53103453496142,
          57.53527239325623,
          69.59959760595756,
          84.1272370716807,
          101.59077167446512,
          122.53970524906778,
          147.60677137300803,
          177.51173754853377,
          213.0609966682214,
          255.1407136462452,
          304.7007947067712,
          362.72660572235844,
          430.19540197404615,
          508.015141270477,
          596.945069538615,
          697.5004579238739,
          809.8481447856045,
          933.704618205448,
          1068.2531155279598,
          1212.0988354332083,
          1363.2798896677584,
          1519.3447909350314,
          1677.4954997086593,
          1834.7809654114328,
          1988.313973425634,
          2135.4781955914186,
          2274.0948506314826,
          2402.5283636903546,
          2519.7242500944535,
          2625.1856245756308,
          2718.90379856327,
          2801.2620473118086,
          2872.9304862524955,
          2934.7658950528185,
          2987.7252070920063,
          3032.796678078275,
          3070.949202496318,
          3103.09802294041,
          3130.08398880059,
          3152.6632444452603
         ]
        },
        {
         "marker": {
          "size": 10,
          "symbol": "square"
         },
         "mode": "markers",
         "name": "prediction",
         "type": "scatter",
         "x": [
          "2020-04-13T00:00:00",
          "2020-04-14T00:00:00",
          "2020-04-15T00:00:00",
          "2020-04-16T00:00:00",
          "2020-04-17T00:00:00",
          "2020-04-18T00:00:00",
          "2020-04-19T00:00:00"
         ],
         "y": [
          2987.7252070920063,
          3032.796678078275,
          3070.949202496318,
          3103.09802294041,
          3130.08398880059,
          3152.6632444452603
         ]
        }
       ],
       "layout": {
        "font": {
         "size": 12
        },
        "legend": {
         "x": 0.05,
         "y": 0.95
        },
        "template": {
         "data": {
          "bar": [
           {
            "error_x": {
             "color": "#2a3f5f"
            },
            "error_y": {
             "color": "#2a3f5f"
            },
            "marker": {
             "line": {
              "color": "#E5ECF6",
              "width": 0.5
             }
            },
            "type": "bar"
           }
          ],
          "barpolar": [
           {
            "marker": {
             "line": {
              "color": "#E5ECF6",
              "width": 0.5
             }
            },
            "type": "barpolar"
           }
          ],
          "carpet": [
           {
            "aaxis": {
             "endlinecolor": "#2a3f5f",
             "gridcolor": "white",
             "linecolor": "white",
             "minorgridcolor": "white",
             "startlinecolor": "#2a3f5f"
            },
            "baxis": {
             "endlinecolor": "#2a3f5f",
             "gridcolor": "white",
             "linecolor": "white",
             "minorgridcolor": "white",
             "startlinecolor": "#2a3f5f"
            },
            "type": "carpet"
           }
          ],
          "choropleth": [
           {
            "colorbar": {
             "outlinewidth": 0,
             "ticks": ""
            },
            "type": "choropleth"
           }
          ],
          "contour": [
           {
            "colorbar": {
             "outlinewidth": 0,
             "ticks": ""
            },
            "colorscale": [
             [
              0,
              "#0d0887"
             ],
             [
              0.1111111111111111,
              "#46039f"
             ],
             [
              0.2222222222222222,
              "#7201a8"
             ],
             [
              0.3333333333333333,
              "#9c179e"
             ],
             [
              0.4444444444444444,
              "#bd3786"
             ],
             [
              0.5555555555555556,
              "#d8576b"
             ],
             [
              0.6666666666666666,
              "#ed7953"
             ],
             [
              0.7777777777777778,
              "#fb9f3a"
             ],
             [
              0.8888888888888888,
              "#fdca26"
             ],
             [
              1,
              "#f0f921"
             ]
            ],
            "type": "contour"
           }
          ],
          "contourcarpet": [
           {
            "colorbar": {
             "outlinewidth": 0,
             "ticks": ""
            },
            "type": "contourcarpet"
           }
          ],
          "heatmap": [
           {
            "colorbar": {
             "outlinewidth": 0,
             "ticks": ""
            },
            "colorscale": [
             [
              0,
              "#0d0887"
             ],
             [
              0.1111111111111111,
              "#46039f"
             ],
             [
              0.2222222222222222,
              "#7201a8"
             ],
             [
              0.3333333333333333,
              "#9c179e"
             ],
             [
              0.4444444444444444,
              "#bd3786"
             ],
             [
              0.5555555555555556,
              "#d8576b"
             ],
             [
              0.6666666666666666,
              "#ed7953"
             ],
             [
              0.7777777777777778,
              "#fb9f3a"
             ],
             [
              0.8888888888888888,
              "#fdca26"
             ],
             [
              1,
              "#f0f921"
             ]
            ],
            "type": "heatmap"
           }
          ],
          "heatmapgl": [
           {
            "colorbar": {
             "outlinewidth": 0,
             "ticks": ""
            },
            "colorscale": [
             [
              0,
              "#0d0887"
             ],
             [
              0.1111111111111111,
              "#46039f"
             ],
             [
              0.2222222222222222,
              "#7201a8"
             ],
             [
              0.3333333333333333,
              "#9c179e"
             ],
             [
              0.4444444444444444,
              "#bd3786"
             ],
             [
              0.5555555555555556,
              "#d8576b"
             ],
             [
              0.6666666666666666,
              "#ed7953"
             ],
             [
              0.7777777777777778,
              "#fb9f3a"
             ],
             [
              0.8888888888888888,
              "#fdca26"
             ],
             [
              1,
              "#f0f921"
             ]
            ],
            "type": "heatmapgl"
           }
          ],
          "histogram": [
           {
            "marker": {
             "colorbar": {
              "outlinewidth": 0,
              "ticks": ""
             }
            },
            "type": "histogram"
           }
          ],
          "histogram2d": [
           {
            "colorbar": {
             "outlinewidth": 0,
             "ticks": ""
            },
            "colorscale": [
             [
              0,
              "#0d0887"
             ],
             [
              0.1111111111111111,
              "#46039f"
             ],
             [
              0.2222222222222222,
              "#7201a8"
             ],
             [
              0.3333333333333333,
              "#9c179e"
             ],
             [
              0.4444444444444444,
              "#bd3786"
             ],
             [
              0.5555555555555556,
              "#d8576b"
             ],
             [
              0.6666666666666666,
              "#ed7953"
             ],
             [
              0.7777777777777778,
              "#fb9f3a"
             ],
             [
              0.8888888888888888,
              "#fdca26"
             ],
             [
              1,
              "#f0f921"
             ]
            ],
            "type": "histogram2d"
           }
          ],
          "histogram2dcontour": [
           {
            "colorbar": {
             "outlinewidth": 0,
             "ticks": ""
            },
            "colorscale": [
             [
              0,
              "#0d0887"
             ],
             [
              0.1111111111111111,
              "#46039f"
             ],
             [
              0.2222222222222222,
              "#7201a8"
             ],
             [
              0.3333333333333333,
              "#9c179e"
             ],
             [
              0.4444444444444444,
              "#bd3786"
             ],
             [
              0.5555555555555556,
              "#d8576b"
             ],
             [
              0.6666666666666666,
              "#ed7953"
             ],
             [
              0.7777777777777778,
              "#fb9f3a"
             ],
             [
              0.8888888888888888,
              "#fdca26"
             ],
             [
              1,
              "#f0f921"
             ]
            ],
            "type": "histogram2dcontour"
           }
          ],
          "mesh3d": [
           {
            "colorbar": {
             "outlinewidth": 0,
             "ticks": ""
            },
            "type": "mesh3d"
           }
          ],
          "parcoords": [
           {
            "line": {
             "colorbar": {
              "outlinewidth": 0,
              "ticks": ""
             }
            },
            "type": "parcoords"
           }
          ],
          "pie": [
           {
            "automargin": true,
            "type": "pie"
           }
          ],
          "scatter": [
           {
            "marker": {
             "colorbar": {
              "outlinewidth": 0,
              "ticks": ""
             }
            },
            "type": "scatter"
           }
          ],
          "scatter3d": [
           {
            "line": {
             "colorbar": {
              "outlinewidth": 0,
              "ticks": ""
             }
            },
            "marker": {
             "colorbar": {
              "outlinewidth": 0,
              "ticks": ""
             }
            },
            "type": "scatter3d"
           }
          ],
          "scattercarpet": [
           {
            "marker": {
             "colorbar": {
              "outlinewidth": 0,
              "ticks": ""
             }
            },
            "type": "scattercarpet"
           }
          ],
          "scattergeo": [
           {
            "marker": {
             "colorbar": {
              "outlinewidth": 0,
              "ticks": ""
             }
            },
            "type": "scattergeo"
           }
          ],
          "scattergl": [
           {
            "marker": {
             "colorbar": {
              "outlinewidth": 0,
              "ticks": ""
             }
            },
            "type": "scattergl"
           }
          ],
          "scattermapbox": [
           {
            "marker": {
             "colorbar": {
              "outlinewidth": 0,
              "ticks": ""
             }
            },
            "type": "scattermapbox"
           }
          ],
          "scatterpolar": [
           {
            "marker": {
             "colorbar": {
              "outlinewidth": 0,
              "ticks": ""
             }
            },
            "type": "scatterpolar"
           }
          ],
          "scatterpolargl": [
           {
            "marker": {
             "colorbar": {
              "outlinewidth": 0,
              "ticks": ""
             }
            },
            "type": "scatterpolargl"
           }
          ],
          "scatterternary": [
           {
            "marker": {
             "colorbar": {
              "outlinewidth": 0,
              "ticks": ""
             }
            },
            "type": "scatterternary"
           }
          ],
          "surface": [
           {
            "colorbar": {
             "outlinewidth": 0,
             "ticks": ""
            },
            "colorscale": [
             [
              0,
              "#0d0887"
             ],
             [
              0.1111111111111111,
              "#46039f"
             ],
             [
              0.2222222222222222,
              "#7201a8"
             ],
             [
              0.3333333333333333,
              "#9c179e"
             ],
             [
              0.4444444444444444,
              "#bd3786"
             ],
             [
              0.5555555555555556,
              "#d8576b"
             ],
             [
              0.6666666666666666,
              "#ed7953"
             ],
             [
              0.7777777777777778,
              "#fb9f3a"
             ],
             [
              0.8888888888888888,
              "#fdca26"
             ],
             [
              1,
              "#f0f921"
             ]
            ],
            "type": "surface"
           }
          ],
          "table": [
           {
            "cells": {
             "fill": {
              "color": "#EBF0F8"
             },
             "line": {
              "color": "white"
             }
            },
            "header": {
             "fill": {
              "color": "#C8D4E3"
             },
             "line": {
              "color": "white"
             }
            },
            "type": "table"
           }
          ]
         },
         "layout": {
          "annotationdefaults": {
           "arrowcolor": "#2a3f5f",
           "arrowhead": 0,
           "arrowwidth": 1
          },
          "coloraxis": {
           "colorbar": {
            "outlinewidth": 0,
            "ticks": ""
           }
          },
          "colorscale": {
           "diverging": [
            [
             0,
             "#8e0152"
            ],
            [
             0.1,
             "#c51b7d"
            ],
            [
             0.2,
             "#de77ae"
            ],
            [
             0.3,
             "#f1b6da"
            ],
            [
             0.4,
             "#fde0ef"
            ],
            [
             0.5,
             "#f7f7f7"
            ],
            [
             0.6,
             "#e6f5d0"
            ],
            [
             0.7,
             "#b8e186"
            ],
            [
             0.8,
             "#7fbc41"
            ],
            [
             0.9,
             "#4d9221"
            ],
            [
             1,
             "#276419"
            ]
           ],
           "sequential": [
            [
             0,
             "#0d0887"
            ],
            [
             0.1111111111111111,
             "#46039f"
            ],
            [
             0.2222222222222222,
             "#7201a8"
            ],
            [
             0.3333333333333333,
             "#9c179e"
            ],
            [
             0.4444444444444444,
             "#bd3786"
            ],
            [
             0.5555555555555556,
             "#d8576b"
            ],
            [
             0.6666666666666666,
             "#ed7953"
            ],
            [
             0.7777777777777778,
             "#fb9f3a"
            ],
            [
             0.8888888888888888,
             "#fdca26"
            ],
            [
             1,
             "#f0f921"
            ]
           ],
           "sequentialminus": [
            [
             0,
             "#0d0887"
            ],
            [
             0.1111111111111111,
             "#46039f"
            ],
            [
             0.2222222222222222,
             "#7201a8"
            ],
            [
             0.3333333333333333,
             "#9c179e"
            ],
            [
             0.4444444444444444,
             "#bd3786"
            ],
            [
             0.5555555555555556,
             "#d8576b"
            ],
            [
             0.6666666666666666,
             "#ed7953"
            ],
            [
             0.7777777777777778,
             "#fb9f3a"
            ],
            [
             0.8888888888888888,
             "#fdca26"
            ],
            [
             1,
             "#f0f921"
            ]
           ]
          },
          "colorway": [
           "#636efa",
           "#EF553B",
           "#00cc96",
           "#ab63fa",
           "#FFA15A",
           "#19d3f3",
           "#FF6692",
           "#B6E880",
           "#FF97FF",
           "#FECB52"
          ],
          "font": {
           "color": "#2a3f5f"
          },
          "geo": {
           "bgcolor": "white",
           "lakecolor": "white",
           "landcolor": "#E5ECF6",
           "showlakes": true,
           "showland": true,
           "subunitcolor": "white"
          },
          "hoverlabel": {
           "align": "left"
          },
          "hovermode": "closest",
          "mapbox": {
           "style": "light"
          },
          "paper_bgcolor": "white",
          "plot_bgcolor": "#E5ECF6",
          "polar": {
           "angularaxis": {
            "gridcolor": "white",
            "linecolor": "white",
            "ticks": ""
           },
           "bgcolor": "#E5ECF6",
           "radialaxis": {
            "gridcolor": "white",
            "linecolor": "white",
            "ticks": ""
           }
          },
          "scene": {
           "xaxis": {
            "backgroundcolor": "#E5ECF6",
            "gridcolor": "white",
            "gridwidth": 2,
            "linecolor": "white",
            "showbackground": true,
            "ticks": "",
            "zerolinecolor": "white"
           },
           "yaxis": {
            "backgroundcolor": "#E5ECF6",
            "gridcolor": "white",
            "gridwidth": 2,
            "linecolor": "white",
            "showbackground": true,
            "ticks": "",
            "zerolinecolor": "white"
           },
           "zaxis": {
            "backgroundcolor": "#E5ECF6",
            "gridcolor": "white",
            "gridwidth": 2,
            "linecolor": "white",
            "showbackground": true,
            "ticks": "",
            "zerolinecolor": "white"
           }
          },
          "shapedefaults": {
           "line": {
            "color": "#2a3f5f"
           }
          },
          "ternary": {
           "aaxis": {
            "gridcolor": "white",
            "linecolor": "white",
            "ticks": ""
           },
           "baxis": {
            "gridcolor": "white",
            "linecolor": "white",
            "ticks": ""
           },
           "bgcolor": "#E5ECF6",
           "caxis": {
            "gridcolor": "white",
            "linecolor": "white",
            "ticks": ""
           }
          },
          "title": {
           "x": 0.05
          },
          "xaxis": {
           "automargin": true,
           "gridcolor": "white",
           "linecolor": "white",
           "ticks": "",
           "title": {
            "standoff": 15
           },
           "zerolinecolor": "white",
           "zerolinewidth": 2
          },
          "yaxis": {
           "automargin": true,
           "gridcolor": "white",
           "linecolor": "white",
           "ticks": "",
           "title": {
            "standoff": 15
           },
           "zerolinecolor": "white",
           "zerolinewidth": 2
          }
         }
        },
        "title": {
         "text": "Cummulative deaths",
         "x": 0.5,
         "xanchor": "center"
        },
        "xaxis": {
         "title": {
          "text": "Date"
         }
        },
        "yaxis": {
         "title": {
          "text": "# deaths"
         }
        }
       }
      },
      "text/html": [
       "<div>\n",
       "        \n",
       "        \n",
       "            <div id=\"5105482e-4e4e-43cb-9aab-3c429e659b93\" class=\"plotly-graph-div\" style=\"height:525px; width:100%;\"></div>\n",
       "            <script type=\"text/javascript\">\n",
       "                require([\"plotly\"], function(Plotly) {\n",
       "                    window.PLOTLYENV=window.PLOTLYENV || {};\n",
       "                    \n",
       "                if (document.getElementById(\"5105482e-4e4e-43cb-9aab-3c429e659b93\")) {\n",
       "                    Plotly.newPlot(\n",
       "                        '5105482e-4e4e-43cb-9aab-3c429e659b93',\n",
       "                        [{\"marker\": {\"size\": 10, \"symbol\": \"circle\"}, \"mode\": \"markers\", \"name\": \"counts RIVM\", \"type\": \"scatter\", \"x\": [\"2020-02-28T00:00:00\", \"2020-02-29T00:00:00\", \"2020-03-01T00:00:00\", \"2020-03-02T00:00:00\", \"2020-03-03T00:00:00\", \"2020-03-04T00:00:00\", \"2020-03-05T00:00:00\", \"2020-03-06T00:00:00\", \"2020-03-07T00:00:00\", \"2020-03-08T00:00:00\", \"2020-03-09T00:00:00\", \"2020-03-10T00:00:00\", \"2020-03-11T00:00:00\", \"2020-03-12T00:00:00\", \"2020-03-13T00:00:00\", \"2020-03-14T00:00:00\", \"2020-03-15T00:00:00\", \"2020-03-16T00:00:00\", \"2020-03-17T00:00:00\", \"2020-03-18T00:00:00\", \"2020-03-19T00:00:00\", \"2020-03-20T00:00:00\", \"2020-03-21T00:00:00\", \"2020-03-22T00:00:00\", \"2020-03-23T00:00:00\", \"2020-03-24T00:00:00\", \"2020-03-25T00:00:00\", \"2020-03-26T00:00:00\", \"2020-03-27T00:00:00\", \"2020-03-28T00:00:00\", \"2020-03-29T00:00:00\", \"2020-03-30T00:00:00\", \"2020-03-31T00:00:00\", \"2020-04-01T00:00:00\", \"2020-04-02T00:00:00\", \"2020-04-03T00:00:00\", \"2020-04-04T00:00:00\", \"2020-04-05T00:00:00\", \"2020-04-06T00:00:00\", \"2020-04-07T00:00:00\", \"2020-04-08T00:00:00\", \"2020-04-09T00:00:00\", \"2020-04-10T00:00:00\", \"2020-04-11T00:00:00\", \"2020-04-12T00:00:00\"], \"y\": [0, 0, 0, 0, 0, 0, 0, 1, 2, 4, 5, 6, 8, 11, 17, 27, 41, 64, 86, 106, 149, 204, 265, 325, 410, 484, 591, 713, 818, 964, 1079, 1226, 1384, 1536, 1694, 1844, 1993, 2135, 2279, 2412, 2533, 2618, 2703, 2727, 2727]}, {\"mode\": \"lines\", \"name\": \"K=3262.51,beta=0.19, t_0=34.71\", \"type\": \"scatter\", \"x\": [\"2020-02-28T00:00:00\", \"2020-02-29T00:00:00\", \"2020-03-01T00:00:00\", \"2020-03-02T00:00:00\", \"2020-03-03T00:00:00\", \"2020-03-04T00:00:00\", \"2020-03-05T00:00:00\", \"2020-03-06T00:00:00\", \"2020-03-07T00:00:00\", \"2020-03-08T00:00:00\", \"2020-03-09T00:00:00\", \"2020-03-10T00:00:00\", \"2020-03-11T00:00:00\", \"2020-03-12T00:00:00\", \"2020-03-13T00:00:00\", \"2020-03-14T00:00:00\", \"2020-03-15T00:00:00\", \"2020-03-16T00:00:00\", \"2020-03-17T00:00:00\", \"2020-03-18T00:00:00\", \"2020-03-19T00:00:00\", \"2020-03-20T00:00:00\", \"2020-03-21T00:00:00\", \"2020-03-22T00:00:00\", \"2020-03-23T00:00:00\", \"2020-03-24T00:00:00\", \"2020-03-25T00:00:00\", \"2020-03-26T00:00:00\", \"2020-03-27T00:00:00\", \"2020-03-28T00:00:00\", \"2020-03-29T00:00:00\", \"2020-03-30T00:00:00\", \"2020-03-31T00:00:00\", \"2020-04-01T00:00:00\", \"2020-04-02T00:00:00\", \"2020-04-03T00:00:00\", \"2020-04-04T00:00:00\", \"2020-04-05T00:00:00\", \"2020-04-06T00:00:00\", \"2020-04-07T00:00:00\", \"2020-04-08T00:00:00\", \"2020-04-09T00:00:00\", \"2020-04-10T00:00:00\", \"2020-04-11T00:00:00\", \"2020-04-12T00:00:00\", \"2020-04-13T00:00:00\", \"2020-04-14T00:00:00\", \"2020-04-15T00:00:00\", \"2020-04-16T00:00:00\", \"2020-04-17T00:00:00\", \"2020-04-18T00:00:00\", \"2020-04-19T00:00:00\"], \"y\": [4.688147348621355, 5.690861250301699, 6.907583641846599, 8.383775100691247, 10.174451486012297, 12.34614433819042, 14.9792407609477, 18.17076538216204, 22.0376719314985, 26.720714268881686, 32.388964259825364, 39.245033641186794, 47.53103453496142, 57.53527239325623, 69.59959760595756, 84.1272370716807, 101.59077167446512, 122.53970524906778, 147.60677137300803, 177.51173754853377, 213.0609966682214, 255.1407136462452, 304.7007947067712, 362.72660572235844, 430.19540197404615, 508.015141270477, 596.945069538615, 697.5004579238739, 809.8481447856045, 933.704618205448, 1068.2531155279598, 1212.0988354332083, 1363.2798896677584, 1519.3447909350314, 1677.4954997086593, 1834.7809654114328, 1988.313973425634, 2135.4781955914186, 2274.0948506314826, 2402.5283636903546, 2519.7242500944535, 2625.1856245756308, 2718.90379856327, 2801.2620473118086, 2872.9304862524955, 2934.7658950528185, 2987.7252070920063, 3032.796678078275, 3070.949202496318, 3103.09802294041, 3130.08398880059, 3152.6632444452603]}, {\"marker\": {\"size\": 10, \"symbol\": \"square\"}, \"mode\": \"markers\", \"name\": \"prediction\", \"type\": \"scatter\", \"x\": [\"2020-04-13T00:00:00\", \"2020-04-14T00:00:00\", \"2020-04-15T00:00:00\", \"2020-04-16T00:00:00\", \"2020-04-17T00:00:00\", \"2020-04-18T00:00:00\", \"2020-04-19T00:00:00\"], \"y\": [2987.7252070920063, 3032.796678078275, 3070.949202496318, 3103.09802294041, 3130.08398880059, 3152.6632444452603]}],\n",
       "                        {\"font\": {\"size\": 12}, \"legend\": {\"x\": 0.05, \"y\": 0.95}, \"template\": {\"data\": {\"bar\": [{\"error_x\": {\"color\": \"#2a3f5f\"}, \"error_y\": {\"color\": \"#2a3f5f\"}, \"marker\": {\"line\": {\"color\": \"#E5ECF6\", \"width\": 0.5}}, \"type\": \"bar\"}], \"barpolar\": [{\"marker\": {\"line\": {\"color\": \"#E5ECF6\", \"width\": 0.5}}, \"type\": \"barpolar\"}], \"carpet\": [{\"aaxis\": {\"endlinecolor\": \"#2a3f5f\", \"gridcolor\": \"white\", \"linecolor\": \"white\", \"minorgridcolor\": \"white\", \"startlinecolor\": \"#2a3f5f\"}, \"baxis\": {\"endlinecolor\": \"#2a3f5f\", \"gridcolor\": \"white\", \"linecolor\": \"white\", \"minorgridcolor\": \"white\", \"startlinecolor\": \"#2a3f5f\"}, \"type\": \"carpet\"}], \"choropleth\": [{\"colorbar\": {\"outlinewidth\": 0, \"ticks\": \"\"}, \"type\": \"choropleth\"}], \"contour\": [{\"colorbar\": {\"outlinewidth\": 0, \"ticks\": \"\"}, \"colorscale\": [[0.0, \"#0d0887\"], [0.1111111111111111, \"#46039f\"], [0.2222222222222222, \"#7201a8\"], [0.3333333333333333, \"#9c179e\"], [0.4444444444444444, \"#bd3786\"], [0.5555555555555556, \"#d8576b\"], [0.6666666666666666, \"#ed7953\"], [0.7777777777777778, \"#fb9f3a\"], [0.8888888888888888, \"#fdca26\"], [1.0, \"#f0f921\"]], \"type\": \"contour\"}], \"contourcarpet\": [{\"colorbar\": {\"outlinewidth\": 0, \"ticks\": \"\"}, \"type\": \"contourcarpet\"}], \"heatmap\": [{\"colorbar\": {\"outlinewidth\": 0, \"ticks\": \"\"}, \"colorscale\": [[0.0, \"#0d0887\"], [0.1111111111111111, \"#46039f\"], [0.2222222222222222, \"#7201a8\"], [0.3333333333333333, \"#9c179e\"], [0.4444444444444444, \"#bd3786\"], [0.5555555555555556, \"#d8576b\"], [0.6666666666666666, \"#ed7953\"], [0.7777777777777778, \"#fb9f3a\"], [0.8888888888888888, \"#fdca26\"], [1.0, \"#f0f921\"]], \"type\": \"heatmap\"}], \"heatmapgl\": [{\"colorbar\": {\"outlinewidth\": 0, \"ticks\": \"\"}, \"colorscale\": [[0.0, \"#0d0887\"], [0.1111111111111111, \"#46039f\"], [0.2222222222222222, \"#7201a8\"], [0.3333333333333333, \"#9c179e\"], [0.4444444444444444, \"#bd3786\"], [0.5555555555555556, \"#d8576b\"], [0.6666666666666666, \"#ed7953\"], [0.7777777777777778, \"#fb9f3a\"], [0.8888888888888888, \"#fdca26\"], [1.0, \"#f0f921\"]], \"type\": \"heatmapgl\"}], \"histogram\": [{\"marker\": {\"colorbar\": {\"outlinewidth\": 0, \"ticks\": \"\"}}, \"type\": \"histogram\"}], \"histogram2d\": [{\"colorbar\": {\"outlinewidth\": 0, \"ticks\": \"\"}, \"colorscale\": [[0.0, \"#0d0887\"], [0.1111111111111111, \"#46039f\"], [0.2222222222222222, \"#7201a8\"], [0.3333333333333333, \"#9c179e\"], [0.4444444444444444, \"#bd3786\"], [0.5555555555555556, \"#d8576b\"], [0.6666666666666666, \"#ed7953\"], [0.7777777777777778, \"#fb9f3a\"], [0.8888888888888888, \"#fdca26\"], [1.0, \"#f0f921\"]], \"type\": \"histogram2d\"}], \"histogram2dcontour\": [{\"colorbar\": {\"outlinewidth\": 0, \"ticks\": \"\"}, \"colorscale\": [[0.0, \"#0d0887\"], [0.1111111111111111, \"#46039f\"], [0.2222222222222222, \"#7201a8\"], [0.3333333333333333, \"#9c179e\"], [0.4444444444444444, \"#bd3786\"], [0.5555555555555556, \"#d8576b\"], [0.6666666666666666, \"#ed7953\"], [0.7777777777777778, \"#fb9f3a\"], [0.8888888888888888, \"#fdca26\"], [1.0, \"#f0f921\"]], \"type\": \"histogram2dcontour\"}], \"mesh3d\": [{\"colorbar\": {\"outlinewidth\": 0, \"ticks\": \"\"}, \"type\": \"mesh3d\"}], \"parcoords\": [{\"line\": {\"colorbar\": {\"outlinewidth\": 0, \"ticks\": \"\"}}, \"type\": \"parcoords\"}], \"pie\": [{\"automargin\": true, \"type\": \"pie\"}], \"scatter\": [{\"marker\": {\"colorbar\": {\"outlinewidth\": 0, \"ticks\": \"\"}}, \"type\": \"scatter\"}], \"scatter3d\": [{\"line\": {\"colorbar\": {\"outlinewidth\": 0, \"ticks\": \"\"}}, \"marker\": {\"colorbar\": {\"outlinewidth\": 0, \"ticks\": \"\"}}, \"type\": \"scatter3d\"}], \"scattercarpet\": [{\"marker\": {\"colorbar\": {\"outlinewidth\": 0, \"ticks\": \"\"}}, \"type\": \"scattercarpet\"}], \"scattergeo\": [{\"marker\": {\"colorbar\": {\"outlinewidth\": 0, \"ticks\": \"\"}}, \"type\": \"scattergeo\"}], \"scattergl\": [{\"marker\": {\"colorbar\": {\"outlinewidth\": 0, \"ticks\": \"\"}}, \"type\": \"scattergl\"}], \"scattermapbox\": [{\"marker\": {\"colorbar\": {\"outlinewidth\": 0, \"ticks\": \"\"}}, \"type\": \"scattermapbox\"}], \"scatterpolar\": [{\"marker\": {\"colorbar\": {\"outlinewidth\": 0, \"ticks\": \"\"}}, \"type\": \"scatterpolar\"}], \"scatterpolargl\": [{\"marker\": {\"colorbar\": {\"outlinewidth\": 0, \"ticks\": \"\"}}, \"type\": \"scatterpolargl\"}], \"scatterternary\": [{\"marker\": {\"colorbar\": {\"outlinewidth\": 0, \"ticks\": \"\"}}, \"type\": \"scatterternary\"}], \"surface\": [{\"colorbar\": {\"outlinewidth\": 0, \"ticks\": \"\"}, \"colorscale\": [[0.0, \"#0d0887\"], [0.1111111111111111, \"#46039f\"], [0.2222222222222222, \"#7201a8\"], [0.3333333333333333, \"#9c179e\"], [0.4444444444444444, \"#bd3786\"], [0.5555555555555556, \"#d8576b\"], [0.6666666666666666, \"#ed7953\"], [0.7777777777777778, \"#fb9f3a\"], [0.8888888888888888, \"#fdca26\"], [1.0, \"#f0f921\"]], \"type\": \"surface\"}], \"table\": [{\"cells\": {\"fill\": {\"color\": \"#EBF0F8\"}, \"line\": {\"color\": \"white\"}}, \"header\": {\"fill\": {\"color\": \"#C8D4E3\"}, \"line\": {\"color\": \"white\"}}, \"type\": \"table\"}]}, \"layout\": {\"annotationdefaults\": {\"arrowcolor\": \"#2a3f5f\", \"arrowhead\": 0, \"arrowwidth\": 1}, \"coloraxis\": {\"colorbar\": {\"outlinewidth\": 0, \"ticks\": \"\"}}, \"colorscale\": {\"diverging\": [[0, \"#8e0152\"], [0.1, \"#c51b7d\"], [0.2, \"#de77ae\"], [0.3, \"#f1b6da\"], [0.4, \"#fde0ef\"], [0.5, \"#f7f7f7\"], [0.6, \"#e6f5d0\"], [0.7, \"#b8e186\"], [0.8, \"#7fbc41\"], [0.9, \"#4d9221\"], [1, \"#276419\"]], \"sequential\": [[0.0, \"#0d0887\"], [0.1111111111111111, \"#46039f\"], [0.2222222222222222, \"#7201a8\"], [0.3333333333333333, \"#9c179e\"], [0.4444444444444444, \"#bd3786\"], [0.5555555555555556, \"#d8576b\"], [0.6666666666666666, \"#ed7953\"], [0.7777777777777778, \"#fb9f3a\"], [0.8888888888888888, \"#fdca26\"], [1.0, \"#f0f921\"]], \"sequentialminus\": [[0.0, \"#0d0887\"], [0.1111111111111111, \"#46039f\"], [0.2222222222222222, \"#7201a8\"], [0.3333333333333333, \"#9c179e\"], [0.4444444444444444, \"#bd3786\"], [0.5555555555555556, \"#d8576b\"], [0.6666666666666666, \"#ed7953\"], [0.7777777777777778, \"#fb9f3a\"], [0.8888888888888888, \"#fdca26\"], [1.0, \"#f0f921\"]]}, \"colorway\": [\"#636efa\", \"#EF553B\", \"#00cc96\", \"#ab63fa\", \"#FFA15A\", \"#19d3f3\", \"#FF6692\", \"#B6E880\", \"#FF97FF\", \"#FECB52\"], \"font\": {\"color\": \"#2a3f5f\"}, \"geo\": {\"bgcolor\": \"white\", \"lakecolor\": \"white\", \"landcolor\": \"#E5ECF6\", \"showlakes\": true, \"showland\": true, \"subunitcolor\": \"white\"}, \"hoverlabel\": {\"align\": \"left\"}, \"hovermode\": \"closest\", \"mapbox\": {\"style\": \"light\"}, \"paper_bgcolor\": \"white\", \"plot_bgcolor\": \"#E5ECF6\", \"polar\": {\"angularaxis\": {\"gridcolor\": \"white\", \"linecolor\": \"white\", \"ticks\": \"\"}, \"bgcolor\": \"#E5ECF6\", \"radialaxis\": {\"gridcolor\": \"white\", \"linecolor\": \"white\", \"ticks\": \"\"}}, \"scene\": {\"xaxis\": {\"backgroundcolor\": \"#E5ECF6\", \"gridcolor\": \"white\", \"gridwidth\": 2, \"linecolor\": \"white\", \"showbackground\": true, \"ticks\": \"\", \"zerolinecolor\": \"white\"}, \"yaxis\": {\"backgroundcolor\": \"#E5ECF6\", \"gridcolor\": \"white\", \"gridwidth\": 2, \"linecolor\": \"white\", \"showbackground\": true, \"ticks\": \"\", \"zerolinecolor\": \"white\"}, \"zaxis\": {\"backgroundcolor\": \"#E5ECF6\", \"gridcolor\": \"white\", \"gridwidth\": 2, \"linecolor\": \"white\", \"showbackground\": true, \"ticks\": \"\", \"zerolinecolor\": \"white\"}}, \"shapedefaults\": {\"line\": {\"color\": \"#2a3f5f\"}}, \"ternary\": {\"aaxis\": {\"gridcolor\": \"white\", \"linecolor\": \"white\", \"ticks\": \"\"}, \"baxis\": {\"gridcolor\": \"white\", \"linecolor\": \"white\", \"ticks\": \"\"}, \"bgcolor\": \"#E5ECF6\", \"caxis\": {\"gridcolor\": \"white\", \"linecolor\": \"white\", \"ticks\": \"\"}}, \"title\": {\"x\": 0.05}, \"xaxis\": {\"automargin\": true, \"gridcolor\": \"white\", \"linecolor\": \"white\", \"ticks\": \"\", \"title\": {\"standoff\": 15}, \"zerolinecolor\": \"white\", \"zerolinewidth\": 2}, \"yaxis\": {\"automargin\": true, \"gridcolor\": \"white\", \"linecolor\": \"white\", \"ticks\": \"\", \"title\": {\"standoff\": 15}, \"zerolinecolor\": \"white\", \"zerolinewidth\": 2}}}, \"title\": {\"text\": \"Cummulative deaths\", \"x\": 0.5, \"xanchor\": \"center\"}, \"xaxis\": {\"title\": {\"text\": \"Date\"}}, \"yaxis\": {\"title\": {\"text\": \"# deaths\"}}},\n",
       "                        {\"responsive\": true}\n",
       "                    ).then(function(){\n",
       "                            \n",
       "var gd = document.getElementById('5105482e-4e4e-43cb-9aab-3c429e659b93');\n",
       "var x = new MutationObserver(function (mutations, observer) {{\n",
       "        var display = window.getComputedStyle(gd).display;\n",
       "        if (!display || display === 'none') {{\n",
       "            console.log([gd, 'removed!']);\n",
       "            Plotly.purge(gd);\n",
       "            observer.disconnect();\n",
       "        }}\n",
       "}});\n",
       "\n",
       "// Listen for the removal of the full notebook cells\n",
       "var notebookContainer = gd.closest('#notebook-container');\n",
       "if (notebookContainer) {{\n",
       "    x.observe(notebookContainer, {childList: true});\n",
       "}}\n",
       "\n",
       "// Listen for the clearing of the current output cell\n",
       "var outputEl = gd.closest('.output');\n",
       "if (outputEl) {{\n",
       "    x.observe(outputEl, {childList: true});\n",
       "}}\n",
       "\n",
       "                        })\n",
       "                };\n",
       "                });\n",
       "            </script>\n",
       "        </div>"
      ]
     },
     "metadata": {},
     "output_type": "display_data"
    }
   ],
   "source": [
    "from lmfit import Model\n",
    "from lmfit import Parameters\n",
    "\n",
    "upload_plots=False\n",
    "upload_plots=True\n",
    "\n",
    "def expand_date(lastdate,n=7):\n",
    "    lastdate_object = lastdate\n",
    "    d=[]\n",
    "    for i in range(n):\n",
    "        nd=lastdate_object+timedelta(days=i+1)\n",
    "        #d.append(nd.strftime(\"%m/%d/%y\"))\n",
    "        d.append(nd)\n",
    "    return d\n",
    "\n",
    "def expand_pd_date(lastdate,n=7):\n",
    "    lastdate_object = lastdate\n",
    "    d=[]\n",
    "    for i in range(n):\n",
    "        nd=lastdate_object+timedelta(days=i+1)\n",
    "        #d.append(nd.strftime(\"%m/%d/%y\"))\n",
    "        d.append(pd.Timestamp(nd))\n",
    "    return d\n",
    "\n",
    "\n",
    "def ef(x,L,tau):\n",
    "    return L*np.power(2,x/tau)\n",
    "\n",
    "def logistic(x,M,alpha,beta):\n",
    "    return M/(1+np.exp(-beta*(x-alpha)))\n",
    "\n",
    "def dif_log(x,M,alpha,beta):\n",
    "    return beta*M*np.exp(-beta*(x-alpha))/np.power((1+np.exp(-beta*(x-alpha))),2)\n",
    "\n",
    "y=df_deaths['oud']+df_deaths['nieuw']\n",
    "dates=df_deaths['date']\n",
    "#y=np.array(qq['number']).astype(float)\n",
    "l=len(y)\n",
    "x=np.arange(0, l,1, float)\n",
    "gmodel = Model(dif_log)\n",
    "#params = gmodel.make_params(M=30000,alfa=65,beta=0.2)\n",
    "params = Parameters()\n",
    "params.add('M', value=1000, min=500,max=4000)\n",
    "params.add('alpha', value=20,min=10,max=80)\n",
    "params.add('beta', value=0.2, min=0.05,max=0.95)\n",
    "\n",
    "\n",
    "expmodel=Model(ef)\n",
    "eparams = Parameters()\n",
    "eparams.add('L', value=2000)\n",
    "eparams.add('tau', value=2)\n",
    "\n",
    "\n",
    "eresult = expmodel.fit(df_deaths['totaal'][:30], eparams,x=x[:30])\n",
    "\n",
    "x_start_fit=1\n",
    "x_start_plot=1\n",
    "print(x_start_fit)\n",
    "print('parameter names: {}'.format(gmodel.param_names))\n",
    "print('independent variables: {}'.format(gmodel.independent_vars))\n",
    "result = gmodel.fit(y[x_start_fit:-2], params,x=x[x_start_fit:-2])\n",
    "\n",
    "# %matplotlib notebook\n",
    "\n",
    "# ax,_=result.plot()\n",
    "# plt.yscale('log')\n",
    "# result\n",
    "#dates=qq['date']\n",
    "xdate=dates[x_start_fit:]\n",
    "yf= gmodel.eval(result.params, x=x[x_start_fit:])\n",
    "#x=qq['date']\n",
    "dt=xdate.iloc[-1].to_pydatetime()\n",
    "xdate_extra=expand_date(dt)\n",
    "l=len(xdate_extra)\n",
    "x_extra=np.arange(x[-1]+1, x[-1]+l,1, float)\n",
    "\n",
    "M=beta=result.params['M'].value\n",
    "alpha=result.params['alpha'].value\n",
    "beta=result.params['beta'].value\n",
    "\n",
    "\n",
    "fig = go.Figure()\n",
    "fig.add_trace(go.Bar(x=dates, y=df_deaths['oud'],name=\"tot en met gisteren\"))\n",
    "fig.add_trace(go.Bar(x=dates, y=df_deaths['nieuw'],name='nieuw'))\n",
    "\n",
    "#                          mode='markers',\n",
    "#                          name='counts RIVM',\n",
    "#                          marker_size=10,\n",
    "#                          marker_symbol='circle'))\n",
    "fig.add_trace(go.Scatter(x=xdate, y=dif_log(x+1,M,alpha,beta),\n",
    "                         mode='lines',\n",
    "                         name=r'K=%.2f,beta=%.2f, t_0=%.2f'%\\\n",
    "                         (result.params['M'].value,result.params['beta'].value,result.params['alpha'].value)))\n",
    "\n",
    "title=\"Deaths per day\"\n",
    "yaxis_title=\"# deaths/day\"\n",
    "\n",
    "fig.update_layout(#yaxis_type=\"log\",\n",
    "                  title=title,\n",
    "                  title_xanchor=\"center\",\n",
    "                  title_x=0.5,\n",
    "                  xaxis_title=\"Date\",\n",
    "                  yaxis_title=yaxis_title,\n",
    "                  legend_x=0.05,\n",
    "                  legend_y=0.95,\n",
    "                  font_size=12,\n",
    "                    barmode='stack'\n",
    ")\n",
    "\n",
    "filename=\"corona_death_logistic_increase\"\n",
    "if upload_plots:\n",
    "    py.plot(fig, filename = filename, auto_open=True)\n",
    "fig.show()\n",
    "\n",
    "fig = go.Figure()\n",
    "fig.add_trace(go.Scatter(x=dates[x_start_plot:], y=df_deaths['totaal'][x_start_plot:],\n",
    "                         mode='markers',\n",
    "                         name='counts RIVM',\n",
    "                         marker_size=10,\n",
    "                         marker_symbol='circle'))\n",
    "fig.add_trace(go.Scatter(x=np.concatenate((xdate.dt.to_pydatetime(),xdate_extra)), y=logistic(np.concatenate((x+1,x_extra+1)),M,alpha,beta),\n",
    "                         mode='lines',\n",
    "                         name=r'K=%.2f,beta=%.2f, t_0=%.2f'%\\\n",
    "                         (result.params['M'].value,result.params['beta'].value,result.params['alpha'].value)))\n",
    "fig.add_trace(go.Scatter(x=xdate_extra, y=logistic(x_extra+1,M,alpha,beta),\n",
    "                         mode='markers',\n",
    "                         name='prediction',\n",
    "                        marker_size=10,\n",
    "                         marker_symbol='square'))\n",
    "\n",
    "title=\"Cummulative deaths\"\n",
    "yaxis_title=\"# deaths\"\n",
    "\n",
    "fig.update_layout(#yaxis_type=\"log\",\n",
    "                  title=title,\n",
    "                  title_xanchor=\"center\",\n",
    "                  title_x=0.5,\n",
    "                  xaxis_title=\"Date\",\n",
    "                  yaxis_title=yaxis_title,\n",
    "                  legend_x=0.05,\n",
    "                  legend_y=0.95,\n",
    "                  font_size=12)\n",
    "\n",
    "filename=\"corona_death_logistic\"\n",
    "if upload_plots:\n",
    "    py.plot(fig, filename = filename, auto_open=True)\n",
    "fig.show()"
   ]
  },
  {
   "cell_type": "code",
   "execution_count": 31,
   "metadata": {
    "scrolled": false
   },
   "outputs": [
    {
     "data": {
      "application/javascript": [
       "/* Put everything inside the global mpl namespace */\n",
       "window.mpl = {};\n",
       "\n",
       "\n",
       "mpl.get_websocket_type = function() {\n",
       "    if (typeof(WebSocket) !== 'undefined') {\n",
       "        return WebSocket;\n",
       "    } else if (typeof(MozWebSocket) !== 'undefined') {\n",
       "        return MozWebSocket;\n",
       "    } else {\n",
       "        alert('Your browser does not have WebSocket support.' +\n",
       "              'Please try Chrome, Safari or Firefox ≥ 6. ' +\n",
       "              'Firefox 4 and 5 are also supported but you ' +\n",
       "              'have to enable WebSockets in about:config.');\n",
       "    };\n",
       "}\n",
       "\n",
       "mpl.figure = function(figure_id, websocket, ondownload, parent_element) {\n",
       "    this.id = figure_id;\n",
       "\n",
       "    this.ws = websocket;\n",
       "\n",
       "    this.supports_binary = (this.ws.binaryType != undefined);\n",
       "\n",
       "    if (!this.supports_binary) {\n",
       "        var warnings = document.getElementById(\"mpl-warnings\");\n",
       "        if (warnings) {\n",
       "            warnings.style.display = 'block';\n",
       "            warnings.textContent = (\n",
       "                \"This browser does not support binary websocket messages. \" +\n",
       "                    \"Performance may be slow.\");\n",
       "        }\n",
       "    }\n",
       "\n",
       "    this.imageObj = new Image();\n",
       "\n",
       "    this.context = undefined;\n",
       "    this.message = undefined;\n",
       "    this.canvas = undefined;\n",
       "    this.rubberband_canvas = undefined;\n",
       "    this.rubberband_context = undefined;\n",
       "    this.format_dropdown = undefined;\n",
       "\n",
       "    this.image_mode = 'full';\n",
       "\n",
       "    this.root = $('<div/>');\n",
       "    this._root_extra_style(this.root)\n",
       "    this.root.attr('style', 'display: inline-block');\n",
       "\n",
       "    $(parent_element).append(this.root);\n",
       "\n",
       "    this._init_header(this);\n",
       "    this._init_canvas(this);\n",
       "    this._init_toolbar(this);\n",
       "\n",
       "    var fig = this;\n",
       "\n",
       "    this.waiting = false;\n",
       "\n",
       "    this.ws.onopen =  function () {\n",
       "            fig.send_message(\"supports_binary\", {value: fig.supports_binary});\n",
       "            fig.send_message(\"send_image_mode\", {});\n",
       "            if (mpl.ratio != 1) {\n",
       "                fig.send_message(\"set_dpi_ratio\", {'dpi_ratio': mpl.ratio});\n",
       "            }\n",
       "            fig.send_message(\"refresh\", {});\n",
       "        }\n",
       "\n",
       "    this.imageObj.onload = function() {\n",
       "            if (fig.image_mode == 'full') {\n",
       "                // Full images could contain transparency (where diff images\n",
       "                // almost always do), so we need to clear the canvas so that\n",
       "                // there is no ghosting.\n",
       "                fig.context.clearRect(0, 0, fig.canvas.width, fig.canvas.height);\n",
       "            }\n",
       "            fig.context.drawImage(fig.imageObj, 0, 0);\n",
       "        };\n",
       "\n",
       "    this.imageObj.onunload = function() {\n",
       "        fig.ws.close();\n",
       "    }\n",
       "\n",
       "    this.ws.onmessage = this._make_on_message_function(this);\n",
       "\n",
       "    this.ondownload = ondownload;\n",
       "}\n",
       "\n",
       "mpl.figure.prototype._init_header = function() {\n",
       "    var titlebar = $(\n",
       "        '<div class=\"ui-dialog-titlebar ui-widget-header ui-corner-all ' +\n",
       "        'ui-helper-clearfix\"/>');\n",
       "    var titletext = $(\n",
       "        '<div class=\"ui-dialog-title\" style=\"width: 100%; ' +\n",
       "        'text-align: center; padding: 3px;\"/>');\n",
       "    titlebar.append(titletext)\n",
       "    this.root.append(titlebar);\n",
       "    this.header = titletext[0];\n",
       "}\n",
       "\n",
       "\n",
       "\n",
       "mpl.figure.prototype._canvas_extra_style = function(canvas_div) {\n",
       "\n",
       "}\n",
       "\n",
       "\n",
       "mpl.figure.prototype._root_extra_style = function(canvas_div) {\n",
       "\n",
       "}\n",
       "\n",
       "mpl.figure.prototype._init_canvas = function() {\n",
       "    var fig = this;\n",
       "\n",
       "    var canvas_div = $('<div/>');\n",
       "\n",
       "    canvas_div.attr('style', 'position: relative; clear: both; outline: 0');\n",
       "\n",
       "    function canvas_keyboard_event(event) {\n",
       "        return fig.key_event(event, event['data']);\n",
       "    }\n",
       "\n",
       "    canvas_div.keydown('key_press', canvas_keyboard_event);\n",
       "    canvas_div.keyup('key_release', canvas_keyboard_event);\n",
       "    this.canvas_div = canvas_div\n",
       "    this._canvas_extra_style(canvas_div)\n",
       "    this.root.append(canvas_div);\n",
       "\n",
       "    var canvas = $('<canvas/>');\n",
       "    canvas.addClass('mpl-canvas');\n",
       "    canvas.attr('style', \"left: 0; top: 0; z-index: 0; outline: 0\")\n",
       "\n",
       "    this.canvas = canvas[0];\n",
       "    this.context = canvas[0].getContext(\"2d\");\n",
       "\n",
       "    var backingStore = this.context.backingStorePixelRatio ||\n",
       "\tthis.context.webkitBackingStorePixelRatio ||\n",
       "\tthis.context.mozBackingStorePixelRatio ||\n",
       "\tthis.context.msBackingStorePixelRatio ||\n",
       "\tthis.context.oBackingStorePixelRatio ||\n",
       "\tthis.context.backingStorePixelRatio || 1;\n",
       "\n",
       "    mpl.ratio = (window.devicePixelRatio || 1) / backingStore;\n",
       "\n",
       "    var rubberband = $('<canvas/>');\n",
       "    rubberband.attr('style', \"position: absolute; left: 0; top: 0; z-index: 1;\")\n",
       "\n",
       "    var pass_mouse_events = true;\n",
       "\n",
       "    canvas_div.resizable({\n",
       "        start: function(event, ui) {\n",
       "            pass_mouse_events = false;\n",
       "        },\n",
       "        resize: function(event, ui) {\n",
       "            fig.request_resize(ui.size.width, ui.size.height);\n",
       "        },\n",
       "        stop: function(event, ui) {\n",
       "            pass_mouse_events = true;\n",
       "            fig.request_resize(ui.size.width, ui.size.height);\n",
       "        },\n",
       "    });\n",
       "\n",
       "    function mouse_event_fn(event) {\n",
       "        if (pass_mouse_events)\n",
       "            return fig.mouse_event(event, event['data']);\n",
       "    }\n",
       "\n",
       "    rubberband.mousedown('button_press', mouse_event_fn);\n",
       "    rubberband.mouseup('button_release', mouse_event_fn);\n",
       "    // Throttle sequential mouse events to 1 every 20ms.\n",
       "    rubberband.mousemove('motion_notify', mouse_event_fn);\n",
       "\n",
       "    rubberband.mouseenter('figure_enter', mouse_event_fn);\n",
       "    rubberband.mouseleave('figure_leave', mouse_event_fn);\n",
       "\n",
       "    canvas_div.on(\"wheel\", function (event) {\n",
       "        event = event.originalEvent;\n",
       "        event['data'] = 'scroll'\n",
       "        if (event.deltaY < 0) {\n",
       "            event.step = 1;\n",
       "        } else {\n",
       "            event.step = -1;\n",
       "        }\n",
       "        mouse_event_fn(event);\n",
       "    });\n",
       "\n",
       "    canvas_div.append(canvas);\n",
       "    canvas_div.append(rubberband);\n",
       "\n",
       "    this.rubberband = rubberband;\n",
       "    this.rubberband_canvas = rubberband[0];\n",
       "    this.rubberband_context = rubberband[0].getContext(\"2d\");\n",
       "    this.rubberband_context.strokeStyle = \"#000000\";\n",
       "\n",
       "    this._resize_canvas = function(width, height) {\n",
       "        // Keep the size of the canvas, canvas container, and rubber band\n",
       "        // canvas in synch.\n",
       "        canvas_div.css('width', width)\n",
       "        canvas_div.css('height', height)\n",
       "\n",
       "        canvas.attr('width', width * mpl.ratio);\n",
       "        canvas.attr('height', height * mpl.ratio);\n",
       "        canvas.attr('style', 'width: ' + width + 'px; height: ' + height + 'px;');\n",
       "\n",
       "        rubberband.attr('width', width);\n",
       "        rubberband.attr('height', height);\n",
       "    }\n",
       "\n",
       "    // Set the figure to an initial 600x600px, this will subsequently be updated\n",
       "    // upon first draw.\n",
       "    this._resize_canvas(600, 600);\n",
       "\n",
       "    // Disable right mouse context menu.\n",
       "    $(this.rubberband_canvas).bind(\"contextmenu\",function(e){\n",
       "        return false;\n",
       "    });\n",
       "\n",
       "    function set_focus () {\n",
       "        canvas.focus();\n",
       "        canvas_div.focus();\n",
       "    }\n",
       "\n",
       "    window.setTimeout(set_focus, 100);\n",
       "}\n",
       "\n",
       "mpl.figure.prototype._init_toolbar = function() {\n",
       "    var fig = this;\n",
       "\n",
       "    var nav_element = $('<div/>')\n",
       "    nav_element.attr('style', 'width: 100%');\n",
       "    this.root.append(nav_element);\n",
       "\n",
       "    // Define a callback function for later on.\n",
       "    function toolbar_event(event) {\n",
       "        return fig.toolbar_button_onclick(event['data']);\n",
       "    }\n",
       "    function toolbar_mouse_event(event) {\n",
       "        return fig.toolbar_button_onmouseover(event['data']);\n",
       "    }\n",
       "\n",
       "    for(var toolbar_ind in mpl.toolbar_items) {\n",
       "        var name = mpl.toolbar_items[toolbar_ind][0];\n",
       "        var tooltip = mpl.toolbar_items[toolbar_ind][1];\n",
       "        var image = mpl.toolbar_items[toolbar_ind][2];\n",
       "        var method_name = mpl.toolbar_items[toolbar_ind][3];\n",
       "\n",
       "        if (!name) {\n",
       "            // put a spacer in here.\n",
       "            continue;\n",
       "        }\n",
       "        var button = $('<button/>');\n",
       "        button.addClass('ui-button ui-widget ui-state-default ui-corner-all ' +\n",
       "                        'ui-button-icon-only');\n",
       "        button.attr('role', 'button');\n",
       "        button.attr('aria-disabled', 'false');\n",
       "        button.click(method_name, toolbar_event);\n",
       "        button.mouseover(tooltip, toolbar_mouse_event);\n",
       "\n",
       "        var icon_img = $('<span/>');\n",
       "        icon_img.addClass('ui-button-icon-primary ui-icon');\n",
       "        icon_img.addClass(image);\n",
       "        icon_img.addClass('ui-corner-all');\n",
       "\n",
       "        var tooltip_span = $('<span/>');\n",
       "        tooltip_span.addClass('ui-button-text');\n",
       "        tooltip_span.html(tooltip);\n",
       "\n",
       "        button.append(icon_img);\n",
       "        button.append(tooltip_span);\n",
       "\n",
       "        nav_element.append(button);\n",
       "    }\n",
       "\n",
       "    var fmt_picker_span = $('<span/>');\n",
       "\n",
       "    var fmt_picker = $('<select/>');\n",
       "    fmt_picker.addClass('mpl-toolbar-option ui-widget ui-widget-content');\n",
       "    fmt_picker_span.append(fmt_picker);\n",
       "    nav_element.append(fmt_picker_span);\n",
       "    this.format_dropdown = fmt_picker[0];\n",
       "\n",
       "    for (var ind in mpl.extensions) {\n",
       "        var fmt = mpl.extensions[ind];\n",
       "        var option = $(\n",
       "            '<option/>', {selected: fmt === mpl.default_extension}).html(fmt);\n",
       "        fmt_picker.append(option)\n",
       "    }\n",
       "\n",
       "    // Add hover states to the ui-buttons\n",
       "    $( \".ui-button\" ).hover(\n",
       "        function() { $(this).addClass(\"ui-state-hover\");},\n",
       "        function() { $(this).removeClass(\"ui-state-hover\");}\n",
       "    );\n",
       "\n",
       "    var status_bar = $('<span class=\"mpl-message\"/>');\n",
       "    nav_element.append(status_bar);\n",
       "    this.message = status_bar[0];\n",
       "}\n",
       "\n",
       "mpl.figure.prototype.request_resize = function(x_pixels, y_pixels) {\n",
       "    // Request matplotlib to resize the figure. Matplotlib will then trigger a resize in the client,\n",
       "    // which will in turn request a refresh of the image.\n",
       "    this.send_message('resize', {'width': x_pixels, 'height': y_pixels});\n",
       "}\n",
       "\n",
       "mpl.figure.prototype.send_message = function(type, properties) {\n",
       "    properties['type'] = type;\n",
       "    properties['figure_id'] = this.id;\n",
       "    this.ws.send(JSON.stringify(properties));\n",
       "}\n",
       "\n",
       "mpl.figure.prototype.send_draw_message = function() {\n",
       "    if (!this.waiting) {\n",
       "        this.waiting = true;\n",
       "        this.ws.send(JSON.stringify({type: \"draw\", figure_id: this.id}));\n",
       "    }\n",
       "}\n",
       "\n",
       "\n",
       "mpl.figure.prototype.handle_save = function(fig, msg) {\n",
       "    var format_dropdown = fig.format_dropdown;\n",
       "    var format = format_dropdown.options[format_dropdown.selectedIndex].value;\n",
       "    fig.ondownload(fig, format);\n",
       "}\n",
       "\n",
       "\n",
       "mpl.figure.prototype.handle_resize = function(fig, msg) {\n",
       "    var size = msg['size'];\n",
       "    if (size[0] != fig.canvas.width || size[1] != fig.canvas.height) {\n",
       "        fig._resize_canvas(size[0], size[1]);\n",
       "        fig.send_message(\"refresh\", {});\n",
       "    };\n",
       "}\n",
       "\n",
       "mpl.figure.prototype.handle_rubberband = function(fig, msg) {\n",
       "    var x0 = msg['x0'] / mpl.ratio;\n",
       "    var y0 = (fig.canvas.height - msg['y0']) / mpl.ratio;\n",
       "    var x1 = msg['x1'] / mpl.ratio;\n",
       "    var y1 = (fig.canvas.height - msg['y1']) / mpl.ratio;\n",
       "    x0 = Math.floor(x0) + 0.5;\n",
       "    y0 = Math.floor(y0) + 0.5;\n",
       "    x1 = Math.floor(x1) + 0.5;\n",
       "    y1 = Math.floor(y1) + 0.5;\n",
       "    var min_x = Math.min(x0, x1);\n",
       "    var min_y = Math.min(y0, y1);\n",
       "    var width = Math.abs(x1 - x0);\n",
       "    var height = Math.abs(y1 - y0);\n",
       "\n",
       "    fig.rubberband_context.clearRect(\n",
       "        0, 0, fig.canvas.width, fig.canvas.height);\n",
       "\n",
       "    fig.rubberband_context.strokeRect(min_x, min_y, width, height);\n",
       "}\n",
       "\n",
       "mpl.figure.prototype.handle_figure_label = function(fig, msg) {\n",
       "    // Updates the figure title.\n",
       "    fig.header.textContent = msg['label'];\n",
       "}\n",
       "\n",
       "mpl.figure.prototype.handle_cursor = function(fig, msg) {\n",
       "    var cursor = msg['cursor'];\n",
       "    switch(cursor)\n",
       "    {\n",
       "    case 0:\n",
       "        cursor = 'pointer';\n",
       "        break;\n",
       "    case 1:\n",
       "        cursor = 'default';\n",
       "        break;\n",
       "    case 2:\n",
       "        cursor = 'crosshair';\n",
       "        break;\n",
       "    case 3:\n",
       "        cursor = 'move';\n",
       "        break;\n",
       "    }\n",
       "    fig.rubberband_canvas.style.cursor = cursor;\n",
       "}\n",
       "\n",
       "mpl.figure.prototype.handle_message = function(fig, msg) {\n",
       "    fig.message.textContent = msg['message'];\n",
       "}\n",
       "\n",
       "mpl.figure.prototype.handle_draw = function(fig, msg) {\n",
       "    // Request the server to send over a new figure.\n",
       "    fig.send_draw_message();\n",
       "}\n",
       "\n",
       "mpl.figure.prototype.handle_image_mode = function(fig, msg) {\n",
       "    fig.image_mode = msg['mode'];\n",
       "}\n",
       "\n",
       "mpl.figure.prototype.updated_canvas_event = function() {\n",
       "    // Called whenever the canvas gets updated.\n",
       "    this.send_message(\"ack\", {});\n",
       "}\n",
       "\n",
       "// A function to construct a web socket function for onmessage handling.\n",
       "// Called in the figure constructor.\n",
       "mpl.figure.prototype._make_on_message_function = function(fig) {\n",
       "    return function socket_on_message(evt) {\n",
       "        if (evt.data instanceof Blob) {\n",
       "            /* FIXME: We get \"Resource interpreted as Image but\n",
       "             * transferred with MIME type text/plain:\" errors on\n",
       "             * Chrome.  But how to set the MIME type?  It doesn't seem\n",
       "             * to be part of the websocket stream */\n",
       "            evt.data.type = \"image/png\";\n",
       "\n",
       "            /* Free the memory for the previous frames */\n",
       "            if (fig.imageObj.src) {\n",
       "                (window.URL || window.webkitURL).revokeObjectURL(\n",
       "                    fig.imageObj.src);\n",
       "            }\n",
       "\n",
       "            fig.imageObj.src = (window.URL || window.webkitURL).createObjectURL(\n",
       "                evt.data);\n",
       "            fig.updated_canvas_event();\n",
       "            fig.waiting = false;\n",
       "            return;\n",
       "        }\n",
       "        else if (typeof evt.data === 'string' && evt.data.slice(0, 21) == \"data:image/png;base64\") {\n",
       "            fig.imageObj.src = evt.data;\n",
       "            fig.updated_canvas_event();\n",
       "            fig.waiting = false;\n",
       "            return;\n",
       "        }\n",
       "\n",
       "        var msg = JSON.parse(evt.data);\n",
       "        var msg_type = msg['type'];\n",
       "\n",
       "        // Call the  \"handle_{type}\" callback, which takes\n",
       "        // the figure and JSON message as its only arguments.\n",
       "        try {\n",
       "            var callback = fig[\"handle_\" + msg_type];\n",
       "        } catch (e) {\n",
       "            console.log(\"No handler for the '\" + msg_type + \"' message type: \", msg);\n",
       "            return;\n",
       "        }\n",
       "\n",
       "        if (callback) {\n",
       "            try {\n",
       "                // console.log(\"Handling '\" + msg_type + \"' message: \", msg);\n",
       "                callback(fig, msg);\n",
       "            } catch (e) {\n",
       "                console.log(\"Exception inside the 'handler_\" + msg_type + \"' callback:\", e, e.stack, msg);\n",
       "            }\n",
       "        }\n",
       "    };\n",
       "}\n",
       "\n",
       "// from http://stackoverflow.com/questions/1114465/getting-mouse-location-in-canvas\n",
       "mpl.findpos = function(e) {\n",
       "    //this section is from http://www.quirksmode.org/js/events_properties.html\n",
       "    var targ;\n",
       "    if (!e)\n",
       "        e = window.event;\n",
       "    if (e.target)\n",
       "        targ = e.target;\n",
       "    else if (e.srcElement)\n",
       "        targ = e.srcElement;\n",
       "    if (targ.nodeType == 3) // defeat Safari bug\n",
       "        targ = targ.parentNode;\n",
       "\n",
       "    // jQuery normalizes the pageX and pageY\n",
       "    // pageX,Y are the mouse positions relative to the document\n",
       "    // offset() returns the position of the element relative to the document\n",
       "    var x = e.pageX - $(targ).offset().left;\n",
       "    var y = e.pageY - $(targ).offset().top;\n",
       "\n",
       "    return {\"x\": x, \"y\": y};\n",
       "};\n",
       "\n",
       "/*\n",
       " * return a copy of an object with only non-object keys\n",
       " * we need this to avoid circular references\n",
       " * http://stackoverflow.com/a/24161582/3208463\n",
       " */\n",
       "function simpleKeys (original) {\n",
       "  return Object.keys(original).reduce(function (obj, key) {\n",
       "    if (typeof original[key] !== 'object')\n",
       "        obj[key] = original[key]\n",
       "    return obj;\n",
       "  }, {});\n",
       "}\n",
       "\n",
       "mpl.figure.prototype.mouse_event = function(event, name) {\n",
       "    var canvas_pos = mpl.findpos(event)\n",
       "\n",
       "    if (name === 'button_press')\n",
       "    {\n",
       "        this.canvas.focus();\n",
       "        this.canvas_div.focus();\n",
       "    }\n",
       "\n",
       "    var x = canvas_pos.x * mpl.ratio;\n",
       "    var y = canvas_pos.y * mpl.ratio;\n",
       "\n",
       "    this.send_message(name, {x: x, y: y, button: event.button,\n",
       "                             step: event.step,\n",
       "                             guiEvent: simpleKeys(event)});\n",
       "\n",
       "    /* This prevents the web browser from automatically changing to\n",
       "     * the text insertion cursor when the button is pressed.  We want\n",
       "     * to control all of the cursor setting manually through the\n",
       "     * 'cursor' event from matplotlib */\n",
       "    event.preventDefault();\n",
       "    return false;\n",
       "}\n",
       "\n",
       "mpl.figure.prototype._key_event_extra = function(event, name) {\n",
       "    // Handle any extra behaviour associated with a key event\n",
       "}\n",
       "\n",
       "mpl.figure.prototype.key_event = function(event, name) {\n",
       "\n",
       "    // Prevent repeat events\n",
       "    if (name == 'key_press')\n",
       "    {\n",
       "        if (event.which === this._key)\n",
       "            return;\n",
       "        else\n",
       "            this._key = event.which;\n",
       "    }\n",
       "    if (name == 'key_release')\n",
       "        this._key = null;\n",
       "\n",
       "    var value = '';\n",
       "    if (event.ctrlKey && event.which != 17)\n",
       "        value += \"ctrl+\";\n",
       "    if (event.altKey && event.which != 18)\n",
       "        value += \"alt+\";\n",
       "    if (event.shiftKey && event.which != 16)\n",
       "        value += \"shift+\";\n",
       "\n",
       "    value += 'k';\n",
       "    value += event.which.toString();\n",
       "\n",
       "    this._key_event_extra(event, name);\n",
       "\n",
       "    this.send_message(name, {key: value,\n",
       "                             guiEvent: simpleKeys(event)});\n",
       "    return false;\n",
       "}\n",
       "\n",
       "mpl.figure.prototype.toolbar_button_onclick = function(name) {\n",
       "    if (name == 'download') {\n",
       "        this.handle_save(this, null);\n",
       "    } else {\n",
       "        this.send_message(\"toolbar_button\", {name: name});\n",
       "    }\n",
       "};\n",
       "\n",
       "mpl.figure.prototype.toolbar_button_onmouseover = function(tooltip) {\n",
       "    this.message.textContent = tooltip;\n",
       "};\n",
       "mpl.toolbar_items = [[\"Home\", \"Reset original view\", \"fa fa-home icon-home\", \"home\"], [\"Back\", \"Back to previous view\", \"fa fa-arrow-left icon-arrow-left\", \"back\"], [\"Forward\", \"Forward to next view\", \"fa fa-arrow-right icon-arrow-right\", \"forward\"], [\"\", \"\", \"\", \"\"], [\"Pan\", \"Pan axes with left mouse, zoom with right\", \"fa fa-arrows icon-move\", \"pan\"], [\"Zoom\", \"Zoom to rectangle\", \"fa fa-square-o icon-check-empty\", \"zoom\"], [\"\", \"\", \"\", \"\"], [\"Download\", \"Download plot\", \"fa fa-floppy-o icon-save\", \"download\"]];\n",
       "\n",
       "mpl.extensions = [\"eps\", \"jpeg\", \"pdf\", \"png\", \"ps\", \"raw\", \"svg\", \"tif\"];\n",
       "\n",
       "mpl.default_extension = \"png\";var comm_websocket_adapter = function(comm) {\n",
       "    // Create a \"websocket\"-like object which calls the given IPython comm\n",
       "    // object with the appropriate methods. Currently this is a non binary\n",
       "    // socket, so there is still some room for performance tuning.\n",
       "    var ws = {};\n",
       "\n",
       "    ws.close = function() {\n",
       "        comm.close()\n",
       "    };\n",
       "    ws.send = function(m) {\n",
       "        //console.log('sending', m);\n",
       "        comm.send(m);\n",
       "    };\n",
       "    // Register the callback with on_msg.\n",
       "    comm.on_msg(function(msg) {\n",
       "        //console.log('receiving', msg['content']['data'], msg);\n",
       "        // Pass the mpl event to the overridden (by mpl) onmessage function.\n",
       "        ws.onmessage(msg['content']['data'])\n",
       "    });\n",
       "    return ws;\n",
       "}\n",
       "\n",
       "mpl.mpl_figure_comm = function(comm, msg) {\n",
       "    // This is the function which gets called when the mpl process\n",
       "    // starts-up an IPython Comm through the \"matplotlib\" channel.\n",
       "\n",
       "    var id = msg.content.data.id;\n",
       "    // Get hold of the div created by the display call when the Comm\n",
       "    // socket was opened in Python.\n",
       "    var element = $(\"#\" + id);\n",
       "    var ws_proxy = comm_websocket_adapter(comm)\n",
       "\n",
       "    function ondownload(figure, format) {\n",
       "        window.open(figure.imageObj.src);\n",
       "    }\n",
       "\n",
       "    var fig = new mpl.figure(id, ws_proxy,\n",
       "                           ondownload,\n",
       "                           element.get(0));\n",
       "\n",
       "    // Call onopen now - mpl needs it, as it is assuming we've passed it a real\n",
       "    // web socket which is closed, not our websocket->open comm proxy.\n",
       "    ws_proxy.onopen();\n",
       "\n",
       "    fig.parent_element = element.get(0);\n",
       "    fig.cell_info = mpl.find_output_cell(\"<div id='\" + id + \"'></div>\");\n",
       "    if (!fig.cell_info) {\n",
       "        console.error(\"Failed to find cell for figure\", id, fig);\n",
       "        return;\n",
       "    }\n",
       "\n",
       "    var output_index = fig.cell_info[2]\n",
       "    var cell = fig.cell_info[0];\n",
       "\n",
       "};\n",
       "\n",
       "mpl.figure.prototype.handle_close = function(fig, msg) {\n",
       "    var width = fig.canvas.width/mpl.ratio\n",
       "    fig.root.unbind('remove')\n",
       "\n",
       "    // Update the output cell to use the data from the current canvas.\n",
       "    fig.push_to_output();\n",
       "    var dataURL = fig.canvas.toDataURL();\n",
       "    // Re-enable the keyboard manager in IPython - without this line, in FF,\n",
       "    // the notebook keyboard shortcuts fail.\n",
       "    IPython.keyboard_manager.enable()\n",
       "    $(fig.parent_element).html('<img src=\"' + dataURL + '\" width=\"' + width + '\">');\n",
       "    fig.close_ws(fig, msg);\n",
       "}\n",
       "\n",
       "mpl.figure.prototype.close_ws = function(fig, msg){\n",
       "    fig.send_message('closing', msg);\n",
       "    // fig.ws.close()\n",
       "}\n",
       "\n",
       "mpl.figure.prototype.push_to_output = function(remove_interactive) {\n",
       "    // Turn the data on the canvas into data in the output cell.\n",
       "    var width = this.canvas.width/mpl.ratio\n",
       "    var dataURL = this.canvas.toDataURL();\n",
       "    this.cell_info[1]['text/html'] = '<img src=\"' + dataURL + '\" width=\"' + width + '\">';\n",
       "}\n",
       "\n",
       "mpl.figure.prototype.updated_canvas_event = function() {\n",
       "    // Tell IPython that the notebook contents must change.\n",
       "    IPython.notebook.set_dirty(true);\n",
       "    this.send_message(\"ack\", {});\n",
       "    var fig = this;\n",
       "    // Wait a second, then push the new image to the DOM so\n",
       "    // that it is saved nicely (might be nice to debounce this).\n",
       "    setTimeout(function () { fig.push_to_output() }, 1000);\n",
       "}\n",
       "\n",
       "mpl.figure.prototype._init_toolbar = function() {\n",
       "    var fig = this;\n",
       "\n",
       "    var nav_element = $('<div/>')\n",
       "    nav_element.attr('style', 'width: 100%');\n",
       "    this.root.append(nav_element);\n",
       "\n",
       "    // Define a callback function for later on.\n",
       "    function toolbar_event(event) {\n",
       "        return fig.toolbar_button_onclick(event['data']);\n",
       "    }\n",
       "    function toolbar_mouse_event(event) {\n",
       "        return fig.toolbar_button_onmouseover(event['data']);\n",
       "    }\n",
       "\n",
       "    for(var toolbar_ind in mpl.toolbar_items){\n",
       "        var name = mpl.toolbar_items[toolbar_ind][0];\n",
       "        var tooltip = mpl.toolbar_items[toolbar_ind][1];\n",
       "        var image = mpl.toolbar_items[toolbar_ind][2];\n",
       "        var method_name = mpl.toolbar_items[toolbar_ind][3];\n",
       "\n",
       "        if (!name) { continue; };\n",
       "\n",
       "        var button = $('<button class=\"btn btn-default\" href=\"#\" title=\"' + name + '\"><i class=\"fa ' + image + ' fa-lg\"></i></button>');\n",
       "        button.click(method_name, toolbar_event);\n",
       "        button.mouseover(tooltip, toolbar_mouse_event);\n",
       "        nav_element.append(button);\n",
       "    }\n",
       "\n",
       "    // Add the status bar.\n",
       "    var status_bar = $('<span class=\"mpl-message\" style=\"text-align:right; float: right;\"/>');\n",
       "    nav_element.append(status_bar);\n",
       "    this.message = status_bar[0];\n",
       "\n",
       "    // Add the close button to the window.\n",
       "    var buttongrp = $('<div class=\"btn-group inline pull-right\"></div>');\n",
       "    var button = $('<button class=\"btn btn-mini btn-primary\" href=\"#\" title=\"Stop Interaction\"><i class=\"fa fa-power-off icon-remove icon-large\"></i></button>');\n",
       "    button.click(function (evt) { fig.handle_close(fig, {}); } );\n",
       "    button.mouseover('Stop Interaction', toolbar_mouse_event);\n",
       "    buttongrp.append(button);\n",
       "    var titlebar = this.root.find($('.ui-dialog-titlebar'));\n",
       "    titlebar.prepend(buttongrp);\n",
       "}\n",
       "\n",
       "mpl.figure.prototype._root_extra_style = function(el){\n",
       "    var fig = this\n",
       "    el.on(\"remove\", function(){\n",
       "\tfig.close_ws(fig, {});\n",
       "    });\n",
       "}\n",
       "\n",
       "mpl.figure.prototype._canvas_extra_style = function(el){\n",
       "    // this is important to make the div 'focusable\n",
       "    el.attr('tabindex', 0)\n",
       "    // reach out to IPython and tell the keyboard manager to turn it's self\n",
       "    // off when our div gets focus\n",
       "\n",
       "    // location in version 3\n",
       "    if (IPython.notebook.keyboard_manager) {\n",
       "        IPython.notebook.keyboard_manager.register_events(el);\n",
       "    }\n",
       "    else {\n",
       "        // location in version 2\n",
       "        IPython.keyboard_manager.register_events(el);\n",
       "    }\n",
       "\n",
       "}\n",
       "\n",
       "mpl.figure.prototype._key_event_extra = function(event, name) {\n",
       "    var manager = IPython.notebook.keyboard_manager;\n",
       "    if (!manager)\n",
       "        manager = IPython.keyboard_manager;\n",
       "\n",
       "    // Check for shift+enter\n",
       "    if (event.shiftKey && event.which == 13) {\n",
       "        this.canvas_div.blur();\n",
       "        event.shiftKey = false;\n",
       "        // Send a \"J\" for go to next cell\n",
       "        event.which = 74;\n",
       "        event.keyCode = 74;\n",
       "        manager.command_mode();\n",
       "        manager.handle_keydown(event);\n",
       "    }\n",
       "}\n",
       "\n",
       "mpl.figure.prototype.handle_save = function(fig, msg) {\n",
       "    fig.ondownload(fig, null);\n",
       "}\n",
       "\n",
       "\n",
       "mpl.find_output_cell = function(html_output) {\n",
       "    // Return the cell and output element which can be found *uniquely* in the notebook.\n",
       "    // Note - this is a bit hacky, but it is done because the \"notebook_saving.Notebook\"\n",
       "    // IPython event is triggered only after the cells have been serialised, which for\n",
       "    // our purposes (turning an active figure into a static one), is too late.\n",
       "    var cells = IPython.notebook.get_cells();\n",
       "    var ncells = cells.length;\n",
       "    for (var i=0; i<ncells; i++) {\n",
       "        var cell = cells[i];\n",
       "        if (cell.cell_type === 'code'){\n",
       "            for (var j=0; j<cell.output_area.outputs.length; j++) {\n",
       "                var data = cell.output_area.outputs[j];\n",
       "                if (data.data) {\n",
       "                    // IPython >= 3 moved mimebundle to data attribute of output\n",
       "                    data = data.data;\n",
       "                }\n",
       "                if (data['text/html'] == html_output) {\n",
       "                    return [cell, data, j];\n",
       "                }\n",
       "            }\n",
       "        }\n",
       "    }\n",
       "}\n",
       "\n",
       "// Register the function which deals with the matplotlib target/channel.\n",
       "// The kernel may be null if the page has been refreshed.\n",
       "if (IPython.notebook.kernel != null) {\n",
       "    IPython.notebook.kernel.comm_manager.register_target('matplotlib', mpl.mpl_figure_comm);\n",
       "}\n"
      ],
      "text/plain": [
       "<IPython.core.display.Javascript object>"
      ]
     },
     "metadata": {},
     "output_type": "display_data"
    },
    {
     "data": {
      "text/html": [
       "<img src=\"data:image/png;base64,iVBORw0KGgoAAAANSUhEUgAAAoAAAAKACAYAAAAMzckjAAAgAElEQVR4XuydB3gU1dfG3ySUUEPvHQUNHaQXAZGiSFMBRUREEJEmYsEGfCCI/KVIE1BARZooIkoRpQlIEQSlCIL0LiWCkBBIvufcuHGTbLIzmZ3Zmd13nodHJLec+7tnd96ce++5IfHx8fHgQwIkQAIkQAIkQAIkEDQEQigAg2auOVASIAESIAESIAESUAQoAOkIJEACJEACJEACJBBkBCgAg2zCOVwSIAESIAESIAESoACkD5AACZAACZAACZBAkBGgAAyyCedwSYAESIAESIAESIACkD5AAiRAAiRAAiRAAkFGgAIwyCacwyUBEiABEiABEiABCkD6AAmQAAmQAAmQAAkEGQEKwCCbcA6XBEiABEiABEiABCgA6QMkQAIkQAIkQAIkEGQEKACDbMI5XBIgARIgARIgARKgAKQPkAAJkAAJkAAJkECQEaAADLIJ53BJgARIgARIgARIgAKQPkACJEACJEACJEACQUaAAjDIJpzDJQESIAESIAESIAEKQPoACZAACZAACZAACQQZAQrAIJtwDpcESIAESIAESIAEKADpAyRAAiRAAiRAAiQQZAQoAINswjlcEiABEiABEiABEqAApA+QAAmQAAmQAAmQQJARoAAMsgnncEmABEiABEiABEiAApA+QAIkQAIkQAIkQAJBRoACMMgmnMMlARIgARIgARIgAQpA+gAJkAAJkAAJkAAJBBkBCsAgm3AOlwRIgARIgARIgAQoAOkDJEACJEACJEACJBBkBCgAg2zCOVwSIAESIAESIAESoACkD5AACZAACZAACZBAkBGgAAyyCedwSYAESIAESIAESIACkD5AAiRAAiRAAiRAAkFGgAIwyCacwyUBEiABEiABEiABCkD6AAmQAAmQAAmQAAkEGQEKwCCbcA6XBEiABEiABEiABCgA6QMkQAIkQAIkQAIkEGQEKACDbMI5XBIgARIgARIgARKgAKQPkAAJkAAJkAAJkECQEaAADLIJ53BJgARIgARIgARIgAKQPkACJEACJEACJEACQUaAAjDIJpzDJQESIAESIAESIAEKQPoACZAACZAACZAACQQZAQrAIJtwDpcESIAESIAESIAEKADpAyRAAiRAAiRAAiQQZAQoAINswjlcEiABEiABEiABEqAApA+QAAmQAAmQAAmQQJARoAAMsgnncEmABEiABEiABEiAApA+QAIkQAIkQAIkQAJBRoACMMgmnMMlARIgARIgARIgAQpA+gAJkAAJkAAJkAAJBBkBCsAgm3AOlwRIgARIgARIgAQoAOkDJEACJEACJEACJBBkBCgAg2zCOVwSIAESIAESIAESoACkD5AACZAACZAACZBAkBGgAAyyCedwSYAESIAESIAESIACkD5AAiRAAiRAAiRAAkFGgAIwyCacwyUBEiABEiABEiABCkD6AAmQAAmQAAmQAAkEGQEKwCCbcA6XBHxFYM6cOejevbtqbs2aNWjSpEmSpuPj43HnnXfi8OHDuPfee7Fu3TqfdB0SEoKhQ4di2LBhuto7evQoSpcujdmzZ+Opp55KUnfEiBGYP38+9uzZg9DQ0FTb9dSG2DF8+HDIeF3PzZs30b9/fyxduhTnz59HpUqVsGvXLq/2emrLayWdBQ4ePIiKFStiy5YtqF69us7aLE4CJBAoBCgAA2UmOQ4SsJiASwDmyJEDbdu2xaeffprEAhF8Igrl5yI07CoAT58+jXLlykHG88gjj6RJ0ZMAPHnyJORPnTp1EutOnDgRAwcOxKRJk1CjRg1kz55diUBvjxUCUGwQ4f7nn39i/fr13kziz0mABAKUAAVggE4sh0UCZhNwCcBnnnkGn332Gc6ePYucOXMmdtu1a1cV/fv777+RL18+2wrAV155Rdl//PjxNKN/MrC0oojuvHv27KnavH79uq5psEoA7tixA/fccw82bdqEevXq6bKRhUmABAKDAAVgYMwjR0EClhNwCcAffvgBrVu3xvjx4/Hss88qO6KiolC4cGG8//77mDBhQhIBeOnSJbzxxhtqefTChQsoVqwYHnvsMbz11lvInDlz4jhEOL744ov48ssvERMTgwYNGqj2ypcvn2IJ+I8//lD/9v3336u+y5Qpg759++L5559PbM+TeJOl2iJFiuDpp5/Gu+++m4ShRAYlirdixQolDFu2bIkXXngBdevWTbKMnFy0yRJ18sfTsrOnCfMkAOPi4vC///0Ps2bNwpEjRxAREaFsGTVqlGLnemQJevTo0Zg+fTrOnTunlnnl/99++21VJHkENjIyUonATz75xHLfYYckQAL+J0AB6P85oAUk4EgCLgG4fft2JcwOHDiArVu3qrF88MEHGDx4MM6cOaMEkysCGB0djdq1a6vIoOybq1y5Mn788UclVJo3b45vv/1W1Rcxc99992Hz5s1KGNasWVNFq2SZWZYu3fcA7tu3T0WxSpQogZdeegmFChXCqlWrlCCVulJWHk8CUPpu1KgRli9fjlatWiXOw40bN9TSrYjAkSNHqiVise2rr75SkUJ3QZdctMneOtlTuHbtWrU3Up6yZcsif/78XufZkwAUUT1jxgwlaEVoyzjefPNNhIeHY+fOnYqtPK+99pri2KtXL3To0AEnTpxQdsTGxir7kwvAPn364PPPP1d7FD2JVq/GsgAJkICjCVAAOnr6aDwJ+I+AuwC8du2a2u8nhygqVKiAWrVqqf+KUJJIlEsASnSqd+/eWLRoER599NFE4yX6Jkux3333He6//36sXLlSCTLZSyeHKVyPRL1ef/31JAJQomF79+5Vf9yXoPv164cPP/xQibjcuXN7FICufmX5umDBgon9iIB97rnnVJSyTZs2if8u4mrmzJlpCkApLIdMFi9eDOGi50kuAH///XfcfffdELE2ZcqUxKa2bdumhLSIPonwXb58WUVc27VrhwULFiSWEzEqAtzTIRxhI0vV+/fvx1133aXHTJYlARIIAAIUgAEwiRwCCfiDgLsAlGiZnPiVwyAifiSyt2HDBjRs2DCJAOzUqZOKpF29ejVJ1EmiUCLARAS+88476r8izv766y/kzZs3cXiuKJ4rAigRRTlkImJt3LhxSTCsXr0aDzzwQGJ0z1MEUJZ4JXopUbKwsLDE+mKnLP3KMrT74zrYklYE0JcCcNq0aUr8ieCTKKj7I0u4InhF5ImtMtYvvvhCRf/cHzn5XLJkyRQRwK+//lrNlyybS7SVDwmQQHARoAAMrvnmaEnAZwTcBaDsJZNIlIgpOUkrokKWhOVxjwA2a9ZMReIOHTqUwo6MGTMq8SgRNjlY8vHHHyth5v6I4MuSJUtiBPDUqVNJ9sF5GpzscZMDKZ4EoCyvyjhkj6H7I3YeO3YMsrfQ/XFF5KwSgLL8LMu9spzrvt9PbHK3ce7cuWqMGzduRP369ZPYLKeTZbk4+RKwRFtbtGiBZcuWqaVlPiRAAsFFgAIwuOaboyUBnxFILgAlFYpEmuQRMfjqq6+mEIASWZP9dhJZc9935ooASh3Zx6Y1AiinbCUKJuLH/cCH+yAlAiZRRE8CUJaTZVlZlmqzZcuWWM0pEUA5EPLTTz+lGQEsVaoU5E9yAShLxXL4Ruq7p7DxmYOwIRIgAVsToAC09fTQOBKwL4HkAlAsFQEnUTJZupQ9afK4RwDlMINE3eRkb/v27RMHJ6dc5QCHLNtKZEvPHkDZMyiniWWZNFOmTKkC8yQA5VDJk08+id27d6tla9djlz2AEkWV/XmyD1L2Q7oeOXgj+yxFwEqUUE5Wy2lmWdJduHBhYrm09gCK8JXooiyzyx5JPiRAAsFFgAIwuOaboyUBnxHwJAA9Ne4uAF2ngCWdiZwCluTIsmwpYkSEnOsUsKQ+kUMlcqpY9vu5ctaldgpYUsTIHkTZCyjRLtljKMvMss9NTuPK40kAytKqnB6WwylywMP1SGSxWrVqKp2KRDOlbYlcLlmyxOspYGnDV4dApC0RzLIsPmDAAHUwxnUKWFLm/PLLL4l7JF2ngKW8iGuJyArjW7duKRHpOpHsGqMcbpEldMkJyIcESCD4CFAABt+cc8Qk4BMC6RGA0rFEqyRy5coDWLRoUTz++ONK6LnnAZR8foMGDVLRQsnXJ3vb5GYNETPJr4ITUSQpTyT9iywn58qVS4k2ORghfaUmAOXfJQ2MHCRxiU8XHBFHIrqkTVmuljQ1kpdQUs5YtQdQbHHlAfzoo4+S5AGUpfLkeQBFSEv0UhgIJ9epacmLKBxdjwhkSZcjzIQxHxIggeAjQAEYfHPOEZMACbgRkJOzsudP8vvJMmogPRJpdQlmiRC6HhGTIm4lAsrl30CacY6FBLQToADUzoolSYAEApCAJJ2WqJ6kspk8ebJjRyj7GOfPn6/GIgdjZP+gpNKRAzeSn9GV51CWhCW3oCxTu6Kjjh00DScBEkg3AQrAdKNjRRIggUAhIAJJ9gvKIRa59s3Xjyzjyp+0ngwZMhjqVvY8SpJtEYJXrlxRV8Y1btxY7WGU6/Ncj0QFZS/lyy+/rNLD8CEBEghOAhSAwTnvHDUJkICFBCTaJnkN03okEsmHBEiABKwiQAFoFWn2QwIkELQE5JCKpFtJ65GTznxIgARIwCoCFIBWkWY/JEACJEACJEACJGATAhSANpkImkECJEACJEACJEACVhGgADRAWjZ1nz59WuUQc7/WykCTrEoCJEACJEACJGAyAdlzK/kwJfWTGQe/TDbfJ81TABrAKJn2ixcvbqAFViUBEiABEiABEvAXAcmF6Z5Q3V92+KNfCkAD1OWmArlxQBxI8m7xIQESIAESMEZg9b6zGLRwN5KfiQ75t9lxnarg/shCxjph7aAnIPkxJYDjSpkUjEAoAA3MujiQ5NoSIUgBaAAkq5IACZAAgNtx8WgwZg3OREV75CEisFBEODa+0hRhoS5JSHQkoJ8A398ABaB+v0msQQcyAI9VSYAESCAZgZ8OX8RjM7d45TK/Zx3ULZvXazkWIIHUCPD9TQFo6NNBBzKEj5VJgARIIAmBpbtOYcCCXV6pTOxcFW2rFvVajgVIgAIwdR9gBNDA54MC0AA8ViUBEiABRgDpA34iwPc3I4CGXE+rA92+fRuxsbGG+mJlawlkypQpaFMDWEuavZHAfwRcewDPRkWnOAQipbgHkN7iKwJa39++6s+O7TACaGBWvDmQ5Bk6e/asOmXEx1kEJC9U6dKlIUKQDwmQgHUEVu45g+fm7lQdup8Edh35mPZEdbSsWNg6g9hTQBLw9v4OyEEnG1TACsDRo0fjyy+/xO+//44sWbKgXr16GDNmDMqXL5+IICYmBoMHD8b8+fNx48YN3HfffZg6darmnEDeHOjMmTNK/BUoUABZs2ZlsmiHfKJcCb4zZsyIEiVKcN4cMm80M3AIiAgcvmxfktPAhSPCMfShSIq/wJlmv47E2/vbr8ZZ1HnACsCWLVuic+fOqFmzJm7duoXXX38dv/32G/bt24ds2bIpvM899xyWLVuGOXPmIG/evHjxxRdx6dIl7NixA2FhYV6nIC0HkmXfgwcPKvEnbfNxFgFJ7SO3vNxxxx0QIciHBEjAWgKyHLztyCWcvxqNAjnCUat0HqZ+sXYKAro3CsAg2gN44cIFJcbWr1+PRo0aqdx9+fPnx6effopOnTopR5cXviSGXL58OVq0aOHV+dNyoOjoaBw5cgSlSpVSEUg+ziIgEeGjR4+qZeDw8HBnGU9rSYAESIAE0iRAARhEAvDQoUO48847VRSwYsWKWLNmjVrylYhf7ty5Ex2lSpUqaNeuHYYPH+7146NFAFJAeMVoywIuAc/5s+X00CgSIAESMESAAjBIBKAcxmjTpo3aj/fjjz8qp5k3bx66d+8O2Qfo/jRv3lxFfaZPn57CuaSse3nXVTKebgKhgPgPnyyxDxw4MM3DMMOGDcNXX32FXbu85wDT+qlft24dmjRpgsuXL6sr+/Q8nD89tFiWBEiABJxFgAIwSATg888/j2+//RYbN25MPOCRHgEoIsVTZNBMARgI+2BkOfXq1atqCT61hwLQWV+etJYESIAEnEyAAjAIBGC/fv1UZGnDhg0qsud60rMEbHUE0C4n4W7evGl6OhQKQCd/ldJ2EiABEnAWAQrAABaAsuwr4m/JkiWQpUDZ/+f+uA6BzJ07Fx07dlQ/krQtxYoV8+khkPTuIXPlwnLPgyU2WpELq3HjxmqfpOTA++STT1ChQgV8/fXXeOmll5SYluXRe+65B+PHj4fsmZRn9+7dapn3559/VmlThLcso0s5T0vA77zzjqp//fp1xV8O5KxcuTJxCVhsqFq1KiZMmJA4bbI3U5ZypT155ADPxIkTceDAAXWyu2nTpqq8K9KYfAn42LFj6Nu3r4oEi6iVAzpjx47FAw88kOKbi0vAzvoyp7UkQAIkoIcABWAAC8A+ffqofX5Lly5NkvsvIiIi8VSupIH55ptvlKDIkyePygl48eJFn6SBMSIgXNnwz0RFe/Rns7Phi/iSVDjCp0ePHpC8eD179lSM3nrrLQhDEXfCTVLdyL+LYKxWrZpKtyMpdGQvX7ly5ZRATC4AFy1ahK5du2LKlClo2LChEnLvv/8+ypQpo0sAzpo1C4ULF1bze/78ebzwwgvqQI+c4pYnuQBs3bq1En7vvfeeEoySEihnzpzqVHjyx8j86fkSYlkSIAESIAHrCVAA2lAAShQoe/bsaNCggfIIEQkzZ85EZGSk+rv7id20XEaiUJ6e2bNn46mnnlI/ciWCFqHonghaUsFoecw6BfzT4Yt4bOYWrybM71kHdcv6PsegCEAZ286dCdn4Zbm8ffv2SmRlzpw50S7Jkffyyy+jV69eSkhNmjQJ3bp1S2F3cgEoSblFGE6bNi2xbJ06dVRk0XUIREsEMHlH27dvR61atdR+Q/Gh5AKwcuXKePjhhzF06FCvbCkAvSJiARIgARJwLAEKQBsKwEqVKqkbO2RZTlK2SCLnQYMGKRFy9913QwScXR6zBODSXacwYIH307ATO1dF26pFfY5DxJcs4YrwlkeWSV999dUU+QxFNEvUVOZL9vC9/fbbuPfee9GsWTM8+uijKFu2rKqfXACKiJel2yeffDLRdonerV27VpcA/OWXX1S/IholnY9EKmVJee/eveoXhuQC8MMPP1RRTRGJYqOIQRGFnh4KQJ+7FRskARIgAdsQoAC0oQCUyM2ePXvU/ix5ucvfFy9erKJRIgrlbl27PGYJQDtEAN3334nAk+ieCKrkj+zJy5cvn/pnWQ6W09YrVqxQCbcXLFigIofpEYCyn09+GRCh6HoefPBBtVdQ2vvnn3+Uj0jant69e6t/P378uErgLcJQ7PeUBubEiRPKxu+++04t/8tysOwVTf5QANrlU0Y7SIAEAomAXTJbUADaUADKfjLZpC8RHFkGliiRLDHKrQzybxLhsctjlgB07QE8GxWd5DJ017it2APoLgBXr16NVq1aQZJpi+jS8jz22GNKpMnhEU9LwNK+3LvseurWrauW4V1LwHI7ixzkkf2C8sjVerJHUPL6SXuyR1EOmIjocy3Zy4Ee2VuYlgB0t33IkCFKDP76668UgFomlWVIgARIwAABu2S2kCFQANpQAErCZtmoX79+fYwYMUJdp1a0aFEVsZETnBJlsstjlgCU8blOAcvf3U8CW3UK2F0AihCTgxKyt06igXLoQq7Nk8MWcjJXTgnLCeFHHnlEpdo5efKk2gsoS6xSPrkAXLhwofq5CEAR+Z999pk6Eex+CEQOmcjSvwhAWUqWn7tHFOVqPzmxPWDAABUBlEix2CD+kZoAlFPKImTlcIokh5blYBG0Yg8jgHb5VNEOpxGwS0THadyCzV5/ZrbwxJoC0IYCUCI6coJXlur69++vTqHKI3vEJAokp0Xt8pgpAF0icPiyfXA/DVw4IhxDH4pEy4qFTcPg6QCGiD854fvFF19AxFehQoWUKBw9ejQKFiyoBN2mTZtw7tw5tSTcoUMHtXdQ7tH1lAZm1KhRStTJUqsIRWlj1apViRHA2NhYJe5EnGXIkEHN/5YtW5KkgZk/fz5ee+01lb6nevXqkIie/AKRmgCUpV5ZnhaBKodWWrZsqWzImzflQRouAZvmXj5vmALE50g1N2iniI5mo1nQcgL+zmxBAeh5ykPiJbzDJ10EzBaAYhRfbumaGsOVKAANI7SkAQoQSzB77MRuER3/kWDP3gj4e187BaCNBaAIKa2PRG7s8lghAO0y1mCzgwLQ/jNOAeK/ObJjRMd/NNizNwL+zmxBAWhjARgaGqpuj0jrkUCllJFlYLs8FIB2mQnf20EB6HumvmyRAsSXNPW3ZceIjv5RsIZVBOzoL9wDaJM9gJIyROsjeebs8lAA2mUmfG8HBaDvmfqyRTu+UHw5Pru3ZceIjt2ZBbN9/s5swQigjSOATv1gUAA6dea8200B6J2RP0tQgPiTPkAB7l/+Tuzdn5ktKAAdJgAl35+cCJaUMO5Pajc3+OMDQQHoD+rW9EkBaA3n9PZCAZJecr6pZ8eIjm9GxlbMJGCnQ1tcArbJErC7w0mKke7du6t0HZ4ep+0BlDxzWbJkMfMzxbZNICBJqSX5uOQ1lFQ2fOxFgALkv/nwV6YAu0V07OWhtCY1Av7y1+T2UADaUAB26dJFvXgnTJigbn1YsmSJyi03cuRIdW2XXAdmlyctBxKhKkmJCxQo4DHPnF3GQDs8E4iKilLJru+44w5kzJiRmGxIgAIkIWG8P3KFutzB3/3b0C1pkkMIUADaUAAWLlwYS5cuRa1atVSy3p9//lnd3CBXir377rvqmji7PN4cSBIUX7lyRYnArFmzej3pbJdxBbsdcXFxSvyJ8CtRogTnzcYOEcwCxC5pcOwS0bGxm9I0GxLw9v62ock+N8l2iaBF9MndrLJ0Kn/kmjC5Fk6uhJMrx5xyF7DMlKSuOXv2rBKBfJxFQFITyfJvpkyZbG04X77BmSydaXBs/bGkcQ4gQAFowwhgzZo11XJvixYt1D2zIgjlujG5Am7x4sU4fPiwbVxLqwPJcrBcbcbHOQRE+IkI9MejVdTpjX5pbdcfY2af+gjwEIw+XixNAskJaH1/BzI520UA586di1u3buGpp55Sd7qKELx48aKKxMidsp06dbLNfNCBbDMVjjBEiwDTKur0Lv9pbdcRIGkkmAaHTkACxgjw/W3DCGDyKZUl399//13txcqXL5+xGfdxbTqQj4EGcHNaBJhWUad3+U9ruwGMP+CGxghgwE0pB2QxAb6/HSAALfYJXd3RgXThCtrCWgTY/ZGF0GDMGpyJivbISS5KLBQRjo2vNMW2I5fw2MwtXnnO71kHtUrn0dxuWOh/1zFqiVZ6NYAFTCPANDimoU1s2IzPgBltmk8iMHvg+9uGAvDpp59O09tmzZplG2+kA9lmKvxmiLcvdK3Ruv89WgVdPtzqdRwi6s5fjcaABbu8lp3YuSoK5AjXLBbrls2r2tQSrXR17m38Xo1MpYBZ7abXHjvWYxoc82ZFz2dAqxVmtKm1b5ZLSYDvbxsKwPbt2yeZKTk8sWfPHnWStmnTpvjyyy9t48t0INtMhV8M0fKFrnWprm+TOzB57SGv49Ar6vSIxbZViyrx99zcnYhPZokrNjjtiepoWbGwbqHodWBuBbRw1dNeIJclK9/Prp7PgNbezWhTa98s55kA3982FICepkrysvXp0wdlypTByy+/bBt/pgPZZiosN0TrF7rWzfp9m5TF5LXeT7i7L+uejYpOIdQEhBXLxav3ndUsFPVMjlauetoM9LKMlvpuhrVG7GUrhvuWibQsMKNN3404eFvi+9shAlBc9MCBA2jcuDEkubJdHjqQXWbCWjv0fKFr3a/3WY/aGLx4N7SIOnnxaF3+07NXTK+tWvYran1Jygzq4aqnXWu9g705mYDWiL38IubaMuFtvGa06a1P/tw7Ab6/HSQAly9fjm7dukHuCrbLQweyy0x4t0NPlMRbWT1f6K5DGFqEnSuqJqNxX4L1tPwqZbQu/2kVi2ZEK7W+JGU8erjqade7d7AECSQQ0PoZkK0YsmVCy2NGm1r6ZZm0CfD9bUMBOGjQoCSzJrdpSNTv22+/VQJw8uTJtvFrOpA5U+FNgLn3qqWsVqGkVVTp/ULXKsC09q93/Frb1SrA9OxX1PqSNOvla46Hpq9VLb6avpZZy1cEtH4GGAH0FfHU2zH788L3tw0FYJMmTZJ4hNzGkD9/fnUARE4IZ8iQwXzP09hDsDuQng+o1rK+Fmt69pRpLZuel4SecWllpdFNE4t5a1frcrGeE8t6InXp4aqXgb/K65l/f9nIfv/bhqAlYq91G4LWz5WefYWBPldWfF6C/f0tPmS7m0Cc5NiB6kDehILWiJJrLrV+mLUKMFf/3k6r6smtJ21qzcPnKqv3JaGFq7/9X0u00sVV7/i9jS1QX5R6/NobI/7cfAJaPgOuk/BarUlPm074vtA6fj3lrPq8BOr7Ww9rCkA9tJKV9bcD6fmC0FpWi1jT8wHVWlbPAQCtYk1PpEra1JpcWaJa6flCN+BqllbV4wNimJb9iloHEGhc9fi11oiSVpYsl34CWj4DelvX06aesmKH1u93vTZbXd7Kz4u/399Ws/XUny0EYLVq1RAS8t8tBGmB2blzpx24KRvMciAtH2Y9XxBay2oRa2ZF1bSeQJW9N1rFmp69atKm1uTKrn1tWrnaxmF1GOJrH9TRtebDLXra9FfZQF7W9hfT5P1q8dX02GpGu1ra1PI97B6BDKTvISs/L2a9v9Pja/6qYwsBOHz48MTxR0dHY+rUqYiMjETdunXVv2/ZsgV79+5VuQBHjx7tL1Yp+jXDgbR8mPV8QWgtq/U3L7OianoSFmsVa3py62kVlck3f2v5QreNw5pgiFnjN6tdExCk2aTeA0NW2+f0/rR8XzJ7KBEAACAASURBVFoxRl/5q9bvYdd+Qa3f71Yw8EUfVn5ezHh/+4KBlW3YQgC6D/iZZ55B4cKFMWLEiCQchg4dihMnTsDXV8GJ2Bw7dqw6aVyhQgVMmDABDRs21DQHvnYgLR9mf0fgzIqq6bmyTKtY05NbT9qUPYC+3temyZGCpJCvXpJOwmVlRMNJXHxhq5bvS7179dJjly9FqB5/Se893+kZo1V19IxfzwEzT/b7+v1tFSNf9mM7ARgREYGff/4Zd955Z5Jx/vHHH7jnnnsQFRXls/EvXLgQXbt2VRHH+vXrY/r06fjwww+xb98+lChRwms/vnQgrb/5+TsCZ1ZUTU++PD1iTU9uvUDbf+bVgS0s4MuXpIVmG+4qUA+2GAZjsAGt35dmn6z1tQjVEwHT80uzUbFkcLo0V7fy8+LL97fmAdqsoO0EYKFChdQyb/fu3ZOgmj17Nl599VWcO3fOZwhr166N6tWrY9q0aYlt3n333WjXrp2mpWaXA525cBE5c+Y0ZJfsgXtq9navbfS+tww+WP+n13JjH6msyry0+FdNZfPnyKyp/1nd7sGQJb/h/N8xqV5DVjBnOFYPaqT6bTZuvaaysgF+9b5zGLhgl6rn6WDBhM5VcX9kQfVzvWVHLd+Pc3/HJLIolDMcQx64K7E91w+kXa1lvYJlgSRzldr9wu7zGojI9PhqII7fjDFp/b6c070m5JdLMx4RK/L95v694t6P7Gp3fRdqPeCjZ1wXrsZo/n5/sHLC/d1OeKz6vMj7u3D+vCqoZPT97QSunmy0nQB85513MGzYMMhScJ06CRv+ZQ+gLP2+9dZbSgT64rl58yayZs2Kzz//HO3bt09scsCAAdi1axfWr1+fopuYmBjIH9cjDlS8eHEUH7gIoZmz+sIstkECJEACJEACJGAygbiY6zgxoSMFoMmcdTe/aNEiTJw4Efv371d1JSonwqxjx46620qtwunTp1G0aFFs2rQJ9erVSyw2atQofPzxx+ru4eSPCFP3Ayuun1MA+mxa2BAJkAAJkAAJmE6AAjCIE0GnRwCmFgH0xRKwazlBy9Lqmt/Pm7JUKp84PUugYvOOY5chSxGyhFyjZG6kttShp6zpn3x2YBmBb389E5DLVJYBZEceCej5vtS6/KoXtZ7lWr3L0Fq/h61aLtXLxgnluQQcxAIwPUvAyZ3a15tI9RxC0LOpXk9ZGWMwntZ0wheWE2208lSfE/nQ5vQT0PN9mf5eUq9p9oEFrd/Der/fzWDhxDZ9/f52IgNb7AHMkycPDh48iHz58iF37txpJoW+dOmSzzjLIZAaNWqoU8CuR/IPtm3bVtchEF9uItXzYdb6BUFR5zOXYUM6CZj9ktRpDosHGAE935dmfA/6W4S6plPPuyDAXCDdw6EAtEkEUPbcde7cGZkzZ8acOXPSFIDdunVL94Qnr+hKA/PBBx+opNMzZszAzJkzVdLpkiVLeu3HLAfih9krehZwEAG+JB00WQ40Vev3pV6xqBWFWe1q7Z/l0kfArPd3+qzxTy1bRAD9M/SEXiX69+6776pE0BUrVsT48ePRqFFCChNvDx3IGyH+nAQSCPj7Jenv/ukH/iXg63x9yUejVYT6lwJ7dyfA97dNIoDukyJ3/WbMmBGVKlVS/7x06VJIDkBZmpVTuJkyZbKNF9OBbDMVNMQBBPz1kjT75e8A9EFtol2SRgf1JNhw8Hx/21AA1qxZU+X6e/jhh/Hnn38q4dehQwds374dDz74oLqqzS4PHcguM0E7SMAzAb786Rk8iEQf8ESA728bCkC5Ck6igGXLlsWYMWOwZs0arFq1SuXrk32Cch+wXR46kF1mgnaQgGcCfPnTM/Rcr9a2alECCxICfH/bUADKlSw7duxQdwHff//9aN26tUoCffz4cZQvXx43btywjXvSgWwzFTSEBDwS4MufjsFfAugDjAB69gHbHQJp2rSpul6tWbNm6NGjB/bt24c77rhDXc0mJ4CPHj1qG2+mALTNVNAQEvBIwIqXv7/2NnLKtRFgKiJtnIKtFN/fNowA/vrrr+jSpYuK+A0aNAhDhw5VftmvXz9cvHgR8+bNs42f0oFsMxU0hAQ8EjD75c/Txc5wPLukInIGreCwku9vGwrA1FwvOjoaYWFh6oSwXR46kF1mgnaQQOoEzHr583Sxs7yOYt1Z82W2tXx/21QAXrlyBYsXL8bhw4fx0ksvQW4KkYMhBQsWRNGi9tmkSwcy+yPK9knANwR8/fLn6WLfzIvVrXC53mri9u2P728bCkBZAr7vvvuQK1cutd/vwIEDKFOmDN58800cO3YMn3zyiW08ig5km6mgISTglYCel7+3slbsLfQ6IBYgAZsQ8PZ5sYmZSczg+9uGAlAOf1SvXl3dzpEjRw7s3r1bCcDNmzfj8ccf5yEQO36SaBMJBBABLdFCni4OoAnnUDwS0CrqtHxe7IiYAtCGAtA9D6C7AJTon6SBkb2AdnnoQHaZCdpBAr4hoHVfHyOAvuHNVqwnoEXYaRV1Wj8v1o/Se498f9tQAMo+v5UrV6JatWpJIoDfffedSgvDRNDeHZslSIAE9BPQs69PWm8wZg3ORkUj3kNXIQAKRYRj4ytNERYq/8eHBPxPQIuw0yrq9Hxe7PgZoAC0oQDs1asXLly4gEWLFqnDH7InUE7/tmvXDo0aNeJVcP7/DqEFJBCQBPRG9cw6XRyQcDkovxPQIuzujyykfrE5E+V5pc39F5ttRy7hsZlbvI5rfs86qFs2r9dyVhegALShAJRJkTt/9+zZg6tXr6JIkSI4e/Ys6tati+XLlyNbtmxW+0mq/dGBbDMVNIQEDBNIz74+LREVw4axARIwSEBrtO5/j1ZBlw+3eu1NRN35q9EYsGCX17ITO1eFHa/Y4/vbZgIwNjYWzZs3x7Rp03D69GmV+iUuLk4dCpHDIXZ76EB2mxHaQwLpJ6A3AujqScueKr1WmdGm2GBWu3rHx/LWEtDq232b3IHJaw95NU5EXYEc4YwAeiVl7wK2uwouf/786sSv3AVs94cC0O4zRPtIQDsBs28N0WqJWVFFs9rVOi6W8x8BrdHtvk3KYvLaw14NlQhgrdJ5HL0Plu9vm0UAxetefPFFddvHO++849UJ/V2ADuTvGWD/JOBbAv7e16dln1bLioV1D9qsdnUbwgp+IaA1AvhZj9oYvHi35sNN/v68GIHJ97cNBaDc+SvJniUCWKNGjRR7/saNG2dkzn1alw7kU5xsjARsQcBfkTKt+7T0niw2q11bTBaN0ERAT3R79b6zeG7uTtWu+wl311n2aU9Uh/svIf76vGgaeBqF+P62oQBs0qRJqlMWEhKCNWvWGJ13n9WnA/kMJRsiAVsR8MdeOa1RGr2nKs1q11YTRmO8EtATrdMr6vzxefE6YC8F+P62oQA0OqlW1qcDWUmbfZFAYBPQuk9L76lKs9oN7NkIzNHpEXZOFHV6Zo3vbwpAPf6SoiwdyBA+ViYBEnAjYFakLj3tBvrLP5gdj3ObMPt8f1MAGvoeoAMZwsfKJEACbgT07NPSc7OC3nb1RIk4gSTgVAJ8f1MAGvJdOpAhfKxMAiSQjICefVp64Glt1+zTwow+6Zk1ljWTAN/fFICG/IsOZAgfK5MACXggYFYEzlu7Zp8W9tY/nYEErCTA9zcFoCF/owMZwsfKJEACqRAwK1KWVrvp2SuodQLNjixqtYPlSMBFgO9vCkBDnwY6kCF8rEwCJGAjAmadFjY7smgjhDTFQQT4/qYANOSudCBD+FiZBEjARgTMigCa1a6N0NEUBxLg+5sC0JDb0oEM4WNlEiABGxHQe1pYq+lmRRa19s9yJOCJAN/fFICGPhl0IEP4WJkESMBmBLSeFtZjNiOAemixrFUE+P6mADTka3QgQ/hYmQRIwIYEfH1a16zIog3R0SQHEeD7mwLQkLtGRUUhV65cOHHiBHLmzGmoLVYmARIgAbsQENG24+hlXLgWjfzZw1GjVG7oST6dfByr953FoIW71T/Hu/0w5N+/j+tUBfdHFrLL8GlHEBAQAVi8eHFcuXIFERERQTDilEMMiY+Pd/88BiWE9A765MmTyoH4kAAJkAAJkAAJOI+ABHCKFSvmPMN9YDEFoAGIcXFxOH36NHLkyIGQENfvsqk36PqNgxFDA9Atqsq5sgi0j7rhfPkIpAXNcK4sgOyjLgJ5riT2dfXqVRQpUgShoaE+IuasZigALZwv7jmwELbBrjhXBgFaXJ3zZTFwA91xrgzAs7gq58pi4BZ3RwFoIXB+mCyEbbArzpVBgBZX53xZDNxAd5wrA/Asrsq5shi4xd1RAFoInB8mC2Eb7IpzZRCgxdU5XxYDN9Ad58oAPIurcq4sBm5xdxSAFgKPiYnB6NGjMWTIEGTOnNnCntmVXgKcK73E/Fue8+Vf/np651zpoeXfspwr//I3u3cKQLMJs30SIAESIAESIAESsBkBCkCbTQjNIQESIAESIAESIAGzCVAAmk2Y7ZMACZAACZAACZCAzQhQANpsQmgOCZAACZAACZAACZhNgALQbMJsnwRIgARIgARIgARsRoAC0GYTQnNIgARIgARIgARIwGwCFIBmE2b7JEACJEACJEACJGAzAhSANpsQmkMCJEACJEACJEACZhOgADSbMNsnARIgARIgARIgAZsRoAC02YTQHBIgARIgARIgARIwmwAFoNmE2T4JkAAJkAAJkAAJ2IwABaDNJoTmkAAJkAAJkAAJkIDZBCgAzSbM9kmABEiABEiABEjAZgQoAG02ITSHBEiABEiABEiABMwmQAFoNmG2TwIkQAIkQAIkQAI2I0ABaLMJoTkkQAIkQAIkQAIkYDYBCkCzCbN9EiABEiABEiABErAZAQpAm00IzSEBEiABEiABEiABswlQAJpNmO2TAAmQAAmQAAmQgM0IUADabEJoDgmQAAmQAAmQAAmYTYAC0GzCbJ8ESIAESIAESIAEbEaAAtBmE0JzSIAESIAESIAESMBsAhSAZhNm+yRAAiRAAiRAAiRgMwIUgDabEJpDAiRAAiRAAiRAAmYToAA0mzDbJwESIAESIAESIAGbEaAAtNmE0BwSIAESIAESIAESMJsABaDZhNk+CZAACZAACZAACdiMAAWgzSaE5pAACZAACZAACZCA2QQoAM0mzPZJgARIgARIgARIwGYEKABtNiE0hwRIgARIgARIgATMJkABaDZhtk8CJEACJEACJEACNiNAAWizCaE5JEACJEACJEACJGA2AQpAswmzfRIgARIgARIgARKwGQEKQJtNCM0hARIgARIgARIgAbMJUACaTZjtkwAJkAAJkAAJkIDNCFAA2mxCaA4JkAAJkAAJkAAJmE2AAtBswmyfBEiABEiABEiABGxGgALQZhNCc0iABEiABEiABEjAbAIUgAYIx8XF4fTp08iRIwdCQkIMtMSqJEACJEACJEACVhGIj4/H1atXUaRIEYSGhlrVra36oQA0MB0nT55E8eLFDbTAqiRAAiRAAiRAAv4icOLECRQrVsxf3fu1XwpAA/ijoqKQK1cuiAPlzJnTQEusSgIkQAIkQAIkYBWBv//+WwVwrly5goiICKu6tVU/FIAGpkMcSBxHhCAFoAGQrEoCJEACJEACFhLg+xugADTgcHQgA/BYlQRIgARIgAT8RIDvbwpAQ65HBzKEj5VJgARIgARIwC8E+P6mADTkeHQgQ/hYmQRIgARIgAT8QoDvbwpAQ46n1YFu376N2NhYQ32xcvoIZMyYEWFhYemrzFokQAIkQAIBSUDr+zsgB//voLgH0MDsenMgyTN09uxZdcqIj/8IyEntQoUKMVej/6aAPZMACZCArQh4e3/byliTjHGkANywYQPGjh2LHTt24MyZM1iyZAnatWuXBNH+/fvxyiuvYP369ZCEzRUqVMCiRYtQokQJVS4mJgaDBw/G/PnzcePGDdx3332YOnWqrnxA3hxIbBPxV6BAAWTNmpUCxCQnTq1ZEeDXr1/H+fPnVbqewoULW2wBuyMBEiABErAjAW/vbzva7GubHCkAV6xYgU2bNqFGjRro0KFDCgF4+PBh1KpVCz169MBjjz2mUrWIIKxZs6YSY/I899xzWLZsGebMmYO8efPixRdfxKVLl5So1LpkmJYDybLvwYMHVX/SPh//Ebh48aISgeXKldM8t/6zlj2TAAmQAAmYTYACMAD2AMoVbMkjgJ07d4bs/fr00089+pDk7cufP7/6eadOnVQZudJNkkIuX74cLVq00OR7aTlQdHQ0jhw5glKlSiFLliya2mMhcwhIhPfo0aMoXbo0wsPDzemErZIACZAACTiGAAVgAApAWe6ViN/LL7+MjRs34pdfflEv/iFDhiQuE69Zs0Yt+UrEL3fu3IkOW6VKFVVm+PDhmpxYiwCk6NCE0tRCLjHOuTAVMxsnARIgAccQoAAMQAEohy5kr5fsuRs5ciSaNGmClStX4rXXXsPatWtx7733Yt68eejevbvaB+j+NG/eXInF6dOne3RiKe9ex3WVjKebQCg67PM9wLmwz1zQEhLwJ4HbcfHYduQSzl+NRoEc4ahVOg/CQkMMm2RWu4YNYwOpEqAADEABKEu5RYsWVXv/ROi5njZt2iBbtmzq0Ed6BeCwYcM8RgeDQQA2btwYVatWxYQJExz3lUIB6Lgpo8Ek4HMCK/ecwfBl+3AmKjqx7cIR4Rj6UCRaVkz/ATGz2vU5ADaYhAAFYAAKwJs3byqhN3ToULzxxhuJEy4ngmVJWA6PpHcJ2B8RQLv8ZqlHAK5bt05FXi9fvqxO3/r7oQD09wywfxLwLwERac/N3Yn4ZGa4Yn/TnqieLhFoVrv+pRUcvVMABqAAFNetV68eypYtm+QQSPv27dVhDIn+uQ6BzJ07Fx07dlTeLilbihUr5vNDIEb2ndnpN0sKwOD4UuQoSSDQCMgv0Q3GrEkS+XMfo4jAQhHh2PhKU+3LwfHxuP3PRTw98UuE/3MaRUL+Qu6Qq/jxdmVsjy8PIATpajfQ4Nt4PBSADhWA165dw6FDh5RrVatWDePGjVMRpzx58qg8f3IqWE73TpkyJXEP4MCBAyGRqQYNGqh6kgbmm2++UWlgpJ7kBJR0Ib5KA2M06uTP3yz/+ecfxefLL79Ejhw5FBtJmeNaApbT0xMnTsSBAwdUtLVp06ZqaVhS3rhO27p/7rt166Y4y15M2Ze5Z88elY6lbt26qh0R62Y+RufCTNvYNgmQgLkEfjp8EY/N3OK1k/k966Bu2WQpu87uAc7+BkSdBKKO//tf+ftJIPa6xzZ3xZXBh7cexIq4WriNMHhs16s1LGA2AQpAhwpA1xJjcgdxCQ3591mzZmH06NE4efIkypcvr/butW3bNrGKKxG0RATdE0FLKhitj1mngE35jVXroAD06dNHCT5hKDdoyAEaSaj99NNPK6En/y4HbYSr5Nd74YUX1GlqSaEj+Q+XLl2Khx9+WAnEnDlzqsirnMz+4osvVDLsypUrQ0T8W2+9pQTjrl27EBoaqsNCfUUpAPXxYmkSCCQCS3edwoAFu7wOaWLnqmhbtWhCuZirwHdvADvmpFnvfHwunIrPh1PxeZXYaxm6HZlDEq79PBmfD7NvtUT1dv3xYE2JCvKxEwEKQIcKQLs4kVkC0NBvrAbhiDCTxNWffPJJYo5ESZcjy+O9evXyeAhk+/btKvH21atXkT17dhVp1bIH8MKFCypq+Ntvv6FixYoGLU+9OgWgaWjZMAnYnoDu79MjPwJL+wBXjieMrVRDIHdJIKI4EFEs8b9bLmZB51m/JBl/XkSha4bV6Bq2GnlDrqqf3cqYHRlqdgdq906oz8cWBCgAKQANOaJZAjBdv7EaGsl/lXfv3q2Weo8dO5Z4bZ78VJbaJYWORAAlt6KciJbInYhDyb0oV67t3bsXkZGRqQpAuaHlzTffxJYtW/DXX3+perLc/O233+KBBx7w0QhSNkMBaBpaNkwCtifgWlE5GxWd4hCIGJ+4V29QHYT9MBzY9m8asIgSQLspQOlGHseYVruZcRMPh/2IZzOtRMn4Uwn1Q8KACu2Ben2BItVszy3QDaQApAA05ONmCUDdv7EaGkXSyt4E4Ntvv61uN5Gcib1791Y3qhw/flzdniLCUMRjahFAEYeyxC5JuosUKaIEoET+PN3l7MMhgQLQlzTZFgk4j4BrT7VY7n4S2HUKeH5LoM6vbwKXDicMrsZTQPORQOYcaQ7WW7vTulRFy8x7gM2TgKM//teWRBXbf8CIoB9diQKQAtCQ+5klADX/xqrn1JrGkcoSsByKcT8hLelcZAm4Z8+e6Nq1K+655x4l+lz7JaWs/LtLAG7evBn169dXUT7XPchywCZfvnzYsGEDGjZsqKyRtDzydwpAjZPDYiRAAukm4CmrQsmcoZhdajXK/DEbiI8DchQB2k4C7mimuR/N2RpO7wJ+mgLs/RKIuwXkKgk89Q2Qq4TmvljQdwQoACkADXmTWQJQjPL6m2U681ZpGbCcAJYDHXLYo2DBgnj99ddV7sQePXqov4sYHDBggIoAyonel156CQcPHkwUgKdOnVLicPbs2WppVw6ByM0sst+vVatWKkejCMhXX30Vsn+QAlDLrLAMCZCAUQLueVVL3zyISttfRciF3xOarfI40HI0kEV/7lJd+VovHQE+bQ9cPgLIMnO3r4E8pY0OjfV1EqAApADU6TJJi5spAF0i0IzM9d4GLVFA9zQwL774otqn50oDI7epyMlgyZ1YvXp1dc+y3LTiigBK+yNGjMDUqVNx7tw5PPnkkyoNzPfff4/+/fvjzz//VCeI33//fUh+QQpAbzPCn5MACfiMwK2bwIaxwI/vAfG3gWwFgIcmAneZtw85he1/nwY+fgi4eAjIWSxBBOY1Nx2Wz/gFSEMUgBSAhlzZbAEoxun6zdLQaAK3MvcABu7ccmQkoIvAzesJ0bcT/+YFrNABePA9IGueFM2Y/t179WyCCPzrIJCjMNDtGyDfHbqGw8LpJ0ABSAGYfu8BYIUANGQgKysCFIB0BBIgAcTFAYufAvYtBcIjEqJ+cirXw6N5X59RrNfOAx+3AS7sB7IXBLotA/IzZ6BRrFrqUwBSAGrxk1TLUAAawmdZZQpAy1CzIxKwL4E1IxOWfkMzJiy5lqyXqvgz497gVMH881eCCDy/F8iWP0EEFrjbvhwDxDIKQApAQ65MAWgIn2WVKQAtQ82OSMCeBHYvBJb0SrCt3TSg6uMe7fTbLUz/XAQ+bZtw7VzWvMCTXwOFzEuOb89JstYqCkAKQEMeRwFoCJ9llSkALUPNjkjAfgSOb0nYa3f7JtDgBaDZsFRtNDsHa5r7Cq9fStifeGYXkCU38ORSoHAV+/EMEIsoACkADbkyBaAhfJZVpgC0DDU7IgF7Ebh8FJh5H3D9L+Cu1kDHT4E07h038xYmTfsKb1wB5nYATu1I2KfY9SugaHV7MQ0QaygAKQANuTIFoCF8llWmALQMNTsiAfsQiI4CPmoOSJ4/iaR1XwFkypamfWZFAF15Xd1vIRFDXDeRTHPP6yp2z30EOLkNtzLmwOa6M5CxZG3UKp0HYaGuGvbB7FRLKAApAA35LgWgIXyWVaYAtAw1OyIBexC4fQuY3wk49H1CipWea4CcRbzaZsYtTOnZV7j6lz+Q/+uuqBq/H3/HZ0WrmNGIiyiOoQ9FomXFwl7HwQLeCVAAUgB695I0SlAAGsJnWWUKQMtQsyMSsAeB5S8D26YDGbMmRP6KVNVsl69vYdIbVXT1nwXRmJfpbVQNPYyfbkeiS+xriEcokkQLNY+KBZMToACkADT0qaAANITPssoUgJahZkck4H8C22YCywcn2NFpLnD3Q7pt0rRfT2OrevYVtq5cBA3GrMGZqGjVesmQs1ieaQiyhcRgRGwXzLr9IApFhGOjCffAaxxOwBSjAKQANOTMgSoA5Xo217VvhgAZrHz9+nV07doVq1evxtWrV3H58mVl18CBA9UfrQ8FoFZSLEcCDicgS76fdUy44k1O+8qp33Q+vroJRE8EUEx9bOa/t5T8a/fjYT9gVMaPEBOfEa1vvo0/4othfs86qFs2bzpHxmpCgAKQAtDQJ4ECUD++devWoUmTJkrM5cqV9qXr06ZNw9ChQ7FmzRrky5cPBQsWxF9//YVs2bIha9asqvOQkBCvdwlTAOqfJ9YgAacQcAm1G6f2oNGPjyND7DWgaheg7RT5gvD7MPTsK/zm19MYsGBXMpvjMSvjWDQN24W9cSXR7uYI/K/zPWhbtajfx+ZkAygAKQAN+S8FoH58egTg4MGDsX37dqxfvz7VjigA9c8Ba5BAoBBwLdXGRJ3HV5neRInQC/glJBLn2y9Ai8olbTNMrfsKU4sW5sdlrMr8CvKEXMPkW21Ro/t4RgANzi4FIAWgIRcKZAFYsWJCFvq5c+ciLCwMzz33HEaMGKEibjdv3sQbb7yBzz77DFeuXIGUHTNmDGTpWJ5jx46hb9++2LhxoypbqlQpjB07FpGRkShdunQS5t26dcOcOXNSzIO05S787r33Xoh4lLZcS8Dyd+nL9ZQsWRJHjx5N0RYjgIbcnJVJwGcEfLWsKgb9l1rlvwjZsbgCaH/z/3AZOW13WELLvsK0ooWtQrdiWqaJuI1QdbAlrGQdn81LMDZEAUgBaMjvdQvA+Hgg9rqhPtNVWU7C6VgKEfG1Y8cO9OjRQwm/n3/+Gb169cKECRPQs2dPdOnSRQmtd955B0WKFFFLsCIIf/vtN9x5551o3bq1En7vvfeeWq7dt28fcubMifr162Pp0qV4+OGHceDAAfVvWbJkQURERIphXbp0Ca+++ir27NmDL7/8EpkyZUKePHmSCMALFy6gQIECmD17Nlq2bKmEav78+SkA0+UkrEQC5hLQIoC0WuCeWuWB0C2Ymul9xMRnKbZF9QAAIABJREFUQOubo9QeOVn4teNhCS0COK1o4biMU9E+bCOQuzTQeyOQObtWZCyXjAAFIAWgoQ+FbgF48x9glPdcVIaM8lT5tdNeE6C6VxMBeP78eezdu1dF/OQRMfb1119j2bJlSuSdPHlSiT/X06xZM9SqVQujRo1C5cqVlciT/XvJHz1LwBLp27Vrl4r8uR73CKD8G5eAfe4tbJAEfE5AVyJkDb27lkqz4zp+yDwYBUOuYOKtDhh/65EktZ16WCI1sTyiRTE0W9ce+PsUcM/TQOvxGmixiCcCFIAUgIY+GYEsAMuUKYNZs2Yl8pHI3SOPPKKWhDt37qwie+5PTEwMOnTogIULF+LDDz9UkUMRhCIMRQyKKJTHkwCUpeRnn302sbkVK1agYcOGaqmXAtCQi7IyCfidQHoSIXsz2pVaZWiGj9E9wyr8GVcIrW6+gxhkSlJ1Yueqjj0skWq08M91wCdtE8bZZTFw5/3ecPHnHghQAFIAGvpg6BaADloCTksAyhKwRAdlydX9yZ49OwoVKqT+6cSJE/j222/x3Xff4ZtvvlHLwf369fMoACXFy7lz5xKbKlq0qFoapgA05J6sTAK2IKAnDYrW1CbS5qgP52FppjcRGhKPLjeHYFNcpRTjdWoE0OvErXgV2DoNyF4Q6LMFyJrHaxVXAS3L0Jobc3BBCkAKQEPuq1sAGurNusqyBCz760TkuZ4hQ4ao/XtfffUVypcvjw0bNqgonZZH6ooY/PXXX7F582a1F1DSueTNm3YeKy0CUPYGzp8/X0UZU3t4CETLLLEMCZhDQE8iZK2pTW7fisUfb9fCXfF/4qvb9TAwtm8S4+26B9BnhGNvANPvBf46AES2Ax6do2mfty/3YfpsLH5qiAKQAtCQ6wWyAJRDIHLgQ5Zmd+7cqf4uUTz5/yeeeAKbNm1S/1+tWjUl5iRXX6VKlfDAAw+oyF2rVq1Qrlw5le9PloNl754sD586dQrFixdXBzekrET6JHLo6dEiAKUPWWZ+6623kDlzZuTOnTtFUxSAhtyclUnAEAEzIoDYMg1Y+Sqi4rOiWcx7uID/DpK5Mv8F/JVpp38BPmwGxN0COswEKndMc558vQ/TkFPYoDIFIAWgITcMZAFYoUIFxMXFYd68eWqpV4SfHPCQQxexsbEYOXIkPvnkEyXoJElznTp1MHz4cCUCZalX9vHJQRE56SsndMePH58Y8ZN0MlOnTlXLvk8++aTHNDAyMVoEoBxKGTRokDqVLEvHTANjyKVZmQR8TkBPIuSwUA2Jm/8+DUyuCdy8hr3Vh+GZvZUTr04T4wtHhGPoQ5FoWbGwz8diuwbXjQHWjQIyRwB9NgMRxTyaaMY+TNux0GkQBSAFoE6XSVo8UAWgISg2rMwIoA0nhSYFFQGtiZA1QVnYFdj/NVCsJvD0d7iNEGw7cgnnr0ajQI5w1CqdB5qEpKbObF7o9i1gVnPg1A5cKVQP62vPQIGcWVMwMCUKa3M03syjAKQA9OYjaf6cAtAQPssqUwBahpodkUCqBHyy/+zgKmBeRyAkDHh2A1AoIWF9MD8bftqMWqvaIhw3MSz2Scy53TJFFNSMfZhOZ04BSAFoyIcpAA3hs6wyBaBlqNkRCaRJwNAJVMmjOqUOEHUcqNcPaD4y6Gm7IqtPhH2HERnn4Gp8FjSOGYdL/+6JdO2DZAQwpatQAFIAGvoCoQA0hM+yyhSAlqFmRyRgHoHVQ4FNE4CI4sDzW3UltzfPKP+17L6vLwRx+DrTG6gUehQf37ofQ291T3IbiljZYMwanI2KRrwHkwP+1LSHMVMAOlQASgoSuVtWTqqeOXNGXUXWrl07j5/E3r17Y/r06eoQghwqcD1yOrV///7qdgt52rRpg0mTJiFXrlyaP9EUgJpR+bUgBaBf8bNzEjBO4Nw+YHrDhBOvnecDdz1gvE2Ht5A8qlc3dC/mZ3obsfFhaH7zXRyJTzgE48qF6NN9mA5nJ+ZTADpUAMoJU0lDUqNGDXX7RGoCUP5dTqZKTruXXnopiQCUNCVySnXGjBnKleWuW0lVIqdKtT5aBKC0KalO+PiPwI0bN9Tp4NKlSyM8PNx/hrBnEiAB/QTi4oDZLYETW4G7WgOdP9PfRgDW8LSv76OMY3Ff2C9Yebsmese+oEbtfhuKT/ZhBghLCkCHCkB3/0vtLlhJT1K7dm2sWrUKDz74oBJ/rgjg/v37ERkZiS1btqgy8sjf69ati99//10lOtbypOVAt2/fxsGDB1GgQAGvCY+19MUy6Sdw8eJFdbex5AxMfntJ+ltlTRIgAUsI7JgDLBsAZMwG9N2WaqoTS2yxUSee9vXdEXISqzK9grCQeDwS8xZ+jr8rMQLoMt3QPkwbjd+oKRSAASoAJX+dJAdu27YtBgwYoCJ77gJQ7riV3HFXrlxJ4kOy/CtLxd27d9fkW94cSJanpQ8RgVmzZlU59PhYRyA+Ph7Xr19X4k/mtnDhIMgLZh1e9kQC5hO4dgGYfA8QfQVo/jZQL+mNH+YbYN8eUsuvOCrDTDyeYS12xt2B58PHYOOr9wVPWhwd0+Xt/a2jKccWDYmXt6SDH08RwNGjR2Pt2rUq+ic/Ty4AJaHxnDlzVITO/ZEIkYg/ubrM0xMTEwP543rEgeRWi6ioKJXwOPkjaM+ePZtCaDoYtyNNF/EndxRTgDty+mh0MBP48lng1wVAoUpAz3VAWIZgppFi7J729eXHZazLPAjZQmLwS50JqNZSW0Aj2MBSAAZgBFAOhsiSr1xfVqRIEeXTvhKAw4YNU3sKkz+pCUBXOVkOltsz+FhPIGPGjFz2tR47eyQB4wSObgTmPAjIedZnfgCK1TDeZgC24Glf3xvZvsIztxcBuUsBz28DMmQOwJEbGxIFYAAKwAkTJqjl3dDQ0ETvEAEm/y/ROjkMkN4lYL0RQGPuydokQAIkEKQEZGHqo/uBk9uBGt2BhyYEKQhtw06xr69oJoRNrgFcOwe0GA3U7aOtoSAqRQEYgAJQNvzL3jv3p0WLFujatata3pUDHq5DIFu3bkWtWrVUUfm73Gfrq0MgQfQ54lBJgARIwLcEXDd+ZMgCDNgF5Cjk2/aDoTXX4ZksuYH+u4As2lOcBQMeCkCHCsBr167h0KFDykerVauGcePGoUmTJsiTJw9KlCiRwneTLwFLAUkDc/r0aZUjUB5JA1OyZEmfpYEJhg8Qx0gCJEACPicgaV9m3Auc/RWo1x9oPsLnXQRFg3JP8Af1gQu/k6OHCacAdKgAXLdunRJ8yZ9u3bqpwx3JH08CUBJB9+vXL0ki6MmTJ/ssEXRQfMFwkCRAAiTgawL7lgKLngQyZQcG/Apky+vrHoKnPVckNSwz0O9nIFfKAEnwwEg6UgpAhwpAuzgsHcguM0E7SIAEAoJA3G1gWr2EqFWjl4GmrwfEsPw2CNlL+fFDwNEfgUodgYdn+s0Uu3XM9zcFoCGfpAMZwsfKJEACJJCUwO6FwJJeQHhEQvSP+9aMe8jpX4AZjRPa6bUOKFLNeJsB0ALf3xSAhtyYDmQIHyuTAAmQwH8EbscCk2sCl48ATd8EGg0mHV8R+KIn8NsioFRDoNsygJcS8C5gSbDk9ETQvvp8pKcdCsD0UGMdEiABEvBAYMfHwLL+QNZ8wIDdQObsxOQrAleOA5PuAW7HAI8vAsq18FXLjm2H728KQEPOSwcyhI+VSYAESCCBwK0Y4P3qwN8ngRajgLrPk4yvCXz3JrD5fSD/XUDvTV5vVQn0O4P5/qYANPQRowMZwsfKJEACJJBAYOsMYMVLQI7CQP9fgIxZSMbXBG5cAd6vCty4DDw0EajxVKo9eLpdpHBEOIY+FImWFQPjTnW+vykADX3E6ECG8LEyCZAACQA3rycIE7m14sH3gJrPkIpZBH6aCqwaAmQvCPTb6XGZ3XW/cHwyG0L+/f9pT1QPCBHI9zcFoKGPGR3IED5WJgESIAFg00Rg9VsJOer67gAyZCIVswjcuglMkYM2R4EmbwD3vpSkJ1n2bTBmDc5ERXu0QERgoYhwbHylKcJCXZLQLGPNbZfvbwpAQx5GBzKEj5VJgASCnUD038DEKsCNS0DbqUC1LsFOxPzx/7YY+KIHIFfEDdyTJAr40+GLeGzmFq82zO9ZB3XLOjtBN9/fFIBeHT2tAnQgQ/hYmQRIINgJrH8XWPs2kPcOoM9WrwcTgh2XT8YvybYl3c6lw8D9I4D6/RObXbrrFAYs2OW1m4mdq6Jt1aJey9m5AN/fFICG/JMOZAgfK5MACQQzgeuXEqJ/MX8DD38EVHokmGlYO/Zf5gJLnweyFQAG/pp46IYRQGunwd+9MQ+ggRmgADQAj1VJgASCm8D3w4GN44ACFYDeG4HQ0ODmYeXoJen2+9WAqBPAA/8DavVUvbv2AJ6NikbyQyDyc+4BtHKSzO+LAtAAYwpAA/BYlQRIIHgJXLsATKwMxF4HOs8D7noweFn4a+TbZgLLBwM5iyWk3vn38I3rFLCY5S4CeQrYXxNlXr8UgAbYUgAagMeqJEACwUtg5WvAlikJ99L2XMuryfzhCbHRCSJc0u+0mQxU75poBfMA+mNCrO+TAtAAcwpAA/BYlQRIIDgJ/H0amFg14VqyJ74A7mgWnBzsMOrNk4Dv3gDylAGe357kEA5vArHDBJlrAwWgAb4UgAbgsSoJkEBwEvhmEPDzR0CJekD35Yz++dMLYq4BEyom3A4SZAdx+P7mKWBDHz06kCF8rEwCJBBsBK6cSDh8EBcLPLUcKFU/2AjYb7zrxwJrRwL57wae2xw0h3H4/qYANPRhpAMZwsfKJEACwUZgxSvA1g+AUg2Bp74JttHbc7xyR/CESgnpeDp9Btzd2p52+tgqvr8pAA25FB3IED5WJgESCCYCkvdvfIWEk79dlwBlmwbT6O091h/+D/jxPaBwVaDXuqBYluf7mwLQ0IeSDmQIHyuTAAkEE4F17wDrRgOFKgPPbggKkeGY6f3nr4QooIjzIDmYw/c3BaChzycdyBA+ViYBEggWAjf/AcbLYYNLwCOzgIoPB8vInTPOlUOALVOBEnWBp1c6x+50Wsr3NwVgOl0noRodyBA+ViYBEggWAls+AFa+AuQuBfTdwTt/7TjvKj1PFeD2zaA4oMP3NwWgoY8hHcgQPlYmARIIBgLu1449+B5Q85lgGLUzx7hsILBjNlCmCfDkV84cg0ar+f6mANToKp6L0YEM4WNlEiCBYCCweyGwpBeQLT8w8DcgY5ZgGLUzx3j5KPB+dSD+NvDMGqBYDWeOQ4PVfH9TAGpwk9SL0IEM4WNlEiCBQCcQHw9Mqwec3wc0fRNoNDjQR+z88S3pDeyeD5R/AHhsvvPHk8oI+P6mADTk3HQgQ/hYmQRIINAJHFwFzOsIZMoOvLAHyJI70Efs/PFdOAhMqQUgHui9CShU0flj8jACvr8pAA05Nh3IED5WJgESCHQCs1oBxzcDdfsCLd4O9NEGzvgWdQP2fQVU6AA8OjtwxuU2Er6/KQANOTYdyBA+ViYBErApgdtx8dh25BLOX41GgRzhqFU6D8JCQ/RZe2Ib8NH9QGhGYOCvQM4i+uqztP8InP0N+KABgBCg73Yg353+s8Wknvn+pgA05Fp0IEP4WJkESMCGBFbuOYPhy/bhTFR0onWFI8Ix9KFItKxYWLvF8x8HDnwLVHsCaDtFez2WtAeBeZ2AgyuBql2AdlPtYZMPreD7mwLQkDvRgQzhY2USIAGbERDx99zcnbL7K8njiv1Ne6K6NhF44cC/+8hCgOe3AfnL2WykNMcrgRPbgY+aAaEZgP6/ALlKpFrFJxFjrwb5tgDf3xSAhjyKDmQIHyuTAAnYiIC8xBuMWZMk8udunojAQhHh2PhKU+/LwV/1AXZ9BtzVGuj8mY1GSVN0Efi4DXBkPVCnD9BytMeqPosY6zLMeGG+vykADXkRHcgQPlYmARKwEYGfDl/EYzO3eLVofs86qFs2b+rlok4l3CgRFwv0+B4oXtNrmyxgUwJ/fA989vC/p7j3AllyJTHUZxFjPwyf72+HCsANGzZg7Nix2LFjB86cOYMlS5agXbt2yoViY2PxxhtvYPny5fjzzz8RERGBZs2a4Z133kGRIv9tQr58+TL69++Pr7/+WtVr06YNJk2ahFy5kjp4Wn5JB/LDp5ZdkgAJmEJg6a5TGLBgl9e2J3auirZVi6ZebtXrwE+TgZINgO7fem2PBWxMQPI4Tq0LXNgPNBsONBiYaKxPI8Z+QMD3t0MF4IoVK7Bp0ybUqFEDHTp0SCIAo6Ki8Mgjj6Bnz56oUqUKROgNHDgQt27dws8//5zoZq1atcLJkycxY8YM9W+9evVCqVKlsGzZMs2uSAfSjIoFSYAEbE7AJxHA65eACZWAm9eALouBO++3+ahpnlcCv8wFlj4P5CgCDNgNZMikqvjEX7x2bl4Bvr8dKgDdXSIkJCSJAPTkLtu3b0etWrVw7NgxlChRAvv370dkZCS2bNmC2rVrqyry97p16+L3339H+fLlNXkdHUgTJhYiARJwAAFXROdsVHSKQyBivqY9gOvHAmtHAgUrAr03AiE6U8c4gFPQmXgrJkHUXzsHtJ8BVOmkEPgsYuwnoHx/B4kA/P7779G8eXNcuXIFOXPmxKxZszBo0CD1/+6PLP+OHz8e3bt39+iSMTExkD+uRxyoePHikKijtMuHBEiABJxMwLWnS8bgfhJY0yng2BvA+IrA9b+ADjOByh2djIK2uxPYMBZYMxIoVAl49kcl7BkBdL6LhMTHyyK/cx9vEcDo6Gg0aNAAd911F+bOnasGOmrUKMyZMwcHDx5MMvBy5cop8TdkyBCPQIYNG4bhw4en+BkFoHP9h5aTAAkkJZDuU53bZgLLBwMRJRLShoRlINpAISBL++MrALHXgSeXAmUawycRYz/yYQQwwCOAciDk0UcfxfHjx7Fu3brEKF16BSAjgH78tLJrEiABywjozut2+xYwqTpw5RjQaixQu5dltrIjiwh8OxjYPhO4437gicWqU0MRY4vMTq0bCsAAFoAi/jp27KhOAq9ZswZ58/6XtiC9S8DJHYkO5OdPMLsnARKwB4HfFgNf9ACy5gUG7gEyZbWHXbTCdwQuHgYm1UjYHNBnC1Dg7kQR6JObY3xnqaaW+P4OUAHoEn9//PEH1q5di/z58ydxCNchkK1bt6rDIfLI3+vUqcNDIJo+OixEAiRAAv8SkF1E0xsCcn9s49eAxq8QTaASWPgEsH9Ziuv9dEeMbcCHAtChAvDatWs4dOiQcqFq1aph3LhxaNKkCfLkyYPChQurNDA7d+7EN998g4IFCya6mvw8U6aEI+ySBub06dOYPn26+n9JA1OyZEmmgbHBB5MmkAAJOIjAkQ3Axw8BGbIAg/YBWfM4yHiaqovA8a3ArOZAWKaESG+O/96vutqxQWEKQIcKQNnPJ4Iv+dOtWzfIQY3SpUt7dC+JBjZu3Fj9TPID9uvXL0ki6MmTJzMRtA0+mDSBBEjAQQTmdQIOrgTu6QG0Huczw50YVfLZ4O3c0IfNgJPbgUYvAU3fsLOladpGAehQAWgXj6MD2WUmaAcJkIBfCPx1CJgs+8IA9N0B5LvDJ2ak+ySyT3pnI2kS2LcUWPQkkCU38MJeIFM2RwLj+5sC0JDj0oEM4WNlEiABpxP4ZhDw80dAuVbA4wt8Mhon3y/rEwB2byTudsKJ78tHgQf+B9TqaXeLPdrH9zcFoCHHpQMZwsfKJEACTiYgueHGRQK3bgDdvgFKNzQ8GqffL2sYgFMa2DodWPEykKcM0PdnIDTMKZYn2sn3NwWgIaelAxnCx8okQAJOJrDhf8CaEUluhzA6HKffLmF0/I6pH3MtITF09BWg02fA3a0dY7rLUL6/KQANOS0dyBA+ViYBEnAqgVs3/70f9izQfjpQpbNPRuL0+2V9AsEpjXw/HNg4DiheB+ixyilWMwLoNlOOvwrOn15HAehP+uybBEjAbwR2LwCWPAtkLwQM/A3IkJBey+jDCKBRghbW//tMwi8BcbHAMz8Axe6xsHPjXfH9zQigIS+iAxnCx8okQAJOJOCe+Pm+t4CGL/psFE6/X9ZnIJzS0Fd9gF2fAZHtgI4fO8VqZSff3xSAhhyWDmQIHyuTAAk4kYAr8XPGrAlpQHyc+NnJ98s6cToN2XxuLzCtHhASCvT/BchdylBzVlbm+5sC0JC/0YEM4WNlEiABJxKY1xk4uMLniZ/dUTAPoIMc49P2wOE1QO3eQKsxjjGc728KQEPOSgcyhI+VSYAEnEbApMTPnjDwJhCHOIeIPxGBGbMBg/YmJIh2wMP3NwWgITelAxnCx8okQAJOI2BC4menIaC9yQjIntAPGgDn9gD3DQUaDnIEIr6/KQANOSodyBA+ViYBEnASARMSPztp+LQ1DQK75gFfPefzU+FmMuf7mwLQkH/RgQzhY2USIAEnEfjxPeCH//Np4mcnDZ+2pkEgSV7IGUCVTrbHxfc3BaAhJ6UDGcLHyiRAAk4hYFLiZ6cMn3ZqILBhLLBmJFC4CtBrPRASoqGS/4rw/U0BaMj76ECG8LEyCZCAUwiYlPjZKcOnnRoI/HMRGC93Q0cDTy0HStXXUMl/Rfj+pgA05H10IEP4WJkESMAJBFTi50bA2V8BHyd+dsLwaaMOAssGADvmAHe1Bjp/pqOi9UX5/qYANOR1dCBD+FiZBEjAYgLpSq1y5Efg49aASYmfLUbA7swkcOEAMKUWgBCg/04gTxkzezPUNt/fFIB0IEMEWJkESMApBNKdXNmCxM9OYUg7NRCY+zBw6HvbJ4amAKQA1ODNqRehAxnCx8okQAIWEXBdrxafrD/XNv1pT1RHy4qFU1pjYeJni1CwG7MJHPoBmNsByJQdGLQPCI8wu8d0tc/3NwVguhzHVYkOZAgfK5MACVhAQJZ9G4xZgzNR0R57ExFYKCIcG19pirDQZCc3v30R2P4hUK4V8PgCC6xlF44nIHtGp9YFLuwHmo8E6vWz5ZD4/qYANOSYdCBD+FiZBEjAAgI/Hb6Ix2Zu8drT/J51ULds3v/KaUz8nK59hV6tYQFHE9jxMbCsPxBRHOi/CwjLYLvh8P1NAWjIKelAhvCxMgmQgAUElu46hQELdnntaWLnqmhbteh/5TQkfk73vkKv1rCAownE3gDGVwCuXwQenQNUaG+74fD9TQFoyCnpQIbwsTIJkIAFBNIVAZTEzxMrA1fPAO0+AKo+lsLSdO8rtGDM7MIGBNa8DWx4FyhWC3hmtQ0MSmoC398UgIackg5kCB8rkwAJWEDAtQfwbFQ0kh8Cke497gHcvRBY0ivVu10N7Su0YMzswgYErp4DJlQEbt8EnvkBKHaPDYz6zwS+vykADTkkHcgQPlYmARKwiIArWifduYtAj6eAZRP/jHuBM7uBpm8CjQansDJdUUWLxspubERgyXPA7nlAhQ7Ao7NtZBjA9zcFoCGHpAMZwsfKJEACFhLQvF/v6CZgzgNAhiwJaTyy5klhZbr3FVo4XnZlAwJnfwM+aACEhAEDdgO5itvAqAQT+P6mADTkjHQgQ/hYmQRIwGICmk7szn8cOPAtUKM78NAEjxYyAmjxxDm5uzmtgaM/AvX6A81H2GYkfH9TABpyRjqQIXysTAIkYDcCFw8Dk2okLBQ/vx3IX86jhenaV2i3sdIeawgcWAHM7wxkjkiIKGfObk2/Xnrh+5sC0JAj0oEM4WNlEiABuxFY/jKwbTpwZ3Ogy+dpWqdrX6Hdxkl7rCMQFwdMvge4dBhoNRao3cu6vtPoie9vCkBDjkgHMoSPlUmABOxE4MYVYFwkEPsP0PUroGwTr9Zp3lfotSUWCGgC22YCywcDecoAfXcAoaF+Hy7f3xSAhpyQDmQIHyuTAAnYicCmicDqt4ACFYDnNgEhya6FS8VWTfsK7TRO2mI9gZhrwPhIIDoK6DwfuOsB621I1iPf3w4VgBs2bMDYsWOxY8cOnDlzBkuWLEG7du0Spzc+Ph7Dhw/HjBkzcPnyZdSuXRtTpkxBhQoVEsvIv/fv3x9ff/21+rc2bdpg0qRJyJUrl2bHpANpRsWCJEACdiZwOxaYWBX4+yTQdgpQ7Qk7W0vbnEjguzeBze8DpRoCT33j9xHw/e1QAbhixQps2rQJNWrUQIcOHVIIwDFjxmDUqFGYPXs2ypUrh5EjR0JE44EDB5AjRw7leK1atcLJkyeVSJSnV69eKFWqFJYtW6bZMelAmlGxIAmQgJ0J/LYY+KIHkC0/MHAPkDHcztbSNicSiDoJTKgMxN8Gnv0RKFzZr6Pg+9uhAtDda0JCQpIIQIn+FSlSBAMHDsQrr7yiisbExKBgwYIQYfjss89i//79iIyMxJYtW1R0UB75e926dfH777+jfPnymhyTDqQJEwuRAAnYmYAkfv7wPuDUDqDxa0DjhO9NPiTgcwKfdwf2fglUeQxo/4HPm9fTIN/fASgA//zzT5QtWxY7d+5EtWrVEv2hbdu2ann3448/xqxZszBo0CBcuXIlib/Iz8ePH4/u3bt79CMRkvLH9YgDFS9eHFFRUciZM6ce32NZEiABErAHgeNbgVnNgbDMwAt7gez57WEXrQg8Aid/TvhlIzQj8MIeIEchv42RAjAABeDmzZtRv359nDp1SkUCXY8s8R47dgyrVq1Sy8Nz5szBwYMHkzifLBeL+BsyZIhHpxw2bJjaW5j8oQD022eYHZMACRglsLArsP9roFpXoO1ko62xPgmkTeDD+4GT24BGLwFN3/AbLQpACkBdApARQL99VtkxCZCAGQQuHwXerwbExwF9tgAF7jajF7ZJAv8R2LsE+PwpIEuehIhzpqx+oUMBGIAC0Mwl4OReSgfyy+eWnZIACfiKwMrXgC1TgLJNga5LfNUq2yGB1AncvgVMqgZcOQ48OA6o2cMvtPj1yemoAAAgAElEQVT+DkAB6DoE8sILL+Dll19WjnXz5k0UKFAgxSGQrVu3olatWqqM/L1OnTo8BOKXjyI7JQESsJxA9N8JiZ9vXgW6fAHc2cxyE9hhkBLYMg1Y+SqQ946EKwf9kBiaAtChAvDatWs4dOiQ+uTIQY9x48ahSZMmyJMnD0qUKKGE3ujRo1UamDvvvFPt+Vu3bl2KNDCnT5/G9OnTVTuyR7BkyZJMAxOk30ccNgkEHYGfpgCrXgPy35Ww/Ksx8XPQceKAfU8g5iowrgIQ47/E0BSADhWAIuZE8CV/unXrpg53uBJBi7hzTwRdsWLFxCry7/369UuSCHry5MlMBO37jzpbJAESsBsB92W4hyYCNZ6ym4W0J9AJyK0zcvtMyfpA9+WWj5YC0KEC0HJPSaVDOpBdZoJ2kAAJ6CKw9yvg825A1rwJG/EzZtFVnYVJwDCBqFPAxMpA3C2g51qgaHXDTeppgO9vCkA9/pKiLB3IED5WJgES8BeBj5oDJ7YCjV4Gmr7uLyvYb7AT+LIX8OtCoOLDwCOzLKXB9zcFoCGHowMZwsfKJEAC/iDgSsYblinh2rccBf1hBfskAeDMbmB6IyAkDBiwG8hV3DIqfH9TABpyNjqQIXysTAIk4A8CiddxPQ60n+YPC9gnCfxHYE5r4OiPQN2+QIu3LSPD9zcFoCFnowMZwsfKJEACVhO4cgKYWAWIvw303ggUqmS1BeyPBJISOLgKmNcRyJQDGLQXCI+whBDf3xSAhhyNDmQIHyuTAAlYTWDV68BPk4HSjYBuy6zunf2RQEoCcXHA1NrAXweB5iOBev0socT3NwWgIUejAxnCx8okQAJWErhxBRhfAbh5DeiyGLjzfit7Z18kkDqBHXOAZQOAnMWAAbuAsIym0+L7mwLQkJPRgQzhY+X/b+9OwKMo8v+Pf5JwhCMEOeVS+bGgIiCHoAiiKAKuB3iB4sl6LbiKrgerriv8V0V0f4LrIqcLKAv40/UCERQRFAFBEAURXRGRIyzIETlykGT+T/WQkITA9KRmOp2Zdz8PD0qquqpf9R3qS013NQIIeCmweJQ0f5hUr6U0aAkbP3tpT1vHFziUGfzHycFfpKtfllpfE3Ux5m8SQKsgI4Cs+KiMAAJeCeRkS6NbS/u3S31ektrd4FXLtIOAO4GFz0gLR0gN2kp3Loz6P1CYv0kA3QXmMUoRQFZ8VEYAAa8EvvyX9M5gKaWBNORrqUIlr1qmHQTcCRz4JbgKmJMp3fqedEpXd/VKWYr5mwSwlKETrEYAWfFRGQEEvBAIBKSXOks7v5V6DJe63udFq7SBQPgC5j5Acz9gi0ukATPDrx9GDeZvEsAwwuXoogSQFR+VEUDAC4HvP5CmX+v5NhteXBptxJjAzu+lMR2DF/WHL6Q6zaN2gczfJIBWwUUAWfFRGQEEvBAoo412vbg02ohBgen9pe/nSh0GSpePjtoFMn+TAFoFFwFkxUdlBBCItsDWVdLE7lJiheCrtlIbR7tFzo+AncDGT6Wpl0kVkqX7v5Gq1bE73zFqM3+TAFoFFgFkxUdlBBCItsDrt0rfvCW1uU66any0W+P8CNgLmHtWJ5wffE9w98ek8x+2P2cJZ2D+JgG0CiwCyIqPygggEE2B3RulF9tLgTzp959JJ7aKZmucG4HICXz9uvTm7VK1utJ9a6WKyZE79+EzMX+TAFoFFQFkxUdlBBCIpsCch6TlE6RmF0k3vRnNljg3ApEVyD0UfGf1r1ulK16U2t8c2fOzi4fjmRAImPVWjtIIkACWRo06CCAQdYGDu4N7qh06KN30ttSse9SbpAEEIirw2d+lDx+X6p4mDV4W8Y2hmb9JAK3ilQCy4qMyAghES2DRs9LHT0kntpbu+jTik2e0us15ESgQyEyXnjfvrt4XlXdXM3+TAFp92gggKz4qI4BANAQOZUijWgXfq3rVJKnNtdFohXMiEH2BuY9Ky8ZIZ14vXTkuou0xf5MAWgUUAWTFR2UEEDiGQG5eQMs37taOfZmql5KsTk1rKSkxwZ3XF5Ol2fdJqU2ke7+Ukiq6q0cpBDwQcBvbptzqtWuVs2WV8ppfok7N6rr/DLi4DuZvEkAXYXLsIgSQFR+VEUCgBIG5a9M0fNY6paVnFvy0QWqynri8pXq3anB8s7y84JsUdv0g9RohdR6MMQK+EXAb227L2VwY8zcJoE388C5gKz0qI4BAcQEz8Q2atkrFn8zLX/sbe2P74yeB386WXrtBSk6V7l8nVa4OMgK+EHAb227L2V4UCSAJoFUMEUBWfFRGAIFCAuYrr64jFxRZ+SsMZJLAE1OTtXjohcf+KuzlntLmz6Wuf5R6PIEvAr4QcBvbix7qrvOf+9juM+Dyipm/SQBdhkrJxQggKz4qI4BAIYGlG3bp+onLQprMuOMcdW5W++hyP38u/bOnlFRJum+NlHJiyHNRAAEvBNzG9uOXnq6/vvdtyC4d8zMQsuaRAszfJIBhhMvRRQkgKz4qI4BAIYF3Vm/VkJmrQ5q8cF1b9Wnb6OhyM2+Q1s+W2t0k9flHyPNQAAGvBNzG9s2dT9YrSzeF7NYxPwMha5IAFiZiI+gwAqZ4URJACzyqIoBAEQG3qyQlrn788oP0j7Mkc/fg3culuqeii4BvBNzGNiuA3g4ZCaCFNwmgBR5VEUCgiED+fVLb0zOPegjEFDzuPYCzhkgrp0gteksDXkMWAV8JuI3t/HsAS/UZCPOKmb/5CjjMkClanACy4qMyAggUE8h/AtL8ceEngY/7FPC+/0qjW0u5WdKtc6RTuuCKgO8E3Ma223K2F8j8TQJoFUMEkBUflRFAoASBsPdA++BxacnfpcYdpds+5LVvRJVvBdzGtttyNhfK/E0CaBM/7ANopUdlBBA4loDbtyXo4O7ga98OHZAG/J/UoheoCPhawG1suy1X2oslAYzhBDAnJ0fDhg3Tv/71L23fvl0NGjTQrbfeqj//+c9KTEx0YiYQCGj48OGaMGGC9uzZo7PPPltjxozRGWec4SqmCCBXTBRCAIFoCSx4SvrkWenE1tJdn7L6Fy1nzhtzAszfMZwAPvXUUxo1apSmTp3qJHRffPGFBg4cqCeffFJDhgxxgnnkyJF6+umnNXnyZLVo0cL52SeffKLvvvtOKSkpIQOeAApJRAEEEIiWQGa6NKq1lJUu9XtFatknWi1xXgRiToD5O4YTwMsuu0z169fXyy+/XBC4V199tapWrapXX33VWf1r2LCh7rvvPg0dOtQpk5WV5dQxieFdd90VMuAJoJBEFEAAgWgJfPI3acFfpTqnSoOXSYe/2YhWc5wXgVgSYP6O4QTwmWee0bhx4/TBBx84q3tfffWVevbsqdGjR+v666/Xjz/+qGbNmmnVqlVq165dQVz36dNHNWvWdFYOQx0EUCghfo4AAlERyD4QvPcvY7d01USpTb+oNMNJEYhVAeZvjxPAW265Rbfddpu6desW9ZgyK3yPPvqos5qXlJSk3Nxcma+FH3nkEaftJUuWqEuXLtq6dauzEph/3Hnnndq0aZPmzZt3VB/NCqH5lX+YAGrSpInS09NVo0aNqF8TDSCAAALBv8D+IX3wmHRCU+kPX0hJFYBBAIEwBEgAPU4AzVews2fP1kknneTcj2cSwkaNSnilURiDeKyiM2fO1EMPPaTnnnvOuQdw9erVzte9zz//vNNuaRJA81CJeWik+EECGIEB4xQIIOBO4FCm9EIbaf9/pStelNrf7K4epRBAoMgCTmpqalwv4Hj+JpBdu3Zp2rRpmjJlitauXasePXo4q4Lmq9eKFStGLDzNytyf/vQn3X333QXnNA95mLbXr19fqq+AWQGM2PBwIgQQKK3A8onSnAelGo2le7+UKlQq7Zmoh0DcCrAC6PEKYPFI+/LLL/XPf/5TkyZNUvXq1XXjjTdq8ODBat68uXVQ1q5d23mqd9CgQQXnGjFihPPE7/fff1/wEMj999+vhx9+2CmTnZ2tevXq8RCItT4nQACBqAjkZEsvtpfSN0u//ZvU6Y6oNMNJEYh1ARLAMkwA09LS9MorrzgJ2ZYtW2S+HjZ/9vHHH+vZZ5+VScxsDrPn3/z58zV+/HjnK2CTbJr7+373u985CZ45zO/5SaFJOs2WMAsXLmQbGBt46iKAQPQEVr0qvfsHqXp9achXUsUq0WuLMyMQwwIkgB4ngIcOHdK7777rJH3m6dw2bdro9ttv14ABAwoeojD37plVO7Mxs82xb98+Pf7443rrrbe0Y8cO50EP8/TvX/7yF1WqFPzKJH8jaJMkFt4IulWrVq6aJoBcMVEIAQQiIZCbI43pKO3+Uer5pHTuPZE4K+dAIC4FmL89TgDr1KmjvLw8JxG744471LZt26MCzyRi7du318aNG30flASQ74eIDiIQOwJfvy69ebtUpZZ03xqpcvXYuTauBAGPBZi/PU4AzQbM1157rZKTkz0e6ug0RwBFx5WzIoBAMYG8PGlsZ2nneunCP0vdHoIIAQQsBJi/PU4ALcbKl1UJIF8OC51CIPYE1r0r/d9NUuVU6f41UnJqwTXm5gW0fONu7diXqXopyerUtJaSEhNiz4ArQiCCAszfJIBW4UQAWfFRGQEE3AgEAtL4btL2r4Mrf2YF8PAxd22ahs9ap7T0zII/a5CarCcub6nerRq4OTtlEIhLAeZvEkCrwCeArPiojAACbgS+/0Cafq1UsVrw3r9qtZ1aJvkbNG2VAsXOkb/2N/bG9iSBbnwpE5cCzN8kgFaBTwBZ8VEZAQRCCZjVv5cvlrasCD71a57+lWS+9u06ckGRlb/CpzJJ4ImpyVo89EK+Dg5lzM/jUoD5mwTQKvAJICs+KiOAQCiBHxdJr1whJVUOrv6l1HdqLN2wS9dPXBaqtmbccY46NwuuGHIggMARAeZvEkCrzwMBZMVHZQQQCCUw5TLpp0+lTndKv32uoPQ7q7dqyMzVoWrrhevaqk/b6LxvPWTjFEDAxwLM3ySAVuFJAFnxURkBBI4n8PMy6Z+9pMSKwXf+1mxSUJoVQEIHATsB5m8SQKsIIoCs+KiMAALHE5h2tfTDfKn9zdIVLxYpmX8P4Pb0zKMeAjEFuQeQ0ELg+ALM3ySAVp8RAsiKj8oIIHAsgU1LpMmXSIkVpD+skGr9z1El858CNj8o/CQwTwETVgiEFmD+JgEMHSXHKUEAWfFRGQEEShIwT/6a5O/npVKHgdLlo4/pxD6AhBACpRNg/iYBLF3kHK5FAFnxURkBBEoS+M+H0r+ukSokB+/9q9HwuE68CYQwQiB8AeZvEsDwo6ZQDQLIio/KCCBQXMC883eCeevHmiL7/gGFAAKRFWD+JgG0iigCyIqPygggUFxg7b+lN34nVUqR7vtaqloLIwQQiIIA8zcJoFVYEUBWfFRGAIHCArk50phO0u4N0gWPShcMxQcBBKIkwPxNAmgVWgSQFR+VEUCgsMDKqdKse6WqdaQhq6XKKfgggECUBJi/SQCtQosAsuKjMgII5AscypRebC/9ulXqNULqPBgbBBCIogDzNwmgVXgRQFZ8VEYAgXyBpWOkeY9KNRpL96yUKiZjgwACURRg/iYBtAovAsiKj8oIIGAEsvZJL5wpHdwVfOOHefMHBwIIRFWA+ZsE0CrACCArPiojgIARWDhSWvi0VPs30uDPpaQKuCCAQJQFmL9JAK1CjACy4qMyAggc2BVc/cveJ10zWWp1FSYIIOCBAPM3CaBVmBFAVnxURgCBeY9JS/8hndhGunORlJiICQIIeCDA/E0CaBVmBJAVH5URiG+B9K3S39tJuVnSDW9IzS+Obw+uHgEPBZi/SQCtwo0AsuKjMgLxLTBriLRyinTSudLAOVJCQnx7cPUIeCjA/E0CaBVuBJAVH5URiF+BXRukf3SUArnSwLnSyZ3j14IrR6AMBJi/SQCtwo4AsuKjMgLxK/DGbdJa87VvT+mG1+PXgStHoIwEmL9JAK1CjwCy4qMyAvEpsH2NNK5r8Nrv+lRq0CY+HbhqBMpQgPmbBNAq/AggKz4qIxCfAtP7S9/Plc64Srp2cnwacNUIlLEA8zcJoFUIEkBWfFRGICYEcvMCWr5xt3bsy1S9lGR1alpLSYnHeKDj58+lf/aUEpKku5dLdX4TEwZcBALlTYD5mwTQKmYJICs+KiNQ7gXmrk3T8FnrlJaeWXAtDVKT9cTlLdW7VYOi15eXJ718sbT1i+Dr3sxr3zgQQKBMBJi/YzwB3Lp1q4YOHar3339fGRkZatGihV5++WV16NDBCbhAIKDhw4drwoQJ2rNnj84++2yNGTNGZ5xxhquAJIBcMVEIgZgUMMnfoGmrFCh2dflrf2NvbF8kCcz7croS3xmknApVtbrPArU747RjrxTGpBgXhYB/BJi/YzgBNAldu3bt1L17dw0aNEj16tXThg0bdMopp6hZs2ZOFI4cOVJPP/20Jk+e7CSHTz75pD755BN99913SklJCRmpBFBIIgogEJMC5mvfriMXFFn5K3yhJgk8MTVZi4de6CR5H375H7V7p4fqaK+eOXSdxuVeoWOuFMakGBeFgL8EmL9jOAH805/+pM8++0yffvppiVFnVv8aNmyo++67z1klNEdWVpbq16/vJIZ33XVXyGglgEISUQCBmBRYumGXrp+4LOS1zbjjHKVnZGvjzIc0qMIsbcyrr17ZzypbFXWslcKQJ6UAAghYCzB/x3AC2LJlS/Xq1UtbtmzRokWL1KhRIw0ePFh33HGHEzg//vijsxK4atUqZ6Uw/+jTp49q1qypqVOnhgwwAigkEQUQiEmBd1Zv1ZCZq0Ne26h+Z2r63IWaljVElRNydFv2A/ooL3gLijmKrxSGPCEFEEAgIgLM3zGcACYnJztB8sc//lHXXnutVqxYoSFDhmjcuHG65ZZbtGTJEnXp0kXmPkGzEph/3Hnnndq0aZPmzZt3VJCZFULzK/8wAdSkSROlp6erRo0aEQlKToIAAv4XcLsC+Pilp+ukD27TxUmrtCi3jW45ZL5tOPoJYbNS2LlZbf9fOD1EIEYESABjOAGsVKmSzjrrLCfRyz/uvfdeJxFcunRpqRLAYcOGOQ+NFD9IAGPkbwQuAwGXAvn3AG5PzzzqIZDCK3t/a/+Luiy9U4cCSeqd/Yw2BBqV2MIL17VVn7Yl/8xllyiGAAJhCJAAxnACePLJJ+viiy/WpEmTCkJi7NixzoMeZtWvNF8BswIYxqeLogjEuED+U8DmMgs/CZy/vjduQGudN7+vqv66QZNyLtGTOTcdU4QVwBgPFi7PdwIkgDGcAA4YMECbN28u8hDI/fffr88//9xZ/ct/CMT82cMPP+wEZ3Z2tvO0MA+B+O6zSocQ8KXAcfcB3PemNO9R7VYNXZD5v/pV1Y66Bu4B9OWw0qk4ECABjOEE0HzVe+655zpf2fbr10/Lly93HgAxe/7dcMMNTnibRG/EiBHONjDNmzd3toRZuHAh28DEwYefS0QgUgIlvgnk4C/Si+2lrF+1tsNfdflnwa2nSlopLL5fYKT6xXkQQODYAiSAMZwAmmGfPXu2HnnkEf3nP/9R06ZNnQdC8p8Cdv4yPrwR9Pjx44tsBN2qVStXnxsCyBUThRCIP4F375FWvSI1OFO642PNXbfD/RtD4k+LK0bAcwHm7xhPAKMdUQRQtIU5PwJlIxDW+32Ld3Hbl9KE7sH1vt/Nk046xylhdc6yYaBVBGJWgPmbBNAquAkgKz4qI+BLgbDe71v8CgIB6Z+9pc3LpNbXSlcfeQjNlxdLpxCIUwHmbxJAq9AngKz4qIyA7wTCfb/vURfw9evSm7dLFatKf/hCSmVrF98NMh1CQBLzNwmg1QeBALLiozICvhII9/2+R3U++4D04lnSvm1S9z9L5z/kq+ujMwggcESA+ZsE0OrzQABZ8VEZAV8JuH27xzH37Pvor9Knf5NqniTdvVyqWMVX10dnEECABLBwDCQEzKOwHKUSIAEsFRuVEPClgNv3+5b41o7dG6UxZ0u5WVK/V6WWV/jyGukUAggEBZi/WQG0+iwQQFZ8VEbAVwJWK4Azb5DWz5aadpNufldKOPp9v766WDqDQJwLMH+TAFp9BAggKz4qI+ArAbfv91089EIlJRZK8H6YL027WkpIkn6/WKrf0lfXRWcQQOBoAeZvEkCrzwUBZMVHZQR8JxDq/b5HvbUja5/0UmcpfbN09iDpkmd8d010CAEESABLigHuAbT4ZJAAWuBRFQGfCoS1D+B7D0grJgUf/Bi0VKpc3adXRbcQQKCwAPM3K4BWnwgCyIqPygj4VsDVWzt++kya8tvgNdz8jvQ/F/j2eugYAggUFWD+JgG0+kwQQFZ8VEag/ApkH5TGdZF2/yi1v1m64sXyey30HIE4FGD+JgG0CnsCyIqPygiUX4EP/iwteVFKaSjdvUxKTi2/10LPEYhDAeZvEkCrsCeArPiojED5FNiyUnq5hxTIk65/TTq1d/m8DnqNQBwLMH+TAFqFPwFkxUdlBMqfQE6WNP58aee3Uut+0tUTy9810GMEEGAjaJEAWn0MSACt+KiMQPkT+PhpadFIqWqd4OveqtUuf9dAjxFAgASQBNDuU0ACaOdHbQTKlcD2NdKEC6S8HOmayVKrq8pV9+ksAggcEWD+ZgXQ6vNAAFnxURmB8iOQmyNNukhKWy2ddpnUfxqveys/o0dPEThKgPmbBNDqY0EAWfFRGYHyI7B4lDR/WPBpX/PVb8qJ5afv9BQBBEgAS4gB3gRi8cEgAbTAoyoC5UXgl/9IY7tIuVlS37FS2wHlpef0EwEEjiHA/M0KoNWHgwCy4qMyAv4XyMuVJl8ibf5c+k0P6YY3+OrX/6NGDxEIKcD8TQIYMkiOV4AAsuKjMgL+F1g2Tpo7VKpUXRq8TKrZxP99pocIIBBSgPmbBDBkkJAAWhFRGYHyK7DnJ+mlztKhg9Kl/yt1vL38Xgs9RwCBIgIkgCSAVh8JAsiKj8oI+FcgL096ta+0cZF0chfpltlSYqJ/+0vPEEAgLAHmbxLAsAKmeGECyIqPygj4VyD/qd8KVaRBn0m1m/m3r/QMAQTCFmD+JgEMO2gKVyCArPiojICnArl5AS3fuFs79mWqXkqyOjWtpaTEhKP78PMyafJvpUCudPnfpQ63eNpPGkMAgegLMH+TAFpFGQFkxUdlBDwTmLs2TcNnrVNaemZBmw1Sk/XE5S3Vu1WDI/04uFsad5706xap1TXS1ZN46tezUaIhBLwTYP4mAbSKNgLIio/KCHgiYJK/QdNWKVCstfy1v7E3tg8mgYGANON66fv3pVrNpLsWSZVTPOkjjSCAgLcCzN8kgFYRRwBZ8VEZgagLmK99u45cUGTlr3CjJgk8MTVZi4deqKRlY6QPHpOSKku3z5catIl6/2gAAQTKRoD5mwTQKvIIICs+KiMQdYGlG3bp+onLQrYzq2+yWn/QT8rLYcuXkFoUQKD8CzB/kwBaRTEBZMVHZQSiLvDO6q0aMnP1cdupof1adsIwVc3YJrXsI107lfv+oj4yNIBA2Qowf8dJAvjMM8/okUce0ZAhQzR69Ggn6rKysvTggw9qxowZysjI0EUXXaSXXnpJjRs3dh2VBJBrKgoiUCYCoVcAAxpXcbR6J62QTjhFuusTKTm1TPpKowgg4J0A83ccJIArVqxQv379VKNGDXXv3r0gARw0aJBmzZqlKVOmqHbt2nrggQe0e/durVy5UklJSa6ikAByxUQhBMpMIP8ewO3pmUc9BGI6dWvSPA2rOFWBxIpKuO0DqVH7MusrDSOAgHcCzN8xngDu379f7du3d1b2nnzySbVt29ZJANPT01W3bl29+uqr6t+/vxNx27ZtU5MmTTRnzhz16tXLVRQSQK6YKIRAmQrkPwVsOlH4SeDWCT/qjUrDVDkhR+o9Ujrn92XaTxpHAAHvBJi/YzwBvOWWW1SrVi2NGjVKF1xwQUECuGDBAucrX7Pid8IJJxRE3Jlnnqm+fftq+PDhrqKQAHLFRCEEylyg+D6AKTqo95MfU2P9VzrtMqn/NO77K/NRogMIeCfA/B3DCeDMmTP11FNPyXwFnJycXCQBnD59ugYOHOjcB1j46Nmzp5o2barx48eXGIWmfOE6JoDMqqFZUTRfMXMggIB/BQreBPJrhrqsflh1Nr0npZ4k/f4TqcqRfwj69wroGQIIREqABDBGE8DNmzfrrLPO0ocffqg2bYJ7eRVeASxtAjhs2LASVwdJACP1keQ8CHggsOJl6b0/SokVpIFzpSYdPWiUJhBAwE8CJIAxmgC+/fbbuvLKK4s8zJGbm6uEhAQlJiZq3rx56tGjR9hfAbMC6KePL31BoBQCaV9Lk3pIuVnSxX+VutxbipNQBQEEyrsACWCMJoD79u3Tpk2bisSn+cr3tNNO09ChQ52vbc1DINOmTXOeEDZHWlqaswUMD4GU9481/UfgGAL7d0qTLpL2bpKa95KunyklJsKFAAJxKEACGKMJYEmxXPgrYPNzsw3M7NmznW1gzIMiZk/AXbt2sQ1MHP5FwCXHgcChDGnq5dKWw/v93fGxVLVWHFw4l4gAAiUJkADGcQKYvxG0uR+w8EbQZnXQ7UEAuZWiHAJlKJCXJ/37d9I3bwU3eb5tvlS3RRl2iKYRQKCsBZi/4ygBjEawEUDRUOWcCERYYP5wafHzUmJF6aa3pKbnRbgBTocAAuVNgPmbBNAqZgkgKz4qIxB9gVWvSu/+IdhO37FS2wHRb5MWEEDA9wLM3ySAVkFKAFnxURmB6Ar8uFCadrWUlyN1e1i68LHotsfZEUCg3Agwf5MAWgUrAWTFR2UEoiewY730ck8pK11qdY109STe9BE9bc6MQLkTYP4mAbQKWgLIio/KCERHYP+Ow9u9/Cw1OUe6+R2pYnJ02uKsCCBQLgWYv0kArQKXAMj27eMAACAASURBVLLiozICkRcw271MuUza+oV0QlPp9o+karUj3w5nRACBci3A/E0CaBXABJAVH5URiKyA2e7ljVulde9IyTWDyV+d30S2Dc6GAAIxIcD8TQJoFcgEkBUflRGIrMD8YdLiUcHtXm5+Wzqla2TPz9kQQCBmBJi/SQCtgpkAsuKjMgKRE1g5VZp1+L2+V46XzrwucufmTAggEHMCzN8kgFZBTQBZ8VEZgcgI/Ge+NKN/cLuX8/8kdX8kMuflLAggELMCzN8kgFbBTQBZ8VEZAXuBH0zyN0DKzZJa95OumsB2L/aqnAGBmBdg/iYBtApyAsiKj8oI2AkUTv5Ou0y6ZrJUoZLdOamNAAJxIcD8TQJoFegEkBUflREovcAPH0kzrg+u/J16qXTtFJK/0mtSE4G4E2D+JgG0CnoCyIqPygiUTsAkfzMHSDmZJH+lE6QWAnEvwPxNAmj1ISCArPiojED4AhsWBFf+SP7Ct6MGAggUCDB/kwBafRwIICs+KiMQnsCGj6UZ1x1O/n4rXTuVr33DE6Q0AggcFmD+JgG0+jAQQFZ8VEbAvUDh5K/FJVK/V0j+3OtREgEEigkwf5MAWn0oCCArPioj4E6A5M+dE6UQQMC1APM3CaDrYCmpIAFkxUdlBEIL/LhQmt4/+LVvi96HV/4qh65HCQQQQOA4AszfJIBWHxACyIqPyggcX8BJ/sw9fxkkf8QKAghEVID5mwTQKqAIICs+KiNwbIFvZ0v/vj2Y/DXvJfV/VarAyh8hgwACkRFg/iYBtIokAsiKj8oIHC0QCEhL/yF98LikACt/xAgCCERFgPmbBNAqsAggKz4qI1BUIDdHmvOgtHJy8M/Puk265FkpqQJSCCCAQEQFmL9JAK0CigCy4qMyAkcEMn+VXr9V2vCRpASp11PSOYOlhASUEEAAgYgLMH+TAFoFFQFkxUdlBIICe38OPum7Y51Usap09STptEvRQQABBKImwPxNAmgVXASQFR+V40wgNy+g5Rt3a8e+TNVLSVanprWUlLYq+KTvgR1S9ROlATOlhu3iTIbLRQABrwWYv0kArWKOALLio3IcCcxdm6bhs9YpLT2z4Kqvq75aTwX+rqTcTKl+K2nAa1Jq4zhS4VIRQKCsBJi/SQCtYo8AsuKjcpwImORv0LRV5pnew0dAdyS9p0cqzFBiQkA7T+ymugOnS5VTCkqUuFqYyP2AcRIyXCYCURdg/iYBtAoyAsiKj8pxIGASua4jFxSs/FVQjv5fhSkaUGGBc/Wv5FysCVXv1KI/XaykwwleSauFDVKT9cTlLdW7VYM4UOMSEUAg2gLM3ySAVjFGAFnxUTkOBJZu2KXrJy5zrrSu9mpUxTHqmvSN8gIJ+mvOjZqc29t56nfGHeeoc7PaOnq1MIiUv/Y39sb2JIFxEDdcIgLRFmD+JgG0ijECyIqPynEg8M7qrRoyc7XOT/xKf6s4VnUTftXBQGXde+gPmp/XoUDgheva6rI2DYusFhbnMUngianJWjz0woLVwjgg5BIRQCAKAszfJIBWYUUAWfFROQ4Eln2fpq9feUB3VnjPudpv85ronkP36IdA0Yc9zAqgOfJXC49Hk79amF+G+wXjIJC4RAQiLMD8HcMJ4IgRI/Tmm29q/fr1qlKlis4991yNHDlSp556akEYZWVl6cEHH9SMGTOUkZGhiy66SC+99JIaN3b3JCIBFOFPJKeLLYFdGxR443dKSFvtXNeUnJ4akTNAWapUcJ2FV/Vmf73NWS0MdZjVwj5tGznFuF8wlBY/RwCBkgSYv2M4Aezdu7euu+46dezYUTk5OXrssce0Zs0arVu3TtWqVXPiYdCgQZo1a5amTJmi2rVr64EHHtDu3bu1cuVKJSUlhfzUEEAhiSgQjwLmfb5fzZTee0A6dEDZlVJ19/7bna98jzwJfPR9fYXvF3SzAsj9gvEYXFwzApERYP6O4QSweIjs3LlT9erV06JFi9StWzelp6erbt26evXVV9W/f3+n+LZt29SkSRPNmTNHvXr1ChllBFBIIgrEm4B5pZtJ/Nb8X/DKTzlPumqC5v6ccNQ+gMWf7M1/Ynh7emaRRDGfsPBqofmzwk8XF2fmfsF4CzyuF4HwBJi/4ygB/OGHH9S8eXNnFbBVq1ZasGCB85WvWfE74YQTCiLnzDPPVN++fTV8+PCjosl8ZWx+5R8mgEzCaJLJGjVqhBd9lEYg1gS2rJT+/Ttpz09SQpLU/RGp6x+lxOBqupt79fJX9Uz5SK4Wxho114MAAnYCJIBxkgAGAgFdccUV2rt3rz799FMnaqZPn66BAwcWSejMn/fs2VNNmzbV+PHjj4quYcOGlZgYkgDafRCpXc4F8vKkJX+XFvxVysuRUk+SrnlZatKpVBfm5r6+/KeLQzVQ+H7BUGX5OQIIxI8ACWCcJIB333233nvvPS1evLjgAY/SJICsAMbPXw5cqUuBHd9Ks/8o/bwkWOGMK6XLRktVaro8QcnFQq0Whnu/oFVnqIwAAjEnQAIYBwngPffco7fffluffPKJs7KXf5TmK+DinwACKOb+TuCC3ApkH5AWjZSWjgmu+lWsJl3yjNTuJikh+q9sC+d+wfw3jLi9NMohgEDsCzB/x3ACaL72NcnfW2+9pYULFzr3/xU+8h8CmTZtmvr16+f8KC0tzVkh5CGQ2P/wc4UWAuvfk94fKqVvDp7ktMukS0ZKqe62T7JouUhVt/cLRqo9zoMAArEjQAIYwwng4MGDnfv83nnnnSJ7/6Wmpjr7AprDbAMze/ZsZxuYWrVqOXsC7tq1i21gYuczzpVEUmDPpmDi9/37wbPWPEm65DnpVPM6t7I53NwvWDY9o1UEEPCzAAlgDCeACcf4Gmry5Mm69dZbnbjM3wjaJIqFN4I2T/a6OQggN0qUKfcCOdnS0n9Ii56VcjKkxIrSufdI3R6SKlUt88sLdb9gmXeQDiCAgO8EmL9jOAH0ItoIIC+UaaNMBX5aHNzXb+f6YDdO7ipd9rxU98gbdcq0fzSOAAIIlEKA+ZsEsBRhc6QKAWTFR2U/C/y6Tfro/0lfzQj2smodqddTUpv+RR7yYPXNz4NI3xBA4FgCzN8kgFafDgLIio/KfhTYv1NaPEpaMUnKNZueJ0gdbpV6PCFVObJhuuk699/5cQDpEwIIuBFg/iYBdBMnxyxDAFnxUdlPAgd3S0telD4fJx06GOzZSZ2lnk9Kjc86qqe8h9dPg0dfEEAgXAHmbxLAcGOmSHkCyIqPyn4QMO/uXTY2+JBH1q/BHjVsL134Z6nZhSXu6Ze/B19aemaJV8B7eP0wsPQBAQSOJ8D8TQJo9QkhgKz4qFyWAmYj5+UTpM9ekDL2BHtSv5XU/THp1EuOu5kzb+Eoy4GjbQQQiIQA8zcJoFUcEUBWfFQuC4FDmdLKydKn/ysd2BnsQZ0W0gWPSC37SomJIXvFe3hDElEAAQR8LsD8TQJoFaIEkBUflb0UOPCLtHJK8OGOfWnBlk84JZj4tb5WSkxy3RtWAF1TURABBHwqwPxNAmgVmgSQFR+VvRDYvib4YMfXrx9+qldSjUbS+Q9LbW+QkiqG3Qvewxs2GRUQQMBnAszfJIBWIUkAWfFROVoCuTnSd3Okz8dLmxYfaaVhO+nsQdIZfaUKla1a5z28VnxURgCBMhZg/iYBtApBAsiKj8qRFjAPc6x6RVo+SUr/OXj2hCSpZR/pnEFS447HfbijcHfcbPDMPoCRHkDOhwACXgkwf5MAWsUaAWTFR+VICWxfG7y37+vXjuzhV6WWdNZA6azbpNRGYbUUTmLnJlEMq3EKI4AAAh4IMH+TAFqFGQFkxUdlGwHzqrY1r0tf/5/037VHzmS2cjn791Lra6SKVcJugQ2ewyajAgIIlEMB5m8SQKuwJYCs+KgcroDZtPnbWcGVvo2fSAoEz5BYUTq1t9TpLumUrq6/5i3ePBs8hzsglEcAgfIqwPxNAmgVuwSQFR+V3QjkHpI2LAgmfevnSDkZR2qZV7W16Rfcv69qLTdnO24ZtnexJuQECCBQTgSYv0kArUKVALLio/KxBMxTvJuXSeveldb+Wzr4y5GStZtLZ/YP7t1n9vGL4MEGzxHE5FQIIOBrAeZvEkCrACWArPioXFggY6/0w3zp+7nSfz6UMvce+Wm1ulKra4KrfWYrlwTztt3IH6wARt6UMyKAgD8FmL9JAK0ikwCy4qPyrg3BhO+796Wfl0p5OUdMzFO8zXsGH+b4n+5SUoWoe7HBc9SJaQABBHwiwPxNAmgVigSQFV/8Vc7JlraskL5/X/p+nvTL90UN6pwafJijxSVSk05hvZ7NDaabLVvY4NmNJGUQQKC8CzB/kwBaxTABZMUX+5VzsqStq6SfFks/fSptXl70IY7ECtLJXaQWvYOJX63/iZpJOHv7hVM2ah3mxAgggEAUBZi/SQCtwosAsuKLvcqhEj5zxVXrSL+5KJj0md+TU6PuUJq9/dysFka94zSAAAIIREmA+ZsE0Cq0CCArvvJf+cAvwRW+baukTUuOXuHLT/jM3nzOr/OkuqdG7SGOkkDZ26/8hxlXgAACkRdg/iYBtIoqAsiKr3xVztonbVsdTPZM0md+5b9vt/CVmCd2TbJnvtotg4SvOCpP9pavMKO3CCDgjQDzNwmgVaQRQFZ8/q1stmTZuV5K+/pIwuc8sHH4zRuFe2725WvUXmrcUWraTarTwtMVvlCI7O0XSoifI4BAPAowf5MAWsU9AWTFV/aVsw9Kv3wn7fhW2rHu8O/fSr9uLblvqU2C+/CZhK+h+dXWk3v4jgcV6l49VgDLPszoAQII+E+A+ZsE0CoqCSArPm8qBwLSwV3S7h8ls+/erh+Cid7Ob6XdG0te1TM9q9FYqt/ycMLXIfh79Xre9NllK26e1mVvP5eYFEMAgbgSYP4mAbQKeALIii9ylU2SZx7IMEne7g1Hkj3n/zdKWenHbqtqbaley8O/Tnd+z63TQsvT8rRjX6bqpSSrU9NaSkqMzts3SupYqFU9UyecJ3vZ2y9yocaZEEAgNgSYv0kArSKZALLic1/ZvBt33zYpfcvhX5uP/Pfew/+dve/45zMrerWaSrWbSXVNohdM9lS9bpF6blbV3Hc8/JJu2i/Nk71uzht+b6mBAAIIlE8B5m8SQKvIJYCs+CSzcpexR9q3Xdpvfu04/N//Df7+6+GkzyR/gbzjNhZQgrKrNVCles2VYDZUNr9Msmd+P+EU5SYla/nG3cdd1QtnVS2/M25W69yWddt+ae/rC6evliNLdQQQQMDXAszfJIBWAUoAlcB3KCP4day57+6g+X130f83P3MSvv8Gf+VmuxuDpEpSjUZSamPJPIyR2lhrD6Ro4teHtHZ/irYE6ipLldQgNVlPXN5SvVs1KDivm9WvaK+qhepDOO3P/nqbhsxcHdLthevaqk/bRiHLUQABBBCINwHmbxJAq5iPVgC5XalxW85cZFhlcw5p5feblb5nh+pXzNQZtQJKytorme1RMo/8npeRrl/37HRW8ZIP7VXl7D1KOHQwfNMqJ0jVT5RS6ju/51Wvr03ZKfol4QQl126qlqe3VJL5WWJikaRu0LRVR23Mkn+n3tgb2ztJYLRW1dye13TYTdnUKpV0/cRlIe1m3HGOU8Zt2c7Naoc8JwUQQACBeBOI1vxdnhwTAgHzPVz8Hi+99JKee+45paWl6YwzztDo0aN13nnnuQKJRgCFWinK71jhchWUo6rK0ik1Anqoe2Odd3JVKfuAZLY5yd6vNT9t0werf1ROxgFVS8hQdWWoXqVsdTixgupXzpbMJseHf+Vk/KoKuRmurv+YhRIrStXqSOYBi6q1lXaomhZvC2hLVlXtUg3tCNRUXrV6urFHJ13QobVUoXJUVusWPdRd5z/3sdLSM0vsqkkWT0xN1uKhFyqcVbXL2jRU15ELXJ3XNOym7MO9T9P9r7lb1ctvf3t6Zkk7E6rwdXn58Ipd0FAbAQQQ8E4gGvO3d72PTEtxnQC+9tpruummm2SSwC5dumj8+PGaNGmS1q1bp5NOOimkcKQDKH+l6KLEleqRuFLJCdmqomwlK1tVErJ1au0KSq2Qo4MH9+vA/n2qbP5c2aqYkBuyr6UpcDBQWemqpl8DVfWrqunkRg1Vr96J+ulARb317QHnZ+mBas7vewIp2q0a2h1I0XM3dFHv1g2dJt2sfuV/Xeu2rNt74B6/9HT99b1vQ156uKtq4azAuS0bTl/Nqh5P9oYcVgoggAACxxSI9PxdHqnjOgE8++yz1b59e40dO7Zg7E4//XT17dtXI0aMCDmekQygwveADUn6t+6v+O+Q7RcvcCiQpIOqrKyEZNWtXVuqVE2rt2drT04l588PBpJ1QMnapyraH6ii/aqqClVq6IlrzpEqp+jW6d9q4/4k52cHVEWHVKGgifxVpXBW1dyufpkVuHDKul2tu7nzyXpl6aaQjuZeuXBW1dy2b85rDjf3643qd6aenfedwlnVc7taHBKAAggggECcCURy/i6vdHGbAGZnZ6tq1ap6/fXXdeWVVxaM35AhQ7R69WotWrToqDHNysqS+ZV/mABq0qSJ0tPTVaNGDasYKLyq1TFhvTolrlemKjm/MgKHf1dlXXv2bzRx2fbgn5ufB8zvlXVQyUUStmitaoWzUuV29csPfQ1nVc3tCmS415WekS1zX6M5Ct+XUfy+xsKBFs69nVYBSmUEEEAghgRIAOP4IZBt27apUaNG+uyzz3TuuecWhPXTTz+tqVOn6rvvvjsq1IcNG6bhw4cf9eeRSADdvrM1nFUtt6tP4axUlXX74azW5a9WRnpVLZy3a+SvbLrtA6t6MTTDcCkIIOBbARJAEsCwEkCvVgCP94kp6xW4sm7frKqFs1pXmnvl3KyqhXPecMqasXfTvm//VqVjCCCAQDkQIAGM4wSwNF8BF4/pSAaQ21WlcFa1wll9clu2rNs39wvmP9nqdrXMbblw/84K57zhlA23H5RHAAEEEAhPIJLzd3gt+6d03N4DaIbAPATSoUMH5yng/KNly5bq06eP5w+BmPbdrhS5LRfOOcMpW9btF/74uF0tc1su3I9mOOcNp2y4/aA8AggggIB7ARLAOF4BNGGSvw3MuHHj1LlzZ02YMEETJ07UN998o5NPPjlkJEUjgNyuFLktl5/YDZ+1rsi+dSW9MSOcsmXdfsjBoQACCCCAAALHEIjG/F3esON6BdAMlln9e/bZZ52NoFu1aqVRo0apW7dursYxWgHkdqXIbTlzMdEoG41zhttXVwNFIQQQQAABBAoJRGv+Lk/IcZ8A2gwWAWSjR10EEEAAAQTKRoD5O86/ArYNOwLIVpD6CCCAAAIIeC/A/E0CaBV1BJAVH5URQAABBBAoEwHmbxJAq8AjgKz4qIwAAggggECZCDB/kwBaBR4BZMVHZQQQQAABBMpEgPmbBNAq8AggKz4qI4AAAgggUCYCzN8kgFaBRwBZ8VEZAQQQQACBMhFg/iYBtAo8AsiKj8oIIIAAAgiUiQDzNwmgVeARQFZ8VEYAAQQQQKBMBJi/SQCtAo8AsuKjMgIIIIAAAmUiwPxNAmgVeOnp6apZs6Y2b96sGjVqWJ2LyggggAACCCDgjYBJAJs0aaK9e/cqNTXVm0Z91gqvgrMYkC1btjgBxIEAAggggAAC5U/ALOA0bty4/HU8Aj0mAbRAzMvL07Zt25SSkqKEhISQZ8r/FwcrhiGpyrwAY1XmQxBWBxivsLjKtDBjVab8YTUey2MVCAS0b98+NWzYUImJiWG5xEphEkAPR5J7DjzEtmyKsbIE9Lg64+UxuEVzjJUFnsdVGSuPwT1ujgTQQ3A+TB5iWzbFWFkCelyd8fIY3KI5xsoCz+OqjJXH4B43RwLoITgfJg+xLZtirCwBPa7OeHkMbtEcY2WB53FVxspjcI+bIwH0EDwrK0sjRozQI488osqVK3vYMk2FK8BYhStWtuUZr7L1D6d1xiocrbIty1iVrX+0WycBjLYw50cAAQQQQAABBHwmQALoswGhOwgggAACCCCAQLQFSACjLcz5EUAAAQQQQAABnwmQAPpsQOgOAggggAACCCAQbQESwGgLHz7/Sy+9pOeee05paWk644wzNHr0aJ133nketU4zxxL45JNPnHFZuXKlMzZvvfWW+vbtW1DcbBY6fPhwTZgwQXv27NHZZ5+tMWPGOGPI4a2AeYDqzTff1Pr161WlShWde+65GjlypE499dSCjpib1h988EHNmDFDGRkZuuiii2Q+e/G607+3I3SktbFjx8r8+umnn5w/NJ+Xv/zlL7rkkkuc/2ecympkQrf7zDPPOA8qDhkyxJmnGK/QZuW1BAmgByP32muv6aabbnImoi5dumj8+PGaNGmS1q1bp5NOOsmDHtDEsQTef/99ffbZZ+rQoYOuuuqqoxJAk2A8/fTTmjx5slq0aKEnn3xSJmn87rvvnDfAcHgn0Lt3b1133XXq2LGjcnJy9Nhjj2nNmjXO56hatWpORwYNGqRZs2ZpypQpql27th544AHt3r3bSfCTkpK862yct2TGwHg3b95c5h9RU6dOdf6h9eWXXzrJIOPkzwBZsWKF+vXr57zbvnv37gUJIOPlz/Gy7RUJoK2gi/pm1ah9+/bOv4jzj9NPP91ZaTKrGhz+EDCv8yu8AmgmLvOaoPvuu09Dhw4t+Jdw/fr1nZWnu+66yx8dj9Ne7Ny5U/Xq1dOiRYvUrVs3paenq27dunr11VfVv39/R8W8qtG8r3vOnDnq1atXnEr547Jr1arlJIHXXHMN4+SPISnSi/379zvzlFmoMP/Qbdu2rZMA8rny4WBFqEskgBGCPNZpsrOzVbVqVb3++uu68sorC4qZ5fXVq1c7kxeHPwSKJ4A//vijmjVrplWrVqldu3YFnezTp49q1qzprGpwlJ3ADz/84KwwmVXAVq1aacGCBc5XvmbF74QTTijo2Jlnnun8Y8t8lc/hvUBubq7z998tt9zirABu376dcfJ+GEK2aMbHJOmjRo3SBRdcUJAA8rkKSVduC5AARnnozApEo0aNnK8ZzT1L+Yf5WtEkEOarRA5/CBRPAJcsWeJ8Zb9161ZnJTD/uPPOO7Vp0ybNmzfPHx2Pw16Y1dkrrrhCe/fu1aeffuoITJ8+XQMHDnTuLyt89OzZU02bNnVuveDwTsAk5p07d1ZmZqaqV6/ujM9vf/tbxsm7IXDd0syZM/XUU0/JfAWcnJxcJAHkc+WasdwVJAGM8pCRAEYZOIKnJwGMIGaUT3X33Xfrvffe0+LFiwse8GCiijJ6mKc33378/PPPzleIb7zxhnPfs/nGw3zzQaIeJmYUi2/evFlnnXWWPvzwQ7Vp08ZpqfAKIJ+rKOKX8alJAKM8AHwFHGXgCJ6er4AjiBnFU91zzz16++23nYdxzMpe/sFXVVFEj8Cpe/To4dxSYe7P5Kv6CIBG6BTms2RuTyr8kJT52t78fZiYmOh802HGjlsrIgTuo9OQAHowGOYhEPOUqbm5Nv9o2bKlzL1kPATiwQC4bOJYD4Hcf//9evjhh52zmITePHjAQyAuUSNYzHzta5I/86DOwoULnfv/Ch/5N6tPmzbNeZLRHGZrH7MFDA+BRHAgSnkqk/SZB3JeeOEF5yEQxqmUkBGutm/fPueWlsKHWaE97bTTnIffzJgxXhFG98npSAA9GIj8bWDGjRvn3BNj9pSbOHGivvnmG5188ske9IAmjiVgnnwzDxOYwzzo8fzzzzvbH5iboc0WPSbRM0m62QbGJBzm3k2TfLANjPcxNXjwYOf+sXfeeafI3n+pqanOvoDmMNtVzJ4929kGxoyh2RNw165dbAPj8XCZfeTMnn/mM2QSDHOPmdlfbu7cubr44osZJ4/HI9zmCn8FzOcqXL3yU54E0KOxMqt/zz77rLMiYZ5YNE9ama0rOMpWwCRzJuErfpgn4kwSkb8RtHmAoPBG0GYMObwVMCu0JR0mOb/11ludH+VvMGwSxcIbQZtVDA7vBG677TZ99NFHzt93JkE395aZ1SST/DFO3o1DaVsqngDyuSqtpL/rkQD6e3zoHQIIIIAAAgggEHEBEsCIk3JCBBBAAAEEEEDA3wIkgP4eH3qHAAIIIIAAAghEXIAEMOKknBABBBBAAAEEEPC3AAmgv8eH3iGAAAIIIIAAAhEXIAGMOCknRAABBBBAAAEE/C1AAujv8aF3CCCAAAIIIIBAxAVIACNOygkRQAABBBBAAAF/C5AA+nt86B0CCCCAAAIIIBBxARLAiJNyQgQQQAABBBBAwN8CJID+Hh96hwACCCCAAAIIRFyABDDipJwQAQQQQAABBBDwtwAJoL/Hh94hgICHAjt37lTr1q1177336tFHH3Va/vzzz3Xeeedp9uzZ6tmzp4e9oSkEEEAgegIkgNGz5cwIIFAOBebMmaO+fftqyZIlOu2009SuXTtdeumlGj16dDm8GrqMAAIIlCxAAkhkIIAAAsUE7r77bs2fP18dO3bUV199pRUrVig5ORknBBBAIGYESABjZii5EAQQiJRARkaGWrVqpc2bN+uLL75QmzZtInVqzoMAAgj4QoAE0BfDQCcQQMBPAmvXrnVW/w4dOqS33npLl19+uZ+6R18QQAABawESQGtCToAAArEkkJ2drU6dOqlt27bOPYCjRo3SmjVrVK9evVi6TK4FAQTiXIAEMM4DgMtHAIGiAg899JDeeOMN596/6tWrq3v37kpJSXGeAuZAAAEEYkWABDBWRpLrQAABa4GFCxfq4osv1scff6yuXbs65/v555+dewBHjBihQYMGWbfBCRBAAAE/CJAA+mEU6AMCCCCAAAIIIOChAAmgh9g0hQACCCCAAAII+EGABNAPo0AfEEAAAQQQQAABDwVIAD3EpikEEEAAAQQQQMAPAiSAI/ik4gAAAcNJREFUfhgF+oAAAggggAACCHgoQALoITZNIYAAAggggAACfhAgAfTDKNAHBBBAAAEEEEDAQwESQA+xaQoBBBBAAAEEEPCDAAmgH0aBPiCAAAIIIIAAAh4KkAB6iE1TCCCAAAIIIICAHwRIAP0wCvQBAQQQQAABBBDwUIAE0ENsmkIAAQQQQAABBPwgQALoh1GgDwgggAACCCCAgIcCJIAeYtMUAggggAACCCDgBwESQD+MAn1AAAEEEEAAAQQ8FCAB9BCbphBAAAEEEEAAAT8IkAD6YRToAwIIIIAAAggg4KEACaCH2DSFAAIIIIAAAgj4QYAE0A+jQB8QQAABBBBAAAEPBUgAPcSmKQQQQAABBBBAwA8CJIB+GAX6gAACCCCAAAIIeChAAughNk0hgAACCCCAAAJ+ECAB9MMo0AcEEEAAAQQQQMBDARJAD7FpCgEEEEAAAQQQ8IMACaAfRoE+IIAAAggggAACHgqQAHqITVMIIIAAAggggIAfBEgA/TAK9AEBBBBAAAEEEPBQgATQQ2yaQgABBBBAAAEE/CBAAuiHUaAPCCCAAAIIIICAhwIkgB5i0xQCCCCAAAIIIOAHgf8PEYSYPz0lfC4AAAAASUVORK5CYII=\" width=\"640\">"
      ],
      "text/plain": [
       "<IPython.core.display.HTML object>"
      ]
     },
     "metadata": {},
     "output_type": "display_data"
    },
    {
     "data": {
      "text/plain": [
       "(<Figure size 640x640 with 2 Axes>, GridSpec(2, 1, height_ratios=[1, 4]))"
      ]
     },
     "execution_count": 31,
     "metadata": {},
     "output_type": "execute_result"
    }
   ],
   "source": [
    "%matplotlib notebook\n",
    "result.plot()"
   ]
  },
  {
   "cell_type": "code",
   "execution_count": 52,
   "metadata": {},
   "outputs": [
    {
     "data": {
      "application/javascript": [
       "/* Put everything inside the global mpl namespace */\n",
       "window.mpl = {};\n",
       "\n",
       "\n",
       "mpl.get_websocket_type = function() {\n",
       "    if (typeof(WebSocket) !== 'undefined') {\n",
       "        return WebSocket;\n",
       "    } else if (typeof(MozWebSocket) !== 'undefined') {\n",
       "        return MozWebSocket;\n",
       "    } else {\n",
       "        alert('Your browser does not have WebSocket support.' +\n",
       "              'Please try Chrome, Safari or Firefox ≥ 6. ' +\n",
       "              'Firefox 4 and 5 are also supported but you ' +\n",
       "              'have to enable WebSockets in about:config.');\n",
       "    };\n",
       "}\n",
       "\n",
       "mpl.figure = function(figure_id, websocket, ondownload, parent_element) {\n",
       "    this.id = figure_id;\n",
       "\n",
       "    this.ws = websocket;\n",
       "\n",
       "    this.supports_binary = (this.ws.binaryType != undefined);\n",
       "\n",
       "    if (!this.supports_binary) {\n",
       "        var warnings = document.getElementById(\"mpl-warnings\");\n",
       "        if (warnings) {\n",
       "            warnings.style.display = 'block';\n",
       "            warnings.textContent = (\n",
       "                \"This browser does not support binary websocket messages. \" +\n",
       "                    \"Performance may be slow.\");\n",
       "        }\n",
       "    }\n",
       "\n",
       "    this.imageObj = new Image();\n",
       "\n",
       "    this.context = undefined;\n",
       "    this.message = undefined;\n",
       "    this.canvas = undefined;\n",
       "    this.rubberband_canvas = undefined;\n",
       "    this.rubberband_context = undefined;\n",
       "    this.format_dropdown = undefined;\n",
       "\n",
       "    this.image_mode = 'full';\n",
       "\n",
       "    this.root = $('<div/>');\n",
       "    this._root_extra_style(this.root)\n",
       "    this.root.attr('style', 'display: inline-block');\n",
       "\n",
       "    $(parent_element).append(this.root);\n",
       "\n",
       "    this._init_header(this);\n",
       "    this._init_canvas(this);\n",
       "    this._init_toolbar(this);\n",
       "\n",
       "    var fig = this;\n",
       "\n",
       "    this.waiting = false;\n",
       "\n",
       "    this.ws.onopen =  function () {\n",
       "            fig.send_message(\"supports_binary\", {value: fig.supports_binary});\n",
       "            fig.send_message(\"send_image_mode\", {});\n",
       "            if (mpl.ratio != 1) {\n",
       "                fig.send_message(\"set_dpi_ratio\", {'dpi_ratio': mpl.ratio});\n",
       "            }\n",
       "            fig.send_message(\"refresh\", {});\n",
       "        }\n",
       "\n",
       "    this.imageObj.onload = function() {\n",
       "            if (fig.image_mode == 'full') {\n",
       "                // Full images could contain transparency (where diff images\n",
       "                // almost always do), so we need to clear the canvas so that\n",
       "                // there is no ghosting.\n",
       "                fig.context.clearRect(0, 0, fig.canvas.width, fig.canvas.height);\n",
       "            }\n",
       "            fig.context.drawImage(fig.imageObj, 0, 0);\n",
       "        };\n",
       "\n",
       "    this.imageObj.onunload = function() {\n",
       "        fig.ws.close();\n",
       "    }\n",
       "\n",
       "    this.ws.onmessage = this._make_on_message_function(this);\n",
       "\n",
       "    this.ondownload = ondownload;\n",
       "}\n",
       "\n",
       "mpl.figure.prototype._init_header = function() {\n",
       "    var titlebar = $(\n",
       "        '<div class=\"ui-dialog-titlebar ui-widget-header ui-corner-all ' +\n",
       "        'ui-helper-clearfix\"/>');\n",
       "    var titletext = $(\n",
       "        '<div class=\"ui-dialog-title\" style=\"width: 100%; ' +\n",
       "        'text-align: center; padding: 3px;\"/>');\n",
       "    titlebar.append(titletext)\n",
       "    this.root.append(titlebar);\n",
       "    this.header = titletext[0];\n",
       "}\n",
       "\n",
       "\n",
       "\n",
       "mpl.figure.prototype._canvas_extra_style = function(canvas_div) {\n",
       "\n",
       "}\n",
       "\n",
       "\n",
       "mpl.figure.prototype._root_extra_style = function(canvas_div) {\n",
       "\n",
       "}\n",
       "\n",
       "mpl.figure.prototype._init_canvas = function() {\n",
       "    var fig = this;\n",
       "\n",
       "    var canvas_div = $('<div/>');\n",
       "\n",
       "    canvas_div.attr('style', 'position: relative; clear: both; outline: 0');\n",
       "\n",
       "    function canvas_keyboard_event(event) {\n",
       "        return fig.key_event(event, event['data']);\n",
       "    }\n",
       "\n",
       "    canvas_div.keydown('key_press', canvas_keyboard_event);\n",
       "    canvas_div.keyup('key_release', canvas_keyboard_event);\n",
       "    this.canvas_div = canvas_div\n",
       "    this._canvas_extra_style(canvas_div)\n",
       "    this.root.append(canvas_div);\n",
       "\n",
       "    var canvas = $('<canvas/>');\n",
       "    canvas.addClass('mpl-canvas');\n",
       "    canvas.attr('style', \"left: 0; top: 0; z-index: 0; outline: 0\")\n",
       "\n",
       "    this.canvas = canvas[0];\n",
       "    this.context = canvas[0].getContext(\"2d\");\n",
       "\n",
       "    var backingStore = this.context.backingStorePixelRatio ||\n",
       "\tthis.context.webkitBackingStorePixelRatio ||\n",
       "\tthis.context.mozBackingStorePixelRatio ||\n",
       "\tthis.context.msBackingStorePixelRatio ||\n",
       "\tthis.context.oBackingStorePixelRatio ||\n",
       "\tthis.context.backingStorePixelRatio || 1;\n",
       "\n",
       "    mpl.ratio = (window.devicePixelRatio || 1) / backingStore;\n",
       "\n",
       "    var rubberband = $('<canvas/>');\n",
       "    rubberband.attr('style', \"position: absolute; left: 0; top: 0; z-index: 1;\")\n",
       "\n",
       "    var pass_mouse_events = true;\n",
       "\n",
       "    canvas_div.resizable({\n",
       "        start: function(event, ui) {\n",
       "            pass_mouse_events = false;\n",
       "        },\n",
       "        resize: function(event, ui) {\n",
       "            fig.request_resize(ui.size.width, ui.size.height);\n",
       "        },\n",
       "        stop: function(event, ui) {\n",
       "            pass_mouse_events = true;\n",
       "            fig.request_resize(ui.size.width, ui.size.height);\n",
       "        },\n",
       "    });\n",
       "\n",
       "    function mouse_event_fn(event) {\n",
       "        if (pass_mouse_events)\n",
       "            return fig.mouse_event(event, event['data']);\n",
       "    }\n",
       "\n",
       "    rubberband.mousedown('button_press', mouse_event_fn);\n",
       "    rubberband.mouseup('button_release', mouse_event_fn);\n",
       "    // Throttle sequential mouse events to 1 every 20ms.\n",
       "    rubberband.mousemove('motion_notify', mouse_event_fn);\n",
       "\n",
       "    rubberband.mouseenter('figure_enter', mouse_event_fn);\n",
       "    rubberband.mouseleave('figure_leave', mouse_event_fn);\n",
       "\n",
       "    canvas_div.on(\"wheel\", function (event) {\n",
       "        event = event.originalEvent;\n",
       "        event['data'] = 'scroll'\n",
       "        if (event.deltaY < 0) {\n",
       "            event.step = 1;\n",
       "        } else {\n",
       "            event.step = -1;\n",
       "        }\n",
       "        mouse_event_fn(event);\n",
       "    });\n",
       "\n",
       "    canvas_div.append(canvas);\n",
       "    canvas_div.append(rubberband);\n",
       "\n",
       "    this.rubberband = rubberband;\n",
       "    this.rubberband_canvas = rubberband[0];\n",
       "    this.rubberband_context = rubberband[0].getContext(\"2d\");\n",
       "    this.rubberband_context.strokeStyle = \"#000000\";\n",
       "\n",
       "    this._resize_canvas = function(width, height) {\n",
       "        // Keep the size of the canvas, canvas container, and rubber band\n",
       "        // canvas in synch.\n",
       "        canvas_div.css('width', width)\n",
       "        canvas_div.css('height', height)\n",
       "\n",
       "        canvas.attr('width', width * mpl.ratio);\n",
       "        canvas.attr('height', height * mpl.ratio);\n",
       "        canvas.attr('style', 'width: ' + width + 'px; height: ' + height + 'px;');\n",
       "\n",
       "        rubberband.attr('width', width);\n",
       "        rubberband.attr('height', height);\n",
       "    }\n",
       "\n",
       "    // Set the figure to an initial 600x600px, this will subsequently be updated\n",
       "    // upon first draw.\n",
       "    this._resize_canvas(600, 600);\n",
       "\n",
       "    // Disable right mouse context menu.\n",
       "    $(this.rubberband_canvas).bind(\"contextmenu\",function(e){\n",
       "        return false;\n",
       "    });\n",
       "\n",
       "    function set_focus () {\n",
       "        canvas.focus();\n",
       "        canvas_div.focus();\n",
       "    }\n",
       "\n",
       "    window.setTimeout(set_focus, 100);\n",
       "}\n",
       "\n",
       "mpl.figure.prototype._init_toolbar = function() {\n",
       "    var fig = this;\n",
       "\n",
       "    var nav_element = $('<div/>')\n",
       "    nav_element.attr('style', 'width: 100%');\n",
       "    this.root.append(nav_element);\n",
       "\n",
       "    // Define a callback function for later on.\n",
       "    function toolbar_event(event) {\n",
       "        return fig.toolbar_button_onclick(event['data']);\n",
       "    }\n",
       "    function toolbar_mouse_event(event) {\n",
       "        return fig.toolbar_button_onmouseover(event['data']);\n",
       "    }\n",
       "\n",
       "    for(var toolbar_ind in mpl.toolbar_items) {\n",
       "        var name = mpl.toolbar_items[toolbar_ind][0];\n",
       "        var tooltip = mpl.toolbar_items[toolbar_ind][1];\n",
       "        var image = mpl.toolbar_items[toolbar_ind][2];\n",
       "        var method_name = mpl.toolbar_items[toolbar_ind][3];\n",
       "\n",
       "        if (!name) {\n",
       "            // put a spacer in here.\n",
       "            continue;\n",
       "        }\n",
       "        var button = $('<button/>');\n",
       "        button.addClass('ui-button ui-widget ui-state-default ui-corner-all ' +\n",
       "                        'ui-button-icon-only');\n",
       "        button.attr('role', 'button');\n",
       "        button.attr('aria-disabled', 'false');\n",
       "        button.click(method_name, toolbar_event);\n",
       "        button.mouseover(tooltip, toolbar_mouse_event);\n",
       "\n",
       "        var icon_img = $('<span/>');\n",
       "        icon_img.addClass('ui-button-icon-primary ui-icon');\n",
       "        icon_img.addClass(image);\n",
       "        icon_img.addClass('ui-corner-all');\n",
       "\n",
       "        var tooltip_span = $('<span/>');\n",
       "        tooltip_span.addClass('ui-button-text');\n",
       "        tooltip_span.html(tooltip);\n",
       "\n",
       "        button.append(icon_img);\n",
       "        button.append(tooltip_span);\n",
       "\n",
       "        nav_element.append(button);\n",
       "    }\n",
       "\n",
       "    var fmt_picker_span = $('<span/>');\n",
       "\n",
       "    var fmt_picker = $('<select/>');\n",
       "    fmt_picker.addClass('mpl-toolbar-option ui-widget ui-widget-content');\n",
       "    fmt_picker_span.append(fmt_picker);\n",
       "    nav_element.append(fmt_picker_span);\n",
       "    this.format_dropdown = fmt_picker[0];\n",
       "\n",
       "    for (var ind in mpl.extensions) {\n",
       "        var fmt = mpl.extensions[ind];\n",
       "        var option = $(\n",
       "            '<option/>', {selected: fmt === mpl.default_extension}).html(fmt);\n",
       "        fmt_picker.append(option)\n",
       "    }\n",
       "\n",
       "    // Add hover states to the ui-buttons\n",
       "    $( \".ui-button\" ).hover(\n",
       "        function() { $(this).addClass(\"ui-state-hover\");},\n",
       "        function() { $(this).removeClass(\"ui-state-hover\");}\n",
       "    );\n",
       "\n",
       "    var status_bar = $('<span class=\"mpl-message\"/>');\n",
       "    nav_element.append(status_bar);\n",
       "    this.message = status_bar[0];\n",
       "}\n",
       "\n",
       "mpl.figure.prototype.request_resize = function(x_pixels, y_pixels) {\n",
       "    // Request matplotlib to resize the figure. Matplotlib will then trigger a resize in the client,\n",
       "    // which will in turn request a refresh of the image.\n",
       "    this.send_message('resize', {'width': x_pixels, 'height': y_pixels});\n",
       "}\n",
       "\n",
       "mpl.figure.prototype.send_message = function(type, properties) {\n",
       "    properties['type'] = type;\n",
       "    properties['figure_id'] = this.id;\n",
       "    this.ws.send(JSON.stringify(properties));\n",
       "}\n",
       "\n",
       "mpl.figure.prototype.send_draw_message = function() {\n",
       "    if (!this.waiting) {\n",
       "        this.waiting = true;\n",
       "        this.ws.send(JSON.stringify({type: \"draw\", figure_id: this.id}));\n",
       "    }\n",
       "}\n",
       "\n",
       "\n",
       "mpl.figure.prototype.handle_save = function(fig, msg) {\n",
       "    var format_dropdown = fig.format_dropdown;\n",
       "    var format = format_dropdown.options[format_dropdown.selectedIndex].value;\n",
       "    fig.ondownload(fig, format);\n",
       "}\n",
       "\n",
       "\n",
       "mpl.figure.prototype.handle_resize = function(fig, msg) {\n",
       "    var size = msg['size'];\n",
       "    if (size[0] != fig.canvas.width || size[1] != fig.canvas.height) {\n",
       "        fig._resize_canvas(size[0], size[1]);\n",
       "        fig.send_message(\"refresh\", {});\n",
       "    };\n",
       "}\n",
       "\n",
       "mpl.figure.prototype.handle_rubberband = function(fig, msg) {\n",
       "    var x0 = msg['x0'] / mpl.ratio;\n",
       "    var y0 = (fig.canvas.height - msg['y0']) / mpl.ratio;\n",
       "    var x1 = msg['x1'] / mpl.ratio;\n",
       "    var y1 = (fig.canvas.height - msg['y1']) / mpl.ratio;\n",
       "    x0 = Math.floor(x0) + 0.5;\n",
       "    y0 = Math.floor(y0) + 0.5;\n",
       "    x1 = Math.floor(x1) + 0.5;\n",
       "    y1 = Math.floor(y1) + 0.5;\n",
       "    var min_x = Math.min(x0, x1);\n",
       "    var min_y = Math.min(y0, y1);\n",
       "    var width = Math.abs(x1 - x0);\n",
       "    var height = Math.abs(y1 - y0);\n",
       "\n",
       "    fig.rubberband_context.clearRect(\n",
       "        0, 0, fig.canvas.width, fig.canvas.height);\n",
       "\n",
       "    fig.rubberband_context.strokeRect(min_x, min_y, width, height);\n",
       "}\n",
       "\n",
       "mpl.figure.prototype.handle_figure_label = function(fig, msg) {\n",
       "    // Updates the figure title.\n",
       "    fig.header.textContent = msg['label'];\n",
       "}\n",
       "\n",
       "mpl.figure.prototype.handle_cursor = function(fig, msg) {\n",
       "    var cursor = msg['cursor'];\n",
       "    switch(cursor)\n",
       "    {\n",
       "    case 0:\n",
       "        cursor = 'pointer';\n",
       "        break;\n",
       "    case 1:\n",
       "        cursor = 'default';\n",
       "        break;\n",
       "    case 2:\n",
       "        cursor = 'crosshair';\n",
       "        break;\n",
       "    case 3:\n",
       "        cursor = 'move';\n",
       "        break;\n",
       "    }\n",
       "    fig.rubberband_canvas.style.cursor = cursor;\n",
       "}\n",
       "\n",
       "mpl.figure.prototype.handle_message = function(fig, msg) {\n",
       "    fig.message.textContent = msg['message'];\n",
       "}\n",
       "\n",
       "mpl.figure.prototype.handle_draw = function(fig, msg) {\n",
       "    // Request the server to send over a new figure.\n",
       "    fig.send_draw_message();\n",
       "}\n",
       "\n",
       "mpl.figure.prototype.handle_image_mode = function(fig, msg) {\n",
       "    fig.image_mode = msg['mode'];\n",
       "}\n",
       "\n",
       "mpl.figure.prototype.updated_canvas_event = function() {\n",
       "    // Called whenever the canvas gets updated.\n",
       "    this.send_message(\"ack\", {});\n",
       "}\n",
       "\n",
       "// A function to construct a web socket function for onmessage handling.\n",
       "// Called in the figure constructor.\n",
       "mpl.figure.prototype._make_on_message_function = function(fig) {\n",
       "    return function socket_on_message(evt) {\n",
       "        if (evt.data instanceof Blob) {\n",
       "            /* FIXME: We get \"Resource interpreted as Image but\n",
       "             * transferred with MIME type text/plain:\" errors on\n",
       "             * Chrome.  But how to set the MIME type?  It doesn't seem\n",
       "             * to be part of the websocket stream */\n",
       "            evt.data.type = \"image/png\";\n",
       "\n",
       "            /* Free the memory for the previous frames */\n",
       "            if (fig.imageObj.src) {\n",
       "                (window.URL || window.webkitURL).revokeObjectURL(\n",
       "                    fig.imageObj.src);\n",
       "            }\n",
       "\n",
       "            fig.imageObj.src = (window.URL || window.webkitURL).createObjectURL(\n",
       "                evt.data);\n",
       "            fig.updated_canvas_event();\n",
       "            fig.waiting = false;\n",
       "            return;\n",
       "        }\n",
       "        else if (typeof evt.data === 'string' && evt.data.slice(0, 21) == \"data:image/png;base64\") {\n",
       "            fig.imageObj.src = evt.data;\n",
       "            fig.updated_canvas_event();\n",
       "            fig.waiting = false;\n",
       "            return;\n",
       "        }\n",
       "\n",
       "        var msg = JSON.parse(evt.data);\n",
       "        var msg_type = msg['type'];\n",
       "\n",
       "        // Call the  \"handle_{type}\" callback, which takes\n",
       "        // the figure and JSON message as its only arguments.\n",
       "        try {\n",
       "            var callback = fig[\"handle_\" + msg_type];\n",
       "        } catch (e) {\n",
       "            console.log(\"No handler for the '\" + msg_type + \"' message type: \", msg);\n",
       "            return;\n",
       "        }\n",
       "\n",
       "        if (callback) {\n",
       "            try {\n",
       "                // console.log(\"Handling '\" + msg_type + \"' message: \", msg);\n",
       "                callback(fig, msg);\n",
       "            } catch (e) {\n",
       "                console.log(\"Exception inside the 'handler_\" + msg_type + \"' callback:\", e, e.stack, msg);\n",
       "            }\n",
       "        }\n",
       "    };\n",
       "}\n",
       "\n",
       "// from http://stackoverflow.com/questions/1114465/getting-mouse-location-in-canvas\n",
       "mpl.findpos = function(e) {\n",
       "    //this section is from http://www.quirksmode.org/js/events_properties.html\n",
       "    var targ;\n",
       "    if (!e)\n",
       "        e = window.event;\n",
       "    if (e.target)\n",
       "        targ = e.target;\n",
       "    else if (e.srcElement)\n",
       "        targ = e.srcElement;\n",
       "    if (targ.nodeType == 3) // defeat Safari bug\n",
       "        targ = targ.parentNode;\n",
       "\n",
       "    // jQuery normalizes the pageX and pageY\n",
       "    // pageX,Y are the mouse positions relative to the document\n",
       "    // offset() returns the position of the element relative to the document\n",
       "    var x = e.pageX - $(targ).offset().left;\n",
       "    var y = e.pageY - $(targ).offset().top;\n",
       "\n",
       "    return {\"x\": x, \"y\": y};\n",
       "};\n",
       "\n",
       "/*\n",
       " * return a copy of an object with only non-object keys\n",
       " * we need this to avoid circular references\n",
       " * http://stackoverflow.com/a/24161582/3208463\n",
       " */\n",
       "function simpleKeys (original) {\n",
       "  return Object.keys(original).reduce(function (obj, key) {\n",
       "    if (typeof original[key] !== 'object')\n",
       "        obj[key] = original[key]\n",
       "    return obj;\n",
       "  }, {});\n",
       "}\n",
       "\n",
       "mpl.figure.prototype.mouse_event = function(event, name) {\n",
       "    var canvas_pos = mpl.findpos(event)\n",
       "\n",
       "    if (name === 'button_press')\n",
       "    {\n",
       "        this.canvas.focus();\n",
       "        this.canvas_div.focus();\n",
       "    }\n",
       "\n",
       "    var x = canvas_pos.x * mpl.ratio;\n",
       "    var y = canvas_pos.y * mpl.ratio;\n",
       "\n",
       "    this.send_message(name, {x: x, y: y, button: event.button,\n",
       "                             step: event.step,\n",
       "                             guiEvent: simpleKeys(event)});\n",
       "\n",
       "    /* This prevents the web browser from automatically changing to\n",
       "     * the text insertion cursor when the button is pressed.  We want\n",
       "     * to control all of the cursor setting manually through the\n",
       "     * 'cursor' event from matplotlib */\n",
       "    event.preventDefault();\n",
       "    return false;\n",
       "}\n",
       "\n",
       "mpl.figure.prototype._key_event_extra = function(event, name) {\n",
       "    // Handle any extra behaviour associated with a key event\n",
       "}\n",
       "\n",
       "mpl.figure.prototype.key_event = function(event, name) {\n",
       "\n",
       "    // Prevent repeat events\n",
       "    if (name == 'key_press')\n",
       "    {\n",
       "        if (event.which === this._key)\n",
       "            return;\n",
       "        else\n",
       "            this._key = event.which;\n",
       "    }\n",
       "    if (name == 'key_release')\n",
       "        this._key = null;\n",
       "\n",
       "    var value = '';\n",
       "    if (event.ctrlKey && event.which != 17)\n",
       "        value += \"ctrl+\";\n",
       "    if (event.altKey && event.which != 18)\n",
       "        value += \"alt+\";\n",
       "    if (event.shiftKey && event.which != 16)\n",
       "        value += \"shift+\";\n",
       "\n",
       "    value += 'k';\n",
       "    value += event.which.toString();\n",
       "\n",
       "    this._key_event_extra(event, name);\n",
       "\n",
       "    this.send_message(name, {key: value,\n",
       "                             guiEvent: simpleKeys(event)});\n",
       "    return false;\n",
       "}\n",
       "\n",
       "mpl.figure.prototype.toolbar_button_onclick = function(name) {\n",
       "    if (name == 'download') {\n",
       "        this.handle_save(this, null);\n",
       "    } else {\n",
       "        this.send_message(\"toolbar_button\", {name: name});\n",
       "    }\n",
       "};\n",
       "\n",
       "mpl.figure.prototype.toolbar_button_onmouseover = function(tooltip) {\n",
       "    this.message.textContent = tooltip;\n",
       "};\n",
       "mpl.toolbar_items = [[\"Home\", \"Reset original view\", \"fa fa-home icon-home\", \"home\"], [\"Back\", \"Back to previous view\", \"fa fa-arrow-left icon-arrow-left\", \"back\"], [\"Forward\", \"Forward to next view\", \"fa fa-arrow-right icon-arrow-right\", \"forward\"], [\"\", \"\", \"\", \"\"], [\"Pan\", \"Pan axes with left mouse, zoom with right\", \"fa fa-arrows icon-move\", \"pan\"], [\"Zoom\", \"Zoom to rectangle\", \"fa fa-square-o icon-check-empty\", \"zoom\"], [\"\", \"\", \"\", \"\"], [\"Download\", \"Download plot\", \"fa fa-floppy-o icon-save\", \"download\"]];\n",
       "\n",
       "mpl.extensions = [\"eps\", \"jpeg\", \"pdf\", \"png\", \"ps\", \"raw\", \"svg\", \"tif\"];\n",
       "\n",
       "mpl.default_extension = \"png\";var comm_websocket_adapter = function(comm) {\n",
       "    // Create a \"websocket\"-like object which calls the given IPython comm\n",
       "    // object with the appropriate methods. Currently this is a non binary\n",
       "    // socket, so there is still some room for performance tuning.\n",
       "    var ws = {};\n",
       "\n",
       "    ws.close = function() {\n",
       "        comm.close()\n",
       "    };\n",
       "    ws.send = function(m) {\n",
       "        //console.log('sending', m);\n",
       "        comm.send(m);\n",
       "    };\n",
       "    // Register the callback with on_msg.\n",
       "    comm.on_msg(function(msg) {\n",
       "        //console.log('receiving', msg['content']['data'], msg);\n",
       "        // Pass the mpl event to the overridden (by mpl) onmessage function.\n",
       "        ws.onmessage(msg['content']['data'])\n",
       "    });\n",
       "    return ws;\n",
       "}\n",
       "\n",
       "mpl.mpl_figure_comm = function(comm, msg) {\n",
       "    // This is the function which gets called when the mpl process\n",
       "    // starts-up an IPython Comm through the \"matplotlib\" channel.\n",
       "\n",
       "    var id = msg.content.data.id;\n",
       "    // Get hold of the div created by the display call when the Comm\n",
       "    // socket was opened in Python.\n",
       "    var element = $(\"#\" + id);\n",
       "    var ws_proxy = comm_websocket_adapter(comm)\n",
       "\n",
       "    function ondownload(figure, format) {\n",
       "        window.open(figure.imageObj.src);\n",
       "    }\n",
       "\n",
       "    var fig = new mpl.figure(id, ws_proxy,\n",
       "                           ondownload,\n",
       "                           element.get(0));\n",
       "\n",
       "    // Call onopen now - mpl needs it, as it is assuming we've passed it a real\n",
       "    // web socket which is closed, not our websocket->open comm proxy.\n",
       "    ws_proxy.onopen();\n",
       "\n",
       "    fig.parent_element = element.get(0);\n",
       "    fig.cell_info = mpl.find_output_cell(\"<div id='\" + id + \"'></div>\");\n",
       "    if (!fig.cell_info) {\n",
       "        console.error(\"Failed to find cell for figure\", id, fig);\n",
       "        return;\n",
       "    }\n",
       "\n",
       "    var output_index = fig.cell_info[2]\n",
       "    var cell = fig.cell_info[0];\n",
       "\n",
       "};\n",
       "\n",
       "mpl.figure.prototype.handle_close = function(fig, msg) {\n",
       "    var width = fig.canvas.width/mpl.ratio\n",
       "    fig.root.unbind('remove')\n",
       "\n",
       "    // Update the output cell to use the data from the current canvas.\n",
       "    fig.push_to_output();\n",
       "    var dataURL = fig.canvas.toDataURL();\n",
       "    // Re-enable the keyboard manager in IPython - without this line, in FF,\n",
       "    // the notebook keyboard shortcuts fail.\n",
       "    IPython.keyboard_manager.enable()\n",
       "    $(fig.parent_element).html('<img src=\"' + dataURL + '\" width=\"' + width + '\">');\n",
       "    fig.close_ws(fig, msg);\n",
       "}\n",
       "\n",
       "mpl.figure.prototype.close_ws = function(fig, msg){\n",
       "    fig.send_message('closing', msg);\n",
       "    // fig.ws.close()\n",
       "}\n",
       "\n",
       "mpl.figure.prototype.push_to_output = function(remove_interactive) {\n",
       "    // Turn the data on the canvas into data in the output cell.\n",
       "    var width = this.canvas.width/mpl.ratio\n",
       "    var dataURL = this.canvas.toDataURL();\n",
       "    this.cell_info[1]['text/html'] = '<img src=\"' + dataURL + '\" width=\"' + width + '\">';\n",
       "}\n",
       "\n",
       "mpl.figure.prototype.updated_canvas_event = function() {\n",
       "    // Tell IPython that the notebook contents must change.\n",
       "    IPython.notebook.set_dirty(true);\n",
       "    this.send_message(\"ack\", {});\n",
       "    var fig = this;\n",
       "    // Wait a second, then push the new image to the DOM so\n",
       "    // that it is saved nicely (might be nice to debounce this).\n",
       "    setTimeout(function () { fig.push_to_output() }, 1000);\n",
       "}\n",
       "\n",
       "mpl.figure.prototype._init_toolbar = function() {\n",
       "    var fig = this;\n",
       "\n",
       "    var nav_element = $('<div/>')\n",
       "    nav_element.attr('style', 'width: 100%');\n",
       "    this.root.append(nav_element);\n",
       "\n",
       "    // Define a callback function for later on.\n",
       "    function toolbar_event(event) {\n",
       "        return fig.toolbar_button_onclick(event['data']);\n",
       "    }\n",
       "    function toolbar_mouse_event(event) {\n",
       "        return fig.toolbar_button_onmouseover(event['data']);\n",
       "    }\n",
       "\n",
       "    for(var toolbar_ind in mpl.toolbar_items){\n",
       "        var name = mpl.toolbar_items[toolbar_ind][0];\n",
       "        var tooltip = mpl.toolbar_items[toolbar_ind][1];\n",
       "        var image = mpl.toolbar_items[toolbar_ind][2];\n",
       "        var method_name = mpl.toolbar_items[toolbar_ind][3];\n",
       "\n",
       "        if (!name) { continue; };\n",
       "\n",
       "        var button = $('<button class=\"btn btn-default\" href=\"#\" title=\"' + name + '\"><i class=\"fa ' + image + ' fa-lg\"></i></button>');\n",
       "        button.click(method_name, toolbar_event);\n",
       "        button.mouseover(tooltip, toolbar_mouse_event);\n",
       "        nav_element.append(button);\n",
       "    }\n",
       "\n",
       "    // Add the status bar.\n",
       "    var status_bar = $('<span class=\"mpl-message\" style=\"text-align:right; float: right;\"/>');\n",
       "    nav_element.append(status_bar);\n",
       "    this.message = status_bar[0];\n",
       "\n",
       "    // Add the close button to the window.\n",
       "    var buttongrp = $('<div class=\"btn-group inline pull-right\"></div>');\n",
       "    var button = $('<button class=\"btn btn-mini btn-primary\" href=\"#\" title=\"Stop Interaction\"><i class=\"fa fa-power-off icon-remove icon-large\"></i></button>');\n",
       "    button.click(function (evt) { fig.handle_close(fig, {}); } );\n",
       "    button.mouseover('Stop Interaction', toolbar_mouse_event);\n",
       "    buttongrp.append(button);\n",
       "    var titlebar = this.root.find($('.ui-dialog-titlebar'));\n",
       "    titlebar.prepend(buttongrp);\n",
       "}\n",
       "\n",
       "mpl.figure.prototype._root_extra_style = function(el){\n",
       "    var fig = this\n",
       "    el.on(\"remove\", function(){\n",
       "\tfig.close_ws(fig, {});\n",
       "    });\n",
       "}\n",
       "\n",
       "mpl.figure.prototype._canvas_extra_style = function(el){\n",
       "    // this is important to make the div 'focusable\n",
       "    el.attr('tabindex', 0)\n",
       "    // reach out to IPython and tell the keyboard manager to turn it's self\n",
       "    // off when our div gets focus\n",
       "\n",
       "    // location in version 3\n",
       "    if (IPython.notebook.keyboard_manager) {\n",
       "        IPython.notebook.keyboard_manager.register_events(el);\n",
       "    }\n",
       "    else {\n",
       "        // location in version 2\n",
       "        IPython.keyboard_manager.register_events(el);\n",
       "    }\n",
       "\n",
       "}\n",
       "\n",
       "mpl.figure.prototype._key_event_extra = function(event, name) {\n",
       "    var manager = IPython.notebook.keyboard_manager;\n",
       "    if (!manager)\n",
       "        manager = IPython.keyboard_manager;\n",
       "\n",
       "    // Check for shift+enter\n",
       "    if (event.shiftKey && event.which == 13) {\n",
       "        this.canvas_div.blur();\n",
       "        event.shiftKey = false;\n",
       "        // Send a \"J\" for go to next cell\n",
       "        event.which = 74;\n",
       "        event.keyCode = 74;\n",
       "        manager.command_mode();\n",
       "        manager.handle_keydown(event);\n",
       "    }\n",
       "}\n",
       "\n",
       "mpl.figure.prototype.handle_save = function(fig, msg) {\n",
       "    fig.ondownload(fig, null);\n",
       "}\n",
       "\n",
       "\n",
       "mpl.find_output_cell = function(html_output) {\n",
       "    // Return the cell and output element which can be found *uniquely* in the notebook.\n",
       "    // Note - this is a bit hacky, but it is done because the \"notebook_saving.Notebook\"\n",
       "    // IPython event is triggered only after the cells have been serialised, which for\n",
       "    // our purposes (turning an active figure into a static one), is too late.\n",
       "    var cells = IPython.notebook.get_cells();\n",
       "    var ncells = cells.length;\n",
       "    for (var i=0; i<ncells; i++) {\n",
       "        var cell = cells[i];\n",
       "        if (cell.cell_type === 'code'){\n",
       "            for (var j=0; j<cell.output_area.outputs.length; j++) {\n",
       "                var data = cell.output_area.outputs[j];\n",
       "                if (data.data) {\n",
       "                    // IPython >= 3 moved mimebundle to data attribute of output\n",
       "                    data = data.data;\n",
       "                }\n",
       "                if (data['text/html'] == html_output) {\n",
       "                    return [cell, data, j];\n",
       "                }\n",
       "            }\n",
       "        }\n",
       "    }\n",
       "}\n",
       "\n",
       "// Register the function which deals with the matplotlib target/channel.\n",
       "// The kernel may be null if the page has been refreshed.\n",
       "if (IPython.notebook.kernel != null) {\n",
       "    IPython.notebook.kernel.comm_manager.register_target('matplotlib', mpl.mpl_figure_comm);\n",
       "}\n"
      ],
      "text/plain": [
       "<IPython.core.display.Javascript object>"
      ]
     },
     "metadata": {},
     "output_type": "display_data"
    },
    {
     "data": {
      "text/html": [
       "<img src=\"data:image/png;base64,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\" width=\"640\">"
      ],
      "text/plain": [
       "<IPython.core.display.HTML object>"
      ]
     },
     "metadata": {},
     "output_type": "display_data"
    }
   ],
   "source": [
    "import numpy as np\n",
    "from scipy.integrate import odeint\n",
    "import matplotlib.pyplot as plt\n",
    "%matplotlib notebook\n",
    "\n",
    "y=df_deaths['oud']+df_deaths['nieuw']\n",
    "l=len(y)\n",
    "x=np.arange(0, l,1, float)\n",
    "# Total population, N.\n",
    "N = M\n",
    "# Initial number of infected and recovered individuals, I0 and R0.\n",
    "I0, R0 = 1, 0\n",
    "# Everyone else, S0, is susceptible to infection initially.\n",
    "S0 = N - I0 - R0\n",
    "# Contact rate, beta, and mean recovery rate, gamma, (in 1/days).\n",
    "beta, gamma = 0.35, 1./14\n",
    "# A grid of time points (in days)\n",
    "t = np.linspace(0, 160, 160)\n",
    "\n",
    "# The SIR model differential equations.\n",
    "def deriv(y, t, N, beta, gamma):\n",
    "    S, I, R = y\n",
    "    dSdt = -beta * S * I / N\n",
    "    dIdt = beta * S * I / N - gamma * I\n",
    "    dRdt = gamma * I\n",
    "    return dSdt, dIdt, dRdt\n",
    "\n",
    "# Initial conditions vector\n",
    "y0 = S0, I0, R0\n",
    "# Integrate the SIR equations over the time grid, t.\n",
    "ret = odeint(deriv, y0, t, args=(N, beta, gamma))\n",
    "S, I, R = ret.T\n",
    "\n",
    "# Plot the data on three separate curves for S(t), I(t) and R(t)\n",
    "fig = plt.figure(facecolor='w')\n",
    "ax = fig.add_subplot(111,  axisbelow=True)\n",
    "ax.plot(t, S/1000, 'b', alpha=0.5, lw=2, label='Susceptible')\n",
    "ax.plot(t, I/1000, 'r', alpha=0.5, lw=2, label='Infected')\n",
    "ax.plot(t, R/1000, 'g', alpha=0.5, lw=2, label='Recovered with immunity')\n",
    "ax.plot(x,y/100)\n",
    "ax.set_xlabel('tijd in dagen')\n",
    "ax.set_ylabel('Aantal (x100)')\n",
    "#ax.set_ylim(0,3)\n",
    "ax.yaxis.set_tick_params(length=0)\n",
    "ax.xaxis.set_tick_params(length=0)\n",
    "plt.title(\"SIR model simulatie, $R_0=%.1f$\"%(beta/gamma))\n",
    "ax.grid(b=True, which='major', c='w', lw=2, ls='-')\n",
    "legend = ax.legend()\n",
    "legend.get_frame().set_alpha(0.5)\n",
    "for spine in ('top', 'right', 'bottom', 'left'):\n",
    "    ax.spines[spine].set_visible(False)\n",
    "\n",
    "plt.show()"
   ]
  },
  {
   "cell_type": "code",
   "execution_count": 49,
   "metadata": {},
   "outputs": [
    {
     "data": {
      "text/plain": [
       "4.9"
      ]
     },
     "execution_count": 49,
     "metadata": {},
     "output_type": "execute_result"
    }
   ],
   "source": [
    "beta/gamma"
   ]
  },
  {
   "cell_type": "code",
   "execution_count": null,
   "metadata": {},
   "outputs": [],
   "source": []
  }
 ],
 "metadata": {
  "kernelspec": {
   "display_name": "Python 3",
   "language": "python",
   "name": "python3"
  },
  "language_info": {
   "codemirror_mode": {
    "name": "ipython",
    "version": 3
   },
   "file_extension": ".py",
   "mimetype": "text/x-python",
   "name": "python",
   "nbconvert_exporter": "python",
   "pygments_lexer": "ipython3",
   "version": "3.7.3"
  }
 },
 "nbformat": 4,
 "nbformat_minor": 4
}
