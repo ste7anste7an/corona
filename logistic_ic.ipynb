{
 "cells": [
  {
   "cell_type": "code",
   "execution_count": 1,
   "metadata": {},
   "outputs": [
    {
     "name": "stdout",
     "output_type": "stream",
     "text": [
      "········\n"
     ]
    }
   ],
   "source": [
    "import getpass\n",
    "import os\n",
    "import pandas as pd\n",
    "import numpy as np\n",
    "import urllib.request\n",
    "import chart_studio\n",
    "import chart_studio.plotly as py\n",
    "import plotly.graph_objects as go\n",
    "from lmfit import Model\n",
    "import matplotlib.pyplot as plt\n",
    "\n",
    "from datetime import datetime\n",
    "from datetime import timedelta  \n",
    "import requests\n",
    "import json\n",
    "from io import StringIO\n",
    "\n",
    "user=\"u410d\"\n",
    "user=\"decimapc\"\n",
    "os.environ[\"GOOGLE_APPLICATION_CREDENTIALS\"]=\"C:/Users/%s/Google Drive/stefan/corona/max-elv-b92a39d5f6f2.json\"%user\n",
    "\n",
    "\n",
    "password = getpass.getpass()\n",
    "def xor(s,t):\n",
    "    return \"\".join(chr(ord(a)^ord(b)) for a,b in zip(s,t))\n",
    "\n",
    "api_key=xor('z=6U%Az:W1*]\\x1aYG\\x08v&2J',password*3)\n",
    "\n",
    "chart_studio.tools.set_credentials_file(username='spammie', api_key=api_key)\n",
    "\n",
    "\n",
    "def expand_date(lastdate,n=7):\n",
    "    lastdate_object = lastdate\n",
    "    d=[]\n",
    "    for i in range(n):\n",
    "        nd=lastdate_object+timedelta(days=i+1)\n",
    "        #d.append(nd.strftime(\"%m/%d/%y\"))\n",
    "        d.append(nd)\n",
    "    return d\n",
    "\n",
    "def expand_pd_date(lastdate,n=7):\n",
    "    lastdate_object = lastdate\n",
    "    d=[]\n",
    "    for i in range(n):\n",
    "        nd=lastdate_object+timedelta(days=i+1)\n",
    "        #d.append(nd.strftime(\"%m/%d/%y\"))\n",
    "        d.append(pd.Timestamp(nd))\n",
    "    return d\n"
   ]
  },
  {
   "cell_type": "code",
   "execution_count": 8,
   "metadata": {},
   "outputs": [
    {
     "data": {
      "text/plain": [
       "b'in-ziekenhuis-opgenomen-pati%C3%ABnten-2020-04-14.csv'"
      ]
     },
     "execution_count": 8,
     "metadata": {},
     "output_type": "execute_result"
    }
   ],
   "source": [
    "filen_ziek.encode('utf-8')"
   ]
  },
  {
   "cell_type": "code",
   "execution_count": 3,
   "metadata": {
    "scrolled": true
   },
   "outputs": [
    {
     "name": "stdout",
     "output_type": "stream",
     "text": [
      "in-ziekenhuis-opgenomen-pati%C3%ABnten-2020-04-20.csv\n"
     ]
    },
    {
     "data": {
      "text/html": [
       "<div>\n",
       "<style scoped>\n",
       "    .dataframe tbody tr th:only-of-type {\n",
       "        vertical-align: middle;\n",
       "    }\n",
       "\n",
       "    .dataframe tbody tr th {\n",
       "        vertical-align: top;\n",
       "    }\n",
       "\n",
       "    .dataframe thead th {\n",
       "        text-align: right;\n",
       "    }\n",
       "</style>\n",
       "<table border=\"1\" class=\"dataframe\">\n",
       "  <thead>\n",
       "    <tr style=\"text-align: right;\">\n",
       "      <th></th>\n",
       "      <th>datum</th>\n",
       "      <th>nieuw</th>\n",
       "      <th>oud</th>\n",
       "      <th>toename</th>\n",
       "      <th>totaal</th>\n",
       "      <th>date</th>\n",
       "    </tr>\n",
       "  </thead>\n",
       "  <tbody>\n",
       "    <tr>\n",
       "      <th>0</th>\n",
       "      <td>27/02/2020</td>\n",
       "      <td>0</td>\n",
       "      <td>0</td>\n",
       "      <td>0</td>\n",
       "      <td>0</td>\n",
       "      <td>2020-02-27</td>\n",
       "    </tr>\n",
       "    <tr>\n",
       "      <th>1</th>\n",
       "      <td>28/02/2020</td>\n",
       "      <td>0</td>\n",
       "      <td>0</td>\n",
       "      <td>0</td>\n",
       "      <td>0</td>\n",
       "      <td>2020-02-28</td>\n",
       "    </tr>\n",
       "    <tr>\n",
       "      <th>2</th>\n",
       "      <td>29/02/2020</td>\n",
       "      <td>0</td>\n",
       "      <td>0</td>\n",
       "      <td>0</td>\n",
       "      <td>0</td>\n",
       "      <td>2020-02-29</td>\n",
       "    </tr>\n",
       "    <tr>\n",
       "      <th>3</th>\n",
       "      <td>1/03/2020</td>\n",
       "      <td>0</td>\n",
       "      <td>0</td>\n",
       "      <td>0</td>\n",
       "      <td>0</td>\n",
       "      <td>2020-03-01</td>\n",
       "    </tr>\n",
       "    <tr>\n",
       "      <th>4</th>\n",
       "      <td>2/03/2020</td>\n",
       "      <td>0</td>\n",
       "      <td>0</td>\n",
       "      <td>0</td>\n",
       "      <td>0</td>\n",
       "      <td>2020-03-02</td>\n",
       "    </tr>\n",
       "    <tr>\n",
       "      <th>5</th>\n",
       "      <td>3/03/2020</td>\n",
       "      <td>0</td>\n",
       "      <td>0</td>\n",
       "      <td>0</td>\n",
       "      <td>0</td>\n",
       "      <td>2020-03-03</td>\n",
       "    </tr>\n",
       "    <tr>\n",
       "      <th>6</th>\n",
       "      <td>4/03/2020</td>\n",
       "      <td>0</td>\n",
       "      <td>0</td>\n",
       "      <td>0</td>\n",
       "      <td>0</td>\n",
       "      <td>2020-03-04</td>\n",
       "    </tr>\n",
       "    <tr>\n",
       "      <th>7</th>\n",
       "      <td>5/03/2020</td>\n",
       "      <td>0</td>\n",
       "      <td>0</td>\n",
       "      <td>0</td>\n",
       "      <td>0</td>\n",
       "      <td>2020-03-05</td>\n",
       "    </tr>\n",
       "    <tr>\n",
       "      <th>8</th>\n",
       "      <td>6/03/2020</td>\n",
       "      <td>0</td>\n",
       "      <td>1</td>\n",
       "      <td>1</td>\n",
       "      <td>1</td>\n",
       "      <td>2020-03-06</td>\n",
       "    </tr>\n",
       "    <tr>\n",
       "      <th>9</th>\n",
       "      <td>7/03/2020</td>\n",
       "      <td>0</td>\n",
       "      <td>1</td>\n",
       "      <td>1</td>\n",
       "      <td>2</td>\n",
       "      <td>2020-03-07</td>\n",
       "    </tr>\n",
       "    <tr>\n",
       "      <th>10</th>\n",
       "      <td>8/03/2020</td>\n",
       "      <td>0</td>\n",
       "      <td>2</td>\n",
       "      <td>2</td>\n",
       "      <td>4</td>\n",
       "      <td>2020-03-08</td>\n",
       "    </tr>\n",
       "    <tr>\n",
       "      <th>11</th>\n",
       "      <td>9/03/2020</td>\n",
       "      <td>0</td>\n",
       "      <td>1</td>\n",
       "      <td>1</td>\n",
       "      <td>5</td>\n",
       "      <td>2020-03-09</td>\n",
       "    </tr>\n",
       "    <tr>\n",
       "      <th>12</th>\n",
       "      <td>10/03/2020</td>\n",
       "      <td>0</td>\n",
       "      <td>1</td>\n",
       "      <td>1</td>\n",
       "      <td>6</td>\n",
       "      <td>2020-03-10</td>\n",
       "    </tr>\n",
       "    <tr>\n",
       "      <th>13</th>\n",
       "      <td>11/03/2020</td>\n",
       "      <td>0</td>\n",
       "      <td>2</td>\n",
       "      <td>2</td>\n",
       "      <td>8</td>\n",
       "      <td>2020-03-11</td>\n",
       "    </tr>\n",
       "    <tr>\n",
       "      <th>14</th>\n",
       "      <td>12/03/2020</td>\n",
       "      <td>0</td>\n",
       "      <td>3</td>\n",
       "      <td>3</td>\n",
       "      <td>11</td>\n",
       "      <td>2020-03-12</td>\n",
       "    </tr>\n",
       "    <tr>\n",
       "      <th>15</th>\n",
       "      <td>13/03/2020</td>\n",
       "      <td>0</td>\n",
       "      <td>6</td>\n",
       "      <td>6</td>\n",
       "      <td>17</td>\n",
       "      <td>2020-03-13</td>\n",
       "    </tr>\n",
       "    <tr>\n",
       "      <th>16</th>\n",
       "      <td>14/03/2020</td>\n",
       "      <td>0</td>\n",
       "      <td>10</td>\n",
       "      <td>10</td>\n",
       "      <td>27</td>\n",
       "      <td>2020-03-14</td>\n",
       "    </tr>\n",
       "    <tr>\n",
       "      <th>17</th>\n",
       "      <td>15/03/2020</td>\n",
       "      <td>0</td>\n",
       "      <td>14</td>\n",
       "      <td>14</td>\n",
       "      <td>41</td>\n",
       "      <td>2020-03-15</td>\n",
       "    </tr>\n",
       "    <tr>\n",
       "      <th>18</th>\n",
       "      <td>16/03/2020</td>\n",
       "      <td>0</td>\n",
       "      <td>23</td>\n",
       "      <td>23</td>\n",
       "      <td>64</td>\n",
       "      <td>2020-03-16</td>\n",
       "    </tr>\n",
       "    <tr>\n",
       "      <th>19</th>\n",
       "      <td>17/03/2020</td>\n",
       "      <td>0</td>\n",
       "      <td>23</td>\n",
       "      <td>23</td>\n",
       "      <td>87</td>\n",
       "      <td>2020-03-17</td>\n",
       "    </tr>\n",
       "    <tr>\n",
       "      <th>20</th>\n",
       "      <td>18/03/2020</td>\n",
       "      <td>0</td>\n",
       "      <td>20</td>\n",
       "      <td>20</td>\n",
       "      <td>107</td>\n",
       "      <td>2020-03-18</td>\n",
       "    </tr>\n",
       "    <tr>\n",
       "      <th>21</th>\n",
       "      <td>19/03/2020</td>\n",
       "      <td>0</td>\n",
       "      <td>43</td>\n",
       "      <td>43</td>\n",
       "      <td>150</td>\n",
       "      <td>2020-03-19</td>\n",
       "    </tr>\n",
       "    <tr>\n",
       "      <th>22</th>\n",
       "      <td>20/03/2020</td>\n",
       "      <td>0</td>\n",
       "      <td>55</td>\n",
       "      <td>55</td>\n",
       "      <td>205</td>\n",
       "      <td>2020-03-20</td>\n",
       "    </tr>\n",
       "    <tr>\n",
       "      <th>23</th>\n",
       "      <td>21/03/2020</td>\n",
       "      <td>0</td>\n",
       "      <td>62</td>\n",
       "      <td>62</td>\n",
       "      <td>267</td>\n",
       "      <td>2020-03-21</td>\n",
       "    </tr>\n",
       "    <tr>\n",
       "      <th>24</th>\n",
       "      <td>22/03/2020</td>\n",
       "      <td>0</td>\n",
       "      <td>60</td>\n",
       "      <td>60</td>\n",
       "      <td>327</td>\n",
       "      <td>2020-03-22</td>\n",
       "    </tr>\n",
       "    <tr>\n",
       "      <th>25</th>\n",
       "      <td>23/03/2020</td>\n",
       "      <td>0</td>\n",
       "      <td>86</td>\n",
       "      <td>86</td>\n",
       "      <td>413</td>\n",
       "      <td>2020-03-23</td>\n",
       "    </tr>\n",
       "    <tr>\n",
       "      <th>26</th>\n",
       "      <td>24/03/2020</td>\n",
       "      <td>0</td>\n",
       "      <td>74</td>\n",
       "      <td>74</td>\n",
       "      <td>487</td>\n",
       "      <td>2020-03-24</td>\n",
       "    </tr>\n",
       "    <tr>\n",
       "      <th>27</th>\n",
       "      <td>25/03/2020</td>\n",
       "      <td>0</td>\n",
       "      <td>110</td>\n",
       "      <td>110</td>\n",
       "      <td>597</td>\n",
       "      <td>2020-03-25</td>\n",
       "    </tr>\n",
       "    <tr>\n",
       "      <th>28</th>\n",
       "      <td>26/03/2020</td>\n",
       "      <td>0</td>\n",
       "      <td>124</td>\n",
       "      <td>124</td>\n",
       "      <td>721</td>\n",
       "      <td>2020-03-26</td>\n",
       "    </tr>\n",
       "    <tr>\n",
       "      <th>29</th>\n",
       "      <td>27/03/2020</td>\n",
       "      <td>0</td>\n",
       "      <td>108</td>\n",
       "      <td>108</td>\n",
       "      <td>829</td>\n",
       "      <td>2020-03-27</td>\n",
       "    </tr>\n",
       "    <tr>\n",
       "      <th>30</th>\n",
       "      <td>28/03/2020</td>\n",
       "      <td>1</td>\n",
       "      <td>148</td>\n",
       "      <td>149</td>\n",
       "      <td>978</td>\n",
       "      <td>2020-03-28</td>\n",
       "    </tr>\n",
       "    <tr>\n",
       "      <th>31</th>\n",
       "      <td>29/03/2020</td>\n",
       "      <td>0</td>\n",
       "      <td>119</td>\n",
       "      <td>119</td>\n",
       "      <td>1097</td>\n",
       "      <td>2020-03-29</td>\n",
       "    </tr>\n",
       "    <tr>\n",
       "      <th>32</th>\n",
       "      <td>30/03/2020</td>\n",
       "      <td>0</td>\n",
       "      <td>150</td>\n",
       "      <td>150</td>\n",
       "      <td>1247</td>\n",
       "      <td>2020-03-30</td>\n",
       "    </tr>\n",
       "    <tr>\n",
       "      <th>33</th>\n",
       "      <td>31/03/2020</td>\n",
       "      <td>0</td>\n",
       "      <td>165</td>\n",
       "      <td>165</td>\n",
       "      <td>1412</td>\n",
       "      <td>2020-03-31</td>\n",
       "    </tr>\n",
       "    <tr>\n",
       "      <th>34</th>\n",
       "      <td>1/04/2020</td>\n",
       "      <td>0</td>\n",
       "      <td>157</td>\n",
       "      <td>157</td>\n",
       "      <td>1569</td>\n",
       "      <td>2020-04-01</td>\n",
       "    </tr>\n",
       "    <tr>\n",
       "      <th>35</th>\n",
       "      <td>2/04/2020</td>\n",
       "      <td>1</td>\n",
       "      <td>164</td>\n",
       "      <td>165</td>\n",
       "      <td>1734</td>\n",
       "      <td>2020-04-02</td>\n",
       "    </tr>\n",
       "    <tr>\n",
       "      <th>36</th>\n",
       "      <td>3/04/2020</td>\n",
       "      <td>1</td>\n",
       "      <td>155</td>\n",
       "      <td>156</td>\n",
       "      <td>1890</td>\n",
       "      <td>2020-04-03</td>\n",
       "    </tr>\n",
       "    <tr>\n",
       "      <th>37</th>\n",
       "      <td>4/04/2020</td>\n",
       "      <td>0</td>\n",
       "      <td>159</td>\n",
       "      <td>159</td>\n",
       "      <td>2049</td>\n",
       "      <td>2020-04-04</td>\n",
       "    </tr>\n",
       "    <tr>\n",
       "      <th>38</th>\n",
       "      <td>5/04/2020</td>\n",
       "      <td>0</td>\n",
       "      <td>148</td>\n",
       "      <td>148</td>\n",
       "      <td>2197</td>\n",
       "      <td>2020-04-05</td>\n",
       "    </tr>\n",
       "    <tr>\n",
       "      <th>39</th>\n",
       "      <td>6/04/2020</td>\n",
       "      <td>0</td>\n",
       "      <td>154</td>\n",
       "      <td>154</td>\n",
       "      <td>2351</td>\n",
       "      <td>2020-04-06</td>\n",
       "    </tr>\n",
       "    <tr>\n",
       "      <th>40</th>\n",
       "      <td>7/04/2020</td>\n",
       "      <td>0</td>\n",
       "      <td>141</td>\n",
       "      <td>141</td>\n",
       "      <td>2492</td>\n",
       "      <td>2020-04-07</td>\n",
       "    </tr>\n",
       "    <tr>\n",
       "      <th>41</th>\n",
       "      <td>8/04/2020</td>\n",
       "      <td>1</td>\n",
       "      <td>139</td>\n",
       "      <td>140</td>\n",
       "      <td>2632</td>\n",
       "      <td>2020-04-08</td>\n",
       "    </tr>\n",
       "    <tr>\n",
       "      <th>42</th>\n",
       "      <td>9/04/2020</td>\n",
       "      <td>1</td>\n",
       "      <td>104</td>\n",
       "      <td>105</td>\n",
       "      <td>2737</td>\n",
       "      <td>2020-04-09</td>\n",
       "    </tr>\n",
       "    <tr>\n",
       "      <th>43</th>\n",
       "      <td>10/04/2020</td>\n",
       "      <td>0</td>\n",
       "      <td>136</td>\n",
       "      <td>136</td>\n",
       "      <td>2873</td>\n",
       "      <td>2020-04-10</td>\n",
       "    </tr>\n",
       "    <tr>\n",
       "      <th>44</th>\n",
       "      <td>11/04/2020</td>\n",
       "      <td>0</td>\n",
       "      <td>133</td>\n",
       "      <td>133</td>\n",
       "      <td>3006</td>\n",
       "      <td>2020-04-11</td>\n",
       "    </tr>\n",
       "    <tr>\n",
       "      <th>45</th>\n",
       "      <td>12/04/2020</td>\n",
       "      <td>1</td>\n",
       "      <td>128</td>\n",
       "      <td>129</td>\n",
       "      <td>3135</td>\n",
       "      <td>2020-04-12</td>\n",
       "    </tr>\n",
       "    <tr>\n",
       "      <th>46</th>\n",
       "      <td>13/04/2020</td>\n",
       "      <td>0</td>\n",
       "      <td>119</td>\n",
       "      <td>119</td>\n",
       "      <td>3254</td>\n",
       "      <td>2020-04-13</td>\n",
       "    </tr>\n",
       "    <tr>\n",
       "      <th>47</th>\n",
       "      <td>14/04/2020</td>\n",
       "      <td>1</td>\n",
       "      <td>122</td>\n",
       "      <td>123</td>\n",
       "      <td>3377</td>\n",
       "      <td>2020-04-14</td>\n",
       "    </tr>\n",
       "    <tr>\n",
       "      <th>48</th>\n",
       "      <td>15/04/2020</td>\n",
       "      <td>1</td>\n",
       "      <td>102</td>\n",
       "      <td>103</td>\n",
       "      <td>3480</td>\n",
       "      <td>2020-04-15</td>\n",
       "    </tr>\n",
       "    <tr>\n",
       "      <th>49</th>\n",
       "      <td>16/04/2020</td>\n",
       "      <td>2</td>\n",
       "      <td>104</td>\n",
       "      <td>106</td>\n",
       "      <td>3586</td>\n",
       "      <td>2020-04-16</td>\n",
       "    </tr>\n",
       "    <tr>\n",
       "      <th>50</th>\n",
       "      <td>17/04/2020</td>\n",
       "      <td>5</td>\n",
       "      <td>73</td>\n",
       "      <td>78</td>\n",
       "      <td>3664</td>\n",
       "      <td>2020-04-17</td>\n",
       "    </tr>\n",
       "    <tr>\n",
       "      <th>51</th>\n",
       "      <td>18/04/2020</td>\n",
       "      <td>30</td>\n",
       "      <td>21</td>\n",
       "      <td>51</td>\n",
       "      <td>3715</td>\n",
       "      <td>2020-04-18</td>\n",
       "    </tr>\n",
       "    <tr>\n",
       "      <th>52</th>\n",
       "      <td>19/04/2020</td>\n",
       "      <td>20</td>\n",
       "      <td>1</td>\n",
       "      <td>21</td>\n",
       "      <td>3736</td>\n",
       "      <td>2020-04-19</td>\n",
       "    </tr>\n",
       "    <tr>\n",
       "      <th>53</th>\n",
       "      <td>20/04/2020</td>\n",
       "      <td>1</td>\n",
       "      <td>0</td>\n",
       "      <td>1</td>\n",
       "      <td>3737</td>\n",
       "      <td>2020-04-20</td>\n",
       "    </tr>\n",
       "  </tbody>\n",
       "</table>\n",
       "</div>"
      ],
      "text/plain": [
       "         datum  nieuw  oud  toename  totaal       date\n",
       "0   27/02/2020      0    0        0       0 2020-02-27\n",
       "1   28/02/2020      0    0        0       0 2020-02-28\n",
       "2   29/02/2020      0    0        0       0 2020-02-29\n",
       "3    1/03/2020      0    0        0       0 2020-03-01\n",
       "4    2/03/2020      0    0        0       0 2020-03-02\n",
       "5    3/03/2020      0    0        0       0 2020-03-03\n",
       "6    4/03/2020      0    0        0       0 2020-03-04\n",
       "7    5/03/2020      0    0        0       0 2020-03-05\n",
       "8    6/03/2020      0    1        1       1 2020-03-06\n",
       "9    7/03/2020      0    1        1       2 2020-03-07\n",
       "10   8/03/2020      0    2        2       4 2020-03-08\n",
       "11   9/03/2020      0    1        1       5 2020-03-09\n",
       "12  10/03/2020      0    1        1       6 2020-03-10\n",
       "13  11/03/2020      0    2        2       8 2020-03-11\n",
       "14  12/03/2020      0    3        3      11 2020-03-12\n",
       "15  13/03/2020      0    6        6      17 2020-03-13\n",
       "16  14/03/2020      0   10       10      27 2020-03-14\n",
       "17  15/03/2020      0   14       14      41 2020-03-15\n",
       "18  16/03/2020      0   23       23      64 2020-03-16\n",
       "19  17/03/2020      0   23       23      87 2020-03-17\n",
       "20  18/03/2020      0   20       20     107 2020-03-18\n",
       "21  19/03/2020      0   43       43     150 2020-03-19\n",
       "22  20/03/2020      0   55       55     205 2020-03-20\n",
       "23  21/03/2020      0   62       62     267 2020-03-21\n",
       "24  22/03/2020      0   60       60     327 2020-03-22\n",
       "25  23/03/2020      0   86       86     413 2020-03-23\n",
       "26  24/03/2020      0   74       74     487 2020-03-24\n",
       "27  25/03/2020      0  110      110     597 2020-03-25\n",
       "28  26/03/2020      0  124      124     721 2020-03-26\n",
       "29  27/03/2020      0  108      108     829 2020-03-27\n",
       "30  28/03/2020      1  148      149     978 2020-03-28\n",
       "31  29/03/2020      0  119      119    1097 2020-03-29\n",
       "32  30/03/2020      0  150      150    1247 2020-03-30\n",
       "33  31/03/2020      0  165      165    1412 2020-03-31\n",
       "34   1/04/2020      0  157      157    1569 2020-04-01\n",
       "35   2/04/2020      1  164      165    1734 2020-04-02\n",
       "36   3/04/2020      1  155      156    1890 2020-04-03\n",
       "37   4/04/2020      0  159      159    2049 2020-04-04\n",
       "38   5/04/2020      0  148      148    2197 2020-04-05\n",
       "39   6/04/2020      0  154      154    2351 2020-04-06\n",
       "40   7/04/2020      0  141      141    2492 2020-04-07\n",
       "41   8/04/2020      1  139      140    2632 2020-04-08\n",
       "42   9/04/2020      1  104      105    2737 2020-04-09\n",
       "43  10/04/2020      0  136      136    2873 2020-04-10\n",
       "44  11/04/2020      0  133      133    3006 2020-04-11\n",
       "45  12/04/2020      1  128      129    3135 2020-04-12\n",
       "46  13/04/2020      0  119      119    3254 2020-04-13\n",
       "47  14/04/2020      1  122      123    3377 2020-04-14\n",
       "48  15/04/2020      1  102      103    3480 2020-04-15\n",
       "49  16/04/2020      2  104      106    3586 2020-04-16\n",
       "50  17/04/2020      5   73       78    3664 2020-04-17\n",
       "51  18/04/2020     30   21       51    3715 2020-04-18\n",
       "52  19/04/2020     20    1       21    3736 2020-04-19\n",
       "53  20/04/2020      1    0        1    3737 2020-04-20"
      ]
     },
     "execution_count": 3,
     "metadata": {},
     "output_type": "execute_result"
    }
   ],
   "source": [
    "import datetime\n",
    "import urllib\n",
    "dateparse = lambda x: (x.replace(' ','').replace(\"feb\",\"/02/2020\").replace('mrt','/03/2020').replace('apr','/04/2020'))\n",
    "\n",
    "\n",
    "today=datetime.datetime.now()\n",
    "datestr=today.strftime(\"%Y-%m-20\")\n",
    "\n",
    "#https://github.com/J535D165/CoronaWatchNL/raw/master/raw_data/website_charts/in-ziekenhuis-opgenomen-pati%C3%ABnten-2020-04-13.csv\n",
    "\n",
    "#https://github.com/J535D165/CoronaWatchNL/raw/master/raw_data/website_charts/in-ziekenhuis-opgenomen-pati%C3%ABnten-2020-04-13.csv\n",
    "github=\"https://github.com/J535D165/CoronaWatchNL/raw/master/raw_data/website_charts/\"\n",
    "#https://raw.githubusercontent.com/J535D165/CoronaWatchNL/master/raw_data/website_charts/overledenen-per-dag-2020-04-12.csv\n",
    "filen_overl=\"overledenen-per-dag-%s.csv\"%datestr\n",
    "\n",
    "\n",
    "#https://raw.githubusercontent.com/J535D165/CoronaWatchNL/master/raw_data/website_charts/in-ziekenhuis-opgenomen-pati%C3%ABnten-2020-04-12.csv\n",
    "filen_ziek=\"in-ziekenhuis-opgenomen-patiënten-%s.csv\"%datestr\n",
    "filen_ziek=urllib.parse.quote(filen_ziek)\n",
    "print(filen_ziek)\n",
    "df_ziek=pd.read_csv(github+filen_ziek, sep=\";\")\n",
    "df_ziek=df_ziek.rename(columns={'GGD-meldingsdatum':'datum','tot en met gisteren':'oud'})\n",
    "df_ziek['datum']=df_ziek['datum'].apply(dateparse)\n",
    "df_ziek['toename']=df_ziek['nieuw']+df_ziek['oud']\n",
    "#df_ziek['totaal']=df['toename'].cumsum()\n",
    "df_ziek['totaal']=df_ziek['toename'].cumsum()\n",
    "#df_ziek.plot(x='datum',y='totaal')\n",
    "df_ziek['date']= pd.to_datetime(df_ziek.datum, format='%d/%m/%Y')\n",
    "df_ziek\n",
    "\n",
    "df_deaths=pd.read_csv(github+filen_overl, sep=\";\")\n",
    "df_deaths=df_deaths.rename(columns={'Datum van overlijden':'datum','tot en met gisteren':'oud'})\n",
    "df_deaths['datum']=df_deaths['datum'].apply(dateparse)\n",
    "df_deaths['toename']=df_deaths['nieuw']+df_deaths['oud']\n",
    "#df_ziek['totaal']=df['toename'].cumsum()\n",
    "df_deaths['totaal']=df_deaths['toename'].cumsum()\n",
    "#df_ziek.plot(x='datum',y='totaal')\n",
    "df_deaths['date']= pd.to_datetime(df_deaths.datum, format='%d/%m/%Y')\n",
    "df_deaths\n"
   ]
  },
  {
   "cell_type": "code",
   "execution_count": 4,
   "metadata": {},
   "outputs": [
    {
     "data": {
      "text/html": [
       "<div>\n",
       "<style scoped>\n",
       "    .dataframe tbody tr th:only-of-type {\n",
       "        vertical-align: middle;\n",
       "    }\n",
       "\n",
       "    .dataframe tbody tr th {\n",
       "        vertical-align: top;\n",
       "    }\n",
       "\n",
       "    .dataframe thead th {\n",
       "        text-align: right;\n",
       "    }\n",
       "</style>\n",
       "<table border=\"1\" class=\"dataframe\">\n",
       "  <thead>\n",
       "    <tr style=\"text-align: right;\">\n",
       "      <th></th>\n",
       "      <th>datum</th>\n",
       "      <th>nieuw</th>\n",
       "      <th>oud</th>\n",
       "      <th>toename</th>\n",
       "      <th>totaal</th>\n",
       "      <th>date</th>\n",
       "    </tr>\n",
       "  </thead>\n",
       "  <tbody>\n",
       "    <tr>\n",
       "      <th>0</th>\n",
       "      <td>27/02/2020</td>\n",
       "      <td>0</td>\n",
       "      <td>1</td>\n",
       "      <td>1</td>\n",
       "      <td>1</td>\n",
       "      <td>2020-02-27</td>\n",
       "    </tr>\n",
       "    <tr>\n",
       "      <th>1</th>\n",
       "      <td>28/02/2020</td>\n",
       "      <td>0</td>\n",
       "      <td>0</td>\n",
       "      <td>0</td>\n",
       "      <td>1</td>\n",
       "      <td>2020-02-28</td>\n",
       "    </tr>\n",
       "    <tr>\n",
       "      <th>2</th>\n",
       "      <td>29/02/2020</td>\n",
       "      <td>0</td>\n",
       "      <td>2</td>\n",
       "      <td>2</td>\n",
       "      <td>3</td>\n",
       "      <td>2020-02-29</td>\n",
       "    </tr>\n",
       "    <tr>\n",
       "      <th>3</th>\n",
       "      <td>1/03/2020</td>\n",
       "      <td>0</td>\n",
       "      <td>1</td>\n",
       "      <td>1</td>\n",
       "      <td>4</td>\n",
       "      <td>2020-03-01</td>\n",
       "    </tr>\n",
       "    <tr>\n",
       "      <th>4</th>\n",
       "      <td>2/03/2020</td>\n",
       "      <td>0</td>\n",
       "      <td>3</td>\n",
       "      <td>3</td>\n",
       "      <td>7</td>\n",
       "      <td>2020-03-02</td>\n",
       "    </tr>\n",
       "    <tr>\n",
       "      <th>5</th>\n",
       "      <td>3/03/2020</td>\n",
       "      <td>0</td>\n",
       "      <td>6</td>\n",
       "      <td>6</td>\n",
       "      <td>13</td>\n",
       "      <td>2020-03-03</td>\n",
       "    </tr>\n",
       "    <tr>\n",
       "      <th>6</th>\n",
       "      <td>4/03/2020</td>\n",
       "      <td>0</td>\n",
       "      <td>4</td>\n",
       "      <td>4</td>\n",
       "      <td>17</td>\n",
       "      <td>2020-03-04</td>\n",
       "    </tr>\n",
       "    <tr>\n",
       "      <th>7</th>\n",
       "      <td>5/03/2020</td>\n",
       "      <td>0</td>\n",
       "      <td>6</td>\n",
       "      <td>6</td>\n",
       "      <td>23</td>\n",
       "      <td>2020-03-05</td>\n",
       "    </tr>\n",
       "    <tr>\n",
       "      <th>8</th>\n",
       "      <td>6/03/2020</td>\n",
       "      <td>0</td>\n",
       "      <td>6</td>\n",
       "      <td>6</td>\n",
       "      <td>29</td>\n",
       "      <td>2020-03-06</td>\n",
       "    </tr>\n",
       "    <tr>\n",
       "      <th>9</th>\n",
       "      <td>7/03/2020</td>\n",
       "      <td>0</td>\n",
       "      <td>13</td>\n",
       "      <td>13</td>\n",
       "      <td>42</td>\n",
       "      <td>2020-03-07</td>\n",
       "    </tr>\n",
       "    <tr>\n",
       "      <th>10</th>\n",
       "      <td>8/03/2020</td>\n",
       "      <td>0</td>\n",
       "      <td>14</td>\n",
       "      <td>14</td>\n",
       "      <td>56</td>\n",
       "      <td>2020-03-08</td>\n",
       "    </tr>\n",
       "    <tr>\n",
       "      <th>11</th>\n",
       "      <td>9/03/2020</td>\n",
       "      <td>0</td>\n",
       "      <td>17</td>\n",
       "      <td>17</td>\n",
       "      <td>73</td>\n",
       "      <td>2020-03-09</td>\n",
       "    </tr>\n",
       "    <tr>\n",
       "      <th>12</th>\n",
       "      <td>10/03/2020</td>\n",
       "      <td>0</td>\n",
       "      <td>19</td>\n",
       "      <td>19</td>\n",
       "      <td>92</td>\n",
       "      <td>2020-03-10</td>\n",
       "    </tr>\n",
       "    <tr>\n",
       "      <th>13</th>\n",
       "      <td>11/03/2020</td>\n",
       "      <td>0</td>\n",
       "      <td>43</td>\n",
       "      <td>43</td>\n",
       "      <td>135</td>\n",
       "      <td>2020-03-11</td>\n",
       "    </tr>\n",
       "    <tr>\n",
       "      <th>14</th>\n",
       "      <td>12/03/2020</td>\n",
       "      <td>0</td>\n",
       "      <td>43</td>\n",
       "      <td>43</td>\n",
       "      <td>178</td>\n",
       "      <td>2020-03-12</td>\n",
       "    </tr>\n",
       "    <tr>\n",
       "      <th>15</th>\n",
       "      <td>13/03/2020</td>\n",
       "      <td>0</td>\n",
       "      <td>64</td>\n",
       "      <td>64</td>\n",
       "      <td>242</td>\n",
       "      <td>2020-03-13</td>\n",
       "    </tr>\n",
       "    <tr>\n",
       "      <th>16</th>\n",
       "      <td>14/03/2020</td>\n",
       "      <td>0</td>\n",
       "      <td>66</td>\n",
       "      <td>66</td>\n",
       "      <td>308</td>\n",
       "      <td>2020-03-14</td>\n",
       "    </tr>\n",
       "    <tr>\n",
       "      <th>17</th>\n",
       "      <td>15/03/2020</td>\n",
       "      <td>0</td>\n",
       "      <td>78</td>\n",
       "      <td>78</td>\n",
       "      <td>386</td>\n",
       "      <td>2020-03-15</td>\n",
       "    </tr>\n",
       "    <tr>\n",
       "      <th>18</th>\n",
       "      <td>16/03/2020</td>\n",
       "      <td>0</td>\n",
       "      <td>122</td>\n",
       "      <td>122</td>\n",
       "      <td>508</td>\n",
       "      <td>2020-03-16</td>\n",
       "    </tr>\n",
       "    <tr>\n",
       "      <th>19</th>\n",
       "      <td>17/03/2020</td>\n",
       "      <td>0</td>\n",
       "      <td>144</td>\n",
       "      <td>144</td>\n",
       "      <td>652</td>\n",
       "      <td>2020-03-17</td>\n",
       "    </tr>\n",
       "    <tr>\n",
       "      <th>20</th>\n",
       "      <td>18/03/2020</td>\n",
       "      <td>0</td>\n",
       "      <td>176</td>\n",
       "      <td>176</td>\n",
       "      <td>828</td>\n",
       "      <td>2020-03-18</td>\n",
       "    </tr>\n",
       "    <tr>\n",
       "      <th>21</th>\n",
       "      <td>19/03/2020</td>\n",
       "      <td>0</td>\n",
       "      <td>241</td>\n",
       "      <td>241</td>\n",
       "      <td>1069</td>\n",
       "      <td>2020-03-19</td>\n",
       "    </tr>\n",
       "    <tr>\n",
       "      <th>22</th>\n",
       "      <td>20/03/2020</td>\n",
       "      <td>0</td>\n",
       "      <td>306</td>\n",
       "      <td>306</td>\n",
       "      <td>1375</td>\n",
       "      <td>2020-03-20</td>\n",
       "    </tr>\n",
       "    <tr>\n",
       "      <th>23</th>\n",
       "      <td>21/03/2020</td>\n",
       "      <td>0</td>\n",
       "      <td>330</td>\n",
       "      <td>330</td>\n",
       "      <td>1705</td>\n",
       "      <td>2020-03-21</td>\n",
       "    </tr>\n",
       "    <tr>\n",
       "      <th>24</th>\n",
       "      <td>22/03/2020</td>\n",
       "      <td>0</td>\n",
       "      <td>291</td>\n",
       "      <td>291</td>\n",
       "      <td>1996</td>\n",
       "      <td>2020-03-22</td>\n",
       "    </tr>\n",
       "    <tr>\n",
       "      <th>25</th>\n",
       "      <td>23/03/2020</td>\n",
       "      <td>0</td>\n",
       "      <td>321</td>\n",
       "      <td>321</td>\n",
       "      <td>2317</td>\n",
       "      <td>2020-03-23</td>\n",
       "    </tr>\n",
       "    <tr>\n",
       "      <th>26</th>\n",
       "      <td>24/03/2020</td>\n",
       "      <td>1</td>\n",
       "      <td>559</td>\n",
       "      <td>560</td>\n",
       "      <td>2877</td>\n",
       "      <td>2020-03-24</td>\n",
       "    </tr>\n",
       "    <tr>\n",
       "      <th>27</th>\n",
       "      <td>25/03/2020</td>\n",
       "      <td>0</td>\n",
       "      <td>502</td>\n",
       "      <td>502</td>\n",
       "      <td>3379</td>\n",
       "      <td>2020-03-25</td>\n",
       "    </tr>\n",
       "    <tr>\n",
       "      <th>28</th>\n",
       "      <td>26/03/2020</td>\n",
       "      <td>0</td>\n",
       "      <td>500</td>\n",
       "      <td>500</td>\n",
       "      <td>3879</td>\n",
       "      <td>2020-03-26</td>\n",
       "    </tr>\n",
       "    <tr>\n",
       "      <th>29</th>\n",
       "      <td>27/03/2020</td>\n",
       "      <td>0</td>\n",
       "      <td>541</td>\n",
       "      <td>541</td>\n",
       "      <td>4420</td>\n",
       "      <td>2020-03-27</td>\n",
       "    </tr>\n",
       "    <tr>\n",
       "      <th>30</th>\n",
       "      <td>28/03/2020</td>\n",
       "      <td>2</td>\n",
       "      <td>488</td>\n",
       "      <td>490</td>\n",
       "      <td>4910</td>\n",
       "      <td>2020-03-28</td>\n",
       "    </tr>\n",
       "    <tr>\n",
       "      <th>31</th>\n",
       "      <td>29/03/2020</td>\n",
       "      <td>0</td>\n",
       "      <td>404</td>\n",
       "      <td>404</td>\n",
       "      <td>5314</td>\n",
       "      <td>2020-03-29</td>\n",
       "    </tr>\n",
       "    <tr>\n",
       "      <th>32</th>\n",
       "      <td>30/03/2020</td>\n",
       "      <td>0</td>\n",
       "      <td>349</td>\n",
       "      <td>349</td>\n",
       "      <td>5663</td>\n",
       "      <td>2020-03-30</td>\n",
       "    </tr>\n",
       "    <tr>\n",
       "      <th>33</th>\n",
       "      <td>31/03/2020</td>\n",
       "      <td>0</td>\n",
       "      <td>506</td>\n",
       "      <td>506</td>\n",
       "      <td>6169</td>\n",
       "      <td>2020-03-31</td>\n",
       "    </tr>\n",
       "    <tr>\n",
       "      <th>34</th>\n",
       "      <td>1/04/2020</td>\n",
       "      <td>0</td>\n",
       "      <td>349</td>\n",
       "      <td>349</td>\n",
       "      <td>6518</td>\n",
       "      <td>2020-04-01</td>\n",
       "    </tr>\n",
       "    <tr>\n",
       "      <th>35</th>\n",
       "      <td>2/04/2020</td>\n",
       "      <td>0</td>\n",
       "      <td>346</td>\n",
       "      <td>346</td>\n",
       "      <td>6864</td>\n",
       "      <td>2020-04-02</td>\n",
       "    </tr>\n",
       "    <tr>\n",
       "      <th>36</th>\n",
       "      <td>3/04/2020</td>\n",
       "      <td>0</td>\n",
       "      <td>351</td>\n",
       "      <td>351</td>\n",
       "      <td>7215</td>\n",
       "      <td>2020-04-03</td>\n",
       "    </tr>\n",
       "    <tr>\n",
       "      <th>37</th>\n",
       "      <td>4/04/2020</td>\n",
       "      <td>0</td>\n",
       "      <td>288</td>\n",
       "      <td>288</td>\n",
       "      <td>7503</td>\n",
       "      <td>2020-04-04</td>\n",
       "    </tr>\n",
       "    <tr>\n",
       "      <th>38</th>\n",
       "      <td>5/04/2020</td>\n",
       "      <td>0</td>\n",
       "      <td>251</td>\n",
       "      <td>251</td>\n",
       "      <td>7754</td>\n",
       "      <td>2020-04-05</td>\n",
       "    </tr>\n",
       "    <tr>\n",
       "      <th>39</th>\n",
       "      <td>6/04/2020</td>\n",
       "      <td>1</td>\n",
       "      <td>237</td>\n",
       "      <td>238</td>\n",
       "      <td>7992</td>\n",
       "      <td>2020-04-06</td>\n",
       "    </tr>\n",
       "    <tr>\n",
       "      <th>40</th>\n",
       "      <td>7/04/2020</td>\n",
       "      <td>0</td>\n",
       "      <td>266</td>\n",
       "      <td>266</td>\n",
       "      <td>8258</td>\n",
       "      <td>2020-04-07</td>\n",
       "    </tr>\n",
       "    <tr>\n",
       "      <th>41</th>\n",
       "      <td>8/04/2020</td>\n",
       "      <td>1</td>\n",
       "      <td>213</td>\n",
       "      <td>214</td>\n",
       "      <td>8472</td>\n",
       "      <td>2020-04-08</td>\n",
       "    </tr>\n",
       "    <tr>\n",
       "      <th>42</th>\n",
       "      <td>9/04/2020</td>\n",
       "      <td>0</td>\n",
       "      <td>198</td>\n",
       "      <td>198</td>\n",
       "      <td>8670</td>\n",
       "      <td>2020-04-09</td>\n",
       "    </tr>\n",
       "    <tr>\n",
       "      <th>43</th>\n",
       "      <td>10/04/2020</td>\n",
       "      <td>0</td>\n",
       "      <td>187</td>\n",
       "      <td>187</td>\n",
       "      <td>8857</td>\n",
       "      <td>2020-04-10</td>\n",
       "    </tr>\n",
       "    <tr>\n",
       "      <th>44</th>\n",
       "      <td>11/04/2020</td>\n",
       "      <td>0</td>\n",
       "      <td>143</td>\n",
       "      <td>143</td>\n",
       "      <td>9000</td>\n",
       "      <td>2020-04-11</td>\n",
       "    </tr>\n",
       "    <tr>\n",
       "      <th>45</th>\n",
       "      <td>12/04/2020</td>\n",
       "      <td>1</td>\n",
       "      <td>104</td>\n",
       "      <td>105</td>\n",
       "      <td>9105</td>\n",
       "      <td>2020-04-12</td>\n",
       "    </tr>\n",
       "    <tr>\n",
       "      <th>46</th>\n",
       "      <td>13/04/2020</td>\n",
       "      <td>1</td>\n",
       "      <td>132</td>\n",
       "      <td>133</td>\n",
       "      <td>9238</td>\n",
       "      <td>2020-04-13</td>\n",
       "    </tr>\n",
       "    <tr>\n",
       "      <th>47</th>\n",
       "      <td>14/04/2020</td>\n",
       "      <td>3</td>\n",
       "      <td>128</td>\n",
       "      <td>131</td>\n",
       "      <td>9369</td>\n",
       "      <td>2020-04-14</td>\n",
       "    </tr>\n",
       "    <tr>\n",
       "      <th>48</th>\n",
       "      <td>15/04/2020</td>\n",
       "      <td>2</td>\n",
       "      <td>130</td>\n",
       "      <td>132</td>\n",
       "      <td>9501</td>\n",
       "      <td>2020-04-15</td>\n",
       "    </tr>\n",
       "    <tr>\n",
       "      <th>49</th>\n",
       "      <td>16/04/2020</td>\n",
       "      <td>4</td>\n",
       "      <td>90</td>\n",
       "      <td>94</td>\n",
       "      <td>9595</td>\n",
       "      <td>2020-04-16</td>\n",
       "    </tr>\n",
       "    <tr>\n",
       "      <th>50</th>\n",
       "      <td>17/04/2020</td>\n",
       "      <td>8</td>\n",
       "      <td>74</td>\n",
       "      <td>82</td>\n",
       "      <td>9677</td>\n",
       "      <td>2020-04-17</td>\n",
       "    </tr>\n",
       "    <tr>\n",
       "      <th>51</th>\n",
       "      <td>18/04/2020</td>\n",
       "      <td>27</td>\n",
       "      <td>46</td>\n",
       "      <td>73</td>\n",
       "      <td>9750</td>\n",
       "      <td>2020-04-18</td>\n",
       "    </tr>\n",
       "    <tr>\n",
       "      <th>52</th>\n",
       "      <td>19/04/2020</td>\n",
       "      <td>26</td>\n",
       "      <td>2</td>\n",
       "      <td>28</td>\n",
       "      <td>9778</td>\n",
       "      <td>2020-04-19</td>\n",
       "    </tr>\n",
       "    <tr>\n",
       "      <th>53</th>\n",
       "      <td>20/04/2020</td>\n",
       "      <td>1</td>\n",
       "      <td>0</td>\n",
       "      <td>1</td>\n",
       "      <td>9779</td>\n",
       "      <td>2020-04-20</td>\n",
       "    </tr>\n",
       "  </tbody>\n",
       "</table>\n",
       "</div>"
      ],
      "text/plain": [
       "         datum  nieuw  oud  toename  totaal       date\n",
       "0   27/02/2020      0    1        1       1 2020-02-27\n",
       "1   28/02/2020      0    0        0       1 2020-02-28\n",
       "2   29/02/2020      0    2        2       3 2020-02-29\n",
       "3    1/03/2020      0    1        1       4 2020-03-01\n",
       "4    2/03/2020      0    3        3       7 2020-03-02\n",
       "5    3/03/2020      0    6        6      13 2020-03-03\n",
       "6    4/03/2020      0    4        4      17 2020-03-04\n",
       "7    5/03/2020      0    6        6      23 2020-03-05\n",
       "8    6/03/2020      0    6        6      29 2020-03-06\n",
       "9    7/03/2020      0   13       13      42 2020-03-07\n",
       "10   8/03/2020      0   14       14      56 2020-03-08\n",
       "11   9/03/2020      0   17       17      73 2020-03-09\n",
       "12  10/03/2020      0   19       19      92 2020-03-10\n",
       "13  11/03/2020      0   43       43     135 2020-03-11\n",
       "14  12/03/2020      0   43       43     178 2020-03-12\n",
       "15  13/03/2020      0   64       64     242 2020-03-13\n",
       "16  14/03/2020      0   66       66     308 2020-03-14\n",
       "17  15/03/2020      0   78       78     386 2020-03-15\n",
       "18  16/03/2020      0  122      122     508 2020-03-16\n",
       "19  17/03/2020      0  144      144     652 2020-03-17\n",
       "20  18/03/2020      0  176      176     828 2020-03-18\n",
       "21  19/03/2020      0  241      241    1069 2020-03-19\n",
       "22  20/03/2020      0  306      306    1375 2020-03-20\n",
       "23  21/03/2020      0  330      330    1705 2020-03-21\n",
       "24  22/03/2020      0  291      291    1996 2020-03-22\n",
       "25  23/03/2020      0  321      321    2317 2020-03-23\n",
       "26  24/03/2020      1  559      560    2877 2020-03-24\n",
       "27  25/03/2020      0  502      502    3379 2020-03-25\n",
       "28  26/03/2020      0  500      500    3879 2020-03-26\n",
       "29  27/03/2020      0  541      541    4420 2020-03-27\n",
       "30  28/03/2020      2  488      490    4910 2020-03-28\n",
       "31  29/03/2020      0  404      404    5314 2020-03-29\n",
       "32  30/03/2020      0  349      349    5663 2020-03-30\n",
       "33  31/03/2020      0  506      506    6169 2020-03-31\n",
       "34   1/04/2020      0  349      349    6518 2020-04-01\n",
       "35   2/04/2020      0  346      346    6864 2020-04-02\n",
       "36   3/04/2020      0  351      351    7215 2020-04-03\n",
       "37   4/04/2020      0  288      288    7503 2020-04-04\n",
       "38   5/04/2020      0  251      251    7754 2020-04-05\n",
       "39   6/04/2020      1  237      238    7992 2020-04-06\n",
       "40   7/04/2020      0  266      266    8258 2020-04-07\n",
       "41   8/04/2020      1  213      214    8472 2020-04-08\n",
       "42   9/04/2020      0  198      198    8670 2020-04-09\n",
       "43  10/04/2020      0  187      187    8857 2020-04-10\n",
       "44  11/04/2020      0  143      143    9000 2020-04-11\n",
       "45  12/04/2020      1  104      105    9105 2020-04-12\n",
       "46  13/04/2020      1  132      133    9238 2020-04-13\n",
       "47  14/04/2020      3  128      131    9369 2020-04-14\n",
       "48  15/04/2020      2  130      132    9501 2020-04-15\n",
       "49  16/04/2020      4   90       94    9595 2020-04-16\n",
       "50  17/04/2020      8   74       82    9677 2020-04-17\n",
       "51  18/04/2020     27   46       73    9750 2020-04-18\n",
       "52  19/04/2020     26    2       28    9778 2020-04-19\n",
       "53  20/04/2020      1    0        1    9779 2020-04-20"
      ]
     },
     "execution_count": 4,
     "metadata": {},
     "output_type": "execute_result"
    }
   ],
   "source": [
    "df_ziek"
   ]
  },
  {
   "cell_type": "code",
   "execution_count": 6,
   "metadata": {
    "scrolled": true
   },
   "outputs": [
    {
     "name": "stdout",
     "output_type": "stream",
     "text": [
      "[Timestamp('2020-03-04 00:00:00'), Timestamp('2020-03-05 00:00:00'), Timestamp('2020-03-06 00:00:00'), Timestamp('2020-03-07 00:00:00'), Timestamp('2020-03-08 00:00:00'), Timestamp('2020-03-09 00:00:00'), Timestamp('2020-03-10 00:00:00'), Timestamp('2020-03-11 00:00:00'), Timestamp('2020-03-12 00:00:00'), Timestamp('2020-03-13 00:00:00'), Timestamp('2020-03-14 00:00:00'), Timestamp('2020-03-15 00:00:00'), Timestamp('2020-03-16 00:00:00'), Timestamp('2020-03-17 00:00:00'), Timestamp('2020-03-18 00:00:00'), Timestamp('2020-03-19 00:00:00'), Timestamp('2020-03-20 00:00:00'), Timestamp('2020-03-21 00:00:00'), Timestamp('2020-03-22 00:00:00'), Timestamp('2020-03-23 00:00:00'), Timestamp('2020-03-24 00:00:00'), Timestamp('2020-03-25 00:00:00'), Timestamp('2020-03-26 00:00:00'), Timestamp('2020-03-27 00:00:00'), Timestamp('2020-03-28 00:00:00'), Timestamp('2020-03-29 00:00:00'), Timestamp('2020-03-30 00:00:00')]\n",
      "[  13.   16.   19.   25.   35.   46.   57.   80.   94.  114.  142.  176.\n",
      "  212.  267.  336.  426.  507.  581.  683.  796.  915. 1026. 1147. 1256.\n",
      " 1353. 1491. 1604. 1679. 1781. 1862. 1931. 2009. 2075. 2139. 2203. 2260.\n",
      " 2318. 2348. 2389. 2437. 2477. 2504. 2536. 2563. 2584. 2619. 2641. 2643.]\n",
      "parameter names: ['L', 'tau']\n",
      "independent variables: ['x']\n",
      "Parameters([('L', <Parameter 'L', value=2351.564166404328 +/- 17.2, bounds=[-inf:inf]>), ('tau', <Parameter 'tau', value=73.58922690409922 +/- 5.56, bounds=[-inf:inf]>)])\n",
      "Parameters([('L', <Parameter 'L', value=2216.210564697104 +/- 6.55, bounds=[-inf:inf]>), ('tau', <Parameter 'tau', value=36.60581214636209 +/- 1.53, bounds=[-inf:inf]>)])\n"
     ]
    },
    {
     "data": {
      "application/vnd.plotly.v1+json": {
       "config": {
        "plotlyServerURL": "https://plotly.com"
       },
       "data": [
        {
         "marker": {
          "size": 10,
          "symbol": "circle"
         },
         "mode": "markers",
         "name": "counts NVIC",
         "type": "scatter",
         "x": [
          "2020-03-05T00:00:00",
          "2020-03-06T00:00:00",
          "2020-03-07T00:00:00",
          "2020-03-08T00:00:00",
          "2020-03-09T00:00:00",
          "2020-03-10T00:00:00",
          "2020-03-11T00:00:00",
          "2020-03-12T00:00:00",
          "2020-03-13T00:00:00",
          "2020-03-14T00:00:00",
          "2020-03-15T00:00:00",
          "2020-03-16T00:00:00",
          "2020-03-17T00:00:00",
          "2020-03-18T00:00:00",
          "2020-03-19T00:00:00",
          "2020-03-20T00:00:00",
          "2020-03-21T00:00:00",
          "2020-03-22T00:00:00",
          "2020-03-23T00:00:00",
          "2020-03-24T00:00:00",
          "2020-03-25T00:00:00",
          "2020-03-26T00:00:00",
          "2020-03-27T00:00:00",
          "2020-03-28T00:00:00",
          "2020-03-29T00:00:00",
          "2020-03-30T00:00:00",
          "2020-03-31T00:00:00",
          "2020-04-01T00:00:00",
          "2020-04-02T00:00:00",
          "2020-04-03T00:00:00",
          "2020-04-04T00:00:00",
          "2020-04-05T00:00:00",
          "2020-04-06T00:00:00",
          "2020-04-07T00:00:00",
          "2020-04-08T00:00:00",
          "2020-04-09T00:00:00",
          "2020-04-10T00:00:00",
          "2020-04-11T00:00:00",
          "2020-04-12T00:00:00",
          "2020-04-13T00:00:00",
          "2020-04-14T00:00:00",
          "2020-04-15T00:00:00",
          "2020-04-16T00:00:00",
          "2020-04-17T00:00:00",
          "2020-04-18T00:00:00",
          "2020-04-19T00:00:00",
          "2020-04-20T00:00:00",
          "2020-04-21T00:00:00"
         ],
         "y": [
          13,
          16,
          19,
          25,
          35,
          46,
          57,
          80,
          94,
          114,
          142,
          176,
          212,
          267,
          336,
          426,
          507,
          581,
          683,
          796,
          915,
          1026,
          1147,
          1256,
          1353,
          1491,
          1604,
          1679,
          1781,
          1862,
          1931,
          2009,
          2075,
          2139,
          2203,
          2260,
          2318,
          2348,
          2389,
          2437,
          2477,
          2504,
          2536,
          2563,
          2584,
          2619,
          2641,
          2643
         ]
        },
        {
         "mode": "lines",
         "name": "last week: double every 73.6 days",
         "type": "scatter",
         "x": [
          "2020-04-08T00:00:00",
          "2020-04-09T00:00:00",
          "2020-04-10T00:00:00",
          "2020-04-11T00:00:00",
          "2020-04-12T00:00:00",
          "2020-04-13T00:00:00",
          "2020-04-14T00:00:00",
          "2020-04-15T00:00:00",
          "2020-04-16T00:00:00",
          "2020-04-17T00:00:00",
          "2020-04-18T00:00:00",
          "2020-04-19T00:00:00",
          "2020-04-20T00:00:00",
          "2020-04-21T00:00:00"
         ],
         "y": [
          2351.564166404328,
          2373.818520802688,
          2396.2834823776516,
          2418.9610442395124,
          2441.853218360641,
          2464.962035753987,
          2488.289546653276,
          2511.837820694902,
          2535.6089471015534,
          2559.6050348675676,
          2583.8282129460413,
          2608.280630437717,
          2632.9644567816504,
          2657.8818819476833
         ]
        },
        {
         "mode": "lines",
         "name": "week before: double every 36.6 days",
         "type": "scatter",
         "x": [
          "2020-04-08T00:00:00",
          "2020-04-09T00:00:00",
          "2020-04-10T00:00:00",
          "2020-04-11T00:00:00",
          "2020-04-12T00:00:00",
          "2020-04-13T00:00:00",
          "2020-04-14T00:00:00",
          "2020-04-15T00:00:00",
          "2020-04-16T00:00:00",
          "2020-04-17T00:00:00",
          "2020-04-18T00:00:00",
          "2020-04-19T00:00:00",
          "2020-04-20T00:00:00",
          "2020-04-21T00:00:00"
         ],
         "y": [
          2216.210564697104,
          2258.5753199781634,
          2301.749913691822,
          2345.749826590478,
          2390.5908353543155,
          2436.2890182482192,
          2482.8607608868183,
          2530.3227621097444,
          2578.69203996919,
          2627.985937831933,
          2678.222130597999,
          2729.4186310382033,
          2781.5937962528415,
          2834.766334253837
         ]
        },
        {
         "marker": {
          "size": 10,
          "symbol": "square"
         },
         "mode": "markers",
         "name": "prediction",
         "type": "scatter",
         "x": [
          "2020-04-22T00:00:00",
          "2020-04-23T00:00:00",
          "2020-04-24T00:00:00",
          "2020-04-25T00:00:00",
          "2020-04-26T00:00:00",
          "2020-04-27T00:00:00",
          "2020-04-28T00:00:00"
         ],
         "y": [
          2683,
          2708,
          2734,
          2759,
          2786,
          2812
         ]
        }
       ],
       "layout": {
        "font": {
         "size": 12
        },
        "legend": {
         "x": 0.05,
         "y": 0.95
        },
        "template": {
         "data": {
          "bar": [
           {
            "error_x": {
             "color": "#2a3f5f"
            },
            "error_y": {
             "color": "#2a3f5f"
            },
            "marker": {
             "line": {
              "color": "#E5ECF6",
              "width": 0.5
             }
            },
            "type": "bar"
           }
          ],
          "barpolar": [
           {
            "marker": {
             "line": {
              "color": "#E5ECF6",
              "width": 0.5
             }
            },
            "type": "barpolar"
           }
          ],
          "carpet": [
           {
            "aaxis": {
             "endlinecolor": "#2a3f5f",
             "gridcolor": "white",
             "linecolor": "white",
             "minorgridcolor": "white",
             "startlinecolor": "#2a3f5f"
            },
            "baxis": {
             "endlinecolor": "#2a3f5f",
             "gridcolor": "white",
             "linecolor": "white",
             "minorgridcolor": "white",
             "startlinecolor": "#2a3f5f"
            },
            "type": "carpet"
           }
          ],
          "choropleth": [
           {
            "colorbar": {
             "outlinewidth": 0,
             "ticks": ""
            },
            "type": "choropleth"
           }
          ],
          "contour": [
           {
            "colorbar": {
             "outlinewidth": 0,
             "ticks": ""
            },
            "colorscale": [
             [
              0,
              "#0d0887"
             ],
             [
              0.1111111111111111,
              "#46039f"
             ],
             [
              0.2222222222222222,
              "#7201a8"
             ],
             [
              0.3333333333333333,
              "#9c179e"
             ],
             [
              0.4444444444444444,
              "#bd3786"
             ],
             [
              0.5555555555555556,
              "#d8576b"
             ],
             [
              0.6666666666666666,
              "#ed7953"
             ],
             [
              0.7777777777777778,
              "#fb9f3a"
             ],
             [
              0.8888888888888888,
              "#fdca26"
             ],
             [
              1,
              "#f0f921"
             ]
            ],
            "type": "contour"
           }
          ],
          "contourcarpet": [
           {
            "colorbar": {
             "outlinewidth": 0,
             "ticks": ""
            },
            "type": "contourcarpet"
           }
          ],
          "heatmap": [
           {
            "colorbar": {
             "outlinewidth": 0,
             "ticks": ""
            },
            "colorscale": [
             [
              0,
              "#0d0887"
             ],
             [
              0.1111111111111111,
              "#46039f"
             ],
             [
              0.2222222222222222,
              "#7201a8"
             ],
             [
              0.3333333333333333,
              "#9c179e"
             ],
             [
              0.4444444444444444,
              "#bd3786"
             ],
             [
              0.5555555555555556,
              "#d8576b"
             ],
             [
              0.6666666666666666,
              "#ed7953"
             ],
             [
              0.7777777777777778,
              "#fb9f3a"
             ],
             [
              0.8888888888888888,
              "#fdca26"
             ],
             [
              1,
              "#f0f921"
             ]
            ],
            "type": "heatmap"
           }
          ],
          "heatmapgl": [
           {
            "colorbar": {
             "outlinewidth": 0,
             "ticks": ""
            },
            "colorscale": [
             [
              0,
              "#0d0887"
             ],
             [
              0.1111111111111111,
              "#46039f"
             ],
             [
              0.2222222222222222,
              "#7201a8"
             ],
             [
              0.3333333333333333,
              "#9c179e"
             ],
             [
              0.4444444444444444,
              "#bd3786"
             ],
             [
              0.5555555555555556,
              "#d8576b"
             ],
             [
              0.6666666666666666,
              "#ed7953"
             ],
             [
              0.7777777777777778,
              "#fb9f3a"
             ],
             [
              0.8888888888888888,
              "#fdca26"
             ],
             [
              1,
              "#f0f921"
             ]
            ],
            "type": "heatmapgl"
           }
          ],
          "histogram": [
           {
            "marker": {
             "colorbar": {
              "outlinewidth": 0,
              "ticks": ""
             }
            },
            "type": "histogram"
           }
          ],
          "histogram2d": [
           {
            "colorbar": {
             "outlinewidth": 0,
             "ticks": ""
            },
            "colorscale": [
             [
              0,
              "#0d0887"
             ],
             [
              0.1111111111111111,
              "#46039f"
             ],
             [
              0.2222222222222222,
              "#7201a8"
             ],
             [
              0.3333333333333333,
              "#9c179e"
             ],
             [
              0.4444444444444444,
              "#bd3786"
             ],
             [
              0.5555555555555556,
              "#d8576b"
             ],
             [
              0.6666666666666666,
              "#ed7953"
             ],
             [
              0.7777777777777778,
              "#fb9f3a"
             ],
             [
              0.8888888888888888,
              "#fdca26"
             ],
             [
              1,
              "#f0f921"
             ]
            ],
            "type": "histogram2d"
           }
          ],
          "histogram2dcontour": [
           {
            "colorbar": {
             "outlinewidth": 0,
             "ticks": ""
            },
            "colorscale": [
             [
              0,
              "#0d0887"
             ],
             [
              0.1111111111111111,
              "#46039f"
             ],
             [
              0.2222222222222222,
              "#7201a8"
             ],
             [
              0.3333333333333333,
              "#9c179e"
             ],
             [
              0.4444444444444444,
              "#bd3786"
             ],
             [
              0.5555555555555556,
              "#d8576b"
             ],
             [
              0.6666666666666666,
              "#ed7953"
             ],
             [
              0.7777777777777778,
              "#fb9f3a"
             ],
             [
              0.8888888888888888,
              "#fdca26"
             ],
             [
              1,
              "#f0f921"
             ]
            ],
            "type": "histogram2dcontour"
           }
          ],
          "mesh3d": [
           {
            "colorbar": {
             "outlinewidth": 0,
             "ticks": ""
            },
            "type": "mesh3d"
           }
          ],
          "parcoords": [
           {
            "line": {
             "colorbar": {
              "outlinewidth": 0,
              "ticks": ""
             }
            },
            "type": "parcoords"
           }
          ],
          "pie": [
           {
            "automargin": true,
            "type": "pie"
           }
          ],
          "scatter": [
           {
            "marker": {
             "colorbar": {
              "outlinewidth": 0,
              "ticks": ""
             }
            },
            "type": "scatter"
           }
          ],
          "scatter3d": [
           {
            "line": {
             "colorbar": {
              "outlinewidth": 0,
              "ticks": ""
             }
            },
            "marker": {
             "colorbar": {
              "outlinewidth": 0,
              "ticks": ""
             }
            },
            "type": "scatter3d"
           }
          ],
          "scattercarpet": [
           {
            "marker": {
             "colorbar": {
              "outlinewidth": 0,
              "ticks": ""
             }
            },
            "type": "scattercarpet"
           }
          ],
          "scattergeo": [
           {
            "marker": {
             "colorbar": {
              "outlinewidth": 0,
              "ticks": ""
             }
            },
            "type": "scattergeo"
           }
          ],
          "scattergl": [
           {
            "marker": {
             "colorbar": {
              "outlinewidth": 0,
              "ticks": ""
             }
            },
            "type": "scattergl"
           }
          ],
          "scattermapbox": [
           {
            "marker": {
             "colorbar": {
              "outlinewidth": 0,
              "ticks": ""
             }
            },
            "type": "scattermapbox"
           }
          ],
          "scatterpolar": [
           {
            "marker": {
             "colorbar": {
              "outlinewidth": 0,
              "ticks": ""
             }
            },
            "type": "scatterpolar"
           }
          ],
          "scatterpolargl": [
           {
            "marker": {
             "colorbar": {
              "outlinewidth": 0,
              "ticks": ""
             }
            },
            "type": "scatterpolargl"
           }
          ],
          "scatterternary": [
           {
            "marker": {
             "colorbar": {
              "outlinewidth": 0,
              "ticks": ""
             }
            },
            "type": "scatterternary"
           }
          ],
          "surface": [
           {
            "colorbar": {
             "outlinewidth": 0,
             "ticks": ""
            },
            "colorscale": [
             [
              0,
              "#0d0887"
             ],
             [
              0.1111111111111111,
              "#46039f"
             ],
             [
              0.2222222222222222,
              "#7201a8"
             ],
             [
              0.3333333333333333,
              "#9c179e"
             ],
             [
              0.4444444444444444,
              "#bd3786"
             ],
             [
              0.5555555555555556,
              "#d8576b"
             ],
             [
              0.6666666666666666,
              "#ed7953"
             ],
             [
              0.7777777777777778,
              "#fb9f3a"
             ],
             [
              0.8888888888888888,
              "#fdca26"
             ],
             [
              1,
              "#f0f921"
             ]
            ],
            "type": "surface"
           }
          ],
          "table": [
           {
            "cells": {
             "fill": {
              "color": "#EBF0F8"
             },
             "line": {
              "color": "white"
             }
            },
            "header": {
             "fill": {
              "color": "#C8D4E3"
             },
             "line": {
              "color": "white"
             }
            },
            "type": "table"
           }
          ]
         },
         "layout": {
          "annotationdefaults": {
           "arrowcolor": "#2a3f5f",
           "arrowhead": 0,
           "arrowwidth": 1
          },
          "coloraxis": {
           "colorbar": {
            "outlinewidth": 0,
            "ticks": ""
           }
          },
          "colorscale": {
           "diverging": [
            [
             0,
             "#8e0152"
            ],
            [
             0.1,
             "#c51b7d"
            ],
            [
             0.2,
             "#de77ae"
            ],
            [
             0.3,
             "#f1b6da"
            ],
            [
             0.4,
             "#fde0ef"
            ],
            [
             0.5,
             "#f7f7f7"
            ],
            [
             0.6,
             "#e6f5d0"
            ],
            [
             0.7,
             "#b8e186"
            ],
            [
             0.8,
             "#7fbc41"
            ],
            [
             0.9,
             "#4d9221"
            ],
            [
             1,
             "#276419"
            ]
           ],
           "sequential": [
            [
             0,
             "#0d0887"
            ],
            [
             0.1111111111111111,
             "#46039f"
            ],
            [
             0.2222222222222222,
             "#7201a8"
            ],
            [
             0.3333333333333333,
             "#9c179e"
            ],
            [
             0.4444444444444444,
             "#bd3786"
            ],
            [
             0.5555555555555556,
             "#d8576b"
            ],
            [
             0.6666666666666666,
             "#ed7953"
            ],
            [
             0.7777777777777778,
             "#fb9f3a"
            ],
            [
             0.8888888888888888,
             "#fdca26"
            ],
            [
             1,
             "#f0f921"
            ]
           ],
           "sequentialminus": [
            [
             0,
             "#0d0887"
            ],
            [
             0.1111111111111111,
             "#46039f"
            ],
            [
             0.2222222222222222,
             "#7201a8"
            ],
            [
             0.3333333333333333,
             "#9c179e"
            ],
            [
             0.4444444444444444,
             "#bd3786"
            ],
            [
             0.5555555555555556,
             "#d8576b"
            ],
            [
             0.6666666666666666,
             "#ed7953"
            ],
            [
             0.7777777777777778,
             "#fb9f3a"
            ],
            [
             0.8888888888888888,
             "#fdca26"
            ],
            [
             1,
             "#f0f921"
            ]
           ]
          },
          "colorway": [
           "#636efa",
           "#EF553B",
           "#00cc96",
           "#ab63fa",
           "#FFA15A",
           "#19d3f3",
           "#FF6692",
           "#B6E880",
           "#FF97FF",
           "#FECB52"
          ],
          "font": {
           "color": "#2a3f5f"
          },
          "geo": {
           "bgcolor": "white",
           "lakecolor": "white",
           "landcolor": "#E5ECF6",
           "showlakes": true,
           "showland": true,
           "subunitcolor": "white"
          },
          "hoverlabel": {
           "align": "left"
          },
          "hovermode": "closest",
          "mapbox": {
           "style": "light"
          },
          "paper_bgcolor": "white",
          "plot_bgcolor": "#E5ECF6",
          "polar": {
           "angularaxis": {
            "gridcolor": "white",
            "linecolor": "white",
            "ticks": ""
           },
           "bgcolor": "#E5ECF6",
           "radialaxis": {
            "gridcolor": "white",
            "linecolor": "white",
            "ticks": ""
           }
          },
          "scene": {
           "xaxis": {
            "backgroundcolor": "#E5ECF6",
            "gridcolor": "white",
            "gridwidth": 2,
            "linecolor": "white",
            "showbackground": true,
            "ticks": "",
            "zerolinecolor": "white"
           },
           "yaxis": {
            "backgroundcolor": "#E5ECF6",
            "gridcolor": "white",
            "gridwidth": 2,
            "linecolor": "white",
            "showbackground": true,
            "ticks": "",
            "zerolinecolor": "white"
           },
           "zaxis": {
            "backgroundcolor": "#E5ECF6",
            "gridcolor": "white",
            "gridwidth": 2,
            "linecolor": "white",
            "showbackground": true,
            "ticks": "",
            "zerolinecolor": "white"
           }
          },
          "shapedefaults": {
           "line": {
            "color": "#2a3f5f"
           }
          },
          "ternary": {
           "aaxis": {
            "gridcolor": "white",
            "linecolor": "white",
            "ticks": ""
           },
           "baxis": {
            "gridcolor": "white",
            "linecolor": "white",
            "ticks": ""
           },
           "bgcolor": "#E5ECF6",
           "caxis": {
            "gridcolor": "white",
            "linecolor": "white",
            "ticks": ""
           }
          },
          "title": {
           "x": 0.05
          },
          "xaxis": {
           "automargin": true,
           "gridcolor": "white",
           "linecolor": "white",
           "ticks": "",
           "title": {
            "standoff": 15
           },
           "zerolinecolor": "white",
           "zerolinewidth": 2
          },
          "yaxis": {
           "automargin": true,
           "gridcolor": "white",
           "linecolor": "white",
           "ticks": "",
           "title": {
            "standoff": 15
           },
           "zerolinecolor": "white",
           "zerolinewidth": 2
          }
         }
        },
        "title": {
         "text": "Corona patients on IC Netherlands",
         "x": 0.5,
         "xanchor": "center"
        },
        "xaxis": {
         "title": {
          "text": "Date"
         }
        },
        "yaxis": {
         "title": {
          "text": "# patients"
         },
         "type": "log"
        }
       }
      },
      "text/html": [
       "<div>\n",
       "        \n",
       "        \n",
       "            <div id=\"5a2e1f7f-6368-461d-a99b-989c57ba7f11\" class=\"plotly-graph-div\" style=\"height:525px; width:100%;\"></div>\n",
       "            <script type=\"text/javascript\">\n",
       "                require([\"plotly\"], function(Plotly) {\n",
       "                    window.PLOTLYENV=window.PLOTLYENV || {};\n",
       "                    \n",
       "                if (document.getElementById(\"5a2e1f7f-6368-461d-a99b-989c57ba7f11\")) {\n",
       "                    Plotly.newPlot(\n",
       "                        '5a2e1f7f-6368-461d-a99b-989c57ba7f11',\n",
       "                        [{\"marker\": {\"size\": 10, \"symbol\": \"circle\"}, \"mode\": \"markers\", \"name\": \"counts NVIC\", \"type\": \"scatter\", \"x\": [\"2020-03-05T00:00:00\", \"2020-03-06T00:00:00\", \"2020-03-07T00:00:00\", \"2020-03-08T00:00:00\", \"2020-03-09T00:00:00\", \"2020-03-10T00:00:00\", \"2020-03-11T00:00:00\", \"2020-03-12T00:00:00\", \"2020-03-13T00:00:00\", \"2020-03-14T00:00:00\", \"2020-03-15T00:00:00\", \"2020-03-16T00:00:00\", \"2020-03-17T00:00:00\", \"2020-03-18T00:00:00\", \"2020-03-19T00:00:00\", \"2020-03-20T00:00:00\", \"2020-03-21T00:00:00\", \"2020-03-22T00:00:00\", \"2020-03-23T00:00:00\", \"2020-03-24T00:00:00\", \"2020-03-25T00:00:00\", \"2020-03-26T00:00:00\", \"2020-03-27T00:00:00\", \"2020-03-28T00:00:00\", \"2020-03-29T00:00:00\", \"2020-03-30T00:00:00\", \"2020-03-31T00:00:00\", \"2020-04-01T00:00:00\", \"2020-04-02T00:00:00\", \"2020-04-03T00:00:00\", \"2020-04-04T00:00:00\", \"2020-04-05T00:00:00\", \"2020-04-06T00:00:00\", \"2020-04-07T00:00:00\", \"2020-04-08T00:00:00\", \"2020-04-09T00:00:00\", \"2020-04-10T00:00:00\", \"2020-04-11T00:00:00\", \"2020-04-12T00:00:00\", \"2020-04-13T00:00:00\", \"2020-04-14T00:00:00\", \"2020-04-15T00:00:00\", \"2020-04-16T00:00:00\", \"2020-04-17T00:00:00\", \"2020-04-18T00:00:00\", \"2020-04-19T00:00:00\", \"2020-04-20T00:00:00\", \"2020-04-21T00:00:00\"], \"y\": [13.0, 16.0, 19.0, 25.0, 35.0, 46.0, 57.0, 80.0, 94.0, 114.0, 142.0, 176.0, 212.0, 267.0, 336.0, 426.0, 507.0, 581.0, 683.0, 796.0, 915.0, 1026.0, 1147.0, 1256.0, 1353.0, 1491.0, 1604.0, 1679.0, 1781.0, 1862.0, 1931.0, 2009.0, 2075.0, 2139.0, 2203.0, 2260.0, 2318.0, 2348.0, 2389.0, 2437.0, 2477.0, 2504.0, 2536.0, 2563.0, 2584.0, 2619.0, 2641.0, 2643.0]}, {\"mode\": \"lines\", \"name\": \"last week: double every 73.6 days\", \"type\": \"scatter\", \"x\": [\"2020-04-08T00:00:00\", \"2020-04-09T00:00:00\", \"2020-04-10T00:00:00\", \"2020-04-11T00:00:00\", \"2020-04-12T00:00:00\", \"2020-04-13T00:00:00\", \"2020-04-14T00:00:00\", \"2020-04-15T00:00:00\", \"2020-04-16T00:00:00\", \"2020-04-17T00:00:00\", \"2020-04-18T00:00:00\", \"2020-04-19T00:00:00\", \"2020-04-20T00:00:00\", \"2020-04-21T00:00:00\"], \"y\": [2351.564166404328, 2373.818520802688, 2396.2834823776516, 2418.9610442395124, 2441.853218360641, 2464.962035753987, 2488.289546653276, 2511.837820694902, 2535.6089471015534, 2559.6050348675676, 2583.8282129460413, 2608.280630437717, 2632.9644567816504, 2657.8818819476833]}, {\"mode\": \"lines\", \"name\": \"week before: double every 36.6 days\", \"type\": \"scatter\", \"x\": [\"2020-04-08T00:00:00\", \"2020-04-09T00:00:00\", \"2020-04-10T00:00:00\", \"2020-04-11T00:00:00\", \"2020-04-12T00:00:00\", \"2020-04-13T00:00:00\", \"2020-04-14T00:00:00\", \"2020-04-15T00:00:00\", \"2020-04-16T00:00:00\", \"2020-04-17T00:00:00\", \"2020-04-18T00:00:00\", \"2020-04-19T00:00:00\", \"2020-04-20T00:00:00\", \"2020-04-21T00:00:00\"], \"y\": [2216.210564697104, 2258.5753199781634, 2301.749913691822, 2345.749826590478, 2390.5908353543155, 2436.2890182482192, 2482.8607608868183, 2530.3227621097444, 2578.69203996919, 2627.985937831933, 2678.222130597999, 2729.4186310382033, 2781.5937962528415, 2834.766334253837]}, {\"marker\": {\"size\": 10, \"symbol\": \"square\"}, \"mode\": \"markers\", \"name\": \"prediction\", \"type\": \"scatter\", \"x\": [\"2020-04-22T00:00:00\", \"2020-04-23T00:00:00\", \"2020-04-24T00:00:00\", \"2020-04-25T00:00:00\", \"2020-04-26T00:00:00\", \"2020-04-27T00:00:00\", \"2020-04-28T00:00:00\"], \"y\": [2683, 2708, 2734, 2759, 2786, 2812]}],\n",
       "                        {\"font\": {\"size\": 12}, \"legend\": {\"x\": 0.05, \"y\": 0.95}, \"template\": {\"data\": {\"bar\": [{\"error_x\": {\"color\": \"#2a3f5f\"}, \"error_y\": {\"color\": \"#2a3f5f\"}, \"marker\": {\"line\": {\"color\": \"#E5ECF6\", \"width\": 0.5}}, \"type\": \"bar\"}], \"barpolar\": [{\"marker\": {\"line\": {\"color\": \"#E5ECF6\", \"width\": 0.5}}, \"type\": \"barpolar\"}], \"carpet\": [{\"aaxis\": {\"endlinecolor\": \"#2a3f5f\", \"gridcolor\": \"white\", \"linecolor\": \"white\", \"minorgridcolor\": \"white\", \"startlinecolor\": \"#2a3f5f\"}, \"baxis\": {\"endlinecolor\": \"#2a3f5f\", \"gridcolor\": \"white\", \"linecolor\": \"white\", \"minorgridcolor\": \"white\", \"startlinecolor\": \"#2a3f5f\"}, \"type\": \"carpet\"}], \"choropleth\": [{\"colorbar\": {\"outlinewidth\": 0, \"ticks\": \"\"}, \"type\": \"choropleth\"}], \"contour\": [{\"colorbar\": {\"outlinewidth\": 0, \"ticks\": \"\"}, \"colorscale\": [[0.0, \"#0d0887\"], [0.1111111111111111, \"#46039f\"], [0.2222222222222222, \"#7201a8\"], [0.3333333333333333, \"#9c179e\"], [0.4444444444444444, \"#bd3786\"], [0.5555555555555556, \"#d8576b\"], [0.6666666666666666, \"#ed7953\"], [0.7777777777777778, \"#fb9f3a\"], [0.8888888888888888, \"#fdca26\"], [1.0, \"#f0f921\"]], \"type\": \"contour\"}], \"contourcarpet\": [{\"colorbar\": {\"outlinewidth\": 0, \"ticks\": \"\"}, \"type\": \"contourcarpet\"}], \"heatmap\": [{\"colorbar\": {\"outlinewidth\": 0, \"ticks\": \"\"}, \"colorscale\": [[0.0, \"#0d0887\"], [0.1111111111111111, \"#46039f\"], [0.2222222222222222, \"#7201a8\"], [0.3333333333333333, \"#9c179e\"], [0.4444444444444444, \"#bd3786\"], [0.5555555555555556, \"#d8576b\"], [0.6666666666666666, \"#ed7953\"], [0.7777777777777778, \"#fb9f3a\"], [0.8888888888888888, \"#fdca26\"], [1.0, \"#f0f921\"]], \"type\": \"heatmap\"}], \"heatmapgl\": [{\"colorbar\": {\"outlinewidth\": 0, \"ticks\": \"\"}, \"colorscale\": [[0.0, \"#0d0887\"], [0.1111111111111111, \"#46039f\"], [0.2222222222222222, \"#7201a8\"], [0.3333333333333333, \"#9c179e\"], [0.4444444444444444, \"#bd3786\"], [0.5555555555555556, \"#d8576b\"], [0.6666666666666666, \"#ed7953\"], [0.7777777777777778, \"#fb9f3a\"], [0.8888888888888888, \"#fdca26\"], [1.0, \"#f0f921\"]], \"type\": \"heatmapgl\"}], \"histogram\": [{\"marker\": {\"colorbar\": {\"outlinewidth\": 0, \"ticks\": \"\"}}, \"type\": \"histogram\"}], \"histogram2d\": [{\"colorbar\": {\"outlinewidth\": 0, \"ticks\": \"\"}, \"colorscale\": [[0.0, \"#0d0887\"], [0.1111111111111111, \"#46039f\"], [0.2222222222222222, \"#7201a8\"], [0.3333333333333333, \"#9c179e\"], [0.4444444444444444, \"#bd3786\"], [0.5555555555555556, \"#d8576b\"], [0.6666666666666666, \"#ed7953\"], [0.7777777777777778, \"#fb9f3a\"], [0.8888888888888888, \"#fdca26\"], [1.0, \"#f0f921\"]], \"type\": \"histogram2d\"}], \"histogram2dcontour\": [{\"colorbar\": {\"outlinewidth\": 0, \"ticks\": \"\"}, \"colorscale\": [[0.0, \"#0d0887\"], [0.1111111111111111, \"#46039f\"], [0.2222222222222222, \"#7201a8\"], [0.3333333333333333, \"#9c179e\"], [0.4444444444444444, \"#bd3786\"], [0.5555555555555556, \"#d8576b\"], [0.6666666666666666, \"#ed7953\"], [0.7777777777777778, \"#fb9f3a\"], [0.8888888888888888, \"#fdca26\"], [1.0, \"#f0f921\"]], \"type\": \"histogram2dcontour\"}], \"mesh3d\": [{\"colorbar\": {\"outlinewidth\": 0, \"ticks\": \"\"}, \"type\": \"mesh3d\"}], \"parcoords\": [{\"line\": {\"colorbar\": {\"outlinewidth\": 0, \"ticks\": \"\"}}, \"type\": \"parcoords\"}], \"pie\": [{\"automargin\": true, \"type\": \"pie\"}], \"scatter\": [{\"marker\": {\"colorbar\": {\"outlinewidth\": 0, \"ticks\": \"\"}}, \"type\": \"scatter\"}], \"scatter3d\": [{\"line\": {\"colorbar\": {\"outlinewidth\": 0, \"ticks\": \"\"}}, \"marker\": {\"colorbar\": {\"outlinewidth\": 0, \"ticks\": \"\"}}, \"type\": \"scatter3d\"}], \"scattercarpet\": [{\"marker\": {\"colorbar\": {\"outlinewidth\": 0, \"ticks\": \"\"}}, \"type\": \"scattercarpet\"}], \"scattergeo\": [{\"marker\": {\"colorbar\": {\"outlinewidth\": 0, \"ticks\": \"\"}}, \"type\": \"scattergeo\"}], \"scattergl\": [{\"marker\": {\"colorbar\": {\"outlinewidth\": 0, \"ticks\": \"\"}}, \"type\": \"scattergl\"}], \"scattermapbox\": [{\"marker\": {\"colorbar\": {\"outlinewidth\": 0, \"ticks\": \"\"}}, \"type\": \"scattermapbox\"}], \"scatterpolar\": [{\"marker\": {\"colorbar\": {\"outlinewidth\": 0, \"ticks\": \"\"}}, \"type\": \"scatterpolar\"}], \"scatterpolargl\": [{\"marker\": {\"colorbar\": {\"outlinewidth\": 0, \"ticks\": \"\"}}, \"type\": \"scatterpolargl\"}], \"scatterternary\": [{\"marker\": {\"colorbar\": {\"outlinewidth\": 0, \"ticks\": \"\"}}, \"type\": \"scatterternary\"}], \"surface\": [{\"colorbar\": {\"outlinewidth\": 0, \"ticks\": \"\"}, \"colorscale\": [[0.0, \"#0d0887\"], [0.1111111111111111, \"#46039f\"], [0.2222222222222222, \"#7201a8\"], [0.3333333333333333, \"#9c179e\"], [0.4444444444444444, \"#bd3786\"], [0.5555555555555556, \"#d8576b\"], [0.6666666666666666, \"#ed7953\"], [0.7777777777777778, \"#fb9f3a\"], [0.8888888888888888, \"#fdca26\"], [1.0, \"#f0f921\"]], \"type\": \"surface\"}], \"table\": [{\"cells\": {\"fill\": {\"color\": \"#EBF0F8\"}, \"line\": {\"color\": \"white\"}}, \"header\": {\"fill\": {\"color\": \"#C8D4E3\"}, \"line\": {\"color\": \"white\"}}, \"type\": \"table\"}]}, \"layout\": {\"annotationdefaults\": {\"arrowcolor\": \"#2a3f5f\", \"arrowhead\": 0, \"arrowwidth\": 1}, \"coloraxis\": {\"colorbar\": {\"outlinewidth\": 0, \"ticks\": \"\"}}, \"colorscale\": {\"diverging\": [[0, \"#8e0152\"], [0.1, \"#c51b7d\"], [0.2, \"#de77ae\"], [0.3, \"#f1b6da\"], [0.4, \"#fde0ef\"], [0.5, \"#f7f7f7\"], [0.6, \"#e6f5d0\"], [0.7, \"#b8e186\"], [0.8, \"#7fbc41\"], [0.9, \"#4d9221\"], [1, \"#276419\"]], \"sequential\": [[0.0, \"#0d0887\"], [0.1111111111111111, \"#46039f\"], [0.2222222222222222, \"#7201a8\"], [0.3333333333333333, \"#9c179e\"], [0.4444444444444444, \"#bd3786\"], [0.5555555555555556, \"#d8576b\"], [0.6666666666666666, \"#ed7953\"], [0.7777777777777778, \"#fb9f3a\"], [0.8888888888888888, \"#fdca26\"], [1.0, \"#f0f921\"]], \"sequentialminus\": [[0.0, \"#0d0887\"], [0.1111111111111111, \"#46039f\"], [0.2222222222222222, \"#7201a8\"], [0.3333333333333333, \"#9c179e\"], [0.4444444444444444, \"#bd3786\"], [0.5555555555555556, \"#d8576b\"], [0.6666666666666666, \"#ed7953\"], [0.7777777777777778, \"#fb9f3a\"], [0.8888888888888888, \"#fdca26\"], [1.0, \"#f0f921\"]]}, \"colorway\": [\"#636efa\", \"#EF553B\", \"#00cc96\", \"#ab63fa\", \"#FFA15A\", \"#19d3f3\", \"#FF6692\", \"#B6E880\", \"#FF97FF\", \"#FECB52\"], \"font\": {\"color\": \"#2a3f5f\"}, \"geo\": {\"bgcolor\": \"white\", \"lakecolor\": \"white\", \"landcolor\": \"#E5ECF6\", \"showlakes\": true, \"showland\": true, \"subunitcolor\": \"white\"}, \"hoverlabel\": {\"align\": \"left\"}, \"hovermode\": \"closest\", \"mapbox\": {\"style\": \"light\"}, \"paper_bgcolor\": \"white\", \"plot_bgcolor\": \"#E5ECF6\", \"polar\": {\"angularaxis\": {\"gridcolor\": \"white\", \"linecolor\": \"white\", \"ticks\": \"\"}, \"bgcolor\": \"#E5ECF6\", \"radialaxis\": {\"gridcolor\": \"white\", \"linecolor\": \"white\", \"ticks\": \"\"}}, \"scene\": {\"xaxis\": {\"backgroundcolor\": \"#E5ECF6\", \"gridcolor\": \"white\", \"gridwidth\": 2, \"linecolor\": \"white\", \"showbackground\": true, \"ticks\": \"\", \"zerolinecolor\": \"white\"}, \"yaxis\": {\"backgroundcolor\": \"#E5ECF6\", \"gridcolor\": \"white\", \"gridwidth\": 2, \"linecolor\": \"white\", \"showbackground\": true, \"ticks\": \"\", \"zerolinecolor\": \"white\"}, \"zaxis\": {\"backgroundcolor\": \"#E5ECF6\", \"gridcolor\": \"white\", \"gridwidth\": 2, \"linecolor\": \"white\", \"showbackground\": true, \"ticks\": \"\", \"zerolinecolor\": \"white\"}}, \"shapedefaults\": {\"line\": {\"color\": \"#2a3f5f\"}}, \"ternary\": {\"aaxis\": {\"gridcolor\": \"white\", \"linecolor\": \"white\", \"ticks\": \"\"}, \"baxis\": {\"gridcolor\": \"white\", \"linecolor\": \"white\", \"ticks\": \"\"}, \"bgcolor\": \"#E5ECF6\", \"caxis\": {\"gridcolor\": \"white\", \"linecolor\": \"white\", \"ticks\": \"\"}}, \"title\": {\"x\": 0.05}, \"xaxis\": {\"automargin\": true, \"gridcolor\": \"white\", \"linecolor\": \"white\", \"ticks\": \"\", \"title\": {\"standoff\": 15}, \"zerolinecolor\": \"white\", \"zerolinewidth\": 2}, \"yaxis\": {\"automargin\": true, \"gridcolor\": \"white\", \"linecolor\": \"white\", \"ticks\": \"\", \"title\": {\"standoff\": 15}, \"zerolinecolor\": \"white\", \"zerolinewidth\": 2}}}, \"title\": {\"text\": \"Corona patients on IC Netherlands\", \"x\": 0.5, \"xanchor\": \"center\"}, \"xaxis\": {\"title\": {\"text\": \"Date\"}}, \"yaxis\": {\"title\": {\"text\": \"# patients\"}, \"type\": \"log\"}},\n",
       "                        {\"responsive\": true}\n",
       "                    ).then(function(){\n",
       "                            \n",
       "var gd = document.getElementById('5a2e1f7f-6368-461d-a99b-989c57ba7f11');\n",
       "var x = new MutationObserver(function (mutations, observer) {{\n",
       "        var display = window.getComputedStyle(gd).display;\n",
       "        if (!display || display === 'none') {{\n",
       "            console.log([gd, 'removed!']);\n",
       "            Plotly.purge(gd);\n",
       "            observer.disconnect();\n",
       "        }}\n",
       "}});\n",
       "\n",
       "// Listen for the removal of the full notebook cells\n",
       "var notebookContainer = gd.closest('#notebook-container');\n",
       "if (notebookContainer) {{\n",
       "    x.observe(notebookContainer, {childList: true});\n",
       "}}\n",
       "\n",
       "// Listen for the clearing of the current output cell\n",
       "var outputEl = gd.closest('.output');\n",
       "if (outputEl) {{\n",
       "    x.observe(outputEl, {childList: true});\n",
       "}}\n",
       "\n",
       "                        })\n",
       "                };\n",
       "                });\n",
       "            </script>\n",
       "        </div>"
      ]
     },
     "metadata": {},
     "output_type": "display_data"
    },
    {
     "data": {
      "application/vnd.plotly.v1+json": {
       "config": {
        "plotlyServerURL": "https://plotly.com"
       },
       "data": [
        {
         "type": "bar",
         "x": [
          "2020-03-05T00:00:00",
          "2020-03-06T00:00:00",
          "2020-03-07T00:00:00",
          "2020-03-08T00:00:00",
          "2020-03-09T00:00:00",
          "2020-03-10T00:00:00",
          "2020-03-11T00:00:00",
          "2020-03-12T00:00:00",
          "2020-03-13T00:00:00",
          "2020-03-14T00:00:00",
          "2020-03-15T00:00:00",
          "2020-03-16T00:00:00",
          "2020-03-17T00:00:00",
          "2020-03-18T00:00:00",
          "2020-03-19T00:00:00",
          "2020-03-20T00:00:00",
          "2020-03-21T00:00:00",
          "2020-03-22T00:00:00",
          "2020-03-23T00:00:00",
          "2020-03-24T00:00:00",
          "2020-03-25T00:00:00",
          "2020-03-26T00:00:00",
          "2020-03-27T00:00:00",
          "2020-03-28T00:00:00",
          "2020-03-29T00:00:00",
          "2020-03-30T00:00:00",
          "2020-03-31T00:00:00",
          "2020-04-01T00:00:00",
          "2020-04-02T00:00:00",
          "2020-04-03T00:00:00",
          "2020-04-04T00:00:00",
          "2020-04-05T00:00:00",
          "2020-04-06T00:00:00",
          "2020-04-07T00:00:00",
          "2020-04-08T00:00:00",
          "2020-04-09T00:00:00",
          "2020-04-10T00:00:00",
          "2020-04-11T00:00:00",
          "2020-04-12T00:00:00",
          "2020-04-13T00:00:00",
          "2020-04-14T00:00:00",
          "2020-04-15T00:00:00",
          "2020-04-16T00:00:00",
          "2020-04-17T00:00:00",
          "2020-04-18T00:00:00",
          "2020-04-19T00:00:00",
          "2020-04-20T00:00:00",
          "2020-04-21T00:00:00"
         ],
         "y": [
          3,
          3,
          6,
          10,
          11,
          11,
          23,
          14,
          20,
          28,
          34,
          36,
          55,
          69,
          90,
          81,
          74,
          102,
          113,
          119,
          111,
          121,
          109,
          97,
          138,
          113,
          75,
          102,
          81,
          69,
          78,
          66,
          64,
          64,
          57,
          58,
          30,
          41,
          48,
          40,
          27,
          32,
          27,
          21,
          35,
          22,
          2
         ]
        }
       ],
       "layout": {
        "font": {
         "size": 12
        },
        "legend": {
         "x": 0.05,
         "y": 0.95
        },
        "template": {
         "data": {
          "bar": [
           {
            "error_x": {
             "color": "#2a3f5f"
            },
            "error_y": {
             "color": "#2a3f5f"
            },
            "marker": {
             "line": {
              "color": "#E5ECF6",
              "width": 0.5
             }
            },
            "type": "bar"
           }
          ],
          "barpolar": [
           {
            "marker": {
             "line": {
              "color": "#E5ECF6",
              "width": 0.5
             }
            },
            "type": "barpolar"
           }
          ],
          "carpet": [
           {
            "aaxis": {
             "endlinecolor": "#2a3f5f",
             "gridcolor": "white",
             "linecolor": "white",
             "minorgridcolor": "white",
             "startlinecolor": "#2a3f5f"
            },
            "baxis": {
             "endlinecolor": "#2a3f5f",
             "gridcolor": "white",
             "linecolor": "white",
             "minorgridcolor": "white",
             "startlinecolor": "#2a3f5f"
            },
            "type": "carpet"
           }
          ],
          "choropleth": [
           {
            "colorbar": {
             "outlinewidth": 0,
             "ticks": ""
            },
            "type": "choropleth"
           }
          ],
          "contour": [
           {
            "colorbar": {
             "outlinewidth": 0,
             "ticks": ""
            },
            "colorscale": [
             [
              0,
              "#0d0887"
             ],
             [
              0.1111111111111111,
              "#46039f"
             ],
             [
              0.2222222222222222,
              "#7201a8"
             ],
             [
              0.3333333333333333,
              "#9c179e"
             ],
             [
              0.4444444444444444,
              "#bd3786"
             ],
             [
              0.5555555555555556,
              "#d8576b"
             ],
             [
              0.6666666666666666,
              "#ed7953"
             ],
             [
              0.7777777777777778,
              "#fb9f3a"
             ],
             [
              0.8888888888888888,
              "#fdca26"
             ],
             [
              1,
              "#f0f921"
             ]
            ],
            "type": "contour"
           }
          ],
          "contourcarpet": [
           {
            "colorbar": {
             "outlinewidth": 0,
             "ticks": ""
            },
            "type": "contourcarpet"
           }
          ],
          "heatmap": [
           {
            "colorbar": {
             "outlinewidth": 0,
             "ticks": ""
            },
            "colorscale": [
             [
              0,
              "#0d0887"
             ],
             [
              0.1111111111111111,
              "#46039f"
             ],
             [
              0.2222222222222222,
              "#7201a8"
             ],
             [
              0.3333333333333333,
              "#9c179e"
             ],
             [
              0.4444444444444444,
              "#bd3786"
             ],
             [
              0.5555555555555556,
              "#d8576b"
             ],
             [
              0.6666666666666666,
              "#ed7953"
             ],
             [
              0.7777777777777778,
              "#fb9f3a"
             ],
             [
              0.8888888888888888,
              "#fdca26"
             ],
             [
              1,
              "#f0f921"
             ]
            ],
            "type": "heatmap"
           }
          ],
          "heatmapgl": [
           {
            "colorbar": {
             "outlinewidth": 0,
             "ticks": ""
            },
            "colorscale": [
             [
              0,
              "#0d0887"
             ],
             [
              0.1111111111111111,
              "#46039f"
             ],
             [
              0.2222222222222222,
              "#7201a8"
             ],
             [
              0.3333333333333333,
              "#9c179e"
             ],
             [
              0.4444444444444444,
              "#bd3786"
             ],
             [
              0.5555555555555556,
              "#d8576b"
             ],
             [
              0.6666666666666666,
              "#ed7953"
             ],
             [
              0.7777777777777778,
              "#fb9f3a"
             ],
             [
              0.8888888888888888,
              "#fdca26"
             ],
             [
              1,
              "#f0f921"
             ]
            ],
            "type": "heatmapgl"
           }
          ],
          "histogram": [
           {
            "marker": {
             "colorbar": {
              "outlinewidth": 0,
              "ticks": ""
             }
            },
            "type": "histogram"
           }
          ],
          "histogram2d": [
           {
            "colorbar": {
             "outlinewidth": 0,
             "ticks": ""
            },
            "colorscale": [
             [
              0,
              "#0d0887"
             ],
             [
              0.1111111111111111,
              "#46039f"
             ],
             [
              0.2222222222222222,
              "#7201a8"
             ],
             [
              0.3333333333333333,
              "#9c179e"
             ],
             [
              0.4444444444444444,
              "#bd3786"
             ],
             [
              0.5555555555555556,
              "#d8576b"
             ],
             [
              0.6666666666666666,
              "#ed7953"
             ],
             [
              0.7777777777777778,
              "#fb9f3a"
             ],
             [
              0.8888888888888888,
              "#fdca26"
             ],
             [
              1,
              "#f0f921"
             ]
            ],
            "type": "histogram2d"
           }
          ],
          "histogram2dcontour": [
           {
            "colorbar": {
             "outlinewidth": 0,
             "ticks": ""
            },
            "colorscale": [
             [
              0,
              "#0d0887"
             ],
             [
              0.1111111111111111,
              "#46039f"
             ],
             [
              0.2222222222222222,
              "#7201a8"
             ],
             [
              0.3333333333333333,
              "#9c179e"
             ],
             [
              0.4444444444444444,
              "#bd3786"
             ],
             [
              0.5555555555555556,
              "#d8576b"
             ],
             [
              0.6666666666666666,
              "#ed7953"
             ],
             [
              0.7777777777777778,
              "#fb9f3a"
             ],
             [
              0.8888888888888888,
              "#fdca26"
             ],
             [
              1,
              "#f0f921"
             ]
            ],
            "type": "histogram2dcontour"
           }
          ],
          "mesh3d": [
           {
            "colorbar": {
             "outlinewidth": 0,
             "ticks": ""
            },
            "type": "mesh3d"
           }
          ],
          "parcoords": [
           {
            "line": {
             "colorbar": {
              "outlinewidth": 0,
              "ticks": ""
             }
            },
            "type": "parcoords"
           }
          ],
          "pie": [
           {
            "automargin": true,
            "type": "pie"
           }
          ],
          "scatter": [
           {
            "marker": {
             "colorbar": {
              "outlinewidth": 0,
              "ticks": ""
             }
            },
            "type": "scatter"
           }
          ],
          "scatter3d": [
           {
            "line": {
             "colorbar": {
              "outlinewidth": 0,
              "ticks": ""
             }
            },
            "marker": {
             "colorbar": {
              "outlinewidth": 0,
              "ticks": ""
             }
            },
            "type": "scatter3d"
           }
          ],
          "scattercarpet": [
           {
            "marker": {
             "colorbar": {
              "outlinewidth": 0,
              "ticks": ""
             }
            },
            "type": "scattercarpet"
           }
          ],
          "scattergeo": [
           {
            "marker": {
             "colorbar": {
              "outlinewidth": 0,
              "ticks": ""
             }
            },
            "type": "scattergeo"
           }
          ],
          "scattergl": [
           {
            "marker": {
             "colorbar": {
              "outlinewidth": 0,
              "ticks": ""
             }
            },
            "type": "scattergl"
           }
          ],
          "scattermapbox": [
           {
            "marker": {
             "colorbar": {
              "outlinewidth": 0,
              "ticks": ""
             }
            },
            "type": "scattermapbox"
           }
          ],
          "scatterpolar": [
           {
            "marker": {
             "colorbar": {
              "outlinewidth": 0,
              "ticks": ""
             }
            },
            "type": "scatterpolar"
           }
          ],
          "scatterpolargl": [
           {
            "marker": {
             "colorbar": {
              "outlinewidth": 0,
              "ticks": ""
             }
            },
            "type": "scatterpolargl"
           }
          ],
          "scatterternary": [
           {
            "marker": {
             "colorbar": {
              "outlinewidth": 0,
              "ticks": ""
             }
            },
            "type": "scatterternary"
           }
          ],
          "surface": [
           {
            "colorbar": {
             "outlinewidth": 0,
             "ticks": ""
            },
            "colorscale": [
             [
              0,
              "#0d0887"
             ],
             [
              0.1111111111111111,
              "#46039f"
             ],
             [
              0.2222222222222222,
              "#7201a8"
             ],
             [
              0.3333333333333333,
              "#9c179e"
             ],
             [
              0.4444444444444444,
              "#bd3786"
             ],
             [
              0.5555555555555556,
              "#d8576b"
             ],
             [
              0.6666666666666666,
              "#ed7953"
             ],
             [
              0.7777777777777778,
              "#fb9f3a"
             ],
             [
              0.8888888888888888,
              "#fdca26"
             ],
             [
              1,
              "#f0f921"
             ]
            ],
            "type": "surface"
           }
          ],
          "table": [
           {
            "cells": {
             "fill": {
              "color": "#EBF0F8"
             },
             "line": {
              "color": "white"
             }
            },
            "header": {
             "fill": {
              "color": "#C8D4E3"
             },
             "line": {
              "color": "white"
             }
            },
            "type": "table"
           }
          ]
         },
         "layout": {
          "annotationdefaults": {
           "arrowcolor": "#2a3f5f",
           "arrowhead": 0,
           "arrowwidth": 1
          },
          "coloraxis": {
           "colorbar": {
            "outlinewidth": 0,
            "ticks": ""
           }
          },
          "colorscale": {
           "diverging": [
            [
             0,
             "#8e0152"
            ],
            [
             0.1,
             "#c51b7d"
            ],
            [
             0.2,
             "#de77ae"
            ],
            [
             0.3,
             "#f1b6da"
            ],
            [
             0.4,
             "#fde0ef"
            ],
            [
             0.5,
             "#f7f7f7"
            ],
            [
             0.6,
             "#e6f5d0"
            ],
            [
             0.7,
             "#b8e186"
            ],
            [
             0.8,
             "#7fbc41"
            ],
            [
             0.9,
             "#4d9221"
            ],
            [
             1,
             "#276419"
            ]
           ],
           "sequential": [
            [
             0,
             "#0d0887"
            ],
            [
             0.1111111111111111,
             "#46039f"
            ],
            [
             0.2222222222222222,
             "#7201a8"
            ],
            [
             0.3333333333333333,
             "#9c179e"
            ],
            [
             0.4444444444444444,
             "#bd3786"
            ],
            [
             0.5555555555555556,
             "#d8576b"
            ],
            [
             0.6666666666666666,
             "#ed7953"
            ],
            [
             0.7777777777777778,
             "#fb9f3a"
            ],
            [
             0.8888888888888888,
             "#fdca26"
            ],
            [
             1,
             "#f0f921"
            ]
           ],
           "sequentialminus": [
            [
             0,
             "#0d0887"
            ],
            [
             0.1111111111111111,
             "#46039f"
            ],
            [
             0.2222222222222222,
             "#7201a8"
            ],
            [
             0.3333333333333333,
             "#9c179e"
            ],
            [
             0.4444444444444444,
             "#bd3786"
            ],
            [
             0.5555555555555556,
             "#d8576b"
            ],
            [
             0.6666666666666666,
             "#ed7953"
            ],
            [
             0.7777777777777778,
             "#fb9f3a"
            ],
            [
             0.8888888888888888,
             "#fdca26"
            ],
            [
             1,
             "#f0f921"
            ]
           ]
          },
          "colorway": [
           "#636efa",
           "#EF553B",
           "#00cc96",
           "#ab63fa",
           "#FFA15A",
           "#19d3f3",
           "#FF6692",
           "#B6E880",
           "#FF97FF",
           "#FECB52"
          ],
          "font": {
           "color": "#2a3f5f"
          },
          "geo": {
           "bgcolor": "white",
           "lakecolor": "white",
           "landcolor": "#E5ECF6",
           "showlakes": true,
           "showland": true,
           "subunitcolor": "white"
          },
          "hoverlabel": {
           "align": "left"
          },
          "hovermode": "closest",
          "mapbox": {
           "style": "light"
          },
          "paper_bgcolor": "white",
          "plot_bgcolor": "#E5ECF6",
          "polar": {
           "angularaxis": {
            "gridcolor": "white",
            "linecolor": "white",
            "ticks": ""
           },
           "bgcolor": "#E5ECF6",
           "radialaxis": {
            "gridcolor": "white",
            "linecolor": "white",
            "ticks": ""
           }
          },
          "scene": {
           "xaxis": {
            "backgroundcolor": "#E5ECF6",
            "gridcolor": "white",
            "gridwidth": 2,
            "linecolor": "white",
            "showbackground": true,
            "ticks": "",
            "zerolinecolor": "white"
           },
           "yaxis": {
            "backgroundcolor": "#E5ECF6",
            "gridcolor": "white",
            "gridwidth": 2,
            "linecolor": "white",
            "showbackground": true,
            "ticks": "",
            "zerolinecolor": "white"
           },
           "zaxis": {
            "backgroundcolor": "#E5ECF6",
            "gridcolor": "white",
            "gridwidth": 2,
            "linecolor": "white",
            "showbackground": true,
            "ticks": "",
            "zerolinecolor": "white"
           }
          },
          "shapedefaults": {
           "line": {
            "color": "#2a3f5f"
           }
          },
          "ternary": {
           "aaxis": {
            "gridcolor": "white",
            "linecolor": "white",
            "ticks": ""
           },
           "baxis": {
            "gridcolor": "white",
            "linecolor": "white",
            "ticks": ""
           },
           "bgcolor": "#E5ECF6",
           "caxis": {
            "gridcolor": "white",
            "linecolor": "white",
            "ticks": ""
           }
          },
          "title": {
           "x": 0.05
          },
          "xaxis": {
           "automargin": true,
           "gridcolor": "white",
           "linecolor": "white",
           "ticks": "",
           "title": {
            "standoff": 15
           },
           "zerolinecolor": "white",
           "zerolinewidth": 2
          },
          "yaxis": {
           "automargin": true,
           "gridcolor": "white",
           "linecolor": "white",
           "ticks": "",
           "title": {
            "standoff": 15
           },
           "zerolinecolor": "white",
           "zerolinewidth": 2
          }
         }
        },
        "title": {
         "text": "Daily increase in Corona victims Netherlands",
         "x": 0.5,
         "xanchor": "center"
        },
        "xaxis": {
         "title": {
          "text": "Date"
         }
        },
        "yaxis": {
         "title": {
          "text": "# patients/day"
         }
        }
       }
      },
      "text/html": [
       "<div>\n",
       "        \n",
       "        \n",
       "            <div id=\"69940818-2e5a-42ea-92ff-d76beed4bc08\" class=\"plotly-graph-div\" style=\"height:525px; width:100%;\"></div>\n",
       "            <script type=\"text/javascript\">\n",
       "                require([\"plotly\"], function(Plotly) {\n",
       "                    window.PLOTLYENV=window.PLOTLYENV || {};\n",
       "                    \n",
       "                if (document.getElementById(\"69940818-2e5a-42ea-92ff-d76beed4bc08\")) {\n",
       "                    Plotly.newPlot(\n",
       "                        '69940818-2e5a-42ea-92ff-d76beed4bc08',\n",
       "                        [{\"type\": \"bar\", \"x\": [\"2020-03-05T00:00:00\", \"2020-03-06T00:00:00\", \"2020-03-07T00:00:00\", \"2020-03-08T00:00:00\", \"2020-03-09T00:00:00\", \"2020-03-10T00:00:00\", \"2020-03-11T00:00:00\", \"2020-03-12T00:00:00\", \"2020-03-13T00:00:00\", \"2020-03-14T00:00:00\", \"2020-03-15T00:00:00\", \"2020-03-16T00:00:00\", \"2020-03-17T00:00:00\", \"2020-03-18T00:00:00\", \"2020-03-19T00:00:00\", \"2020-03-20T00:00:00\", \"2020-03-21T00:00:00\", \"2020-03-22T00:00:00\", \"2020-03-23T00:00:00\", \"2020-03-24T00:00:00\", \"2020-03-25T00:00:00\", \"2020-03-26T00:00:00\", \"2020-03-27T00:00:00\", \"2020-03-28T00:00:00\", \"2020-03-29T00:00:00\", \"2020-03-30T00:00:00\", \"2020-03-31T00:00:00\", \"2020-04-01T00:00:00\", \"2020-04-02T00:00:00\", \"2020-04-03T00:00:00\", \"2020-04-04T00:00:00\", \"2020-04-05T00:00:00\", \"2020-04-06T00:00:00\", \"2020-04-07T00:00:00\", \"2020-04-08T00:00:00\", \"2020-04-09T00:00:00\", \"2020-04-10T00:00:00\", \"2020-04-11T00:00:00\", \"2020-04-12T00:00:00\", \"2020-04-13T00:00:00\", \"2020-04-14T00:00:00\", \"2020-04-15T00:00:00\", \"2020-04-16T00:00:00\", \"2020-04-17T00:00:00\", \"2020-04-18T00:00:00\", \"2020-04-19T00:00:00\", \"2020-04-20T00:00:00\", \"2020-04-21T00:00:00\"], \"y\": [3.0, 3.0, 6.0, 10.0, 11.0, 11.0, 23.0, 14.0, 20.0, 28.0, 34.0, 36.0, 55.0, 69.0, 90.0, 81.0, 74.0, 102.0, 113.0, 119.0, 111.0, 121.0, 109.0, 97.0, 138.0, 113.0, 75.0, 102.0, 81.0, 69.0, 78.0, 66.0, 64.0, 64.0, 57.0, 58.0, 30.0, 41.0, 48.0, 40.0, 27.0, 32.0, 27.0, 21.0, 35.0, 22.0, 2.0]}],\n",
       "                        {\"font\": {\"size\": 12}, \"legend\": {\"x\": 0.05, \"y\": 0.95}, \"template\": {\"data\": {\"bar\": [{\"error_x\": {\"color\": \"#2a3f5f\"}, \"error_y\": {\"color\": \"#2a3f5f\"}, \"marker\": {\"line\": {\"color\": \"#E5ECF6\", \"width\": 0.5}}, \"type\": \"bar\"}], \"barpolar\": [{\"marker\": {\"line\": {\"color\": \"#E5ECF6\", \"width\": 0.5}}, \"type\": \"barpolar\"}], \"carpet\": [{\"aaxis\": {\"endlinecolor\": \"#2a3f5f\", \"gridcolor\": \"white\", \"linecolor\": \"white\", \"minorgridcolor\": \"white\", \"startlinecolor\": \"#2a3f5f\"}, \"baxis\": {\"endlinecolor\": \"#2a3f5f\", \"gridcolor\": \"white\", \"linecolor\": \"white\", \"minorgridcolor\": \"white\", \"startlinecolor\": \"#2a3f5f\"}, \"type\": \"carpet\"}], \"choropleth\": [{\"colorbar\": {\"outlinewidth\": 0, \"ticks\": \"\"}, \"type\": \"choropleth\"}], \"contour\": [{\"colorbar\": {\"outlinewidth\": 0, \"ticks\": \"\"}, \"colorscale\": [[0.0, \"#0d0887\"], [0.1111111111111111, \"#46039f\"], [0.2222222222222222, \"#7201a8\"], [0.3333333333333333, \"#9c179e\"], [0.4444444444444444, \"#bd3786\"], [0.5555555555555556, \"#d8576b\"], [0.6666666666666666, \"#ed7953\"], [0.7777777777777778, \"#fb9f3a\"], [0.8888888888888888, \"#fdca26\"], [1.0, \"#f0f921\"]], \"type\": \"contour\"}], \"contourcarpet\": [{\"colorbar\": {\"outlinewidth\": 0, \"ticks\": \"\"}, \"type\": \"contourcarpet\"}], \"heatmap\": [{\"colorbar\": {\"outlinewidth\": 0, \"ticks\": \"\"}, \"colorscale\": [[0.0, \"#0d0887\"], [0.1111111111111111, \"#46039f\"], [0.2222222222222222, \"#7201a8\"], [0.3333333333333333, \"#9c179e\"], [0.4444444444444444, \"#bd3786\"], [0.5555555555555556, \"#d8576b\"], [0.6666666666666666, \"#ed7953\"], [0.7777777777777778, \"#fb9f3a\"], [0.8888888888888888, \"#fdca26\"], [1.0, \"#f0f921\"]], \"type\": \"heatmap\"}], \"heatmapgl\": [{\"colorbar\": {\"outlinewidth\": 0, \"ticks\": \"\"}, \"colorscale\": [[0.0, \"#0d0887\"], [0.1111111111111111, \"#46039f\"], [0.2222222222222222, \"#7201a8\"], [0.3333333333333333, \"#9c179e\"], [0.4444444444444444, \"#bd3786\"], [0.5555555555555556, \"#d8576b\"], [0.6666666666666666, \"#ed7953\"], [0.7777777777777778, \"#fb9f3a\"], [0.8888888888888888, \"#fdca26\"], [1.0, \"#f0f921\"]], \"type\": \"heatmapgl\"}], \"histogram\": [{\"marker\": {\"colorbar\": {\"outlinewidth\": 0, \"ticks\": \"\"}}, \"type\": \"histogram\"}], \"histogram2d\": [{\"colorbar\": {\"outlinewidth\": 0, \"ticks\": \"\"}, \"colorscale\": [[0.0, \"#0d0887\"], [0.1111111111111111, \"#46039f\"], [0.2222222222222222, \"#7201a8\"], [0.3333333333333333, \"#9c179e\"], [0.4444444444444444, \"#bd3786\"], [0.5555555555555556, \"#d8576b\"], [0.6666666666666666, \"#ed7953\"], [0.7777777777777778, \"#fb9f3a\"], [0.8888888888888888, \"#fdca26\"], [1.0, \"#f0f921\"]], \"type\": \"histogram2d\"}], \"histogram2dcontour\": [{\"colorbar\": {\"outlinewidth\": 0, \"ticks\": \"\"}, \"colorscale\": [[0.0, \"#0d0887\"], [0.1111111111111111, \"#46039f\"], [0.2222222222222222, \"#7201a8\"], [0.3333333333333333, \"#9c179e\"], [0.4444444444444444, \"#bd3786\"], [0.5555555555555556, \"#d8576b\"], [0.6666666666666666, \"#ed7953\"], [0.7777777777777778, \"#fb9f3a\"], [0.8888888888888888, \"#fdca26\"], [1.0, \"#f0f921\"]], \"type\": \"histogram2dcontour\"}], \"mesh3d\": [{\"colorbar\": {\"outlinewidth\": 0, \"ticks\": \"\"}, \"type\": \"mesh3d\"}], \"parcoords\": [{\"line\": {\"colorbar\": {\"outlinewidth\": 0, \"ticks\": \"\"}}, \"type\": \"parcoords\"}], \"pie\": [{\"automargin\": true, \"type\": \"pie\"}], \"scatter\": [{\"marker\": {\"colorbar\": {\"outlinewidth\": 0, \"ticks\": \"\"}}, \"type\": \"scatter\"}], \"scatter3d\": [{\"line\": {\"colorbar\": {\"outlinewidth\": 0, \"ticks\": \"\"}}, \"marker\": {\"colorbar\": {\"outlinewidth\": 0, \"ticks\": \"\"}}, \"type\": \"scatter3d\"}], \"scattercarpet\": [{\"marker\": {\"colorbar\": {\"outlinewidth\": 0, \"ticks\": \"\"}}, \"type\": \"scattercarpet\"}], \"scattergeo\": [{\"marker\": {\"colorbar\": {\"outlinewidth\": 0, \"ticks\": \"\"}}, \"type\": \"scattergeo\"}], \"scattergl\": [{\"marker\": {\"colorbar\": {\"outlinewidth\": 0, \"ticks\": \"\"}}, \"type\": \"scattergl\"}], \"scattermapbox\": [{\"marker\": {\"colorbar\": {\"outlinewidth\": 0, \"ticks\": \"\"}}, \"type\": \"scattermapbox\"}], \"scatterpolar\": [{\"marker\": {\"colorbar\": {\"outlinewidth\": 0, \"ticks\": \"\"}}, \"type\": \"scatterpolar\"}], \"scatterpolargl\": [{\"marker\": {\"colorbar\": {\"outlinewidth\": 0, \"ticks\": \"\"}}, \"type\": \"scatterpolargl\"}], \"scatterternary\": [{\"marker\": {\"colorbar\": {\"outlinewidth\": 0, \"ticks\": \"\"}}, \"type\": \"scatterternary\"}], \"surface\": [{\"colorbar\": {\"outlinewidth\": 0, \"ticks\": \"\"}, \"colorscale\": [[0.0, \"#0d0887\"], [0.1111111111111111, \"#46039f\"], [0.2222222222222222, \"#7201a8\"], [0.3333333333333333, \"#9c179e\"], [0.4444444444444444, \"#bd3786\"], [0.5555555555555556, \"#d8576b\"], [0.6666666666666666, \"#ed7953\"], [0.7777777777777778, \"#fb9f3a\"], [0.8888888888888888, \"#fdca26\"], [1.0, \"#f0f921\"]], \"type\": \"surface\"}], \"table\": [{\"cells\": {\"fill\": {\"color\": \"#EBF0F8\"}, \"line\": {\"color\": \"white\"}}, \"header\": {\"fill\": {\"color\": \"#C8D4E3\"}, \"line\": {\"color\": \"white\"}}, \"type\": \"table\"}]}, \"layout\": {\"annotationdefaults\": {\"arrowcolor\": \"#2a3f5f\", \"arrowhead\": 0, \"arrowwidth\": 1}, \"coloraxis\": {\"colorbar\": {\"outlinewidth\": 0, \"ticks\": \"\"}}, \"colorscale\": {\"diverging\": [[0, \"#8e0152\"], [0.1, \"#c51b7d\"], [0.2, \"#de77ae\"], [0.3, \"#f1b6da\"], [0.4, \"#fde0ef\"], [0.5, \"#f7f7f7\"], [0.6, \"#e6f5d0\"], [0.7, \"#b8e186\"], [0.8, \"#7fbc41\"], [0.9, \"#4d9221\"], [1, \"#276419\"]], \"sequential\": [[0.0, \"#0d0887\"], [0.1111111111111111, \"#46039f\"], [0.2222222222222222, \"#7201a8\"], [0.3333333333333333, \"#9c179e\"], [0.4444444444444444, \"#bd3786\"], [0.5555555555555556, \"#d8576b\"], [0.6666666666666666, \"#ed7953\"], [0.7777777777777778, \"#fb9f3a\"], [0.8888888888888888, \"#fdca26\"], [1.0, \"#f0f921\"]], \"sequentialminus\": [[0.0, \"#0d0887\"], [0.1111111111111111, \"#46039f\"], [0.2222222222222222, \"#7201a8\"], [0.3333333333333333, \"#9c179e\"], [0.4444444444444444, \"#bd3786\"], [0.5555555555555556, \"#d8576b\"], [0.6666666666666666, \"#ed7953\"], [0.7777777777777778, \"#fb9f3a\"], [0.8888888888888888, \"#fdca26\"], [1.0, \"#f0f921\"]]}, \"colorway\": [\"#636efa\", \"#EF553B\", \"#00cc96\", \"#ab63fa\", \"#FFA15A\", \"#19d3f3\", \"#FF6692\", \"#B6E880\", \"#FF97FF\", \"#FECB52\"], \"font\": {\"color\": \"#2a3f5f\"}, \"geo\": {\"bgcolor\": \"white\", \"lakecolor\": \"white\", \"landcolor\": \"#E5ECF6\", \"showlakes\": true, \"showland\": true, \"subunitcolor\": \"white\"}, \"hoverlabel\": {\"align\": \"left\"}, \"hovermode\": \"closest\", \"mapbox\": {\"style\": \"light\"}, \"paper_bgcolor\": \"white\", \"plot_bgcolor\": \"#E5ECF6\", \"polar\": {\"angularaxis\": {\"gridcolor\": \"white\", \"linecolor\": \"white\", \"ticks\": \"\"}, \"bgcolor\": \"#E5ECF6\", \"radialaxis\": {\"gridcolor\": \"white\", \"linecolor\": \"white\", \"ticks\": \"\"}}, \"scene\": {\"xaxis\": {\"backgroundcolor\": \"#E5ECF6\", \"gridcolor\": \"white\", \"gridwidth\": 2, \"linecolor\": \"white\", \"showbackground\": true, \"ticks\": \"\", \"zerolinecolor\": \"white\"}, \"yaxis\": {\"backgroundcolor\": \"#E5ECF6\", \"gridcolor\": \"white\", \"gridwidth\": 2, \"linecolor\": \"white\", \"showbackground\": true, \"ticks\": \"\", \"zerolinecolor\": \"white\"}, \"zaxis\": {\"backgroundcolor\": \"#E5ECF6\", \"gridcolor\": \"white\", \"gridwidth\": 2, \"linecolor\": \"white\", \"showbackground\": true, \"ticks\": \"\", \"zerolinecolor\": \"white\"}}, \"shapedefaults\": {\"line\": {\"color\": \"#2a3f5f\"}}, \"ternary\": {\"aaxis\": {\"gridcolor\": \"white\", \"linecolor\": \"white\", \"ticks\": \"\"}, \"baxis\": {\"gridcolor\": \"white\", \"linecolor\": \"white\", \"ticks\": \"\"}, \"bgcolor\": \"#E5ECF6\", \"caxis\": {\"gridcolor\": \"white\", \"linecolor\": \"white\", \"ticks\": \"\"}}, \"title\": {\"x\": 0.05}, \"xaxis\": {\"automargin\": true, \"gridcolor\": \"white\", \"linecolor\": \"white\", \"ticks\": \"\", \"title\": {\"standoff\": 15}, \"zerolinecolor\": \"white\", \"zerolinewidth\": 2}, \"yaxis\": {\"automargin\": true, \"gridcolor\": \"white\", \"linecolor\": \"white\", \"ticks\": \"\", \"title\": {\"standoff\": 15}, \"zerolinecolor\": \"white\", \"zerolinewidth\": 2}}}, \"title\": {\"text\": \"Daily increase in Corona victims Netherlands\", \"x\": 0.5, \"xanchor\": \"center\"}, \"xaxis\": {\"title\": {\"text\": \"Date\"}}, \"yaxis\": {\"title\": {\"text\": \"# patients/day\"}}},\n",
       "                        {\"responsive\": true}\n",
       "                    ).then(function(){\n",
       "                            \n",
       "var gd = document.getElementById('69940818-2e5a-42ea-92ff-d76beed4bc08');\n",
       "var x = new MutationObserver(function (mutations, observer) {{\n",
       "        var display = window.getComputedStyle(gd).display;\n",
       "        if (!display || display === 'none') {{\n",
       "            console.log([gd, 'removed!']);\n",
       "            Plotly.purge(gd);\n",
       "            observer.disconnect();\n",
       "        }}\n",
       "}});\n",
       "\n",
       "// Listen for the removal of the full notebook cells\n",
       "var notebookContainer = gd.closest('#notebook-container');\n",
       "if (notebookContainer) {{\n",
       "    x.observe(notebookContainer, {childList: true});\n",
       "}}\n",
       "\n",
       "// Listen for the clearing of the current output cell\n",
       "var outputEl = gd.closest('.output');\n",
       "if (outputEl) {{\n",
       "    x.observe(outputEl, {childList: true});\n",
       "}}\n",
       "\n",
       "                        })\n",
       "                };\n",
       "                });\n",
       "            </script>\n",
       "        </div>"
      ]
     },
     "metadata": {},
     "output_type": "display_data"
    }
   ],
   "source": [
    "# fit ic opnames\n",
    "cases=\"cases\"\n",
    "\n",
    "upload_plots=False\n",
    "#upload_plots=True\n",
    "\n",
    "startdatum=pd.Timestamp(2020, 3, 3, 0).to_pydatetime()\n",
    "ictot=[5,6,8,11,16,20,28,34,55,69,86,114,147,182,235,290,\\\n",
    "       375,449,519,621,728,843,942,1056,1153,1237,1315]\n",
    "\n",
    "\n",
    "l=len(ictot)\n",
    "dates=expand_pd_date(startdatum,n=l)\n",
    "print(dates)\n",
    "\n",
    "domain=\"https://stichting-nice.nl/\"\n",
    "cum_died_survive=\"/covid-19/public/died-and-survivors-cumulative/\"\n",
    "glob=\"/covid-19/public/global\"\n",
    "new_intake=\"/covid-19/public/new-intake/\"\n",
    "intake_count=\"/covid-19/public/intake-count/\" \n",
    "intake_cum=\"/covid-19/public/intake-cumulative/\"\n",
    "ic_count=\"/covid-19/public/ic-count/\"\n",
    "age_distrib=\"/covid-19/public/age-distribution/\"\n",
    "age_died='/covid-19/public/age-distribution-died/'\n",
    "\n",
    "def get_url(url):\n",
    "    uri=domain+url\n",
    "    #url=\"https://corona.lmao.ninja/v2/historical\"\n",
    "    headers = {'User-Agent': 'Mozilla/5.0 (Macintosh; Intel Mac OS X 10_11_5) AppleWebKit/537.36 (KHTML, like Gecko) Chrome/50.0.2661.102 Safari/537.36'}\n",
    "    result = requests.get(uri, headers=headers)\n",
    "    return result.content\n",
    "\n",
    "q=get_url(intake_cum)\n",
    "\n",
    "dd=pd.read_json(q,convert_dates=True)\n",
    "a=json.loads(q)\n",
    "#intake=dd[['date','intakeCumulative']]\n",
    "intake=dd[['date','value']]\n",
    "\n",
    "#y=intake['intakeCumulative'][7:]\n",
    "y=intake['value'][7:]\n",
    "dates=intake['date'][7:]\n",
    "#print(y)\n",
    "#print(dates)\n",
    "from lmfit import Model\n",
    "def ef(x,L,tau):\n",
    "    return L*np.power(2,x/tau)\n",
    "\n",
    "y=np.array(y).astype(float)\n",
    "print(y)\n",
    "l=len(y)\n",
    "x=np.arange(0, l,1, float)\n",
    "gmodel = Model(ef)\n",
    "params = gmodel.make_params(L=2000,tau=2)\n",
    "print('parameter names: {}'.format(gmodel.param_names))\n",
    "print('independent variables: {}'.format(gmodel.independent_vars))\n",
    "\n",
    "\n",
    "#==============================\n",
    "y1=np.array(y[-7:]).astype(float)\n",
    "l1=len(y1)\n",
    "\n",
    "y2=np.array(y[-14:-7]).astype(float)\n",
    "l2=len(y2)\n",
    "x1=np.arange(0, l1+l2,1, float)\n",
    "\n",
    "result1 = gmodel.fit(y1, params,x=x1[-7:])\n",
    "result2 = gmodel.fit(y2, params,x=x1[-14:-7])\n",
    "\n",
    "print(result1.params)\n",
    "print(result2.params)\n",
    "\n",
    "#dates=qq['date']\n",
    "# Create traces\n",
    "#     l=len(x)\n",
    "xdate1=dates[-7:]\n",
    "xdate1=dates[-14:]\n",
    "xdate2=dates[-14:-7]\n",
    "yf1= gmodel.eval(result1.params, x=x1)\n",
    "yf2= gmodel.eval(result2.params, x=x1)\n",
    "#x=qq['date']\n",
    "dt=xdate1.iloc[-1].to_pydatetime()\n",
    "xdate_extra=expand_date(dt)\n",
    "l=len(xdate_extra)\n",
    "x_extra=np.arange(x1[-1]+1, x1[-1]+l,1, float)\n",
    "y_extra=gmodel.eval(result1.params, x=x_extra).astype(int)\n",
    "\n",
    "fig = go.Figure()\n",
    "fig.add_trace(go.Scatter(x=dates, y=y,\n",
    "                         mode='markers',\n",
    "                         name='counts NVIC',\n",
    "                         marker_size=10,\n",
    "                         marker_symbol='circle'))\n",
    "fig.add_trace(go.Scatter(x=xdate1, y=yf1,\n",
    "                         mode='lines',\n",
    "                         name='last week: double every %.1f days'%result1.params['tau'].value))\n",
    "fig.add_trace(go.Scatter(x=xdate1, y=yf2,\n",
    "                         mode='lines',\n",
    "                         name='week before: double every %.1f days'%result2.params['tau'].value))\n",
    "\n",
    "fig.add_trace(go.Scatter(x=xdate_extra, y=y_extra,\n",
    "                         mode='markers',\n",
    "                         name='prediction',\n",
    "                        marker_size=10,\n",
    "                         marker_symbol='square'))\n",
    "title=\"Corona patients on IC Netherlands\"\n",
    "yaxis_title=\"# patients\"\n",
    "\n",
    "fig.update_layout(yaxis_type=\"log\",\n",
    "                  title=title,\n",
    "                  title_xanchor=\"center\",\n",
    "                  title_x=0.5,\n",
    "                  xaxis_title=\"Date\",\n",
    "                  yaxis_title=yaxis_title,\n",
    "                  legend_x=0.05,\n",
    "                  legend_y=0.95,\n",
    "                  font_size=12)\n",
    "\n",
    "filename=\"corona_ic\"\n",
    "if upload_plots:\n",
    "    py.plot(fig, filename = filename, auto_open=True)\n",
    "fig.show()\n",
    "\n",
    "l=len(y)\n",
    "toename=y[1:]-y[:l-1]\n",
    "ll=len(toename)\n",
    "xx=np.arange(0, ll,1, float)\n",
    "fig = go.Figure()\n",
    "fig.add_trace(go.Bar(x=dates,y=toename))\n",
    "title=\"Daily increase in Corona victims Netherlands\" if cases == \"cases\" else \"Daily increase in IC patients Netherlands\"\n",
    "yaxis_title=\"# patients/day\"\n",
    "\n",
    "fig.update_layout(title=title,\n",
    "                  title_xanchor=\"center\",\n",
    "                  title_x=0.5,\n",
    "                  xaxis_title=\"Date\",\n",
    "                  yaxis_title=yaxis_title,\n",
    "                  legend_x=0.05,\n",
    "                  legend_y=0.95,\n",
    "                  font_size=12)\n",
    "filename=\"corona_ic_increase\"\n",
    "if upload_plots:\n",
    "    py.plot(fig, filename = filename, auto_open=True)\n",
    "fig.show()"
   ]
  },
  {
   "cell_type": "code",
   "execution_count": 17,
   "metadata": {},
   "outputs": [
    {
     "data": {
      "text/html": [
       "<div>\n",
       "<style scoped>\n",
       "    .dataframe tbody tr th:only-of-type {\n",
       "        vertical-align: middle;\n",
       "    }\n",
       "\n",
       "    .dataframe tbody tr th {\n",
       "        vertical-align: top;\n",
       "    }\n",
       "\n",
       "    .dataframe thead th {\n",
       "        text-align: right;\n",
       "    }\n",
       "</style>\n",
       "<table border=\"1\" class=\"dataframe\">\n",
       "  <thead>\n",
       "    <tr style=\"text-align: right;\">\n",
       "      <th></th>\n",
       "      <th>date</th>\n",
       "      <th>value</th>\n",
       "    </tr>\n",
       "  </thead>\n",
       "  <tbody>\n",
       "    <tr>\n",
       "      <th>0</th>\n",
       "      <td>2020-02-27</td>\n",
       "      <td>6</td>\n",
       "    </tr>\n",
       "    <tr>\n",
       "      <th>1</th>\n",
       "      <td>2020-02-28</td>\n",
       "      <td>6</td>\n",
       "    </tr>\n",
       "    <tr>\n",
       "      <th>2</th>\n",
       "      <td>2020-02-29</td>\n",
       "      <td>7</td>\n",
       "    </tr>\n",
       "    <tr>\n",
       "      <th>3</th>\n",
       "      <td>2020-03-01</td>\n",
       "      <td>8</td>\n",
       "    </tr>\n",
       "    <tr>\n",
       "      <th>4</th>\n",
       "      <td>2020-03-02</td>\n",
       "      <td>8</td>\n",
       "    </tr>\n",
       "    <tr>\n",
       "      <th>5</th>\n",
       "      <td>2020-03-03</td>\n",
       "      <td>9</td>\n",
       "    </tr>\n",
       "    <tr>\n",
       "      <th>6</th>\n",
       "      <td>2020-03-04</td>\n",
       "      <td>12</td>\n",
       "    </tr>\n",
       "    <tr>\n",
       "      <th>7</th>\n",
       "      <td>2020-03-05</td>\n",
       "      <td>13</td>\n",
       "    </tr>\n",
       "    <tr>\n",
       "      <th>8</th>\n",
       "      <td>2020-03-06</td>\n",
       "      <td>16</td>\n",
       "    </tr>\n",
       "    <tr>\n",
       "      <th>9</th>\n",
       "      <td>2020-03-07</td>\n",
       "      <td>18</td>\n",
       "    </tr>\n",
       "    <tr>\n",
       "      <th>10</th>\n",
       "      <td>2020-03-08</td>\n",
       "      <td>24</td>\n",
       "    </tr>\n",
       "    <tr>\n",
       "      <th>11</th>\n",
       "      <td>2020-03-09</td>\n",
       "      <td>31</td>\n",
       "    </tr>\n",
       "    <tr>\n",
       "      <th>12</th>\n",
       "      <td>2020-03-10</td>\n",
       "      <td>38</td>\n",
       "    </tr>\n",
       "    <tr>\n",
       "      <th>13</th>\n",
       "      <td>2020-03-11</td>\n",
       "      <td>48</td>\n",
       "    </tr>\n",
       "    <tr>\n",
       "      <th>14</th>\n",
       "      <td>2020-03-12</td>\n",
       "      <td>69</td>\n",
       "    </tr>\n",
       "    <tr>\n",
       "      <th>15</th>\n",
       "      <td>2020-03-13</td>\n",
       "      <td>79</td>\n",
       "    </tr>\n",
       "    <tr>\n",
       "      <th>16</th>\n",
       "      <td>2020-03-14</td>\n",
       "      <td>97</td>\n",
       "    </tr>\n",
       "    <tr>\n",
       "      <th>17</th>\n",
       "      <td>2020-03-15</td>\n",
       "      <td>121</td>\n",
       "    </tr>\n",
       "    <tr>\n",
       "      <th>18</th>\n",
       "      <td>2020-03-16</td>\n",
       "      <td>151</td>\n",
       "    </tr>\n",
       "    <tr>\n",
       "      <th>19</th>\n",
       "      <td>2020-03-17</td>\n",
       "      <td>179</td>\n",
       "    </tr>\n",
       "    <tr>\n",
       "      <th>20</th>\n",
       "      <td>2020-03-18</td>\n",
       "      <td>229</td>\n",
       "    </tr>\n",
       "    <tr>\n",
       "      <th>21</th>\n",
       "      <td>2020-03-19</td>\n",
       "      <td>289</td>\n",
       "    </tr>\n",
       "    <tr>\n",
       "      <th>22</th>\n",
       "      <td>2020-03-20</td>\n",
       "      <td>367</td>\n",
       "    </tr>\n",
       "    <tr>\n",
       "      <th>23</th>\n",
       "      <td>2020-03-21</td>\n",
       "      <td>432</td>\n",
       "    </tr>\n",
       "    <tr>\n",
       "      <th>24</th>\n",
       "      <td>2020-03-22</td>\n",
       "      <td>483</td>\n",
       "    </tr>\n",
       "    <tr>\n",
       "      <th>25</th>\n",
       "      <td>2020-03-23</td>\n",
       "      <td>576</td>\n",
       "    </tr>\n",
       "    <tr>\n",
       "      <th>26</th>\n",
       "      <td>2020-03-24</td>\n",
       "      <td>657</td>\n",
       "    </tr>\n",
       "    <tr>\n",
       "      <th>27</th>\n",
       "      <td>2020-03-25</td>\n",
       "      <td>755</td>\n",
       "    </tr>\n",
       "    <tr>\n",
       "      <th>28</th>\n",
       "      <td>2020-03-26</td>\n",
       "      <td>839</td>\n",
       "    </tr>\n",
       "    <tr>\n",
       "      <th>29</th>\n",
       "      <td>2020-03-27</td>\n",
       "      <td>927</td>\n",
       "    </tr>\n",
       "    <tr>\n",
       "      <th>30</th>\n",
       "      <td>2020-03-28</td>\n",
       "      <td>995</td>\n",
       "    </tr>\n",
       "    <tr>\n",
       "      <th>31</th>\n",
       "      <td>2020-03-29</td>\n",
       "      <td>1044</td>\n",
       "    </tr>\n",
       "    <tr>\n",
       "      <th>32</th>\n",
       "      <td>2020-03-30</td>\n",
       "      <td>1134</td>\n",
       "    </tr>\n",
       "    <tr>\n",
       "      <th>33</th>\n",
       "      <td>2020-03-31</td>\n",
       "      <td>1194</td>\n",
       "    </tr>\n",
       "    <tr>\n",
       "      <th>34</th>\n",
       "      <td>2020-04-01</td>\n",
       "      <td>1212</td>\n",
       "    </tr>\n",
       "    <tr>\n",
       "      <th>35</th>\n",
       "      <td>2020-04-02</td>\n",
       "      <td>1257</td>\n",
       "    </tr>\n",
       "    <tr>\n",
       "      <th>36</th>\n",
       "      <td>2020-04-03</td>\n",
       "      <td>1286</td>\n",
       "    </tr>\n",
       "    <tr>\n",
       "      <th>37</th>\n",
       "      <td>2020-04-04</td>\n",
       "      <td>1291</td>\n",
       "    </tr>\n",
       "    <tr>\n",
       "      <th>38</th>\n",
       "      <td>2020-04-05</td>\n",
       "      <td>1311</td>\n",
       "    </tr>\n",
       "    <tr>\n",
       "      <th>39</th>\n",
       "      <td>2020-04-06</td>\n",
       "      <td>1320</td>\n",
       "    </tr>\n",
       "    <tr>\n",
       "      <th>40</th>\n",
       "      <td>2020-04-07</td>\n",
       "      <td>1331</td>\n",
       "    </tr>\n",
       "    <tr>\n",
       "      <th>41</th>\n",
       "      <td>2020-04-08</td>\n",
       "      <td>1301</td>\n",
       "    </tr>\n",
       "    <tr>\n",
       "      <th>42</th>\n",
       "      <td>2020-04-09</td>\n",
       "      <td>1298</td>\n",
       "    </tr>\n",
       "    <tr>\n",
       "      <th>43</th>\n",
       "      <td>2020-04-10</td>\n",
       "      <td>1309</td>\n",
       "    </tr>\n",
       "    <tr>\n",
       "      <th>44</th>\n",
       "      <td>2020-04-11</td>\n",
       "      <td>1270</td>\n",
       "    </tr>\n",
       "    <tr>\n",
       "      <th>45</th>\n",
       "      <td>2020-04-12</td>\n",
       "      <td>1256</td>\n",
       "    </tr>\n",
       "    <tr>\n",
       "      <th>46</th>\n",
       "      <td>2020-04-13</td>\n",
       "      <td>1244</td>\n",
       "    </tr>\n",
       "    <tr>\n",
       "      <th>47</th>\n",
       "      <td>2020-04-14</td>\n",
       "      <td>1226</td>\n",
       "    </tr>\n",
       "    <tr>\n",
       "      <th>48</th>\n",
       "      <td>2020-04-15</td>\n",
       "      <td>1202</td>\n",
       "    </tr>\n",
       "    <tr>\n",
       "      <th>49</th>\n",
       "      <td>2020-04-16</td>\n",
       "      <td>1159</td>\n",
       "    </tr>\n",
       "  </tbody>\n",
       "</table>\n",
       "</div>"
      ],
      "text/plain": [
       "         date  value\n",
       "0  2020-02-27      6\n",
       "1  2020-02-28      6\n",
       "2  2020-02-29      7\n",
       "3  2020-03-01      8\n",
       "4  2020-03-02      8\n",
       "5  2020-03-03      9\n",
       "6  2020-03-04     12\n",
       "7  2020-03-05     13\n",
       "8  2020-03-06     16\n",
       "9  2020-03-07     18\n",
       "10 2020-03-08     24\n",
       "11 2020-03-09     31\n",
       "12 2020-03-10     38\n",
       "13 2020-03-11     48\n",
       "14 2020-03-12     69\n",
       "15 2020-03-13     79\n",
       "16 2020-03-14     97\n",
       "17 2020-03-15    121\n",
       "18 2020-03-16    151\n",
       "19 2020-03-17    179\n",
       "20 2020-03-18    229\n",
       "21 2020-03-19    289\n",
       "22 2020-03-20    367\n",
       "23 2020-03-21    432\n",
       "24 2020-03-22    483\n",
       "25 2020-03-23    576\n",
       "26 2020-03-24    657\n",
       "27 2020-03-25    755\n",
       "28 2020-03-26    839\n",
       "29 2020-03-27    927\n",
       "30 2020-03-28    995\n",
       "31 2020-03-29   1044\n",
       "32 2020-03-30   1134\n",
       "33 2020-03-31   1194\n",
       "34 2020-04-01   1212\n",
       "35 2020-04-02   1257\n",
       "36 2020-04-03   1286\n",
       "37 2020-04-04   1291\n",
       "38 2020-04-05   1311\n",
       "39 2020-04-06   1320\n",
       "40 2020-04-07   1331\n",
       "41 2020-04-08   1301\n",
       "42 2020-04-09   1298\n",
       "43 2020-04-10   1309\n",
       "44 2020-04-11   1270\n",
       "45 2020-04-12   1256\n",
       "46 2020-04-13   1244\n",
       "47 2020-04-14   1226\n",
       "48 2020-04-15   1202\n",
       "49 2020-04-16   1159"
      ]
     },
     "execution_count": 17,
     "metadata": {},
     "output_type": "execute_result"
    }
   ],
   "source": [
    "json_ic=get_url(intake_count)\n",
    "df_ic=pd.read_json(json_ic,convert_dates=True)\n",
    "#intake=dd[['date','intakeCumulative']]\n",
    "#intake=dd[['date','value']]\n",
    "y=df_ic['value']\n",
    "dates=df_ic['date']\n",
    "df_ic.to_latex('tabel_ic_aanwezig.tex')\n",
    "df_ic"
   ]
  },
  {
   "cell_type": "code",
   "execution_count": 21,
   "metadata": {},
   "outputs": [
    {
     "data": {
      "text/plain": [
       "[<matplotlib.lines.Line2D at 0x26c82bb2d60>]"
      ]
     },
     "execution_count": 21,
     "metadata": {},
     "output_type": "execute_result"
    },
    {
     "data": {
      "image/png": "[encoded data removed]",
      "text/plain": [
       "<Figure size 432x288 with 1 Axes>"
      ]
     },
     "metadata": {
      "needs_background": "light"
     },
     "output_type": "display_data"
    }
   ],
   "source": [
    "%matplotlib inline\n",
    "plt.plot(dates,y)"
   ]
  },
  {
   "cell_type": "code",
   "execution_count": 7,
   "metadata": {},
   "outputs": [
    {
     "name": "stdout",
     "output_type": "stream",
     "text": [
      "1\n",
      "parameter names: ['M', 'alpha', 'beta']\n",
      "independent variables: ['x']\n"
     ]
    },
    {
     "data": {
      "application/vnd.plotly.v1+json": {
       "config": {
        "plotlyServerURL": "https://plotly.com"
       },
       "data": [
        {
         "marker": {
          "size": 10,
          "symbol": "circle"
         },
         "mode": "markers",
         "name": "counts RIVM",
         "type": "scatter",
         "x": [
          "2020-03-06T00:00:00",
          "2020-03-07T00:00:00",
          "2020-03-08T00:00:00",
          "2020-03-09T00:00:00",
          "2020-03-10T00:00:00",
          "2020-03-11T00:00:00",
          "2020-03-12T00:00:00",
          "2020-03-13T00:00:00",
          "2020-03-14T00:00:00",
          "2020-03-15T00:00:00",
          "2020-03-16T00:00:00",
          "2020-03-17T00:00:00",
          "2020-03-18T00:00:00",
          "2020-03-19T00:00:00",
          "2020-03-20T00:00:00",
          "2020-03-21T00:00:00",
          "2020-03-22T00:00:00",
          "2020-03-23T00:00:00",
          "2020-03-24T00:00:00",
          "2020-03-25T00:00:00",
          "2020-03-26T00:00:00",
          "2020-03-27T00:00:00",
          "2020-03-28T00:00:00",
          "2020-03-29T00:00:00",
          "2020-03-30T00:00:00",
          "2020-03-31T00:00:00",
          "2020-04-01T00:00:00",
          "2020-04-02T00:00:00",
          "2020-04-03T00:00:00",
          "2020-04-04T00:00:00",
          "2020-04-05T00:00:00",
          "2020-04-06T00:00:00",
          "2020-04-07T00:00:00",
          "2020-04-08T00:00:00",
          "2020-04-09T00:00:00",
          "2020-04-10T00:00:00",
          "2020-04-11T00:00:00",
          "2020-04-12T00:00:00",
          "2020-04-13T00:00:00",
          "2020-04-14T00:00:00",
          "2020-04-15T00:00:00",
          "2020-04-16T00:00:00",
          "2020-04-17T00:00:00",
          "2020-04-18T00:00:00",
          "2020-04-19T00:00:00",
          "2020-04-20T00:00:00",
          "2020-04-21T00:00:00"
         ],
         "y": [
          16,
          19,
          25,
          35,
          46,
          57,
          80,
          94,
          114,
          142,
          176,
          212,
          267,
          336,
          426,
          507,
          581,
          683,
          796,
          915,
          1026,
          1147,
          1256,
          1353,
          1491,
          1604,
          1679,
          1781,
          1862,
          1931,
          2009,
          2075,
          2139,
          2203,
          2260,
          2318,
          2348,
          2389,
          2437,
          2477,
          2504,
          2536,
          2563,
          2584,
          2619,
          2641,
          2643
         ]
        },
        {
         "mode": "lines",
         "name": "K=2614.42,\\beta=0.18, t_0=23.85",
         "type": "scatter",
         "x": [
          "2020-03-06T00:00:00",
          "2020-03-07T00:00:00",
          "2020-03-08T00:00:00",
          "2020-03-09T00:00:00",
          "2020-03-10T00:00:00",
          "2020-03-11T00:00:00",
          "2020-03-12T00:00:00",
          "2020-03-13T00:00:00",
          "2020-03-14T00:00:00",
          "2020-03-15T00:00:00",
          "2020-03-16T00:00:00",
          "2020-03-17T00:00:00",
          "2020-03-18T00:00:00",
          "2020-03-19T00:00:00",
          "2020-03-20T00:00:00",
          "2020-03-21T00:00:00",
          "2020-03-22T00:00:00",
          "2020-03-23T00:00:00",
          "2020-03-24T00:00:00",
          "2020-03-25T00:00:00",
          "2020-03-26T00:00:00",
          "2020-03-27T00:00:00",
          "2020-03-28T00:00:00",
          "2020-03-29T00:00:00",
          "2020-03-30T00:00:00",
          "2020-03-31T00:00:00",
          "2020-04-01T00:00:00",
          "2020-04-02T00:00:00",
          "2020-04-03T00:00:00",
          "2020-04-04T00:00:00",
          "2020-04-05T00:00:00",
          "2020-04-06T00:00:00",
          "2020-04-07T00:00:00",
          "2020-04-08T00:00:00",
          "2020-04-09T00:00:00",
          "2020-04-10T00:00:00",
          "2020-04-11T00:00:00",
          "2020-04-12T00:00:00",
          "2020-04-13T00:00:00",
          "2020-04-14T00:00:00",
          "2020-04-15T00:00:00",
          "2020-04-16T00:00:00",
          "2020-04-17T00:00:00",
          "2020-04-18T00:00:00",
          "2020-04-19T00:00:00",
          "2020-04-20T00:00:00",
          "2020-04-21T00:00:00"
         ],
         "y": [
          40.58717755153242,
          48.51956867341065,
          57.96735700657366,
          69.2052116879854,
          82.55134479711737,
          98.37178612907343,
          117.08390807796661,
          139.15855583660422,
          165.1199143050573,
          195.54199629221932,
          231.0403969620668,
          272.25778158129265,
          319.8415427998971,
          374.4122971588397,
          436.52252649002264,
          506.60583636832854,
          584.9190606989009,
          671.4816988771906,
          766.0196057128996,
          867.9218664226415,
          976.2205748916224,
          1089.6020042723026,
          1206.453997520328,
          1324.9486242073967,
          1443.1524367048503,
          1559.150826900426,
          1671.169837045573,
          1777.6793544820337,
          1877.4657265405592,
          1969.6681316643337,
          2053.7796485677004,
          2129.619198560958,
          2197.2834646895453,
          2257.088449997176,
          2309.5090955004894,
          2355.1231625806968,
          2394.563153147536,
          2428.477911209476,
          2457.5039681348603,
          2482.2456967283943,
          2503.2628383175575,
          2521.0638264869085,
          2536.103416785301,
          2548.7833355322005,
          2559.4549070919493,
          2568.4228611734607,
          2575.9497354996543
         ]
        },
        {
         "marker": {
          "size": 10,
          "symbol": "square"
         },
         "mode": "markers",
         "name": "prediction",
         "type": "scatter",
         "x": [
          "2020-04-22T00:00:00",
          "2020-04-23T00:00:00",
          "2020-04-24T00:00:00",
          "2020-04-25T00:00:00",
          "2020-04-26T00:00:00",
          "2020-04-27T00:00:00",
          "2020-04-28T00:00:00"
         ],
         "y": [
          2582,
          2587,
          2591,
          2595,
          2598,
          2601
         ]
        }
       ],
       "layout": {
        "font": {
         "size": 12
        },
        "legend": {
         "x": 0.05,
         "y": 0.95
        },
        "template": {
         "data": {
          "bar": [
           {
            "error_x": {
             "color": "#2a3f5f"
            },
            "error_y": {
             "color": "#2a3f5f"
            },
            "marker": {
             "line": {
              "color": "#E5ECF6",
              "width": 0.5
             }
            },
            "type": "bar"
           }
          ],
          "barpolar": [
           {
            "marker": {
             "line": {
              "color": "#E5ECF6",
              "width": 0.5
             }
            },
            "type": "barpolar"
           }
          ],
          "carpet": [
           {
            "aaxis": {
             "endlinecolor": "#2a3f5f",
             "gridcolor": "white",
             "linecolor": "white",
             "minorgridcolor": "white",
             "startlinecolor": "#2a3f5f"
            },
            "baxis": {
             "endlinecolor": "#2a3f5f",
             "gridcolor": "white",
             "linecolor": "white",
             "minorgridcolor": "white",
             "startlinecolor": "#2a3f5f"
            },
            "type": "carpet"
           }
          ],
          "choropleth": [
           {
            "colorbar": {
             "outlinewidth": 0,
             "ticks": ""
            },
            "type": "choropleth"
           }
          ],
          "contour": [
           {
            "colorbar": {
             "outlinewidth": 0,
             "ticks": ""
            },
            "colorscale": [
             [
              0,
              "#0d0887"
             ],
             [
              0.1111111111111111,
              "#46039f"
             ],
             [
              0.2222222222222222,
              "#7201a8"
             ],
             [
              0.3333333333333333,
              "#9c179e"
             ],
             [
              0.4444444444444444,
              "#bd3786"
             ],
             [
              0.5555555555555556,
              "#d8576b"
             ],
             [
              0.6666666666666666,
              "#ed7953"
             ],
             [
              0.7777777777777778,
              "#fb9f3a"
             ],
             [
              0.8888888888888888,
              "#fdca26"
             ],
             [
              1,
              "#f0f921"
             ]
            ],
            "type": "contour"
           }
          ],
          "contourcarpet": [
           {
            "colorbar": {
             "outlinewidth": 0,
             "ticks": ""
            },
            "type": "contourcarpet"
           }
          ],
          "heatmap": [
           {
            "colorbar": {
             "outlinewidth": 0,
             "ticks": ""
            },
            "colorscale": [
             [
              0,
              "#0d0887"
             ],
             [
              0.1111111111111111,
              "#46039f"
             ],
             [
              0.2222222222222222,
              "#7201a8"
             ],
             [
              0.3333333333333333,
              "#9c179e"
             ],
             [
              0.4444444444444444,
              "#bd3786"
             ],
             [
              0.5555555555555556,
              "#d8576b"
             ],
             [
              0.6666666666666666,
              "#ed7953"
             ],
             [
              0.7777777777777778,
              "#fb9f3a"
             ],
             [
              0.8888888888888888,
              "#fdca26"
             ],
             [
              1,
              "#f0f921"
             ]
            ],
            "type": "heatmap"
           }
          ],
          "heatmapgl": [
           {
            "colorbar": {
             "outlinewidth": 0,
             "ticks": ""
            },
            "colorscale": [
             [
              0,
              "#0d0887"
             ],
             [
              0.1111111111111111,
              "#46039f"
             ],
             [
              0.2222222222222222,
              "#7201a8"
             ],
             [
              0.3333333333333333,
              "#9c179e"
             ],
             [
              0.4444444444444444,
              "#bd3786"
             ],
             [
              0.5555555555555556,
              "#d8576b"
             ],
             [
              0.6666666666666666,
              "#ed7953"
             ],
             [
              0.7777777777777778,
              "#fb9f3a"
             ],
             [
              0.8888888888888888,
              "#fdca26"
             ],
             [
              1,
              "#f0f921"
             ]
            ],
            "type": "heatmapgl"
           }
          ],
          "histogram": [
           {
            "marker": {
             "colorbar": {
              "outlinewidth": 0,
              "ticks": ""
             }
            },
            "type": "histogram"
           }
          ],
          "histogram2d": [
           {
            "colorbar": {
             "outlinewidth": 0,
             "ticks": ""
            },
            "colorscale": [
             [
              0,
              "#0d0887"
             ],
             [
              0.1111111111111111,
              "#46039f"
             ],
             [
              0.2222222222222222,
              "#7201a8"
             ],
             [
              0.3333333333333333,
              "#9c179e"
             ],
             [
              0.4444444444444444,
              "#bd3786"
             ],
             [
              0.5555555555555556,
              "#d8576b"
             ],
             [
              0.6666666666666666,
              "#ed7953"
             ],
             [
              0.7777777777777778,
              "#fb9f3a"
             ],
             [
              0.8888888888888888,
              "#fdca26"
             ],
             [
              1,
              "#f0f921"
             ]
            ],
            "type": "histogram2d"
           }
          ],
          "histogram2dcontour": [
           {
            "colorbar": {
             "outlinewidth": 0,
             "ticks": ""
            },
            "colorscale": [
             [
              0,
              "#0d0887"
             ],
             [
              0.1111111111111111,
              "#46039f"
             ],
             [
              0.2222222222222222,
              "#7201a8"
             ],
             [
              0.3333333333333333,
              "#9c179e"
             ],
             [
              0.4444444444444444,
              "#bd3786"
             ],
             [
              0.5555555555555556,
              "#d8576b"
             ],
             [
              0.6666666666666666,
              "#ed7953"
             ],
             [
              0.7777777777777778,
              "#fb9f3a"
             ],
             [
              0.8888888888888888,
              "#fdca26"
             ],
             [
              1,
              "#f0f921"
             ]
            ],
            "type": "histogram2dcontour"
           }
          ],
          "mesh3d": [
           {
            "colorbar": {
             "outlinewidth": 0,
             "ticks": ""
            },
            "type": "mesh3d"
           }
          ],
          "parcoords": [
           {
            "line": {
             "colorbar": {
              "outlinewidth": 0,
              "ticks": ""
             }
            },
            "type": "parcoords"
           }
          ],
          "pie": [
           {
            "automargin": true,
            "type": "pie"
           }
          ],
          "scatter": [
           {
            "marker": {
             "colorbar": {
              "outlinewidth": 0,
              "ticks": ""
             }
            },
            "type": "scatter"
           }
          ],
          "scatter3d": [
           {
            "line": {
             "colorbar": {
              "outlinewidth": 0,
              "ticks": ""
             }
            },
            "marker": {
             "colorbar": {
              "outlinewidth": 0,
              "ticks": ""
             }
            },
            "type": "scatter3d"
           }
          ],
          "scattercarpet": [
           {
            "marker": {
             "colorbar": {
              "outlinewidth": 0,
              "ticks": ""
             }
            },
            "type": "scattercarpet"
           }
          ],
          "scattergeo": [
           {
            "marker": {
             "colorbar": {
              "outlinewidth": 0,
              "ticks": ""
             }
            },
            "type": "scattergeo"
           }
          ],
          "scattergl": [
           {
            "marker": {
             "colorbar": {
              "outlinewidth": 0,
              "ticks": ""
             }
            },
            "type": "scattergl"
           }
          ],
          "scattermapbox": [
           {
            "marker": {
             "colorbar": {
              "outlinewidth": 0,
              "ticks": ""
             }
            },
            "type": "scattermapbox"
           }
          ],
          "scatterpolar": [
           {
            "marker": {
             "colorbar": {
              "outlinewidth": 0,
              "ticks": ""
             }
            },
            "type": "scatterpolar"
           }
          ],
          "scatterpolargl": [
           {
            "marker": {
             "colorbar": {
              "outlinewidth": 0,
              "ticks": ""
             }
            },
            "type": "scatterpolargl"
           }
          ],
          "scatterternary": [
           {
            "marker": {
             "colorbar": {
              "outlinewidth": 0,
              "ticks": ""
             }
            },
            "type": "scatterternary"
           }
          ],
          "surface": [
           {
            "colorbar": {
             "outlinewidth": 0,
             "ticks": ""
            },
            "colorscale": [
             [
              0,
              "#0d0887"
             ],
             [
              0.1111111111111111,
              "#46039f"
             ],
             [
              0.2222222222222222,
              "#7201a8"
             ],
             [
              0.3333333333333333,
              "#9c179e"
             ],
             [
              0.4444444444444444,
              "#bd3786"
             ],
             [
              0.5555555555555556,
              "#d8576b"
             ],
             [
              0.6666666666666666,
              "#ed7953"
             ],
             [
              0.7777777777777778,
              "#fb9f3a"
             ],
             [
              0.8888888888888888,
              "#fdca26"
             ],
             [
              1,
              "#f0f921"
             ]
            ],
            "type": "surface"
           }
          ],
          "table": [
           {
            "cells": {
             "fill": {
              "color": "#EBF0F8"
             },
             "line": {
              "color": "white"
             }
            },
            "header": {
             "fill": {
              "color": "#C8D4E3"
             },
             "line": {
              "color": "white"
             }
            },
            "type": "table"
           }
          ]
         },
         "layout": {
          "annotationdefaults": {
           "arrowcolor": "#2a3f5f",
           "arrowhead": 0,
           "arrowwidth": 1
          },
          "coloraxis": {
           "colorbar": {
            "outlinewidth": 0,
            "ticks": ""
           }
          },
          "colorscale": {
           "diverging": [
            [
             0,
             "#8e0152"
            ],
            [
             0.1,
             "#c51b7d"
            ],
            [
             0.2,
             "#de77ae"
            ],
            [
             0.3,
             "#f1b6da"
            ],
            [
             0.4,
             "#fde0ef"
            ],
            [
             0.5,
             "#f7f7f7"
            ],
            [
             0.6,
             "#e6f5d0"
            ],
            [
             0.7,
             "#b8e186"
            ],
            [
             0.8,
             "#7fbc41"
            ],
            [
             0.9,
             "#4d9221"
            ],
            [
             1,
             "#276419"
            ]
           ],
           "sequential": [
            [
             0,
             "#0d0887"
            ],
            [
             0.1111111111111111,
             "#46039f"
            ],
            [
             0.2222222222222222,
             "#7201a8"
            ],
            [
             0.3333333333333333,
             "#9c179e"
            ],
            [
             0.4444444444444444,
             "#bd3786"
            ],
            [
             0.5555555555555556,
             "#d8576b"
            ],
            [
             0.6666666666666666,
             "#ed7953"
            ],
            [
             0.7777777777777778,
             "#fb9f3a"
            ],
            [
             0.8888888888888888,
             "#fdca26"
            ],
            [
             1,
             "#f0f921"
            ]
           ],
           "sequentialminus": [
            [
             0,
             "#0d0887"
            ],
            [
             0.1111111111111111,
             "#46039f"
            ],
            [
             0.2222222222222222,
             "#7201a8"
            ],
            [
             0.3333333333333333,
             "#9c179e"
            ],
            [
             0.4444444444444444,
             "#bd3786"
            ],
            [
             0.5555555555555556,
             "#d8576b"
            ],
            [
             0.6666666666666666,
             "#ed7953"
            ],
            [
             0.7777777777777778,
             "#fb9f3a"
            ],
            [
             0.8888888888888888,
             "#fdca26"
            ],
            [
             1,
             "#f0f921"
            ]
           ]
          },
          "colorway": [
           "#636efa",
           "#EF553B",
           "#00cc96",
           "#ab63fa",
           "#FFA15A",
           "#19d3f3",
           "#FF6692",
           "#B6E880",
           "#FF97FF",
           "#FECB52"
          ],
          "font": {
           "color": "#2a3f5f"
          },
          "geo": {
           "bgcolor": "white",
           "lakecolor": "white",
           "landcolor": "#E5ECF6",
           "showlakes": true,
           "showland": true,
           "subunitcolor": "white"
          },
          "hoverlabel": {
           "align": "left"
          },
          "hovermode": "closest",
          "mapbox": {
           "style": "light"
          },
          "paper_bgcolor": "white",
          "plot_bgcolor": "#E5ECF6",
          "polar": {
           "angularaxis": {
            "gridcolor": "white",
            "linecolor": "white",
            "ticks": ""
           },
           "bgcolor": "#E5ECF6",
           "radialaxis": {
            "gridcolor": "white",
            "linecolor": "white",
            "ticks": ""
           }
          },
          "scene": {
           "xaxis": {
            "backgroundcolor": "#E5ECF6",
            "gridcolor": "white",
            "gridwidth": 2,
            "linecolor": "white",
            "showbackground": true,
            "ticks": "",
            "zerolinecolor": "white"
           },
           "yaxis": {
            "backgroundcolor": "#E5ECF6",
            "gridcolor": "white",
            "gridwidth": 2,
            "linecolor": "white",
            "showbackground": true,
            "ticks": "",
            "zerolinecolor": "white"
           },
           "zaxis": {
            "backgroundcolor": "#E5ECF6",
            "gridcolor": "white",
            "gridwidth": 2,
            "linecolor": "white",
            "showbackground": true,
            "ticks": "",
            "zerolinecolor": "white"
           }
          },
          "shapedefaults": {
           "line": {
            "color": "#2a3f5f"
           }
          },
          "ternary": {
           "aaxis": {
            "gridcolor": "white",
            "linecolor": "white",
            "ticks": ""
           },
           "baxis": {
            "gridcolor": "white",
            "linecolor": "white",
            "ticks": ""
           },
           "bgcolor": "#E5ECF6",
           "caxis": {
            "gridcolor": "white",
            "linecolor": "white",
            "ticks": ""
           }
          },
          "title": {
           "x": 0.05
          },
          "xaxis": {
           "automargin": true,
           "gridcolor": "white",
           "linecolor": "white",
           "ticks": "",
           "title": {
            "standoff": 15
           },
           "zerolinecolor": "white",
           "zerolinewidth": 2
          },
          "yaxis": {
           "automargin": true,
           "gridcolor": "white",
           "linecolor": "white",
           "ticks": "",
           "title": {
            "standoff": 15
           },
           "zerolinecolor": "white",
           "zerolinewidth": 2
          }
         }
        },
        "title": {
         "text": "Cummulative intake of patient on IC",
         "x": 0.5,
         "xanchor": "center"
        },
        "xaxis": {
         "title": {
          "text": "Date"
         }
        },
        "yaxis": {
         "title": {
          "text": "# patients"
         }
        }
       }
      },
      "text/html": [
       "<div>\n",
       "        \n",
       "        \n",
       "            <div id=\"366a9455-bd3e-43b9-8d8c-05102220f084\" class=\"plotly-graph-div\" style=\"height:525px; width:100%;\"></div>\n",
       "            <script type=\"text/javascript\">\n",
       "                require([\"plotly\"], function(Plotly) {\n",
       "                    window.PLOTLYENV=window.PLOTLYENV || {};\n",
       "                    \n",
       "                if (document.getElementById(\"366a9455-bd3e-43b9-8d8c-05102220f084\")) {\n",
       "                    Plotly.newPlot(\n",
       "                        '366a9455-bd3e-43b9-8d8c-05102220f084',\n",
       "                        [{\"marker\": {\"size\": 10, \"symbol\": \"circle\"}, \"mode\": \"markers\", \"name\": \"counts RIVM\", \"type\": \"scatter\", \"x\": [\"2020-03-06T00:00:00\", \"2020-03-07T00:00:00\", \"2020-03-08T00:00:00\", \"2020-03-09T00:00:00\", \"2020-03-10T00:00:00\", \"2020-03-11T00:00:00\", \"2020-03-12T00:00:00\", \"2020-03-13T00:00:00\", \"2020-03-14T00:00:00\", \"2020-03-15T00:00:00\", \"2020-03-16T00:00:00\", \"2020-03-17T00:00:00\", \"2020-03-18T00:00:00\", \"2020-03-19T00:00:00\", \"2020-03-20T00:00:00\", \"2020-03-21T00:00:00\", \"2020-03-22T00:00:00\", \"2020-03-23T00:00:00\", \"2020-03-24T00:00:00\", \"2020-03-25T00:00:00\", \"2020-03-26T00:00:00\", \"2020-03-27T00:00:00\", \"2020-03-28T00:00:00\", \"2020-03-29T00:00:00\", \"2020-03-30T00:00:00\", \"2020-03-31T00:00:00\", \"2020-04-01T00:00:00\", \"2020-04-02T00:00:00\", \"2020-04-03T00:00:00\", \"2020-04-04T00:00:00\", \"2020-04-05T00:00:00\", \"2020-04-06T00:00:00\", \"2020-04-07T00:00:00\", \"2020-04-08T00:00:00\", \"2020-04-09T00:00:00\", \"2020-04-10T00:00:00\", \"2020-04-11T00:00:00\", \"2020-04-12T00:00:00\", \"2020-04-13T00:00:00\", \"2020-04-14T00:00:00\", \"2020-04-15T00:00:00\", \"2020-04-16T00:00:00\", \"2020-04-17T00:00:00\", \"2020-04-18T00:00:00\", \"2020-04-19T00:00:00\", \"2020-04-20T00:00:00\", \"2020-04-21T00:00:00\"], \"y\": [16.0, 19.0, 25.0, 35.0, 46.0, 57.0, 80.0, 94.0, 114.0, 142.0, 176.0, 212.0, 267.0, 336.0, 426.0, 507.0, 581.0, 683.0, 796.0, 915.0, 1026.0, 1147.0, 1256.0, 1353.0, 1491.0, 1604.0, 1679.0, 1781.0, 1862.0, 1931.0, 2009.0, 2075.0, 2139.0, 2203.0, 2260.0, 2318.0, 2348.0, 2389.0, 2437.0, 2477.0, 2504.0, 2536.0, 2563.0, 2584.0, 2619.0, 2641.0, 2643.0]}, {\"mode\": \"lines\", \"name\": \"K=2614.42,\\\\beta=0.18, t_0=23.85\", \"type\": \"scatter\", \"x\": [\"2020-03-06T00:00:00\", \"2020-03-07T00:00:00\", \"2020-03-08T00:00:00\", \"2020-03-09T00:00:00\", \"2020-03-10T00:00:00\", \"2020-03-11T00:00:00\", \"2020-03-12T00:00:00\", \"2020-03-13T00:00:00\", \"2020-03-14T00:00:00\", \"2020-03-15T00:00:00\", \"2020-03-16T00:00:00\", \"2020-03-17T00:00:00\", \"2020-03-18T00:00:00\", \"2020-03-19T00:00:00\", \"2020-03-20T00:00:00\", \"2020-03-21T00:00:00\", \"2020-03-22T00:00:00\", \"2020-03-23T00:00:00\", \"2020-03-24T00:00:00\", \"2020-03-25T00:00:00\", \"2020-03-26T00:00:00\", \"2020-03-27T00:00:00\", \"2020-03-28T00:00:00\", \"2020-03-29T00:00:00\", \"2020-03-30T00:00:00\", \"2020-03-31T00:00:00\", \"2020-04-01T00:00:00\", \"2020-04-02T00:00:00\", \"2020-04-03T00:00:00\", \"2020-04-04T00:00:00\", \"2020-04-05T00:00:00\", \"2020-04-06T00:00:00\", \"2020-04-07T00:00:00\", \"2020-04-08T00:00:00\", \"2020-04-09T00:00:00\", \"2020-04-10T00:00:00\", \"2020-04-11T00:00:00\", \"2020-04-12T00:00:00\", \"2020-04-13T00:00:00\", \"2020-04-14T00:00:00\", \"2020-04-15T00:00:00\", \"2020-04-16T00:00:00\", \"2020-04-17T00:00:00\", \"2020-04-18T00:00:00\", \"2020-04-19T00:00:00\", \"2020-04-20T00:00:00\", \"2020-04-21T00:00:00\"], \"y\": [40.58717755153242, 48.51956867341065, 57.96735700657366, 69.2052116879854, 82.55134479711737, 98.37178612907343, 117.08390807796661, 139.15855583660422, 165.1199143050573, 195.54199629221932, 231.0403969620668, 272.25778158129265, 319.8415427998971, 374.4122971588397, 436.52252649002264, 506.60583636832854, 584.9190606989009, 671.4816988771906, 766.0196057128996, 867.9218664226415, 976.2205748916224, 1089.6020042723026, 1206.453997520328, 1324.9486242073967, 1443.1524367048503, 1559.150826900426, 1671.169837045573, 1777.6793544820337, 1877.4657265405592, 1969.6681316643337, 2053.7796485677004, 2129.619198560958, 2197.2834646895453, 2257.088449997176, 2309.5090955004894, 2355.1231625806968, 2394.563153147536, 2428.477911209476, 2457.5039681348603, 2482.2456967283943, 2503.2628383175575, 2521.0638264869085, 2536.103416785301, 2548.7833355322005, 2559.4549070919493, 2568.4228611734607, 2575.9497354996543]}, {\"marker\": {\"size\": 10, \"symbol\": \"square\"}, \"mode\": \"markers\", \"name\": \"prediction\", \"type\": \"scatter\", \"x\": [\"2020-04-22T00:00:00\", \"2020-04-23T00:00:00\", \"2020-04-24T00:00:00\", \"2020-04-25T00:00:00\", \"2020-04-26T00:00:00\", \"2020-04-27T00:00:00\", \"2020-04-28T00:00:00\"], \"y\": [2582, 2587, 2591, 2595, 2598, 2601]}],\n",
       "                        {\"font\": {\"size\": 12}, \"legend\": {\"x\": 0.05, \"y\": 0.95}, \"template\": {\"data\": {\"bar\": [{\"error_x\": {\"color\": \"#2a3f5f\"}, \"error_y\": {\"color\": \"#2a3f5f\"}, \"marker\": {\"line\": {\"color\": \"#E5ECF6\", \"width\": 0.5}}, \"type\": \"bar\"}], \"barpolar\": [{\"marker\": {\"line\": {\"color\": \"#E5ECF6\", \"width\": 0.5}}, \"type\": \"barpolar\"}], \"carpet\": [{\"aaxis\": {\"endlinecolor\": \"#2a3f5f\", \"gridcolor\": \"white\", \"linecolor\": \"white\", \"minorgridcolor\": \"white\", \"startlinecolor\": \"#2a3f5f\"}, \"baxis\": {\"endlinecolor\": \"#2a3f5f\", \"gridcolor\": \"white\", \"linecolor\": \"white\", \"minorgridcolor\": \"white\", \"startlinecolor\": \"#2a3f5f\"}, \"type\": \"carpet\"}], \"choropleth\": [{\"colorbar\": {\"outlinewidth\": 0, \"ticks\": \"\"}, \"type\": \"choropleth\"}], \"contour\": [{\"colorbar\": {\"outlinewidth\": 0, \"ticks\": \"\"}, \"colorscale\": [[0.0, \"#0d0887\"], [0.1111111111111111, \"#46039f\"], [0.2222222222222222, \"#7201a8\"], [0.3333333333333333, \"#9c179e\"], [0.4444444444444444, \"#bd3786\"], [0.5555555555555556, \"#d8576b\"], [0.6666666666666666, \"#ed7953\"], [0.7777777777777778, \"#fb9f3a\"], [0.8888888888888888, \"#fdca26\"], [1.0, \"#f0f921\"]], \"type\": \"contour\"}], \"contourcarpet\": [{\"colorbar\": {\"outlinewidth\": 0, \"ticks\": \"\"}, \"type\": \"contourcarpet\"}], \"heatmap\": [{\"colorbar\": {\"outlinewidth\": 0, \"ticks\": \"\"}, \"colorscale\": [[0.0, \"#0d0887\"], [0.1111111111111111, \"#46039f\"], [0.2222222222222222, \"#7201a8\"], [0.3333333333333333, \"#9c179e\"], [0.4444444444444444, \"#bd3786\"], [0.5555555555555556, \"#d8576b\"], [0.6666666666666666, \"#ed7953\"], [0.7777777777777778, \"#fb9f3a\"], [0.8888888888888888, \"#fdca26\"], [1.0, \"#f0f921\"]], \"type\": \"heatmap\"}], \"heatmapgl\": [{\"colorbar\": {\"outlinewidth\": 0, \"ticks\": \"\"}, \"colorscale\": [[0.0, \"#0d0887\"], [0.1111111111111111, \"#46039f\"], [0.2222222222222222, \"#7201a8\"], [0.3333333333333333, \"#9c179e\"], [0.4444444444444444, \"#bd3786\"], [0.5555555555555556, \"#d8576b\"], [0.6666666666666666, \"#ed7953\"], [0.7777777777777778, \"#fb9f3a\"], [0.8888888888888888, \"#fdca26\"], [1.0, \"#f0f921\"]], \"type\": \"heatmapgl\"}], \"histogram\": [{\"marker\": {\"colorbar\": {\"outlinewidth\": 0, \"ticks\": \"\"}}, \"type\": \"histogram\"}], \"histogram2d\": [{\"colorbar\": {\"outlinewidth\": 0, \"ticks\": \"\"}, \"colorscale\": [[0.0, \"#0d0887\"], [0.1111111111111111, \"#46039f\"], [0.2222222222222222, \"#7201a8\"], [0.3333333333333333, \"#9c179e\"], [0.4444444444444444, \"#bd3786\"], [0.5555555555555556, \"#d8576b\"], [0.6666666666666666, \"#ed7953\"], [0.7777777777777778, \"#fb9f3a\"], [0.8888888888888888, \"#fdca26\"], [1.0, \"#f0f921\"]], \"type\": \"histogram2d\"}], \"histogram2dcontour\": [{\"colorbar\": {\"outlinewidth\": 0, \"ticks\": \"\"}, \"colorscale\": [[0.0, \"#0d0887\"], [0.1111111111111111, \"#46039f\"], [0.2222222222222222, \"#7201a8\"], [0.3333333333333333, \"#9c179e\"], [0.4444444444444444, \"#bd3786\"], [0.5555555555555556, \"#d8576b\"], [0.6666666666666666, \"#ed7953\"], [0.7777777777777778, \"#fb9f3a\"], [0.8888888888888888, \"#fdca26\"], [1.0, \"#f0f921\"]], \"type\": \"histogram2dcontour\"}], \"mesh3d\": [{\"colorbar\": {\"outlinewidth\": 0, \"ticks\": \"\"}, \"type\": \"mesh3d\"}], \"parcoords\": [{\"line\": {\"colorbar\": {\"outlinewidth\": 0, \"ticks\": \"\"}}, \"type\": \"parcoords\"}], \"pie\": [{\"automargin\": true, \"type\": \"pie\"}], \"scatter\": [{\"marker\": {\"colorbar\": {\"outlinewidth\": 0, \"ticks\": \"\"}}, \"type\": \"scatter\"}], \"scatter3d\": [{\"line\": {\"colorbar\": {\"outlinewidth\": 0, \"ticks\": \"\"}}, \"marker\": {\"colorbar\": {\"outlinewidth\": 0, \"ticks\": \"\"}}, \"type\": \"scatter3d\"}], \"scattercarpet\": [{\"marker\": {\"colorbar\": {\"outlinewidth\": 0, \"ticks\": \"\"}}, \"type\": \"scattercarpet\"}], \"scattergeo\": [{\"marker\": {\"colorbar\": {\"outlinewidth\": 0, \"ticks\": \"\"}}, \"type\": \"scattergeo\"}], \"scattergl\": [{\"marker\": {\"colorbar\": {\"outlinewidth\": 0, \"ticks\": \"\"}}, \"type\": \"scattergl\"}], \"scattermapbox\": [{\"marker\": {\"colorbar\": {\"outlinewidth\": 0, \"ticks\": \"\"}}, \"type\": \"scattermapbox\"}], \"scatterpolar\": [{\"marker\": {\"colorbar\": {\"outlinewidth\": 0, \"ticks\": \"\"}}, \"type\": \"scatterpolar\"}], \"scatterpolargl\": [{\"marker\": {\"colorbar\": {\"outlinewidth\": 0, \"ticks\": \"\"}}, \"type\": \"scatterpolargl\"}], \"scatterternary\": [{\"marker\": {\"colorbar\": {\"outlinewidth\": 0, \"ticks\": \"\"}}, \"type\": \"scatterternary\"}], \"surface\": [{\"colorbar\": {\"outlinewidth\": 0, \"ticks\": \"\"}, \"colorscale\": [[0.0, \"#0d0887\"], [0.1111111111111111, \"#46039f\"], [0.2222222222222222, \"#7201a8\"], [0.3333333333333333, \"#9c179e\"], [0.4444444444444444, \"#bd3786\"], [0.5555555555555556, \"#d8576b\"], [0.6666666666666666, \"#ed7953\"], [0.7777777777777778, \"#fb9f3a\"], [0.8888888888888888, \"#fdca26\"], [1.0, \"#f0f921\"]], \"type\": \"surface\"}], \"table\": [{\"cells\": {\"fill\": {\"color\": \"#EBF0F8\"}, \"line\": {\"color\": \"white\"}}, \"header\": {\"fill\": {\"color\": \"#C8D4E3\"}, \"line\": {\"color\": \"white\"}}, \"type\": \"table\"}]}, \"layout\": {\"annotationdefaults\": {\"arrowcolor\": \"#2a3f5f\", \"arrowhead\": 0, \"arrowwidth\": 1}, \"coloraxis\": {\"colorbar\": {\"outlinewidth\": 0, \"ticks\": \"\"}}, \"colorscale\": {\"diverging\": [[0, \"#8e0152\"], [0.1, \"#c51b7d\"], [0.2, \"#de77ae\"], [0.3, \"#f1b6da\"], [0.4, \"#fde0ef\"], [0.5, \"#f7f7f7\"], [0.6, \"#e6f5d0\"], [0.7, \"#b8e186\"], [0.8, \"#7fbc41\"], [0.9, \"#4d9221\"], [1, \"#276419\"]], \"sequential\": [[0.0, \"#0d0887\"], [0.1111111111111111, \"#46039f\"], [0.2222222222222222, \"#7201a8\"], [0.3333333333333333, \"#9c179e\"], [0.4444444444444444, \"#bd3786\"], [0.5555555555555556, \"#d8576b\"], [0.6666666666666666, \"#ed7953\"], [0.7777777777777778, \"#fb9f3a\"], [0.8888888888888888, \"#fdca26\"], [1.0, \"#f0f921\"]], \"sequentialminus\": [[0.0, \"#0d0887\"], [0.1111111111111111, \"#46039f\"], [0.2222222222222222, \"#7201a8\"], [0.3333333333333333, \"#9c179e\"], [0.4444444444444444, \"#bd3786\"], [0.5555555555555556, \"#d8576b\"], [0.6666666666666666, \"#ed7953\"], [0.7777777777777778, \"#fb9f3a\"], [0.8888888888888888, \"#fdca26\"], [1.0, \"#f0f921\"]]}, \"colorway\": [\"#636efa\", \"#EF553B\", \"#00cc96\", \"#ab63fa\", \"#FFA15A\", \"#19d3f3\", \"#FF6692\", \"#B6E880\", \"#FF97FF\", \"#FECB52\"], \"font\": {\"color\": \"#2a3f5f\"}, \"geo\": {\"bgcolor\": \"white\", \"lakecolor\": \"white\", \"landcolor\": \"#E5ECF6\", \"showlakes\": true, \"showland\": true, \"subunitcolor\": \"white\"}, \"hoverlabel\": {\"align\": \"left\"}, \"hovermode\": \"closest\", \"mapbox\": {\"style\": \"light\"}, \"paper_bgcolor\": \"white\", \"plot_bgcolor\": \"#E5ECF6\", \"polar\": {\"angularaxis\": {\"gridcolor\": \"white\", \"linecolor\": \"white\", \"ticks\": \"\"}, \"bgcolor\": \"#E5ECF6\", \"radialaxis\": {\"gridcolor\": \"white\", \"linecolor\": \"white\", \"ticks\": \"\"}}, \"scene\": {\"xaxis\": {\"backgroundcolor\": \"#E5ECF6\", \"gridcolor\": \"white\", \"gridwidth\": 2, \"linecolor\": \"white\", \"showbackground\": true, \"ticks\": \"\", \"zerolinecolor\": \"white\"}, \"yaxis\": {\"backgroundcolor\": \"#E5ECF6\", \"gridcolor\": \"white\", \"gridwidth\": 2, \"linecolor\": \"white\", \"showbackground\": true, \"ticks\": \"\", \"zerolinecolor\": \"white\"}, \"zaxis\": {\"backgroundcolor\": \"#E5ECF6\", \"gridcolor\": \"white\", \"gridwidth\": 2, \"linecolor\": \"white\", \"showbackground\": true, \"ticks\": \"\", \"zerolinecolor\": \"white\"}}, \"shapedefaults\": {\"line\": {\"color\": \"#2a3f5f\"}}, \"ternary\": {\"aaxis\": {\"gridcolor\": \"white\", \"linecolor\": \"white\", \"ticks\": \"\"}, \"baxis\": {\"gridcolor\": \"white\", \"linecolor\": \"white\", \"ticks\": \"\"}, \"bgcolor\": \"#E5ECF6\", \"caxis\": {\"gridcolor\": \"white\", \"linecolor\": \"white\", \"ticks\": \"\"}}, \"title\": {\"x\": 0.05}, \"xaxis\": {\"automargin\": true, \"gridcolor\": \"white\", \"linecolor\": \"white\", \"ticks\": \"\", \"title\": {\"standoff\": 15}, \"zerolinecolor\": \"white\", \"zerolinewidth\": 2}, \"yaxis\": {\"automargin\": true, \"gridcolor\": \"white\", \"linecolor\": \"white\", \"ticks\": \"\", \"title\": {\"standoff\": 15}, \"zerolinecolor\": \"white\", \"zerolinewidth\": 2}}}, \"title\": {\"text\": \"Cummulative intake of patient on IC\", \"x\": 0.5, \"xanchor\": \"center\"}, \"xaxis\": {\"title\": {\"text\": \"Date\"}}, \"yaxis\": {\"title\": {\"text\": \"# patients\"}}},\n",
       "                        {\"responsive\": true}\n",
       "                    ).then(function(){\n",
       "                            \n",
       "var gd = document.getElementById('366a9455-bd3e-43b9-8d8c-05102220f084');\n",
       "var x = new MutationObserver(function (mutations, observer) {{\n",
       "        var display = window.getComputedStyle(gd).display;\n",
       "        if (!display || display === 'none') {{\n",
       "            console.log([gd, 'removed!']);\n",
       "            Plotly.purge(gd);\n",
       "            observer.disconnect();\n",
       "        }}\n",
       "}});\n",
       "\n",
       "// Listen for the removal of the full notebook cells\n",
       "var notebookContainer = gd.closest('#notebook-container');\n",
       "if (notebookContainer) {{\n",
       "    x.observe(notebookContainer, {childList: true});\n",
       "}}\n",
       "\n",
       "// Listen for the clearing of the current output cell\n",
       "var outputEl = gd.closest('.output');\n",
       "if (outputEl) {{\n",
       "    x.observe(outputEl, {childList: true});\n",
       "}}\n",
       "\n",
       "                        })\n",
       "                };\n",
       "                });\n",
       "            </script>\n",
       "        </div>"
      ]
     },
     "metadata": {},
     "output_type": "display_data"
    },
    {
     "data": {
      "application/vnd.plotly.v1+json": {
       "config": {
        "plotlyServerURL": "https://plotly.com"
       },
       "data": [
        {
         "type": "bar",
         "x": [
          "2020-03-06T00:00:00",
          "2020-03-07T00:00:00",
          "2020-03-08T00:00:00",
          "2020-03-09T00:00:00",
          "2020-03-10T00:00:00",
          "2020-03-11T00:00:00",
          "2020-03-12T00:00:00",
          "2020-03-13T00:00:00",
          "2020-03-14T00:00:00",
          "2020-03-15T00:00:00",
          "2020-03-16T00:00:00",
          "2020-03-17T00:00:00",
          "2020-03-18T00:00:00",
          "2020-03-19T00:00:00",
          "2020-03-20T00:00:00",
          "2020-03-21T00:00:00",
          "2020-03-22T00:00:00",
          "2020-03-23T00:00:00",
          "2020-03-24T00:00:00",
          "2020-03-25T00:00:00",
          "2020-03-26T00:00:00",
          "2020-03-27T00:00:00",
          "2020-03-28T00:00:00",
          "2020-03-29T00:00:00",
          "2020-03-30T00:00:00",
          "2020-03-31T00:00:00",
          "2020-04-01T00:00:00",
          "2020-04-02T00:00:00",
          "2020-04-03T00:00:00",
          "2020-04-04T00:00:00",
          "2020-04-05T00:00:00",
          "2020-04-06T00:00:00",
          "2020-04-07T00:00:00",
          "2020-04-08T00:00:00",
          "2020-04-09T00:00:00",
          "2020-04-10T00:00:00",
          "2020-04-11T00:00:00",
          "2020-04-12T00:00:00",
          "2020-04-13T00:00:00",
          "2020-04-14T00:00:00",
          "2020-04-15T00:00:00",
          "2020-04-16T00:00:00",
          "2020-04-17T00:00:00",
          "2020-04-18T00:00:00",
          "2020-04-19T00:00:00",
          "2020-04-20T00:00:00",
          "2020-04-21T00:00:00"
         ],
         "y": [
          3,
          3,
          6,
          10,
          11,
          11,
          23,
          14,
          20,
          28,
          34,
          36,
          55,
          69,
          90,
          81,
          74,
          102,
          113,
          119,
          111,
          121,
          109,
          97,
          138,
          113,
          75,
          102,
          81,
          69,
          78,
          66,
          64,
          64,
          57,
          58,
          30,
          41,
          48,
          40,
          27,
          32,
          27,
          21,
          35,
          22,
          2
         ]
        },
        {
         "mode": "lines",
         "name": "K=2614.42,beta=0.18, t_0=23.85",
         "type": "scatter",
         "x": [
          "2020-03-06T00:00:00",
          "2020-03-07T00:00:00",
          "2020-03-08T00:00:00",
          "2020-03-09T00:00:00",
          "2020-03-10T00:00:00",
          "2020-03-11T00:00:00",
          "2020-03-12T00:00:00",
          "2020-03-13T00:00:00",
          "2020-03-14T00:00:00",
          "2020-03-15T00:00:00",
          "2020-03-16T00:00:00",
          "2020-03-17T00:00:00",
          "2020-03-18T00:00:00",
          "2020-03-19T00:00:00",
          "2020-03-20T00:00:00",
          "2020-03-21T00:00:00",
          "2020-03-22T00:00:00",
          "2020-03-23T00:00:00",
          "2020-03-24T00:00:00",
          "2020-03-25T00:00:00",
          "2020-03-26T00:00:00",
          "2020-03-27T00:00:00",
          "2020-03-28T00:00:00",
          "2020-03-29T00:00:00",
          "2020-03-30T00:00:00",
          "2020-03-31T00:00:00",
          "2020-04-01T00:00:00",
          "2020-04-02T00:00:00",
          "2020-04-03T00:00:00",
          "2020-04-04T00:00:00",
          "2020-04-05T00:00:00",
          "2020-04-06T00:00:00",
          "2020-04-07T00:00:00",
          "2020-04-08T00:00:00",
          "2020-04-09T00:00:00",
          "2020-04-10T00:00:00",
          "2020-04-11T00:00:00",
          "2020-04-12T00:00:00",
          "2020-04-13T00:00:00",
          "2020-04-14T00:00:00",
          "2020-04-15T00:00:00",
          "2020-04-16T00:00:00",
          "2020-04-17T00:00:00",
          "2020-04-18T00:00:00",
          "2020-04-19T00:00:00",
          "2020-04-20T00:00:00",
          "2020-04-21T00:00:00"
         ],
         "y": [
          7.256274978026233,
          8.647713227390698,
          10.293564783859752,
          12.235107606592214,
          14.518103309348692,
          17.192303859137777,
          20.310413798809012,
          23.926301149933167,
          28.09221830858572,
          32.854782904273684,
          38.24949836439702,
          44.29369283902806,
          50.97795587752766,
          58.256483929461986,
          66.0372178429683,
          74.17323357188513,
          82.45742524269927,
          90.62290296360685,
          98.3514498391674,
          105.29158012256627,
          111.08609064909207,
          115.40667905509659,
          117.99078150174928,
          118.6741167792934,
          117.4123369288544,
          114.28703452799182,
          109.4947431493938,
          103.32141294071754,
          96.10785878276874,
          88.21295487524178,
          79.98072423493035,
          71.71548404976181,
          63.66673658747857,
          56.023335001125965,
          48.915054579912805,
          42.41913644706195,
          36.5694605078165,
          31.36647138174958,
          26.786575310796295,
          22.79027977498583,
          19.32877876030283,
          16.348976881948257,
          13.797112424777666,
          11.621214298364258,
          9.77264277047896,
          8.206944559412037,
          6.884217797179014,
          5.769143110778412
         ]
        }
       ],
       "layout": {
        "font": {
         "size": 12
        },
        "legend": {
         "x": 0.05,
         "y": 0.95
        },
        "template": {
         "data": {
          "bar": [
           {
            "error_x": {
             "color": "#2a3f5f"
            },
            "error_y": {
             "color": "#2a3f5f"
            },
            "marker": {
             "line": {
              "color": "#E5ECF6",
              "width": 0.5
             }
            },
            "type": "bar"
           }
          ],
          "barpolar": [
           {
            "marker": {
             "line": {
              "color": "#E5ECF6",
              "width": 0.5
             }
            },
            "type": "barpolar"
           }
          ],
          "carpet": [
           {
            "aaxis": {
             "endlinecolor": "#2a3f5f",
             "gridcolor": "white",
             "linecolor": "white",
             "minorgridcolor": "white",
             "startlinecolor": "#2a3f5f"
            },
            "baxis": {
             "endlinecolor": "#2a3f5f",
             "gridcolor": "white",
             "linecolor": "white",
             "minorgridcolor": "white",
             "startlinecolor": "#2a3f5f"
            },
            "type": "carpet"
           }
          ],
          "choropleth": [
           {
            "colorbar": {
             "outlinewidth": 0,
             "ticks": ""
            },
            "type": "choropleth"
           }
          ],
          "contour": [
           {
            "colorbar": {
             "outlinewidth": 0,
             "ticks": ""
            },
            "colorscale": [
             [
              0,
              "#0d0887"
             ],
             [
              0.1111111111111111,
              "#46039f"
             ],
             [
              0.2222222222222222,
              "#7201a8"
             ],
             [
              0.3333333333333333,
              "#9c179e"
             ],
             [
              0.4444444444444444,
              "#bd3786"
             ],
             [
              0.5555555555555556,
              "#d8576b"
             ],
             [
              0.6666666666666666,
              "#ed7953"
             ],
             [
              0.7777777777777778,
              "#fb9f3a"
             ],
             [
              0.8888888888888888,
              "#fdca26"
             ],
             [
              1,
              "#f0f921"
             ]
            ],
            "type": "contour"
           }
          ],
          "contourcarpet": [
           {
            "colorbar": {
             "outlinewidth": 0,
             "ticks": ""
            },
            "type": "contourcarpet"
           }
          ],
          "heatmap": [
           {
            "colorbar": {
             "outlinewidth": 0,
             "ticks": ""
            },
            "colorscale": [
             [
              0,
              "#0d0887"
             ],
             [
              0.1111111111111111,
              "#46039f"
             ],
             [
              0.2222222222222222,
              "#7201a8"
             ],
             [
              0.3333333333333333,
              "#9c179e"
             ],
             [
              0.4444444444444444,
              "#bd3786"
             ],
             [
              0.5555555555555556,
              "#d8576b"
             ],
             [
              0.6666666666666666,
              "#ed7953"
             ],
             [
              0.7777777777777778,
              "#fb9f3a"
             ],
             [
              0.8888888888888888,
              "#fdca26"
             ],
             [
              1,
              "#f0f921"
             ]
            ],
            "type": "heatmap"
           }
          ],
          "heatmapgl": [
           {
            "colorbar": {
             "outlinewidth": 0,
             "ticks": ""
            },
            "colorscale": [
             [
              0,
              "#0d0887"
             ],
             [
              0.1111111111111111,
              "#46039f"
             ],
             [
              0.2222222222222222,
              "#7201a8"
             ],
             [
              0.3333333333333333,
              "#9c179e"
             ],
             [
              0.4444444444444444,
              "#bd3786"
             ],
             [
              0.5555555555555556,
              "#d8576b"
             ],
             [
              0.6666666666666666,
              "#ed7953"
             ],
             [
              0.7777777777777778,
              "#fb9f3a"
             ],
             [
              0.8888888888888888,
              "#fdca26"
             ],
             [
              1,
              "#f0f921"
             ]
            ],
            "type": "heatmapgl"
           }
          ],
          "histogram": [
           {
            "marker": {
             "colorbar": {
              "outlinewidth": 0,
              "ticks": ""
             }
            },
            "type": "histogram"
           }
          ],
          "histogram2d": [
           {
            "colorbar": {
             "outlinewidth": 0,
             "ticks": ""
            },
            "colorscale": [
             [
              0,
              "#0d0887"
             ],
             [
              0.1111111111111111,
              "#46039f"
             ],
             [
              0.2222222222222222,
              "#7201a8"
             ],
             [
              0.3333333333333333,
              "#9c179e"
             ],
             [
              0.4444444444444444,
              "#bd3786"
             ],
             [
              0.5555555555555556,
              "#d8576b"
             ],
             [
              0.6666666666666666,
              "#ed7953"
             ],
             [
              0.7777777777777778,
              "#fb9f3a"
             ],
             [
              0.8888888888888888,
              "#fdca26"
             ],
             [
              1,
              "#f0f921"
             ]
            ],
            "type": "histogram2d"
           }
          ],
          "histogram2dcontour": [
           {
            "colorbar": {
             "outlinewidth": 0,
             "ticks": ""
            },
            "colorscale": [
             [
              0,
              "#0d0887"
             ],
             [
              0.1111111111111111,
              "#46039f"
             ],
             [
              0.2222222222222222,
              "#7201a8"
             ],
             [
              0.3333333333333333,
              "#9c179e"
             ],
             [
              0.4444444444444444,
              "#bd3786"
             ],
             [
              0.5555555555555556,
              "#d8576b"
             ],
             [
              0.6666666666666666,
              "#ed7953"
             ],
             [
              0.7777777777777778,
              "#fb9f3a"
             ],
             [
              0.8888888888888888,
              "#fdca26"
             ],
             [
              1,
              "#f0f921"
             ]
            ],
            "type": "histogram2dcontour"
           }
          ],
          "mesh3d": [
           {
            "colorbar": {
             "outlinewidth": 0,
             "ticks": ""
            },
            "type": "mesh3d"
           }
          ],
          "parcoords": [
           {
            "line": {
             "colorbar": {
              "outlinewidth": 0,
              "ticks": ""
             }
            },
            "type": "parcoords"
           }
          ],
          "pie": [
           {
            "automargin": true,
            "type": "pie"
           }
          ],
          "scatter": [
           {
            "marker": {
             "colorbar": {
              "outlinewidth": 0,
              "ticks": ""
             }
            },
            "type": "scatter"
           }
          ],
          "scatter3d": [
           {
            "line": {
             "colorbar": {
              "outlinewidth": 0,
              "ticks": ""
             }
            },
            "marker": {
             "colorbar": {
              "outlinewidth": 0,
              "ticks": ""
             }
            },
            "type": "scatter3d"
           }
          ],
          "scattercarpet": [
           {
            "marker": {
             "colorbar": {
              "outlinewidth": 0,
              "ticks": ""
             }
            },
            "type": "scattercarpet"
           }
          ],
          "scattergeo": [
           {
            "marker": {
             "colorbar": {
              "outlinewidth": 0,
              "ticks": ""
             }
            },
            "type": "scattergeo"
           }
          ],
          "scattergl": [
           {
            "marker": {
             "colorbar": {
              "outlinewidth": 0,
              "ticks": ""
             }
            },
            "type": "scattergl"
           }
          ],
          "scattermapbox": [
           {
            "marker": {
             "colorbar": {
              "outlinewidth": 0,
              "ticks": ""
             }
            },
            "type": "scattermapbox"
           }
          ],
          "scatterpolar": [
           {
            "marker": {
             "colorbar": {
              "outlinewidth": 0,
              "ticks": ""
             }
            },
            "type": "scatterpolar"
           }
          ],
          "scatterpolargl": [
           {
            "marker": {
             "colorbar": {
              "outlinewidth": 0,
              "ticks": ""
             }
            },
            "type": "scatterpolargl"
           }
          ],
          "scatterternary": [
           {
            "marker": {
             "colorbar": {
              "outlinewidth": 0,
              "ticks": ""
             }
            },
            "type": "scatterternary"
           }
          ],
          "surface": [
           {
            "colorbar": {
             "outlinewidth": 0,
             "ticks": ""
            },
            "colorscale": [
             [
              0,
              "#0d0887"
             ],
             [
              0.1111111111111111,
              "#46039f"
             ],
             [
              0.2222222222222222,
              "#7201a8"
             ],
             [
              0.3333333333333333,
              "#9c179e"
             ],
             [
              0.4444444444444444,
              "#bd3786"
             ],
             [
              0.5555555555555556,
              "#d8576b"
             ],
             [
              0.6666666666666666,
              "#ed7953"
             ],
             [
              0.7777777777777778,
              "#fb9f3a"
             ],
             [
              0.8888888888888888,
              "#fdca26"
             ],
             [
              1,
              "#f0f921"
             ]
            ],
            "type": "surface"
           }
          ],
          "table": [
           {
            "cells": {
             "fill": {
              "color": "#EBF0F8"
             },
             "line": {
              "color": "white"
             }
            },
            "header": {
             "fill": {
              "color": "#C8D4E3"
             },
             "line": {
              "color": "white"
             }
            },
            "type": "table"
           }
          ]
         },
         "layout": {
          "annotationdefaults": {
           "arrowcolor": "#2a3f5f",
           "arrowhead": 0,
           "arrowwidth": 1
          },
          "coloraxis": {
           "colorbar": {
            "outlinewidth": 0,
            "ticks": ""
           }
          },
          "colorscale": {
           "diverging": [
            [
             0,
             "#8e0152"
            ],
            [
             0.1,
             "#c51b7d"
            ],
            [
             0.2,
             "#de77ae"
            ],
            [
             0.3,
             "#f1b6da"
            ],
            [
             0.4,
             "#fde0ef"
            ],
            [
             0.5,
             "#f7f7f7"
            ],
            [
             0.6,
             "#e6f5d0"
            ],
            [
             0.7,
             "#b8e186"
            ],
            [
             0.8,
             "#7fbc41"
            ],
            [
             0.9,
             "#4d9221"
            ],
            [
             1,
             "#276419"
            ]
           ],
           "sequential": [
            [
             0,
             "#0d0887"
            ],
            [
             0.1111111111111111,
             "#46039f"
            ],
            [
             0.2222222222222222,
             "#7201a8"
            ],
            [
             0.3333333333333333,
             "#9c179e"
            ],
            [
             0.4444444444444444,
             "#bd3786"
            ],
            [
             0.5555555555555556,
             "#d8576b"
            ],
            [
             0.6666666666666666,
             "#ed7953"
            ],
            [
             0.7777777777777778,
             "#fb9f3a"
            ],
            [
             0.8888888888888888,
             "#fdca26"
            ],
            [
             1,
             "#f0f921"
            ]
           ],
           "sequentialminus": [
            [
             0,
             "#0d0887"
            ],
            [
             0.1111111111111111,
             "#46039f"
            ],
            [
             0.2222222222222222,
             "#7201a8"
            ],
            [
             0.3333333333333333,
             "#9c179e"
            ],
            [
             0.4444444444444444,
             "#bd3786"
            ],
            [
             0.5555555555555556,
             "#d8576b"
            ],
            [
             0.6666666666666666,
             "#ed7953"
            ],
            [
             0.7777777777777778,
             "#fb9f3a"
            ],
            [
             0.8888888888888888,
             "#fdca26"
            ],
            [
             1,
             "#f0f921"
            ]
           ]
          },
          "colorway": [
           "#636efa",
           "#EF553B",
           "#00cc96",
           "#ab63fa",
           "#FFA15A",
           "#19d3f3",
           "#FF6692",
           "#B6E880",
           "#FF97FF",
           "#FECB52"
          ],
          "font": {
           "color": "#2a3f5f"
          },
          "geo": {
           "bgcolor": "white",
           "lakecolor": "white",
           "landcolor": "#E5ECF6",
           "showlakes": true,
           "showland": true,
           "subunitcolor": "white"
          },
          "hoverlabel": {
           "align": "left"
          },
          "hovermode": "closest",
          "mapbox": {
           "style": "light"
          },
          "paper_bgcolor": "white",
          "plot_bgcolor": "#E5ECF6",
          "polar": {
           "angularaxis": {
            "gridcolor": "white",
            "linecolor": "white",
            "ticks": ""
           },
           "bgcolor": "#E5ECF6",
           "radialaxis": {
            "gridcolor": "white",
            "linecolor": "white",
            "ticks": ""
           }
          },
          "scene": {
           "xaxis": {
            "backgroundcolor": "#E5ECF6",
            "gridcolor": "white",
            "gridwidth": 2,
            "linecolor": "white",
            "showbackground": true,
            "ticks": "",
            "zerolinecolor": "white"
           },
           "yaxis": {
            "backgroundcolor": "#E5ECF6",
            "gridcolor": "white",
            "gridwidth": 2,
            "linecolor": "white",
            "showbackground": true,
            "ticks": "",
            "zerolinecolor": "white"
           },
           "zaxis": {
            "backgroundcolor": "#E5ECF6",
            "gridcolor": "white",
            "gridwidth": 2,
            "linecolor": "white",
            "showbackground": true,
            "ticks": "",
            "zerolinecolor": "white"
           }
          },
          "shapedefaults": {
           "line": {
            "color": "#2a3f5f"
           }
          },
          "ternary": {
           "aaxis": {
            "gridcolor": "white",
            "linecolor": "white",
            "ticks": ""
           },
           "baxis": {
            "gridcolor": "white",
            "linecolor": "white",
            "ticks": ""
           },
           "bgcolor": "#E5ECF6",
           "caxis": {
            "gridcolor": "white",
            "linecolor": "white",
            "ticks": ""
           }
          },
          "title": {
           "x": 0.05
          },
          "xaxis": {
           "automargin": true,
           "gridcolor": "white",
           "linecolor": "white",
           "ticks": "",
           "title": {
            "standoff": 15
           },
           "zerolinecolor": "white",
           "zerolinewidth": 2
          },
          "yaxis": {
           "automargin": true,
           "gridcolor": "white",
           "linecolor": "white",
           "ticks": "",
           "title": {
            "standoff": 15
           },
           "zerolinecolor": "white",
           "zerolinewidth": 2
          }
         }
        },
        "title": {
         "text": "Corona increase IC",
         "x": 0.5,
         "xanchor": "center"
        },
        "xaxis": {
         "title": {
          "text": "Date"
         }
        },
        "yaxis": {
         "title": {
          "text": "# patients/day"
         }
        }
       }
      },
      "text/html": [
       "<div>\n",
       "        \n",
       "        \n",
       "            <div id=\"92c3ae5a-3789-4dea-ac74-231341fc2d3c\" class=\"plotly-graph-div\" style=\"height:525px; width:100%;\"></div>\n",
       "            <script type=\"text/javascript\">\n",
       "                require([\"plotly\"], function(Plotly) {\n",
       "                    window.PLOTLYENV=window.PLOTLYENV || {};\n",
       "                    \n",
       "                if (document.getElementById(\"92c3ae5a-3789-4dea-ac74-231341fc2d3c\")) {\n",
       "                    Plotly.newPlot(\n",
       "                        '92c3ae5a-3789-4dea-ac74-231341fc2d3c',\n",
       "                        [{\"type\": \"bar\", \"x\": [\"2020-03-06T00:00:00\", \"2020-03-07T00:00:00\", \"2020-03-08T00:00:00\", \"2020-03-09T00:00:00\", \"2020-03-10T00:00:00\", \"2020-03-11T00:00:00\", \"2020-03-12T00:00:00\", \"2020-03-13T00:00:00\", \"2020-03-14T00:00:00\", \"2020-03-15T00:00:00\", \"2020-03-16T00:00:00\", \"2020-03-17T00:00:00\", \"2020-03-18T00:00:00\", \"2020-03-19T00:00:00\", \"2020-03-20T00:00:00\", \"2020-03-21T00:00:00\", \"2020-03-22T00:00:00\", \"2020-03-23T00:00:00\", \"2020-03-24T00:00:00\", \"2020-03-25T00:00:00\", \"2020-03-26T00:00:00\", \"2020-03-27T00:00:00\", \"2020-03-28T00:00:00\", \"2020-03-29T00:00:00\", \"2020-03-30T00:00:00\", \"2020-03-31T00:00:00\", \"2020-04-01T00:00:00\", \"2020-04-02T00:00:00\", \"2020-04-03T00:00:00\", \"2020-04-04T00:00:00\", \"2020-04-05T00:00:00\", \"2020-04-06T00:00:00\", \"2020-04-07T00:00:00\", \"2020-04-08T00:00:00\", \"2020-04-09T00:00:00\", \"2020-04-10T00:00:00\", \"2020-04-11T00:00:00\", \"2020-04-12T00:00:00\", \"2020-04-13T00:00:00\", \"2020-04-14T00:00:00\", \"2020-04-15T00:00:00\", \"2020-04-16T00:00:00\", \"2020-04-17T00:00:00\", \"2020-04-18T00:00:00\", \"2020-04-19T00:00:00\", \"2020-04-20T00:00:00\", \"2020-04-21T00:00:00\"], \"y\": [3.0, 3.0, 6.0, 10.0, 11.0, 11.0, 23.0, 14.0, 20.0, 28.0, 34.0, 36.0, 55.0, 69.0, 90.0, 81.0, 74.0, 102.0, 113.0, 119.0, 111.0, 121.0, 109.0, 97.0, 138.0, 113.0, 75.0, 102.0, 81.0, 69.0, 78.0, 66.0, 64.0, 64.0, 57.0, 58.0, 30.0, 41.0, 48.0, 40.0, 27.0, 32.0, 27.0, 21.0, 35.0, 22.0, 2.0]}, {\"mode\": \"lines\", \"name\": \"K=2614.42,beta=0.18, t_0=23.85\", \"type\": \"scatter\", \"x\": [\"2020-03-06T00:00:00\", \"2020-03-07T00:00:00\", \"2020-03-08T00:00:00\", \"2020-03-09T00:00:00\", \"2020-03-10T00:00:00\", \"2020-03-11T00:00:00\", \"2020-03-12T00:00:00\", \"2020-03-13T00:00:00\", \"2020-03-14T00:00:00\", \"2020-03-15T00:00:00\", \"2020-03-16T00:00:00\", \"2020-03-17T00:00:00\", \"2020-03-18T00:00:00\", \"2020-03-19T00:00:00\", \"2020-03-20T00:00:00\", \"2020-03-21T00:00:00\", \"2020-03-22T00:00:00\", \"2020-03-23T00:00:00\", \"2020-03-24T00:00:00\", \"2020-03-25T00:00:00\", \"2020-03-26T00:00:00\", \"2020-03-27T00:00:00\", \"2020-03-28T00:00:00\", \"2020-03-29T00:00:00\", \"2020-03-30T00:00:00\", \"2020-03-31T00:00:00\", \"2020-04-01T00:00:00\", \"2020-04-02T00:00:00\", \"2020-04-03T00:00:00\", \"2020-04-04T00:00:00\", \"2020-04-05T00:00:00\", \"2020-04-06T00:00:00\", \"2020-04-07T00:00:00\", \"2020-04-08T00:00:00\", \"2020-04-09T00:00:00\", \"2020-04-10T00:00:00\", \"2020-04-11T00:00:00\", \"2020-04-12T00:00:00\", \"2020-04-13T00:00:00\", \"2020-04-14T00:00:00\", \"2020-04-15T00:00:00\", \"2020-04-16T00:00:00\", \"2020-04-17T00:00:00\", \"2020-04-18T00:00:00\", \"2020-04-19T00:00:00\", \"2020-04-20T00:00:00\", \"2020-04-21T00:00:00\"], \"y\": [7.256274978026233, 8.647713227390698, 10.293564783859752, 12.235107606592214, 14.518103309348692, 17.192303859137777, 20.310413798809012, 23.926301149933167, 28.09221830858572, 32.854782904273684, 38.24949836439702, 44.29369283902806, 50.97795587752766, 58.256483929461986, 66.0372178429683, 74.17323357188513, 82.45742524269927, 90.62290296360685, 98.3514498391674, 105.29158012256627, 111.08609064909207, 115.40667905509659, 117.99078150174928, 118.6741167792934, 117.4123369288544, 114.28703452799182, 109.4947431493938, 103.32141294071754, 96.10785878276874, 88.21295487524178, 79.98072423493035, 71.71548404976181, 63.66673658747857, 56.023335001125965, 48.915054579912805, 42.41913644706195, 36.5694605078165, 31.36647138174958, 26.786575310796295, 22.79027977498583, 19.32877876030283, 16.348976881948257, 13.797112424777666, 11.621214298364258, 9.77264277047896, 8.206944559412037, 6.884217797179014, 5.769143110778412]}],\n",
       "                        {\"font\": {\"size\": 12}, \"legend\": {\"x\": 0.05, \"y\": 0.95}, \"template\": {\"data\": {\"bar\": [{\"error_x\": {\"color\": \"#2a3f5f\"}, \"error_y\": {\"color\": \"#2a3f5f\"}, \"marker\": {\"line\": {\"color\": \"#E5ECF6\", \"width\": 0.5}}, \"type\": \"bar\"}], \"barpolar\": [{\"marker\": {\"line\": {\"color\": \"#E5ECF6\", \"width\": 0.5}}, \"type\": \"barpolar\"}], \"carpet\": [{\"aaxis\": {\"endlinecolor\": \"#2a3f5f\", \"gridcolor\": \"white\", \"linecolor\": \"white\", \"minorgridcolor\": \"white\", \"startlinecolor\": \"#2a3f5f\"}, \"baxis\": {\"endlinecolor\": \"#2a3f5f\", \"gridcolor\": \"white\", \"linecolor\": \"white\", \"minorgridcolor\": \"white\", \"startlinecolor\": \"#2a3f5f\"}, \"type\": \"carpet\"}], \"choropleth\": [{\"colorbar\": {\"outlinewidth\": 0, \"ticks\": \"\"}, \"type\": \"choropleth\"}], \"contour\": [{\"colorbar\": {\"outlinewidth\": 0, \"ticks\": \"\"}, \"colorscale\": [[0.0, \"#0d0887\"], [0.1111111111111111, \"#46039f\"], [0.2222222222222222, \"#7201a8\"], [0.3333333333333333, \"#9c179e\"], [0.4444444444444444, \"#bd3786\"], [0.5555555555555556, \"#d8576b\"], [0.6666666666666666, \"#ed7953\"], [0.7777777777777778, \"#fb9f3a\"], [0.8888888888888888, \"#fdca26\"], [1.0, \"#f0f921\"]], \"type\": \"contour\"}], \"contourcarpet\": [{\"colorbar\": {\"outlinewidth\": 0, \"ticks\": \"\"}, \"type\": \"contourcarpet\"}], \"heatmap\": [{\"colorbar\": {\"outlinewidth\": 0, \"ticks\": \"\"}, \"colorscale\": [[0.0, \"#0d0887\"], [0.1111111111111111, \"#46039f\"], [0.2222222222222222, \"#7201a8\"], [0.3333333333333333, \"#9c179e\"], [0.4444444444444444, \"#bd3786\"], [0.5555555555555556, \"#d8576b\"], [0.6666666666666666, \"#ed7953\"], [0.7777777777777778, \"#fb9f3a\"], [0.8888888888888888, \"#fdca26\"], [1.0, \"#f0f921\"]], \"type\": \"heatmap\"}], \"heatmapgl\": [{\"colorbar\": {\"outlinewidth\": 0, \"ticks\": \"\"}, \"colorscale\": [[0.0, \"#0d0887\"], [0.1111111111111111, \"#46039f\"], [0.2222222222222222, \"#7201a8\"], [0.3333333333333333, \"#9c179e\"], [0.4444444444444444, \"#bd3786\"], [0.5555555555555556, \"#d8576b\"], [0.6666666666666666, \"#ed7953\"], [0.7777777777777778, \"#fb9f3a\"], [0.8888888888888888, \"#fdca26\"], [1.0, \"#f0f921\"]], \"type\": \"heatmapgl\"}], \"histogram\": [{\"marker\": {\"colorbar\": {\"outlinewidth\": 0, \"ticks\": \"\"}}, \"type\": \"histogram\"}], \"histogram2d\": [{\"colorbar\": {\"outlinewidth\": 0, \"ticks\": \"\"}, \"colorscale\": [[0.0, \"#0d0887\"], [0.1111111111111111, \"#46039f\"], [0.2222222222222222, \"#7201a8\"], [0.3333333333333333, \"#9c179e\"], [0.4444444444444444, \"#bd3786\"], [0.5555555555555556, \"#d8576b\"], [0.6666666666666666, \"#ed7953\"], [0.7777777777777778, \"#fb9f3a\"], [0.8888888888888888, \"#fdca26\"], [1.0, \"#f0f921\"]], \"type\": \"histogram2d\"}], \"histogram2dcontour\": [{\"colorbar\": {\"outlinewidth\": 0, \"ticks\": \"\"}, \"colorscale\": [[0.0, \"#0d0887\"], [0.1111111111111111, \"#46039f\"], [0.2222222222222222, \"#7201a8\"], [0.3333333333333333, \"#9c179e\"], [0.4444444444444444, \"#bd3786\"], [0.5555555555555556, \"#d8576b\"], [0.6666666666666666, \"#ed7953\"], [0.7777777777777778, \"#fb9f3a\"], [0.8888888888888888, \"#fdca26\"], [1.0, \"#f0f921\"]], \"type\": \"histogram2dcontour\"}], \"mesh3d\": [{\"colorbar\": {\"outlinewidth\": 0, \"ticks\": \"\"}, \"type\": \"mesh3d\"}], \"parcoords\": [{\"line\": {\"colorbar\": {\"outlinewidth\": 0, \"ticks\": \"\"}}, \"type\": \"parcoords\"}], \"pie\": [{\"automargin\": true, \"type\": \"pie\"}], \"scatter\": [{\"marker\": {\"colorbar\": {\"outlinewidth\": 0, \"ticks\": \"\"}}, \"type\": \"scatter\"}], \"scatter3d\": [{\"line\": {\"colorbar\": {\"outlinewidth\": 0, \"ticks\": \"\"}}, \"marker\": {\"colorbar\": {\"outlinewidth\": 0, \"ticks\": \"\"}}, \"type\": \"scatter3d\"}], \"scattercarpet\": [{\"marker\": {\"colorbar\": {\"outlinewidth\": 0, \"ticks\": \"\"}}, \"type\": \"scattercarpet\"}], \"scattergeo\": [{\"marker\": {\"colorbar\": {\"outlinewidth\": 0, \"ticks\": \"\"}}, \"type\": \"scattergeo\"}], \"scattergl\": [{\"marker\": {\"colorbar\": {\"outlinewidth\": 0, \"ticks\": \"\"}}, \"type\": \"scattergl\"}], \"scattermapbox\": [{\"marker\": {\"colorbar\": {\"outlinewidth\": 0, \"ticks\": \"\"}}, \"type\": \"scattermapbox\"}], \"scatterpolar\": [{\"marker\": {\"colorbar\": {\"outlinewidth\": 0, \"ticks\": \"\"}}, \"type\": \"scatterpolar\"}], \"scatterpolargl\": [{\"marker\": {\"colorbar\": {\"outlinewidth\": 0, \"ticks\": \"\"}}, \"type\": \"scatterpolargl\"}], \"scatterternary\": [{\"marker\": {\"colorbar\": {\"outlinewidth\": 0, \"ticks\": \"\"}}, \"type\": \"scatterternary\"}], \"surface\": [{\"colorbar\": {\"outlinewidth\": 0, \"ticks\": \"\"}, \"colorscale\": [[0.0, \"#0d0887\"], [0.1111111111111111, \"#46039f\"], [0.2222222222222222, \"#7201a8\"], [0.3333333333333333, \"#9c179e\"], [0.4444444444444444, \"#bd3786\"], [0.5555555555555556, \"#d8576b\"], [0.6666666666666666, \"#ed7953\"], [0.7777777777777778, \"#fb9f3a\"], [0.8888888888888888, \"#fdca26\"], [1.0, \"#f0f921\"]], \"type\": \"surface\"}], \"table\": [{\"cells\": {\"fill\": {\"color\": \"#EBF0F8\"}, \"line\": {\"color\": \"white\"}}, \"header\": {\"fill\": {\"color\": \"#C8D4E3\"}, \"line\": {\"color\": \"white\"}}, \"type\": \"table\"}]}, \"layout\": {\"annotationdefaults\": {\"arrowcolor\": \"#2a3f5f\", \"arrowhead\": 0, \"arrowwidth\": 1}, \"coloraxis\": {\"colorbar\": {\"outlinewidth\": 0, \"ticks\": \"\"}}, \"colorscale\": {\"diverging\": [[0, \"#8e0152\"], [0.1, \"#c51b7d\"], [0.2, \"#de77ae\"], [0.3, \"#f1b6da\"], [0.4, \"#fde0ef\"], [0.5, \"#f7f7f7\"], [0.6, \"#e6f5d0\"], [0.7, \"#b8e186\"], [0.8, \"#7fbc41\"], [0.9, \"#4d9221\"], [1, \"#276419\"]], \"sequential\": [[0.0, \"#0d0887\"], [0.1111111111111111, \"#46039f\"], [0.2222222222222222, \"#7201a8\"], [0.3333333333333333, \"#9c179e\"], [0.4444444444444444, \"#bd3786\"], [0.5555555555555556, \"#d8576b\"], [0.6666666666666666, \"#ed7953\"], [0.7777777777777778, \"#fb9f3a\"], [0.8888888888888888, \"#fdca26\"], [1.0, \"#f0f921\"]], \"sequentialminus\": [[0.0, \"#0d0887\"], [0.1111111111111111, \"#46039f\"], [0.2222222222222222, \"#7201a8\"], [0.3333333333333333, \"#9c179e\"], [0.4444444444444444, \"#bd3786\"], [0.5555555555555556, \"#d8576b\"], [0.6666666666666666, \"#ed7953\"], [0.7777777777777778, \"#fb9f3a\"], [0.8888888888888888, \"#fdca26\"], [1.0, \"#f0f921\"]]}, \"colorway\": [\"#636efa\", \"#EF553B\", \"#00cc96\", \"#ab63fa\", \"#FFA15A\", \"#19d3f3\", \"#FF6692\", \"#B6E880\", \"#FF97FF\", \"#FECB52\"], \"font\": {\"color\": \"#2a3f5f\"}, \"geo\": {\"bgcolor\": \"white\", \"lakecolor\": \"white\", \"landcolor\": \"#E5ECF6\", \"showlakes\": true, \"showland\": true, \"subunitcolor\": \"white\"}, \"hoverlabel\": {\"align\": \"left\"}, \"hovermode\": \"closest\", \"mapbox\": {\"style\": \"light\"}, \"paper_bgcolor\": \"white\", \"plot_bgcolor\": \"#E5ECF6\", \"polar\": {\"angularaxis\": {\"gridcolor\": \"white\", \"linecolor\": \"white\", \"ticks\": \"\"}, \"bgcolor\": \"#E5ECF6\", \"radialaxis\": {\"gridcolor\": \"white\", \"linecolor\": \"white\", \"ticks\": \"\"}}, \"scene\": {\"xaxis\": {\"backgroundcolor\": \"#E5ECF6\", \"gridcolor\": \"white\", \"gridwidth\": 2, \"linecolor\": \"white\", \"showbackground\": true, \"ticks\": \"\", \"zerolinecolor\": \"white\"}, \"yaxis\": {\"backgroundcolor\": \"#E5ECF6\", \"gridcolor\": \"white\", \"gridwidth\": 2, \"linecolor\": \"white\", \"showbackground\": true, \"ticks\": \"\", \"zerolinecolor\": \"white\"}, \"zaxis\": {\"backgroundcolor\": \"#E5ECF6\", \"gridcolor\": \"white\", \"gridwidth\": 2, \"linecolor\": \"white\", \"showbackground\": true, \"ticks\": \"\", \"zerolinecolor\": \"white\"}}, \"shapedefaults\": {\"line\": {\"color\": \"#2a3f5f\"}}, \"ternary\": {\"aaxis\": {\"gridcolor\": \"white\", \"linecolor\": \"white\", \"ticks\": \"\"}, \"baxis\": {\"gridcolor\": \"white\", \"linecolor\": \"white\", \"ticks\": \"\"}, \"bgcolor\": \"#E5ECF6\", \"caxis\": {\"gridcolor\": \"white\", \"linecolor\": \"white\", \"ticks\": \"\"}}, \"title\": {\"x\": 0.05}, \"xaxis\": {\"automargin\": true, \"gridcolor\": \"white\", \"linecolor\": \"white\", \"ticks\": \"\", \"title\": {\"standoff\": 15}, \"zerolinecolor\": \"white\", \"zerolinewidth\": 2}, \"yaxis\": {\"automargin\": true, \"gridcolor\": \"white\", \"linecolor\": \"white\", \"ticks\": \"\", \"title\": {\"standoff\": 15}, \"zerolinecolor\": \"white\", \"zerolinewidth\": 2}}}, \"title\": {\"text\": \"Corona increase IC\", \"x\": 0.5, \"xanchor\": \"center\"}, \"xaxis\": {\"title\": {\"text\": \"Date\"}}, \"yaxis\": {\"title\": {\"text\": \"# patients/day\"}}},\n",
       "                        {\"responsive\": true}\n",
       "                    ).then(function(){\n",
       "                            \n",
       "var gd = document.getElementById('92c3ae5a-3789-4dea-ac74-231341fc2d3c');\n",
       "var x = new MutationObserver(function (mutations, observer) {{\n",
       "        var display = window.getComputedStyle(gd).display;\n",
       "        if (!display || display === 'none') {{\n",
       "            console.log([gd, 'removed!']);\n",
       "            Plotly.purge(gd);\n",
       "            observer.disconnect();\n",
       "        }}\n",
       "}});\n",
       "\n",
       "// Listen for the removal of the full notebook cells\n",
       "var notebookContainer = gd.closest('#notebook-container');\n",
       "if (notebookContainer) {{\n",
       "    x.observe(notebookContainer, {childList: true});\n",
       "}}\n",
       "\n",
       "// Listen for the clearing of the current output cell\n",
       "var outputEl = gd.closest('.output');\n",
       "if (outputEl) {{\n",
       "    x.observe(outputEl, {childList: true});\n",
       "}}\n",
       "\n",
       "                        })\n",
       "                };\n",
       "                });\n",
       "            </script>\n",
       "        </div>"
      ]
     },
     "metadata": {},
     "output_type": "display_data"
    }
   ],
   "source": [
    "#fit met logistic curve\n",
    "\n",
    "from lmfit import Model\n",
    "from lmfit import Parameters\n",
    "\n",
    "upload_plots=False\n",
    "upload_plots=True\n",
    "\n",
    "\n",
    "\n",
    "def ef(x,L,tau):\n",
    "    return L*np.power(2,x/tau)\n",
    "\n",
    "def logistic(x,M,alpha,beta):\n",
    "    return M/(1+np.exp(-beta*(x-alpha)))\n",
    "\n",
    "def dif_log(x,M,alpha,beta):\n",
    "    return beta*M*np.exp(-beta*(x-alpha))/np.power((1+np.exp(-beta*(x-alpha))),2)\n",
    "\n",
    "#y=np.array(qq['number']).astype(float)\n",
    "l=len(y)\n",
    "x=np.arange(0, l,1, float)\n",
    "gmodel = Model(logistic)\n",
    "#params = gmodel.make_params(M=30000,alfa=65,beta=0.2)\n",
    "params = Parameters()\n",
    "params.add('M', value=1000, min=500,max=4000)\n",
    "params.add('alpha', value=20,min=10,max=80)\n",
    "params.add('beta', value=0.2, min=0.05,max=0.95)\n",
    "\n",
    "x_start_fit=1\n",
    "x_start_plot=1\n",
    "print(x_start_fit)\n",
    "print('parameter names: {}'.format(gmodel.param_names))\n",
    "print('independent variables: {}'.format(gmodel.independent_vars))\n",
    "result = gmodel.fit(y[x_start_fit:], params,x=x[x_start_fit:])\n",
    "\n",
    "# %matplotlib notebook\n",
    "\n",
    "# ax,_=result.plot()\n",
    "# plt.yscale('log')\n",
    "# result\n",
    "#dates=qq['date']\n",
    "xdate=dates[x_start_fit:]\n",
    "yf= gmodel.eval(result.params, x=x[x_start_fit:])\n",
    "#x=qq['date']\n",
    "dt=xdate.iloc[-1].to_pydatetime()\n",
    "xdate_extra=expand_date(dt)\n",
    "l=len(xdate_extra)\n",
    "x_extra=np.arange(x[-1]+1, x[-1]+l,1, float)\n",
    "y_extra=gmodel.eval(result.params, x=x_extra).astype(int)\n",
    "\n",
    "fig = go.Figure()\n",
    "fig.add_trace(go.Scatter(x=dates[x_start_plot:], y=y[x_start_plot:],\n",
    "                         mode='markers',\n",
    "                         name='counts RIVM',\n",
    "                         marker_size=10,\n",
    "                         marker_symbol='circle'))\n",
    "fig.add_trace(go.Scatter(x=xdate, y=yf,\n",
    "                         mode='lines',\n",
    "                         name=r'K=%.2f,\\beta=%.2f, t_0=%.2f'%\\\n",
    "                         (result.params['M'].value,result.params['beta'].value,result.params['alpha'].value)))\n",
    "\n",
    "fig.add_trace(go.Scatter(x=xdate_extra, y=y_extra,\n",
    "                         mode='markers',\n",
    "                         name='prediction',\n",
    "                        marker_size=10,\n",
    "                         marker_symbol='square'))\n",
    "title=\"Cummulative intake of patient on IC\"\n",
    "yaxis_title=\"# patients\"\n",
    "\n",
    "fig.update_layout(#yaxis_type=\"log\",\n",
    "                  title=title,\n",
    "                  title_xanchor=\"center\",\n",
    "                  title_x=0.5,\n",
    "                  xaxis_title=\"Date\",\n",
    "                  yaxis_title=yaxis_title,\n",
    "                  legend_x=0.05,\n",
    "                  legend_y=0.95,\n",
    "                  font_size=12)\n",
    "\n",
    "filename=\"corona_ic_logistic\"\n",
    "if upload_plots:\n",
    "    py.plot(fig, filename = filename, auto_open=True)\n",
    "fig.show()\n",
    "\n",
    "M=beta=result.params['M'].value\n",
    "alpha=result.params['alpha'].value\n",
    "beta=result.params['beta'].value\n",
    "\n",
    "\n",
    "fig = go.Figure()\n",
    "fig.add_trace(go.Bar(x=dates[1:], y=toename))\n",
    "#                          mode='markers',\n",
    "#                          name='counts RIVM',\n",
    "#                          marker_size=10,\n",
    "#                          marker_symbol='circle'))\n",
    "fig.add_trace(go.Scatter(x=xdate, y=dif_log(x+1,M,alpha,beta),\n",
    "                         mode='lines',\n",
    "                         name=r'K=%.2f,beta=%.2f, t_0=%.2f'%\\\n",
    "                         (result.params['M'].value,result.params['beta'].value,result.params['alpha'].value)))\n",
    "\n",
    "title=\"Corona increase IC\"\n",
    "yaxis_title=\"# patients/day\"\n",
    "\n",
    "fig.update_layout(#yaxis_type=\"log\",\n",
    "                  title=title,\n",
    "                  title_xanchor=\"center\",\n",
    "                  title_x=0.5,\n",
    "                  xaxis_title=\"Date\",\n",
    "                  yaxis_title=yaxis_title,\n",
    "                  legend_x=0.05,\n",
    "                  legend_y=0.95,\n",
    "                  font_size=12)\n",
    "\n",
    "filename=\"corona_ic_logistic_increase\"\n",
    "if upload_plots:\n",
    "    py.plot(fig, filename = filename, auto_open=True)\n",
    "fig.show()"
   ]
  },
  {
   "cell_type": "code",
   "execution_count": 22,
   "metadata": {},
   "outputs": [
    {
     "data": {
      "application/javascript": [
       "/* Put everything inside the global mpl namespace */\n",
       "window.mpl = {};\n",
       "\n",
       "\n",
       "mpl.get_websocket_type = function() {\n",
       "    if (typeof(WebSocket) !== 'undefined') {\n",
       "        return WebSocket;\n",
       "    } else if (typeof(MozWebSocket) !== 'undefined') {\n",
       "        return MozWebSocket;\n",
       "    } else {\n",
       "        alert('Your browser does not have WebSocket support. ' +\n",
       "              'Please try Chrome, Safari or Firefox ≥ 6. ' +\n",
       "              'Firefox 4 and 5 are also supported but you ' +\n",
       "              'have to enable WebSockets in about:config.');\n",
       "    };\n",
       "}\n",
       "\n",
       "mpl.figure = function(figure_id, websocket, ondownload, parent_element) {\n",
       "    this.id = figure_id;\n",
       "\n",
       "    this.ws = websocket;\n",
       "\n",
       "    this.supports_binary = (this.ws.binaryType != undefined);\n",
       "\n",
       "    if (!this.supports_binary) {\n",
       "        var warnings = document.getElementById(\"mpl-warnings\");\n",
       "        if (warnings) {\n",
       "            warnings.style.display = 'block';\n",
       "            warnings.textContent = (\n",
       "                \"This browser does not support binary websocket messages. \" +\n",
       "                    \"Performance may be slow.\");\n",
       "        }\n",
       "    }\n",
       "\n",
       "    this.imageObj = new Image();\n",
       "\n",
       "    this.context = undefined;\n",
       "    this.message = undefined;\n",
       "    this.canvas = undefined;\n",
       "    this.rubberband_canvas = undefined;\n",
       "    this.rubberband_context = undefined;\n",
       "    this.format_dropdown = undefined;\n",
       "\n",
       "    this.image_mode = 'full';\n",
       "\n",
       "    this.root = $('<div/>');\n",
       "    this._root_extra_style(this.root)\n",
       "    this.root.attr('style', 'display: inline-block');\n",
       "\n",
       "    $(parent_element).append(this.root);\n",
       "\n",
       "    this._init_header(this);\n",
       "    this._init_canvas(this);\n",
       "    this._init_toolbar(this);\n",
       "\n",
       "    var fig = this;\n",
       "\n",
       "    this.waiting = false;\n",
       "\n",
       "    this.ws.onopen =  function () {\n",
       "            fig.send_message(\"supports_binary\", {value: fig.supports_binary});\n",
       "            fig.send_message(\"send_image_mode\", {});\n",
       "            if (mpl.ratio != 1) {\n",
       "                fig.send_message(\"set_dpi_ratio\", {'dpi_ratio': mpl.ratio});\n",
       "            }\n",
       "            fig.send_message(\"refresh\", {});\n",
       "        }\n",
       "\n",
       "    this.imageObj.onload = function() {\n",
       "            if (fig.image_mode == 'full') {\n",
       "                // Full images could contain transparency (where diff images\n",
       "                // almost always do), so we need to clear the canvas so that\n",
       "                // there is no ghosting.\n",
       "                fig.context.clearRect(0, 0, fig.canvas.width, fig.canvas.height);\n",
       "            }\n",
       "            fig.context.drawImage(fig.imageObj, 0, 0);\n",
       "        };\n",
       "\n",
       "    this.imageObj.onunload = function() {\n",
       "        fig.ws.close();\n",
       "    }\n",
       "\n",
       "    this.ws.onmessage = this._make_on_message_function(this);\n",
       "\n",
       "    this.ondownload = ondownload;\n",
       "}\n",
       "\n",
       "mpl.figure.prototype._init_header = function() {\n",
       "    var titlebar = $(\n",
       "        '<div class=\"ui-dialog-titlebar ui-widget-header ui-corner-all ' +\n",
       "        'ui-helper-clearfix\"/>');\n",
       "    var titletext = $(\n",
       "        '<div class=\"ui-dialog-title\" style=\"width: 100%; ' +\n",
       "        'text-align: center; padding: 3px;\"/>');\n",
       "    titlebar.append(titletext)\n",
       "    this.root.append(titlebar);\n",
       "    this.header = titletext[0];\n",
       "}\n",
       "\n",
       "\n",
       "\n",
       "mpl.figure.prototype._canvas_extra_style = function(canvas_div) {\n",
       "\n",
       "}\n",
       "\n",
       "\n",
       "mpl.figure.prototype._root_extra_style = function(canvas_div) {\n",
       "\n",
       "}\n",
       "\n",
       "mpl.figure.prototype._init_canvas = function() {\n",
       "    var fig = this;\n",
       "\n",
       "    var canvas_div = $('<div/>');\n",
       "\n",
       "    canvas_div.attr('style', 'position: relative; clear: both; outline: 0');\n",
       "\n",
       "    function canvas_keyboard_event(event) {\n",
       "        return fig.key_event(event, event['data']);\n",
       "    }\n",
       "\n",
       "    canvas_div.keydown('key_press', canvas_keyboard_event);\n",
       "    canvas_div.keyup('key_release', canvas_keyboard_event);\n",
       "    this.canvas_div = canvas_div\n",
       "    this._canvas_extra_style(canvas_div)\n",
       "    this.root.append(canvas_div);\n",
       "\n",
       "    var canvas = $('<canvas/>');\n",
       "    canvas.addClass('mpl-canvas');\n",
       "    canvas.attr('style', \"left: 0; top: 0; z-index: 0; outline: 0\")\n",
       "\n",
       "    this.canvas = canvas[0];\n",
       "    this.context = canvas[0].getContext(\"2d\");\n",
       "\n",
       "    var backingStore = this.context.backingStorePixelRatio ||\n",
       "\tthis.context.webkitBackingStorePixelRatio ||\n",
       "\tthis.context.mozBackingStorePixelRatio ||\n",
       "\tthis.context.msBackingStorePixelRatio ||\n",
       "\tthis.context.oBackingStorePixelRatio ||\n",
       "\tthis.context.backingStorePixelRatio || 1;\n",
       "\n",
       "    mpl.ratio = (window.devicePixelRatio || 1) / backingStore;\n",
       "\n",
       "    var rubberband = $('<canvas/>');\n",
       "    rubberband.attr('style', \"position: absolute; left: 0; top: 0; z-index: 1;\")\n",
       "\n",
       "    var pass_mouse_events = true;\n",
       "\n",
       "    canvas_div.resizable({\n",
       "        start: function(event, ui) {\n",
       "            pass_mouse_events = false;\n",
       "        },\n",
       "        resize: function(event, ui) {\n",
       "            fig.request_resize(ui.size.width, ui.size.height);\n",
       "        },\n",
       "        stop: function(event, ui) {\n",
       "            pass_mouse_events = true;\n",
       "            fig.request_resize(ui.size.width, ui.size.height);\n",
       "        },\n",
       "    });\n",
       "\n",
       "    function mouse_event_fn(event) {\n",
       "        if (pass_mouse_events)\n",
       "            return fig.mouse_event(event, event['data']);\n",
       "    }\n",
       "\n",
       "    rubberband.mousedown('button_press', mouse_event_fn);\n",
       "    rubberband.mouseup('button_release', mouse_event_fn);\n",
       "    // Throttle sequential mouse events to 1 every 20ms.\n",
       "    rubberband.mousemove('motion_notify', mouse_event_fn);\n",
       "\n",
       "    rubberband.mouseenter('figure_enter', mouse_event_fn);\n",
       "    rubberband.mouseleave('figure_leave', mouse_event_fn);\n",
       "\n",
       "    canvas_div.on(\"wheel\", function (event) {\n",
       "        event = event.originalEvent;\n",
       "        event['data'] = 'scroll'\n",
       "        if (event.deltaY < 0) {\n",
       "            event.step = 1;\n",
       "        } else {\n",
       "            event.step = -1;\n",
       "        }\n",
       "        mouse_event_fn(event);\n",
       "    });\n",
       "\n",
       "    canvas_div.append(canvas);\n",
       "    canvas_div.append(rubberband);\n",
       "\n",
       "    this.rubberband = rubberband;\n",
       "    this.rubberband_canvas = rubberband[0];\n",
       "    this.rubberband_context = rubberband[0].getContext(\"2d\");\n",
       "    this.rubberband_context.strokeStyle = \"#000000\";\n",
       "\n",
       "    this._resize_canvas = function(width, height) {\n",
       "        // Keep the size of the canvas, canvas container, and rubber band\n",
       "        // canvas in synch.\n",
       "        canvas_div.css('width', width)\n",
       "        canvas_div.css('height', height)\n",
       "\n",
       "        canvas.attr('width', width * mpl.ratio);\n",
       "        canvas.attr('height', height * mpl.ratio);\n",
       "        canvas.attr('style', 'width: ' + width + 'px; height: ' + height + 'px;');\n",
       "\n",
       "        rubberband.attr('width', width);\n",
       "        rubberband.attr('height', height);\n",
       "    }\n",
       "\n",
       "    // Set the figure to an initial 600x600px, this will subsequently be updated\n",
       "    // upon first draw.\n",
       "    this._resize_canvas(600, 600);\n",
       "\n",
       "    // Disable right mouse context menu.\n",
       "    $(this.rubberband_canvas).bind(\"contextmenu\",function(e){\n",
       "        return false;\n",
       "    });\n",
       "\n",
       "    function set_focus () {\n",
       "        canvas.focus();\n",
       "        canvas_div.focus();\n",
       "    }\n",
       "\n",
       "    window.setTimeout(set_focus, 100);\n",
       "}\n",
       "\n",
       "mpl.figure.prototype._init_toolbar = function() {\n",
       "    var fig = this;\n",
       "\n",
       "    var nav_element = $('<div/>');\n",
       "    nav_element.attr('style', 'width: 100%');\n",
       "    this.root.append(nav_element);\n",
       "\n",
       "    // Define a callback function for later on.\n",
       "    function toolbar_event(event) {\n",
       "        return fig.toolbar_button_onclick(event['data']);\n",
       "    }\n",
       "    function toolbar_mouse_event(event) {\n",
       "        return fig.toolbar_button_onmouseover(event['data']);\n",
       "    }\n",
       "\n",
       "    for(var toolbar_ind in mpl.toolbar_items) {\n",
       "        var name = mpl.toolbar_items[toolbar_ind][0];\n",
       "        var tooltip = mpl.toolbar_items[toolbar_ind][1];\n",
       "        var image = mpl.toolbar_items[toolbar_ind][2];\n",
       "        var method_name = mpl.toolbar_items[toolbar_ind][3];\n",
       "\n",
       "        if (!name) {\n",
       "            // put a spacer in here.\n",
       "            continue;\n",
       "        }\n",
       "        var button = $('<button/>');\n",
       "        button.addClass('ui-button ui-widget ui-state-default ui-corner-all ' +\n",
       "                        'ui-button-icon-only');\n",
       "        button.attr('role', 'button');\n",
       "        button.attr('aria-disabled', 'false');\n",
       "        button.click(method_name, toolbar_event);\n",
       "        button.mouseover(tooltip, toolbar_mouse_event);\n",
       "\n",
       "        var icon_img = $('<span/>');\n",
       "        icon_img.addClass('ui-button-icon-primary ui-icon');\n",
       "        icon_img.addClass(image);\n",
       "        icon_img.addClass('ui-corner-all');\n",
       "\n",
       "        var tooltip_span = $('<span/>');\n",
       "        tooltip_span.addClass('ui-button-text');\n",
       "        tooltip_span.html(tooltip);\n",
       "\n",
       "        button.append(icon_img);\n",
       "        button.append(tooltip_span);\n",
       "\n",
       "        nav_element.append(button);\n",
       "    }\n",
       "\n",
       "    var fmt_picker_span = $('<span/>');\n",
       "\n",
       "    var fmt_picker = $('<select/>');\n",
       "    fmt_picker.addClass('mpl-toolbar-option ui-widget ui-widget-content');\n",
       "    fmt_picker_span.append(fmt_picker);\n",
       "    nav_element.append(fmt_picker_span);\n",
       "    this.format_dropdown = fmt_picker[0];\n",
       "\n",
       "    for (var ind in mpl.extensions) {\n",
       "        var fmt = mpl.extensions[ind];\n",
       "        var option = $(\n",
       "            '<option/>', {selected: fmt === mpl.default_extension}).html(fmt);\n",
       "        fmt_picker.append(option);\n",
       "    }\n",
       "\n",
       "    // Add hover states to the ui-buttons\n",
       "    $( \".ui-button\" ).hover(\n",
       "        function() { $(this).addClass(\"ui-state-hover\");},\n",
       "        function() { $(this).removeClass(\"ui-state-hover\");}\n",
       "    );\n",
       "\n",
       "    var status_bar = $('<span class=\"mpl-message\"/>');\n",
       "    nav_element.append(status_bar);\n",
       "    this.message = status_bar[0];\n",
       "}\n",
       "\n",
       "mpl.figure.prototype.request_resize = function(x_pixels, y_pixels) {\n",
       "    // Request matplotlib to resize the figure. Matplotlib will then trigger a resize in the client,\n",
       "    // which will in turn request a refresh of the image.\n",
       "    this.send_message('resize', {'width': x_pixels, 'height': y_pixels});\n",
       "}\n",
       "\n",
       "mpl.figure.prototype.send_message = function(type, properties) {\n",
       "    properties['type'] = type;\n",
       "    properties['figure_id'] = this.id;\n",
       "    this.ws.send(JSON.stringify(properties));\n",
       "}\n",
       "\n",
       "mpl.figure.prototype.send_draw_message = function() {\n",
       "    if (!this.waiting) {\n",
       "        this.waiting = true;\n",
       "        this.ws.send(JSON.stringify({type: \"draw\", figure_id: this.id}));\n",
       "    }\n",
       "}\n",
       "\n",
       "\n",
       "mpl.figure.prototype.handle_save = function(fig, msg) {\n",
       "    var format_dropdown = fig.format_dropdown;\n",
       "    var format = format_dropdown.options[format_dropdown.selectedIndex].value;\n",
       "    fig.ondownload(fig, format);\n",
       "}\n",
       "\n",
       "\n",
       "mpl.figure.prototype.handle_resize = function(fig, msg) {\n",
       "    var size = msg['size'];\n",
       "    if (size[0] != fig.canvas.width || size[1] != fig.canvas.height) {\n",
       "        fig._resize_canvas(size[0], size[1]);\n",
       "        fig.send_message(\"refresh\", {});\n",
       "    };\n",
       "}\n",
       "\n",
       "mpl.figure.prototype.handle_rubberband = function(fig, msg) {\n",
       "    var x0 = msg['x0'] / mpl.ratio;\n",
       "    var y0 = (fig.canvas.height - msg['y0']) / mpl.ratio;\n",
       "    var x1 = msg['x1'] / mpl.ratio;\n",
       "    var y1 = (fig.canvas.height - msg['y1']) / mpl.ratio;\n",
       "    x0 = Math.floor(x0) + 0.5;\n",
       "    y0 = Math.floor(y0) + 0.5;\n",
       "    x1 = Math.floor(x1) + 0.5;\n",
       "    y1 = Math.floor(y1) + 0.5;\n",
       "    var min_x = Math.min(x0, x1);\n",
       "    var min_y = Math.min(y0, y1);\n",
       "    var width = Math.abs(x1 - x0);\n",
       "    var height = Math.abs(y1 - y0);\n",
       "\n",
       "    fig.rubberband_context.clearRect(\n",
       "        0, 0, fig.canvas.width / mpl.ratio, fig.canvas.height / mpl.ratio);\n",
       "\n",
       "    fig.rubberband_context.strokeRect(min_x, min_y, width, height);\n",
       "}\n",
       "\n",
       "mpl.figure.prototype.handle_figure_label = function(fig, msg) {\n",
       "    // Updates the figure title.\n",
       "    fig.header.textContent = msg['label'];\n",
       "}\n",
       "\n",
       "mpl.figure.prototype.handle_cursor = function(fig, msg) {\n",
       "    var cursor = msg['cursor'];\n",
       "    switch(cursor)\n",
       "    {\n",
       "    case 0:\n",
       "        cursor = 'pointer';\n",
       "        break;\n",
       "    case 1:\n",
       "        cursor = 'default';\n",
       "        break;\n",
       "    case 2:\n",
       "        cursor = 'crosshair';\n",
       "        break;\n",
       "    case 3:\n",
       "        cursor = 'move';\n",
       "        break;\n",
       "    }\n",
       "    fig.rubberband_canvas.style.cursor = cursor;\n",
       "}\n",
       "\n",
       "mpl.figure.prototype.handle_message = function(fig, msg) {\n",
       "    fig.message.textContent = msg['message'];\n",
       "}\n",
       "\n",
       "mpl.figure.prototype.handle_draw = function(fig, msg) {\n",
       "    // Request the server to send over a new figure.\n",
       "    fig.send_draw_message();\n",
       "}\n",
       "\n",
       "mpl.figure.prototype.handle_image_mode = function(fig, msg) {\n",
       "    fig.image_mode = msg['mode'];\n",
       "}\n",
       "\n",
       "mpl.figure.prototype.updated_canvas_event = function() {\n",
       "    // Called whenever the canvas gets updated.\n",
       "    this.send_message(\"ack\", {});\n",
       "}\n",
       "\n",
       "// A function to construct a web socket function for onmessage handling.\n",
       "// Called in the figure constructor.\n",
       "mpl.figure.prototype._make_on_message_function = function(fig) {\n",
       "    return function socket_on_message(evt) {\n",
       "        if (evt.data instanceof Blob) {\n",
       "            /* FIXME: We get \"Resource interpreted as Image but\n",
       "             * transferred with MIME type text/plain:\" errors on\n",
       "             * Chrome.  But how to set the MIME type?  It doesn't seem\n",
       "             * to be part of the websocket stream */\n",
       "            evt.data.type = \"image/png\";\n",
       "\n",
       "            /* Free the memory for the previous frames */\n",
       "            if (fig.imageObj.src) {\n",
       "                (window.URL || window.webkitURL).revokeObjectURL(\n",
       "                    fig.imageObj.src);\n",
       "            }\n",
       "\n",
       "            fig.imageObj.src = (window.URL || window.webkitURL).createObjectURL(\n",
       "                evt.data);\n",
       "            fig.updated_canvas_event();\n",
       "            fig.waiting = false;\n",
       "            return;\n",
       "        }\n",
       "        else if (typeof evt.data === 'string' && evt.data.slice(0, 21) == \"data:image/png;base64\") {\n",
       "            fig.imageObj.src = evt.data;\n",
       "            fig.updated_canvas_event();\n",
       "            fig.waiting = false;\n",
       "            return;\n",
       "        }\n",
       "\n",
       "        var msg = JSON.parse(evt.data);\n",
       "        var msg_type = msg['type'];\n",
       "\n",
       "        // Call the  \"handle_{type}\" callback, which takes\n",
       "        // the figure and JSON message as its only arguments.\n",
       "        try {\n",
       "            var callback = fig[\"handle_\" + msg_type];\n",
       "        } catch (e) {\n",
       "            console.log(\"No handler for the '\" + msg_type + \"' message type: \", msg);\n",
       "            return;\n",
       "        }\n",
       "\n",
       "        if (callback) {\n",
       "            try {\n",
       "                // console.log(\"Handling '\" + msg_type + \"' message: \", msg);\n",
       "                callback(fig, msg);\n",
       "            } catch (e) {\n",
       "                console.log(\"Exception inside the 'handler_\" + msg_type + \"' callback:\", e, e.stack, msg);\n",
       "            }\n",
       "        }\n",
       "    };\n",
       "}\n",
       "\n",
       "// from http://stackoverflow.com/questions/1114465/getting-mouse-location-in-canvas\n",
       "mpl.findpos = function(e) {\n",
       "    //this section is from http://www.quirksmode.org/js/events_properties.html\n",
       "    var targ;\n",
       "    if (!e)\n",
       "        e = window.event;\n",
       "    if (e.target)\n",
       "        targ = e.target;\n",
       "    else if (e.srcElement)\n",
       "        targ = e.srcElement;\n",
       "    if (targ.nodeType == 3) // defeat Safari bug\n",
       "        targ = targ.parentNode;\n",
       "\n",
       "    // jQuery normalizes the pageX and pageY\n",
       "    // pageX,Y are the mouse positions relative to the document\n",
       "    // offset() returns the position of the element relative to the document\n",
       "    var x = e.pageX - $(targ).offset().left;\n",
       "    var y = e.pageY - $(targ).offset().top;\n",
       "\n",
       "    return {\"x\": x, \"y\": y};\n",
       "};\n",
       "\n",
       "/*\n",
       " * return a copy of an object with only non-object keys\n",
       " * we need this to avoid circular references\n",
       " * http://stackoverflow.com/a/24161582/3208463\n",
       " */\n",
       "function simpleKeys (original) {\n",
       "  return Object.keys(original).reduce(function (obj, key) {\n",
       "    if (typeof original[key] !== 'object')\n",
       "        obj[key] = original[key]\n",
       "    return obj;\n",
       "  }, {});\n",
       "}\n",
       "\n",
       "mpl.figure.prototype.mouse_event = function(event, name) {\n",
       "    var canvas_pos = mpl.findpos(event)\n",
       "\n",
       "    if (name === 'button_press')\n",
       "    {\n",
       "        this.canvas.focus();\n",
       "        this.canvas_div.focus();\n",
       "    }\n",
       "\n",
       "    var x = canvas_pos.x * mpl.ratio;\n",
       "    var y = canvas_pos.y * mpl.ratio;\n",
       "\n",
       "    this.send_message(name, {x: x, y: y, button: event.button,\n",
       "                             step: event.step,\n",
       "                             guiEvent: simpleKeys(event)});\n",
       "\n",
       "    /* This prevents the web browser from automatically changing to\n",
       "     * the text insertion cursor when the button is pressed.  We want\n",
       "     * to control all of the cursor setting manually through the\n",
       "     * 'cursor' event from matplotlib */\n",
       "    event.preventDefault();\n",
       "    return false;\n",
       "}\n",
       "\n",
       "mpl.figure.prototype._key_event_extra = function(event, name) {\n",
       "    // Handle any extra behaviour associated with a key event\n",
       "}\n",
       "\n",
       "mpl.figure.prototype.key_event = function(event, name) {\n",
       "\n",
       "    // Prevent repeat events\n",
       "    if (name == 'key_press')\n",
       "    {\n",
       "        if (event.which === this._key)\n",
       "            return;\n",
       "        else\n",
       "            this._key = event.which;\n",
       "    }\n",
       "    if (name == 'key_release')\n",
       "        this._key = null;\n",
       "\n",
       "    var value = '';\n",
       "    if (event.ctrlKey && event.which != 17)\n",
       "        value += \"ctrl+\";\n",
       "    if (event.altKey && event.which != 18)\n",
       "        value += \"alt+\";\n",
       "    if (event.shiftKey && event.which != 16)\n",
       "        value += \"shift+\";\n",
       "\n",
       "    value += 'k';\n",
       "    value += event.which.toString();\n",
       "\n",
       "    this._key_event_extra(event, name);\n",
       "\n",
       "    this.send_message(name, {key: value,\n",
       "                             guiEvent: simpleKeys(event)});\n",
       "    return false;\n",
       "}\n",
       "\n",
       "mpl.figure.prototype.toolbar_button_onclick = function(name) {\n",
       "    if (name == 'download') {\n",
       "        this.handle_save(this, null);\n",
       "    } else {\n",
       "        this.send_message(\"toolbar_button\", {name: name});\n",
       "    }\n",
       "};\n",
       "\n",
       "mpl.figure.prototype.toolbar_button_onmouseover = function(tooltip) {\n",
       "    this.message.textContent = tooltip;\n",
       "};\n",
       "mpl.toolbar_items = [[\"Home\", \"Reset original view\", \"fa fa-home icon-home\", \"home\"], [\"Back\", \"Back to previous view\", \"fa fa-arrow-left icon-arrow-left\", \"back\"], [\"Forward\", \"Forward to next view\", \"fa fa-arrow-right icon-arrow-right\", \"forward\"], [\"\", \"\", \"\", \"\"], [\"Pan\", \"Pan axes with left mouse, zoom with right\", \"fa fa-arrows icon-move\", \"pan\"], [\"Zoom\", \"Zoom to rectangle\", \"fa fa-square-o icon-check-empty\", \"zoom\"], [\"\", \"\", \"\", \"\"], [\"Download\", \"Download plot\", \"fa fa-floppy-o icon-save\", \"download\"]];\n",
       "\n",
       "mpl.extensions = [\"eps\", \"pdf\", \"png\", \"ps\", \"raw\", \"svg\"];\n",
       "\n",
       "mpl.default_extension = \"png\";var comm_websocket_adapter = function(comm) {\n",
       "    // Create a \"websocket\"-like object which calls the given IPython comm\n",
       "    // object with the appropriate methods. Currently this is a non binary\n",
       "    // socket, so there is still some room for performance tuning.\n",
       "    var ws = {};\n",
       "\n",
       "    ws.close = function() {\n",
       "        comm.close()\n",
       "    };\n",
       "    ws.send = function(m) {\n",
       "        //console.log('sending', m);\n",
       "        comm.send(m);\n",
       "    };\n",
       "    // Register the callback with on_msg.\n",
       "    comm.on_msg(function(msg) {\n",
       "        //console.log('receiving', msg['content']['data'], msg);\n",
       "        // Pass the mpl event to the overridden (by mpl) onmessage function.\n",
       "        ws.onmessage(msg['content']['data'])\n",
       "    });\n",
       "    return ws;\n",
       "}\n",
       "\n",
       "mpl.mpl_figure_comm = function(comm, msg) {\n",
       "    // This is the function which gets called when the mpl process\n",
       "    // starts-up an IPython Comm through the \"matplotlib\" channel.\n",
       "\n",
       "    var id = msg.content.data.id;\n",
       "    // Get hold of the div created by the display call when the Comm\n",
       "    // socket was opened in Python.\n",
       "    var element = $(\"#\" + id);\n",
       "    var ws_proxy = comm_websocket_adapter(comm)\n",
       "\n",
       "    function ondownload(figure, format) {\n",
       "        window.open(figure.imageObj.src);\n",
       "    }\n",
       "\n",
       "    var fig = new mpl.figure(id, ws_proxy,\n",
       "                           ondownload,\n",
       "                           element.get(0));\n",
       "\n",
       "    // Call onopen now - mpl needs it, as it is assuming we've passed it a real\n",
       "    // web socket which is closed, not our websocket->open comm proxy.\n",
       "    ws_proxy.onopen();\n",
       "\n",
       "    fig.parent_element = element.get(0);\n",
       "    fig.cell_info = mpl.find_output_cell(\"<div id='\" + id + \"'></div>\");\n",
       "    if (!fig.cell_info) {\n",
       "        console.error(\"Failed to find cell for figure\", id, fig);\n",
       "        return;\n",
       "    }\n",
       "\n",
       "    var output_index = fig.cell_info[2]\n",
       "    var cell = fig.cell_info[0];\n",
       "\n",
       "};\n",
       "\n",
       "mpl.figure.prototype.handle_close = function(fig, msg) {\n",
       "    var width = fig.canvas.width/mpl.ratio\n",
       "    fig.root.unbind('remove')\n",
       "\n",
       "    // Update the output cell to use the data from the current canvas.\n",
       "    fig.push_to_output();\n",
       "    var dataURL = fig.canvas.toDataURL();\n",
       "    // Re-enable the keyboard manager in IPython - without this line, in FF,\n",
       "    // the notebook keyboard shortcuts fail.\n",
       "    IPython.keyboard_manager.enable()\n",
       "    $(fig.parent_element).html('<img src=\"' + dataURL + '\" width=\"' + width + '\">');\n",
       "    fig.close_ws(fig, msg);\n",
       "}\n",
       "\n",
       "mpl.figure.prototype.close_ws = function(fig, msg){\n",
       "    fig.send_message('closing', msg);\n",
       "    // fig.ws.close()\n",
       "}\n",
       "\n",
       "mpl.figure.prototype.push_to_output = function(remove_interactive) {\n",
       "    // Turn the data on the canvas into data in the output cell.\n",
       "    var width = this.canvas.width/mpl.ratio\n",
       "    var dataURL = this.canvas.toDataURL();\n",
       "    this.cell_info[1]['text/html'] = '<img src=\"' + dataURL + '\" width=\"' + width + '\">';\n",
       "}\n",
       "\n",
       "mpl.figure.prototype.updated_canvas_event = function() {\n",
       "    // Tell IPython that the notebook contents must change.\n",
       "    IPython.notebook.set_dirty(true);\n",
       "    this.send_message(\"ack\", {});\n",
       "    var fig = this;\n",
       "    // Wait a second, then push the new image to the DOM so\n",
       "    // that it is saved nicely (might be nice to debounce this).\n",
       "    setTimeout(function () { fig.push_to_output() }, 1000);\n",
       "}\n",
       "\n",
       "mpl.figure.prototype._init_toolbar = function() {\n",
       "    var fig = this;\n",
       "\n",
       "    var nav_element = $('<div/>');\n",
       "    nav_element.attr('style', 'width: 100%');\n",
       "    this.root.append(nav_element);\n",
       "\n",
       "    // Define a callback function for later on.\n",
       "    function toolbar_event(event) {\n",
       "        return fig.toolbar_button_onclick(event['data']);\n",
       "    }\n",
       "    function toolbar_mouse_event(event) {\n",
       "        return fig.toolbar_button_onmouseover(event['data']);\n",
       "    }\n",
       "\n",
       "    for(var toolbar_ind in mpl.toolbar_items){\n",
       "        var name = mpl.toolbar_items[toolbar_ind][0];\n",
       "        var tooltip = mpl.toolbar_items[toolbar_ind][1];\n",
       "        var image = mpl.toolbar_items[toolbar_ind][2];\n",
       "        var method_name = mpl.toolbar_items[toolbar_ind][3];\n",
       "\n",
       "        if (!name) { continue; };\n",
       "\n",
       "        var button = $('<button class=\"btn btn-default\" href=\"#\" title=\"' + name + '\"><i class=\"fa ' + image + ' fa-lg\"></i></button>');\n",
       "        button.click(method_name, toolbar_event);\n",
       "        button.mouseover(tooltip, toolbar_mouse_event);\n",
       "        nav_element.append(button);\n",
       "    }\n",
       "\n",
       "    // Add the status bar.\n",
       "    var status_bar = $('<span class=\"mpl-message\" style=\"text-align:right; float: right;\"/>');\n",
       "    nav_element.append(status_bar);\n",
       "    this.message = status_bar[0];\n",
       "\n",
       "    // Add the close button to the window.\n",
       "    var buttongrp = $('<div class=\"btn-group inline pull-right\"></div>');\n",
       "    var button = $('<button class=\"btn btn-mini btn-primary\" href=\"#\" title=\"Stop Interaction\"><i class=\"fa fa-power-off icon-remove icon-large\"></i></button>');\n",
       "    button.click(function (evt) { fig.handle_close(fig, {}); } );\n",
       "    button.mouseover('Stop Interaction', toolbar_mouse_event);\n",
       "    buttongrp.append(button);\n",
       "    var titlebar = this.root.find($('.ui-dialog-titlebar'));\n",
       "    titlebar.prepend(buttongrp);\n",
       "}\n",
       "\n",
       "mpl.figure.prototype._root_extra_style = function(el){\n",
       "    var fig = this\n",
       "    el.on(\"remove\", function(){\n",
       "\tfig.close_ws(fig, {});\n",
       "    });\n",
       "}\n",
       "\n",
       "mpl.figure.prototype._canvas_extra_style = function(el){\n",
       "    // this is important to make the div 'focusable\n",
       "    el.attr('tabindex', 0)\n",
       "    // reach out to IPython and tell the keyboard manager to turn it's self\n",
       "    // off when our div gets focus\n",
       "\n",
       "    // location in version 3\n",
       "    if (IPython.notebook.keyboard_manager) {\n",
       "        IPython.notebook.keyboard_manager.register_events(el);\n",
       "    }\n",
       "    else {\n",
       "        // location in version 2\n",
       "        IPython.keyboard_manager.register_events(el);\n",
       "    }\n",
       "\n",
       "}\n",
       "\n",
       "mpl.figure.prototype._key_event_extra = function(event, name) {\n",
       "    var manager = IPython.notebook.keyboard_manager;\n",
       "    if (!manager)\n",
       "        manager = IPython.keyboard_manager;\n",
       "\n",
       "    // Check for shift+enter\n",
       "    if (event.shiftKey && event.which == 13) {\n",
       "        this.canvas_div.blur();\n",
       "        // select the cell after this one\n",
       "        var index = IPython.notebook.find_cell_index(this.cell_info[0]);\n",
       "        IPython.notebook.select(index + 1);\n",
       "    }\n",
       "}\n",
       "\n",
       "mpl.figure.prototype.handle_save = function(fig, msg) {\n",
       "    fig.ondownload(fig, null);\n",
       "}\n",
       "\n",
       "\n",
       "mpl.find_output_cell = function(html_output) {\n",
       "    // Return the cell and output element which can be found *uniquely* in the notebook.\n",
       "    // Note - this is a bit hacky, but it is done because the \"notebook_saving.Notebook\"\n",
       "    // IPython event is triggered only after the cells have been serialised, which for\n",
       "    // our purposes (turning an active figure into a static one), is too late.\n",
       "    var cells = IPython.notebook.get_cells();\n",
       "    var ncells = cells.length;\n",
       "    for (var i=0; i<ncells; i++) {\n",
       "        var cell = cells[i];\n",
       "        if (cell.cell_type === 'code'){\n",
       "            for (var j=0; j<cell.output_area.outputs.length; j++) {\n",
       "                var data = cell.output_area.outputs[j];\n",
       "                if (data.data) {\n",
       "                    // IPython >= 3 moved mimebundle to data attribute of output\n",
       "                    data = data.data;\n",
       "                }\n",
       "                if (data['text/html'] == html_output) {\n",
       "                    return [cell, data, j];\n",
       "                }\n",
       "            }\n",
       "        }\n",
       "    }\n",
       "}\n",
       "\n",
       "// Register the function which deals with the matplotlib target/channel.\n",
       "// The kernel may be null if the page has been refreshed.\n",
       "if (IPython.notebook.kernel != null) {\n",
       "    IPython.notebook.kernel.comm_manager.register_target('matplotlib', mpl.mpl_figure_comm);\n",
       "}\n"
      ],
      "text/plain": [
       "<IPython.core.display.Javascript object>"
      ]
     },
     "metadata": {},
     "output_type": "display_data"
    },
    {
     "data": {
      "text/html": [
       "<img src=\"data:image/png;base64,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\" width=\"640\">"
      ],
      "text/plain": [
       "<IPython.core.display.HTML object>"
      ]
     },
     "metadata": {},
     "output_type": "display_data"
    },
    {
     "data": {
      "text/plain": [
       "(<Figure size 640x640 with 2 Axes>, GridSpec(2, 1, height_ratios=[1, 4]))"
      ]
     },
     "execution_count": 22,
     "metadata": {},
     "output_type": "execute_result"
    }
   ],
   "source": [
    "result.plot()"
   ]
  },
  {
   "cell_type": "code",
   "execution_count": 8,
   "metadata": {},
   "outputs": [
    {
     "name": "stdout",
     "output_type": "stream",
     "text": [
      "1\n",
      "parameter names: ['M', 'alpha', 'beta']\n",
      "independent variables: ['x']\n"
     ]
    },
    {
     "data": {
      "application/vnd.plotly.v1+json": {
       "config": {
        "plotlyServerURL": "https://plotly.com"
       },
       "data": [
        {
         "name": "tot en met gisteren",
         "type": "bar",
         "x": [
          "2020-02-27T00:00:00",
          "2020-02-28T00:00:00",
          "2020-02-29T00:00:00",
          "2020-03-01T00:00:00",
          "2020-03-02T00:00:00",
          "2020-03-03T00:00:00",
          "2020-03-04T00:00:00",
          "2020-03-05T00:00:00",
          "2020-03-06T00:00:00",
          "2020-03-07T00:00:00",
          "2020-03-08T00:00:00",
          "2020-03-09T00:00:00",
          "2020-03-10T00:00:00",
          "2020-03-11T00:00:00",
          "2020-03-12T00:00:00",
          "2020-03-13T00:00:00",
          "2020-03-14T00:00:00",
          "2020-03-15T00:00:00",
          "2020-03-16T00:00:00",
          "2020-03-17T00:00:00",
          "2020-03-18T00:00:00",
          "2020-03-19T00:00:00",
          "2020-03-20T00:00:00",
          "2020-03-21T00:00:00",
          "2020-03-22T00:00:00",
          "2020-03-23T00:00:00",
          "2020-03-24T00:00:00",
          "2020-03-25T00:00:00",
          "2020-03-26T00:00:00",
          "2020-03-27T00:00:00",
          "2020-03-28T00:00:00",
          "2020-03-29T00:00:00",
          "2020-03-30T00:00:00",
          "2020-03-31T00:00:00",
          "2020-04-01T00:00:00",
          "2020-04-02T00:00:00",
          "2020-04-03T00:00:00",
          "2020-04-04T00:00:00",
          "2020-04-05T00:00:00",
          "2020-04-06T00:00:00",
          "2020-04-07T00:00:00",
          "2020-04-08T00:00:00",
          "2020-04-09T00:00:00",
          "2020-04-10T00:00:00",
          "2020-04-11T00:00:00",
          "2020-04-12T00:00:00",
          "2020-04-13T00:00:00",
          "2020-04-14T00:00:00",
          "2020-04-15T00:00:00",
          "2020-04-16T00:00:00",
          "2020-04-17T00:00:00",
          "2020-04-18T00:00:00",
          "2020-04-19T00:00:00",
          "2020-04-20T00:00:00"
         ],
         "y": [
          0,
          0,
          0,
          0,
          0,
          0,
          0,
          0,
          1,
          1,
          2,
          1,
          1,
          2,
          3,
          6,
          10,
          14,
          23,
          23,
          20,
          43,
          55,
          62,
          60,
          86,
          74,
          110,
          124,
          108,
          148,
          119,
          150,
          165,
          157,
          164,
          155,
          159,
          148,
          154,
          141,
          139,
          104,
          136,
          133,
          128,
          119,
          122,
          102,
          104,
          73,
          21,
          1,
          0
         ]
        },
        {
         "name": "nieuw",
         "type": "bar",
         "x": [
          "2020-02-27T00:00:00",
          "2020-02-28T00:00:00",
          "2020-02-29T00:00:00",
          "2020-03-01T00:00:00",
          "2020-03-02T00:00:00",
          "2020-03-03T00:00:00",
          "2020-03-04T00:00:00",
          "2020-03-05T00:00:00",
          "2020-03-06T00:00:00",
          "2020-03-07T00:00:00",
          "2020-03-08T00:00:00",
          "2020-03-09T00:00:00",
          "2020-03-10T00:00:00",
          "2020-03-11T00:00:00",
          "2020-03-12T00:00:00",
          "2020-03-13T00:00:00",
          "2020-03-14T00:00:00",
          "2020-03-15T00:00:00",
          "2020-03-16T00:00:00",
          "2020-03-17T00:00:00",
          "2020-03-18T00:00:00",
          "2020-03-19T00:00:00",
          "2020-03-20T00:00:00",
          "2020-03-21T00:00:00",
          "2020-03-22T00:00:00",
          "2020-03-23T00:00:00",
          "2020-03-24T00:00:00",
          "2020-03-25T00:00:00",
          "2020-03-26T00:00:00",
          "2020-03-27T00:00:00",
          "2020-03-28T00:00:00",
          "2020-03-29T00:00:00",
          "2020-03-30T00:00:00",
          "2020-03-31T00:00:00",
          "2020-04-01T00:00:00",
          "2020-04-02T00:00:00",
          "2020-04-03T00:00:00",
          "2020-04-04T00:00:00",
          "2020-04-05T00:00:00",
          "2020-04-06T00:00:00",
          "2020-04-07T00:00:00",
          "2020-04-08T00:00:00",
          "2020-04-09T00:00:00",
          "2020-04-10T00:00:00",
          "2020-04-11T00:00:00",
          "2020-04-12T00:00:00",
          "2020-04-13T00:00:00",
          "2020-04-14T00:00:00",
          "2020-04-15T00:00:00",
          "2020-04-16T00:00:00",
          "2020-04-17T00:00:00",
          "2020-04-18T00:00:00",
          "2020-04-19T00:00:00",
          "2020-04-20T00:00:00"
         ],
         "y": [
          0,
          0,
          0,
          0,
          0,
          0,
          0,
          0,
          0,
          0,
          0,
          0,
          0,
          0,
          0,
          0,
          0,
          0,
          0,
          0,
          0,
          0,
          0,
          0,
          0,
          0,
          0,
          0,
          0,
          0,
          1,
          0,
          0,
          0,
          0,
          1,
          1,
          0,
          0,
          0,
          0,
          1,
          1,
          0,
          0,
          1,
          0,
          1,
          1,
          2,
          5,
          30,
          20,
          1
         ]
        },
        {
         "mode": "lines",
         "name": "K=4000.00,beta=0.16, t_0=37.19",
         "type": "scatter",
         "x": [
          "2020-02-28T00:00:00",
          "2020-02-29T00:00:00",
          "2020-03-01T00:00:00",
          "2020-03-02T00:00:00",
          "2020-03-03T00:00:00",
          "2020-03-04T00:00:00",
          "2020-03-05T00:00:00",
          "2020-03-06T00:00:00",
          "2020-03-07T00:00:00",
          "2020-03-08T00:00:00",
          "2020-03-09T00:00:00",
          "2020-03-10T00:00:00",
          "2020-03-11T00:00:00",
          "2020-03-12T00:00:00",
          "2020-03-13T00:00:00",
          "2020-03-14T00:00:00",
          "2020-03-15T00:00:00",
          "2020-03-16T00:00:00",
          "2020-03-17T00:00:00",
          "2020-03-18T00:00:00",
          "2020-03-19T00:00:00",
          "2020-03-20T00:00:00",
          "2020-03-21T00:00:00",
          "2020-03-22T00:00:00",
          "2020-03-23T00:00:00",
          "2020-03-24T00:00:00",
          "2020-03-25T00:00:00",
          "2020-03-26T00:00:00",
          "2020-03-27T00:00:00",
          "2020-03-28T00:00:00",
          "2020-03-29T00:00:00",
          "2020-03-30T00:00:00",
          "2020-03-31T00:00:00",
          "2020-04-01T00:00:00",
          "2020-04-02T00:00:00",
          "2020-04-03T00:00:00",
          "2020-04-04T00:00:00",
          "2020-04-05T00:00:00",
          "2020-04-06T00:00:00",
          "2020-04-07T00:00:00",
          "2020-04-08T00:00:00",
          "2020-04-09T00:00:00",
          "2020-04-10T00:00:00",
          "2020-04-11T00:00:00",
          "2020-04-12T00:00:00",
          "2020-04-13T00:00:00",
          "2020-04-14T00:00:00",
          "2020-04-15T00:00:00",
          "2020-04-16T00:00:00",
          "2020-04-17T00:00:00",
          "2020-04-18T00:00:00",
          "2020-04-19T00:00:00",
          "2020-04-20T00:00:00"
         ],
         "y": [
          1.8523545544996405,
          2.1751670895999435,
          2.5537866465349794,
          2.9976903038961065,
          3.5178997843081334,
          4.12720854496336,
          4.840432666136238,
          5.674684025153003,
          6.64966206827888,
          7.787957360831404,
          9.115355706128259,
          10.661125620122045,
          12.458263930402165,
          14.543663824052052,
          16.958156441702847,
          19.746360919773345,
          22.956258796314554,
          26.63838774586469,
          30.844528580071167,
          35.62574180954148,
          41.02960145296381,
          47.096482566305355,
          53.85479645271126,
          61.31514740084006,
          69.46352122421806,
          78.25381932666234,
          87.60032259658345,
          97.37098771814321,
          107.38279594748164,
          117.40060762143,
          127.14101108574235,
          136.28237107495798,
          144.48159314801998,
          151.39703457385744,
          156.71565708618883,
          160.18123314320613,
          161.61957587052277,
          160.9567170014118,
          158.2268667194777,
          153.5687147268041,
          147.21074595821636,
          139.44817552033084,
          130.6153525662196,
          121.0577869001274,
          111.10737124491077,
          101.06320522654161,
          91.17906918997448,
          81.65739175532693,
          72.64871166759137,
          64.25520723311324,
          56.53679724255966,
          49.51849157921753,
          43.1979675523447,
          37.552673441118934
         ]
        }
       ],
       "layout": {
        "barmode": "stack",
        "font": {
         "size": 12
        },
        "legend": {
         "x": 0.05,
         "y": 0.95
        },
        "template": {
         "data": {
          "bar": [
           {
            "error_x": {
             "color": "#2a3f5f"
            },
            "error_y": {
             "color": "#2a3f5f"
            },
            "marker": {
             "line": {
              "color": "#E5ECF6",
              "width": 0.5
             }
            },
            "type": "bar"
           }
          ],
          "barpolar": [
           {
            "marker": {
             "line": {
              "color": "#E5ECF6",
              "width": 0.5
             }
            },
            "type": "barpolar"
           }
          ],
          "carpet": [
           {
            "aaxis": {
             "endlinecolor": "#2a3f5f",
             "gridcolor": "white",
             "linecolor": "white",
             "minorgridcolor": "white",
             "startlinecolor": "#2a3f5f"
            },
            "baxis": {
             "endlinecolor": "#2a3f5f",
             "gridcolor": "white",
             "linecolor": "white",
             "minorgridcolor": "white",
             "startlinecolor": "#2a3f5f"
            },
            "type": "carpet"
           }
          ],
          "choropleth": [
           {
            "colorbar": {
             "outlinewidth": 0,
             "ticks": ""
            },
            "type": "choropleth"
           }
          ],
          "contour": [
           {
            "colorbar": {
             "outlinewidth": 0,
             "ticks": ""
            },
            "colorscale": [
             [
              0,
              "#0d0887"
             ],
             [
              0.1111111111111111,
              "#46039f"
             ],
             [
              0.2222222222222222,
              "#7201a8"
             ],
             [
              0.3333333333333333,
              "#9c179e"
             ],
             [
              0.4444444444444444,
              "#bd3786"
             ],
             [
              0.5555555555555556,
              "#d8576b"
             ],
             [
              0.6666666666666666,
              "#ed7953"
             ],
             [
              0.7777777777777778,
              "#fb9f3a"
             ],
             [
              0.8888888888888888,
              "#fdca26"
             ],
             [
              1,
              "#f0f921"
             ]
            ],
            "type": "contour"
           }
          ],
          "contourcarpet": [
           {
            "colorbar": {
             "outlinewidth": 0,
             "ticks": ""
            },
            "type": "contourcarpet"
           }
          ],
          "heatmap": [
           {
            "colorbar": {
             "outlinewidth": 0,
             "ticks": ""
            },
            "colorscale": [
             [
              0,
              "#0d0887"
             ],
             [
              0.1111111111111111,
              "#46039f"
             ],
             [
              0.2222222222222222,
              "#7201a8"
             ],
             [
              0.3333333333333333,
              "#9c179e"
             ],
             [
              0.4444444444444444,
              "#bd3786"
             ],
             [
              0.5555555555555556,
              "#d8576b"
             ],
             [
              0.6666666666666666,
              "#ed7953"
             ],
             [
              0.7777777777777778,
              "#fb9f3a"
             ],
             [
              0.8888888888888888,
              "#fdca26"
             ],
             [
              1,
              "#f0f921"
             ]
            ],
            "type": "heatmap"
           }
          ],
          "heatmapgl": [
           {
            "colorbar": {
             "outlinewidth": 0,
             "ticks": ""
            },
            "colorscale": [
             [
              0,
              "#0d0887"
             ],
             [
              0.1111111111111111,
              "#46039f"
             ],
             [
              0.2222222222222222,
              "#7201a8"
             ],
             [
              0.3333333333333333,
              "#9c179e"
             ],
             [
              0.4444444444444444,
              "#bd3786"
             ],
             [
              0.5555555555555556,
              "#d8576b"
             ],
             [
              0.6666666666666666,
              "#ed7953"
             ],
             [
              0.7777777777777778,
              "#fb9f3a"
             ],
             [
              0.8888888888888888,
              "#fdca26"
             ],
             [
              1,
              "#f0f921"
             ]
            ],
            "type": "heatmapgl"
           }
          ],
          "histogram": [
           {
            "marker": {
             "colorbar": {
              "outlinewidth": 0,
              "ticks": ""
             }
            },
            "type": "histogram"
           }
          ],
          "histogram2d": [
           {
            "colorbar": {
             "outlinewidth": 0,
             "ticks": ""
            },
            "colorscale": [
             [
              0,
              "#0d0887"
             ],
             [
              0.1111111111111111,
              "#46039f"
             ],
             [
              0.2222222222222222,
              "#7201a8"
             ],
             [
              0.3333333333333333,
              "#9c179e"
             ],
             [
              0.4444444444444444,
              "#bd3786"
             ],
             [
              0.5555555555555556,
              "#d8576b"
             ],
             [
              0.6666666666666666,
              "#ed7953"
             ],
             [
              0.7777777777777778,
              "#fb9f3a"
             ],
             [
              0.8888888888888888,
              "#fdca26"
             ],
             [
              1,
              "#f0f921"
             ]
            ],
            "type": "histogram2d"
           }
          ],
          "histogram2dcontour": [
           {
            "colorbar": {
             "outlinewidth": 0,
             "ticks": ""
            },
            "colorscale": [
             [
              0,
              "#0d0887"
             ],
             [
              0.1111111111111111,
              "#46039f"
             ],
             [
              0.2222222222222222,
              "#7201a8"
             ],
             [
              0.3333333333333333,
              "#9c179e"
             ],
             [
              0.4444444444444444,
              "#bd3786"
             ],
             [
              0.5555555555555556,
              "#d8576b"
             ],
             [
              0.6666666666666666,
              "#ed7953"
             ],
             [
              0.7777777777777778,
              "#fb9f3a"
             ],
             [
              0.8888888888888888,
              "#fdca26"
             ],
             [
              1,
              "#f0f921"
             ]
            ],
            "type": "histogram2dcontour"
           }
          ],
          "mesh3d": [
           {
            "colorbar": {
             "outlinewidth": 0,
             "ticks": ""
            },
            "type": "mesh3d"
           }
          ],
          "parcoords": [
           {
            "line": {
             "colorbar": {
              "outlinewidth": 0,
              "ticks": ""
             }
            },
            "type": "parcoords"
           }
          ],
          "pie": [
           {
            "automargin": true,
            "type": "pie"
           }
          ],
          "scatter": [
           {
            "marker": {
             "colorbar": {
              "outlinewidth": 0,
              "ticks": ""
             }
            },
            "type": "scatter"
           }
          ],
          "scatter3d": [
           {
            "line": {
             "colorbar": {
              "outlinewidth": 0,
              "ticks": ""
             }
            },
            "marker": {
             "colorbar": {
              "outlinewidth": 0,
              "ticks": ""
             }
            },
            "type": "scatter3d"
           }
          ],
          "scattercarpet": [
           {
            "marker": {
             "colorbar": {
              "outlinewidth": 0,
              "ticks": ""
             }
            },
            "type": "scattercarpet"
           }
          ],
          "scattergeo": [
           {
            "marker": {
             "colorbar": {
              "outlinewidth": 0,
              "ticks": ""
             }
            },
            "type": "scattergeo"
           }
          ],
          "scattergl": [
           {
            "marker": {
             "colorbar": {
              "outlinewidth": 0,
              "ticks": ""
             }
            },
            "type": "scattergl"
           }
          ],
          "scattermapbox": [
           {
            "marker": {
             "colorbar": {
              "outlinewidth": 0,
              "ticks": ""
             }
            },
            "type": "scattermapbox"
           }
          ],
          "scatterpolar": [
           {
            "marker": {
             "colorbar": {
              "outlinewidth": 0,
              "ticks": ""
             }
            },
            "type": "scatterpolar"
           }
          ],
          "scatterpolargl": [
           {
            "marker": {
             "colorbar": {
              "outlinewidth": 0,
              "ticks": ""
             }
            },
            "type": "scatterpolargl"
           }
          ],
          "scatterternary": [
           {
            "marker": {
             "colorbar": {
              "outlinewidth": 0,
              "ticks": ""
             }
            },
            "type": "scatterternary"
           }
          ],
          "surface": [
           {
            "colorbar": {
             "outlinewidth": 0,
             "ticks": ""
            },
            "colorscale": [
             [
              0,
              "#0d0887"
             ],
             [
              0.1111111111111111,
              "#46039f"
             ],
             [
              0.2222222222222222,
              "#7201a8"
             ],
             [
              0.3333333333333333,
              "#9c179e"
             ],
             [
              0.4444444444444444,
              "#bd3786"
             ],
             [
              0.5555555555555556,
              "#d8576b"
             ],
             [
              0.6666666666666666,
              "#ed7953"
             ],
             [
              0.7777777777777778,
              "#fb9f3a"
             ],
             [
              0.8888888888888888,
              "#fdca26"
             ],
             [
              1,
              "#f0f921"
             ]
            ],
            "type": "surface"
           }
          ],
          "table": [
           {
            "cells": {
             "fill": {
              "color": "#EBF0F8"
             },
             "line": {
              "color": "white"
             }
            },
            "header": {
             "fill": {
              "color": "#C8D4E3"
             },
             "line": {
              "color": "white"
             }
            },
            "type": "table"
           }
          ]
         },
         "layout": {
          "annotationdefaults": {
           "arrowcolor": "#2a3f5f",
           "arrowhead": 0,
           "arrowwidth": 1
          },
          "coloraxis": {
           "colorbar": {
            "outlinewidth": 0,
            "ticks": ""
           }
          },
          "colorscale": {
           "diverging": [
            [
             0,
             "#8e0152"
            ],
            [
             0.1,
             "#c51b7d"
            ],
            [
             0.2,
             "#de77ae"
            ],
            [
             0.3,
             "#f1b6da"
            ],
            [
             0.4,
             "#fde0ef"
            ],
            [
             0.5,
             "#f7f7f7"
            ],
            [
             0.6,
             "#e6f5d0"
            ],
            [
             0.7,
             "#b8e186"
            ],
            [
             0.8,
             "#7fbc41"
            ],
            [
             0.9,
             "#4d9221"
            ],
            [
             1,
             "#276419"
            ]
           ],
           "sequential": [
            [
             0,
             "#0d0887"
            ],
            [
             0.1111111111111111,
             "#46039f"
            ],
            [
             0.2222222222222222,
             "#7201a8"
            ],
            [
             0.3333333333333333,
             "#9c179e"
            ],
            [
             0.4444444444444444,
             "#bd3786"
            ],
            [
             0.5555555555555556,
             "#d8576b"
            ],
            [
             0.6666666666666666,
             "#ed7953"
            ],
            [
             0.7777777777777778,
             "#fb9f3a"
            ],
            [
             0.8888888888888888,
             "#fdca26"
            ],
            [
             1,
             "#f0f921"
            ]
           ],
           "sequentialminus": [
            [
             0,
             "#0d0887"
            ],
            [
             0.1111111111111111,
             "#46039f"
            ],
            [
             0.2222222222222222,
             "#7201a8"
            ],
            [
             0.3333333333333333,
             "#9c179e"
            ],
            [
             0.4444444444444444,
             "#bd3786"
            ],
            [
             0.5555555555555556,
             "#d8576b"
            ],
            [
             0.6666666666666666,
             "#ed7953"
            ],
            [
             0.7777777777777778,
             "#fb9f3a"
            ],
            [
             0.8888888888888888,
             "#fdca26"
            ],
            [
             1,
             "#f0f921"
            ]
           ]
          },
          "colorway": [
           "#636efa",
           "#EF553B",
           "#00cc96",
           "#ab63fa",
           "#FFA15A",
           "#19d3f3",
           "#FF6692",
           "#B6E880",
           "#FF97FF",
           "#FECB52"
          ],
          "font": {
           "color": "#2a3f5f"
          },
          "geo": {
           "bgcolor": "white",
           "lakecolor": "white",
           "landcolor": "#E5ECF6",
           "showlakes": true,
           "showland": true,
           "subunitcolor": "white"
          },
          "hoverlabel": {
           "align": "left"
          },
          "hovermode": "closest",
          "mapbox": {
           "style": "light"
          },
          "paper_bgcolor": "white",
          "plot_bgcolor": "#E5ECF6",
          "polar": {
           "angularaxis": {
            "gridcolor": "white",
            "linecolor": "white",
            "ticks": ""
           },
           "bgcolor": "#E5ECF6",
           "radialaxis": {
            "gridcolor": "white",
            "linecolor": "white",
            "ticks": ""
           }
          },
          "scene": {
           "xaxis": {
            "backgroundcolor": "#E5ECF6",
            "gridcolor": "white",
            "gridwidth": 2,
            "linecolor": "white",
            "showbackground": true,
            "ticks": "",
            "zerolinecolor": "white"
           },
           "yaxis": {
            "backgroundcolor": "#E5ECF6",
            "gridcolor": "white",
            "gridwidth": 2,
            "linecolor": "white",
            "showbackground": true,
            "ticks": "",
            "zerolinecolor": "white"
           },
           "zaxis": {
            "backgroundcolor": "#E5ECF6",
            "gridcolor": "white",
            "gridwidth": 2,
            "linecolor": "white",
            "showbackground": true,
            "ticks": "",
            "zerolinecolor": "white"
           }
          },
          "shapedefaults": {
           "line": {
            "color": "#2a3f5f"
           }
          },
          "ternary": {
           "aaxis": {
            "gridcolor": "white",
            "linecolor": "white",
            "ticks": ""
           },
           "baxis": {
            "gridcolor": "white",
            "linecolor": "white",
            "ticks": ""
           },
           "bgcolor": "#E5ECF6",
           "caxis": {
            "gridcolor": "white",
            "linecolor": "white",
            "ticks": ""
           }
          },
          "title": {
           "x": 0.05
          },
          "xaxis": {
           "automargin": true,
           "gridcolor": "white",
           "linecolor": "white",
           "ticks": "",
           "title": {
            "standoff": 15
           },
           "zerolinecolor": "white",
           "zerolinewidth": 2
          },
          "yaxis": {
           "automargin": true,
           "gridcolor": "white",
           "linecolor": "white",
           "ticks": "",
           "title": {
            "standoff": 15
           },
           "zerolinecolor": "white",
           "zerolinewidth": 2
          }
         }
        },
        "title": {
         "text": "Deaths per day",
         "x": 0.5,
         "xanchor": "center"
        },
        "xaxis": {
         "title": {
          "text": "Date"
         }
        },
        "yaxis": {
         "title": {
          "text": "# deaths/day"
         }
        }
       }
      },
      "text/html": [
       "<div>\n",
       "        \n",
       "        \n",
       "            <div id=\"58fa1514-337f-4318-8dbb-e95c5a231471\" class=\"plotly-graph-div\" style=\"height:525px; width:100%;\"></div>\n",
       "            <script type=\"text/javascript\">\n",
       "                require([\"plotly\"], function(Plotly) {\n",
       "                    window.PLOTLYENV=window.PLOTLYENV || {};\n",
       "                    \n",
       "                if (document.getElementById(\"58fa1514-337f-4318-8dbb-e95c5a231471\")) {\n",
       "                    Plotly.newPlot(\n",
       "                        '58fa1514-337f-4318-8dbb-e95c5a231471',\n",
       "                        [{\"name\": \"tot en met gisteren\", \"type\": \"bar\", \"x\": [\"2020-02-27T00:00:00\", \"2020-02-28T00:00:00\", \"2020-02-29T00:00:00\", \"2020-03-01T00:00:00\", \"2020-03-02T00:00:00\", \"2020-03-03T00:00:00\", \"2020-03-04T00:00:00\", \"2020-03-05T00:00:00\", \"2020-03-06T00:00:00\", \"2020-03-07T00:00:00\", \"2020-03-08T00:00:00\", \"2020-03-09T00:00:00\", \"2020-03-10T00:00:00\", \"2020-03-11T00:00:00\", \"2020-03-12T00:00:00\", \"2020-03-13T00:00:00\", \"2020-03-14T00:00:00\", \"2020-03-15T00:00:00\", \"2020-03-16T00:00:00\", \"2020-03-17T00:00:00\", \"2020-03-18T00:00:00\", \"2020-03-19T00:00:00\", \"2020-03-20T00:00:00\", \"2020-03-21T00:00:00\", \"2020-03-22T00:00:00\", \"2020-03-23T00:00:00\", \"2020-03-24T00:00:00\", \"2020-03-25T00:00:00\", \"2020-03-26T00:00:00\", \"2020-03-27T00:00:00\", \"2020-03-28T00:00:00\", \"2020-03-29T00:00:00\", \"2020-03-30T00:00:00\", \"2020-03-31T00:00:00\", \"2020-04-01T00:00:00\", \"2020-04-02T00:00:00\", \"2020-04-03T00:00:00\", \"2020-04-04T00:00:00\", \"2020-04-05T00:00:00\", \"2020-04-06T00:00:00\", \"2020-04-07T00:00:00\", \"2020-04-08T00:00:00\", \"2020-04-09T00:00:00\", \"2020-04-10T00:00:00\", \"2020-04-11T00:00:00\", \"2020-04-12T00:00:00\", \"2020-04-13T00:00:00\", \"2020-04-14T00:00:00\", \"2020-04-15T00:00:00\", \"2020-04-16T00:00:00\", \"2020-04-17T00:00:00\", \"2020-04-18T00:00:00\", \"2020-04-19T00:00:00\", \"2020-04-20T00:00:00\"], \"y\": [0, 0, 0, 0, 0, 0, 0, 0, 1, 1, 2, 1, 1, 2, 3, 6, 10, 14, 23, 23, 20, 43, 55, 62, 60, 86, 74, 110, 124, 108, 148, 119, 150, 165, 157, 164, 155, 159, 148, 154, 141, 139, 104, 136, 133, 128, 119, 122, 102, 104, 73, 21, 1, 0]}, {\"name\": \"nieuw\", \"type\": \"bar\", \"x\": [\"2020-02-27T00:00:00\", \"2020-02-28T00:00:00\", \"2020-02-29T00:00:00\", \"2020-03-01T00:00:00\", \"2020-03-02T00:00:00\", \"2020-03-03T00:00:00\", \"2020-03-04T00:00:00\", \"2020-03-05T00:00:00\", \"2020-03-06T00:00:00\", \"2020-03-07T00:00:00\", \"2020-03-08T00:00:00\", \"2020-03-09T00:00:00\", \"2020-03-10T00:00:00\", \"2020-03-11T00:00:00\", \"2020-03-12T00:00:00\", \"2020-03-13T00:00:00\", \"2020-03-14T00:00:00\", \"2020-03-15T00:00:00\", \"2020-03-16T00:00:00\", \"2020-03-17T00:00:00\", \"2020-03-18T00:00:00\", \"2020-03-19T00:00:00\", \"2020-03-20T00:00:00\", \"2020-03-21T00:00:00\", \"2020-03-22T00:00:00\", \"2020-03-23T00:00:00\", \"2020-03-24T00:00:00\", \"2020-03-25T00:00:00\", \"2020-03-26T00:00:00\", \"2020-03-27T00:00:00\", \"2020-03-28T00:00:00\", \"2020-03-29T00:00:00\", \"2020-03-30T00:00:00\", \"2020-03-31T00:00:00\", \"2020-04-01T00:00:00\", \"2020-04-02T00:00:00\", \"2020-04-03T00:00:00\", \"2020-04-04T00:00:00\", \"2020-04-05T00:00:00\", \"2020-04-06T00:00:00\", \"2020-04-07T00:00:00\", \"2020-04-08T00:00:00\", \"2020-04-09T00:00:00\", \"2020-04-10T00:00:00\", \"2020-04-11T00:00:00\", \"2020-04-12T00:00:00\", \"2020-04-13T00:00:00\", \"2020-04-14T00:00:00\", \"2020-04-15T00:00:00\", \"2020-04-16T00:00:00\", \"2020-04-17T00:00:00\", \"2020-04-18T00:00:00\", \"2020-04-19T00:00:00\", \"2020-04-20T00:00:00\"], \"y\": [0, 0, 0, 0, 0, 0, 0, 0, 0, 0, 0, 0, 0, 0, 0, 0, 0, 0, 0, 0, 0, 0, 0, 0, 0, 0, 0, 0, 0, 0, 1, 0, 0, 0, 0, 1, 1, 0, 0, 0, 0, 1, 1, 0, 0, 1, 0, 1, 1, 2, 5, 30, 20, 1]}, {\"mode\": \"lines\", \"name\": \"K=4000.00,beta=0.16, t_0=37.19\", \"type\": \"scatter\", \"x\": [\"2020-02-28T00:00:00\", \"2020-02-29T00:00:00\", \"2020-03-01T00:00:00\", \"2020-03-02T00:00:00\", \"2020-03-03T00:00:00\", \"2020-03-04T00:00:00\", \"2020-03-05T00:00:00\", \"2020-03-06T00:00:00\", \"2020-03-07T00:00:00\", \"2020-03-08T00:00:00\", \"2020-03-09T00:00:00\", \"2020-03-10T00:00:00\", \"2020-03-11T00:00:00\", \"2020-03-12T00:00:00\", \"2020-03-13T00:00:00\", \"2020-03-14T00:00:00\", \"2020-03-15T00:00:00\", \"2020-03-16T00:00:00\", \"2020-03-17T00:00:00\", \"2020-03-18T00:00:00\", \"2020-03-19T00:00:00\", \"2020-03-20T00:00:00\", \"2020-03-21T00:00:00\", \"2020-03-22T00:00:00\", \"2020-03-23T00:00:00\", \"2020-03-24T00:00:00\", \"2020-03-25T00:00:00\", \"2020-03-26T00:00:00\", \"2020-03-27T00:00:00\", \"2020-03-28T00:00:00\", \"2020-03-29T00:00:00\", \"2020-03-30T00:00:00\", \"2020-03-31T00:00:00\", \"2020-04-01T00:00:00\", \"2020-04-02T00:00:00\", \"2020-04-03T00:00:00\", \"2020-04-04T00:00:00\", \"2020-04-05T00:00:00\", \"2020-04-06T00:00:00\", \"2020-04-07T00:00:00\", \"2020-04-08T00:00:00\", \"2020-04-09T00:00:00\", \"2020-04-10T00:00:00\", \"2020-04-11T00:00:00\", \"2020-04-12T00:00:00\", \"2020-04-13T00:00:00\", \"2020-04-14T00:00:00\", \"2020-04-15T00:00:00\", \"2020-04-16T00:00:00\", \"2020-04-17T00:00:00\", \"2020-04-18T00:00:00\", \"2020-04-19T00:00:00\", \"2020-04-20T00:00:00\"], \"y\": [1.8523545544996405, 2.1751670895999435, 2.5537866465349794, 2.9976903038961065, 3.5178997843081334, 4.12720854496336, 4.840432666136238, 5.674684025153003, 6.64966206827888, 7.787957360831404, 9.115355706128259, 10.661125620122045, 12.458263930402165, 14.543663824052052, 16.958156441702847, 19.746360919773345, 22.956258796314554, 26.63838774586469, 30.844528580071167, 35.62574180954148, 41.02960145296381, 47.096482566305355, 53.85479645271126, 61.31514740084006, 69.46352122421806, 78.25381932666234, 87.60032259658345, 97.37098771814321, 107.38279594748164, 117.40060762143, 127.14101108574235, 136.28237107495798, 144.48159314801998, 151.39703457385744, 156.71565708618883, 160.18123314320613, 161.61957587052277, 160.9567170014118, 158.2268667194777, 153.5687147268041, 147.21074595821636, 139.44817552033084, 130.6153525662196, 121.0577869001274, 111.10737124491077, 101.06320522654161, 91.17906918997448, 81.65739175532693, 72.64871166759137, 64.25520723311324, 56.53679724255966, 49.51849157921753, 43.1979675523447, 37.552673441118934]}],\n",
       "                        {\"barmode\": \"stack\", \"font\": {\"size\": 12}, \"legend\": {\"x\": 0.05, \"y\": 0.95}, \"template\": {\"data\": {\"bar\": [{\"error_x\": {\"color\": \"#2a3f5f\"}, \"error_y\": {\"color\": \"#2a3f5f\"}, \"marker\": {\"line\": {\"color\": \"#E5ECF6\", \"width\": 0.5}}, \"type\": \"bar\"}], \"barpolar\": [{\"marker\": {\"line\": {\"color\": \"#E5ECF6\", \"width\": 0.5}}, \"type\": \"barpolar\"}], \"carpet\": [{\"aaxis\": {\"endlinecolor\": \"#2a3f5f\", \"gridcolor\": \"white\", \"linecolor\": \"white\", \"minorgridcolor\": \"white\", \"startlinecolor\": \"#2a3f5f\"}, \"baxis\": {\"endlinecolor\": \"#2a3f5f\", \"gridcolor\": \"white\", \"linecolor\": \"white\", \"minorgridcolor\": \"white\", \"startlinecolor\": \"#2a3f5f\"}, \"type\": \"carpet\"}], \"choropleth\": [{\"colorbar\": {\"outlinewidth\": 0, \"ticks\": \"\"}, \"type\": \"choropleth\"}], \"contour\": [{\"colorbar\": {\"outlinewidth\": 0, \"ticks\": \"\"}, \"colorscale\": [[0.0, \"#0d0887\"], [0.1111111111111111, \"#46039f\"], [0.2222222222222222, \"#7201a8\"], [0.3333333333333333, \"#9c179e\"], [0.4444444444444444, \"#bd3786\"], [0.5555555555555556, \"#d8576b\"], [0.6666666666666666, \"#ed7953\"], [0.7777777777777778, \"#fb9f3a\"], [0.8888888888888888, \"#fdca26\"], [1.0, \"#f0f921\"]], \"type\": \"contour\"}], \"contourcarpet\": [{\"colorbar\": {\"outlinewidth\": 0, \"ticks\": \"\"}, \"type\": \"contourcarpet\"}], \"heatmap\": [{\"colorbar\": {\"outlinewidth\": 0, \"ticks\": \"\"}, \"colorscale\": [[0.0, \"#0d0887\"], [0.1111111111111111, \"#46039f\"], [0.2222222222222222, \"#7201a8\"], [0.3333333333333333, \"#9c179e\"], [0.4444444444444444, \"#bd3786\"], [0.5555555555555556, \"#d8576b\"], [0.6666666666666666, \"#ed7953\"], [0.7777777777777778, \"#fb9f3a\"], [0.8888888888888888, \"#fdca26\"], [1.0, \"#f0f921\"]], \"type\": \"heatmap\"}], \"heatmapgl\": [{\"colorbar\": {\"outlinewidth\": 0, \"ticks\": \"\"}, \"colorscale\": [[0.0, \"#0d0887\"], [0.1111111111111111, \"#46039f\"], [0.2222222222222222, \"#7201a8\"], [0.3333333333333333, \"#9c179e\"], [0.4444444444444444, \"#bd3786\"], [0.5555555555555556, \"#d8576b\"], [0.6666666666666666, \"#ed7953\"], [0.7777777777777778, \"#fb9f3a\"], [0.8888888888888888, \"#fdca26\"], [1.0, \"#f0f921\"]], \"type\": \"heatmapgl\"}], \"histogram\": [{\"marker\": {\"colorbar\": {\"outlinewidth\": 0, \"ticks\": \"\"}}, \"type\": \"histogram\"}], \"histogram2d\": [{\"colorbar\": {\"outlinewidth\": 0, \"ticks\": \"\"}, \"colorscale\": [[0.0, \"#0d0887\"], [0.1111111111111111, \"#46039f\"], [0.2222222222222222, \"#7201a8\"], [0.3333333333333333, \"#9c179e\"], [0.4444444444444444, \"#bd3786\"], [0.5555555555555556, \"#d8576b\"], [0.6666666666666666, \"#ed7953\"], [0.7777777777777778, \"#fb9f3a\"], [0.8888888888888888, \"#fdca26\"], [1.0, \"#f0f921\"]], \"type\": \"histogram2d\"}], \"histogram2dcontour\": [{\"colorbar\": {\"outlinewidth\": 0, \"ticks\": \"\"}, \"colorscale\": [[0.0, \"#0d0887\"], [0.1111111111111111, \"#46039f\"], [0.2222222222222222, \"#7201a8\"], [0.3333333333333333, \"#9c179e\"], [0.4444444444444444, \"#bd3786\"], [0.5555555555555556, \"#d8576b\"], [0.6666666666666666, \"#ed7953\"], [0.7777777777777778, \"#fb9f3a\"], [0.8888888888888888, \"#fdca26\"], [1.0, \"#f0f921\"]], \"type\": \"histogram2dcontour\"}], \"mesh3d\": [{\"colorbar\": {\"outlinewidth\": 0, \"ticks\": \"\"}, \"type\": \"mesh3d\"}], \"parcoords\": [{\"line\": {\"colorbar\": {\"outlinewidth\": 0, \"ticks\": \"\"}}, \"type\": \"parcoords\"}], \"pie\": [{\"automargin\": true, \"type\": \"pie\"}], \"scatter\": [{\"marker\": {\"colorbar\": {\"outlinewidth\": 0, \"ticks\": \"\"}}, \"type\": \"scatter\"}], \"scatter3d\": [{\"line\": {\"colorbar\": {\"outlinewidth\": 0, \"ticks\": \"\"}}, \"marker\": {\"colorbar\": {\"outlinewidth\": 0, \"ticks\": \"\"}}, \"type\": \"scatter3d\"}], \"scattercarpet\": [{\"marker\": {\"colorbar\": {\"outlinewidth\": 0, \"ticks\": \"\"}}, \"type\": \"scattercarpet\"}], \"scattergeo\": [{\"marker\": {\"colorbar\": {\"outlinewidth\": 0, \"ticks\": \"\"}}, \"type\": \"scattergeo\"}], \"scattergl\": [{\"marker\": {\"colorbar\": {\"outlinewidth\": 0, \"ticks\": \"\"}}, \"type\": \"scattergl\"}], \"scattermapbox\": [{\"marker\": {\"colorbar\": {\"outlinewidth\": 0, \"ticks\": \"\"}}, \"type\": \"scattermapbox\"}], \"scatterpolar\": [{\"marker\": {\"colorbar\": {\"outlinewidth\": 0, \"ticks\": \"\"}}, \"type\": \"scatterpolar\"}], \"scatterpolargl\": [{\"marker\": {\"colorbar\": {\"outlinewidth\": 0, \"ticks\": \"\"}}, \"type\": \"scatterpolargl\"}], \"scatterternary\": [{\"marker\": {\"colorbar\": {\"outlinewidth\": 0, \"ticks\": \"\"}}, \"type\": \"scatterternary\"}], \"surface\": [{\"colorbar\": {\"outlinewidth\": 0, \"ticks\": \"\"}, \"colorscale\": [[0.0, \"#0d0887\"], [0.1111111111111111, \"#46039f\"], [0.2222222222222222, \"#7201a8\"], [0.3333333333333333, \"#9c179e\"], [0.4444444444444444, \"#bd3786\"], [0.5555555555555556, \"#d8576b\"], [0.6666666666666666, \"#ed7953\"], [0.7777777777777778, \"#fb9f3a\"], [0.8888888888888888, \"#fdca26\"], [1.0, \"#f0f921\"]], \"type\": \"surface\"}], \"table\": [{\"cells\": {\"fill\": {\"color\": \"#EBF0F8\"}, \"line\": {\"color\": \"white\"}}, \"header\": {\"fill\": {\"color\": \"#C8D4E3\"}, \"line\": {\"color\": \"white\"}}, \"type\": \"table\"}]}, \"layout\": {\"annotationdefaults\": {\"arrowcolor\": \"#2a3f5f\", \"arrowhead\": 0, \"arrowwidth\": 1}, \"coloraxis\": {\"colorbar\": {\"outlinewidth\": 0, \"ticks\": \"\"}}, \"colorscale\": {\"diverging\": [[0, \"#8e0152\"], [0.1, \"#c51b7d\"], [0.2, \"#de77ae\"], [0.3, \"#f1b6da\"], [0.4, \"#fde0ef\"], [0.5, \"#f7f7f7\"], [0.6, \"#e6f5d0\"], [0.7, \"#b8e186\"], [0.8, \"#7fbc41\"], [0.9, \"#4d9221\"], [1, \"#276419\"]], \"sequential\": [[0.0, \"#0d0887\"], [0.1111111111111111, \"#46039f\"], [0.2222222222222222, \"#7201a8\"], [0.3333333333333333, \"#9c179e\"], [0.4444444444444444, \"#bd3786\"], [0.5555555555555556, \"#d8576b\"], [0.6666666666666666, \"#ed7953\"], [0.7777777777777778, \"#fb9f3a\"], [0.8888888888888888, \"#fdca26\"], [1.0, \"#f0f921\"]], \"sequentialminus\": [[0.0, \"#0d0887\"], [0.1111111111111111, \"#46039f\"], [0.2222222222222222, \"#7201a8\"], [0.3333333333333333, \"#9c179e\"], [0.4444444444444444, \"#bd3786\"], [0.5555555555555556, \"#d8576b\"], [0.6666666666666666, \"#ed7953\"], [0.7777777777777778, \"#fb9f3a\"], [0.8888888888888888, \"#fdca26\"], [1.0, \"#f0f921\"]]}, \"colorway\": [\"#636efa\", \"#EF553B\", \"#00cc96\", \"#ab63fa\", \"#FFA15A\", \"#19d3f3\", \"#FF6692\", \"#B6E880\", \"#FF97FF\", \"#FECB52\"], \"font\": {\"color\": \"#2a3f5f\"}, \"geo\": {\"bgcolor\": \"white\", \"lakecolor\": \"white\", \"landcolor\": \"#E5ECF6\", \"showlakes\": true, \"showland\": true, \"subunitcolor\": \"white\"}, \"hoverlabel\": {\"align\": \"left\"}, \"hovermode\": \"closest\", \"mapbox\": {\"style\": \"light\"}, \"paper_bgcolor\": \"white\", \"plot_bgcolor\": \"#E5ECF6\", \"polar\": {\"angularaxis\": {\"gridcolor\": \"white\", \"linecolor\": \"white\", \"ticks\": \"\"}, \"bgcolor\": \"#E5ECF6\", \"radialaxis\": {\"gridcolor\": \"white\", \"linecolor\": \"white\", \"ticks\": \"\"}}, \"scene\": {\"xaxis\": {\"backgroundcolor\": \"#E5ECF6\", \"gridcolor\": \"white\", \"gridwidth\": 2, \"linecolor\": \"white\", \"showbackground\": true, \"ticks\": \"\", \"zerolinecolor\": \"white\"}, \"yaxis\": {\"backgroundcolor\": \"#E5ECF6\", \"gridcolor\": \"white\", \"gridwidth\": 2, \"linecolor\": \"white\", \"showbackground\": true, \"ticks\": \"\", \"zerolinecolor\": \"white\"}, \"zaxis\": {\"backgroundcolor\": \"#E5ECF6\", \"gridcolor\": \"white\", \"gridwidth\": 2, \"linecolor\": \"white\", \"showbackground\": true, \"ticks\": \"\", \"zerolinecolor\": \"white\"}}, \"shapedefaults\": {\"line\": {\"color\": \"#2a3f5f\"}}, \"ternary\": {\"aaxis\": {\"gridcolor\": \"white\", \"linecolor\": \"white\", \"ticks\": \"\"}, \"baxis\": {\"gridcolor\": \"white\", \"linecolor\": \"white\", \"ticks\": \"\"}, \"bgcolor\": \"#E5ECF6\", \"caxis\": {\"gridcolor\": \"white\", \"linecolor\": \"white\", \"ticks\": \"\"}}, \"title\": {\"x\": 0.05}, \"xaxis\": {\"automargin\": true, \"gridcolor\": \"white\", \"linecolor\": \"white\", \"ticks\": \"\", \"title\": {\"standoff\": 15}, \"zerolinecolor\": \"white\", \"zerolinewidth\": 2}, \"yaxis\": {\"automargin\": true, \"gridcolor\": \"white\", \"linecolor\": \"white\", \"ticks\": \"\", \"title\": {\"standoff\": 15}, \"zerolinecolor\": \"white\", \"zerolinewidth\": 2}}}, \"title\": {\"text\": \"Deaths per day\", \"x\": 0.5, \"xanchor\": \"center\"}, \"xaxis\": {\"title\": {\"text\": \"Date\"}}, \"yaxis\": {\"title\": {\"text\": \"# deaths/day\"}}},\n",
       "                        {\"responsive\": true}\n",
       "                    ).then(function(){\n",
       "                            \n",
       "var gd = document.getElementById('58fa1514-337f-4318-8dbb-e95c5a231471');\n",
       "var x = new MutationObserver(function (mutations, observer) {{\n",
       "        var display = window.getComputedStyle(gd).display;\n",
       "        if (!display || display === 'none') {{\n",
       "            console.log([gd, 'removed!']);\n",
       "            Plotly.purge(gd);\n",
       "            observer.disconnect();\n",
       "        }}\n",
       "}});\n",
       "\n",
       "// Listen for the removal of the full notebook cells\n",
       "var notebookContainer = gd.closest('#notebook-container');\n",
       "if (notebookContainer) {{\n",
       "    x.observe(notebookContainer, {childList: true});\n",
       "}}\n",
       "\n",
       "// Listen for the clearing of the current output cell\n",
       "var outputEl = gd.closest('.output');\n",
       "if (outputEl) {{\n",
       "    x.observe(outputEl, {childList: true});\n",
       "}}\n",
       "\n",
       "                        })\n",
       "                };\n",
       "                });\n",
       "            </script>\n",
       "        </div>"
      ]
     },
     "metadata": {},
     "output_type": "display_data"
    },
    {
     "data": {
      "application/vnd.plotly.v1+json": {
       "config": {
        "plotlyServerURL": "https://plotly.com"
       },
       "data": [
        {
         "marker": {
          "size": 10,
          "symbol": "circle"
         },
         "mode": "markers",
         "name": "counts RIVM",
         "type": "scatter",
         "x": [
          "2020-02-28T00:00:00",
          "2020-02-29T00:00:00",
          "2020-03-01T00:00:00",
          "2020-03-02T00:00:00",
          "2020-03-03T00:00:00",
          "2020-03-04T00:00:00",
          "2020-03-05T00:00:00",
          "2020-03-06T00:00:00",
          "2020-03-07T00:00:00",
          "2020-03-08T00:00:00",
          "2020-03-09T00:00:00",
          "2020-03-10T00:00:00",
          "2020-03-11T00:00:00",
          "2020-03-12T00:00:00",
          "2020-03-13T00:00:00",
          "2020-03-14T00:00:00",
          "2020-03-15T00:00:00",
          "2020-03-16T00:00:00",
          "2020-03-17T00:00:00",
          "2020-03-18T00:00:00",
          "2020-03-19T00:00:00",
          "2020-03-20T00:00:00",
          "2020-03-21T00:00:00",
          "2020-03-22T00:00:00",
          "2020-03-23T00:00:00",
          "2020-03-24T00:00:00",
          "2020-03-25T00:00:00",
          "2020-03-26T00:00:00",
          "2020-03-27T00:00:00",
          "2020-03-28T00:00:00",
          "2020-03-29T00:00:00",
          "2020-03-30T00:00:00",
          "2020-03-31T00:00:00",
          "2020-04-01T00:00:00",
          "2020-04-02T00:00:00",
          "2020-04-03T00:00:00",
          "2020-04-04T00:00:00",
          "2020-04-05T00:00:00",
          "2020-04-06T00:00:00",
          "2020-04-07T00:00:00",
          "2020-04-08T00:00:00",
          "2020-04-09T00:00:00",
          "2020-04-10T00:00:00",
          "2020-04-11T00:00:00",
          "2020-04-12T00:00:00",
          "2020-04-13T00:00:00",
          "2020-04-14T00:00:00",
          "2020-04-15T00:00:00",
          "2020-04-16T00:00:00",
          "2020-04-17T00:00:00",
          "2020-04-18T00:00:00",
          "2020-04-19T00:00:00",
          "2020-04-20T00:00:00"
         ],
         "y": [
          0,
          0,
          0,
          0,
          0,
          0,
          0,
          1,
          2,
          4,
          5,
          6,
          8,
          11,
          17,
          27,
          41,
          64,
          87,
          107,
          150,
          205,
          267,
          327,
          413,
          487,
          597,
          721,
          829,
          978,
          1097,
          1247,
          1412,
          1569,
          1734,
          1890,
          2049,
          2197,
          2351,
          2492,
          2632,
          2737,
          2873,
          3006,
          3135,
          3254,
          3377,
          3480,
          3586,
          3664,
          3715,
          3736,
          3737
         ]
        },
        {
         "mode": "lines",
         "name": "K=4000.00,beta=0.16, t_0=37.19",
         "type": "scatter",
         "x": [
          "2020-02-28T00:00:00",
          "2020-02-29T00:00:00",
          "2020-03-01T00:00:00",
          "2020-03-02T00:00:00",
          "2020-03-03T00:00:00",
          "2020-03-04T00:00:00",
          "2020-03-05T00:00:00",
          "2020-03-06T00:00:00",
          "2020-03-07T00:00:00",
          "2020-03-08T00:00:00",
          "2020-03-09T00:00:00",
          "2020-03-10T00:00:00",
          "2020-03-11T00:00:00",
          "2020-03-12T00:00:00",
          "2020-03-13T00:00:00",
          "2020-03-14T00:00:00",
          "2020-03-15T00:00:00",
          "2020-03-16T00:00:00",
          "2020-03-17T00:00:00",
          "2020-03-18T00:00:00",
          "2020-03-19T00:00:00",
          "2020-03-20T00:00:00",
          "2020-03-21T00:00:00",
          "2020-03-22T00:00:00",
          "2020-03-23T00:00:00",
          "2020-03-24T00:00:00",
          "2020-03-25T00:00:00",
          "2020-03-26T00:00:00",
          "2020-03-27T00:00:00",
          "2020-03-28T00:00:00",
          "2020-03-29T00:00:00",
          "2020-03-30T00:00:00",
          "2020-03-31T00:00:00",
          "2020-04-01T00:00:00",
          "2020-04-02T00:00:00",
          "2020-04-03T00:00:00",
          "2020-04-04T00:00:00",
          "2020-04-05T00:00:00",
          "2020-04-06T00:00:00",
          "2020-04-07T00:00:00",
          "2020-04-08T00:00:00",
          "2020-04-09T00:00:00",
          "2020-04-10T00:00:00",
          "2020-04-11T00:00:00",
          "2020-04-12T00:00:00",
          "2020-04-13T00:00:00",
          "2020-04-14T00:00:00",
          "2020-04-15T00:00:00",
          "2020-04-16T00:00:00",
          "2020-04-17T00:00:00",
          "2020-04-18T00:00:00",
          "2020-04-19T00:00:00",
          "2020-04-20T00:00:00",
          "2020-04-21T00:00:00",
          "2020-04-22T00:00:00",
          "2020-04-23T00:00:00",
          "2020-04-24T00:00:00",
          "2020-04-25T00:00:00",
          "2020-04-26T00:00:00",
          "2020-04-27T00:00:00"
         ],
         "y": [
          11.491647551069835,
          13.501115820472933,
          15.860569196890145,
          18.630433349371945,
          21.881365424861563,
          25.695910234390205,
          30.170395484663164,
          35.41708924496873,
          41.566640308083024,
          48.77081694161936,
          57.205550630567565,
          67.07427735118412,
          78.61154787937934,
          92.08684840190757,
          107.8085306530218,
          126.12769404628474,
          147.44178789069804,
          172.1976073256183,
          200.8932409507667,
          234.0783927641778,
          272.3523519553381,
          316.35873430352535,
          366.77599121280116,
          424.3026121802687,
          489.63598330730616,
          563.4440706500833,
          646.3295410599711,
          738.7866741462502,
          841.1524833140023,
          953.554811884711,
          1075.8616629695553,
          1207.637399745027,
          1348.112348903273,
          1496.1723429090046,
          1650.3735099283379,
          1808.9850538491467,
          1970.0591043494428,
          2131.52258720319,
          2291.2823653895725,
          2447.33254433281,
          2597.8524417522094,
          2741.2854005004297,
          2876.3919224255455,
          3002.274683727583,
          3118.376919644819,
          3224.458688406217,
          3320.557251351672,
          3406.9382282644333,
          3484.0435746778385,
          3552.44118129006,
          3612.7794087325706,
          3665.7484468939756,
          3712.0492093269436,
          3752.3696128171214,
          3787.3675440584334,
          3817.659529057566,
          3843.814029136323,
          3866.3483245120265,
          3885.7280577292768,
          3902.368654111458
         ]
        },
        {
         "marker": {
          "size": 10,
          "symbol": "square"
         },
         "mode": "markers",
         "name": "prediction",
         "type": "scatter",
         "x": [
          "2020-04-21T00:00:00",
          "2020-04-22T00:00:00",
          "2020-04-23T00:00:00",
          "2020-04-24T00:00:00",
          "2020-04-25T00:00:00",
          "2020-04-26T00:00:00",
          "2020-04-27T00:00:00"
         ],
         "y": [
          3787.3675440584334,
          3817.659529057566,
          3843.814029136323,
          3866.3483245120265,
          3885.7280577292768,
          3902.368654111458
         ]
        }
       ],
       "layout": {
        "font": {
         "size": 12
        },
        "legend": {
         "x": 0.05,
         "y": 0.95
        },
        "template": {
         "data": {
          "bar": [
           {
            "error_x": {
             "color": "#2a3f5f"
            },
            "error_y": {
             "color": "#2a3f5f"
            },
            "marker": {
             "line": {
              "color": "#E5ECF6",
              "width": 0.5
             }
            },
            "type": "bar"
           }
          ],
          "barpolar": [
           {
            "marker": {
             "line": {
              "color": "#E5ECF6",
              "width": 0.5
             }
            },
            "type": "barpolar"
           }
          ],
          "carpet": [
           {
            "aaxis": {
             "endlinecolor": "#2a3f5f",
             "gridcolor": "white",
             "linecolor": "white",
             "minorgridcolor": "white",
             "startlinecolor": "#2a3f5f"
            },
            "baxis": {
             "endlinecolor": "#2a3f5f",
             "gridcolor": "white",
             "linecolor": "white",
             "minorgridcolor": "white",
             "startlinecolor": "#2a3f5f"
            },
            "type": "carpet"
           }
          ],
          "choropleth": [
           {
            "colorbar": {
             "outlinewidth": 0,
             "ticks": ""
            },
            "type": "choropleth"
           }
          ],
          "contour": [
           {
            "colorbar": {
             "outlinewidth": 0,
             "ticks": ""
            },
            "colorscale": [
             [
              0,
              "#0d0887"
             ],
             [
              0.1111111111111111,
              "#46039f"
             ],
             [
              0.2222222222222222,
              "#7201a8"
             ],
             [
              0.3333333333333333,
              "#9c179e"
             ],
             [
              0.4444444444444444,
              "#bd3786"
             ],
             [
              0.5555555555555556,
              "#d8576b"
             ],
             [
              0.6666666666666666,
              "#ed7953"
             ],
             [
              0.7777777777777778,
              "#fb9f3a"
             ],
             [
              0.8888888888888888,
              "#fdca26"
             ],
             [
              1,
              "#f0f921"
             ]
            ],
            "type": "contour"
           }
          ],
          "contourcarpet": [
           {
            "colorbar": {
             "outlinewidth": 0,
             "ticks": ""
            },
            "type": "contourcarpet"
           }
          ],
          "heatmap": [
           {
            "colorbar": {
             "outlinewidth": 0,
             "ticks": ""
            },
            "colorscale": [
             [
              0,
              "#0d0887"
             ],
             [
              0.1111111111111111,
              "#46039f"
             ],
             [
              0.2222222222222222,
              "#7201a8"
             ],
             [
              0.3333333333333333,
              "#9c179e"
             ],
             [
              0.4444444444444444,
              "#bd3786"
             ],
             [
              0.5555555555555556,
              "#d8576b"
             ],
             [
              0.6666666666666666,
              "#ed7953"
             ],
             [
              0.7777777777777778,
              "#fb9f3a"
             ],
             [
              0.8888888888888888,
              "#fdca26"
             ],
             [
              1,
              "#f0f921"
             ]
            ],
            "type": "heatmap"
           }
          ],
          "heatmapgl": [
           {
            "colorbar": {
             "outlinewidth": 0,
             "ticks": ""
            },
            "colorscale": [
             [
              0,
              "#0d0887"
             ],
             [
              0.1111111111111111,
              "#46039f"
             ],
             [
              0.2222222222222222,
              "#7201a8"
             ],
             [
              0.3333333333333333,
              "#9c179e"
             ],
             [
              0.4444444444444444,
              "#bd3786"
             ],
             [
              0.5555555555555556,
              "#d8576b"
             ],
             [
              0.6666666666666666,
              "#ed7953"
             ],
             [
              0.7777777777777778,
              "#fb9f3a"
             ],
             [
              0.8888888888888888,
              "#fdca26"
             ],
             [
              1,
              "#f0f921"
             ]
            ],
            "type": "heatmapgl"
           }
          ],
          "histogram": [
           {
            "marker": {
             "colorbar": {
              "outlinewidth": 0,
              "ticks": ""
             }
            },
            "type": "histogram"
           }
          ],
          "histogram2d": [
           {
            "colorbar": {
             "outlinewidth": 0,
             "ticks": ""
            },
            "colorscale": [
             [
              0,
              "#0d0887"
             ],
             [
              0.1111111111111111,
              "#46039f"
             ],
             [
              0.2222222222222222,
              "#7201a8"
             ],
             [
              0.3333333333333333,
              "#9c179e"
             ],
             [
              0.4444444444444444,
              "#bd3786"
             ],
             [
              0.5555555555555556,
              "#d8576b"
             ],
             [
              0.6666666666666666,
              "#ed7953"
             ],
             [
              0.7777777777777778,
              "#fb9f3a"
             ],
             [
              0.8888888888888888,
              "#fdca26"
             ],
             [
              1,
              "#f0f921"
             ]
            ],
            "type": "histogram2d"
           }
          ],
          "histogram2dcontour": [
           {
            "colorbar": {
             "outlinewidth": 0,
             "ticks": ""
            },
            "colorscale": [
             [
              0,
              "#0d0887"
             ],
             [
              0.1111111111111111,
              "#46039f"
             ],
             [
              0.2222222222222222,
              "#7201a8"
             ],
             [
              0.3333333333333333,
              "#9c179e"
             ],
             [
              0.4444444444444444,
              "#bd3786"
             ],
             [
              0.5555555555555556,
              "#d8576b"
             ],
             [
              0.6666666666666666,
              "#ed7953"
             ],
             [
              0.7777777777777778,
              "#fb9f3a"
             ],
             [
              0.8888888888888888,
              "#fdca26"
             ],
             [
              1,
              "#f0f921"
             ]
            ],
            "type": "histogram2dcontour"
           }
          ],
          "mesh3d": [
           {
            "colorbar": {
             "outlinewidth": 0,
             "ticks": ""
            },
            "type": "mesh3d"
           }
          ],
          "parcoords": [
           {
            "line": {
             "colorbar": {
              "outlinewidth": 0,
              "ticks": ""
             }
            },
            "type": "parcoords"
           }
          ],
          "pie": [
           {
            "automargin": true,
            "type": "pie"
           }
          ],
          "scatter": [
           {
            "marker": {
             "colorbar": {
              "outlinewidth": 0,
              "ticks": ""
             }
            },
            "type": "scatter"
           }
          ],
          "scatter3d": [
           {
            "line": {
             "colorbar": {
              "outlinewidth": 0,
              "ticks": ""
             }
            },
            "marker": {
             "colorbar": {
              "outlinewidth": 0,
              "ticks": ""
             }
            },
            "type": "scatter3d"
           }
          ],
          "scattercarpet": [
           {
            "marker": {
             "colorbar": {
              "outlinewidth": 0,
              "ticks": ""
             }
            },
            "type": "scattercarpet"
           }
          ],
          "scattergeo": [
           {
            "marker": {
             "colorbar": {
              "outlinewidth": 0,
              "ticks": ""
             }
            },
            "type": "scattergeo"
           }
          ],
          "scattergl": [
           {
            "marker": {
             "colorbar": {
              "outlinewidth": 0,
              "ticks": ""
             }
            },
            "type": "scattergl"
           }
          ],
          "scattermapbox": [
           {
            "marker": {
             "colorbar": {
              "outlinewidth": 0,
              "ticks": ""
             }
            },
            "type": "scattermapbox"
           }
          ],
          "scatterpolar": [
           {
            "marker": {
             "colorbar": {
              "outlinewidth": 0,
              "ticks": ""
             }
            },
            "type": "scatterpolar"
           }
          ],
          "scatterpolargl": [
           {
            "marker": {
             "colorbar": {
              "outlinewidth": 0,
              "ticks": ""
             }
            },
            "type": "scatterpolargl"
           }
          ],
          "scatterternary": [
           {
            "marker": {
             "colorbar": {
              "outlinewidth": 0,
              "ticks": ""
             }
            },
            "type": "scatterternary"
           }
          ],
          "surface": [
           {
            "colorbar": {
             "outlinewidth": 0,
             "ticks": ""
            },
            "colorscale": [
             [
              0,
              "#0d0887"
             ],
             [
              0.1111111111111111,
              "#46039f"
             ],
             [
              0.2222222222222222,
              "#7201a8"
             ],
             [
              0.3333333333333333,
              "#9c179e"
             ],
             [
              0.4444444444444444,
              "#bd3786"
             ],
             [
              0.5555555555555556,
              "#d8576b"
             ],
             [
              0.6666666666666666,
              "#ed7953"
             ],
             [
              0.7777777777777778,
              "#fb9f3a"
             ],
             [
              0.8888888888888888,
              "#fdca26"
             ],
             [
              1,
              "#f0f921"
             ]
            ],
            "type": "surface"
           }
          ],
          "table": [
           {
            "cells": {
             "fill": {
              "color": "#EBF0F8"
             },
             "line": {
              "color": "white"
             }
            },
            "header": {
             "fill": {
              "color": "#C8D4E3"
             },
             "line": {
              "color": "white"
             }
            },
            "type": "table"
           }
          ]
         },
         "layout": {
          "annotationdefaults": {
           "arrowcolor": "#2a3f5f",
           "arrowhead": 0,
           "arrowwidth": 1
          },
          "coloraxis": {
           "colorbar": {
            "outlinewidth": 0,
            "ticks": ""
           }
          },
          "colorscale": {
           "diverging": [
            [
             0,
             "#8e0152"
            ],
            [
             0.1,
             "#c51b7d"
            ],
            [
             0.2,
             "#de77ae"
            ],
            [
             0.3,
             "#f1b6da"
            ],
            [
             0.4,
             "#fde0ef"
            ],
            [
             0.5,
             "#f7f7f7"
            ],
            [
             0.6,
             "#e6f5d0"
            ],
            [
             0.7,
             "#b8e186"
            ],
            [
             0.8,
             "#7fbc41"
            ],
            [
             0.9,
             "#4d9221"
            ],
            [
             1,
             "#276419"
            ]
           ],
           "sequential": [
            [
             0,
             "#0d0887"
            ],
            [
             0.1111111111111111,
             "#46039f"
            ],
            [
             0.2222222222222222,
             "#7201a8"
            ],
            [
             0.3333333333333333,
             "#9c179e"
            ],
            [
             0.4444444444444444,
             "#bd3786"
            ],
            [
             0.5555555555555556,
             "#d8576b"
            ],
            [
             0.6666666666666666,
             "#ed7953"
            ],
            [
             0.7777777777777778,
             "#fb9f3a"
            ],
            [
             0.8888888888888888,
             "#fdca26"
            ],
            [
             1,
             "#f0f921"
            ]
           ],
           "sequentialminus": [
            [
             0,
             "#0d0887"
            ],
            [
             0.1111111111111111,
             "#46039f"
            ],
            [
             0.2222222222222222,
             "#7201a8"
            ],
            [
             0.3333333333333333,
             "#9c179e"
            ],
            [
             0.4444444444444444,
             "#bd3786"
            ],
            [
             0.5555555555555556,
             "#d8576b"
            ],
            [
             0.6666666666666666,
             "#ed7953"
            ],
            [
             0.7777777777777778,
             "#fb9f3a"
            ],
            [
             0.8888888888888888,
             "#fdca26"
            ],
            [
             1,
             "#f0f921"
            ]
           ]
          },
          "colorway": [
           "#636efa",
           "#EF553B",
           "#00cc96",
           "#ab63fa",
           "#FFA15A",
           "#19d3f3",
           "#FF6692",
           "#B6E880",
           "#FF97FF",
           "#FECB52"
          ],
          "font": {
           "color": "#2a3f5f"
          },
          "geo": {
           "bgcolor": "white",
           "lakecolor": "white",
           "landcolor": "#E5ECF6",
           "showlakes": true,
           "showland": true,
           "subunitcolor": "white"
          },
          "hoverlabel": {
           "align": "left"
          },
          "hovermode": "closest",
          "mapbox": {
           "style": "light"
          },
          "paper_bgcolor": "white",
          "plot_bgcolor": "#E5ECF6",
          "polar": {
           "angularaxis": {
            "gridcolor": "white",
            "linecolor": "white",
            "ticks": ""
           },
           "bgcolor": "#E5ECF6",
           "radialaxis": {
            "gridcolor": "white",
            "linecolor": "white",
            "ticks": ""
           }
          },
          "scene": {
           "xaxis": {
            "backgroundcolor": "#E5ECF6",
            "gridcolor": "white",
            "gridwidth": 2,
            "linecolor": "white",
            "showbackground": true,
            "ticks": "",
            "zerolinecolor": "white"
           },
           "yaxis": {
            "backgroundcolor": "#E5ECF6",
            "gridcolor": "white",
            "gridwidth": 2,
            "linecolor": "white",
            "showbackground": true,
            "ticks": "",
            "zerolinecolor": "white"
           },
           "zaxis": {
            "backgroundcolor": "#E5ECF6",
            "gridcolor": "white",
            "gridwidth": 2,
            "linecolor": "white",
            "showbackground": true,
            "ticks": "",
            "zerolinecolor": "white"
           }
          },
          "shapedefaults": {
           "line": {
            "color": "#2a3f5f"
           }
          },
          "ternary": {
           "aaxis": {
            "gridcolor": "white",
            "linecolor": "white",
            "ticks": ""
           },
           "baxis": {
            "gridcolor": "white",
            "linecolor": "white",
            "ticks": ""
           },
           "bgcolor": "#E5ECF6",
           "caxis": {
            "gridcolor": "white",
            "linecolor": "white",
            "ticks": ""
           }
          },
          "title": {
           "x": 0.05
          },
          "xaxis": {
           "automargin": true,
           "gridcolor": "white",
           "linecolor": "white",
           "ticks": "",
           "title": {
            "standoff": 15
           },
           "zerolinecolor": "white",
           "zerolinewidth": 2
          },
          "yaxis": {
           "automargin": true,
           "gridcolor": "white",
           "linecolor": "white",
           "ticks": "",
           "title": {
            "standoff": 15
           },
           "zerolinecolor": "white",
           "zerolinewidth": 2
          }
         }
        },
        "title": {
         "text": "Cummulative deaths",
         "x": 0.5,
         "xanchor": "center"
        },
        "xaxis": {
         "title": {
          "text": "Date"
         }
        },
        "yaxis": {
         "title": {
          "text": "# deaths"
         }
        }
       }
      },
      "text/html": [
       "<div>\n",
       "        \n",
       "        \n",
       "            <div id=\"5d492b72-8c26-49f7-98cb-67f42478c695\" class=\"plotly-graph-div\" style=\"height:525px; width:100%;\"></div>\n",
       "            <script type=\"text/javascript\">\n",
       "                require([\"plotly\"], function(Plotly) {\n",
       "                    window.PLOTLYENV=window.PLOTLYENV || {};\n",
       "                    \n",
       "                if (document.getElementById(\"5d492b72-8c26-49f7-98cb-67f42478c695\")) {\n",
       "                    Plotly.newPlot(\n",
       "                        '5d492b72-8c26-49f7-98cb-67f42478c695',\n",
       "                        [{\"marker\": {\"size\": 10, \"symbol\": \"circle\"}, \"mode\": \"markers\", \"name\": \"counts RIVM\", \"type\": \"scatter\", \"x\": [\"2020-02-28T00:00:00\", \"2020-02-29T00:00:00\", \"2020-03-01T00:00:00\", \"2020-03-02T00:00:00\", \"2020-03-03T00:00:00\", \"2020-03-04T00:00:00\", \"2020-03-05T00:00:00\", \"2020-03-06T00:00:00\", \"2020-03-07T00:00:00\", \"2020-03-08T00:00:00\", \"2020-03-09T00:00:00\", \"2020-03-10T00:00:00\", \"2020-03-11T00:00:00\", \"2020-03-12T00:00:00\", \"2020-03-13T00:00:00\", \"2020-03-14T00:00:00\", \"2020-03-15T00:00:00\", \"2020-03-16T00:00:00\", \"2020-03-17T00:00:00\", \"2020-03-18T00:00:00\", \"2020-03-19T00:00:00\", \"2020-03-20T00:00:00\", \"2020-03-21T00:00:00\", \"2020-03-22T00:00:00\", \"2020-03-23T00:00:00\", \"2020-03-24T00:00:00\", \"2020-03-25T00:00:00\", \"2020-03-26T00:00:00\", \"2020-03-27T00:00:00\", \"2020-03-28T00:00:00\", \"2020-03-29T00:00:00\", \"2020-03-30T00:00:00\", \"2020-03-31T00:00:00\", \"2020-04-01T00:00:00\", \"2020-04-02T00:00:00\", \"2020-04-03T00:00:00\", \"2020-04-04T00:00:00\", \"2020-04-05T00:00:00\", \"2020-04-06T00:00:00\", \"2020-04-07T00:00:00\", \"2020-04-08T00:00:00\", \"2020-04-09T00:00:00\", \"2020-04-10T00:00:00\", \"2020-04-11T00:00:00\", \"2020-04-12T00:00:00\", \"2020-04-13T00:00:00\", \"2020-04-14T00:00:00\", \"2020-04-15T00:00:00\", \"2020-04-16T00:00:00\", \"2020-04-17T00:00:00\", \"2020-04-18T00:00:00\", \"2020-04-19T00:00:00\", \"2020-04-20T00:00:00\"], \"y\": [0, 0, 0, 0, 0, 0, 0, 1, 2, 4, 5, 6, 8, 11, 17, 27, 41, 64, 87, 107, 150, 205, 267, 327, 413, 487, 597, 721, 829, 978, 1097, 1247, 1412, 1569, 1734, 1890, 2049, 2197, 2351, 2492, 2632, 2737, 2873, 3006, 3135, 3254, 3377, 3480, 3586, 3664, 3715, 3736, 3737]}, {\"mode\": \"lines\", \"name\": \"K=4000.00,beta=0.16, t_0=37.19\", \"type\": \"scatter\", \"x\": [\"2020-02-28T00:00:00\", \"2020-02-29T00:00:00\", \"2020-03-01T00:00:00\", \"2020-03-02T00:00:00\", \"2020-03-03T00:00:00\", \"2020-03-04T00:00:00\", \"2020-03-05T00:00:00\", \"2020-03-06T00:00:00\", \"2020-03-07T00:00:00\", \"2020-03-08T00:00:00\", \"2020-03-09T00:00:00\", \"2020-03-10T00:00:00\", \"2020-03-11T00:00:00\", \"2020-03-12T00:00:00\", \"2020-03-13T00:00:00\", \"2020-03-14T00:00:00\", \"2020-03-15T00:00:00\", \"2020-03-16T00:00:00\", \"2020-03-17T00:00:00\", \"2020-03-18T00:00:00\", \"2020-03-19T00:00:00\", \"2020-03-20T00:00:00\", \"2020-03-21T00:00:00\", \"2020-03-22T00:00:00\", \"2020-03-23T00:00:00\", \"2020-03-24T00:00:00\", \"2020-03-25T00:00:00\", \"2020-03-26T00:00:00\", \"2020-03-27T00:00:00\", \"2020-03-28T00:00:00\", \"2020-03-29T00:00:00\", \"2020-03-30T00:00:00\", \"2020-03-31T00:00:00\", \"2020-04-01T00:00:00\", \"2020-04-02T00:00:00\", \"2020-04-03T00:00:00\", \"2020-04-04T00:00:00\", \"2020-04-05T00:00:00\", \"2020-04-06T00:00:00\", \"2020-04-07T00:00:00\", \"2020-04-08T00:00:00\", \"2020-04-09T00:00:00\", \"2020-04-10T00:00:00\", \"2020-04-11T00:00:00\", \"2020-04-12T00:00:00\", \"2020-04-13T00:00:00\", \"2020-04-14T00:00:00\", \"2020-04-15T00:00:00\", \"2020-04-16T00:00:00\", \"2020-04-17T00:00:00\", \"2020-04-18T00:00:00\", \"2020-04-19T00:00:00\", \"2020-04-20T00:00:00\", \"2020-04-21T00:00:00\", \"2020-04-22T00:00:00\", \"2020-04-23T00:00:00\", \"2020-04-24T00:00:00\", \"2020-04-25T00:00:00\", \"2020-04-26T00:00:00\", \"2020-04-27T00:00:00\"], \"y\": [11.491647551069835, 13.501115820472933, 15.860569196890145, 18.630433349371945, 21.881365424861563, 25.695910234390205, 30.170395484663164, 35.41708924496873, 41.566640308083024, 48.77081694161936, 57.205550630567565, 67.07427735118412, 78.61154787937934, 92.08684840190757, 107.8085306530218, 126.12769404628474, 147.44178789069804, 172.1976073256183, 200.8932409507667, 234.0783927641778, 272.3523519553381, 316.35873430352535, 366.77599121280116, 424.3026121802687, 489.63598330730616, 563.4440706500833, 646.3295410599711, 738.7866741462502, 841.1524833140023, 953.554811884711, 1075.8616629695553, 1207.637399745027, 1348.112348903273, 1496.1723429090046, 1650.3735099283379, 1808.9850538491467, 1970.0591043494428, 2131.52258720319, 2291.2823653895725, 2447.33254433281, 2597.8524417522094, 2741.2854005004297, 2876.3919224255455, 3002.274683727583, 3118.376919644819, 3224.458688406217, 3320.557251351672, 3406.9382282644333, 3484.0435746778385, 3552.44118129006, 3612.7794087325706, 3665.7484468939756, 3712.0492093269436, 3752.3696128171214, 3787.3675440584334, 3817.659529057566, 3843.814029136323, 3866.3483245120265, 3885.7280577292768, 3902.368654111458]}, {\"marker\": {\"size\": 10, \"symbol\": \"square\"}, \"mode\": \"markers\", \"name\": \"prediction\", \"type\": \"scatter\", \"x\": [\"2020-04-21T00:00:00\", \"2020-04-22T00:00:00\", \"2020-04-23T00:00:00\", \"2020-04-24T00:00:00\", \"2020-04-25T00:00:00\", \"2020-04-26T00:00:00\", \"2020-04-27T00:00:00\"], \"y\": [3787.3675440584334, 3817.659529057566, 3843.814029136323, 3866.3483245120265, 3885.7280577292768, 3902.368654111458]}],\n",
       "                        {\"font\": {\"size\": 12}, \"legend\": {\"x\": 0.05, \"y\": 0.95}, \"template\": {\"data\": {\"bar\": [{\"error_x\": {\"color\": \"#2a3f5f\"}, \"error_y\": {\"color\": \"#2a3f5f\"}, \"marker\": {\"line\": {\"color\": \"#E5ECF6\", \"width\": 0.5}}, \"type\": \"bar\"}], \"barpolar\": [{\"marker\": {\"line\": {\"color\": \"#E5ECF6\", \"width\": 0.5}}, \"type\": \"barpolar\"}], \"carpet\": [{\"aaxis\": {\"endlinecolor\": \"#2a3f5f\", \"gridcolor\": \"white\", \"linecolor\": \"white\", \"minorgridcolor\": \"white\", \"startlinecolor\": \"#2a3f5f\"}, \"baxis\": {\"endlinecolor\": \"#2a3f5f\", \"gridcolor\": \"white\", \"linecolor\": \"white\", \"minorgridcolor\": \"white\", \"startlinecolor\": \"#2a3f5f\"}, \"type\": \"carpet\"}], \"choropleth\": [{\"colorbar\": {\"outlinewidth\": 0, \"ticks\": \"\"}, \"type\": \"choropleth\"}], \"contour\": [{\"colorbar\": {\"outlinewidth\": 0, \"ticks\": \"\"}, \"colorscale\": [[0.0, \"#0d0887\"], [0.1111111111111111, \"#46039f\"], [0.2222222222222222, \"#7201a8\"], [0.3333333333333333, \"#9c179e\"], [0.4444444444444444, \"#bd3786\"], [0.5555555555555556, \"#d8576b\"], [0.6666666666666666, \"#ed7953\"], [0.7777777777777778, \"#fb9f3a\"], [0.8888888888888888, \"#fdca26\"], [1.0, \"#f0f921\"]], \"type\": \"contour\"}], \"contourcarpet\": [{\"colorbar\": {\"outlinewidth\": 0, \"ticks\": \"\"}, \"type\": \"contourcarpet\"}], \"heatmap\": [{\"colorbar\": {\"outlinewidth\": 0, \"ticks\": \"\"}, \"colorscale\": [[0.0, \"#0d0887\"], [0.1111111111111111, \"#46039f\"], [0.2222222222222222, \"#7201a8\"], [0.3333333333333333, \"#9c179e\"], [0.4444444444444444, \"#bd3786\"], [0.5555555555555556, \"#d8576b\"], [0.6666666666666666, \"#ed7953\"], [0.7777777777777778, \"#fb9f3a\"], [0.8888888888888888, \"#fdca26\"], [1.0, \"#f0f921\"]], \"type\": \"heatmap\"}], \"heatmapgl\": [{\"colorbar\": {\"outlinewidth\": 0, \"ticks\": \"\"}, \"colorscale\": [[0.0, \"#0d0887\"], [0.1111111111111111, \"#46039f\"], [0.2222222222222222, \"#7201a8\"], [0.3333333333333333, \"#9c179e\"], [0.4444444444444444, \"#bd3786\"], [0.5555555555555556, \"#d8576b\"], [0.6666666666666666, \"#ed7953\"], [0.7777777777777778, \"#fb9f3a\"], [0.8888888888888888, \"#fdca26\"], [1.0, \"#f0f921\"]], \"type\": \"heatmapgl\"}], \"histogram\": [{\"marker\": {\"colorbar\": {\"outlinewidth\": 0, \"ticks\": \"\"}}, \"type\": \"histogram\"}], \"histogram2d\": [{\"colorbar\": {\"outlinewidth\": 0, \"ticks\": \"\"}, \"colorscale\": [[0.0, \"#0d0887\"], [0.1111111111111111, \"#46039f\"], [0.2222222222222222, \"#7201a8\"], [0.3333333333333333, \"#9c179e\"], [0.4444444444444444, \"#bd3786\"], [0.5555555555555556, \"#d8576b\"], [0.6666666666666666, \"#ed7953\"], [0.7777777777777778, \"#fb9f3a\"], [0.8888888888888888, \"#fdca26\"], [1.0, \"#f0f921\"]], \"type\": \"histogram2d\"}], \"histogram2dcontour\": [{\"colorbar\": {\"outlinewidth\": 0, \"ticks\": \"\"}, \"colorscale\": [[0.0, \"#0d0887\"], [0.1111111111111111, \"#46039f\"], [0.2222222222222222, \"#7201a8\"], [0.3333333333333333, \"#9c179e\"], [0.4444444444444444, \"#bd3786\"], [0.5555555555555556, \"#d8576b\"], [0.6666666666666666, \"#ed7953\"], [0.7777777777777778, \"#fb9f3a\"], [0.8888888888888888, \"#fdca26\"], [1.0, \"#f0f921\"]], \"type\": \"histogram2dcontour\"}], \"mesh3d\": [{\"colorbar\": {\"outlinewidth\": 0, \"ticks\": \"\"}, \"type\": \"mesh3d\"}], \"parcoords\": [{\"line\": {\"colorbar\": {\"outlinewidth\": 0, \"ticks\": \"\"}}, \"type\": \"parcoords\"}], \"pie\": [{\"automargin\": true, \"type\": \"pie\"}], \"scatter\": [{\"marker\": {\"colorbar\": {\"outlinewidth\": 0, \"ticks\": \"\"}}, \"type\": \"scatter\"}], \"scatter3d\": [{\"line\": {\"colorbar\": {\"outlinewidth\": 0, \"ticks\": \"\"}}, \"marker\": {\"colorbar\": {\"outlinewidth\": 0, \"ticks\": \"\"}}, \"type\": \"scatter3d\"}], \"scattercarpet\": [{\"marker\": {\"colorbar\": {\"outlinewidth\": 0, \"ticks\": \"\"}}, \"type\": \"scattercarpet\"}], \"scattergeo\": [{\"marker\": {\"colorbar\": {\"outlinewidth\": 0, \"ticks\": \"\"}}, \"type\": \"scattergeo\"}], \"scattergl\": [{\"marker\": {\"colorbar\": {\"outlinewidth\": 0, \"ticks\": \"\"}}, \"type\": \"scattergl\"}], \"scattermapbox\": [{\"marker\": {\"colorbar\": {\"outlinewidth\": 0, \"ticks\": \"\"}}, \"type\": \"scattermapbox\"}], \"scatterpolar\": [{\"marker\": {\"colorbar\": {\"outlinewidth\": 0, \"ticks\": \"\"}}, \"type\": \"scatterpolar\"}], \"scatterpolargl\": [{\"marker\": {\"colorbar\": {\"outlinewidth\": 0, \"ticks\": \"\"}}, \"type\": \"scatterpolargl\"}], \"scatterternary\": [{\"marker\": {\"colorbar\": {\"outlinewidth\": 0, \"ticks\": \"\"}}, \"type\": \"scatterternary\"}], \"surface\": [{\"colorbar\": {\"outlinewidth\": 0, \"ticks\": \"\"}, \"colorscale\": [[0.0, \"#0d0887\"], [0.1111111111111111, \"#46039f\"], [0.2222222222222222, \"#7201a8\"], [0.3333333333333333, \"#9c179e\"], [0.4444444444444444, \"#bd3786\"], [0.5555555555555556, \"#d8576b\"], [0.6666666666666666, \"#ed7953\"], [0.7777777777777778, \"#fb9f3a\"], [0.8888888888888888, \"#fdca26\"], [1.0, \"#f0f921\"]], \"type\": \"surface\"}], \"table\": [{\"cells\": {\"fill\": {\"color\": \"#EBF0F8\"}, \"line\": {\"color\": \"white\"}}, \"header\": {\"fill\": {\"color\": \"#C8D4E3\"}, \"line\": {\"color\": \"white\"}}, \"type\": \"table\"}]}, \"layout\": {\"annotationdefaults\": {\"arrowcolor\": \"#2a3f5f\", \"arrowhead\": 0, \"arrowwidth\": 1}, \"coloraxis\": {\"colorbar\": {\"outlinewidth\": 0, \"ticks\": \"\"}}, \"colorscale\": {\"diverging\": [[0, \"#8e0152\"], [0.1, \"#c51b7d\"], [0.2, \"#de77ae\"], [0.3, \"#f1b6da\"], [0.4, \"#fde0ef\"], [0.5, \"#f7f7f7\"], [0.6, \"#e6f5d0\"], [0.7, \"#b8e186\"], [0.8, \"#7fbc41\"], [0.9, \"#4d9221\"], [1, \"#276419\"]], \"sequential\": [[0.0, \"#0d0887\"], [0.1111111111111111, \"#46039f\"], [0.2222222222222222, \"#7201a8\"], [0.3333333333333333, \"#9c179e\"], [0.4444444444444444, \"#bd3786\"], [0.5555555555555556, \"#d8576b\"], [0.6666666666666666, \"#ed7953\"], [0.7777777777777778, \"#fb9f3a\"], [0.8888888888888888, \"#fdca26\"], [1.0, \"#f0f921\"]], \"sequentialminus\": [[0.0, \"#0d0887\"], [0.1111111111111111, \"#46039f\"], [0.2222222222222222, \"#7201a8\"], [0.3333333333333333, \"#9c179e\"], [0.4444444444444444, \"#bd3786\"], [0.5555555555555556, \"#d8576b\"], [0.6666666666666666, \"#ed7953\"], [0.7777777777777778, \"#fb9f3a\"], [0.8888888888888888, \"#fdca26\"], [1.0, \"#f0f921\"]]}, \"colorway\": [\"#636efa\", \"#EF553B\", \"#00cc96\", \"#ab63fa\", \"#FFA15A\", \"#19d3f3\", \"#FF6692\", \"#B6E880\", \"#FF97FF\", \"#FECB52\"], \"font\": {\"color\": \"#2a3f5f\"}, \"geo\": {\"bgcolor\": \"white\", \"lakecolor\": \"white\", \"landcolor\": \"#E5ECF6\", \"showlakes\": true, \"showland\": true, \"subunitcolor\": \"white\"}, \"hoverlabel\": {\"align\": \"left\"}, \"hovermode\": \"closest\", \"mapbox\": {\"style\": \"light\"}, \"paper_bgcolor\": \"white\", \"plot_bgcolor\": \"#E5ECF6\", \"polar\": {\"angularaxis\": {\"gridcolor\": \"white\", \"linecolor\": \"white\", \"ticks\": \"\"}, \"bgcolor\": \"#E5ECF6\", \"radialaxis\": {\"gridcolor\": \"white\", \"linecolor\": \"white\", \"ticks\": \"\"}}, \"scene\": {\"xaxis\": {\"backgroundcolor\": \"#E5ECF6\", \"gridcolor\": \"white\", \"gridwidth\": 2, \"linecolor\": \"white\", \"showbackground\": true, \"ticks\": \"\", \"zerolinecolor\": \"white\"}, \"yaxis\": {\"backgroundcolor\": \"#E5ECF6\", \"gridcolor\": \"white\", \"gridwidth\": 2, \"linecolor\": \"white\", \"showbackground\": true, \"ticks\": \"\", \"zerolinecolor\": \"white\"}, \"zaxis\": {\"backgroundcolor\": \"#E5ECF6\", \"gridcolor\": \"white\", \"gridwidth\": 2, \"linecolor\": \"white\", \"showbackground\": true, \"ticks\": \"\", \"zerolinecolor\": \"white\"}}, \"shapedefaults\": {\"line\": {\"color\": \"#2a3f5f\"}}, \"ternary\": {\"aaxis\": {\"gridcolor\": \"white\", \"linecolor\": \"white\", \"ticks\": \"\"}, \"baxis\": {\"gridcolor\": \"white\", \"linecolor\": \"white\", \"ticks\": \"\"}, \"bgcolor\": \"#E5ECF6\", \"caxis\": {\"gridcolor\": \"white\", \"linecolor\": \"white\", \"ticks\": \"\"}}, \"title\": {\"x\": 0.05}, \"xaxis\": {\"automargin\": true, \"gridcolor\": \"white\", \"linecolor\": \"white\", \"ticks\": \"\", \"title\": {\"standoff\": 15}, \"zerolinecolor\": \"white\", \"zerolinewidth\": 2}, \"yaxis\": {\"automargin\": true, \"gridcolor\": \"white\", \"linecolor\": \"white\", \"ticks\": \"\", \"title\": {\"standoff\": 15}, \"zerolinecolor\": \"white\", \"zerolinewidth\": 2}}}, \"title\": {\"text\": \"Cummulative deaths\", \"x\": 0.5, \"xanchor\": \"center\"}, \"xaxis\": {\"title\": {\"text\": \"Date\"}}, \"yaxis\": {\"title\": {\"text\": \"# deaths\"}}},\n",
       "                        {\"responsive\": true}\n",
       "                    ).then(function(){\n",
       "                            \n",
       "var gd = document.getElementById('5d492b72-8c26-49f7-98cb-67f42478c695');\n",
       "var x = new MutationObserver(function (mutations, observer) {{\n",
       "        var display = window.getComputedStyle(gd).display;\n",
       "        if (!display || display === 'none') {{\n",
       "            console.log([gd, 'removed!']);\n",
       "            Plotly.purge(gd);\n",
       "            observer.disconnect();\n",
       "        }}\n",
       "}});\n",
       "\n",
       "// Listen for the removal of the full notebook cells\n",
       "var notebookContainer = gd.closest('#notebook-container');\n",
       "if (notebookContainer) {{\n",
       "    x.observe(notebookContainer, {childList: true});\n",
       "}}\n",
       "\n",
       "// Listen for the clearing of the current output cell\n",
       "var outputEl = gd.closest('.output');\n",
       "if (outputEl) {{\n",
       "    x.observe(outputEl, {childList: true});\n",
       "}}\n",
       "\n",
       "                        })\n",
       "                };\n",
       "                });\n",
       "            </script>\n",
       "        </div>"
      ]
     },
     "metadata": {},
     "output_type": "display_data"
    }
   ],
   "source": [
    "from lmfit import Model\n",
    "from lmfit import Parameters\n",
    "\n",
    "upload_plots=False\n",
    "upload_plots=True\n",
    "\n",
    "def expand_date(lastdate,n=7):\n",
    "    lastdate_object = lastdate\n",
    "    d=[]\n",
    "    for i in range(n):\n",
    "        nd=lastdate_object+timedelta(days=i+1)\n",
    "        #d.append(nd.strftime(\"%m/%d/%y\"))\n",
    "        d.append(nd)\n",
    "    return d\n",
    "\n",
    "def expand_pd_date(lastdate,n=7):\n",
    "    lastdate_object = lastdate\n",
    "    d=[]\n",
    "    for i in range(n):\n",
    "        nd=lastdate_object+timedelta(days=i+1)\n",
    "        #d.append(nd.strftime(\"%m/%d/%y\"))\n",
    "        d.append(pd.Timestamp(nd))\n",
    "    return d\n",
    "\n",
    "\n",
    "def ef(x,L,tau):\n",
    "    return L*np.power(2,x/tau)\n",
    "\n",
    "def logistic(x,M,alpha,beta):\n",
    "    return M/(1+np.exp(-beta*(x-alpha)))\n",
    "\n",
    "def dif_log(x,M,alpha,beta):\n",
    "    return beta*M*np.exp(-beta*(x-alpha))/np.power((1+np.exp(-beta*(x-alpha))),2)\n",
    "\n",
    "y=df_deaths['oud']+df_deaths['nieuw']\n",
    "dates=df_deaths['date']\n",
    "#y=np.array(qq['number']).astype(float)\n",
    "l=len(y)\n",
    "x=np.arange(0, l,1, float)\n",
    "gmodel = Model(dif_log)\n",
    "#params = gmodel.make_params(M=30000,alfa=65,beta=0.2)\n",
    "params = Parameters()\n",
    "params.add('M', value=1000, min=500,max=4000)\n",
    "params.add('alpha', value=20,min=10,max=80)\n",
    "params.add('beta', value=0.2, min=0.05,max=0.95)\n",
    "\n",
    "\n",
    "expmodel=Model(ef)\n",
    "eparams = Parameters()\n",
    "eparams.add('L', value=2000)\n",
    "eparams.add('tau', value=2)\n",
    "\n",
    "\n",
    "eresult = expmodel.fit(df_deaths['totaal'][:30], eparams,x=x[:30])\n",
    "\n",
    "x_start_fit=1\n",
    "x_start_plot=1\n",
    "print(x_start_fit)\n",
    "print('parameter names: {}'.format(gmodel.param_names))\n",
    "print('independent variables: {}'.format(gmodel.independent_vars))\n",
    "result = gmodel.fit(y[x_start_fit:-2], params,x=x[x_start_fit:-2])\n",
    "\n",
    "# %matplotlib notebook\n",
    "\n",
    "# ax,_=result.plot()\n",
    "# plt.yscale('log')\n",
    "# result\n",
    "#dates=qq['date']\n",
    "xdate=dates[x_start_fit:]\n",
    "yf= gmodel.eval(result.params, x=x[x_start_fit:])\n",
    "#x=qq['date']\n",
    "dt=xdate.iloc[-1].to_pydatetime()\n",
    "xdate_extra=expand_date(dt)\n",
    "l=len(xdate_extra)\n",
    "x_extra=np.arange(x[-1]+1, x[-1]+l,1, float)\n",
    "\n",
    "M=beta=result.params['M'].value\n",
    "alpha=result.params['alpha'].value\n",
    "beta=result.params['beta'].value\n",
    "\n",
    "\n",
    "fig = go.Figure()\n",
    "fig.add_trace(go.Bar(x=dates, y=df_deaths['oud'],name=\"tot en met gisteren\"))\n",
    "fig.add_trace(go.Bar(x=dates, y=df_deaths['nieuw'],name='nieuw'))\n",
    "\n",
    "#                          mode='markers',\n",
    "#                          name='counts RIVM',\n",
    "#                          marker_size=10,\n",
    "#                          marker_symbol='circle'))\n",
    "fig.add_trace(go.Scatter(x=xdate, y=dif_log(x+1,M,alpha,beta),\n",
    "                         mode='lines',\n",
    "                         name=r'K=%.2f,beta=%.2f, t_0=%.2f'%\\\n",
    "                         (result.params['M'].value,result.params['beta'].value,result.params['alpha'].value)))\n",
    "\n",
    "title=\"Deaths per day\"\n",
    "yaxis_title=\"# deaths/day\"\n",
    "\n",
    "fig.update_layout(#yaxis_type=\"log\",\n",
    "                  title=title,\n",
    "                  title_xanchor=\"center\",\n",
    "                  title_x=0.5,\n",
    "                  xaxis_title=\"Date\",\n",
    "                  yaxis_title=yaxis_title,\n",
    "                  legend_x=0.05,\n",
    "                  legend_y=0.95,\n",
    "                  font_size=12,\n",
    "                    barmode='stack'\n",
    ")\n",
    "\n",
    "filename=\"corona_death_logistic_increase\"\n",
    "if upload_plots:\n",
    "    py.plot(fig, filename = filename, auto_open=True)\n",
    "fig.show()\n",
    "\n",
    "fig = go.Figure()\n",
    "fig.add_trace(go.Scatter(x=dates[x_start_plot:], y=df_deaths['totaal'][x_start_plot:],\n",
    "                         mode='markers',\n",
    "                         name='counts RIVM',\n",
    "                         marker_size=10,\n",
    "                         marker_symbol='circle'))\n",
    "fig.add_trace(go.Scatter(x=np.concatenate((xdate.dt.to_pydatetime(),xdate_extra)), y=logistic(np.concatenate((x+1,x_extra+1)),M,alpha,beta),\n",
    "                         mode='lines',\n",
    "                         name=r'K=%.2f,beta=%.2f, t_0=%.2f'%\\\n",
    "                         (result.params['M'].value,result.params['beta'].value,result.params['alpha'].value)))\n",
    "fig.add_trace(go.Scatter(x=xdate_extra, y=logistic(x_extra+1,M,alpha,beta),\n",
    "                         mode='markers',\n",
    "                         name='prediction',\n",
    "                        marker_size=10,\n",
    "                         marker_symbol='square'))\n",
    "\n",
    "title=\"Cummulative deaths\"\n",
    "yaxis_title=\"# deaths\"\n",
    "\n",
    "fig.update_layout(#yaxis_type=\"log\",\n",
    "                  title=title,\n",
    "                  title_xanchor=\"center\",\n",
    "                  title_x=0.5,\n",
    "                  xaxis_title=\"Date\",\n",
    "                  yaxis_title=yaxis_title,\n",
    "                  legend_x=0.05,\n",
    "                  legend_y=0.95,\n",
    "                  font_size=12)\n",
    "\n",
    "filename=\"corona_death_logistic\"\n",
    "if upload_plots:\n",
    "    py.plot(fig, filename = filename, auto_open=True)\n",
    "fig.show()"
   ]
  },
  {
   "cell_type": "code",
   "execution_count": 6,
   "metadata": {
    "scrolled": false
   },
   "outputs": [
    {
     "data": {
      "application/javascript": [
       "/* Put everything inside the global mpl namespace */\n",
       "window.mpl = {};\n",
       "\n",
       "\n",
       "mpl.get_websocket_type = function() {\n",
       "    if (typeof(WebSocket) !== 'undefined') {\n",
       "        return WebSocket;\n",
       "    } else if (typeof(MozWebSocket) !== 'undefined') {\n",
       "        return MozWebSocket;\n",
       "    } else {\n",
       "        alert('Your browser does not have WebSocket support.' +\n",
       "              'Please try Chrome, Safari or Firefox ≥ 6. ' +\n",
       "              'Firefox 4 and 5 are also supported but you ' +\n",
       "              'have to enable WebSockets in about:config.');\n",
       "    };\n",
       "}\n",
       "\n",
       "mpl.figure = function(figure_id, websocket, ondownload, parent_element) {\n",
       "    this.id = figure_id;\n",
       "\n",
       "    this.ws = websocket;\n",
       "\n",
       "    this.supports_binary = (this.ws.binaryType != undefined);\n",
       "\n",
       "    if (!this.supports_binary) {\n",
       "        var warnings = document.getElementById(\"mpl-warnings\");\n",
       "        if (warnings) {\n",
       "            warnings.style.display = 'block';\n",
       "            warnings.textContent = (\n",
       "                \"This browser does not support binary websocket messages. \" +\n",
       "                    \"Performance may be slow.\");\n",
       "        }\n",
       "    }\n",
       "\n",
       "    this.imageObj = new Image();\n",
       "\n",
       "    this.context = undefined;\n",
       "    this.message = undefined;\n",
       "    this.canvas = undefined;\n",
       "    this.rubberband_canvas = undefined;\n",
       "    this.rubberband_context = undefined;\n",
       "    this.format_dropdown = undefined;\n",
       "\n",
       "    this.image_mode = 'full';\n",
       "\n",
       "    this.root = $('<div/>');\n",
       "    this._root_extra_style(this.root)\n",
       "    this.root.attr('style', 'display: inline-block');\n",
       "\n",
       "    $(parent_element).append(this.root);\n",
       "\n",
       "    this._init_header(this);\n",
       "    this._init_canvas(this);\n",
       "    this._init_toolbar(this);\n",
       "\n",
       "    var fig = this;\n",
       "\n",
       "    this.waiting = false;\n",
       "\n",
       "    this.ws.onopen =  function () {\n",
       "            fig.send_message(\"supports_binary\", {value: fig.supports_binary});\n",
       "            fig.send_message(\"send_image_mode\", {});\n",
       "            if (mpl.ratio != 1) {\n",
       "                fig.send_message(\"set_dpi_ratio\", {'dpi_ratio': mpl.ratio});\n",
       "            }\n",
       "            fig.send_message(\"refresh\", {});\n",
       "        }\n",
       "\n",
       "    this.imageObj.onload = function() {\n",
       "            if (fig.image_mode == 'full') {\n",
       "                // Full images could contain transparency (where diff images\n",
       "                // almost always do), so we need to clear the canvas so that\n",
       "                // there is no ghosting.\n",
       "                fig.context.clearRect(0, 0, fig.canvas.width, fig.canvas.height);\n",
       "            }\n",
       "            fig.context.drawImage(fig.imageObj, 0, 0);\n",
       "        };\n",
       "\n",
       "    this.imageObj.onunload = function() {\n",
       "        fig.ws.close();\n",
       "    }\n",
       "\n",
       "    this.ws.onmessage = this._make_on_message_function(this);\n",
       "\n",
       "    this.ondownload = ondownload;\n",
       "}\n",
       "\n",
       "mpl.figure.prototype._init_header = function() {\n",
       "    var titlebar = $(\n",
       "        '<div class=\"ui-dialog-titlebar ui-widget-header ui-corner-all ' +\n",
       "        'ui-helper-clearfix\"/>');\n",
       "    var titletext = $(\n",
       "        '<div class=\"ui-dialog-title\" style=\"width: 100%; ' +\n",
       "        'text-align: center; padding: 3px;\"/>');\n",
       "    titlebar.append(titletext)\n",
       "    this.root.append(titlebar);\n",
       "    this.header = titletext[0];\n",
       "}\n",
       "\n",
       "\n",
       "\n",
       "mpl.figure.prototype._canvas_extra_style = function(canvas_div) {\n",
       "\n",
       "}\n",
       "\n",
       "\n",
       "mpl.figure.prototype._root_extra_style = function(canvas_div) {\n",
       "\n",
       "}\n",
       "\n",
       "mpl.figure.prototype._init_canvas = function() {\n",
       "    var fig = this;\n",
       "\n",
       "    var canvas_div = $('<div/>');\n",
       "\n",
       "    canvas_div.attr('style', 'position: relative; clear: both; outline: 0');\n",
       "\n",
       "    function canvas_keyboard_event(event) {\n",
       "        return fig.key_event(event, event['data']);\n",
       "    }\n",
       "\n",
       "    canvas_div.keydown('key_press', canvas_keyboard_event);\n",
       "    canvas_div.keyup('key_release', canvas_keyboard_event);\n",
       "    this.canvas_div = canvas_div\n",
       "    this._canvas_extra_style(canvas_div)\n",
       "    this.root.append(canvas_div);\n",
       "\n",
       "    var canvas = $('<canvas/>');\n",
       "    canvas.addClass('mpl-canvas');\n",
       "    canvas.attr('style', \"left: 0; top: 0; z-index: 0; outline: 0\")\n",
       "\n",
       "    this.canvas = canvas[0];\n",
       "    this.context = canvas[0].getContext(\"2d\");\n",
       "\n",
       "    var backingStore = this.context.backingStorePixelRatio ||\n",
       "\tthis.context.webkitBackingStorePixelRatio ||\n",
       "\tthis.context.mozBackingStorePixelRatio ||\n",
       "\tthis.context.msBackingStorePixelRatio ||\n",
       "\tthis.context.oBackingStorePixelRatio ||\n",
       "\tthis.context.backingStorePixelRatio || 1;\n",
       "\n",
       "    mpl.ratio = (window.devicePixelRatio || 1) / backingStore;\n",
       "\n",
       "    var rubberband = $('<canvas/>');\n",
       "    rubberband.attr('style', \"position: absolute; left: 0; top: 0; z-index: 1;\")\n",
       "\n",
       "    var pass_mouse_events = true;\n",
       "\n",
       "    canvas_div.resizable({\n",
       "        start: function(event, ui) {\n",
       "            pass_mouse_events = false;\n",
       "        },\n",
       "        resize: function(event, ui) {\n",
       "            fig.request_resize(ui.size.width, ui.size.height);\n",
       "        },\n",
       "        stop: function(event, ui) {\n",
       "            pass_mouse_events = true;\n",
       "            fig.request_resize(ui.size.width, ui.size.height);\n",
       "        },\n",
       "    });\n",
       "\n",
       "    function mouse_event_fn(event) {\n",
       "        if (pass_mouse_events)\n",
       "            return fig.mouse_event(event, event['data']);\n",
       "    }\n",
       "\n",
       "    rubberband.mousedown('button_press', mouse_event_fn);\n",
       "    rubberband.mouseup('button_release', mouse_event_fn);\n",
       "    // Throttle sequential mouse events to 1 every 20ms.\n",
       "    rubberband.mousemove('motion_notify', mouse_event_fn);\n",
       "\n",
       "    rubberband.mouseenter('figure_enter', mouse_event_fn);\n",
       "    rubberband.mouseleave('figure_leave', mouse_event_fn);\n",
       "\n",
       "    canvas_div.on(\"wheel\", function (event) {\n",
       "        event = event.originalEvent;\n",
       "        event['data'] = 'scroll'\n",
       "        if (event.deltaY < 0) {\n",
       "            event.step = 1;\n",
       "        } else {\n",
       "            event.step = -1;\n",
       "        }\n",
       "        mouse_event_fn(event);\n",
       "    });\n",
       "\n",
       "    canvas_div.append(canvas);\n",
       "    canvas_div.append(rubberband);\n",
       "\n",
       "    this.rubberband = rubberband;\n",
       "    this.rubberband_canvas = rubberband[0];\n",
       "    this.rubberband_context = rubberband[0].getContext(\"2d\");\n",
       "    this.rubberband_context.strokeStyle = \"#000000\";\n",
       "\n",
       "    this._resize_canvas = function(width, height) {\n",
       "        // Keep the size of the canvas, canvas container, and rubber band\n",
       "        // canvas in synch.\n",
       "        canvas_div.css('width', width)\n",
       "        canvas_div.css('height', height)\n",
       "\n",
       "        canvas.attr('width', width * mpl.ratio);\n",
       "        canvas.attr('height', height * mpl.ratio);\n",
       "        canvas.attr('style', 'width: ' + width + 'px; height: ' + height + 'px;');\n",
       "\n",
       "        rubberband.attr('width', width);\n",
       "        rubberband.attr('height', height);\n",
       "    }\n",
       "\n",
       "    // Set the figure to an initial 600x600px, this will subsequently be updated\n",
       "    // upon first draw.\n",
       "    this._resize_canvas(600, 600);\n",
       "\n",
       "    // Disable right mouse context menu.\n",
       "    $(this.rubberband_canvas).bind(\"contextmenu\",function(e){\n",
       "        return false;\n",
       "    });\n",
       "\n",
       "    function set_focus () {\n",
       "        canvas.focus();\n",
       "        canvas_div.focus();\n",
       "    }\n",
       "\n",
       "    window.setTimeout(set_focus, 100);\n",
       "}\n",
       "\n",
       "mpl.figure.prototype._init_toolbar = function() {\n",
       "    var fig = this;\n",
       "\n",
       "    var nav_element = $('<div/>')\n",
       "    nav_element.attr('style', 'width: 100%');\n",
       "    this.root.append(nav_element);\n",
       "\n",
       "    // Define a callback function for later on.\n",
       "    function toolbar_event(event) {\n",
       "        return fig.toolbar_button_onclick(event['data']);\n",
       "    }\n",
       "    function toolbar_mouse_event(event) {\n",
       "        return fig.toolbar_button_onmouseover(event['data']);\n",
       "    }\n",
       "\n",
       "    for(var toolbar_ind in mpl.toolbar_items) {\n",
       "        var name = mpl.toolbar_items[toolbar_ind][0];\n",
       "        var tooltip = mpl.toolbar_items[toolbar_ind][1];\n",
       "        var image = mpl.toolbar_items[toolbar_ind][2];\n",
       "        var method_name = mpl.toolbar_items[toolbar_ind][3];\n",
       "\n",
       "        if (!name) {\n",
       "            // put a spacer in here.\n",
       "            continue;\n",
       "        }\n",
       "        var button = $('<button/>');\n",
       "        button.addClass('ui-button ui-widget ui-state-default ui-corner-all ' +\n",
       "                        'ui-button-icon-only');\n",
       "        button.attr('role', 'button');\n",
       "        button.attr('aria-disabled', 'false');\n",
       "        button.click(method_name, toolbar_event);\n",
       "        button.mouseover(tooltip, toolbar_mouse_event);\n",
       "\n",
       "        var icon_img = $('<span/>');\n",
       "        icon_img.addClass('ui-button-icon-primary ui-icon');\n",
       "        icon_img.addClass(image);\n",
       "        icon_img.addClass('ui-corner-all');\n",
       "\n",
       "        var tooltip_span = $('<span/>');\n",
       "        tooltip_span.addClass('ui-button-text');\n",
       "        tooltip_span.html(tooltip);\n",
       "\n",
       "        button.append(icon_img);\n",
       "        button.append(tooltip_span);\n",
       "\n",
       "        nav_element.append(button);\n",
       "    }\n",
       "\n",
       "    var fmt_picker_span = $('<span/>');\n",
       "\n",
       "    var fmt_picker = $('<select/>');\n",
       "    fmt_picker.addClass('mpl-toolbar-option ui-widget ui-widget-content');\n",
       "    fmt_picker_span.append(fmt_picker);\n",
       "    nav_element.append(fmt_picker_span);\n",
       "    this.format_dropdown = fmt_picker[0];\n",
       "\n",
       "    for (var ind in mpl.extensions) {\n",
       "        var fmt = mpl.extensions[ind];\n",
       "        var option = $(\n",
       "            '<option/>', {selected: fmt === mpl.default_extension}).html(fmt);\n",
       "        fmt_picker.append(option)\n",
       "    }\n",
       "\n",
       "    // Add hover states to the ui-buttons\n",
       "    $( \".ui-button\" ).hover(\n",
       "        function() { $(this).addClass(\"ui-state-hover\");},\n",
       "        function() { $(this).removeClass(\"ui-state-hover\");}\n",
       "    );\n",
       "\n",
       "    var status_bar = $('<span class=\"mpl-message\"/>');\n",
       "    nav_element.append(status_bar);\n",
       "    this.message = status_bar[0];\n",
       "}\n",
       "\n",
       "mpl.figure.prototype.request_resize = function(x_pixels, y_pixels) {\n",
       "    // Request matplotlib to resize the figure. Matplotlib will then trigger a resize in the client,\n",
       "    // which will in turn request a refresh of the image.\n",
       "    this.send_message('resize', {'width': x_pixels, 'height': y_pixels});\n",
       "}\n",
       "\n",
       "mpl.figure.prototype.send_message = function(type, properties) {\n",
       "    properties['type'] = type;\n",
       "    properties['figure_id'] = this.id;\n",
       "    this.ws.send(JSON.stringify(properties));\n",
       "}\n",
       "\n",
       "mpl.figure.prototype.send_draw_message = function() {\n",
       "    if (!this.waiting) {\n",
       "        this.waiting = true;\n",
       "        this.ws.send(JSON.stringify({type: \"draw\", figure_id: this.id}));\n",
       "    }\n",
       "}\n",
       "\n",
       "\n",
       "mpl.figure.prototype.handle_save = function(fig, msg) {\n",
       "    var format_dropdown = fig.format_dropdown;\n",
       "    var format = format_dropdown.options[format_dropdown.selectedIndex].value;\n",
       "    fig.ondownload(fig, format);\n",
       "}\n",
       "\n",
       "\n",
       "mpl.figure.prototype.handle_resize = function(fig, msg) {\n",
       "    var size = msg['size'];\n",
       "    if (size[0] != fig.canvas.width || size[1] != fig.canvas.height) {\n",
       "        fig._resize_canvas(size[0], size[1]);\n",
       "        fig.send_message(\"refresh\", {});\n",
       "    };\n",
       "}\n",
       "\n",
       "mpl.figure.prototype.handle_rubberband = function(fig, msg) {\n",
       "    var x0 = msg['x0'] / mpl.ratio;\n",
       "    var y0 = (fig.canvas.height - msg['y0']) / mpl.ratio;\n",
       "    var x1 = msg['x1'] / mpl.ratio;\n",
       "    var y1 = (fig.canvas.height - msg['y1']) / mpl.ratio;\n",
       "    x0 = Math.floor(x0) + 0.5;\n",
       "    y0 = Math.floor(y0) + 0.5;\n",
       "    x1 = Math.floor(x1) + 0.5;\n",
       "    y1 = Math.floor(y1) + 0.5;\n",
       "    var min_x = Math.min(x0, x1);\n",
       "    var min_y = Math.min(y0, y1);\n",
       "    var width = Math.abs(x1 - x0);\n",
       "    var height = Math.abs(y1 - y0);\n",
       "\n",
       "    fig.rubberband_context.clearRect(\n",
       "        0, 0, fig.canvas.width, fig.canvas.height);\n",
       "\n",
       "    fig.rubberband_context.strokeRect(min_x, min_y, width, height);\n",
       "}\n",
       "\n",
       "mpl.figure.prototype.handle_figure_label = function(fig, msg) {\n",
       "    // Updates the figure title.\n",
       "    fig.header.textContent = msg['label'];\n",
       "}\n",
       "\n",
       "mpl.figure.prototype.handle_cursor = function(fig, msg) {\n",
       "    var cursor = msg['cursor'];\n",
       "    switch(cursor)\n",
       "    {\n",
       "    case 0:\n",
       "        cursor = 'pointer';\n",
       "        break;\n",
       "    case 1:\n",
       "        cursor = 'default';\n",
       "        break;\n",
       "    case 2:\n",
       "        cursor = 'crosshair';\n",
       "        break;\n",
       "    case 3:\n",
       "        cursor = 'move';\n",
       "        break;\n",
       "    }\n",
       "    fig.rubberband_canvas.style.cursor = cursor;\n",
       "}\n",
       "\n",
       "mpl.figure.prototype.handle_message = function(fig, msg) {\n",
       "    fig.message.textContent = msg['message'];\n",
       "}\n",
       "\n",
       "mpl.figure.prototype.handle_draw = function(fig, msg) {\n",
       "    // Request the server to send over a new figure.\n",
       "    fig.send_draw_message();\n",
       "}\n",
       "\n",
       "mpl.figure.prototype.handle_image_mode = function(fig, msg) {\n",
       "    fig.image_mode = msg['mode'];\n",
       "}\n",
       "\n",
       "mpl.figure.prototype.updated_canvas_event = function() {\n",
       "    // Called whenever the canvas gets updated.\n",
       "    this.send_message(\"ack\", {});\n",
       "}\n",
       "\n",
       "// A function to construct a web socket function for onmessage handling.\n",
       "// Called in the figure constructor.\n",
       "mpl.figure.prototype._make_on_message_function = function(fig) {\n",
       "    return function socket_on_message(evt) {\n",
       "        if (evt.data instanceof Blob) {\n",
       "            /* FIXME: We get \"Resource interpreted as Image but\n",
       "             * transferred with MIME type text/plain:\" errors on\n",
       "             * Chrome.  But how to set the MIME type?  It doesn't seem\n",
       "             * to be part of the websocket stream */\n",
       "            evt.data.type = \"image/png\";\n",
       "\n",
       "            /* Free the memory for the previous frames */\n",
       "            if (fig.imageObj.src) {\n",
       "                (window.URL || window.webkitURL).revokeObjectURL(\n",
       "                    fig.imageObj.src);\n",
       "            }\n",
       "\n",
       "            fig.imageObj.src = (window.URL || window.webkitURL).createObjectURL(\n",
       "                evt.data);\n",
       "            fig.updated_canvas_event();\n",
       "            fig.waiting = false;\n",
       "            return;\n",
       "        }\n",
       "        else if (typeof evt.data === 'string' && evt.data.slice(0, 21) == \"data:image/png;base64\") {\n",
       "            fig.imageObj.src = evt.data;\n",
       "            fig.updated_canvas_event();\n",
       "            fig.waiting = false;\n",
       "            return;\n",
       "        }\n",
       "\n",
       "        var msg = JSON.parse(evt.data);\n",
       "        var msg_type = msg['type'];\n",
       "\n",
       "        // Call the  \"handle_{type}\" callback, which takes\n",
       "        // the figure and JSON message as its only arguments.\n",
       "        try {\n",
       "            var callback = fig[\"handle_\" + msg_type];\n",
       "        } catch (e) {\n",
       "            console.log(\"No handler for the '\" + msg_type + \"' message type: \", msg);\n",
       "            return;\n",
       "        }\n",
       "\n",
       "        if (callback) {\n",
       "            try {\n",
       "                // console.log(\"Handling '\" + msg_type + \"' message: \", msg);\n",
       "                callback(fig, msg);\n",
       "            } catch (e) {\n",
       "                console.log(\"Exception inside the 'handler_\" + msg_type + \"' callback:\", e, e.stack, msg);\n",
       "            }\n",
       "        }\n",
       "    };\n",
       "}\n",
       "\n",
       "// from http://stackoverflow.com/questions/1114465/getting-mouse-location-in-canvas\n",
       "mpl.findpos = function(e) {\n",
       "    //this section is from http://www.quirksmode.org/js/events_properties.html\n",
       "    var targ;\n",
       "    if (!e)\n",
       "        e = window.event;\n",
       "    if (e.target)\n",
       "        targ = e.target;\n",
       "    else if (e.srcElement)\n",
       "        targ = e.srcElement;\n",
       "    if (targ.nodeType == 3) // defeat Safari bug\n",
       "        targ = targ.parentNode;\n",
       "\n",
       "    // jQuery normalizes the pageX and pageY\n",
       "    // pageX,Y are the mouse positions relative to the document\n",
       "    // offset() returns the position of the element relative to the document\n",
       "    var x = e.pageX - $(targ).offset().left;\n",
       "    var y = e.pageY - $(targ).offset().top;\n",
       "\n",
       "    return {\"x\": x, \"y\": y};\n",
       "};\n",
       "\n",
       "/*\n",
       " * return a copy of an object with only non-object keys\n",
       " * we need this to avoid circular references\n",
       " * http://stackoverflow.com/a/24161582/3208463\n",
       " */\n",
       "function simpleKeys (original) {\n",
       "  return Object.keys(original).reduce(function (obj, key) {\n",
       "    if (typeof original[key] !== 'object')\n",
       "        obj[key] = original[key]\n",
       "    return obj;\n",
       "  }, {});\n",
       "}\n",
       "\n",
       "mpl.figure.prototype.mouse_event = function(event, name) {\n",
       "    var canvas_pos = mpl.findpos(event)\n",
       "\n",
       "    if (name === 'button_press')\n",
       "    {\n",
       "        this.canvas.focus();\n",
       "        this.canvas_div.focus();\n",
       "    }\n",
       "\n",
       "    var x = canvas_pos.x * mpl.ratio;\n",
       "    var y = canvas_pos.y * mpl.ratio;\n",
       "\n",
       "    this.send_message(name, {x: x, y: y, button: event.button,\n",
       "                             step: event.step,\n",
       "                             guiEvent: simpleKeys(event)});\n",
       "\n",
       "    /* This prevents the web browser from automatically changing to\n",
       "     * the text insertion cursor when the button is pressed.  We want\n",
       "     * to control all of the cursor setting manually through the\n",
       "     * 'cursor' event from matplotlib */\n",
       "    event.preventDefault();\n",
       "    return false;\n",
       "}\n",
       "\n",
       "mpl.figure.prototype._key_event_extra = function(event, name) {\n",
       "    // Handle any extra behaviour associated with a key event\n",
       "}\n",
       "\n",
       "mpl.figure.prototype.key_event = function(event, name) {\n",
       "\n",
       "    // Prevent repeat events\n",
       "    if (name == 'key_press')\n",
       "    {\n",
       "        if (event.which === this._key)\n",
       "            return;\n",
       "        else\n",
       "            this._key = event.which;\n",
       "    }\n",
       "    if (name == 'key_release')\n",
       "        this._key = null;\n",
       "\n",
       "    var value = '';\n",
       "    if (event.ctrlKey && event.which != 17)\n",
       "        value += \"ctrl+\";\n",
       "    if (event.altKey && event.which != 18)\n",
       "        value += \"alt+\";\n",
       "    if (event.shiftKey && event.which != 16)\n",
       "        value += \"shift+\";\n",
       "\n",
       "    value += 'k';\n",
       "    value += event.which.toString();\n",
       "\n",
       "    this._key_event_extra(event, name);\n",
       "\n",
       "    this.send_message(name, {key: value,\n",
       "                             guiEvent: simpleKeys(event)});\n",
       "    return false;\n",
       "}\n",
       "\n",
       "mpl.figure.prototype.toolbar_button_onclick = function(name) {\n",
       "    if (name == 'download') {\n",
       "        this.handle_save(this, null);\n",
       "    } else {\n",
       "        this.send_message(\"toolbar_button\", {name: name});\n",
       "    }\n",
       "};\n",
       "\n",
       "mpl.figure.prototype.toolbar_button_onmouseover = function(tooltip) {\n",
       "    this.message.textContent = tooltip;\n",
       "};\n",
       "mpl.toolbar_items = [[\"Home\", \"Reset original view\", \"fa fa-home icon-home\", \"home\"], [\"Back\", \"Back to previous view\", \"fa fa-arrow-left icon-arrow-left\", \"back\"], [\"Forward\", \"Forward to next view\", \"fa fa-arrow-right icon-arrow-right\", \"forward\"], [\"\", \"\", \"\", \"\"], [\"Pan\", \"Pan axes with left mouse, zoom with right\", \"fa fa-arrows icon-move\", \"pan\"], [\"Zoom\", \"Zoom to rectangle\", \"fa fa-square-o icon-check-empty\", \"zoom\"], [\"\", \"\", \"\", \"\"], [\"Download\", \"Download plot\", \"fa fa-floppy-o icon-save\", \"download\"]];\n",
       "\n",
       "mpl.extensions = [\"eps\", \"jpeg\", \"pdf\", \"png\", \"ps\", \"raw\", \"svg\", \"tif\"];\n",
       "\n",
       "mpl.default_extension = \"png\";var comm_websocket_adapter = function(comm) {\n",
       "    // Create a \"websocket\"-like object which calls the given IPython comm\n",
       "    // object with the appropriate methods. Currently this is a non binary\n",
       "    // socket, so there is still some room for performance tuning.\n",
       "    var ws = {};\n",
       "\n",
       "    ws.close = function() {\n",
       "        comm.close()\n",
       "    };\n",
       "    ws.send = function(m) {\n",
       "        //console.log('sending', m);\n",
       "        comm.send(m);\n",
       "    };\n",
       "    // Register the callback with on_msg.\n",
       "    comm.on_msg(function(msg) {\n",
       "        //console.log('receiving', msg['content']['data'], msg);\n",
       "        // Pass the mpl event to the overridden (by mpl) onmessage function.\n",
       "        ws.onmessage(msg['content']['data'])\n",
       "    });\n",
       "    return ws;\n",
       "}\n",
       "\n",
       "mpl.mpl_figure_comm = function(comm, msg) {\n",
       "    // This is the function which gets called when the mpl process\n",
       "    // starts-up an IPython Comm through the \"matplotlib\" channel.\n",
       "\n",
       "    var id = msg.content.data.id;\n",
       "    // Get hold of the div created by the display call when the Comm\n",
       "    // socket was opened in Python.\n",
       "    var element = $(\"#\" + id);\n",
       "    var ws_proxy = comm_websocket_adapter(comm)\n",
       "\n",
       "    function ondownload(figure, format) {\n",
       "        window.open(figure.imageObj.src);\n",
       "    }\n",
       "\n",
       "    var fig = new mpl.figure(id, ws_proxy,\n",
       "                           ondownload,\n",
       "                           element.get(0));\n",
       "\n",
       "    // Call onopen now - mpl needs it, as it is assuming we've passed it a real\n",
       "    // web socket which is closed, not our websocket->open comm proxy.\n",
       "    ws_proxy.onopen();\n",
       "\n",
       "    fig.parent_element = element.get(0);\n",
       "    fig.cell_info = mpl.find_output_cell(\"<div id='\" + id + \"'></div>\");\n",
       "    if (!fig.cell_info) {\n",
       "        console.error(\"Failed to find cell for figure\", id, fig);\n",
       "        return;\n",
       "    }\n",
       "\n",
       "    var output_index = fig.cell_info[2]\n",
       "    var cell = fig.cell_info[0];\n",
       "\n",
       "};\n",
       "\n",
       "mpl.figure.prototype.handle_close = function(fig, msg) {\n",
       "    var width = fig.canvas.width/mpl.ratio\n",
       "    fig.root.unbind('remove')\n",
       "\n",
       "    // Update the output cell to use the data from the current canvas.\n",
       "    fig.push_to_output();\n",
       "    var dataURL = fig.canvas.toDataURL();\n",
       "    // Re-enable the keyboard manager in IPython - without this line, in FF,\n",
       "    // the notebook keyboard shortcuts fail.\n",
       "    IPython.keyboard_manager.enable()\n",
       "    $(fig.parent_element).html('<img src=\"' + dataURL + '\" width=\"' + width + '\">');\n",
       "    fig.close_ws(fig, msg);\n",
       "}\n",
       "\n",
       "mpl.figure.prototype.close_ws = function(fig, msg){\n",
       "    fig.send_message('closing', msg);\n",
       "    // fig.ws.close()\n",
       "}\n",
       "\n",
       "mpl.figure.prototype.push_to_output = function(remove_interactive) {\n",
       "    // Turn the data on the canvas into data in the output cell.\n",
       "    var width = this.canvas.width/mpl.ratio\n",
       "    var dataURL = this.canvas.toDataURL();\n",
       "    this.cell_info[1]['text/html'] = '<img src=\"' + dataURL + '\" width=\"' + width + '\">';\n",
       "}\n",
       "\n",
       "mpl.figure.prototype.updated_canvas_event = function() {\n",
       "    // Tell IPython that the notebook contents must change.\n",
       "    IPython.notebook.set_dirty(true);\n",
       "    this.send_message(\"ack\", {});\n",
       "    var fig = this;\n",
       "    // Wait a second, then push the new image to the DOM so\n",
       "    // that it is saved nicely (might be nice to debounce this).\n",
       "    setTimeout(function () { fig.push_to_output() }, 1000);\n",
       "}\n",
       "\n",
       "mpl.figure.prototype._init_toolbar = function() {\n",
       "    var fig = this;\n",
       "\n",
       "    var nav_element = $('<div/>')\n",
       "    nav_element.attr('style', 'width: 100%');\n",
       "    this.root.append(nav_element);\n",
       "\n",
       "    // Define a callback function for later on.\n",
       "    function toolbar_event(event) {\n",
       "        return fig.toolbar_button_onclick(event['data']);\n",
       "    }\n",
       "    function toolbar_mouse_event(event) {\n",
       "        return fig.toolbar_button_onmouseover(event['data']);\n",
       "    }\n",
       "\n",
       "    for(var toolbar_ind in mpl.toolbar_items){\n",
       "        var name = mpl.toolbar_items[toolbar_ind][0];\n",
       "        var tooltip = mpl.toolbar_items[toolbar_ind][1];\n",
       "        var image = mpl.toolbar_items[toolbar_ind][2];\n",
       "        var method_name = mpl.toolbar_items[toolbar_ind][3];\n",
       "\n",
       "        if (!name) { continue; };\n",
       "\n",
       "        var button = $('<button class=\"btn btn-default\" href=\"#\" title=\"' + name + '\"><i class=\"fa ' + image + ' fa-lg\"></i></button>');\n",
       "        button.click(method_name, toolbar_event);\n",
       "        button.mouseover(tooltip, toolbar_mouse_event);\n",
       "        nav_element.append(button);\n",
       "    }\n",
       "\n",
       "    // Add the status bar.\n",
       "    var status_bar = $('<span class=\"mpl-message\" style=\"text-align:right; float: right;\"/>');\n",
       "    nav_element.append(status_bar);\n",
       "    this.message = status_bar[0];\n",
       "\n",
       "    // Add the close button to the window.\n",
       "    var buttongrp = $('<div class=\"btn-group inline pull-right\"></div>');\n",
       "    var button = $('<button class=\"btn btn-mini btn-primary\" href=\"#\" title=\"Stop Interaction\"><i class=\"fa fa-power-off icon-remove icon-large\"></i></button>');\n",
       "    button.click(function (evt) { fig.handle_close(fig, {}); } );\n",
       "    button.mouseover('Stop Interaction', toolbar_mouse_event);\n",
       "    buttongrp.append(button);\n",
       "    var titlebar = this.root.find($('.ui-dialog-titlebar'));\n",
       "    titlebar.prepend(buttongrp);\n",
       "}\n",
       "\n",
       "mpl.figure.prototype._root_extra_style = function(el){\n",
       "    var fig = this\n",
       "    el.on(\"remove\", function(){\n",
       "\tfig.close_ws(fig, {});\n",
       "    });\n",
       "}\n",
       "\n",
       "mpl.figure.prototype._canvas_extra_style = function(el){\n",
       "    // this is important to make the div 'focusable\n",
       "    el.attr('tabindex', 0)\n",
       "    // reach out to IPython and tell the keyboard manager to turn it's self\n",
       "    // off when our div gets focus\n",
       "\n",
       "    // location in version 3\n",
       "    if (IPython.notebook.keyboard_manager) {\n",
       "        IPython.notebook.keyboard_manager.register_events(el);\n",
       "    }\n",
       "    else {\n",
       "        // location in version 2\n",
       "        IPython.keyboard_manager.register_events(el);\n",
       "    }\n",
       "\n",
       "}\n",
       "\n",
       "mpl.figure.prototype._key_event_extra = function(event, name) {\n",
       "    var manager = IPython.notebook.keyboard_manager;\n",
       "    if (!manager)\n",
       "        manager = IPython.keyboard_manager;\n",
       "\n",
       "    // Check for shift+enter\n",
       "    if (event.shiftKey && event.which == 13) {\n",
       "        this.canvas_div.blur();\n",
       "        event.shiftKey = false;\n",
       "        // Send a \"J\" for go to next cell\n",
       "        event.which = 74;\n",
       "        event.keyCode = 74;\n",
       "        manager.command_mode();\n",
       "        manager.handle_keydown(event);\n",
       "    }\n",
       "}\n",
       "\n",
       "mpl.figure.prototype.handle_save = function(fig, msg) {\n",
       "    fig.ondownload(fig, null);\n",
       "}\n",
       "\n",
       "\n",
       "mpl.find_output_cell = function(html_output) {\n",
       "    // Return the cell and output element which can be found *uniquely* in the notebook.\n",
       "    // Note - this is a bit hacky, but it is done because the \"notebook_saving.Notebook\"\n",
       "    // IPython event is triggered only after the cells have been serialised, which for\n",
       "    // our purposes (turning an active figure into a static one), is too late.\n",
       "    var cells = IPython.notebook.get_cells();\n",
       "    var ncells = cells.length;\n",
       "    for (var i=0; i<ncells; i++) {\n",
       "        var cell = cells[i];\n",
       "        if (cell.cell_type === 'code'){\n",
       "            for (var j=0; j<cell.output_area.outputs.length; j++) {\n",
       "                var data = cell.output_area.outputs[j];\n",
       "                if (data.data) {\n",
       "                    // IPython >= 3 moved mimebundle to data attribute of output\n",
       "                    data = data.data;\n",
       "                }\n",
       "                if (data['text/html'] == html_output) {\n",
       "                    return [cell, data, j];\n",
       "                }\n",
       "            }\n",
       "        }\n",
       "    }\n",
       "}\n",
       "\n",
       "// Register the function which deals with the matplotlib target/channel.\n",
       "// The kernel may be null if the page has been refreshed.\n",
       "if (IPython.notebook.kernel != null) {\n",
       "    IPython.notebook.kernel.comm_manager.register_target('matplotlib', mpl.mpl_figure_comm);\n",
       "}\n"
      ],
      "text/plain": [
       "<IPython.core.display.Javascript object>"
      ]
     },
     "metadata": {},
     "output_type": "display_data"
    },
    {
     "data": {
      "text/html": [
       "<img src=\"data:image/png;base64,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\" width=\"640\">"
      ],
      "text/plain": [
       "<IPython.core.display.HTML object>"
      ]
     },
     "metadata": {},
     "output_type": "display_data"
    },
    {
     "data": {
      "text/plain": [
       "(<Figure size 640x640 with 2 Axes>, GridSpec(2, 1, height_ratios=[1, 4]))"
      ]
     },
     "execution_count": 6,
     "metadata": {},
     "output_type": "execute_result"
    }
   ],
   "source": [
    "%matplotlib notebook\n",
    "result.plot()"
   ]
  },
  {
   "cell_type": "code",
   "execution_count": 19,
   "metadata": {},
   "outputs": [
    {
     "data": {
      "application/javascript": [
       "/* Put everything inside the global mpl namespace */\n",
       "window.mpl = {};\n",
       "\n",
       "\n",
       "mpl.get_websocket_type = function() {\n",
       "    if (typeof(WebSocket) !== 'undefined') {\n",
       "        return WebSocket;\n",
       "    } else if (typeof(MozWebSocket) !== 'undefined') {\n",
       "        return MozWebSocket;\n",
       "    } else {\n",
       "        alert('Your browser does not have WebSocket support.' +\n",
       "              'Please try Chrome, Safari or Firefox ≥ 6. ' +\n",
       "              'Firefox 4 and 5 are also supported but you ' +\n",
       "              'have to enable WebSockets in about:config.');\n",
       "    };\n",
       "}\n",
       "\n",
       "mpl.figure = function(figure_id, websocket, ondownload, parent_element) {\n",
       "    this.id = figure_id;\n",
       "\n",
       "    this.ws = websocket;\n",
       "\n",
       "    this.supports_binary = (this.ws.binaryType != undefined);\n",
       "\n",
       "    if (!this.supports_binary) {\n",
       "        var warnings = document.getElementById(\"mpl-warnings\");\n",
       "        if (warnings) {\n",
       "            warnings.style.display = 'block';\n",
       "            warnings.textContent = (\n",
       "                \"This browser does not support binary websocket messages. \" +\n",
       "                    \"Performance may be slow.\");\n",
       "        }\n",
       "    }\n",
       "\n",
       "    this.imageObj = new Image();\n",
       "\n",
       "    this.context = undefined;\n",
       "    this.message = undefined;\n",
       "    this.canvas = undefined;\n",
       "    this.rubberband_canvas = undefined;\n",
       "    this.rubberband_context = undefined;\n",
       "    this.format_dropdown = undefined;\n",
       "\n",
       "    this.image_mode = 'full';\n",
       "\n",
       "    this.root = $('<div/>');\n",
       "    this._root_extra_style(this.root)\n",
       "    this.root.attr('style', 'display: inline-block');\n",
       "\n",
       "    $(parent_element).append(this.root);\n",
       "\n",
       "    this._init_header(this);\n",
       "    this._init_canvas(this);\n",
       "    this._init_toolbar(this);\n",
       "\n",
       "    var fig = this;\n",
       "\n",
       "    this.waiting = false;\n",
       "\n",
       "    this.ws.onopen =  function () {\n",
       "            fig.send_message(\"supports_binary\", {value: fig.supports_binary});\n",
       "            fig.send_message(\"send_image_mode\", {});\n",
       "            if (mpl.ratio != 1) {\n",
       "                fig.send_message(\"set_dpi_ratio\", {'dpi_ratio': mpl.ratio});\n",
       "            }\n",
       "            fig.send_message(\"refresh\", {});\n",
       "        }\n",
       "\n",
       "    this.imageObj.onload = function() {\n",
       "            if (fig.image_mode == 'full') {\n",
       "                // Full images could contain transparency (where diff images\n",
       "                // almost always do), so we need to clear the canvas so that\n",
       "                // there is no ghosting.\n",
       "                fig.context.clearRect(0, 0, fig.canvas.width, fig.canvas.height);\n",
       "            }\n",
       "            fig.context.drawImage(fig.imageObj, 0, 0);\n",
       "        };\n",
       "\n",
       "    this.imageObj.onunload = function() {\n",
       "        fig.ws.close();\n",
       "    }\n",
       "\n",
       "    this.ws.onmessage = this._make_on_message_function(this);\n",
       "\n",
       "    this.ondownload = ondownload;\n",
       "}\n",
       "\n",
       "mpl.figure.prototype._init_header = function() {\n",
       "    var titlebar = $(\n",
       "        '<div class=\"ui-dialog-titlebar ui-widget-header ui-corner-all ' +\n",
       "        'ui-helper-clearfix\"/>');\n",
       "    var titletext = $(\n",
       "        '<div class=\"ui-dialog-title\" style=\"width: 100%; ' +\n",
       "        'text-align: center; padding: 3px;\"/>');\n",
       "    titlebar.append(titletext)\n",
       "    this.root.append(titlebar);\n",
       "    this.header = titletext[0];\n",
       "}\n",
       "\n",
       "\n",
       "\n",
       "mpl.figure.prototype._canvas_extra_style = function(canvas_div) {\n",
       "\n",
       "}\n",
       "\n",
       "\n",
       "mpl.figure.prototype._root_extra_style = function(canvas_div) {\n",
       "\n",
       "}\n",
       "\n",
       "mpl.figure.prototype._init_canvas = function() {\n",
       "    var fig = this;\n",
       "\n",
       "    var canvas_div = $('<div/>');\n",
       "\n",
       "    canvas_div.attr('style', 'position: relative; clear: both; outline: 0');\n",
       "\n",
       "    function canvas_keyboard_event(event) {\n",
       "        return fig.key_event(event, event['data']);\n",
       "    }\n",
       "\n",
       "    canvas_div.keydown('key_press', canvas_keyboard_event);\n",
       "    canvas_div.keyup('key_release', canvas_keyboard_event);\n",
       "    this.canvas_div = canvas_div\n",
       "    this._canvas_extra_style(canvas_div)\n",
       "    this.root.append(canvas_div);\n",
       "\n",
       "    var canvas = $('<canvas/>');\n",
       "    canvas.addClass('mpl-canvas');\n",
       "    canvas.attr('style', \"left: 0; top: 0; z-index: 0; outline: 0\")\n",
       "\n",
       "    this.canvas = canvas[0];\n",
       "    this.context = canvas[0].getContext(\"2d\");\n",
       "\n",
       "    var backingStore = this.context.backingStorePixelRatio ||\n",
       "\tthis.context.webkitBackingStorePixelRatio ||\n",
       "\tthis.context.mozBackingStorePixelRatio ||\n",
       "\tthis.context.msBackingStorePixelRatio ||\n",
       "\tthis.context.oBackingStorePixelRatio ||\n",
       "\tthis.context.backingStorePixelRatio || 1;\n",
       "\n",
       "    mpl.ratio = (window.devicePixelRatio || 1) / backingStore;\n",
       "\n",
       "    var rubberband = $('<canvas/>');\n",
       "    rubberband.attr('style', \"position: absolute; left: 0; top: 0; z-index: 1;\")\n",
       "\n",
       "    var pass_mouse_events = true;\n",
       "\n",
       "    canvas_div.resizable({\n",
       "        start: function(event, ui) {\n",
       "            pass_mouse_events = false;\n",
       "        },\n",
       "        resize: function(event, ui) {\n",
       "            fig.request_resize(ui.size.width, ui.size.height);\n",
       "        },\n",
       "        stop: function(event, ui) {\n",
       "            pass_mouse_events = true;\n",
       "            fig.request_resize(ui.size.width, ui.size.height);\n",
       "        },\n",
       "    });\n",
       "\n",
       "    function mouse_event_fn(event) {\n",
       "        if (pass_mouse_events)\n",
       "            return fig.mouse_event(event, event['data']);\n",
       "    }\n",
       "\n",
       "    rubberband.mousedown('button_press', mouse_event_fn);\n",
       "    rubberband.mouseup('button_release', mouse_event_fn);\n",
       "    // Throttle sequential mouse events to 1 every 20ms.\n",
       "    rubberband.mousemove('motion_notify', mouse_event_fn);\n",
       "\n",
       "    rubberband.mouseenter('figure_enter', mouse_event_fn);\n",
       "    rubberband.mouseleave('figure_leave', mouse_event_fn);\n",
       "\n",
       "    canvas_div.on(\"wheel\", function (event) {\n",
       "        event = event.originalEvent;\n",
       "        event['data'] = 'scroll'\n",
       "        if (event.deltaY < 0) {\n",
       "            event.step = 1;\n",
       "        } else {\n",
       "            event.step = -1;\n",
       "        }\n",
       "        mouse_event_fn(event);\n",
       "    });\n",
       "\n",
       "    canvas_div.append(canvas);\n",
       "    canvas_div.append(rubberband);\n",
       "\n",
       "    this.rubberband = rubberband;\n",
       "    this.rubberband_canvas = rubberband[0];\n",
       "    this.rubberband_context = rubberband[0].getContext(\"2d\");\n",
       "    this.rubberband_context.strokeStyle = \"#000000\";\n",
       "\n",
       "    this._resize_canvas = function(width, height) {\n",
       "        // Keep the size of the canvas, canvas container, and rubber band\n",
       "        // canvas in synch.\n",
       "        canvas_div.css('width', width)\n",
       "        canvas_div.css('height', height)\n",
       "\n",
       "        canvas.attr('width', width * mpl.ratio);\n",
       "        canvas.attr('height', height * mpl.ratio);\n",
       "        canvas.attr('style', 'width: ' + width + 'px; height: ' + height + 'px;');\n",
       "\n",
       "        rubberband.attr('width', width);\n",
       "        rubberband.attr('height', height);\n",
       "    }\n",
       "\n",
       "    // Set the figure to an initial 600x600px, this will subsequently be updated\n",
       "    // upon first draw.\n",
       "    this._resize_canvas(600, 600);\n",
       "\n",
       "    // Disable right mouse context menu.\n",
       "    $(this.rubberband_canvas).bind(\"contextmenu\",function(e){\n",
       "        return false;\n",
       "    });\n",
       "\n",
       "    function set_focus () {\n",
       "        canvas.focus();\n",
       "        canvas_div.focus();\n",
       "    }\n",
       "\n",
       "    window.setTimeout(set_focus, 100);\n",
       "}\n",
       "\n",
       "mpl.figure.prototype._init_toolbar = function() {\n",
       "    var fig = this;\n",
       "\n",
       "    var nav_element = $('<div/>')\n",
       "    nav_element.attr('style', 'width: 100%');\n",
       "    this.root.append(nav_element);\n",
       "\n",
       "    // Define a callback function for later on.\n",
       "    function toolbar_event(event) {\n",
       "        return fig.toolbar_button_onclick(event['data']);\n",
       "    }\n",
       "    function toolbar_mouse_event(event) {\n",
       "        return fig.toolbar_button_onmouseover(event['data']);\n",
       "    }\n",
       "\n",
       "    for(var toolbar_ind in mpl.toolbar_items) {\n",
       "        var name = mpl.toolbar_items[toolbar_ind][0];\n",
       "        var tooltip = mpl.toolbar_items[toolbar_ind][1];\n",
       "        var image = mpl.toolbar_items[toolbar_ind][2];\n",
       "        var method_name = mpl.toolbar_items[toolbar_ind][3];\n",
       "\n",
       "        if (!name) {\n",
       "            // put a spacer in here.\n",
       "            continue;\n",
       "        }\n",
       "        var button = $('<button/>');\n",
       "        button.addClass('ui-button ui-widget ui-state-default ui-corner-all ' +\n",
       "                        'ui-button-icon-only');\n",
       "        button.attr('role', 'button');\n",
       "        button.attr('aria-disabled', 'false');\n",
       "        button.click(method_name, toolbar_event);\n",
       "        button.mouseover(tooltip, toolbar_mouse_event);\n",
       "\n",
       "        var icon_img = $('<span/>');\n",
       "        icon_img.addClass('ui-button-icon-primary ui-icon');\n",
       "        icon_img.addClass(image);\n",
       "        icon_img.addClass('ui-corner-all');\n",
       "\n",
       "        var tooltip_span = $('<span/>');\n",
       "        tooltip_span.addClass('ui-button-text');\n",
       "        tooltip_span.html(tooltip);\n",
       "\n",
       "        button.append(icon_img);\n",
       "        button.append(tooltip_span);\n",
       "\n",
       "        nav_element.append(button);\n",
       "    }\n",
       "\n",
       "    var fmt_picker_span = $('<span/>');\n",
       "\n",
       "    var fmt_picker = $('<select/>');\n",
       "    fmt_picker.addClass('mpl-toolbar-option ui-widget ui-widget-content');\n",
       "    fmt_picker_span.append(fmt_picker);\n",
       "    nav_element.append(fmt_picker_span);\n",
       "    this.format_dropdown = fmt_picker[0];\n",
       "\n",
       "    for (var ind in mpl.extensions) {\n",
       "        var fmt = mpl.extensions[ind];\n",
       "        var option = $(\n",
       "            '<option/>', {selected: fmt === mpl.default_extension}).html(fmt);\n",
       "        fmt_picker.append(option)\n",
       "    }\n",
       "\n",
       "    // Add hover states to the ui-buttons\n",
       "    $( \".ui-button\" ).hover(\n",
       "        function() { $(this).addClass(\"ui-state-hover\");},\n",
       "        function() { $(this).removeClass(\"ui-state-hover\");}\n",
       "    );\n",
       "\n",
       "    var status_bar = $('<span class=\"mpl-message\"/>');\n",
       "    nav_element.append(status_bar);\n",
       "    this.message = status_bar[0];\n",
       "}\n",
       "\n",
       "mpl.figure.prototype.request_resize = function(x_pixels, y_pixels) {\n",
       "    // Request matplotlib to resize the figure. Matplotlib will then trigger a resize in the client,\n",
       "    // which will in turn request a refresh of the image.\n",
       "    this.send_message('resize', {'width': x_pixels, 'height': y_pixels});\n",
       "}\n",
       "\n",
       "mpl.figure.prototype.send_message = function(type, properties) {\n",
       "    properties['type'] = type;\n",
       "    properties['figure_id'] = this.id;\n",
       "    this.ws.send(JSON.stringify(properties));\n",
       "}\n",
       "\n",
       "mpl.figure.prototype.send_draw_message = function() {\n",
       "    if (!this.waiting) {\n",
       "        this.waiting = true;\n",
       "        this.ws.send(JSON.stringify({type: \"draw\", figure_id: this.id}));\n",
       "    }\n",
       "}\n",
       "\n",
       "\n",
       "mpl.figure.prototype.handle_save = function(fig, msg) {\n",
       "    var format_dropdown = fig.format_dropdown;\n",
       "    var format = format_dropdown.options[format_dropdown.selectedIndex].value;\n",
       "    fig.ondownload(fig, format);\n",
       "}\n",
       "\n",
       "\n",
       "mpl.figure.prototype.handle_resize = function(fig, msg) {\n",
       "    var size = msg['size'];\n",
       "    if (size[0] != fig.canvas.width || size[1] != fig.canvas.height) {\n",
       "        fig._resize_canvas(size[0], size[1]);\n",
       "        fig.send_message(\"refresh\", {});\n",
       "    };\n",
       "}\n",
       "\n",
       "mpl.figure.prototype.handle_rubberband = function(fig, msg) {\n",
       "    var x0 = msg['x0'] / mpl.ratio;\n",
       "    var y0 = (fig.canvas.height - msg['y0']) / mpl.ratio;\n",
       "    var x1 = msg['x1'] / mpl.ratio;\n",
       "    var y1 = (fig.canvas.height - msg['y1']) / mpl.ratio;\n",
       "    x0 = Math.floor(x0) + 0.5;\n",
       "    y0 = Math.floor(y0) + 0.5;\n",
       "    x1 = Math.floor(x1) + 0.5;\n",
       "    y1 = Math.floor(y1) + 0.5;\n",
       "    var min_x = Math.min(x0, x1);\n",
       "    var min_y = Math.min(y0, y1);\n",
       "    var width = Math.abs(x1 - x0);\n",
       "    var height = Math.abs(y1 - y0);\n",
       "\n",
       "    fig.rubberband_context.clearRect(\n",
       "        0, 0, fig.canvas.width, fig.canvas.height);\n",
       "\n",
       "    fig.rubberband_context.strokeRect(min_x, min_y, width, height);\n",
       "}\n",
       "\n",
       "mpl.figure.prototype.handle_figure_label = function(fig, msg) {\n",
       "    // Updates the figure title.\n",
       "    fig.header.textContent = msg['label'];\n",
       "}\n",
       "\n",
       "mpl.figure.prototype.handle_cursor = function(fig, msg) {\n",
       "    var cursor = msg['cursor'];\n",
       "    switch(cursor)\n",
       "    {\n",
       "    case 0:\n",
       "        cursor = 'pointer';\n",
       "        break;\n",
       "    case 1:\n",
       "        cursor = 'default';\n",
       "        break;\n",
       "    case 2:\n",
       "        cursor = 'crosshair';\n",
       "        break;\n",
       "    case 3:\n",
       "        cursor = 'move';\n",
       "        break;\n",
       "    }\n",
       "    fig.rubberband_canvas.style.cursor = cursor;\n",
       "}\n",
       "\n",
       "mpl.figure.prototype.handle_message = function(fig, msg) {\n",
       "    fig.message.textContent = msg['message'];\n",
       "}\n",
       "\n",
       "mpl.figure.prototype.handle_draw = function(fig, msg) {\n",
       "    // Request the server to send over a new figure.\n",
       "    fig.send_draw_message();\n",
       "}\n",
       "\n",
       "mpl.figure.prototype.handle_image_mode = function(fig, msg) {\n",
       "    fig.image_mode = msg['mode'];\n",
       "}\n",
       "\n",
       "mpl.figure.prototype.updated_canvas_event = function() {\n",
       "    // Called whenever the canvas gets updated.\n",
       "    this.send_message(\"ack\", {});\n",
       "}\n",
       "\n",
       "// A function to construct a web socket function for onmessage handling.\n",
       "// Called in the figure constructor.\n",
       "mpl.figure.prototype._make_on_message_function = function(fig) {\n",
       "    return function socket_on_message(evt) {\n",
       "        if (evt.data instanceof Blob) {\n",
       "            /* FIXME: We get \"Resource interpreted as Image but\n",
       "             * transferred with MIME type text/plain:\" errors on\n",
       "             * Chrome.  But how to set the MIME type?  It doesn't seem\n",
       "             * to be part of the websocket stream */\n",
       "            evt.data.type = \"image/png\";\n",
       "\n",
       "            /* Free the memory for the previous frames */\n",
       "            if (fig.imageObj.src) {\n",
       "                (window.URL || window.webkitURL).revokeObjectURL(\n",
       "                    fig.imageObj.src);\n",
       "            }\n",
       "\n",
       "            fig.imageObj.src = (window.URL || window.webkitURL).createObjectURL(\n",
       "                evt.data);\n",
       "            fig.updated_canvas_event();\n",
       "            fig.waiting = false;\n",
       "            return;\n",
       "        }\n",
       "        else if (typeof evt.data === 'string' && evt.data.slice(0, 21) == \"data:image/png;base64\") {\n",
       "            fig.imageObj.src = evt.data;\n",
       "            fig.updated_canvas_event();\n",
       "            fig.waiting = false;\n",
       "            return;\n",
       "        }\n",
       "\n",
       "        var msg = JSON.parse(evt.data);\n",
       "        var msg_type = msg['type'];\n",
       "\n",
       "        // Call the  \"handle_{type}\" callback, which takes\n",
       "        // the figure and JSON message as its only arguments.\n",
       "        try {\n",
       "            var callback = fig[\"handle_\" + msg_type];\n",
       "        } catch (e) {\n",
       "            console.log(\"No handler for the '\" + msg_type + \"' message type: \", msg);\n",
       "            return;\n",
       "        }\n",
       "\n",
       "        if (callback) {\n",
       "            try {\n",
       "                // console.log(\"Handling '\" + msg_type + \"' message: \", msg);\n",
       "                callback(fig, msg);\n",
       "            } catch (e) {\n",
       "                console.log(\"Exception inside the 'handler_\" + msg_type + \"' callback:\", e, e.stack, msg);\n",
       "            }\n",
       "        }\n",
       "    };\n",
       "}\n",
       "\n",
       "// from http://stackoverflow.com/questions/1114465/getting-mouse-location-in-canvas\n",
       "mpl.findpos = function(e) {\n",
       "    //this section is from http://www.quirksmode.org/js/events_properties.html\n",
       "    var targ;\n",
       "    if (!e)\n",
       "        e = window.event;\n",
       "    if (e.target)\n",
       "        targ = e.target;\n",
       "    else if (e.srcElement)\n",
       "        targ = e.srcElement;\n",
       "    if (targ.nodeType == 3) // defeat Safari bug\n",
       "        targ = targ.parentNode;\n",
       "\n",
       "    // jQuery normalizes the pageX and pageY\n",
       "    // pageX,Y are the mouse positions relative to the document\n",
       "    // offset() returns the position of the element relative to the document\n",
       "    var x = e.pageX - $(targ).offset().left;\n",
       "    var y = e.pageY - $(targ).offset().top;\n",
       "\n",
       "    return {\"x\": x, \"y\": y};\n",
       "};\n",
       "\n",
       "/*\n",
       " * return a copy of an object with only non-object keys\n",
       " * we need this to avoid circular references\n",
       " * http://stackoverflow.com/a/24161582/3208463\n",
       " */\n",
       "function simpleKeys (original) {\n",
       "  return Object.keys(original).reduce(function (obj, key) {\n",
       "    if (typeof original[key] !== 'object')\n",
       "        obj[key] = original[key]\n",
       "    return obj;\n",
       "  }, {});\n",
       "}\n",
       "\n",
       "mpl.figure.prototype.mouse_event = function(event, name) {\n",
       "    var canvas_pos = mpl.findpos(event)\n",
       "\n",
       "    if (name === 'button_press')\n",
       "    {\n",
       "        this.canvas.focus();\n",
       "        this.canvas_div.focus();\n",
       "    }\n",
       "\n",
       "    var x = canvas_pos.x * mpl.ratio;\n",
       "    var y = canvas_pos.y * mpl.ratio;\n",
       "\n",
       "    this.send_message(name, {x: x, y: y, button: event.button,\n",
       "                             step: event.step,\n",
       "                             guiEvent: simpleKeys(event)});\n",
       "\n",
       "    /* This prevents the web browser from automatically changing to\n",
       "     * the text insertion cursor when the button is pressed.  We want\n",
       "     * to control all of the cursor setting manually through the\n",
       "     * 'cursor' event from matplotlib */\n",
       "    event.preventDefault();\n",
       "    return false;\n",
       "}\n",
       "\n",
       "mpl.figure.prototype._key_event_extra = function(event, name) {\n",
       "    // Handle any extra behaviour associated with a key event\n",
       "}\n",
       "\n",
       "mpl.figure.prototype.key_event = function(event, name) {\n",
       "\n",
       "    // Prevent repeat events\n",
       "    if (name == 'key_press')\n",
       "    {\n",
       "        if (event.which === this._key)\n",
       "            return;\n",
       "        else\n",
       "            this._key = event.which;\n",
       "    }\n",
       "    if (name == 'key_release')\n",
       "        this._key = null;\n",
       "\n",
       "    var value = '';\n",
       "    if (event.ctrlKey && event.which != 17)\n",
       "        value += \"ctrl+\";\n",
       "    if (event.altKey && event.which != 18)\n",
       "        value += \"alt+\";\n",
       "    if (event.shiftKey && event.which != 16)\n",
       "        value += \"shift+\";\n",
       "\n",
       "    value += 'k';\n",
       "    value += event.which.toString();\n",
       "\n",
       "    this._key_event_extra(event, name);\n",
       "\n",
       "    this.send_message(name, {key: value,\n",
       "                             guiEvent: simpleKeys(event)});\n",
       "    return false;\n",
       "}\n",
       "\n",
       "mpl.figure.prototype.toolbar_button_onclick = function(name) {\n",
       "    if (name == 'download') {\n",
       "        this.handle_save(this, null);\n",
       "    } else {\n",
       "        this.send_message(\"toolbar_button\", {name: name});\n",
       "    }\n",
       "};\n",
       "\n",
       "mpl.figure.prototype.toolbar_button_onmouseover = function(tooltip) {\n",
       "    this.message.textContent = tooltip;\n",
       "};\n",
       "mpl.toolbar_items = [[\"Home\", \"Reset original view\", \"fa fa-home icon-home\", \"home\"], [\"Back\", \"Back to previous view\", \"fa fa-arrow-left icon-arrow-left\", \"back\"], [\"Forward\", \"Forward to next view\", \"fa fa-arrow-right icon-arrow-right\", \"forward\"], [\"\", \"\", \"\", \"\"], [\"Pan\", \"Pan axes with left mouse, zoom with right\", \"fa fa-arrows icon-move\", \"pan\"], [\"Zoom\", \"Zoom to rectangle\", \"fa fa-square-o icon-check-empty\", \"zoom\"], [\"\", \"\", \"\", \"\"], [\"Download\", \"Download plot\", \"fa fa-floppy-o icon-save\", \"download\"]];\n",
       "\n",
       "mpl.extensions = [\"eps\", \"jpeg\", \"pdf\", \"png\", \"ps\", \"raw\", \"svg\", \"tif\"];\n",
       "\n",
       "mpl.default_extension = \"png\";var comm_websocket_adapter = function(comm) {\n",
       "    // Create a \"websocket\"-like object which calls the given IPython comm\n",
       "    // object with the appropriate methods. Currently this is a non binary\n",
       "    // socket, so there is still some room for performance tuning.\n",
       "    var ws = {};\n",
       "\n",
       "    ws.close = function() {\n",
       "        comm.close()\n",
       "    };\n",
       "    ws.send = function(m) {\n",
       "        //console.log('sending', m);\n",
       "        comm.send(m);\n",
       "    };\n",
       "    // Register the callback with on_msg.\n",
       "    comm.on_msg(function(msg) {\n",
       "        //console.log('receiving', msg['content']['data'], msg);\n",
       "        // Pass the mpl event to the overridden (by mpl) onmessage function.\n",
       "        ws.onmessage(msg['content']['data'])\n",
       "    });\n",
       "    return ws;\n",
       "}\n",
       "\n",
       "mpl.mpl_figure_comm = function(comm, msg) {\n",
       "    // This is the function which gets called when the mpl process\n",
       "    // starts-up an IPython Comm through the \"matplotlib\" channel.\n",
       "\n",
       "    var id = msg.content.data.id;\n",
       "    // Get hold of the div created by the display call when the Comm\n",
       "    // socket was opened in Python.\n",
       "    var element = $(\"#\" + id);\n",
       "    var ws_proxy = comm_websocket_adapter(comm)\n",
       "\n",
       "    function ondownload(figure, format) {\n",
       "        window.open(figure.imageObj.src);\n",
       "    }\n",
       "\n",
       "    var fig = new mpl.figure(id, ws_proxy,\n",
       "                           ondownload,\n",
       "                           element.get(0));\n",
       "\n",
       "    // Call onopen now - mpl needs it, as it is assuming we've passed it a real\n",
       "    // web socket which is closed, not our websocket->open comm proxy.\n",
       "    ws_proxy.onopen();\n",
       "\n",
       "    fig.parent_element = element.get(0);\n",
       "    fig.cell_info = mpl.find_output_cell(\"<div id='\" + id + \"'></div>\");\n",
       "    if (!fig.cell_info) {\n",
       "        console.error(\"Failed to find cell for figure\", id, fig);\n",
       "        return;\n",
       "    }\n",
       "\n",
       "    var output_index = fig.cell_info[2]\n",
       "    var cell = fig.cell_info[0];\n",
       "\n",
       "};\n",
       "\n",
       "mpl.figure.prototype.handle_close = function(fig, msg) {\n",
       "    var width = fig.canvas.width/mpl.ratio\n",
       "    fig.root.unbind('remove')\n",
       "\n",
       "    // Update the output cell to use the data from the current canvas.\n",
       "    fig.push_to_output();\n",
       "    var dataURL = fig.canvas.toDataURL();\n",
       "    // Re-enable the keyboard manager in IPython - without this line, in FF,\n",
       "    // the notebook keyboard shortcuts fail.\n",
       "    IPython.keyboard_manager.enable()\n",
       "    $(fig.parent_element).html('<img src=\"' + dataURL + '\" width=\"' + width + '\">');\n",
       "    fig.close_ws(fig, msg);\n",
       "}\n",
       "\n",
       "mpl.figure.prototype.close_ws = function(fig, msg){\n",
       "    fig.send_message('closing', msg);\n",
       "    // fig.ws.close()\n",
       "}\n",
       "\n",
       "mpl.figure.prototype.push_to_output = function(remove_interactive) {\n",
       "    // Turn the data on the canvas into data in the output cell.\n",
       "    var width = this.canvas.width/mpl.ratio\n",
       "    var dataURL = this.canvas.toDataURL();\n",
       "    this.cell_info[1]['text/html'] = '<img src=\"' + dataURL + '\" width=\"' + width + '\">';\n",
       "}\n",
       "\n",
       "mpl.figure.prototype.updated_canvas_event = function() {\n",
       "    // Tell IPython that the notebook contents must change.\n",
       "    IPython.notebook.set_dirty(true);\n",
       "    this.send_message(\"ack\", {});\n",
       "    var fig = this;\n",
       "    // Wait a second, then push the new image to the DOM so\n",
       "    // that it is saved nicely (might be nice to debounce this).\n",
       "    setTimeout(function () { fig.push_to_output() }, 1000);\n",
       "}\n",
       "\n",
       "mpl.figure.prototype._init_toolbar = function() {\n",
       "    var fig = this;\n",
       "\n",
       "    var nav_element = $('<div/>')\n",
       "    nav_element.attr('style', 'width: 100%');\n",
       "    this.root.append(nav_element);\n",
       "\n",
       "    // Define a callback function for later on.\n",
       "    function toolbar_event(event) {\n",
       "        return fig.toolbar_button_onclick(event['data']);\n",
       "    }\n",
       "    function toolbar_mouse_event(event) {\n",
       "        return fig.toolbar_button_onmouseover(event['data']);\n",
       "    }\n",
       "\n",
       "    for(var toolbar_ind in mpl.toolbar_items){\n",
       "        var name = mpl.toolbar_items[toolbar_ind][0];\n",
       "        var tooltip = mpl.toolbar_items[toolbar_ind][1];\n",
       "        var image = mpl.toolbar_items[toolbar_ind][2];\n",
       "        var method_name = mpl.toolbar_items[toolbar_ind][3];\n",
       "\n",
       "        if (!name) { continue; };\n",
       "\n",
       "        var button = $('<button class=\"btn btn-default\" href=\"#\" title=\"' + name + '\"><i class=\"fa ' + image + ' fa-lg\"></i></button>');\n",
       "        button.click(method_name, toolbar_event);\n",
       "        button.mouseover(tooltip, toolbar_mouse_event);\n",
       "        nav_element.append(button);\n",
       "    }\n",
       "\n",
       "    // Add the status bar.\n",
       "    var status_bar = $('<span class=\"mpl-message\" style=\"text-align:right; float: right;\"/>');\n",
       "    nav_element.append(status_bar);\n",
       "    this.message = status_bar[0];\n",
       "\n",
       "    // Add the close button to the window.\n",
       "    var buttongrp = $('<div class=\"btn-group inline pull-right\"></div>');\n",
       "    var button = $('<button class=\"btn btn-mini btn-primary\" href=\"#\" title=\"Stop Interaction\"><i class=\"fa fa-power-off icon-remove icon-large\"></i></button>');\n",
       "    button.click(function (evt) { fig.handle_close(fig, {}); } );\n",
       "    button.mouseover('Stop Interaction', toolbar_mouse_event);\n",
       "    buttongrp.append(button);\n",
       "    var titlebar = this.root.find($('.ui-dialog-titlebar'));\n",
       "    titlebar.prepend(buttongrp);\n",
       "}\n",
       "\n",
       "mpl.figure.prototype._root_extra_style = function(el){\n",
       "    var fig = this\n",
       "    el.on(\"remove\", function(){\n",
       "\tfig.close_ws(fig, {});\n",
       "    });\n",
       "}\n",
       "\n",
       "mpl.figure.prototype._canvas_extra_style = function(el){\n",
       "    // this is important to make the div 'focusable\n",
       "    el.attr('tabindex', 0)\n",
       "    // reach out to IPython and tell the keyboard manager to turn it's self\n",
       "    // off when our div gets focus\n",
       "\n",
       "    // location in version 3\n",
       "    if (IPython.notebook.keyboard_manager) {\n",
       "        IPython.notebook.keyboard_manager.register_events(el);\n",
       "    }\n",
       "    else {\n",
       "        // location in version 2\n",
       "        IPython.keyboard_manager.register_events(el);\n",
       "    }\n",
       "\n",
       "}\n",
       "\n",
       "mpl.figure.prototype._key_event_extra = function(event, name) {\n",
       "    var manager = IPython.notebook.keyboard_manager;\n",
       "    if (!manager)\n",
       "        manager = IPython.keyboard_manager;\n",
       "\n",
       "    // Check for shift+enter\n",
       "    if (event.shiftKey && event.which == 13) {\n",
       "        this.canvas_div.blur();\n",
       "        event.shiftKey = false;\n",
       "        // Send a \"J\" for go to next cell\n",
       "        event.which = 74;\n",
       "        event.keyCode = 74;\n",
       "        manager.command_mode();\n",
       "        manager.handle_keydown(event);\n",
       "    }\n",
       "}\n",
       "\n",
       "mpl.figure.prototype.handle_save = function(fig, msg) {\n",
       "    fig.ondownload(fig, null);\n",
       "}\n",
       "\n",
       "\n",
       "mpl.find_output_cell = function(html_output) {\n",
       "    // Return the cell and output element which can be found *uniquely* in the notebook.\n",
       "    // Note - this is a bit hacky, but it is done because the \"notebook_saving.Notebook\"\n",
       "    // IPython event is triggered only after the cells have been serialised, which for\n",
       "    // our purposes (turning an active figure into a static one), is too late.\n",
       "    var cells = IPython.notebook.get_cells();\n",
       "    var ncells = cells.length;\n",
       "    for (var i=0; i<ncells; i++) {\n",
       "        var cell = cells[i];\n",
       "        if (cell.cell_type === 'code'){\n",
       "            for (var j=0; j<cell.output_area.outputs.length; j++) {\n",
       "                var data = cell.output_area.outputs[j];\n",
       "                if (data.data) {\n",
       "                    // IPython >= 3 moved mimebundle to data attribute of output\n",
       "                    data = data.data;\n",
       "                }\n",
       "                if (data['text/html'] == html_output) {\n",
       "                    return [cell, data, j];\n",
       "                }\n",
       "            }\n",
       "        }\n",
       "    }\n",
       "}\n",
       "\n",
       "// Register the function which deals with the matplotlib target/channel.\n",
       "// The kernel may be null if the page has been refreshed.\n",
       "if (IPython.notebook.kernel != null) {\n",
       "    IPython.notebook.kernel.comm_manager.register_target('matplotlib', mpl.mpl_figure_comm);\n",
       "}\n"
      ],
      "text/plain": [
       "<IPython.core.display.Javascript object>"
      ]
     },
     "metadata": {},
     "output_type": "display_data"
    },
    {
     "data": {
      "text/html": [
       "<img src=\"data:image/png;base64,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\" width=\"640\">"
      ],
      "text/plain": [
       "<IPython.core.display.HTML object>"
      ]
     },
     "metadata": {},
     "output_type": "display_data"
    },
    {
     "data": {
      "application/vnd.plotly.v1+json": {
       "config": {
        "plotlyServerURL": "https://plotly.com"
       },
       "data": [
        {
         "name": "Susceptible",
         "type": "scatter",
         "x": [
          0,
          1.0101010101010102,
          2.0202020202020203,
          3.0303030303030303,
          4.040404040404041,
          5.050505050505051,
          6.0606060606060606,
          7.070707070707071,
          8.080808080808081,
          9.090909090909092,
          10.101010101010102,
          11.111111111111112,
          12.121212121212121,
          13.131313131313131,
          14.141414141414142,
          15.151515151515152,
          16.161616161616163,
          17.171717171717173,
          18.181818181818183,
          19.191919191919194,
          20.202020202020204,
          21.212121212121215,
          22.222222222222225,
          23.232323232323235,
          24.242424242424242,
          25.252525252525253,
          26.262626262626263,
          27.272727272727273,
          28.282828282828284,
          29.292929292929294,
          30.303030303030305,
          31.313131313131315,
          32.323232323232325,
          33.333333333333336,
          34.343434343434346,
          35.35353535353536,
          36.36363636363637,
          37.37373737373738,
          38.38383838383839,
          39.3939393939394,
          40.40404040404041,
          41.41414141414142,
          42.42424242424243,
          43.43434343434344,
          44.44444444444445,
          45.45454545454546,
          46.46464646464647,
          47.47474747474748,
          48.484848484848484,
          49.494949494949495,
          50.505050505050505,
          51.515151515151516,
          52.525252525252526,
          53.535353535353536,
          54.54545454545455,
          55.55555555555556,
          56.56565656565657,
          57.57575757575758,
          58.58585858585859,
          59.5959595959596,
          60.60606060606061,
          61.61616161616162,
          62.62626262626263,
          63.63636363636364,
          64.64646464646465,
          65.65656565656566,
          66.66666666666667,
          67.67676767676768,
          68.68686868686869,
          69.6969696969697,
          70.70707070707071,
          71.71717171717172,
          72.72727272727273,
          73.73737373737374,
          74.74747474747475,
          75.75757575757576,
          76.76767676767678,
          77.77777777777779,
          78.7878787878788,
          79.7979797979798,
          80.80808080808082,
          81.81818181818183,
          82.82828282828284,
          83.83838383838385,
          84.84848484848486,
          85.85858585858587,
          86.86868686868688,
          87.87878787878789,
          88.8888888888889,
          89.89898989898991,
          90.90909090909092,
          91.91919191919193,
          92.92929292929294,
          93.93939393939395,
          94.94949494949496,
          95.95959595959597,
          96.96969696969697,
          97.97979797979798,
          98.98989898989899,
          100
         ],
         "y": [
          3.9216236602278376,
          3.921192081108256,
          3.9206201066993533,
          3.919862138875725,
          3.9188578258650244,
          3.9175273296910444,
          3.9157651089534014,
          3.9134317722435545,
          3.910343447535521,
          3.9062579825174044,
          3.9008571614224454,
          3.8937240126435344,
          3.8843142453366015,
          3.8719209797124323,
          3.8556323894272917,
          3.8342829054105474,
          3.8064006263060555,
          3.770157059317738,
          3.7233308146173996,
          3.6633047278539945,
          3.587125466619795,
          3.4916633441167764,
          3.373911636978454,
          3.2314489527157924,
          3.063043560289906,
          2.869302201413383,
          2.6531777202587414,
          2.4201028395997217,
          2.1775753713128747,
          1.9342026159402004,
          1.6984445129080612,
          1.477435235195937,
          1.2762158924939597,
          1.0975135470362722,
          0.9419860727037334,
          0.8087325518717112,
          0.6958654277226606,
          0.6010083165893386,
          0.5216617159977673,
          0.45543500617371246,
          0.40017084377417184,
          0.35399477252167555,
          0.3153187964388907,
          0.2828201031080204,
          0.2554088018655793,
          0.23219299006869995,
          0.2124454437724646,
          0.19557408404057378,
          0.18109672228978393,
          0.1686200910256918,
          0.1578226778039028,
          0.14844083117106782,
          0.1402575849958795,
          0.13309370441874518,
          0.12680052197071776,
          0.12125420608637485,
          0.11635117163638212,
          0.11200439827994195,
          0.10814046983591369,
          0.10469718673011215,
          0.10162163447525598,
          0.09886861578271361,
          0.09639937331782192,
          0.09418054541624865,
          0.09218330929667486,
          0.09038267441242674,
          0.0887568996981443,
          0.08728700863112406,
          0.08595638584797258,
          0.08475043975956169,
          0.0836563194414897,
          0.08266267624683403,
          0.08175946232510553,
          0.08093775991647352,
          0.08018963544085744,
          0.07950801607374441,
          0.07888658301797959,
          0.07831968014632412,
          0.07780223545639019,
          0.07732969281181097,
          0.07689795289902425,
          0.07650332191554061,
          0.07614246678890256,
          0.07581237595429877,
          0.0755103250639042,
          0.07523384668419798,
          0.07498070372554846,
          0.07474886598471275,
          0.07453648933412231,
          0.07434189708120059,
          0.0741635637745942,
          0.07400010036155238,
          0.07385024123358952,
          0.0737128324967353,
          0.07358682147899817,
          0.07347124738492777,
          0.07336523277292044,
          0.07326797601713414,
          0.07317874441511553,
          0.0730968679772794
         ]
        },
        {
         "name": "Infected",
         "type": "scatter",
         "x": [
          0,
          1.0101010101010102,
          2.0202020202020203,
          3.0303030303030303,
          4.040404040404041,
          5.050505050505051,
          6.0606060606060606,
          7.070707070707071,
          8.080808080808081,
          9.090909090909092,
          10.101010101010102,
          11.111111111111112,
          12.121212121212121,
          13.131313131313131,
          14.141414141414142,
          15.151515151515152,
          16.161616161616163,
          17.171717171717173,
          18.181818181818183,
          19.191919191919194,
          20.202020202020204,
          21.212121212121215,
          22.222222222222225,
          23.232323232323235,
          24.242424242424242,
          25.252525252525253,
          26.262626262626263,
          27.272727272727273,
          28.282828282828284,
          29.292929292929294,
          30.303030303030305,
          31.313131313131315,
          32.323232323232325,
          33.333333333333336,
          34.343434343434346,
          35.35353535353536,
          36.36363636363637,
          37.37373737373738,
          38.38383838383839,
          39.3939393939394,
          40.40404040404041,
          41.41414141414142,
          42.42424242424243,
          43.43434343434344,
          44.44444444444445,
          45.45454545454546,
          46.46464646464647,
          47.47474747474748,
          48.484848484848484,
          49.494949494949495,
          50.505050505050505,
          51.515151515151516,
          52.525252525252526,
          53.535353535353536,
          54.54545454545455,
          55.55555555555556,
          56.56565656565657,
          57.57575757575758,
          58.58585858585859,
          59.5959595959596,
          60.60606060606061,
          61.61616161616162,
          62.62626262626263,
          63.63636363636364,
          64.64646464646465,
          65.65656565656566,
          66.66666666666667,
          67.67676767676768,
          68.68686868686869,
          69.6969696969697,
          70.70707070707071,
          71.71717171717172,
          72.72727272727273,
          73.73737373737374,
          74.74747474747475,
          75.75757575757576,
          76.76767676767678,
          77.77777777777779,
          78.7878787878788,
          79.7979797979798,
          80.80808080808082,
          81.81818181818183,
          82.82828282828284,
          83.83838383838385,
          84.84848484848486,
          85.85858585858587,
          86.86868686868688,
          87.87878787878789,
          88.8888888888889,
          89.89898989898991,
          90.90909090909092,
          91.91919191919193,
          92.92929292929294,
          93.93939393939395,
          94.94949494949496,
          95.95959595959597,
          96.96969696969697,
          97.97979797979798,
          98.98989898989899,
          100
         ],
         "y": [
          0.001,
          0.0013255071474563755,
          0.0017568857417668796,
          0.002328507500336562,
          0.003085855077243556,
          0.0040890783156457035,
          0.00541766018122328,
          0.007176520157627745,
          0.009503960176876472,
          0.012581946666843898,
          0.016649303109600787,
          0.022018442662732073,
          0.02909624905247631,
          0.03840953817402443,
          0.05063505784594071,
          0.06663299685820871,
          0.08748114867481958,
          0.11450378941946755,
          0.14928457914898957,
          0.19364621601766913,
          0.24957192607389778,
          0.3190378006994658,
          0.4037262924350171,
          0.5046090075586035,
          0.62143085910662,
          0.7521980273145656,
          0.8928473680896525,
          1.0373036934565294,
          1.178056911900305,
          1.3072043257056667,
          1.4176868294565341,
          1.504338828630359,
          1.5644514109880943,
          1.5977640023855517,
          1.6060128533550433,
          1.5922670462369974,
          1.5602650489168959,
          1.5138811950007542,
          1.456765368229123,
          1.3921419314870778,
          1.3227288723046433,
          1.2507352611318194,
          1.1779027368543415,
          1.1055669682289546,
          1.034724148825225,
          0.9660941413102738,
          0.9001765483349987,
          0.8372982039128313,
          0.7776524451801654,
          0.7213308217845436,
          0.6683484054672599,
          0.6186637519437965,
          0.5721945223499622,
          0.5288296076584574,
          0.4884384886419121,
          0.45087840484581565,
          0.41599980668287345,
          0.3836504627136354,
          0.35367851901094227,
          0.3259347435433516,
          0.30027413865328784,
          0.27655706523479734,
          0.25464999104663755,
          0.23442595116293494,
          0.21576478905326182,
          0.1985532338683585,
          0.18268485167519152,
          0.16805990867238543,
          0.1545851681517818,
          0.14217364234516458,
          0.13074431432465167,
          0.12022184162732302,
          0.11053625060960001,
          0.10162262826689494,
          0.0934208177318095,
          0.0858751183785805,
          0.07893399690020754,
          0.07254980891626928,
          0.06667853262238008,
          0.061279516152814566,
          0.05631523824461687,
          0.0517510825844185,
          0.04755512562084792,
          0.04369793777522765,
          0.04015239736427357,
          0.03689351701818468,
          0.03389828180278362,
          0.031145498503176206,
          0.028615655748102015,
          0.026290794133797434,
          0.02415438564845122,
          0.022191222130355452,
          0.020387311897739773,
          0.018729784217922336,
          0.01720680093293992,
          0.015807474866175626,
          0.014521794401247205,
          0.013340553989904906,
          0.01225528994953683,
          0.011258221233663972
         ]
        },
        {
         "name": "Recovered with immunity",
         "type": "scatter",
         "x": [
          0,
          1.0101010101010102,
          2.0202020202020203,
          3.0303030303030303,
          4.040404040404041,
          5.050505050505051,
          6.0606060606060606,
          7.070707070707071,
          8.080808080808081,
          9.090909090909092,
          10.101010101010102,
          11.111111111111112,
          12.121212121212121,
          13.131313131313131,
          14.141414141414142,
          15.151515151515152,
          16.161616161616163,
          17.171717171717173,
          18.181818181818183,
          19.191919191919194,
          20.202020202020204,
          21.212121212121215,
          22.222222222222225,
          23.232323232323235,
          24.242424242424242,
          25.252525252525253,
          26.262626262626263,
          27.272727272727273,
          28.282828282828284,
          29.292929292929294,
          30.303030303030305,
          31.313131313131315,
          32.323232323232325,
          33.333333333333336,
          34.343434343434346,
          35.35353535353536,
          36.36363636363637,
          37.37373737373738,
          38.38383838383839,
          39.3939393939394,
          40.40404040404041,
          41.41414141414142,
          42.42424242424243,
          43.43434343434344,
          44.44444444444445,
          45.45454545454546,
          46.46464646464647,
          47.47474747474748,
          48.484848484848484,
          49.494949494949495,
          50.505050505050505,
          51.515151515151516,
          52.525252525252526,
          53.535353535353536,
          54.54545454545455,
          55.55555555555556,
          56.56565656565657,
          57.57575757575758,
          58.58585858585859,
          59.5959595959596,
          60.60606060606061,
          61.61616161616162,
          62.62626262626263,
          63.63636363636364,
          64.64646464646465,
          65.65656565656566,
          66.66666666666667,
          67.67676767676768,
          68.68686868686869,
          69.6969696969697,
          70.70707070707071,
          71.71717171717172,
          72.72727272727273,
          73.73737373737374,
          74.74747474747475,
          75.75757575757576,
          76.76767676767678,
          77.77777777777779,
          78.7878787878788,
          79.7979797979798,
          80.80808080808082,
          81.81818181818183,
          82.82828282828284,
          83.83838383838385,
          84.84848484848486,
          85.85858585858587,
          86.86868686868688,
          87.87878787878789,
          88.8888888888889,
          89.89898989898991,
          90.90909090909092,
          91.91919191919193,
          92.92929292929294,
          93.93939393939395,
          94.94949494949496,
          95.95959595959597,
          96.96969696969697,
          97.97979797979798,
          98.98989898989899,
          100
         ],
         "y": [
          0,
          0.00010607197212590264,
          0.00024666778671794903,
          0.0004330138517777848,
          0.0006799792855704071,
          0.0010072522211475024,
          0.0014408910932125986,
          0.002015367826655119,
          0.002776252515439316,
          0.0037837310435886343,
          0.005117195695790311,
          0.006881204921570048,
          0.00921316583875894,
          0.012293142341380136,
          0.01635621295460422,
          0.021707757959081142,
          0.028741885246962414,
          0.037962811490631916,
          0.05000826646144882,
          0.06567271635617458,
          0.08592626753414509,
          0.11192251541159569,
          0.1449857308143664,
          0.18656569995344122,
          0.23814924083131128,
          0.30112343149988857,
          0.3765985718794435,
          0.46521712717158636,
          0.5669913770146581,
          0.6812167185819704,
          0.8064923178632419,
          0.9408495964015413,
          1.0819563567457835,
          1.2273461108060135,
          1.3746247341690607,
          1.5216240621191284,
          1.6664931835882808,
          1.8077341486377443,
          1.9441965760009465,
          2.0750467225670475,
          2.199723944149022,
          2.317893626574343,
          2.4294021269346056,
          2.5342365888908627,
          2.632490709537034,
          2.724336528848864,
          2.8100016681203743,
          2.8897513722744326,
          2.9638744927578884,
          3.0326727474176023,
          3.096452576956675,
          3.1555190771129733,
          3.2101715528819956,
          3.2607003481506345,
          3.307384649615207,
          3.350491049295646,
          3.390272681908581,
          3.426968799234259,
          3.4608046713809806,
          3.491991729954372,
          3.520727887099292,
          3.5471979792103254,
          3.571574295863377,
          3.594017163648652,
          3.614675561877899,
          3.6336877519470505,
          3.6511819088545,
          3.667276742924326,
          3.6820821062280813,
          3.695699578123109,
          3.708223026461694,
          3.7197391423536783,
          3.7303279472931306,
          3.7400632720444675,
          3.749013207055169,
          3.7572405257755115,
          3.764803080309649,
          3.771754171165243,
          3.778142892149066,
          3.7840144512632103,
          3.789410469084195,
          3.794369255727877,
          3.798926067818085,
          3.8031133464983093,
          3.806960937799658,
          3.8104962965254527,
          3.813744674699503,
          3.8167292957399463,
          3.819471515145611,
          3.8219909690128375,
          3.82430571080479,
          3.8264323377359277,
          3.828386107096507,
          3.8301810435131785,
          3.831830037815898,
          3.8333449379767326,
          3.8347366330536685,
          3.836015130220797,
          3.8371896258631835,
          3.838268571016893
         ]
        },
        {
         "name": "# Deaths per day",
         "type": "bar",
         "x": [
          0,
          1,
          2,
          3,
          4,
          5,
          6,
          7,
          8,
          9,
          10,
          11,
          12,
          13,
          14,
          15,
          16,
          17,
          18,
          19,
          20,
          21,
          22,
          23,
          24,
          25,
          26,
          27,
          28,
          29,
          30,
          31,
          32,
          33,
          34,
          35,
          36,
          37,
          38,
          39,
          40,
          41,
          42,
          43,
          44,
          45,
          46,
          47,
          48,
          49
         ],
         "y": [
          0,
          0,
          0,
          0,
          0,
          0,
          0,
          0,
          0.01,
          0.01,
          0.02,
          0.01,
          0.01,
          0.02,
          0.03,
          0.06,
          0.1,
          0.14,
          0.23,
          0.22,
          0.2,
          0.43,
          0.55,
          0.62,
          0.6,
          0.86,
          0.74,
          1.1,
          1.24,
          1.06,
          1.48,
          1.19,
          1.49,
          1.63,
          1.53,
          1.62,
          1.54,
          1.52,
          1.44,
          1.47,
          1.37,
          1.36,
          0.98,
          1.29,
          1.24,
          1.21,
          1.01,
          1.02,
          0.35,
          0.04
         ]
        }
       ],
       "layout": {
        "barmode": "stack",
        "font": {
         "size": 12
        },
        "legend": {
         "x": 0.05,
         "y": 0.95
        },
        "template": {
         "data": {
          "bar": [
           {
            "error_x": {
             "color": "#2a3f5f"
            },
            "error_y": {
             "color": "#2a3f5f"
            },
            "marker": {
             "line": {
              "color": "#E5ECF6",
              "width": 0.5
             }
            },
            "type": "bar"
           }
          ],
          "barpolar": [
           {
            "marker": {
             "line": {
              "color": "#E5ECF6",
              "width": 0.5
             }
            },
            "type": "barpolar"
           }
          ],
          "carpet": [
           {
            "aaxis": {
             "endlinecolor": "#2a3f5f",
             "gridcolor": "white",
             "linecolor": "white",
             "minorgridcolor": "white",
             "startlinecolor": "#2a3f5f"
            },
            "baxis": {
             "endlinecolor": "#2a3f5f",
             "gridcolor": "white",
             "linecolor": "white",
             "minorgridcolor": "white",
             "startlinecolor": "#2a3f5f"
            },
            "type": "carpet"
           }
          ],
          "choropleth": [
           {
            "colorbar": {
             "outlinewidth": 0,
             "ticks": ""
            },
            "type": "choropleth"
           }
          ],
          "contour": [
           {
            "colorbar": {
             "outlinewidth": 0,
             "ticks": ""
            },
            "colorscale": [
             [
              0,
              "#0d0887"
             ],
             [
              0.1111111111111111,
              "#46039f"
             ],
             [
              0.2222222222222222,
              "#7201a8"
             ],
             [
              0.3333333333333333,
              "#9c179e"
             ],
             [
              0.4444444444444444,
              "#bd3786"
             ],
             [
              0.5555555555555556,
              "#d8576b"
             ],
             [
              0.6666666666666666,
              "#ed7953"
             ],
             [
              0.7777777777777778,
              "#fb9f3a"
             ],
             [
              0.8888888888888888,
              "#fdca26"
             ],
             [
              1,
              "#f0f921"
             ]
            ],
            "type": "contour"
           }
          ],
          "contourcarpet": [
           {
            "colorbar": {
             "outlinewidth": 0,
             "ticks": ""
            },
            "type": "contourcarpet"
           }
          ],
          "heatmap": [
           {
            "colorbar": {
             "outlinewidth": 0,
             "ticks": ""
            },
            "colorscale": [
             [
              0,
              "#0d0887"
             ],
             [
              0.1111111111111111,
              "#46039f"
             ],
             [
              0.2222222222222222,
              "#7201a8"
             ],
             [
              0.3333333333333333,
              "#9c179e"
             ],
             [
              0.4444444444444444,
              "#bd3786"
             ],
             [
              0.5555555555555556,
              "#d8576b"
             ],
             [
              0.6666666666666666,
              "#ed7953"
             ],
             [
              0.7777777777777778,
              "#fb9f3a"
             ],
             [
              0.8888888888888888,
              "#fdca26"
             ],
             [
              1,
              "#f0f921"
             ]
            ],
            "type": "heatmap"
           }
          ],
          "heatmapgl": [
           {
            "colorbar": {
             "outlinewidth": 0,
             "ticks": ""
            },
            "colorscale": [
             [
              0,
              "#0d0887"
             ],
             [
              0.1111111111111111,
              "#46039f"
             ],
             [
              0.2222222222222222,
              "#7201a8"
             ],
             [
              0.3333333333333333,
              "#9c179e"
             ],
             [
              0.4444444444444444,
              "#bd3786"
             ],
             [
              0.5555555555555556,
              "#d8576b"
             ],
             [
              0.6666666666666666,
              "#ed7953"
             ],
             [
              0.7777777777777778,
              "#fb9f3a"
             ],
             [
              0.8888888888888888,
              "#fdca26"
             ],
             [
              1,
              "#f0f921"
             ]
            ],
            "type": "heatmapgl"
           }
          ],
          "histogram": [
           {
            "marker": {
             "colorbar": {
              "outlinewidth": 0,
              "ticks": ""
             }
            },
            "type": "histogram"
           }
          ],
          "histogram2d": [
           {
            "colorbar": {
             "outlinewidth": 0,
             "ticks": ""
            },
            "colorscale": [
             [
              0,
              "#0d0887"
             ],
             [
              0.1111111111111111,
              "#46039f"
             ],
             [
              0.2222222222222222,
              "#7201a8"
             ],
             [
              0.3333333333333333,
              "#9c179e"
             ],
             [
              0.4444444444444444,
              "#bd3786"
             ],
             [
              0.5555555555555556,
              "#d8576b"
             ],
             [
              0.6666666666666666,
              "#ed7953"
             ],
             [
              0.7777777777777778,
              "#fb9f3a"
             ],
             [
              0.8888888888888888,
              "#fdca26"
             ],
             [
              1,
              "#f0f921"
             ]
            ],
            "type": "histogram2d"
           }
          ],
          "histogram2dcontour": [
           {
            "colorbar": {
             "outlinewidth": 0,
             "ticks": ""
            },
            "colorscale": [
             [
              0,
              "#0d0887"
             ],
             [
              0.1111111111111111,
              "#46039f"
             ],
             [
              0.2222222222222222,
              "#7201a8"
             ],
             [
              0.3333333333333333,
              "#9c179e"
             ],
             [
              0.4444444444444444,
              "#bd3786"
             ],
             [
              0.5555555555555556,
              "#d8576b"
             ],
             [
              0.6666666666666666,
              "#ed7953"
             ],
             [
              0.7777777777777778,
              "#fb9f3a"
             ],
             [
              0.8888888888888888,
              "#fdca26"
             ],
             [
              1,
              "#f0f921"
             ]
            ],
            "type": "histogram2dcontour"
           }
          ],
          "mesh3d": [
           {
            "colorbar": {
             "outlinewidth": 0,
             "ticks": ""
            },
            "type": "mesh3d"
           }
          ],
          "parcoords": [
           {
            "line": {
             "colorbar": {
              "outlinewidth": 0,
              "ticks": ""
             }
            },
            "type": "parcoords"
           }
          ],
          "pie": [
           {
            "automargin": true,
            "type": "pie"
           }
          ],
          "scatter": [
           {
            "marker": {
             "colorbar": {
              "outlinewidth": 0,
              "ticks": ""
             }
            },
            "type": "scatter"
           }
          ],
          "scatter3d": [
           {
            "line": {
             "colorbar": {
              "outlinewidth": 0,
              "ticks": ""
             }
            },
            "marker": {
             "colorbar": {
              "outlinewidth": 0,
              "ticks": ""
             }
            },
            "type": "scatter3d"
           }
          ],
          "scattercarpet": [
           {
            "marker": {
             "colorbar": {
              "outlinewidth": 0,
              "ticks": ""
             }
            },
            "type": "scattercarpet"
           }
          ],
          "scattergeo": [
           {
            "marker": {
             "colorbar": {
              "outlinewidth": 0,
              "ticks": ""
             }
            },
            "type": "scattergeo"
           }
          ],
          "scattergl": [
           {
            "marker": {
             "colorbar": {
              "outlinewidth": 0,
              "ticks": ""
             }
            },
            "type": "scattergl"
           }
          ],
          "scattermapbox": [
           {
            "marker": {
             "colorbar": {
              "outlinewidth": 0,
              "ticks": ""
             }
            },
            "type": "scattermapbox"
           }
          ],
          "scatterpolar": [
           {
            "marker": {
             "colorbar": {
              "outlinewidth": 0,
              "ticks": ""
             }
            },
            "type": "scatterpolar"
           }
          ],
          "scatterpolargl": [
           {
            "marker": {
             "colorbar": {
              "outlinewidth": 0,
              "ticks": ""
             }
            },
            "type": "scatterpolargl"
           }
          ],
          "scatterternary": [
           {
            "marker": {
             "colorbar": {
              "outlinewidth": 0,
              "ticks": ""
             }
            },
            "type": "scatterternary"
           }
          ],
          "surface": [
           {
            "colorbar": {
             "outlinewidth": 0,
             "ticks": ""
            },
            "colorscale": [
             [
              0,
              "#0d0887"
             ],
             [
              0.1111111111111111,
              "#46039f"
             ],
             [
              0.2222222222222222,
              "#7201a8"
             ],
             [
              0.3333333333333333,
              "#9c179e"
             ],
             [
              0.4444444444444444,
              "#bd3786"
             ],
             [
              0.5555555555555556,
              "#d8576b"
             ],
             [
              0.6666666666666666,
              "#ed7953"
             ],
             [
              0.7777777777777778,
              "#fb9f3a"
             ],
             [
              0.8888888888888888,
              "#fdca26"
             ],
             [
              1,
              "#f0f921"
             ]
            ],
            "type": "surface"
           }
          ],
          "table": [
           {
            "cells": {
             "fill": {
              "color": "#EBF0F8"
             },
             "line": {
              "color": "white"
             }
            },
            "header": {
             "fill": {
              "color": "#C8D4E3"
             },
             "line": {
              "color": "white"
             }
            },
            "type": "table"
           }
          ]
         },
         "layout": {
          "annotationdefaults": {
           "arrowcolor": "#2a3f5f",
           "arrowhead": 0,
           "arrowwidth": 1
          },
          "coloraxis": {
           "colorbar": {
            "outlinewidth": 0,
            "ticks": ""
           }
          },
          "colorscale": {
           "diverging": [
            [
             0,
             "#8e0152"
            ],
            [
             0.1,
             "#c51b7d"
            ],
            [
             0.2,
             "#de77ae"
            ],
            [
             0.3,
             "#f1b6da"
            ],
            [
             0.4,
             "#fde0ef"
            ],
            [
             0.5,
             "#f7f7f7"
            ],
            [
             0.6,
             "#e6f5d0"
            ],
            [
             0.7,
             "#b8e186"
            ],
            [
             0.8,
             "#7fbc41"
            ],
            [
             0.9,
             "#4d9221"
            ],
            [
             1,
             "#276419"
            ]
           ],
           "sequential": [
            [
             0,
             "#0d0887"
            ],
            [
             0.1111111111111111,
             "#46039f"
            ],
            [
             0.2222222222222222,
             "#7201a8"
            ],
            [
             0.3333333333333333,
             "#9c179e"
            ],
            [
             0.4444444444444444,
             "#bd3786"
            ],
            [
             0.5555555555555556,
             "#d8576b"
            ],
            [
             0.6666666666666666,
             "#ed7953"
            ],
            [
             0.7777777777777778,
             "#fb9f3a"
            ],
            [
             0.8888888888888888,
             "#fdca26"
            ],
            [
             1,
             "#f0f921"
            ]
           ],
           "sequentialminus": [
            [
             0,
             "#0d0887"
            ],
            [
             0.1111111111111111,
             "#46039f"
            ],
            [
             0.2222222222222222,
             "#7201a8"
            ],
            [
             0.3333333333333333,
             "#9c179e"
            ],
            [
             0.4444444444444444,
             "#bd3786"
            ],
            [
             0.5555555555555556,
             "#d8576b"
            ],
            [
             0.6666666666666666,
             "#ed7953"
            ],
            [
             0.7777777777777778,
             "#fb9f3a"
            ],
            [
             0.8888888888888888,
             "#fdca26"
            ],
            [
             1,
             "#f0f921"
            ]
           ]
          },
          "colorway": [
           "#636efa",
           "#EF553B",
           "#00cc96",
           "#ab63fa",
           "#FFA15A",
           "#19d3f3",
           "#FF6692",
           "#B6E880",
           "#FF97FF",
           "#FECB52"
          ],
          "font": {
           "color": "#2a3f5f"
          },
          "geo": {
           "bgcolor": "white",
           "lakecolor": "white",
           "landcolor": "#E5ECF6",
           "showlakes": true,
           "showland": true,
           "subunitcolor": "white"
          },
          "hoverlabel": {
           "align": "left"
          },
          "hovermode": "closest",
          "mapbox": {
           "style": "light"
          },
          "paper_bgcolor": "white",
          "plot_bgcolor": "#E5ECF6",
          "polar": {
           "angularaxis": {
            "gridcolor": "white",
            "linecolor": "white",
            "ticks": ""
           },
           "bgcolor": "#E5ECF6",
           "radialaxis": {
            "gridcolor": "white",
            "linecolor": "white",
            "ticks": ""
           }
          },
          "scene": {
           "xaxis": {
            "backgroundcolor": "#E5ECF6",
            "gridcolor": "white",
            "gridwidth": 2,
            "linecolor": "white",
            "showbackground": true,
            "ticks": "",
            "zerolinecolor": "white"
           },
           "yaxis": {
            "backgroundcolor": "#E5ECF6",
            "gridcolor": "white",
            "gridwidth": 2,
            "linecolor": "white",
            "showbackground": true,
            "ticks": "",
            "zerolinecolor": "white"
           },
           "zaxis": {
            "backgroundcolor": "#E5ECF6",
            "gridcolor": "white",
            "gridwidth": 2,
            "linecolor": "white",
            "showbackground": true,
            "ticks": "",
            "zerolinecolor": "white"
           }
          },
          "shapedefaults": {
           "line": {
            "color": "#2a3f5f"
           }
          },
          "ternary": {
           "aaxis": {
            "gridcolor": "white",
            "linecolor": "white",
            "ticks": ""
           },
           "baxis": {
            "gridcolor": "white",
            "linecolor": "white",
            "ticks": ""
           },
           "bgcolor": "#E5ECF6",
           "caxis": {
            "gridcolor": "white",
            "linecolor": "white",
            "ticks": ""
           }
          },
          "title": {
           "x": 0.05
          },
          "xaxis": {
           "automargin": true,
           "gridcolor": "white",
           "linecolor": "white",
           "ticks": "",
           "title": {
            "standoff": 15
           },
           "zerolinecolor": "white",
           "zerolinewidth": 2
          },
          "yaxis": {
           "automargin": true,
           "gridcolor": "white",
           "linecolor": "white",
           "ticks": "",
           "title": {
            "standoff": 15
           },
           "zerolinecolor": "white",
           "zerolinewidth": 2
          }
         }
        },
        "title": {
         "text": "SIR model simulatie, $R_0=4.1$",
         "x": 0.5,
         "xanchor": "center"
        },
        "xaxis": {
         "title": {
          "text": "Date"
         }
        },
        "yaxis": {
         "title": {
          "text": "# of people/100"
         }
        }
       }
      },
      "text/html": [
       "<div>\n",
       "        \n",
       "        \n",
       "            <div id=\"aa2a467b-58e7-4492-9248-8604a015d400\" class=\"plotly-graph-div\" style=\"height:525px; width:100%;\"></div>\n",
       "            <script type=\"text/javascript\">\n",
       "                require([\"plotly\"], function(Plotly) {\n",
       "                    window.PLOTLYENV=window.PLOTLYENV || {};\n",
       "                    \n",
       "                if (document.getElementById(\"aa2a467b-58e7-4492-9248-8604a015d400\")) {\n",
       "                    Plotly.newPlot(\n",
       "                        'aa2a467b-58e7-4492-9248-8604a015d400',\n",
       "                        [{\"name\": \"Susceptible\", \"type\": \"scatter\", \"x\": [0.0, 1.0101010101010102, 2.0202020202020203, 3.0303030303030303, 4.040404040404041, 5.050505050505051, 6.0606060606060606, 7.070707070707071, 8.080808080808081, 9.090909090909092, 10.101010101010102, 11.111111111111112, 12.121212121212121, 13.131313131313131, 14.141414141414142, 15.151515151515152, 16.161616161616163, 17.171717171717173, 18.181818181818183, 19.191919191919194, 20.202020202020204, 21.212121212121215, 22.222222222222225, 23.232323232323235, 24.242424242424242, 25.252525252525253, 26.262626262626263, 27.272727272727273, 28.282828282828284, 29.292929292929294, 30.303030303030305, 31.313131313131315, 32.323232323232325, 33.333333333333336, 34.343434343434346, 35.35353535353536, 36.36363636363637, 37.37373737373738, 38.38383838383839, 39.3939393939394, 40.40404040404041, 41.41414141414142, 42.42424242424243, 43.43434343434344, 44.44444444444445, 45.45454545454546, 46.46464646464647, 47.47474747474748, 48.484848484848484, 49.494949494949495, 50.505050505050505, 51.515151515151516, 52.525252525252526, 53.535353535353536, 54.54545454545455, 55.55555555555556, 56.56565656565657, 57.57575757575758, 58.58585858585859, 59.5959595959596, 60.60606060606061, 61.61616161616162, 62.62626262626263, 63.63636363636364, 64.64646464646465, 65.65656565656566, 66.66666666666667, 67.67676767676768, 68.68686868686869, 69.6969696969697, 70.70707070707071, 71.71717171717172, 72.72727272727273, 73.73737373737374, 74.74747474747475, 75.75757575757576, 76.76767676767678, 77.77777777777779, 78.7878787878788, 79.7979797979798, 80.80808080808082, 81.81818181818183, 82.82828282828284, 83.83838383838385, 84.84848484848486, 85.85858585858587, 86.86868686868688, 87.87878787878789, 88.8888888888889, 89.89898989898991, 90.90909090909092, 91.91919191919193, 92.92929292929294, 93.93939393939395, 94.94949494949496, 95.95959595959597, 96.96969696969697, 97.97979797979798, 98.98989898989899, 100.0], \"y\": [3.9216236602278376, 3.921192081108256, 3.9206201066993533, 3.919862138875725, 3.9188578258650244, 3.9175273296910444, 3.9157651089534014, 3.9134317722435545, 3.910343447535521, 3.9062579825174044, 3.9008571614224454, 3.8937240126435344, 3.8843142453366015, 3.8719209797124323, 3.8556323894272917, 3.8342829054105474, 3.8064006263060555, 3.770157059317738, 3.7233308146173996, 3.6633047278539945, 3.587125466619795, 3.4916633441167764, 3.373911636978454, 3.2314489527157924, 3.063043560289906, 2.869302201413383, 2.6531777202587414, 2.4201028395997217, 2.1775753713128747, 1.9342026159402004, 1.6984445129080612, 1.477435235195937, 1.2762158924939597, 1.0975135470362722, 0.9419860727037334, 0.8087325518717112, 0.6958654277226606, 0.6010083165893386, 0.5216617159977673, 0.45543500617371246, 0.40017084377417184, 0.35399477252167555, 0.3153187964388907, 0.2828201031080204, 0.2554088018655793, 0.23219299006869995, 0.2124454437724646, 0.19557408404057378, 0.18109672228978393, 0.1686200910256918, 0.1578226778039028, 0.14844083117106782, 0.1402575849958795, 0.13309370441874518, 0.12680052197071776, 0.12125420608637485, 0.11635117163638212, 0.11200439827994195, 0.10814046983591369, 0.10469718673011215, 0.10162163447525598, 0.09886861578271361, 0.09639937331782192, 0.09418054541624865, 0.09218330929667486, 0.09038267441242674, 0.0887568996981443, 0.08728700863112406, 0.08595638584797258, 0.08475043975956169, 0.0836563194414897, 0.08266267624683403, 0.08175946232510553, 0.08093775991647352, 0.08018963544085744, 0.07950801607374441, 0.07888658301797959, 0.07831968014632412, 0.07780223545639019, 0.07732969281181097, 0.07689795289902425, 0.07650332191554061, 0.07614246678890256, 0.07581237595429877, 0.0755103250639042, 0.07523384668419798, 0.07498070372554846, 0.07474886598471275, 0.07453648933412231, 0.07434189708120059, 0.0741635637745942, 0.07400010036155238, 0.07385024123358952, 0.0737128324967353, 0.07358682147899817, 0.07347124738492777, 0.07336523277292044, 0.07326797601713414, 0.07317874441511553, 0.0730968679772794]}, {\"name\": \"Infected\", \"type\": \"scatter\", \"x\": [0.0, 1.0101010101010102, 2.0202020202020203, 3.0303030303030303, 4.040404040404041, 5.050505050505051, 6.0606060606060606, 7.070707070707071, 8.080808080808081, 9.090909090909092, 10.101010101010102, 11.111111111111112, 12.121212121212121, 13.131313131313131, 14.141414141414142, 15.151515151515152, 16.161616161616163, 17.171717171717173, 18.181818181818183, 19.191919191919194, 20.202020202020204, 21.212121212121215, 22.222222222222225, 23.232323232323235, 24.242424242424242, 25.252525252525253, 26.262626262626263, 27.272727272727273, 28.282828282828284, 29.292929292929294, 30.303030303030305, 31.313131313131315, 32.323232323232325, 33.333333333333336, 34.343434343434346, 35.35353535353536, 36.36363636363637, 37.37373737373738, 38.38383838383839, 39.3939393939394, 40.40404040404041, 41.41414141414142, 42.42424242424243, 43.43434343434344, 44.44444444444445, 45.45454545454546, 46.46464646464647, 47.47474747474748, 48.484848484848484, 49.494949494949495, 50.505050505050505, 51.515151515151516, 52.525252525252526, 53.535353535353536, 54.54545454545455, 55.55555555555556, 56.56565656565657, 57.57575757575758, 58.58585858585859, 59.5959595959596, 60.60606060606061, 61.61616161616162, 62.62626262626263, 63.63636363636364, 64.64646464646465, 65.65656565656566, 66.66666666666667, 67.67676767676768, 68.68686868686869, 69.6969696969697, 70.70707070707071, 71.71717171717172, 72.72727272727273, 73.73737373737374, 74.74747474747475, 75.75757575757576, 76.76767676767678, 77.77777777777779, 78.7878787878788, 79.7979797979798, 80.80808080808082, 81.81818181818183, 82.82828282828284, 83.83838383838385, 84.84848484848486, 85.85858585858587, 86.86868686868688, 87.87878787878789, 88.8888888888889, 89.89898989898991, 90.90909090909092, 91.91919191919193, 92.92929292929294, 93.93939393939395, 94.94949494949496, 95.95959595959597, 96.96969696969697, 97.97979797979798, 98.98989898989899, 100.0], \"y\": [0.001, 0.0013255071474563755, 0.0017568857417668796, 0.002328507500336562, 0.003085855077243556, 0.0040890783156457035, 0.00541766018122328, 0.007176520157627745, 0.009503960176876472, 0.012581946666843898, 0.016649303109600787, 0.022018442662732073, 0.02909624905247631, 0.03840953817402443, 0.05063505784594071, 0.06663299685820871, 0.08748114867481958, 0.11450378941946755, 0.14928457914898957, 0.19364621601766913, 0.24957192607389778, 0.3190378006994658, 0.4037262924350171, 0.5046090075586035, 0.62143085910662, 0.7521980273145656, 0.8928473680896525, 1.0373036934565294, 1.178056911900305, 1.3072043257056667, 1.4176868294565341, 1.504338828630359, 1.5644514109880943, 1.5977640023855517, 1.6060128533550433, 1.5922670462369974, 1.5602650489168959, 1.5138811950007542, 1.456765368229123, 1.3921419314870778, 1.3227288723046433, 1.2507352611318194, 1.1779027368543415, 1.1055669682289546, 1.034724148825225, 0.9660941413102738, 0.9001765483349987, 0.8372982039128313, 0.7776524451801654, 0.7213308217845436, 0.6683484054672599, 0.6186637519437965, 0.5721945223499622, 0.5288296076584574, 0.4884384886419121, 0.45087840484581565, 0.41599980668287345, 0.3836504627136354, 0.35367851901094227, 0.3259347435433516, 0.30027413865328784, 0.27655706523479734, 0.25464999104663755, 0.23442595116293494, 0.21576478905326182, 0.1985532338683585, 0.18268485167519152, 0.16805990867238543, 0.1545851681517818, 0.14217364234516458, 0.13074431432465167, 0.12022184162732302, 0.11053625060960001, 0.10162262826689494, 0.0934208177318095, 0.0858751183785805, 0.07893399690020754, 0.07254980891626928, 0.06667853262238008, 0.061279516152814566, 0.05631523824461687, 0.0517510825844185, 0.04755512562084792, 0.04369793777522765, 0.04015239736427357, 0.03689351701818468, 0.03389828180278362, 0.031145498503176206, 0.028615655748102015, 0.026290794133797434, 0.02415438564845122, 0.022191222130355452, 0.020387311897739773, 0.018729784217922336, 0.01720680093293992, 0.015807474866175626, 0.014521794401247205, 0.013340553989904906, 0.01225528994953683, 0.011258221233663972]}, {\"name\": \"Recovered with immunity\", \"type\": \"scatter\", \"x\": [0.0, 1.0101010101010102, 2.0202020202020203, 3.0303030303030303, 4.040404040404041, 5.050505050505051, 6.0606060606060606, 7.070707070707071, 8.080808080808081, 9.090909090909092, 10.101010101010102, 11.111111111111112, 12.121212121212121, 13.131313131313131, 14.141414141414142, 15.151515151515152, 16.161616161616163, 17.171717171717173, 18.181818181818183, 19.191919191919194, 20.202020202020204, 21.212121212121215, 22.222222222222225, 23.232323232323235, 24.242424242424242, 25.252525252525253, 26.262626262626263, 27.272727272727273, 28.282828282828284, 29.292929292929294, 30.303030303030305, 31.313131313131315, 32.323232323232325, 33.333333333333336, 34.343434343434346, 35.35353535353536, 36.36363636363637, 37.37373737373738, 38.38383838383839, 39.3939393939394, 40.40404040404041, 41.41414141414142, 42.42424242424243, 43.43434343434344, 44.44444444444445, 45.45454545454546, 46.46464646464647, 47.47474747474748, 48.484848484848484, 49.494949494949495, 50.505050505050505, 51.515151515151516, 52.525252525252526, 53.535353535353536, 54.54545454545455, 55.55555555555556, 56.56565656565657, 57.57575757575758, 58.58585858585859, 59.5959595959596, 60.60606060606061, 61.61616161616162, 62.62626262626263, 63.63636363636364, 64.64646464646465, 65.65656565656566, 66.66666666666667, 67.67676767676768, 68.68686868686869, 69.6969696969697, 70.70707070707071, 71.71717171717172, 72.72727272727273, 73.73737373737374, 74.74747474747475, 75.75757575757576, 76.76767676767678, 77.77777777777779, 78.7878787878788, 79.7979797979798, 80.80808080808082, 81.81818181818183, 82.82828282828284, 83.83838383838385, 84.84848484848486, 85.85858585858587, 86.86868686868688, 87.87878787878789, 88.8888888888889, 89.89898989898991, 90.90909090909092, 91.91919191919193, 92.92929292929294, 93.93939393939395, 94.94949494949496, 95.95959595959597, 96.96969696969697, 97.97979797979798, 98.98989898989899, 100.0], \"y\": [0.0, 0.00010607197212590264, 0.00024666778671794903, 0.0004330138517777848, 0.0006799792855704071, 0.0010072522211475024, 0.0014408910932125986, 0.002015367826655119, 0.002776252515439316, 0.0037837310435886343, 0.005117195695790311, 0.006881204921570048, 0.00921316583875894, 0.012293142341380136, 0.01635621295460422, 0.021707757959081142, 0.028741885246962414, 0.037962811490631916, 0.05000826646144882, 0.06567271635617458, 0.08592626753414509, 0.11192251541159569, 0.1449857308143664, 0.18656569995344122, 0.23814924083131128, 0.30112343149988857, 0.3765985718794435, 0.46521712717158636, 0.5669913770146581, 0.6812167185819704, 0.8064923178632419, 0.9408495964015413, 1.0819563567457835, 1.2273461108060135, 1.3746247341690607, 1.5216240621191284, 1.6664931835882808, 1.8077341486377443, 1.9441965760009465, 2.0750467225670475, 2.199723944149022, 2.317893626574343, 2.4294021269346056, 2.5342365888908627, 2.632490709537034, 2.724336528848864, 2.8100016681203743, 2.8897513722744326, 2.9638744927578884, 3.0326727474176023, 3.096452576956675, 3.1555190771129733, 3.2101715528819956, 3.2607003481506345, 3.307384649615207, 3.350491049295646, 3.390272681908581, 3.426968799234259, 3.4608046713809806, 3.491991729954372, 3.520727887099292, 3.5471979792103254, 3.571574295863377, 3.594017163648652, 3.614675561877899, 3.6336877519470505, 3.6511819088545, 3.667276742924326, 3.6820821062280813, 3.695699578123109, 3.708223026461694, 3.7197391423536783, 3.7303279472931306, 3.7400632720444675, 3.749013207055169, 3.7572405257755115, 3.764803080309649, 3.771754171165243, 3.778142892149066, 3.7840144512632103, 3.789410469084195, 3.794369255727877, 3.798926067818085, 3.8031133464983093, 3.806960937799658, 3.8104962965254527, 3.813744674699503, 3.8167292957399463, 3.819471515145611, 3.8219909690128375, 3.82430571080479, 3.8264323377359277, 3.828386107096507, 3.8301810435131785, 3.831830037815898, 3.8333449379767326, 3.8347366330536685, 3.836015130220797, 3.8371896258631835, 3.838268571016893]}, {\"name\": \"# Deaths per day\", \"type\": \"bar\", \"x\": [0.0, 1.0, 2.0, 3.0, 4.0, 5.0, 6.0, 7.0, 8.0, 9.0, 10.0, 11.0, 12.0, 13.0, 14.0, 15.0, 16.0, 17.0, 18.0, 19.0, 20.0, 21.0, 22.0, 23.0, 24.0, 25.0, 26.0, 27.0, 28.0, 29.0, 30.0, 31.0, 32.0, 33.0, 34.0, 35.0, 36.0, 37.0, 38.0, 39.0, 40.0, 41.0, 42.0, 43.0, 44.0, 45.0, 46.0, 47.0, 48.0, 49.0], \"y\": [0.0, 0.0, 0.0, 0.0, 0.0, 0.0, 0.0, 0.0, 0.01, 0.01, 0.02, 0.01, 0.01, 0.02, 0.03, 0.06, 0.1, 0.14, 0.23, 0.22, 0.2, 0.43, 0.55, 0.62, 0.6, 0.86, 0.74, 1.1, 1.24, 1.06, 1.48, 1.19, 1.49, 1.63, 1.53, 1.62, 1.54, 1.52, 1.44, 1.47, 1.37, 1.36, 0.98, 1.29, 1.24, 1.21, 1.01, 1.02, 0.35, 0.04]}],\n",
       "                        {\"barmode\": \"stack\", \"font\": {\"size\": 12}, \"legend\": {\"x\": 0.05, \"y\": 0.95}, \"template\": {\"data\": {\"bar\": [{\"error_x\": {\"color\": \"#2a3f5f\"}, \"error_y\": {\"color\": \"#2a3f5f\"}, \"marker\": {\"line\": {\"color\": \"#E5ECF6\", \"width\": 0.5}}, \"type\": \"bar\"}], \"barpolar\": [{\"marker\": {\"line\": {\"color\": \"#E5ECF6\", \"width\": 0.5}}, \"type\": \"barpolar\"}], \"carpet\": [{\"aaxis\": {\"endlinecolor\": \"#2a3f5f\", \"gridcolor\": \"white\", \"linecolor\": \"white\", \"minorgridcolor\": \"white\", \"startlinecolor\": \"#2a3f5f\"}, \"baxis\": {\"endlinecolor\": \"#2a3f5f\", \"gridcolor\": \"white\", \"linecolor\": \"white\", \"minorgridcolor\": \"white\", \"startlinecolor\": \"#2a3f5f\"}, \"type\": \"carpet\"}], \"choropleth\": [{\"colorbar\": {\"outlinewidth\": 0, \"ticks\": \"\"}, \"type\": \"choropleth\"}], \"contour\": [{\"colorbar\": {\"outlinewidth\": 0, \"ticks\": \"\"}, \"colorscale\": [[0.0, \"#0d0887\"], [0.1111111111111111, \"#46039f\"], [0.2222222222222222, \"#7201a8\"], [0.3333333333333333, \"#9c179e\"], [0.4444444444444444, \"#bd3786\"], [0.5555555555555556, \"#d8576b\"], [0.6666666666666666, \"#ed7953\"], [0.7777777777777778, \"#fb9f3a\"], [0.8888888888888888, \"#fdca26\"], [1.0, \"#f0f921\"]], \"type\": \"contour\"}], \"contourcarpet\": [{\"colorbar\": {\"outlinewidth\": 0, \"ticks\": \"\"}, \"type\": \"contourcarpet\"}], \"heatmap\": [{\"colorbar\": {\"outlinewidth\": 0, \"ticks\": \"\"}, \"colorscale\": [[0.0, \"#0d0887\"], [0.1111111111111111, \"#46039f\"], [0.2222222222222222, \"#7201a8\"], [0.3333333333333333, \"#9c179e\"], [0.4444444444444444, \"#bd3786\"], [0.5555555555555556, \"#d8576b\"], [0.6666666666666666, \"#ed7953\"], [0.7777777777777778, \"#fb9f3a\"], [0.8888888888888888, \"#fdca26\"], [1.0, \"#f0f921\"]], \"type\": \"heatmap\"}], \"heatmapgl\": [{\"colorbar\": {\"outlinewidth\": 0, \"ticks\": \"\"}, \"colorscale\": [[0.0, \"#0d0887\"], [0.1111111111111111, \"#46039f\"], [0.2222222222222222, \"#7201a8\"], [0.3333333333333333, \"#9c179e\"], [0.4444444444444444, \"#bd3786\"], [0.5555555555555556, \"#d8576b\"], [0.6666666666666666, \"#ed7953\"], [0.7777777777777778, \"#fb9f3a\"], [0.8888888888888888, \"#fdca26\"], [1.0, \"#f0f921\"]], \"type\": \"heatmapgl\"}], \"histogram\": [{\"marker\": {\"colorbar\": {\"outlinewidth\": 0, \"ticks\": \"\"}}, \"type\": \"histogram\"}], \"histogram2d\": [{\"colorbar\": {\"outlinewidth\": 0, \"ticks\": \"\"}, \"colorscale\": [[0.0, \"#0d0887\"], [0.1111111111111111, \"#46039f\"], [0.2222222222222222, \"#7201a8\"], [0.3333333333333333, \"#9c179e\"], [0.4444444444444444, \"#bd3786\"], [0.5555555555555556, \"#d8576b\"], [0.6666666666666666, \"#ed7953\"], [0.7777777777777778, \"#fb9f3a\"], [0.8888888888888888, \"#fdca26\"], [1.0, \"#f0f921\"]], \"type\": \"histogram2d\"}], \"histogram2dcontour\": [{\"colorbar\": {\"outlinewidth\": 0, \"ticks\": \"\"}, \"colorscale\": [[0.0, \"#0d0887\"], [0.1111111111111111, \"#46039f\"], [0.2222222222222222, \"#7201a8\"], [0.3333333333333333, \"#9c179e\"], [0.4444444444444444, \"#bd3786\"], [0.5555555555555556, \"#d8576b\"], [0.6666666666666666, \"#ed7953\"], [0.7777777777777778, \"#fb9f3a\"], [0.8888888888888888, \"#fdca26\"], [1.0, \"#f0f921\"]], \"type\": \"histogram2dcontour\"}], \"mesh3d\": [{\"colorbar\": {\"outlinewidth\": 0, \"ticks\": \"\"}, \"type\": \"mesh3d\"}], \"parcoords\": [{\"line\": {\"colorbar\": {\"outlinewidth\": 0, \"ticks\": \"\"}}, \"type\": \"parcoords\"}], \"pie\": [{\"automargin\": true, \"type\": \"pie\"}], \"scatter\": [{\"marker\": {\"colorbar\": {\"outlinewidth\": 0, \"ticks\": \"\"}}, \"type\": \"scatter\"}], \"scatter3d\": [{\"line\": {\"colorbar\": {\"outlinewidth\": 0, \"ticks\": \"\"}}, \"marker\": {\"colorbar\": {\"outlinewidth\": 0, \"ticks\": \"\"}}, \"type\": \"scatter3d\"}], \"scattercarpet\": [{\"marker\": {\"colorbar\": {\"outlinewidth\": 0, \"ticks\": \"\"}}, \"type\": \"scattercarpet\"}], \"scattergeo\": [{\"marker\": {\"colorbar\": {\"outlinewidth\": 0, \"ticks\": \"\"}}, \"type\": \"scattergeo\"}], \"scattergl\": [{\"marker\": {\"colorbar\": {\"outlinewidth\": 0, \"ticks\": \"\"}}, \"type\": \"scattergl\"}], \"scattermapbox\": [{\"marker\": {\"colorbar\": {\"outlinewidth\": 0, \"ticks\": \"\"}}, \"type\": \"scattermapbox\"}], \"scatterpolar\": [{\"marker\": {\"colorbar\": {\"outlinewidth\": 0, \"ticks\": \"\"}}, \"type\": \"scatterpolar\"}], \"scatterpolargl\": [{\"marker\": {\"colorbar\": {\"outlinewidth\": 0, \"ticks\": \"\"}}, \"type\": \"scatterpolargl\"}], \"scatterternary\": [{\"marker\": {\"colorbar\": {\"outlinewidth\": 0, \"ticks\": \"\"}}, \"type\": \"scatterternary\"}], \"surface\": [{\"colorbar\": {\"outlinewidth\": 0, \"ticks\": \"\"}, \"colorscale\": [[0.0, \"#0d0887\"], [0.1111111111111111, \"#46039f\"], [0.2222222222222222, \"#7201a8\"], [0.3333333333333333, \"#9c179e\"], [0.4444444444444444, \"#bd3786\"], [0.5555555555555556, \"#d8576b\"], [0.6666666666666666, \"#ed7953\"], [0.7777777777777778, \"#fb9f3a\"], [0.8888888888888888, \"#fdca26\"], [1.0, \"#f0f921\"]], \"type\": \"surface\"}], \"table\": [{\"cells\": {\"fill\": {\"color\": \"#EBF0F8\"}, \"line\": {\"color\": \"white\"}}, \"header\": {\"fill\": {\"color\": \"#C8D4E3\"}, \"line\": {\"color\": \"white\"}}, \"type\": \"table\"}]}, \"layout\": {\"annotationdefaults\": {\"arrowcolor\": \"#2a3f5f\", \"arrowhead\": 0, \"arrowwidth\": 1}, \"coloraxis\": {\"colorbar\": {\"outlinewidth\": 0, \"ticks\": \"\"}}, \"colorscale\": {\"diverging\": [[0, \"#8e0152\"], [0.1, \"#c51b7d\"], [0.2, \"#de77ae\"], [0.3, \"#f1b6da\"], [0.4, \"#fde0ef\"], [0.5, \"#f7f7f7\"], [0.6, \"#e6f5d0\"], [0.7, \"#b8e186\"], [0.8, \"#7fbc41\"], [0.9, \"#4d9221\"], [1, \"#276419\"]], \"sequential\": [[0.0, \"#0d0887\"], [0.1111111111111111, \"#46039f\"], [0.2222222222222222, \"#7201a8\"], [0.3333333333333333, \"#9c179e\"], [0.4444444444444444, \"#bd3786\"], [0.5555555555555556, \"#d8576b\"], [0.6666666666666666, \"#ed7953\"], [0.7777777777777778, \"#fb9f3a\"], [0.8888888888888888, \"#fdca26\"], [1.0, \"#f0f921\"]], \"sequentialminus\": [[0.0, \"#0d0887\"], [0.1111111111111111, \"#46039f\"], [0.2222222222222222, \"#7201a8\"], [0.3333333333333333, \"#9c179e\"], [0.4444444444444444, \"#bd3786\"], [0.5555555555555556, \"#d8576b\"], [0.6666666666666666, \"#ed7953\"], [0.7777777777777778, \"#fb9f3a\"], [0.8888888888888888, \"#fdca26\"], [1.0, \"#f0f921\"]]}, \"colorway\": [\"#636efa\", \"#EF553B\", \"#00cc96\", \"#ab63fa\", \"#FFA15A\", \"#19d3f3\", \"#FF6692\", \"#B6E880\", \"#FF97FF\", \"#FECB52\"], \"font\": {\"color\": \"#2a3f5f\"}, \"geo\": {\"bgcolor\": \"white\", \"lakecolor\": \"white\", \"landcolor\": \"#E5ECF6\", \"showlakes\": true, \"showland\": true, \"subunitcolor\": \"white\"}, \"hoverlabel\": {\"align\": \"left\"}, \"hovermode\": \"closest\", \"mapbox\": {\"style\": \"light\"}, \"paper_bgcolor\": \"white\", \"plot_bgcolor\": \"#E5ECF6\", \"polar\": {\"angularaxis\": {\"gridcolor\": \"white\", \"linecolor\": \"white\", \"ticks\": \"\"}, \"bgcolor\": \"#E5ECF6\", \"radialaxis\": {\"gridcolor\": \"white\", \"linecolor\": \"white\", \"ticks\": \"\"}}, \"scene\": {\"xaxis\": {\"backgroundcolor\": \"#E5ECF6\", \"gridcolor\": \"white\", \"gridwidth\": 2, \"linecolor\": \"white\", \"showbackground\": true, \"ticks\": \"\", \"zerolinecolor\": \"white\"}, \"yaxis\": {\"backgroundcolor\": \"#E5ECF6\", \"gridcolor\": \"white\", \"gridwidth\": 2, \"linecolor\": \"white\", \"showbackground\": true, \"ticks\": \"\", \"zerolinecolor\": \"white\"}, \"zaxis\": {\"backgroundcolor\": \"#E5ECF6\", \"gridcolor\": \"white\", \"gridwidth\": 2, \"linecolor\": \"white\", \"showbackground\": true, \"ticks\": \"\", \"zerolinecolor\": \"white\"}}, \"shapedefaults\": {\"line\": {\"color\": \"#2a3f5f\"}}, \"ternary\": {\"aaxis\": {\"gridcolor\": \"white\", \"linecolor\": \"white\", \"ticks\": \"\"}, \"baxis\": {\"gridcolor\": \"white\", \"linecolor\": \"white\", \"ticks\": \"\"}, \"bgcolor\": \"#E5ECF6\", \"caxis\": {\"gridcolor\": \"white\", \"linecolor\": \"white\", \"ticks\": \"\"}}, \"title\": {\"x\": 0.05}, \"xaxis\": {\"automargin\": true, \"gridcolor\": \"white\", \"linecolor\": \"white\", \"ticks\": \"\", \"title\": {\"standoff\": 15}, \"zerolinecolor\": \"white\", \"zerolinewidth\": 2}, \"yaxis\": {\"automargin\": true, \"gridcolor\": \"white\", \"linecolor\": \"white\", \"ticks\": \"\", \"title\": {\"standoff\": 15}, \"zerolinecolor\": \"white\", \"zerolinewidth\": 2}}}, \"title\": {\"text\": \"SIR model simulatie, $R_0=4.1$\", \"x\": 0.5, \"xanchor\": \"center\"}, \"xaxis\": {\"title\": {\"text\": \"Date\"}}, \"yaxis\": {\"title\": {\"text\": \"# of people/100\"}}},\n",
       "                        {\"responsive\": true}\n",
       "                    ).then(function(){\n",
       "                            \n",
       "var gd = document.getElementById('aa2a467b-58e7-4492-9248-8604a015d400');\n",
       "var x = new MutationObserver(function (mutations, observer) {{\n",
       "        var display = window.getComputedStyle(gd).display;\n",
       "        if (!display || display === 'none') {{\n",
       "            console.log([gd, 'removed!']);\n",
       "            Plotly.purge(gd);\n",
       "            observer.disconnect();\n",
       "        }}\n",
       "}});\n",
       "\n",
       "// Listen for the removal of the full notebook cells\n",
       "var notebookContainer = gd.closest('#notebook-container');\n",
       "if (notebookContainer) {{\n",
       "    x.observe(notebookContainer, {childList: true});\n",
       "}}\n",
       "\n",
       "// Listen for the clearing of the current output cell\n",
       "var outputEl = gd.closest('.output');\n",
       "if (outputEl) {{\n",
       "    x.observe(outputEl, {childList: true});\n",
       "}}\n",
       "\n",
       "                        })\n",
       "                };\n",
       "                });\n",
       "            </script>\n",
       "        </div>"
      ]
     },
     "metadata": {},
     "output_type": "display_data"
    }
   ],
   "source": [
    "import numpy as np\n",
    "from scipy.integrate import odeint\n",
    "import matplotlib.pyplot as plt\n",
    "%matplotlib notebook\n",
    "\n",
    "y=df_deaths['oud']+df_deaths['nieuw']\n",
    "l=len(y)\n",
    "x=np.arange(0, l,1, float)\n",
    "# Total population, N.\n",
    "N = M\n",
    "# Initial number of infected and recovered individuals, I0 and R0.\n",
    "I0, R0 = 1, 0\n",
    "# Everyone else, S0, is susceptible to infection initially.\n",
    "S0 = N - I0 - R0\n",
    "# Contact rate, beta, and mean recovery rate, gamma, (in 1/days).\n",
    "beta, gamma = 0.37, 1./11\n",
    "# A grid of time points (in days)\n",
    "t = np.linspace(0, 100, 100)\n",
    "\n",
    "# The SIR model differential equations.\n",
    "def deriv(y, t, N, beta, gamma):\n",
    "    S, I, R = y\n",
    "    dSdt = -beta * S * I / N\n",
    "    dIdt = beta * S * I / N - gamma * I\n",
    "    dRdt = gamma * I\n",
    "    return dSdt, dIdt, dRdt\n",
    "\n",
    "# Initial conditions vector\n",
    "y0 = S0, I0, R0\n",
    "# Integrate the SIR equations over the time grid, t.\n",
    "ret = odeint(deriv, y0, t, args=(N, beta, gamma))\n",
    "S, I, R = ret.T\n",
    "\n",
    "# Plot the data on three separate curves for S(t), I(t) and R(t)\n",
    "fig = plt.figure(facecolor='w')\n",
    "ax = fig.add_subplot(111,  axisbelow=True)\n",
    "ax.plot(t, S/1000, 'b', alpha=0.5, lw=2, label='Susceptible')\n",
    "ax.plot(t, I/1000, 'r', alpha=0.5, lw=2, label='Infected')\n",
    "ax.plot(t, R/1000, 'g', alpha=0.5, lw=2, label='Recovered with immunity')\n",
    "ax.plot(x,y/100)\n",
    "ax.set_xlabel('tijd in dagen')\n",
    "ax.set_ylabel('Aantal (x100)')\n",
    "#ax.set_ylim(0,3)\n",
    "ax.yaxis.set_tick_params(length=0)\n",
    "ax.xaxis.set_tick_params(length=0)\n",
    "plt.title(\"SIR model simulatie, $R_0=%.1f$\"%(beta/gamma))\n",
    "ax.grid(b=True, which='major', c='w', lw=2, ls='-')\n",
    "legend = ax.legend()\n",
    "legend.get_frame().set_alpha(0.5)\n",
    "for spine in ('top', 'right', 'bottom', 'left'):\n",
    "    ax.spines[spine].set_visible(False)\n",
    "\n",
    "plt.show()\n",
    "\n",
    "\n",
    "fig = go.Figure()\n",
    "fig.add_trace(go.Scatter(x=t, y=S/1000,name=\"Susceptible\"))\n",
    "fig.add_trace(go.Scatter(x=t,y=I/1000,name=\"Infected\"))\n",
    "fig.add_trace(go.Scatter(x=t,y=R/1000,name=\"Recovered with immunity\"))\n",
    "fig.add_trace(go.Bar(x=x,y=y/100,name=\"# Deaths per day\"))\n",
    "\n",
    "\n",
    "title=\"Deaths per day\"\n",
    "title=\"SIR model simulatie, $R_0=%.1f$\"%(beta/gamma)\n",
    "yaxis_title=\"# of people/100\"\n",
    "fig.update_layout(#yaxis_type=\"log\",\n",
    "                  title=title,\n",
    "                  title_xanchor=\"center\",\n",
    "                  title_x=0.5,\n",
    "                  xaxis_title=\"Date\",\n",
    "                  yaxis_title=yaxis_title,\n",
    "                  legend_x=0.05,\n",
    "                  legend_y=0.95,\n",
    "                  font_size=12,\n",
    "                    barmode='stack'\n",
    ")\n",
    "fig.show()"
   ]
  },
  {
   "cell_type": "code",
   "execution_count": 16,
   "metadata": {},
   "outputs": [
    {
     "data": {
      "text/plain": [
       "array([  0.        ,   1.00628931,   2.01257862,   3.01886792,\n",
       "         4.02515723,   5.03144654,   6.03773585,   7.04402516,\n",
       "         8.05031447,   9.05660377,  10.06289308,  11.06918239,\n",
       "        12.0754717 ,  13.08176101,  14.08805031,  15.09433962,\n",
       "        16.10062893,  17.10691824,  18.11320755,  19.11949686,\n",
       "        20.12578616,  21.13207547,  22.13836478,  23.14465409,\n",
       "        24.1509434 ,  25.1572327 ,  26.16352201,  27.16981132,\n",
       "        28.17610063,  29.18238994,  30.18867925,  31.19496855,\n",
       "        32.20125786,  33.20754717,  34.21383648,  35.22012579,\n",
       "        36.22641509,  37.2327044 ,  38.23899371,  39.24528302,\n",
       "        40.25157233,  41.25786164,  42.26415094,  43.27044025,\n",
       "        44.27672956,  45.28301887,  46.28930818,  47.29559748,\n",
       "        48.30188679,  49.3081761 ,  50.31446541,  51.32075472,\n",
       "        52.32704403,  53.33333333,  54.33962264,  55.34591195,\n",
       "        56.35220126,  57.35849057,  58.36477987,  59.37106918,\n",
       "        60.37735849,  61.3836478 ,  62.38993711,  63.39622642,\n",
       "        64.40251572,  65.40880503,  66.41509434,  67.42138365,\n",
       "        68.42767296,  69.43396226,  70.44025157,  71.44654088,\n",
       "        72.45283019,  73.4591195 ,  74.46540881,  75.47169811,\n",
       "        76.47798742,  77.48427673,  78.49056604,  79.49685535,\n",
       "        80.50314465,  81.50943396,  82.51572327,  83.52201258,\n",
       "        84.52830189,  85.53459119,  86.5408805 ,  87.54716981,\n",
       "        88.55345912,  89.55974843,  90.56603774,  91.57232704,\n",
       "        92.57861635,  93.58490566,  94.59119497,  95.59748428,\n",
       "        96.60377358,  97.61006289,  98.6163522 ,  99.62264151,\n",
       "       100.62893082, 101.63522013, 102.64150943, 103.64779874,\n",
       "       104.65408805, 105.66037736, 106.66666667, 107.67295597,\n",
       "       108.67924528, 109.68553459, 110.6918239 , 111.69811321,\n",
       "       112.70440252, 113.71069182, 114.71698113, 115.72327044,\n",
       "       116.72955975, 117.73584906, 118.74213836, 119.74842767,\n",
       "       120.75471698, 121.76100629, 122.7672956 , 123.77358491,\n",
       "       124.77987421, 125.78616352, 126.79245283, 127.79874214,\n",
       "       128.80503145, 129.81132075, 130.81761006, 131.82389937,\n",
       "       132.83018868, 133.83647799, 134.8427673 , 135.8490566 ,\n",
       "       136.85534591, 137.86163522, 138.86792453, 139.87421384,\n",
       "       140.88050314, 141.88679245, 142.89308176, 143.89937107,\n",
       "       144.90566038, 145.91194969, 146.91823899, 147.9245283 ,\n",
       "       148.93081761, 149.93710692, 150.94339623, 151.94968553,\n",
       "       152.95597484, 153.96226415, 154.96855346, 155.97484277,\n",
       "       156.98113208, 157.98742138, 158.99371069, 160.        ])"
      ]
     },
     "execution_count": 16,
     "metadata": {},
     "output_type": "execute_result"
    }
   ],
   "source": [
    "t"
   ]
  },
  {
   "cell_type": "code",
   "execution_count": 17,
   "metadata": {},
   "outputs": [
    {
     "data": {
      "text/plain": [
       "array([ 0.,  1.,  2.,  3.,  4.,  5.,  6.,  7.,  8.,  9., 10., 11., 12.,\n",
       "       13., 14., 15., 16., 17., 18., 19., 20., 21., 22., 23., 24., 25.,\n",
       "       26., 27., 28., 29., 30., 31., 32., 33., 34., 35., 36., 37., 38.,\n",
       "       39., 40., 41., 42., 43., 44., 45., 46., 47., 48., 49.])"
      ]
     },
     "execution_count": 17,
     "metadata": {},
     "output_type": "execute_result"
    }
   ],
   "source": [
    "x"
   ]
  },
  {
   "cell_type": "code",
   "execution_count": null,
   "metadata": {},
   "outputs": [],
   "source": []
  }
 ],
 "metadata": {
  "kernelspec": {
   "display_name": "Python 3",
   "language": "python",
   "name": "python3"
  },
  "language_info": {
   "codemirror_mode": {
    "name": "ipython",
    "version": 3
   },
   "file_extension": ".py",
   "mimetype": "text/x-python",
   "name": "python",
   "nbconvert_exporter": "python",
   "pygments_lexer": "ipython3",
   "version": "3.7.3"
  }
 },
 "nbformat": 4,
 "nbformat_minor": 4
}
